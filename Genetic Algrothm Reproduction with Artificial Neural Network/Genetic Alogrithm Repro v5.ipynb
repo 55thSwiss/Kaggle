{
 "cells": [
  {
   "cell_type": "markdown",
   "metadata": {},
   "source": [
    "##  Reproducing Genetic Algorithm Generated CNC Cutting Parameters with a Neural Network\n",
    "\n",
    "### Introduction\n",
    "\n",
    "This notebook aims to reproduce the output data of *Multi-Objective Optimization of Turning Process during Machining of AlMg1SiCu (Aluminum) Using Non-Dominated Sorted Genetic Algorithm* by Rahul Dhabalea, VijayKumar S. Jattib, and T.P.Singhc. The study used a genetic algorithm (GA) to generate novel cutting parameters and predict material removal rate & surface roughness. The study can be found [here](https://www.sciencedirect.com/science/article/pii/S2211812814005318) for further reading but some explanation will follow, mainly concerning the differences between goals and the methodology used in creating the artificial neural network (ANN).\n",
    "\n",
    "### Background\n",
    "\n",
    "The GA used twenty-seven rows of input data that are a series of test cuts where a CNC machine tool was set to turn a constant diameter with a range of spindle speeds (rpm), feed rates (mm/rev), and depths of cut(mm). The results of each test cut take the form of a calculated material remove rate (mm$^3$/min) and surface roughness (μm) measurement. Their goal was to have the GA produce cutting conditions and results which maximized material removal rate and minimized surface roughness. These two outputs are conflicting in nature and so result in one ideal output for each scenario. In total the GA generated and ranked sixteen suggestions. Five of the sixteen results were chosen for validation of the GA results and tested on the CNC machine. The results had an average of less than five percent error from the forecast. \n",
    "\n",
    "### This Notebook\n",
    "\n",
    "The major difference between the study and this notebook, besides the algorithm used, is in the prediction method. The ANN will be designed to accept a desired surface roughness as an input, and generate the spindle speed, feed rate, and depth of cut as outputs. The initial twenty-seven rows of cutting data will be used for training the neural network, while the five rows used for validation in the study will be split for the neural network into four rows of validation data and one row for testing the prediction of the final model. The four rows used for validation will be the real world cutting data from thte study, not the predicted values. The single row kept for testing the final model will have the lowest surface roughness value in the entire dataset. This makes for a more realistic test of the neaural network because an end user would likely be requesting CNC cutting parameters that result in better surface roughness meaurements than achieved when collecting the data. This input data will be outside anything the neaural network has been trained on which makes for a more difficult prediction. \n",
    "\n",
    "### Details\n",
    "\n",
    "Usually a dataset's features very widely between magnitude, units, and range. For this reason, it's important to scale the data because most machine learning models recognize patterns using Euclidian distance between any two points. There are many ways to scale data but, in this notebook, the Standard method in the Scikit-Learn library will be applied. In the initial tests the MinMax scaler was also used, with both scaled data sets used with the Talos package to tune the hyperparameters of the neural network. The best results of each were applied to the Keras model for final results on the validation data. It was found for this problem the Standard scaler far surpassed the MinMax scaler, so it has been removed from the notebook. The material removal rate data, although having a higher linear correlation to the three outputs, was causing a worse model prediction when included and was dropped from the data before training. This is a simple calculated field from the three outputs so there is no need in \"predicting\" its value. \n",
    "\n",
    "### Conclusion\n",
    "\n",
    "This notebook was made to show the feasibility in using a neural network, made with common open source tools, to facilitate process improvements in manufacturing by replicating the successful results of a GA and adjusting the input and output parameters to create a tool useful for the shop floor.\n",
    "\n",
    "Test cuts of this nature will likely produce a very small amounts of data as seen in the study. Generally, in machine learning a much larger amount of data is required for a robust model to be created, that shortcoming can be seen here with the model's graphed validation accuracy and loss, but it appears an acceptable level of performance is achievable if enough domain knowledge around the data being collected can be applied and it's wrangled correctly. The predicted values show a much higher level of accuracy and consistency than the model's scoring during creation.\n",
    "\n",
    "The final model is scores between 6 and 8 average percent error across the three predictions, with the RPM and feedrate consistently closer 5% and the depth of cut ranging between 10 to 15%. The fluctuation seen between model runs is caused by weights and bias in the ANN be itialized from zero at every start. The final predicted values and percent error can be seen below the graphs at the end of the notebook.\n",
    "\n",
    "Other cutting or result data would likely need to be used to fit a real business model, for instance replacing material removal rate with some measure of process stability like tool life or \"time since adjustment\", but due to the proprietary nature of manufacturing the availably of real-world data is limited."
   ]
  },
  {
   "cell_type": "code",
   "execution_count": 150,
   "metadata": {},
   "outputs": [
    {
     "output_type": "execute_result",
     "data": {
      "text/plain": "<contextlib._GeneratorContextManager at 0x219a21ff100>"
     },
     "metadata": {},
     "execution_count": 150
    }
   ],
   "source": [
    "# # import dependencies\n",
    "%matplotlib inline\n",
    "import keras\n",
    "import kerastuner as kt\n",
    "from kerastuner.tuners import RandomSearch\n",
    "# from kerastuner.engine.hyperparameters import HyperParameters\n",
    "import os\n",
    "import time\n",
    "from keras.models import Sequential\n",
    "from keras.layers import Activation, Dense\n",
    "from keras.callbacks import EarlyStopping\n",
    "from kerastuner.tuners import Hyperband\n",
    "# from keras.activations import *\n",
    "# from keras.callbacks import *\n",
    "# from keras.layers import *\n",
    "# from keras.losses import *\n",
    "# from keras.optimizers import *\n",
    "# from keras.layers import advanced_activations\n",
    "import matplotlib.pyplot as plt\n",
    "import numpy as np\n",
    "import pandas as pd\n",
    "# import seaborn\n",
    "import seaborn as sns\n",
    "import tensorflow as tf\n",
    "# import sklearn\n",
    "# from sklearn.metrics import classification_report\n",
    "from sklearn.preprocessing import MinMaxScaler\n",
    "from sklearn.preprocessing import StandardScaler\n",
    "# import talos as ta\n",
    "# import warnings\n",
    "# warnings.filterwarnings(\"ignore\")\n",
    "\n",
    "# # establish fixed seeding for reproducability\n",
    "# seed_value= 0\n",
    "# import os\n",
    "# os.environ['PYTHONHASHSEED']=str(seed_value)\n",
    "# import random\n",
    "# random.seed(seed_value)\n",
    "# import numpy as np\n",
    "# np.random.seed(seed_value)\n",
    "# import tensorflow as tf\n",
    "# tf.set_random_seed(seed_value)\n",
    "# from keras import backend as K\n",
    "# session_conf = tf.ConfigProto(intra_op_parallelism_threads=1, inter_op_parallelism_threads=1)\n",
    "# sess = tf.Session(graph=tf.get_default_graph(), config=session_conf)\n",
    "# K.set_session(sess)\n",
    "\n",
    "## configure GPU & CPU for tf\n",
    "# config = tf.compat.v1.ConfigProto(device_count = {'GPU': 0 , 'CPU': 2} )\n",
    "# sess = tf.compat.v1.Session(config=config)\n",
    "# tf.compat.v1.keras.backend.set_session(sess)\n",
    "\n",
    "# # suppress NumPy arrays scientific notation and round decimals to three places\n",
    "np.set_printoptions(suppress=True)\n",
    "np.printoptions(precision=3, suppress=True)"
   ]
  },
  {
   "cell_type": "code",
   "execution_count": 151,
   "metadata": {},
   "outputs": [
    {
     "output_type": "execute_result",
     "data": {
      "text/plain": "    Sr._No.  Spindle_speed(rpm)  Feed_rate(mm/rev)  Depth_of_cut(mm)  \\\n0         1                 280             0.0508              0.40   \n1         2                 280             0.0508              0.80   \n2         3                 280             0.0508              1.20   \n3         4                 280             0.1016              0.40   \n4         5                 280             0.1016              0.80   \n5         6                 280             0.1016              1.20   \n6         7                 280             0.1524              0.40   \n7         8                 280             0.1524              0.80   \n8         9                 280             0.1524              1.20   \n9        10                 710             0.0508              0.40   \n10       11                 710             0.0508              0.80   \n11       12                 710             0.0508              1.20   \n12       13                 710             0.1016              0.40   \n13       14                 710             0.1016              0.80   \n14       15                 710             0.1016              1.20   \n15       16                 710             0.1524              0.40   \n16       17                 710             0.1524              0.80   \n17       18                 710             0.1524              1.20   \n18       19                1120             0.0508              0.40   \n19       20                1120             0.0508              0.80   \n20       21                1120             0.0508              1.20   \n21       22                1120             0.1016              0.40   \n22       23                1120             0.1016              0.80   \n23       24                1120             0.1016              1.20   \n24       25                1120             0.1524              0.40   \n25       26                1120             0.1524              0.80   \n26       27                1120             0.1524              1.20   \n27       28                1100             0.0500              0.40   \n28       29                1100             0.0500              0.69   \n29       30                1095             0.1500              1.20   \n30       31                1097             0.1300              1.14   \n31       32                1094             0.1200              1.15   \n\n    MRR(mm3/min)  Ra(µm)  \n0         306.67    0.36  \n1         609.76    0.47  \n2         909.28    0.52  \n3         582.94    0.80  \n4        1158.73    0.90  \n5        1727.36    1.10  \n6         943.34    1.63  \n7        1875.96    1.76  \n8        2797.84    2.17  \n9         793.04    0.38  \n10       1577.02    0.48  \n11       2351.92    0.54  \n12       1555.25    0.81  \n13       3092.37    0.82  \n14       4611.35    0.97  \n15       2196.85    1.92  \n16       4366.50    1.91  \n17       6508.93    2.03  \n18        875.13    0.29  \n19       1735.95    0.37  \n20       2582.46    0.38  \n21       1745.24    0.82  \n22       3461.88    0.79  \n23       5149.90    1.11  \n24       2549.20    1.75  \n25       5055.49    1.89  \n26       7518.86    1.82  \n27       1106.51    0.21  \n28       2130.54    0.31  \n29       6324.21    1.98  \n30       5247.47    1.49  \n31       4908.30    1.40  ",
      "text/html": "<div>\n<style scoped>\n    .dataframe tbody tr th:only-of-type {\n        vertical-align: middle;\n    }\n\n    .dataframe tbody tr th {\n        vertical-align: top;\n    }\n\n    .dataframe thead th {\n        text-align: right;\n    }\n</style>\n<table border=\"1\" class=\"dataframe\">\n  <thead>\n    <tr style=\"text-align: right;\">\n      <th></th>\n      <th>Sr._No.</th>\n      <th>Spindle_speed(rpm)</th>\n      <th>Feed_rate(mm/rev)</th>\n      <th>Depth_of_cut(mm)</th>\n      <th>MRR(mm3/min)</th>\n      <th>Ra(µm)</th>\n    </tr>\n  </thead>\n  <tbody>\n    <tr>\n      <th>0</th>\n      <td>1</td>\n      <td>280</td>\n      <td>0.0508</td>\n      <td>0.40</td>\n      <td>306.67</td>\n      <td>0.36</td>\n    </tr>\n    <tr>\n      <th>1</th>\n      <td>2</td>\n      <td>280</td>\n      <td>0.0508</td>\n      <td>0.80</td>\n      <td>609.76</td>\n      <td>0.47</td>\n    </tr>\n    <tr>\n      <th>2</th>\n      <td>3</td>\n      <td>280</td>\n      <td>0.0508</td>\n      <td>1.20</td>\n      <td>909.28</td>\n      <td>0.52</td>\n    </tr>\n    <tr>\n      <th>3</th>\n      <td>4</td>\n      <td>280</td>\n      <td>0.1016</td>\n      <td>0.40</td>\n      <td>582.94</td>\n      <td>0.80</td>\n    </tr>\n    <tr>\n      <th>4</th>\n      <td>5</td>\n      <td>280</td>\n      <td>0.1016</td>\n      <td>0.80</td>\n      <td>1158.73</td>\n      <td>0.90</td>\n    </tr>\n    <tr>\n      <th>5</th>\n      <td>6</td>\n      <td>280</td>\n      <td>0.1016</td>\n      <td>1.20</td>\n      <td>1727.36</td>\n      <td>1.10</td>\n    </tr>\n    <tr>\n      <th>6</th>\n      <td>7</td>\n      <td>280</td>\n      <td>0.1524</td>\n      <td>0.40</td>\n      <td>943.34</td>\n      <td>1.63</td>\n    </tr>\n    <tr>\n      <th>7</th>\n      <td>8</td>\n      <td>280</td>\n      <td>0.1524</td>\n      <td>0.80</td>\n      <td>1875.96</td>\n      <td>1.76</td>\n    </tr>\n    <tr>\n      <th>8</th>\n      <td>9</td>\n      <td>280</td>\n      <td>0.1524</td>\n      <td>1.20</td>\n      <td>2797.84</td>\n      <td>2.17</td>\n    </tr>\n    <tr>\n      <th>9</th>\n      <td>10</td>\n      <td>710</td>\n      <td>0.0508</td>\n      <td>0.40</td>\n      <td>793.04</td>\n      <td>0.38</td>\n    </tr>\n    <tr>\n      <th>10</th>\n      <td>11</td>\n      <td>710</td>\n      <td>0.0508</td>\n      <td>0.80</td>\n      <td>1577.02</td>\n      <td>0.48</td>\n    </tr>\n    <tr>\n      <th>11</th>\n      <td>12</td>\n      <td>710</td>\n      <td>0.0508</td>\n      <td>1.20</td>\n      <td>2351.92</td>\n      <td>0.54</td>\n    </tr>\n    <tr>\n      <th>12</th>\n      <td>13</td>\n      <td>710</td>\n      <td>0.1016</td>\n      <td>0.40</td>\n      <td>1555.25</td>\n      <td>0.81</td>\n    </tr>\n    <tr>\n      <th>13</th>\n      <td>14</td>\n      <td>710</td>\n      <td>0.1016</td>\n      <td>0.80</td>\n      <td>3092.37</td>\n      <td>0.82</td>\n    </tr>\n    <tr>\n      <th>14</th>\n      <td>15</td>\n      <td>710</td>\n      <td>0.1016</td>\n      <td>1.20</td>\n      <td>4611.35</td>\n      <td>0.97</td>\n    </tr>\n    <tr>\n      <th>15</th>\n      <td>16</td>\n      <td>710</td>\n      <td>0.1524</td>\n      <td>0.40</td>\n      <td>2196.85</td>\n      <td>1.92</td>\n    </tr>\n    <tr>\n      <th>16</th>\n      <td>17</td>\n      <td>710</td>\n      <td>0.1524</td>\n      <td>0.80</td>\n      <td>4366.50</td>\n      <td>1.91</td>\n    </tr>\n    <tr>\n      <th>17</th>\n      <td>18</td>\n      <td>710</td>\n      <td>0.1524</td>\n      <td>1.20</td>\n      <td>6508.93</td>\n      <td>2.03</td>\n    </tr>\n    <tr>\n      <th>18</th>\n      <td>19</td>\n      <td>1120</td>\n      <td>0.0508</td>\n      <td>0.40</td>\n      <td>875.13</td>\n      <td>0.29</td>\n    </tr>\n    <tr>\n      <th>19</th>\n      <td>20</td>\n      <td>1120</td>\n      <td>0.0508</td>\n      <td>0.80</td>\n      <td>1735.95</td>\n      <td>0.37</td>\n    </tr>\n    <tr>\n      <th>20</th>\n      <td>21</td>\n      <td>1120</td>\n      <td>0.0508</td>\n      <td>1.20</td>\n      <td>2582.46</td>\n      <td>0.38</td>\n    </tr>\n    <tr>\n      <th>21</th>\n      <td>22</td>\n      <td>1120</td>\n      <td>0.1016</td>\n      <td>0.40</td>\n      <td>1745.24</td>\n      <td>0.82</td>\n    </tr>\n    <tr>\n      <th>22</th>\n      <td>23</td>\n      <td>1120</td>\n      <td>0.1016</td>\n      <td>0.80</td>\n      <td>3461.88</td>\n      <td>0.79</td>\n    </tr>\n    <tr>\n      <th>23</th>\n      <td>24</td>\n      <td>1120</td>\n      <td>0.1016</td>\n      <td>1.20</td>\n      <td>5149.90</td>\n      <td>1.11</td>\n    </tr>\n    <tr>\n      <th>24</th>\n      <td>25</td>\n      <td>1120</td>\n      <td>0.1524</td>\n      <td>0.40</td>\n      <td>2549.20</td>\n      <td>1.75</td>\n    </tr>\n    <tr>\n      <th>25</th>\n      <td>26</td>\n      <td>1120</td>\n      <td>0.1524</td>\n      <td>0.80</td>\n      <td>5055.49</td>\n      <td>1.89</td>\n    </tr>\n    <tr>\n      <th>26</th>\n      <td>27</td>\n      <td>1120</td>\n      <td>0.1524</td>\n      <td>1.20</td>\n      <td>7518.86</td>\n      <td>1.82</td>\n    </tr>\n    <tr>\n      <th>27</th>\n      <td>28</td>\n      <td>1100</td>\n      <td>0.0500</td>\n      <td>0.40</td>\n      <td>1106.51</td>\n      <td>0.21</td>\n    </tr>\n    <tr>\n      <th>28</th>\n      <td>29</td>\n      <td>1100</td>\n      <td>0.0500</td>\n      <td>0.69</td>\n      <td>2130.54</td>\n      <td>0.31</td>\n    </tr>\n    <tr>\n      <th>29</th>\n      <td>30</td>\n      <td>1095</td>\n      <td>0.1500</td>\n      <td>1.20</td>\n      <td>6324.21</td>\n      <td>1.98</td>\n    </tr>\n    <tr>\n      <th>30</th>\n      <td>31</td>\n      <td>1097</td>\n      <td>0.1300</td>\n      <td>1.14</td>\n      <td>5247.47</td>\n      <td>1.49</td>\n    </tr>\n    <tr>\n      <th>31</th>\n      <td>32</td>\n      <td>1094</td>\n      <td>0.1200</td>\n      <td>1.15</td>\n      <td>4908.30</td>\n      <td>1.40</td>\n    </tr>\n  </tbody>\n</table>\n</div>"
     },
     "metadata": {},
     "execution_count": 151
    }
   ],
   "source": [
    "# import data\n",
    "df = pd.read_csv('data.txt', delim_whitespace=True, encoding='ISO-8859-1')\n",
    "# look at the dataframe\n",
    "df"
   ]
  },
  {
   "cell_type": "code",
   "execution_count": 152,
   "metadata": {},
   "outputs": [
    {
     "output_type": "display_data",
     "data": {
      "text/plain": "<Figure size 864x576 with 2 Axes>",
      "image/svg+xml": "<?xml version=\"1.0\" encoding=\"utf-8\" standalone=\"no\"?>\r\n<!DOCTYPE svg PUBLIC \"-//W3C//DTD SVG 1.1//EN\"\r\n  \"http://www.w3.org/Graphics/SVG/1.1/DTD/svg11.dtd\">\r\n<!-- Created with matplotlib (https://matplotlib.org/) -->\r\n<svg height=\"560.387031pt\" version=\"1.1\" viewBox=\"0 0 649.457125 560.387031\" width=\"649.457125pt\" xmlns=\"http://www.w3.org/2000/svg\" xmlns:xlink=\"http://www.w3.org/1999/xlink\">\r\n <metadata>\r\n  <rdf:RDF xmlns:cc=\"http://creativecommons.org/ns#\" xmlns:dc=\"http://purl.org/dc/elements/1.1/\" xmlns:rdf=\"http://www.w3.org/1999/02/22-rdf-syntax-ns#\">\r\n   <cc:Work>\r\n    <dc:type rdf:resource=\"http://purl.org/dc/dcmitype/StillImage\"/>\r\n    <dc:date>2020-08-31T15:25:34.653413</dc:date>\r\n    <dc:format>image/svg+xml</dc:format>\r\n    <dc:creator>\r\n     <cc:Agent>\r\n      <dc:title>Matplotlib v3.3.1, https://matplotlib.org/</dc:title>\r\n     </cc:Agent>\r\n    </dc:creator>\r\n   </cc:Work>\r\n  </rdf:RDF>\r\n </metadata>\r\n <defs>\r\n  <style type=\"text/css\">*{stroke-linecap:butt;stroke-linejoin:round;}</style>\r\n </defs>\r\n <g id=\"figure_1\">\r\n  <g id=\"patch_1\">\r\n   <path d=\"M 0 560.387031 \r\nL 649.457125 560.387031 \r\nL 649.457125 0 \r\nL 0 0 \r\nz\r\n\" style=\"fill:none;\"/>\r\n  </g>\r\n  <g id=\"axes_1\">\r\n   <g id=\"patch_2\">\r\n    <path d=\"M 114.507813 445.879219 \r\nL 549.387812 445.879219 \r\nL 549.387812 10.999219 \r\nL 114.507813 10.999219 \r\nz\r\n\" style=\"fill:#ffffff;\"/>\r\n   </g>\r\n   <g id=\"QuadMesh_1\">\r\n    <path clip-path=\"url(#pd96e35773a)\" d=\"M 114.507813 10.999219 \r\nL 186.987813 10.999219 \r\nL 186.987813 83.479219 \r\nL 114.507813 83.479219 \r\nL 114.507813 10.999219 \r\n\" style=\"fill:#3f7f93;\"/>\r\n    <path clip-path=\"url(#pd96e35773a)\" d=\"M 186.987813 10.999219 \r\nL 259.467813 10.999219 \r\nL 259.467813 83.479219 \r\nL 186.987813 83.479219 \r\nL 186.987813 10.999219 \r\n\" style=\"fill:#4b889a;\"/>\r\n    <path clip-path=\"url(#pd96e35773a)\" d=\"M 259.467813 10.999219 \r\nL 331.947812 10.999219 \r\nL 331.947812 83.479219 \r\nL 259.467813 83.479219 \r\nL 259.467813 10.999219 \r\n\" style=\"fill:#cadde3;\"/>\r\n    <path clip-path=\"url(#pd96e35773a)\" d=\"M 331.947812 10.999219 \r\nL 404.427812 10.999219 \r\nL 404.427812 83.479219 \r\nL 331.947812 83.479219 \r\nL 331.947812 10.999219 \r\n\" style=\"fill:#d5e5ea;\"/>\r\n    <path clip-path=\"url(#pd96e35773a)\" d=\"M 404.427812 10.999219 \r\nL 476.907812 10.999219 \r\nL 476.907812 83.479219 \r\nL 404.427812 83.479219 \r\nL 404.427812 10.999219 \r\n\" style=\"fill:#7ca9b6;\"/>\r\n    <path clip-path=\"url(#pd96e35773a)\" d=\"M 476.907812 10.999219 \r\nL 549.387812 10.999219 \r\nL 549.387812 83.479219 \r\nL 476.907812 83.479219 \r\nL 476.907812 10.999219 \r\n\" style=\"fill:#ccdfe4;\"/>\r\n    <path clip-path=\"url(#pd96e35773a)\" d=\"M 114.507813 83.479219 \r\nL 186.987813 83.479219 \r\nL 186.987813 155.959219 \r\nL 114.507813 155.959219 \r\nL 114.507813 83.479219 \r\n\" style=\"fill:#4b889a;\"/>\r\n    <path clip-path=\"url(#pd96e35773a)\" d=\"M 186.987813 83.479219 \r\nL 259.467813 83.479219 \r\nL 259.467813 155.959219 \r\nL 186.987813 155.959219 \r\nL 186.987813 83.479219 \r\n\" style=\"fill:#3f7f93;\"/>\r\n    <path clip-path=\"url(#pd96e35773a)\" d=\"M 259.467813 83.479219 \r\nL 331.947812 83.479219 \r\nL 331.947812 155.959219 \r\nL 259.467813 155.959219 \r\nL 259.467813 83.479219 \r\n\" style=\"fill:#f2f2f2;\"/>\r\n    <path clip-path=\"url(#pd96e35773a)\" d=\"M 331.947812 83.479219 \r\nL 404.427812 83.479219 \r\nL 404.427812 155.959219 \r\nL 331.947812 155.959219 \r\nL 331.947812 83.479219 \r\n\" style=\"fill:#eaf3f6;\"/>\r\n    <path clip-path=\"url(#pd96e35773a)\" d=\"M 404.427812 83.479219 \r\nL 476.907812 83.479219 \r\nL 476.907812 155.959219 \r\nL 404.427812 155.959219 \r\nL 404.427812 83.479219 \r\n\" style=\"fill:#9bbdc8;\"/>\r\n    <path clip-path=\"url(#pd96e35773a)\" d=\"M 476.907812 83.479219 \r\nL 549.387812 83.479219 \r\nL 549.387812 155.959219 \r\nL 476.907812 155.959219 \r\nL 476.907812 83.479219 \r\n\" style=\"fill:#f2f2f2;\"/>\r\n    <path clip-path=\"url(#pd96e35773a)\" d=\"M 114.507813 155.959219 \r\nL 186.987813 155.959219 \r\nL 186.987813 228.439219 \r\nL 114.507813 228.439219 \r\nL 114.507813 155.959219 \r\n\" style=\"fill:#cadde3;\"/>\r\n    <path clip-path=\"url(#pd96e35773a)\" d=\"M 186.987813 155.959219 \r\nL 259.467813 155.959219 \r\nL 259.467813 228.439219 \r\nL 186.987813 228.439219 \r\nL 186.987813 155.959219 \r\n\" style=\"fill:#f2f2f2;\"/>\r\n    <path clip-path=\"url(#pd96e35773a)\" d=\"M 259.467813 155.959219 \r\nL 331.947812 155.959219 \r\nL 331.947812 228.439219 \r\nL 259.467813 228.439219 \r\nL 259.467813 155.959219 \r\n\" style=\"fill:#3f7f93;\"/>\r\n    <path clip-path=\"url(#pd96e35773a)\" d=\"M 331.947812 155.959219 \r\nL 404.427812 155.959219 \r\nL 404.427812 228.439219 \r\nL 331.947812 228.439219 \r\nL 331.947812 155.959219 \r\n\" style=\"fill:#dbe8ed;\"/>\r\n    <path clip-path=\"url(#pd96e35773a)\" d=\"M 404.427812 155.959219 \r\nL 476.907812 155.959219 \r\nL 476.907812 228.439219 \r\nL 404.427812 228.439219 \r\nL 404.427812 155.959219 \r\n\" style=\"fill:#88b1bd;\"/>\r\n    <path clip-path=\"url(#pd96e35773a)\" d=\"M 476.907812 155.959219 \r\nL 549.387812 155.959219 \r\nL 549.387812 228.439219 \r\nL 476.907812 228.439219 \r\nL 476.907812 155.959219 \r\n\" style=\"fill:#438295;\"/>\r\n    <path clip-path=\"url(#pd96e35773a)\" d=\"M 114.507813 228.439219 \r\nL 186.987813 228.439219 \r\nL 186.987813 300.919219 \r\nL 114.507813 300.919219 \r\nL 114.507813 228.439219 \r\n\" style=\"fill:#d5e5ea;\"/>\r\n    <path clip-path=\"url(#pd96e35773a)\" d=\"M 186.987813 228.439219 \r\nL 259.467813 228.439219 \r\nL 259.467813 300.919219 \r\nL 186.987813 300.919219 \r\nL 186.987813 228.439219 \r\n\" style=\"fill:#eaf3f6;\"/>\r\n    <path clip-path=\"url(#pd96e35773a)\" d=\"M 259.467813 228.439219 \r\nL 331.947812 228.439219 \r\nL 331.947812 300.919219 \r\nL 259.467813 300.919219 \r\nL 259.467813 228.439219 \r\n\" style=\"fill:#dbe8ed;\"/>\r\n    <path clip-path=\"url(#pd96e35773a)\" d=\"M 331.947812 228.439219 \r\nL 404.427812 228.439219 \r\nL 404.427812 300.919219 \r\nL 331.947812 300.919219 \r\nL 331.947812 228.439219 \r\n\" style=\"fill:#3f7f93;\"/>\r\n    <path clip-path=\"url(#pd96e35773a)\" d=\"M 404.427812 228.439219 \r\nL 476.907812 228.439219 \r\nL 476.907812 300.919219 \r\nL 404.427812 300.919219 \r\nL 404.427812 228.439219 \r\n\" style=\"fill:#81acb9;\"/>\r\n    <path clip-path=\"url(#pd96e35773a)\" d=\"M 476.907812 228.439219 \r\nL 549.387812 228.439219 \r\nL 549.387812 300.919219 \r\nL 476.907812 300.919219 \r\nL 476.907812 228.439219 \r\n\" style=\"fill:#c3d8df;\"/>\r\n    <path clip-path=\"url(#pd96e35773a)\" d=\"M 114.507813 300.919219 \r\nL 186.987813 300.919219 \r\nL 186.987813 373.399219 \r\nL 114.507813 373.399219 \r\nL 114.507813 300.919219 \r\n\" style=\"fill:#7ca9b6;\"/>\r\n    <path clip-path=\"url(#pd96e35773a)\" d=\"M 186.987813 300.919219 \r\nL 259.467813 300.919219 \r\nL 259.467813 373.399219 \r\nL 186.987813 373.399219 \r\nL 186.987813 300.919219 \r\n\" style=\"fill:#9bbdc8;\"/>\r\n    <path clip-path=\"url(#pd96e35773a)\" d=\"M 259.467813 300.919219 \r\nL 331.947812 300.919219 \r\nL 331.947812 373.399219 \r\nL 259.467813 373.399219 \r\nL 259.467813 300.919219 \r\n\" style=\"fill:#88b1bd;\"/>\r\n    <path clip-path=\"url(#pd96e35773a)\" d=\"M 331.947812 300.919219 \r\nL 404.427812 300.919219 \r\nL 404.427812 373.399219 \r\nL 331.947812 373.399219 \r\nL 331.947812 300.919219 \r\n\" style=\"fill:#81acb9;\"/>\r\n    <path clip-path=\"url(#pd96e35773a)\" d=\"M 404.427812 300.919219 \r\nL 476.907812 300.919219 \r\nL 476.907812 373.399219 \r\nL 404.427812 373.399219 \r\nL 404.427812 300.919219 \r\n\" style=\"fill:#3f7f93;\"/>\r\n    <path clip-path=\"url(#pd96e35773a)\" d=\"M 476.907812 300.919219 \r\nL 549.387812 300.919219 \r\nL 549.387812 373.399219 \r\nL 476.907812 373.399219 \r\nL 476.907812 300.919219 \r\n\" style=\"fill:#81acb9;\"/>\r\n    <path clip-path=\"url(#pd96e35773a)\" d=\"M 114.507813 373.399219 \r\nL 186.987813 373.399219 \r\nL 186.987813 445.879219 \r\nL 114.507813 445.879219 \r\nL 114.507813 373.399219 \r\n\" style=\"fill:#ccdfe4;\"/>\r\n    <path clip-path=\"url(#pd96e35773a)\" d=\"M 186.987813 373.399219 \r\nL 259.467813 373.399219 \r\nL 259.467813 445.879219 \r\nL 186.987813 445.879219 \r\nL 186.987813 373.399219 \r\n\" style=\"fill:#f2f2f2;\"/>\r\n    <path clip-path=\"url(#pd96e35773a)\" d=\"M 259.467813 373.399219 \r\nL 331.947812 373.399219 \r\nL 331.947812 445.879219 \r\nL 259.467813 445.879219 \r\nL 259.467813 373.399219 \r\n\" style=\"fill:#438295;\"/>\r\n    <path clip-path=\"url(#pd96e35773a)\" d=\"M 331.947812 373.399219 \r\nL 404.427812 373.399219 \r\nL 404.427812 445.879219 \r\nL 331.947812 445.879219 \r\nL 331.947812 373.399219 \r\n\" style=\"fill:#c3d8df;\"/>\r\n    <path clip-path=\"url(#pd96e35773a)\" d=\"M 404.427812 373.399219 \r\nL 476.907812 373.399219 \r\nL 476.907812 445.879219 \r\nL 404.427812 445.879219 \r\nL 404.427812 373.399219 \r\n\" style=\"fill:#81acb9;\"/>\r\n    <path clip-path=\"url(#pd96e35773a)\" d=\"M 476.907812 373.399219 \r\nL 549.387812 373.399219 \r\nL 549.387812 445.879219 \r\nL 476.907812 445.879219 \r\nL 476.907812 373.399219 \r\n\" style=\"fill:#3f7f93;\"/>\r\n   </g>\r\n   <g id=\"matplotlib.axis_1\">\r\n    <g id=\"xtick_1\">\r\n     <g id=\"line2d_1\">\r\n      <defs>\r\n       <path d=\"M 0 0 \r\nL 0 3.5 \r\n\" id=\"m5757c32904\" style=\"stroke:#000000;stroke-width:0.8;\"/>\r\n      </defs>\r\n      <g>\r\n       <use style=\"stroke:#000000;stroke-width:0.8;\" x=\"150.747813\" xlink:href=\"#m5757c32904\" y=\"445.879219\"/>\r\n      </g>\r\n     </g>\r\n     <g id=\"text_1\">\r\n      <!-- Sr._No. -->\r\n      <g transform=\"translate(148.39 487.207344)rotate(-90)scale(0.1 -0.1)\">\r\n       <defs>\r\n        <path d=\"M 53.515625 70.515625 \r\nL 53.515625 60.890625 \r\nQ 47.90625 63.578125 42.921875 64.890625 \r\nQ 37.9375 66.21875 33.296875 66.21875 \r\nQ 25.25 66.21875 20.875 63.09375 \r\nQ 16.5 59.96875 16.5 54.203125 \r\nQ 16.5 49.359375 19.40625 46.890625 \r\nQ 22.3125 44.4375 30.421875 42.921875 \r\nL 36.375 41.703125 \r\nQ 47.40625 39.59375 52.65625 34.296875 \r\nQ 57.90625 29 57.90625 20.125 \r\nQ 57.90625 9.515625 50.796875 4.046875 \r\nQ 43.703125 -1.421875 29.984375 -1.421875 \r\nQ 24.8125 -1.421875 18.96875 -0.25 \r\nQ 13.140625 0.921875 6.890625 3.21875 \r\nL 6.890625 13.375 \r\nQ 12.890625 10.015625 18.65625 8.296875 \r\nQ 24.421875 6.59375 29.984375 6.59375 \r\nQ 38.421875 6.59375 43.015625 9.90625 \r\nQ 47.609375 13.234375 47.609375 19.390625 \r\nQ 47.609375 24.75 44.3125 27.78125 \r\nQ 41.015625 30.8125 33.5 32.328125 \r\nL 27.484375 33.5 \r\nQ 16.453125 35.6875 11.515625 40.375 \r\nQ 6.59375 45.0625 6.59375 53.421875 \r\nQ 6.59375 63.09375 13.40625 68.65625 \r\nQ 20.21875 74.21875 32.171875 74.21875 \r\nQ 37.3125 74.21875 42.625 73.28125 \r\nQ 47.953125 72.359375 53.515625 70.515625 \r\nz\r\n\" id=\"DejaVuSans-83\"/>\r\n        <path d=\"M 41.109375 46.296875 \r\nQ 39.59375 47.171875 37.8125 47.578125 \r\nQ 36.03125 48 33.890625 48 \r\nQ 26.265625 48 22.1875 43.046875 \r\nQ 18.109375 38.09375 18.109375 28.8125 \r\nL 18.109375 0 \r\nL 9.078125 0 \r\nL 9.078125 54.6875 \r\nL 18.109375 54.6875 \r\nL 18.109375 46.1875 \r\nQ 20.953125 51.171875 25.484375 53.578125 \r\nQ 30.03125 56 36.53125 56 \r\nQ 37.453125 56 38.578125 55.875 \r\nQ 39.703125 55.765625 41.0625 55.515625 \r\nz\r\n\" id=\"DejaVuSans-114\"/>\r\n        <path d=\"M 10.6875 12.40625 \r\nL 21 12.40625 \r\nL 21 0 \r\nL 10.6875 0 \r\nz\r\n\" id=\"DejaVuSans-46\"/>\r\n        <path d=\"M 50.984375 -16.609375 \r\nL 50.984375 -23.578125 \r\nL -0.984375 -23.578125 \r\nL -0.984375 -16.609375 \r\nz\r\n\" id=\"DejaVuSans-95\"/>\r\n        <path d=\"M 9.8125 72.90625 \r\nL 23.09375 72.90625 \r\nL 55.421875 11.921875 \r\nL 55.421875 72.90625 \r\nL 64.984375 72.90625 \r\nL 64.984375 0 \r\nL 51.703125 0 \r\nL 19.390625 60.984375 \r\nL 19.390625 0 \r\nL 9.8125 0 \r\nz\r\n\" id=\"DejaVuSans-78\"/>\r\n        <path d=\"M 30.609375 48.390625 \r\nQ 23.390625 48.390625 19.1875 42.75 \r\nQ 14.984375 37.109375 14.984375 27.296875 \r\nQ 14.984375 17.484375 19.15625 11.84375 \r\nQ 23.34375 6.203125 30.609375 6.203125 \r\nQ 37.796875 6.203125 41.984375 11.859375 \r\nQ 46.1875 17.53125 46.1875 27.296875 \r\nQ 46.1875 37.015625 41.984375 42.703125 \r\nQ 37.796875 48.390625 30.609375 48.390625 \r\nz\r\nM 30.609375 56 \r\nQ 42.328125 56 49.015625 48.375 \r\nQ 55.71875 40.765625 55.71875 27.296875 \r\nQ 55.71875 13.875 49.015625 6.21875 \r\nQ 42.328125 -1.421875 30.609375 -1.421875 \r\nQ 18.84375 -1.421875 12.171875 6.21875 \r\nQ 5.515625 13.875 5.515625 27.296875 \r\nQ 5.515625 40.765625 12.171875 48.375 \r\nQ 18.84375 56 30.609375 56 \r\nz\r\n\" id=\"DejaVuSans-111\"/>\r\n       </defs>\r\n       <use xlink:href=\"#DejaVuSans-83\"/>\r\n       <use x=\"63.476562\" xlink:href=\"#DejaVuSans-114\"/>\r\n       <use x=\"95.464844\" xlink:href=\"#DejaVuSans-46\"/>\r\n       <use x=\"127.251953\" xlink:href=\"#DejaVuSans-95\"/>\r\n       <use x=\"177.251953\" xlink:href=\"#DejaVuSans-78\"/>\r\n       <use x=\"252.056641\" xlink:href=\"#DejaVuSans-111\"/>\r\n       <use x=\"311.488281\" xlink:href=\"#DejaVuSans-46\"/>\r\n      </g>\r\n     </g>\r\n    </g>\r\n    <g id=\"xtick_2\">\r\n     <g id=\"line2d_2\">\r\n      <g>\r\n       <use style=\"stroke:#000000;stroke-width:0.8;\" x=\"223.227813\" xlink:href=\"#m5757c32904\" y=\"445.879219\"/>\r\n      </g>\r\n     </g>\r\n     <g id=\"text_2\">\r\n      <!-- Spindle_speed(rpm) -->\r\n      <g transform=\"translate(220.87 553.187031)rotate(-90)scale(0.1 -0.1)\">\r\n       <defs>\r\n        <path d=\"M 18.109375 8.203125 \r\nL 18.109375 -20.796875 \r\nL 9.078125 -20.796875 \r\nL 9.078125 54.6875 \r\nL 18.109375 54.6875 \r\nL 18.109375 46.390625 \r\nQ 20.953125 51.265625 25.265625 53.625 \r\nQ 29.59375 56 35.59375 56 \r\nQ 45.5625 56 51.78125 48.09375 \r\nQ 58.015625 40.1875 58.015625 27.296875 \r\nQ 58.015625 14.40625 51.78125 6.484375 \r\nQ 45.5625 -1.421875 35.59375 -1.421875 \r\nQ 29.59375 -1.421875 25.265625 0.953125 \r\nQ 20.953125 3.328125 18.109375 8.203125 \r\nz\r\nM 48.6875 27.296875 \r\nQ 48.6875 37.203125 44.609375 42.84375 \r\nQ 40.53125 48.484375 33.40625 48.484375 \r\nQ 26.265625 48.484375 22.1875 42.84375 \r\nQ 18.109375 37.203125 18.109375 27.296875 \r\nQ 18.109375 17.390625 22.1875 11.75 \r\nQ 26.265625 6.109375 33.40625 6.109375 \r\nQ 40.53125 6.109375 44.609375 11.75 \r\nQ 48.6875 17.390625 48.6875 27.296875 \r\nz\r\n\" id=\"DejaVuSans-112\"/>\r\n        <path d=\"M 9.421875 54.6875 \r\nL 18.40625 54.6875 \r\nL 18.40625 0 \r\nL 9.421875 0 \r\nz\r\nM 9.421875 75.984375 \r\nL 18.40625 75.984375 \r\nL 18.40625 64.59375 \r\nL 9.421875 64.59375 \r\nz\r\n\" id=\"DejaVuSans-105\"/>\r\n        <path d=\"M 54.890625 33.015625 \r\nL 54.890625 0 \r\nL 45.90625 0 \r\nL 45.90625 32.71875 \r\nQ 45.90625 40.484375 42.875 44.328125 \r\nQ 39.84375 48.1875 33.796875 48.1875 \r\nQ 26.515625 48.1875 22.3125 43.546875 \r\nQ 18.109375 38.921875 18.109375 30.90625 \r\nL 18.109375 0 \r\nL 9.078125 0 \r\nL 9.078125 54.6875 \r\nL 18.109375 54.6875 \r\nL 18.109375 46.1875 \r\nQ 21.34375 51.125 25.703125 53.5625 \r\nQ 30.078125 56 35.796875 56 \r\nQ 45.21875 56 50.046875 50.171875 \r\nQ 54.890625 44.34375 54.890625 33.015625 \r\nz\r\n\" id=\"DejaVuSans-110\"/>\r\n        <path d=\"M 45.40625 46.390625 \r\nL 45.40625 75.984375 \r\nL 54.390625 75.984375 \r\nL 54.390625 0 \r\nL 45.40625 0 \r\nL 45.40625 8.203125 \r\nQ 42.578125 3.328125 38.25 0.953125 \r\nQ 33.9375 -1.421875 27.875 -1.421875 \r\nQ 17.96875 -1.421875 11.734375 6.484375 \r\nQ 5.515625 14.40625 5.515625 27.296875 \r\nQ 5.515625 40.1875 11.734375 48.09375 \r\nQ 17.96875 56 27.875 56 \r\nQ 33.9375 56 38.25 53.625 \r\nQ 42.578125 51.265625 45.40625 46.390625 \r\nz\r\nM 14.796875 27.296875 \r\nQ 14.796875 17.390625 18.875 11.75 \r\nQ 22.953125 6.109375 30.078125 6.109375 \r\nQ 37.203125 6.109375 41.296875 11.75 \r\nQ 45.40625 17.390625 45.40625 27.296875 \r\nQ 45.40625 37.203125 41.296875 42.84375 \r\nQ 37.203125 48.484375 30.078125 48.484375 \r\nQ 22.953125 48.484375 18.875 42.84375 \r\nQ 14.796875 37.203125 14.796875 27.296875 \r\nz\r\n\" id=\"DejaVuSans-100\"/>\r\n        <path d=\"M 9.421875 75.984375 \r\nL 18.40625 75.984375 \r\nL 18.40625 0 \r\nL 9.421875 0 \r\nz\r\n\" id=\"DejaVuSans-108\"/>\r\n        <path d=\"M 56.203125 29.59375 \r\nL 56.203125 25.203125 \r\nL 14.890625 25.203125 \r\nQ 15.484375 15.921875 20.484375 11.0625 \r\nQ 25.484375 6.203125 34.421875 6.203125 \r\nQ 39.59375 6.203125 44.453125 7.46875 \r\nQ 49.3125 8.734375 54.109375 11.28125 \r\nL 54.109375 2.78125 \r\nQ 49.265625 0.734375 44.1875 -0.34375 \r\nQ 39.109375 -1.421875 33.890625 -1.421875 \r\nQ 20.796875 -1.421875 13.15625 6.1875 \r\nQ 5.515625 13.8125 5.515625 26.8125 \r\nQ 5.515625 40.234375 12.765625 48.109375 \r\nQ 20.015625 56 32.328125 56 \r\nQ 43.359375 56 49.78125 48.890625 \r\nQ 56.203125 41.796875 56.203125 29.59375 \r\nz\r\nM 47.21875 32.234375 \r\nQ 47.125 39.59375 43.09375 43.984375 \r\nQ 39.0625 48.390625 32.421875 48.390625 \r\nQ 24.90625 48.390625 20.390625 44.140625 \r\nQ 15.875 39.890625 15.1875 32.171875 \r\nz\r\n\" id=\"DejaVuSans-101\"/>\r\n        <path d=\"M 44.28125 53.078125 \r\nL 44.28125 44.578125 \r\nQ 40.484375 46.53125 36.375 47.5 \r\nQ 32.28125 48.484375 27.875 48.484375 \r\nQ 21.1875 48.484375 17.84375 46.4375 \r\nQ 14.5 44.390625 14.5 40.28125 \r\nQ 14.5 37.15625 16.890625 35.375 \r\nQ 19.28125 33.59375 26.515625 31.984375 \r\nL 29.59375 31.296875 \r\nQ 39.15625 29.25 43.1875 25.515625 \r\nQ 47.21875 21.78125 47.21875 15.09375 \r\nQ 47.21875 7.46875 41.1875 3.015625 \r\nQ 35.15625 -1.421875 24.609375 -1.421875 \r\nQ 20.21875 -1.421875 15.453125 -0.5625 \r\nQ 10.6875 0.296875 5.421875 2 \r\nL 5.421875 11.28125 \r\nQ 10.40625 8.6875 15.234375 7.390625 \r\nQ 20.0625 6.109375 24.8125 6.109375 \r\nQ 31.15625 6.109375 34.5625 8.28125 \r\nQ 37.984375 10.453125 37.984375 14.40625 \r\nQ 37.984375 18.0625 35.515625 20.015625 \r\nQ 33.0625 21.96875 24.703125 23.78125 \r\nL 21.578125 24.515625 \r\nQ 13.234375 26.265625 9.515625 29.90625 \r\nQ 5.8125 33.546875 5.8125 39.890625 \r\nQ 5.8125 47.609375 11.28125 51.796875 \r\nQ 16.75 56 26.8125 56 \r\nQ 31.78125 56 36.171875 55.265625 \r\nQ 40.578125 54.546875 44.28125 53.078125 \r\nz\r\n\" id=\"DejaVuSans-115\"/>\r\n        <path d=\"M 31 75.875 \r\nQ 24.46875 64.65625 21.28125 53.65625 \r\nQ 18.109375 42.671875 18.109375 31.390625 \r\nQ 18.109375 20.125 21.3125 9.0625 \r\nQ 24.515625 -2 31 -13.1875 \r\nL 23.1875 -13.1875 \r\nQ 15.875 -1.703125 12.234375 9.375 \r\nQ 8.59375 20.453125 8.59375 31.390625 \r\nQ 8.59375 42.28125 12.203125 53.3125 \r\nQ 15.828125 64.359375 23.1875 75.875 \r\nz\r\n\" id=\"DejaVuSans-40\"/>\r\n        <path d=\"M 52 44.1875 \r\nQ 55.375 50.25 60.0625 53.125 \r\nQ 64.75 56 71.09375 56 \r\nQ 79.640625 56 84.28125 50.015625 \r\nQ 88.921875 44.046875 88.921875 33.015625 \r\nL 88.921875 0 \r\nL 79.890625 0 \r\nL 79.890625 32.71875 \r\nQ 79.890625 40.578125 77.09375 44.375 \r\nQ 74.3125 48.1875 68.609375 48.1875 \r\nQ 61.625 48.1875 57.5625 43.546875 \r\nQ 53.515625 38.921875 53.515625 30.90625 \r\nL 53.515625 0 \r\nL 44.484375 0 \r\nL 44.484375 32.71875 \r\nQ 44.484375 40.625 41.703125 44.40625 \r\nQ 38.921875 48.1875 33.109375 48.1875 \r\nQ 26.21875 48.1875 22.15625 43.53125 \r\nQ 18.109375 38.875 18.109375 30.90625 \r\nL 18.109375 0 \r\nL 9.078125 0 \r\nL 9.078125 54.6875 \r\nL 18.109375 54.6875 \r\nL 18.109375 46.1875 \r\nQ 21.1875 51.21875 25.484375 53.609375 \r\nQ 29.78125 56 35.6875 56 \r\nQ 41.65625 56 45.828125 52.96875 \r\nQ 50 49.953125 52 44.1875 \r\nz\r\n\" id=\"DejaVuSans-109\"/>\r\n        <path d=\"M 8.015625 75.875 \r\nL 15.828125 75.875 \r\nQ 23.140625 64.359375 26.78125 53.3125 \r\nQ 30.421875 42.28125 30.421875 31.390625 \r\nQ 30.421875 20.453125 26.78125 9.375 \r\nQ 23.140625 -1.703125 15.828125 -13.1875 \r\nL 8.015625 -13.1875 \r\nQ 14.5 -2 17.703125 9.0625 \r\nQ 20.90625 20.125 20.90625 31.390625 \r\nQ 20.90625 42.671875 17.703125 53.65625 \r\nQ 14.5 64.65625 8.015625 75.875 \r\nz\r\n\" id=\"DejaVuSans-41\"/>\r\n       </defs>\r\n       <use xlink:href=\"#DejaVuSans-83\"/>\r\n       <use x=\"63.476562\" xlink:href=\"#DejaVuSans-112\"/>\r\n       <use x=\"126.953125\" xlink:href=\"#DejaVuSans-105\"/>\r\n       <use x=\"154.736328\" xlink:href=\"#DejaVuSans-110\"/>\r\n       <use x=\"218.115234\" xlink:href=\"#DejaVuSans-100\"/>\r\n       <use x=\"281.591797\" xlink:href=\"#DejaVuSans-108\"/>\r\n       <use x=\"309.375\" xlink:href=\"#DejaVuSans-101\"/>\r\n       <use x=\"370.898438\" xlink:href=\"#DejaVuSans-95\"/>\r\n       <use x=\"420.898438\" xlink:href=\"#DejaVuSans-115\"/>\r\n       <use x=\"472.998047\" xlink:href=\"#DejaVuSans-112\"/>\r\n       <use x=\"536.474609\" xlink:href=\"#DejaVuSans-101\"/>\r\n       <use x=\"597.998047\" xlink:href=\"#DejaVuSans-101\"/>\r\n       <use x=\"659.521484\" xlink:href=\"#DejaVuSans-100\"/>\r\n       <use x=\"722.998047\" xlink:href=\"#DejaVuSans-40\"/>\r\n       <use x=\"762.011719\" xlink:href=\"#DejaVuSans-114\"/>\r\n       <use x=\"803.125\" xlink:href=\"#DejaVuSans-112\"/>\r\n       <use x=\"866.601562\" xlink:href=\"#DejaVuSans-109\"/>\r\n       <use x=\"964.013672\" xlink:href=\"#DejaVuSans-41\"/>\r\n      </g>\r\n     </g>\r\n    </g>\r\n    <g id=\"xtick_3\">\r\n     <g id=\"line2d_3\">\r\n      <g>\r\n       <use style=\"stroke:#000000;stroke-width:0.8;\" x=\"295.707813\" xlink:href=\"#m5757c32904\" y=\"445.879219\"/>\r\n      </g>\r\n     </g>\r\n     <g id=\"text_3\">\r\n      <!-- Feed_rate(mm/rev) -->\r\n      <g transform=\"translate(293.35 548.658906)rotate(-90)scale(0.1 -0.1)\">\r\n       <defs>\r\n        <path d=\"M 9.8125 72.90625 \r\nL 51.703125 72.90625 \r\nL 51.703125 64.59375 \r\nL 19.671875 64.59375 \r\nL 19.671875 43.109375 \r\nL 48.578125 43.109375 \r\nL 48.578125 34.8125 \r\nL 19.671875 34.8125 \r\nL 19.671875 0 \r\nL 9.8125 0 \r\nz\r\n\" id=\"DejaVuSans-70\"/>\r\n        <path d=\"M 34.28125 27.484375 \r\nQ 23.390625 27.484375 19.1875 25 \r\nQ 14.984375 22.515625 14.984375 16.5 \r\nQ 14.984375 11.71875 18.140625 8.90625 \r\nQ 21.296875 6.109375 26.703125 6.109375 \r\nQ 34.1875 6.109375 38.703125 11.40625 \r\nQ 43.21875 16.703125 43.21875 25.484375 \r\nL 43.21875 27.484375 \r\nz\r\nM 52.203125 31.203125 \r\nL 52.203125 0 \r\nL 43.21875 0 \r\nL 43.21875 8.296875 \r\nQ 40.140625 3.328125 35.546875 0.953125 \r\nQ 30.953125 -1.421875 24.3125 -1.421875 \r\nQ 15.921875 -1.421875 10.953125 3.296875 \r\nQ 6 8.015625 6 15.921875 \r\nQ 6 25.140625 12.171875 29.828125 \r\nQ 18.359375 34.515625 30.609375 34.515625 \r\nL 43.21875 34.515625 \r\nL 43.21875 35.40625 \r\nQ 43.21875 41.609375 39.140625 45 \r\nQ 35.0625 48.390625 27.6875 48.390625 \r\nQ 23 48.390625 18.546875 47.265625 \r\nQ 14.109375 46.140625 10.015625 43.890625 \r\nL 10.015625 52.203125 \r\nQ 14.9375 54.109375 19.578125 55.046875 \r\nQ 24.21875 56 28.609375 56 \r\nQ 40.484375 56 46.34375 49.84375 \r\nQ 52.203125 43.703125 52.203125 31.203125 \r\nz\r\n\" id=\"DejaVuSans-97\"/>\r\n        <path d=\"M 18.3125 70.21875 \r\nL 18.3125 54.6875 \r\nL 36.8125 54.6875 \r\nL 36.8125 47.703125 \r\nL 18.3125 47.703125 \r\nL 18.3125 18.015625 \r\nQ 18.3125 11.328125 20.140625 9.421875 \r\nQ 21.96875 7.515625 27.59375 7.515625 \r\nL 36.8125 7.515625 \r\nL 36.8125 0 \r\nL 27.59375 0 \r\nQ 17.1875 0 13.234375 3.875 \r\nQ 9.28125 7.765625 9.28125 18.015625 \r\nL 9.28125 47.703125 \r\nL 2.6875 47.703125 \r\nL 2.6875 54.6875 \r\nL 9.28125 54.6875 \r\nL 9.28125 70.21875 \r\nz\r\n\" id=\"DejaVuSans-116\"/>\r\n        <path d=\"M 25.390625 72.90625 \r\nL 33.6875 72.90625 \r\nL 8.296875 -9.28125 \r\nL 0 -9.28125 \r\nz\r\n\" id=\"DejaVuSans-47\"/>\r\n        <path d=\"M 2.984375 54.6875 \r\nL 12.5 54.6875 \r\nL 29.59375 8.796875 \r\nL 46.6875 54.6875 \r\nL 56.203125 54.6875 \r\nL 35.6875 0 \r\nL 23.484375 0 \r\nz\r\n\" id=\"DejaVuSans-118\"/>\r\n       </defs>\r\n       <use xlink:href=\"#DejaVuSans-70\"/>\r\n       <use x=\"52.019531\" xlink:href=\"#DejaVuSans-101\"/>\r\n       <use x=\"113.542969\" xlink:href=\"#DejaVuSans-101\"/>\r\n       <use x=\"175.066406\" xlink:href=\"#DejaVuSans-100\"/>\r\n       <use x=\"238.542969\" xlink:href=\"#DejaVuSans-95\"/>\r\n       <use x=\"288.542969\" xlink:href=\"#DejaVuSans-114\"/>\r\n       <use x=\"329.65625\" xlink:href=\"#DejaVuSans-97\"/>\r\n       <use x=\"390.935547\" xlink:href=\"#DejaVuSans-116\"/>\r\n       <use x=\"430.144531\" xlink:href=\"#DejaVuSans-101\"/>\r\n       <use x=\"491.667969\" xlink:href=\"#DejaVuSans-40\"/>\r\n       <use x=\"530.681641\" xlink:href=\"#DejaVuSans-109\"/>\r\n       <use x=\"628.09375\" xlink:href=\"#DejaVuSans-109\"/>\r\n       <use x=\"725.505859\" xlink:href=\"#DejaVuSans-47\"/>\r\n       <use x=\"759.197266\" xlink:href=\"#DejaVuSans-114\"/>\r\n       <use x=\"798.060547\" xlink:href=\"#DejaVuSans-101\"/>\r\n       <use x=\"859.583984\" xlink:href=\"#DejaVuSans-118\"/>\r\n       <use x=\"918.763672\" xlink:href=\"#DejaVuSans-41\"/>\r\n      </g>\r\n     </g>\r\n    </g>\r\n    <g id=\"xtick_4\">\r\n     <g id=\"line2d_4\">\r\n      <g>\r\n       <use style=\"stroke:#000000;stroke-width:0.8;\" x=\"368.187812\" xlink:href=\"#m5757c32904\" y=\"445.879219\"/>\r\n      </g>\r\n     </g>\r\n     <g id=\"text_4\">\r\n      <!-- Depth_of_cut(mm) -->\r\n      <g transform=\"translate(365.83 546.018281)rotate(-90)scale(0.1 -0.1)\">\r\n       <defs>\r\n        <path d=\"M 19.671875 64.796875 \r\nL 19.671875 8.109375 \r\nL 31.59375 8.109375 \r\nQ 46.6875 8.109375 53.6875 14.9375 \r\nQ 60.6875 21.78125 60.6875 36.53125 \r\nQ 60.6875 51.171875 53.6875 57.984375 \r\nQ 46.6875 64.796875 31.59375 64.796875 \r\nz\r\nM 9.8125 72.90625 \r\nL 30.078125 72.90625 \r\nQ 51.265625 72.90625 61.171875 64.09375 \r\nQ 71.09375 55.28125 71.09375 36.53125 \r\nQ 71.09375 17.671875 61.125 8.828125 \r\nQ 51.171875 0 30.078125 0 \r\nL 9.8125 0 \r\nz\r\n\" id=\"DejaVuSans-68\"/>\r\n        <path d=\"M 54.890625 33.015625 \r\nL 54.890625 0 \r\nL 45.90625 0 \r\nL 45.90625 32.71875 \r\nQ 45.90625 40.484375 42.875 44.328125 \r\nQ 39.84375 48.1875 33.796875 48.1875 \r\nQ 26.515625 48.1875 22.3125 43.546875 \r\nQ 18.109375 38.921875 18.109375 30.90625 \r\nL 18.109375 0 \r\nL 9.078125 0 \r\nL 9.078125 75.984375 \r\nL 18.109375 75.984375 \r\nL 18.109375 46.1875 \r\nQ 21.34375 51.125 25.703125 53.5625 \r\nQ 30.078125 56 35.796875 56 \r\nQ 45.21875 56 50.046875 50.171875 \r\nQ 54.890625 44.34375 54.890625 33.015625 \r\nz\r\n\" id=\"DejaVuSans-104\"/>\r\n        <path d=\"M 37.109375 75.984375 \r\nL 37.109375 68.5 \r\nL 28.515625 68.5 \r\nQ 23.6875 68.5 21.796875 66.546875 \r\nQ 19.921875 64.59375 19.921875 59.515625 \r\nL 19.921875 54.6875 \r\nL 34.71875 54.6875 \r\nL 34.71875 47.703125 \r\nL 19.921875 47.703125 \r\nL 19.921875 0 \r\nL 10.890625 0 \r\nL 10.890625 47.703125 \r\nL 2.296875 47.703125 \r\nL 2.296875 54.6875 \r\nL 10.890625 54.6875 \r\nL 10.890625 58.5 \r\nQ 10.890625 67.625 15.140625 71.796875 \r\nQ 19.390625 75.984375 28.609375 75.984375 \r\nz\r\n\" id=\"DejaVuSans-102\"/>\r\n        <path d=\"M 48.78125 52.59375 \r\nL 48.78125 44.1875 \r\nQ 44.96875 46.296875 41.140625 47.34375 \r\nQ 37.3125 48.390625 33.40625 48.390625 \r\nQ 24.65625 48.390625 19.8125 42.84375 \r\nQ 14.984375 37.3125 14.984375 27.296875 \r\nQ 14.984375 17.28125 19.8125 11.734375 \r\nQ 24.65625 6.203125 33.40625 6.203125 \r\nQ 37.3125 6.203125 41.140625 7.25 \r\nQ 44.96875 8.296875 48.78125 10.40625 \r\nL 48.78125 2.09375 \r\nQ 45.015625 0.34375 40.984375 -0.53125 \r\nQ 36.96875 -1.421875 32.421875 -1.421875 \r\nQ 20.0625 -1.421875 12.78125 6.34375 \r\nQ 5.515625 14.109375 5.515625 27.296875 \r\nQ 5.515625 40.671875 12.859375 48.328125 \r\nQ 20.21875 56 33.015625 56 \r\nQ 37.15625 56 41.109375 55.140625 \r\nQ 45.0625 54.296875 48.78125 52.59375 \r\nz\r\n\" id=\"DejaVuSans-99\"/>\r\n        <path d=\"M 8.5 21.578125 \r\nL 8.5 54.6875 \r\nL 17.484375 54.6875 \r\nL 17.484375 21.921875 \r\nQ 17.484375 14.15625 20.5 10.265625 \r\nQ 23.53125 6.390625 29.59375 6.390625 \r\nQ 36.859375 6.390625 41.078125 11.03125 \r\nQ 45.3125 15.671875 45.3125 23.6875 \r\nL 45.3125 54.6875 \r\nL 54.296875 54.6875 \r\nL 54.296875 0 \r\nL 45.3125 0 \r\nL 45.3125 8.40625 \r\nQ 42.046875 3.421875 37.71875 1 \r\nQ 33.40625 -1.421875 27.6875 -1.421875 \r\nQ 18.265625 -1.421875 13.375 4.4375 \r\nQ 8.5 10.296875 8.5 21.578125 \r\nz\r\nM 31.109375 56 \r\nz\r\n\" id=\"DejaVuSans-117\"/>\r\n       </defs>\r\n       <use xlink:href=\"#DejaVuSans-68\"/>\r\n       <use x=\"77.001953\" xlink:href=\"#DejaVuSans-101\"/>\r\n       <use x=\"138.525391\" xlink:href=\"#DejaVuSans-112\"/>\r\n       <use x=\"202.001953\" xlink:href=\"#DejaVuSans-116\"/>\r\n       <use x=\"241.210938\" xlink:href=\"#DejaVuSans-104\"/>\r\n       <use x=\"304.589844\" xlink:href=\"#DejaVuSans-95\"/>\r\n       <use x=\"354.589844\" xlink:href=\"#DejaVuSans-111\"/>\r\n       <use x=\"415.771484\" xlink:href=\"#DejaVuSans-102\"/>\r\n       <use x=\"450.976562\" xlink:href=\"#DejaVuSans-95\"/>\r\n       <use x=\"500.976562\" xlink:href=\"#DejaVuSans-99\"/>\r\n       <use x=\"555.957031\" xlink:href=\"#DejaVuSans-117\"/>\r\n       <use x=\"619.335938\" xlink:href=\"#DejaVuSans-116\"/>\r\n       <use x=\"658.544922\" xlink:href=\"#DejaVuSans-40\"/>\r\n       <use x=\"697.558594\" xlink:href=\"#DejaVuSans-109\"/>\r\n       <use x=\"794.970703\" xlink:href=\"#DejaVuSans-109\"/>\r\n       <use x=\"892.382812\" xlink:href=\"#DejaVuSans-41\"/>\r\n      </g>\r\n     </g>\r\n    </g>\r\n    <g id=\"xtick_5\">\r\n     <g id=\"line2d_5\">\r\n      <g>\r\n       <use style=\"stroke:#000000;stroke-width:0.8;\" x=\"440.667812\" xlink:href=\"#m5757c32904\" y=\"445.879219\"/>\r\n      </g>\r\n     </g>\r\n     <g id=\"text_5\">\r\n      <!-- MRR(mm3/min) -->\r\n      <g transform=\"translate(438.588125 531.276094)rotate(-90)scale(0.1 -0.1)\">\r\n       <defs>\r\n        <path d=\"M 9.8125 72.90625 \r\nL 24.515625 72.90625 \r\nL 43.109375 23.296875 \r\nL 61.8125 72.90625 \r\nL 76.515625 72.90625 \r\nL 76.515625 0 \r\nL 66.890625 0 \r\nL 66.890625 64.015625 \r\nL 48.09375 14.015625 \r\nL 38.1875 14.015625 \r\nL 19.390625 64.015625 \r\nL 19.390625 0 \r\nL 9.8125 0 \r\nz\r\n\" id=\"DejaVuSans-77\"/>\r\n        <path d=\"M 44.390625 34.1875 \r\nQ 47.5625 33.109375 50.5625 29.59375 \r\nQ 53.5625 26.078125 56.59375 19.921875 \r\nL 66.609375 0 \r\nL 56 0 \r\nL 46.6875 18.703125 \r\nQ 43.0625 26.03125 39.671875 28.421875 \r\nQ 36.28125 30.8125 30.421875 30.8125 \r\nL 19.671875 30.8125 \r\nL 19.671875 0 \r\nL 9.8125 0 \r\nL 9.8125 72.90625 \r\nL 32.078125 72.90625 \r\nQ 44.578125 72.90625 50.734375 67.671875 \r\nQ 56.890625 62.453125 56.890625 51.90625 \r\nQ 56.890625 45.015625 53.6875 40.46875 \r\nQ 50.484375 35.9375 44.390625 34.1875 \r\nz\r\nM 19.671875 64.796875 \r\nL 19.671875 38.921875 \r\nL 32.078125 38.921875 \r\nQ 39.203125 38.921875 42.84375 42.21875 \r\nQ 46.484375 45.515625 46.484375 51.90625 \r\nQ 46.484375 58.296875 42.84375 61.546875 \r\nQ 39.203125 64.796875 32.078125 64.796875 \r\nz\r\n\" id=\"DejaVuSans-82\"/>\r\n        <path d=\"M 40.578125 39.3125 \r\nQ 47.65625 37.796875 51.625 33 \r\nQ 55.609375 28.21875 55.609375 21.1875 \r\nQ 55.609375 10.40625 48.1875 4.484375 \r\nQ 40.765625 -1.421875 27.09375 -1.421875 \r\nQ 22.515625 -1.421875 17.65625 -0.515625 \r\nQ 12.796875 0.390625 7.625 2.203125 \r\nL 7.625 11.71875 \r\nQ 11.71875 9.328125 16.59375 8.109375 \r\nQ 21.484375 6.890625 26.8125 6.890625 \r\nQ 36.078125 6.890625 40.9375 10.546875 \r\nQ 45.796875 14.203125 45.796875 21.1875 \r\nQ 45.796875 27.640625 41.28125 31.265625 \r\nQ 36.765625 34.90625 28.71875 34.90625 \r\nL 20.21875 34.90625 \r\nL 20.21875 43.015625 \r\nL 29.109375 43.015625 \r\nQ 36.375 43.015625 40.234375 45.921875 \r\nQ 44.09375 48.828125 44.09375 54.296875 \r\nQ 44.09375 59.90625 40.109375 62.90625 \r\nQ 36.140625 65.921875 28.71875 65.921875 \r\nQ 24.65625 65.921875 20.015625 65.03125 \r\nQ 15.375 64.15625 9.8125 62.3125 \r\nL 9.8125 71.09375 \r\nQ 15.4375 72.65625 20.34375 73.4375 \r\nQ 25.25 74.21875 29.59375 74.21875 \r\nQ 40.828125 74.21875 47.359375 69.109375 \r\nQ 53.90625 64.015625 53.90625 55.328125 \r\nQ 53.90625 49.265625 50.4375 45.09375 \r\nQ 46.96875 40.921875 40.578125 39.3125 \r\nz\r\n\" id=\"DejaVuSans-51\"/>\r\n       </defs>\r\n       <use xlink:href=\"#DejaVuSans-77\"/>\r\n       <use x=\"86.279297\" xlink:href=\"#DejaVuSans-82\"/>\r\n       <use x=\"155.761719\" xlink:href=\"#DejaVuSans-82\"/>\r\n       <use x=\"225.244141\" xlink:href=\"#DejaVuSans-40\"/>\r\n       <use x=\"264.257812\" xlink:href=\"#DejaVuSans-109\"/>\r\n       <use x=\"361.669922\" xlink:href=\"#DejaVuSans-109\"/>\r\n       <use x=\"459.082031\" xlink:href=\"#DejaVuSans-51\"/>\r\n       <use x=\"522.705078\" xlink:href=\"#DejaVuSans-47\"/>\r\n       <use x=\"556.396484\" xlink:href=\"#DejaVuSans-109\"/>\r\n       <use x=\"653.808594\" xlink:href=\"#DejaVuSans-105\"/>\r\n       <use x=\"681.591797\" xlink:href=\"#DejaVuSans-110\"/>\r\n       <use x=\"744.970703\" xlink:href=\"#DejaVuSans-41\"/>\r\n      </g>\r\n     </g>\r\n    </g>\r\n    <g id=\"xtick_6\">\r\n     <g id=\"line2d_6\">\r\n      <g>\r\n       <use style=\"stroke:#000000;stroke-width:0.8;\" x=\"513.147812\" xlink:href=\"#m5757c32904\" y=\"445.879219\"/>\r\n      </g>\r\n     </g>\r\n     <g id=\"text_6\">\r\n      <!-- Ra(µm) -->\r\n      <g transform=\"translate(511.068125 489.637031)rotate(-90)scale(0.1 -0.1)\">\r\n       <defs>\r\n        <path d=\"M 8.5 -20.796875 \r\nL 8.5 54.6875 \r\nL 17.484375 54.6875 \r\nL 17.484375 20.703125 \r\nQ 17.484375 13.625 20.84375 10 \r\nQ 24.21875 6.390625 30.8125 6.390625 \r\nQ 38.03125 6.390625 41.671875 10.484375 \r\nQ 45.3125 14.59375 45.3125 22.796875 \r\nL 45.3125 54.6875 \r\nL 54.296875 54.6875 \r\nL 54.296875 12.59375 \r\nQ 54.296875 9.671875 55.140625 8.28125 \r\nQ 56 6.890625 57.8125 6.890625 \r\nQ 58.25 6.890625 59.03125 7.15625 \r\nQ 59.8125 7.421875 61.1875 8.015625 \r\nL 61.1875 0.78125 \r\nQ 59.1875 -0.34375 57.390625 -0.875 \r\nQ 55.609375 -1.421875 53.90625 -1.421875 \r\nQ 50.53125 -1.421875 48.53125 0.484375 \r\nQ 46.53125 2.390625 45.796875 6.296875 \r\nQ 43.359375 2.4375 39.8125 0.5 \r\nQ 36.28125 -1.421875 31.5 -1.421875 \r\nQ 26.515625 -1.421875 23.015625 0.484375 \r\nQ 19.53125 2.390625 17.484375 6.203125 \r\nL 17.484375 -20.796875 \r\nz\r\n\" id=\"DejaVuSans-181\"/>\r\n       </defs>\r\n       <use xlink:href=\"#DejaVuSans-82\"/>\r\n       <use x=\"67.232422\" xlink:href=\"#DejaVuSans-97\"/>\r\n       <use x=\"128.511719\" xlink:href=\"#DejaVuSans-40\"/>\r\n       <use x=\"167.525391\" xlink:href=\"#DejaVuSans-181\"/>\r\n       <use x=\"231.148438\" xlink:href=\"#DejaVuSans-109\"/>\r\n       <use x=\"328.560547\" xlink:href=\"#DejaVuSans-41\"/>\r\n      </g>\r\n     </g>\r\n    </g>\r\n   </g>\r\n   <g id=\"matplotlib.axis_2\">\r\n    <g id=\"ytick_1\">\r\n     <g id=\"line2d_7\">\r\n      <defs>\r\n       <path d=\"M 0 0 \r\nL -3.5 0 \r\n\" id=\"mffc15e8d2c\" style=\"stroke:#000000;stroke-width:0.8;\"/>\r\n      </defs>\r\n      <g>\r\n       <use style=\"stroke:#000000;stroke-width:0.8;\" x=\"114.507813\" xlink:href=\"#mffc15e8d2c\" y=\"47.239219\"/>\r\n      </g>\r\n     </g>\r\n     <g id=\"text_7\">\r\n      <!-- Sr._No. -->\r\n      <g transform=\"translate(73.179688 50.950156)scale(0.1 -0.1)\">\r\n       <use xlink:href=\"#DejaVuSans-83\"/>\r\n       <use x=\"63.476562\" xlink:href=\"#DejaVuSans-114\"/>\r\n       <use x=\"95.464844\" xlink:href=\"#DejaVuSans-46\"/>\r\n       <use x=\"127.251953\" xlink:href=\"#DejaVuSans-95\"/>\r\n       <use x=\"177.251953\" xlink:href=\"#DejaVuSans-78\"/>\r\n       <use x=\"252.056641\" xlink:href=\"#DejaVuSans-111\"/>\r\n       <use x=\"311.488281\" xlink:href=\"#DejaVuSans-46\"/>\r\n      </g>\r\n     </g>\r\n    </g>\r\n    <g id=\"ytick_2\">\r\n     <g id=\"line2d_8\">\r\n      <g>\r\n       <use style=\"stroke:#000000;stroke-width:0.8;\" x=\"114.507813\" xlink:href=\"#mffc15e8d2c\" y=\"119.719219\"/>\r\n      </g>\r\n     </g>\r\n     <g id=\"text_8\">\r\n      <!-- Spindle_speed(rpm) -->\r\n      <g transform=\"translate(7.2 123.518437)scale(0.1 -0.1)\">\r\n       <use xlink:href=\"#DejaVuSans-83\"/>\r\n       <use x=\"63.476562\" xlink:href=\"#DejaVuSans-112\"/>\r\n       <use x=\"126.953125\" xlink:href=\"#DejaVuSans-105\"/>\r\n       <use x=\"154.736328\" xlink:href=\"#DejaVuSans-110\"/>\r\n       <use x=\"218.115234\" xlink:href=\"#DejaVuSans-100\"/>\r\n       <use x=\"281.591797\" xlink:href=\"#DejaVuSans-108\"/>\r\n       <use x=\"309.375\" xlink:href=\"#DejaVuSans-101\"/>\r\n       <use x=\"370.898438\" xlink:href=\"#DejaVuSans-95\"/>\r\n       <use x=\"420.898438\" xlink:href=\"#DejaVuSans-115\"/>\r\n       <use x=\"472.998047\" xlink:href=\"#DejaVuSans-112\"/>\r\n       <use x=\"536.474609\" xlink:href=\"#DejaVuSans-101\"/>\r\n       <use x=\"597.998047\" xlink:href=\"#DejaVuSans-101\"/>\r\n       <use x=\"659.521484\" xlink:href=\"#DejaVuSans-100\"/>\r\n       <use x=\"722.998047\" xlink:href=\"#DejaVuSans-40\"/>\r\n       <use x=\"762.011719\" xlink:href=\"#DejaVuSans-114\"/>\r\n       <use x=\"803.125\" xlink:href=\"#DejaVuSans-112\"/>\r\n       <use x=\"866.601562\" xlink:href=\"#DejaVuSans-109\"/>\r\n       <use x=\"964.013672\" xlink:href=\"#DejaVuSans-41\"/>\r\n      </g>\r\n     </g>\r\n    </g>\r\n    <g id=\"ytick_3\">\r\n     <g id=\"line2d_9\">\r\n      <g>\r\n       <use style=\"stroke:#000000;stroke-width:0.8;\" x=\"114.507813\" xlink:href=\"#mffc15e8d2c\" y=\"192.199219\"/>\r\n      </g>\r\n     </g>\r\n     <g id=\"text_9\">\r\n      <!-- Feed_rate(mm/rev) -->\r\n      <g transform=\"translate(11.728125 195.998437)scale(0.1 -0.1)\">\r\n       <use xlink:href=\"#DejaVuSans-70\"/>\r\n       <use x=\"52.019531\" xlink:href=\"#DejaVuSans-101\"/>\r\n       <use x=\"113.542969\" xlink:href=\"#DejaVuSans-101\"/>\r\n       <use x=\"175.066406\" xlink:href=\"#DejaVuSans-100\"/>\r\n       <use x=\"238.542969\" xlink:href=\"#DejaVuSans-95\"/>\r\n       <use x=\"288.542969\" xlink:href=\"#DejaVuSans-114\"/>\r\n       <use x=\"329.65625\" xlink:href=\"#DejaVuSans-97\"/>\r\n       <use x=\"390.935547\" xlink:href=\"#DejaVuSans-116\"/>\r\n       <use x=\"430.144531\" xlink:href=\"#DejaVuSans-101\"/>\r\n       <use x=\"491.667969\" xlink:href=\"#DejaVuSans-40\"/>\r\n       <use x=\"530.681641\" xlink:href=\"#DejaVuSans-109\"/>\r\n       <use x=\"628.09375\" xlink:href=\"#DejaVuSans-109\"/>\r\n       <use x=\"725.505859\" xlink:href=\"#DejaVuSans-47\"/>\r\n       <use x=\"759.197266\" xlink:href=\"#DejaVuSans-114\"/>\r\n       <use x=\"798.060547\" xlink:href=\"#DejaVuSans-101\"/>\r\n       <use x=\"859.583984\" xlink:href=\"#DejaVuSans-118\"/>\r\n       <use x=\"918.763672\" xlink:href=\"#DejaVuSans-41\"/>\r\n      </g>\r\n     </g>\r\n    </g>\r\n    <g id=\"ytick_4\">\r\n     <g id=\"line2d_10\">\r\n      <g>\r\n       <use style=\"stroke:#000000;stroke-width:0.8;\" x=\"114.507813\" xlink:href=\"#mffc15e8d2c\" y=\"264.679219\"/>\r\n      </g>\r\n     </g>\r\n     <g id=\"text_10\">\r\n      <!-- Depth_of_cut(mm) -->\r\n      <g transform=\"translate(14.36875 268.478437)scale(0.1 -0.1)\">\r\n       <use xlink:href=\"#DejaVuSans-68\"/>\r\n       <use x=\"77.001953\" xlink:href=\"#DejaVuSans-101\"/>\r\n       <use x=\"138.525391\" xlink:href=\"#DejaVuSans-112\"/>\r\n       <use x=\"202.001953\" xlink:href=\"#DejaVuSans-116\"/>\r\n       <use x=\"241.210938\" xlink:href=\"#DejaVuSans-104\"/>\r\n       <use x=\"304.589844\" xlink:href=\"#DejaVuSans-95\"/>\r\n       <use x=\"354.589844\" xlink:href=\"#DejaVuSans-111\"/>\r\n       <use x=\"415.771484\" xlink:href=\"#DejaVuSans-102\"/>\r\n       <use x=\"450.976562\" xlink:href=\"#DejaVuSans-95\"/>\r\n       <use x=\"500.976562\" xlink:href=\"#DejaVuSans-99\"/>\r\n       <use x=\"555.957031\" xlink:href=\"#DejaVuSans-117\"/>\r\n       <use x=\"619.335938\" xlink:href=\"#DejaVuSans-116\"/>\r\n       <use x=\"658.544922\" xlink:href=\"#DejaVuSans-40\"/>\r\n       <use x=\"697.558594\" xlink:href=\"#DejaVuSans-109\"/>\r\n       <use x=\"794.970703\" xlink:href=\"#DejaVuSans-109\"/>\r\n       <use x=\"892.382812\" xlink:href=\"#DejaVuSans-41\"/>\r\n      </g>\r\n     </g>\r\n    </g>\r\n    <g id=\"ytick_5\">\r\n     <g id=\"line2d_11\">\r\n      <g>\r\n       <use style=\"stroke:#000000;stroke-width:0.8;\" x=\"114.507813\" xlink:href=\"#mffc15e8d2c\" y=\"337.159219\"/>\r\n      </g>\r\n     </g>\r\n     <g id=\"text_11\">\r\n      <!-- MRR(mm3/min) -->\r\n      <g transform=\"translate(29.110938 340.958437)scale(0.1 -0.1)\">\r\n       <use xlink:href=\"#DejaVuSans-77\"/>\r\n       <use x=\"86.279297\" xlink:href=\"#DejaVuSans-82\"/>\r\n       <use x=\"155.761719\" xlink:href=\"#DejaVuSans-82\"/>\r\n       <use x=\"225.244141\" xlink:href=\"#DejaVuSans-40\"/>\r\n       <use x=\"264.257812\" xlink:href=\"#DejaVuSans-109\"/>\r\n       <use x=\"361.669922\" xlink:href=\"#DejaVuSans-109\"/>\r\n       <use x=\"459.082031\" xlink:href=\"#DejaVuSans-51\"/>\r\n       <use x=\"522.705078\" xlink:href=\"#DejaVuSans-47\"/>\r\n       <use x=\"556.396484\" xlink:href=\"#DejaVuSans-109\"/>\r\n       <use x=\"653.808594\" xlink:href=\"#DejaVuSans-105\"/>\r\n       <use x=\"681.591797\" xlink:href=\"#DejaVuSans-110\"/>\r\n       <use x=\"744.970703\" xlink:href=\"#DejaVuSans-41\"/>\r\n      </g>\r\n     </g>\r\n    </g>\r\n    <g id=\"ytick_6\">\r\n     <g id=\"line2d_12\">\r\n      <g>\r\n       <use style=\"stroke:#000000;stroke-width:0.8;\" x=\"114.507813\" xlink:href=\"#mffc15e8d2c\" y=\"409.639219\"/>\r\n      </g>\r\n     </g>\r\n     <g id=\"text_12\">\r\n      <!-- Ra(µm) -->\r\n      <g transform=\"translate(70.75 413.438437)scale(0.1 -0.1)\">\r\n       <use xlink:href=\"#DejaVuSans-82\"/>\r\n       <use x=\"67.232422\" xlink:href=\"#DejaVuSans-97\"/>\r\n       <use x=\"128.511719\" xlink:href=\"#DejaVuSans-40\"/>\r\n       <use x=\"167.525391\" xlink:href=\"#DejaVuSans-181\"/>\r\n       <use x=\"231.148438\" xlink:href=\"#DejaVuSans-109\"/>\r\n       <use x=\"328.560547\" xlink:href=\"#DejaVuSans-41\"/>\r\n      </g>\r\n     </g>\r\n    </g>\r\n   </g>\r\n   <g id=\"text_13\">\r\n    <!-- 1 -->\r\n    <g style=\"fill:#ffffff;\" transform=\"translate(147.566563 49.998594)scale(0.1 -0.1)\">\r\n     <defs>\r\n      <path d=\"M 12.40625 8.296875 \r\nL 28.515625 8.296875 \r\nL 28.515625 63.921875 \r\nL 10.984375 60.40625 \r\nL 10.984375 69.390625 \r\nL 28.421875 72.90625 \r\nL 38.28125 72.90625 \r\nL 38.28125 8.296875 \r\nL 54.390625 8.296875 \r\nL 54.390625 0 \r\nL 12.40625 0 \r\nz\r\n\" id=\"DejaVuSans-49\"/>\r\n     </defs>\r\n     <use xlink:href=\"#DejaVuSans-49\"/>\r\n    </g>\r\n   </g>\r\n   <g id=\"text_14\">\r\n    <!-- 0.93 -->\r\n    <g style=\"fill:#ffffff;\" transform=\"translate(212.095 49.998594)scale(0.1 -0.1)\">\r\n     <defs>\r\n      <path d=\"M 31.78125 66.40625 \r\nQ 24.171875 66.40625 20.328125 58.90625 \r\nQ 16.5 51.421875 16.5 36.375 \r\nQ 16.5 21.390625 20.328125 13.890625 \r\nQ 24.171875 6.390625 31.78125 6.390625 \r\nQ 39.453125 6.390625 43.28125 13.890625 \r\nQ 47.125 21.390625 47.125 36.375 \r\nQ 47.125 51.421875 43.28125 58.90625 \r\nQ 39.453125 66.40625 31.78125 66.40625 \r\nz\r\nM 31.78125 74.21875 \r\nQ 44.046875 74.21875 50.515625 64.515625 \r\nQ 56.984375 54.828125 56.984375 36.375 \r\nQ 56.984375 17.96875 50.515625 8.265625 \r\nQ 44.046875 -1.421875 31.78125 -1.421875 \r\nQ 19.53125 -1.421875 13.0625 8.265625 \r\nQ 6.59375 17.96875 6.59375 36.375 \r\nQ 6.59375 54.828125 13.0625 64.515625 \r\nQ 19.53125 74.21875 31.78125 74.21875 \r\nz\r\n\" id=\"DejaVuSans-48\"/>\r\n      <path d=\"M 10.984375 1.515625 \r\nL 10.984375 10.5 \r\nQ 14.703125 8.734375 18.5 7.8125 \r\nQ 22.3125 6.890625 25.984375 6.890625 \r\nQ 35.75 6.890625 40.890625 13.453125 \r\nQ 46.046875 20.015625 46.78125 33.40625 \r\nQ 43.953125 29.203125 39.59375 26.953125 \r\nQ 35.25 24.703125 29.984375 24.703125 \r\nQ 19.046875 24.703125 12.671875 31.3125 \r\nQ 6.296875 37.9375 6.296875 49.421875 \r\nQ 6.296875 60.640625 12.9375 67.421875 \r\nQ 19.578125 74.21875 30.609375 74.21875 \r\nQ 43.265625 74.21875 49.921875 64.515625 \r\nQ 56.59375 54.828125 56.59375 36.375 \r\nQ 56.59375 19.140625 48.40625 8.859375 \r\nQ 40.234375 -1.421875 26.421875 -1.421875 \r\nQ 22.703125 -1.421875 18.890625 -0.6875 \r\nQ 15.09375 0.046875 10.984375 1.515625 \r\nz\r\nM 30.609375 32.421875 \r\nQ 37.25 32.421875 41.125 36.953125 \r\nQ 45.015625 41.5 45.015625 49.421875 \r\nQ 45.015625 57.28125 41.125 61.84375 \r\nQ 37.25 66.40625 30.609375 66.40625 \r\nQ 23.96875 66.40625 20.09375 61.84375 \r\nQ 16.21875 57.28125 16.21875 49.421875 \r\nQ 16.21875 41.5 20.09375 36.953125 \r\nQ 23.96875 32.421875 30.609375 32.421875 \r\nz\r\n\" id=\"DejaVuSans-57\"/>\r\n     </defs>\r\n     <use xlink:href=\"#DejaVuSans-48\"/>\r\n     <use x=\"63.623047\" xlink:href=\"#DejaVuSans-46\"/>\r\n     <use x=\"95.410156\" xlink:href=\"#DejaVuSans-57\"/>\r\n     <use x=\"159.033203\" xlink:href=\"#DejaVuSans-51\"/>\r\n    </g>\r\n   </g>\r\n   <g id=\"text_15\">\r\n    <!-- 0.23 -->\r\n    <g style=\"fill:#262626;\" transform=\"translate(284.575 49.998594)scale(0.1 -0.1)\">\r\n     <defs>\r\n      <path d=\"M 19.1875 8.296875 \r\nL 53.609375 8.296875 \r\nL 53.609375 0 \r\nL 7.328125 0 \r\nL 7.328125 8.296875 \r\nQ 12.9375 14.109375 22.625 23.890625 \r\nQ 32.328125 33.6875 34.8125 36.53125 \r\nQ 39.546875 41.84375 41.421875 45.53125 \r\nQ 43.3125 49.21875 43.3125 52.78125 \r\nQ 43.3125 58.59375 39.234375 62.25 \r\nQ 35.15625 65.921875 28.609375 65.921875 \r\nQ 23.96875 65.921875 18.8125 64.3125 \r\nQ 13.671875 62.703125 7.8125 59.421875 \r\nL 7.8125 69.390625 \r\nQ 13.765625 71.78125 18.9375 73 \r\nQ 24.125 74.21875 28.421875 74.21875 \r\nQ 39.75 74.21875 46.484375 68.546875 \r\nQ 53.21875 62.890625 53.21875 53.421875 \r\nQ 53.21875 48.921875 51.53125 44.890625 \r\nQ 49.859375 40.875 45.40625 35.40625 \r\nQ 44.1875 33.984375 37.640625 27.21875 \r\nQ 31.109375 20.453125 19.1875 8.296875 \r\nz\r\n\" id=\"DejaVuSans-50\"/>\r\n     </defs>\r\n     <use xlink:href=\"#DejaVuSans-48\"/>\r\n     <use x=\"63.623047\" xlink:href=\"#DejaVuSans-46\"/>\r\n     <use x=\"95.410156\" xlink:href=\"#DejaVuSans-50\"/>\r\n     <use x=\"159.033203\" xlink:href=\"#DejaVuSans-51\"/>\r\n    </g>\r\n   </g>\r\n   <g id=\"text_16\">\r\n    <!-- 0.18 -->\r\n    <g style=\"fill:#262626;\" transform=\"translate(357.055 49.998594)scale(0.1 -0.1)\">\r\n     <defs>\r\n      <path d=\"M 31.78125 34.625 \r\nQ 24.75 34.625 20.71875 30.859375 \r\nQ 16.703125 27.09375 16.703125 20.515625 \r\nQ 16.703125 13.921875 20.71875 10.15625 \r\nQ 24.75 6.390625 31.78125 6.390625 \r\nQ 38.8125 6.390625 42.859375 10.171875 \r\nQ 46.921875 13.96875 46.921875 20.515625 \r\nQ 46.921875 27.09375 42.890625 30.859375 \r\nQ 38.875 34.625 31.78125 34.625 \r\nz\r\nM 21.921875 38.8125 \r\nQ 15.578125 40.375 12.03125 44.71875 \r\nQ 8.5 49.078125 8.5 55.328125 \r\nQ 8.5 64.0625 14.71875 69.140625 \r\nQ 20.953125 74.21875 31.78125 74.21875 \r\nQ 42.671875 74.21875 48.875 69.140625 \r\nQ 55.078125 64.0625 55.078125 55.328125 \r\nQ 55.078125 49.078125 51.53125 44.71875 \r\nQ 48 40.375 41.703125 38.8125 \r\nQ 48.828125 37.15625 52.796875 32.3125 \r\nQ 56.78125 27.484375 56.78125 20.515625 \r\nQ 56.78125 9.90625 50.3125 4.234375 \r\nQ 43.84375 -1.421875 31.78125 -1.421875 \r\nQ 19.734375 -1.421875 13.25 4.234375 \r\nQ 6.78125 9.90625 6.78125 20.515625 \r\nQ 6.78125 27.484375 10.78125 32.3125 \r\nQ 14.796875 37.15625 21.921875 38.8125 \r\nz\r\nM 18.3125 54.390625 \r\nQ 18.3125 48.734375 21.84375 45.5625 \r\nQ 25.390625 42.390625 31.78125 42.390625 \r\nQ 38.140625 42.390625 41.71875 45.5625 \r\nQ 45.3125 48.734375 45.3125 54.390625 \r\nQ 45.3125 60.0625 41.71875 63.234375 \r\nQ 38.140625 66.40625 31.78125 66.40625 \r\nQ 25.390625 66.40625 21.84375 63.234375 \r\nQ 18.3125 60.0625 18.3125 54.390625 \r\nz\r\n\" id=\"DejaVuSans-56\"/>\r\n     </defs>\r\n     <use xlink:href=\"#DejaVuSans-48\"/>\r\n     <use x=\"63.623047\" xlink:href=\"#DejaVuSans-46\"/>\r\n     <use x=\"95.410156\" xlink:href=\"#DejaVuSans-49\"/>\r\n     <use x=\"159.033203\" xlink:href=\"#DejaVuSans-56\"/>\r\n    </g>\r\n   </g>\r\n   <g id=\"text_17\">\r\n    <!-- 0.65 -->\r\n    <g style=\"fill:#ffffff;\" transform=\"translate(429.535 49.998594)scale(0.1 -0.1)\">\r\n     <defs>\r\n      <path d=\"M 33.015625 40.375 \r\nQ 26.375 40.375 22.484375 35.828125 \r\nQ 18.609375 31.296875 18.609375 23.390625 \r\nQ 18.609375 15.53125 22.484375 10.953125 \r\nQ 26.375 6.390625 33.015625 6.390625 \r\nQ 39.65625 6.390625 43.53125 10.953125 \r\nQ 47.40625 15.53125 47.40625 23.390625 \r\nQ 47.40625 31.296875 43.53125 35.828125 \r\nQ 39.65625 40.375 33.015625 40.375 \r\nz\r\nM 52.59375 71.296875 \r\nL 52.59375 62.3125 \r\nQ 48.875 64.0625 45.09375 64.984375 \r\nQ 41.3125 65.921875 37.59375 65.921875 \r\nQ 27.828125 65.921875 22.671875 59.328125 \r\nQ 17.53125 52.734375 16.796875 39.40625 \r\nQ 19.671875 43.65625 24.015625 45.921875 \r\nQ 28.375 48.1875 33.59375 48.1875 \r\nQ 44.578125 48.1875 50.953125 41.515625 \r\nQ 57.328125 34.859375 57.328125 23.390625 \r\nQ 57.328125 12.15625 50.6875 5.359375 \r\nQ 44.046875 -1.421875 33.015625 -1.421875 \r\nQ 20.359375 -1.421875 13.671875 8.265625 \r\nQ 6.984375 17.96875 6.984375 36.375 \r\nQ 6.984375 53.65625 15.1875 63.9375 \r\nQ 23.390625 74.21875 37.203125 74.21875 \r\nQ 40.921875 74.21875 44.703125 73.484375 \r\nQ 48.484375 72.75 52.59375 71.296875 \r\nz\r\n\" id=\"DejaVuSans-54\"/>\r\n      <path d=\"M 10.796875 72.90625 \r\nL 49.515625 72.90625 \r\nL 49.515625 64.59375 \r\nL 19.828125 64.59375 \r\nL 19.828125 46.734375 \r\nQ 21.96875 47.46875 24.109375 47.828125 \r\nQ 26.265625 48.1875 28.421875 48.1875 \r\nQ 40.625 48.1875 47.75 41.5 \r\nQ 54.890625 34.8125 54.890625 23.390625 \r\nQ 54.890625 11.625 47.5625 5.09375 \r\nQ 40.234375 -1.421875 26.90625 -1.421875 \r\nQ 22.3125 -1.421875 17.546875 -0.640625 \r\nQ 12.796875 0.140625 7.71875 1.703125 \r\nL 7.71875 11.625 \r\nQ 12.109375 9.234375 16.796875 8.0625 \r\nQ 21.484375 6.890625 26.703125 6.890625 \r\nQ 35.15625 6.890625 40.078125 11.328125 \r\nQ 45.015625 15.765625 45.015625 23.390625 \r\nQ 45.015625 31 40.078125 35.4375 \r\nQ 35.15625 39.890625 26.703125 39.890625 \r\nQ 22.75 39.890625 18.8125 39.015625 \r\nQ 14.890625 38.140625 10.796875 36.28125 \r\nz\r\n\" id=\"DejaVuSans-53\"/>\r\n     </defs>\r\n     <use xlink:href=\"#DejaVuSans-48\"/>\r\n     <use x=\"63.623047\" xlink:href=\"#DejaVuSans-46\"/>\r\n     <use x=\"95.410156\" xlink:href=\"#DejaVuSans-54\"/>\r\n     <use x=\"159.033203\" xlink:href=\"#DejaVuSans-53\"/>\r\n    </g>\r\n   </g>\r\n   <g id=\"text_18\">\r\n    <!-- 0.22 -->\r\n    <g style=\"fill:#262626;\" transform=\"translate(502.015 49.998594)scale(0.1 -0.1)\">\r\n     <use xlink:href=\"#DejaVuSans-48\"/>\r\n     <use x=\"63.623047\" xlink:href=\"#DejaVuSans-46\"/>\r\n     <use x=\"95.410156\" xlink:href=\"#DejaVuSans-50\"/>\r\n     <use x=\"159.033203\" xlink:href=\"#DejaVuSans-50\"/>\r\n    </g>\r\n   </g>\r\n   <g id=\"text_19\">\r\n    <!-- 0.93 -->\r\n    <g style=\"fill:#ffffff;\" transform=\"translate(139.615 122.478594)scale(0.1 -0.1)\">\r\n     <use xlink:href=\"#DejaVuSans-48\"/>\r\n     <use x=\"63.623047\" xlink:href=\"#DejaVuSans-46\"/>\r\n     <use x=\"95.410156\" xlink:href=\"#DejaVuSans-57\"/>\r\n     <use x=\"159.033203\" xlink:href=\"#DejaVuSans-51\"/>\r\n    </g>\r\n   </g>\r\n   <g id=\"text_20\">\r\n    <!-- 1 -->\r\n    <g style=\"fill:#ffffff;\" transform=\"translate(220.046563 122.478594)scale(0.1 -0.1)\">\r\n     <use xlink:href=\"#DejaVuSans-49\"/>\r\n    </g>\r\n   </g>\r\n   <g id=\"text_21\">\r\n    <!-- -0.0068 -->\r\n    <g style=\"fill:#262626;\" transform=\"translate(276.408594 122.478594)scale(0.1 -0.1)\">\r\n     <defs>\r\n      <path d=\"M 4.890625 31.390625 \r\nL 31.203125 31.390625 \r\nL 31.203125 23.390625 \r\nL 4.890625 23.390625 \r\nz\r\n\" id=\"DejaVuSans-45\"/>\r\n     </defs>\r\n     <use xlink:href=\"#DejaVuSans-45\"/>\r\n     <use x=\"36.083984\" xlink:href=\"#DejaVuSans-48\"/>\r\n     <use x=\"99.707031\" xlink:href=\"#DejaVuSans-46\"/>\r\n     <use x=\"131.494141\" xlink:href=\"#DejaVuSans-48\"/>\r\n     <use x=\"195.117188\" xlink:href=\"#DejaVuSans-48\"/>\r\n     <use x=\"258.740234\" xlink:href=\"#DejaVuSans-54\"/>\r\n     <use x=\"322.363281\" xlink:href=\"#DejaVuSans-56\"/>\r\n    </g>\r\n   </g>\r\n   <g id=\"text_22\">\r\n    <!-- 0.052 -->\r\n    <g style=\"fill:#262626;\" transform=\"translate(353.87375 122.478594)scale(0.1 -0.1)\">\r\n     <use xlink:href=\"#DejaVuSans-48\"/>\r\n     <use x=\"63.623047\" xlink:href=\"#DejaVuSans-46\"/>\r\n     <use x=\"95.410156\" xlink:href=\"#DejaVuSans-48\"/>\r\n     <use x=\"159.033203\" xlink:href=\"#DejaVuSans-53\"/>\r\n     <use x=\"222.65625\" xlink:href=\"#DejaVuSans-50\"/>\r\n    </g>\r\n   </g>\r\n   <g id=\"text_23\">\r\n    <!-- 0.5 -->\r\n    <g style=\"fill:#262626;\" transform=\"translate(432.71625 122.478594)scale(0.1 -0.1)\">\r\n     <use xlink:href=\"#DejaVuSans-48\"/>\r\n     <use x=\"63.623047\" xlink:href=\"#DejaVuSans-46\"/>\r\n     <use x=\"95.410156\" xlink:href=\"#DejaVuSans-53\"/>\r\n    </g>\r\n   </g>\r\n   <g id=\"text_24\">\r\n    <!-- -0.027 -->\r\n    <g style=\"fill:#262626;\" transform=\"translate(497.029844 122.478594)scale(0.1 -0.1)\">\r\n     <defs>\r\n      <path d=\"M 8.203125 72.90625 \r\nL 55.078125 72.90625 \r\nL 55.078125 68.703125 \r\nL 28.609375 0 \r\nL 18.3125 0 \r\nL 43.21875 64.59375 \r\nL 8.203125 64.59375 \r\nz\r\n\" id=\"DejaVuSans-55\"/>\r\n     </defs>\r\n     <use xlink:href=\"#DejaVuSans-45\"/>\r\n     <use x=\"36.083984\" xlink:href=\"#DejaVuSans-48\"/>\r\n     <use x=\"99.707031\" xlink:href=\"#DejaVuSans-46\"/>\r\n     <use x=\"131.494141\" xlink:href=\"#DejaVuSans-48\"/>\r\n     <use x=\"195.117188\" xlink:href=\"#DejaVuSans-50\"/>\r\n     <use x=\"258.740234\" xlink:href=\"#DejaVuSans-55\"/>\r\n    </g>\r\n   </g>\r\n   <g id=\"text_25\">\r\n    <!-- 0.23 -->\r\n    <g style=\"fill:#262626;\" transform=\"translate(139.615 194.958594)scale(0.1 -0.1)\">\r\n     <use xlink:href=\"#DejaVuSans-48\"/>\r\n     <use x=\"63.623047\" xlink:href=\"#DejaVuSans-46\"/>\r\n     <use x=\"95.410156\" xlink:href=\"#DejaVuSans-50\"/>\r\n     <use x=\"159.033203\" xlink:href=\"#DejaVuSans-51\"/>\r\n    </g>\r\n   </g>\r\n   <g id=\"text_26\">\r\n    <!-- -0.0068 -->\r\n    <g style=\"fill:#262626;\" transform=\"translate(203.928594 194.958594)scale(0.1 -0.1)\">\r\n     <use xlink:href=\"#DejaVuSans-45\"/>\r\n     <use x=\"36.083984\" xlink:href=\"#DejaVuSans-48\"/>\r\n     <use x=\"99.707031\" xlink:href=\"#DejaVuSans-46\"/>\r\n     <use x=\"131.494141\" xlink:href=\"#DejaVuSans-48\"/>\r\n     <use x=\"195.117188\" xlink:href=\"#DejaVuSans-48\"/>\r\n     <use x=\"258.740234\" xlink:href=\"#DejaVuSans-54\"/>\r\n     <use x=\"322.363281\" xlink:href=\"#DejaVuSans-56\"/>\r\n    </g>\r\n   </g>\r\n   <g id=\"text_27\">\r\n    <!-- 1 -->\r\n    <g style=\"fill:#ffffff;\" transform=\"translate(292.526563 194.958594)scale(0.1 -0.1)\">\r\n     <use xlink:href=\"#DejaVuSans-49\"/>\r\n    </g>\r\n   </g>\r\n   <g id=\"text_28\">\r\n    <!-- 0.14 -->\r\n    <g style=\"fill:#262626;\" transform=\"translate(357.055 194.958594)scale(0.1 -0.1)\">\r\n     <defs>\r\n      <path d=\"M 37.796875 64.3125 \r\nL 12.890625 25.390625 \r\nL 37.796875 25.390625 \r\nz\r\nM 35.203125 72.90625 \r\nL 47.609375 72.90625 \r\nL 47.609375 25.390625 \r\nL 58.015625 25.390625 \r\nL 58.015625 17.1875 \r\nL 47.609375 17.1875 \r\nL 47.609375 0 \r\nL 37.796875 0 \r\nL 37.796875 17.1875 \r\nL 4.890625 17.1875 \r\nL 4.890625 26.703125 \r\nz\r\n\" id=\"DejaVuSans-52\"/>\r\n     </defs>\r\n     <use xlink:href=\"#DejaVuSans-48\"/>\r\n     <use x=\"63.623047\" xlink:href=\"#DejaVuSans-46\"/>\r\n     <use x=\"95.410156\" xlink:href=\"#DejaVuSans-49\"/>\r\n     <use x=\"159.033203\" xlink:href=\"#DejaVuSans-52\"/>\r\n    </g>\r\n   </g>\r\n   <g id=\"text_29\">\r\n    <!-- 0.59 -->\r\n    <g style=\"fill:#ffffff;\" transform=\"translate(429.535 194.958594)scale(0.1 -0.1)\">\r\n     <use xlink:href=\"#DejaVuSans-48\"/>\r\n     <use x=\"63.623047\" xlink:href=\"#DejaVuSans-46\"/>\r\n     <use x=\"95.410156\" xlink:href=\"#DejaVuSans-53\"/>\r\n     <use x=\"159.033203\" xlink:href=\"#DejaVuSans-57\"/>\r\n    </g>\r\n   </g>\r\n   <g id=\"text_30\">\r\n    <!-- 0.97 -->\r\n    <g style=\"fill:#ffffff;\" transform=\"translate(502.015 194.958594)scale(0.1 -0.1)\">\r\n     <use xlink:href=\"#DejaVuSans-48\"/>\r\n     <use x=\"63.623047\" xlink:href=\"#DejaVuSans-46\"/>\r\n     <use x=\"95.410156\" xlink:href=\"#DejaVuSans-57\"/>\r\n     <use x=\"159.033203\" xlink:href=\"#DejaVuSans-55\"/>\r\n    </g>\r\n   </g>\r\n   <g id=\"text_31\">\r\n    <!-- 0.18 -->\r\n    <g style=\"fill:#262626;\" transform=\"translate(139.615 267.438594)scale(0.1 -0.1)\">\r\n     <use xlink:href=\"#DejaVuSans-48\"/>\r\n     <use x=\"63.623047\" xlink:href=\"#DejaVuSans-46\"/>\r\n     <use x=\"95.410156\" xlink:href=\"#DejaVuSans-49\"/>\r\n     <use x=\"159.033203\" xlink:href=\"#DejaVuSans-56\"/>\r\n    </g>\r\n   </g>\r\n   <g id=\"text_32\">\r\n    <!-- 0.052 -->\r\n    <g style=\"fill:#262626;\" transform=\"translate(208.91375 267.438594)scale(0.1 -0.1)\">\r\n     <use xlink:href=\"#DejaVuSans-48\"/>\r\n     <use x=\"63.623047\" xlink:href=\"#DejaVuSans-46\"/>\r\n     <use x=\"95.410156\" xlink:href=\"#DejaVuSans-48\"/>\r\n     <use x=\"159.033203\" xlink:href=\"#DejaVuSans-53\"/>\r\n     <use x=\"222.65625\" xlink:href=\"#DejaVuSans-50\"/>\r\n    </g>\r\n   </g>\r\n   <g id=\"text_33\">\r\n    <!-- 0.14 -->\r\n    <g style=\"fill:#262626;\" transform=\"translate(284.575 267.438594)scale(0.1 -0.1)\">\r\n     <use xlink:href=\"#DejaVuSans-48\"/>\r\n     <use x=\"63.623047\" xlink:href=\"#DejaVuSans-46\"/>\r\n     <use x=\"95.410156\" xlink:href=\"#DejaVuSans-49\"/>\r\n     <use x=\"159.033203\" xlink:href=\"#DejaVuSans-52\"/>\r\n    </g>\r\n   </g>\r\n   <g id=\"text_34\">\r\n    <!-- 1 -->\r\n    <g style=\"fill:#ffffff;\" transform=\"translate(365.006562 267.438594)scale(0.1 -0.1)\">\r\n     <use xlink:href=\"#DejaVuSans-49\"/>\r\n    </g>\r\n   </g>\r\n   <g id=\"text_35\">\r\n    <!-- 0.63 -->\r\n    <g style=\"fill:#ffffff;\" transform=\"translate(429.535 267.438594)scale(0.1 -0.1)\">\r\n     <use xlink:href=\"#DejaVuSans-48\"/>\r\n     <use x=\"63.623047\" xlink:href=\"#DejaVuSans-46\"/>\r\n     <use x=\"95.410156\" xlink:href=\"#DejaVuSans-54\"/>\r\n     <use x=\"159.033203\" xlink:href=\"#DejaVuSans-51\"/>\r\n    </g>\r\n   </g>\r\n   <g id=\"text_36\">\r\n    <!-- 0.27 -->\r\n    <g style=\"fill:#262626;\" transform=\"translate(502.015 267.438594)scale(0.1 -0.1)\">\r\n     <use xlink:href=\"#DejaVuSans-48\"/>\r\n     <use x=\"63.623047\" xlink:href=\"#DejaVuSans-46\"/>\r\n     <use x=\"95.410156\" xlink:href=\"#DejaVuSans-50\"/>\r\n     <use x=\"159.033203\" xlink:href=\"#DejaVuSans-55\"/>\r\n    </g>\r\n   </g>\r\n   <g id=\"text_37\">\r\n    <!-- 0.65 -->\r\n    <g style=\"fill:#ffffff;\" transform=\"translate(139.615 339.918594)scale(0.1 -0.1)\">\r\n     <use xlink:href=\"#DejaVuSans-48\"/>\r\n     <use x=\"63.623047\" xlink:href=\"#DejaVuSans-46\"/>\r\n     <use x=\"95.410156\" xlink:href=\"#DejaVuSans-54\"/>\r\n     <use x=\"159.033203\" xlink:href=\"#DejaVuSans-53\"/>\r\n    </g>\r\n   </g>\r\n   <g id=\"text_38\">\r\n    <!-- 0.5 -->\r\n    <g style=\"fill:#262626;\" transform=\"translate(215.27625 339.918594)scale(0.1 -0.1)\">\r\n     <use xlink:href=\"#DejaVuSans-48\"/>\r\n     <use x=\"63.623047\" xlink:href=\"#DejaVuSans-46\"/>\r\n     <use x=\"95.410156\" xlink:href=\"#DejaVuSans-53\"/>\r\n    </g>\r\n   </g>\r\n   <g id=\"text_39\">\r\n    <!-- 0.59 -->\r\n    <g style=\"fill:#ffffff;\" transform=\"translate(284.575 339.918594)scale(0.1 -0.1)\">\r\n     <use xlink:href=\"#DejaVuSans-48\"/>\r\n     <use x=\"63.623047\" xlink:href=\"#DejaVuSans-46\"/>\r\n     <use x=\"95.410156\" xlink:href=\"#DejaVuSans-53\"/>\r\n     <use x=\"159.033203\" xlink:href=\"#DejaVuSans-57\"/>\r\n    </g>\r\n   </g>\r\n   <g id=\"text_40\">\r\n    <!-- 0.63 -->\r\n    <g style=\"fill:#ffffff;\" transform=\"translate(357.055 339.918594)scale(0.1 -0.1)\">\r\n     <use xlink:href=\"#DejaVuSans-48\"/>\r\n     <use x=\"63.623047\" xlink:href=\"#DejaVuSans-46\"/>\r\n     <use x=\"95.410156\" xlink:href=\"#DejaVuSans-54\"/>\r\n     <use x=\"159.033203\" xlink:href=\"#DejaVuSans-51\"/>\r\n    </g>\r\n   </g>\r\n   <g id=\"text_41\">\r\n    <!-- 1 -->\r\n    <g style=\"fill:#ffffff;\" transform=\"translate(437.486562 339.918594)scale(0.1 -0.1)\">\r\n     <use xlink:href=\"#DejaVuSans-49\"/>\r\n    </g>\r\n   </g>\r\n   <g id=\"text_42\">\r\n    <!-- 0.63 -->\r\n    <g style=\"fill:#ffffff;\" transform=\"translate(502.015 339.918594)scale(0.1 -0.1)\">\r\n     <use xlink:href=\"#DejaVuSans-48\"/>\r\n     <use x=\"63.623047\" xlink:href=\"#DejaVuSans-46\"/>\r\n     <use x=\"95.410156\" xlink:href=\"#DejaVuSans-54\"/>\r\n     <use x=\"159.033203\" xlink:href=\"#DejaVuSans-51\"/>\r\n    </g>\r\n   </g>\r\n   <g id=\"text_43\">\r\n    <!-- 0.22 -->\r\n    <g style=\"fill:#262626;\" transform=\"translate(139.615 412.398594)scale(0.1 -0.1)\">\r\n     <use xlink:href=\"#DejaVuSans-48\"/>\r\n     <use x=\"63.623047\" xlink:href=\"#DejaVuSans-46\"/>\r\n     <use x=\"95.410156\" xlink:href=\"#DejaVuSans-50\"/>\r\n     <use x=\"159.033203\" xlink:href=\"#DejaVuSans-50\"/>\r\n    </g>\r\n   </g>\r\n   <g id=\"text_44\">\r\n    <!-- -0.027 -->\r\n    <g style=\"fill:#262626;\" transform=\"translate(207.109844 412.398594)scale(0.1 -0.1)\">\r\n     <use xlink:href=\"#DejaVuSans-45\"/>\r\n     <use x=\"36.083984\" xlink:href=\"#DejaVuSans-48\"/>\r\n     <use x=\"99.707031\" xlink:href=\"#DejaVuSans-46\"/>\r\n     <use x=\"131.494141\" xlink:href=\"#DejaVuSans-48\"/>\r\n     <use x=\"195.117188\" xlink:href=\"#DejaVuSans-50\"/>\r\n     <use x=\"258.740234\" xlink:href=\"#DejaVuSans-55\"/>\r\n    </g>\r\n   </g>\r\n   <g id=\"text_45\">\r\n    <!-- 0.97 -->\r\n    <g style=\"fill:#ffffff;\" transform=\"translate(284.575 412.398594)scale(0.1 -0.1)\">\r\n     <use xlink:href=\"#DejaVuSans-48\"/>\r\n     <use x=\"63.623047\" xlink:href=\"#DejaVuSans-46\"/>\r\n     <use x=\"95.410156\" xlink:href=\"#DejaVuSans-57\"/>\r\n     <use x=\"159.033203\" xlink:href=\"#DejaVuSans-55\"/>\r\n    </g>\r\n   </g>\r\n   <g id=\"text_46\">\r\n    <!-- 0.27 -->\r\n    <g style=\"fill:#262626;\" transform=\"translate(357.055 412.398594)scale(0.1 -0.1)\">\r\n     <use xlink:href=\"#DejaVuSans-48\"/>\r\n     <use x=\"63.623047\" xlink:href=\"#DejaVuSans-46\"/>\r\n     <use x=\"95.410156\" xlink:href=\"#DejaVuSans-50\"/>\r\n     <use x=\"159.033203\" xlink:href=\"#DejaVuSans-55\"/>\r\n    </g>\r\n   </g>\r\n   <g id=\"text_47\">\r\n    <!-- 0.63 -->\r\n    <g style=\"fill:#ffffff;\" transform=\"translate(429.535 412.398594)scale(0.1 -0.1)\">\r\n     <use xlink:href=\"#DejaVuSans-48\"/>\r\n     <use x=\"63.623047\" xlink:href=\"#DejaVuSans-46\"/>\r\n     <use x=\"95.410156\" xlink:href=\"#DejaVuSans-54\"/>\r\n     <use x=\"159.033203\" xlink:href=\"#DejaVuSans-51\"/>\r\n    </g>\r\n   </g>\r\n   <g id=\"text_48\">\r\n    <!-- 1 -->\r\n    <g style=\"fill:#ffffff;\" transform=\"translate(509.966563 412.398594)scale(0.1 -0.1)\">\r\n     <use xlink:href=\"#DejaVuSans-49\"/>\r\n    </g>\r\n   </g>\r\n  </g>\r\n  <g id=\"axes_2\">\r\n   <g id=\"patch_3\">\r\n    <path clip-path=\"url(#pa9a945de2b)\" d=\"M 582.867813 445.879219 \r\nL 582.867813 444.180469 \r\nL 582.867813 12.697969 \r\nL 582.867813 10.999219 \r\nL 604.611813 10.999219 \r\nL 604.611813 12.697969 \r\nL 604.611813 444.180469 \r\nL 604.611813 445.879219 \r\nz\r\n\" style=\"fill:#ffffff;stroke:#ffffff;stroke-linejoin:miter;stroke-width:0.01;\"/>\r\n   </g>\r\n   <image height=\"434\" id=\"imagef99b458154\" transform=\"scale(1 -1)translate(0 -434)\" width=\"22\" x=\"583\" xlink:href=\"data:image/png;base64,\r\niVBORw0KGgoAAAANSUhEUgAAABYAAAGyCAYAAADgTjR3AAACcElEQVR4nO3c3W3kMBADYGutID1dH1dxqjpc1puX9XTAhy8gCyAEDTl/Mry+/v55HQE8EqTHcRz7eKwIce7Ea2knPlaGO3biYPAeZ4S4BhnEDOIFzyOO5Yq9HlgS2oeW6IOWPjHnecHbS6vSe53Yib206RkETPTtK26IabNye6NyG3jDTXKATHX0WlPoEQfHMU7HXNr0VjcdbgZiaTp3hBiUGxi82DimVWlvlvaIc3IDnccZhCum3nDj7SuaNvPE4NSUm/4559UgN8Dgdfq/IcrNS5tarogZpDrOEyenf2wnJA6QWq5o8Abk9I/dcav0IPbJlHgV2gzStDkAx7Hcxrs6ThODcuvnlS5x8Ksb7Ytpb7jximnT5sBbNsUM0r4iT5xbmnJDetPmANwJgdO/JrcaZAC+KqxQX+E5zyPuJ1ODmI5bmvLE3upm/9ufEWIveCUucYlL/DuJ9//zI0KcO/HzivzpTgze64VdRezE++Ku4qqO08T7OkJy85z3/bwixKAqQrED0ybovOuqjsPEO1SZQIPspyY3rxPyVNHgDdrGDsDgeQZJTf/eVXjEMYOAzmsbe6Pd5iCYNl8ZuXlX4RGDBkk1hV7ajC1CQB1zucJ7a/LuuFcxANvY1HrMq3kecZemgz4JDUAdN23e6B3niT3ndWk68E5cSw/2kzsxJ7e+5w3AKh3qYkEde8S51zFQxx3H3gB1/A3KDQued+K+jg1ij1hgR18dx4lj+bhVeuA1haCOwbf/kEE8HXvEsU+mvNWNJzevKUxeBadjTm7Bl3TsKjxiMrv1O3qVOPhtrBY80HncKr07+kEubXI69oh/AA2VFUMpc7olAAAAAElFTkSuQmCC\" y=\"-11\"/>\r\n   <g id=\"matplotlib.axis_3\"/>\r\n   <g id=\"matplotlib.axis_4\">\r\n    <g id=\"ytick_7\">\r\n     <g id=\"line2d_13\">\r\n      <defs>\r\n       <path d=\"M 0 0 \r\nL 3.5 0 \r\n\" id=\"mdb50a0e588\" style=\"stroke:#000000;stroke-width:0.8;\"/>\r\n      </defs>\r\n      <g>\r\n       <use style=\"stroke:#000000;stroke-width:0.8;\" x=\"604.611813\" xlink:href=\"#mdb50a0e588\" y=\"445.879219\"/>\r\n      </g>\r\n     </g>\r\n     <g id=\"text_49\">\r\n      <!-- −1.00 -->\r\n      <g transform=\"translate(611.611813 449.678437)scale(0.1 -0.1)\">\r\n       <defs>\r\n        <path d=\"M 10.59375 35.5 \r\nL 73.1875 35.5 \r\nL 73.1875 27.203125 \r\nL 10.59375 27.203125 \r\nz\r\n\" id=\"DejaVuSans-8722\"/>\r\n       </defs>\r\n       <use xlink:href=\"#DejaVuSans-8722\"/>\r\n       <use x=\"83.789062\" xlink:href=\"#DejaVuSans-49\"/>\r\n       <use x=\"147.412109\" xlink:href=\"#DejaVuSans-46\"/>\r\n       <use x=\"179.199219\" xlink:href=\"#DejaVuSans-48\"/>\r\n       <use x=\"242.822266\" xlink:href=\"#DejaVuSans-48\"/>\r\n      </g>\r\n     </g>\r\n    </g>\r\n    <g id=\"ytick_8\">\r\n     <g id=\"line2d_14\">\r\n      <g>\r\n       <use style=\"stroke:#000000;stroke-width:0.8;\" x=\"604.611813\" xlink:href=\"#mdb50a0e588\" y=\"391.519219\"/>\r\n      </g>\r\n     </g>\r\n     <g id=\"text_50\">\r\n      <!-- −0.75 -->\r\n      <g transform=\"translate(611.611813 395.318437)scale(0.1 -0.1)\">\r\n       <use xlink:href=\"#DejaVuSans-8722\"/>\r\n       <use x=\"83.789062\" xlink:href=\"#DejaVuSans-48\"/>\r\n       <use x=\"147.412109\" xlink:href=\"#DejaVuSans-46\"/>\r\n       <use x=\"179.199219\" xlink:href=\"#DejaVuSans-55\"/>\r\n       <use x=\"242.822266\" xlink:href=\"#DejaVuSans-53\"/>\r\n      </g>\r\n     </g>\r\n    </g>\r\n    <g id=\"ytick_9\">\r\n     <g id=\"line2d_15\">\r\n      <g>\r\n       <use style=\"stroke:#000000;stroke-width:0.8;\" x=\"604.611813\" xlink:href=\"#mdb50a0e588\" y=\"337.159219\"/>\r\n      </g>\r\n     </g>\r\n     <g id=\"text_51\">\r\n      <!-- −0.50 -->\r\n      <g transform=\"translate(611.611813 340.958437)scale(0.1 -0.1)\">\r\n       <use xlink:href=\"#DejaVuSans-8722\"/>\r\n       <use x=\"83.789062\" xlink:href=\"#DejaVuSans-48\"/>\r\n       <use x=\"147.412109\" xlink:href=\"#DejaVuSans-46\"/>\r\n       <use x=\"179.199219\" xlink:href=\"#DejaVuSans-53\"/>\r\n       <use x=\"242.822266\" xlink:href=\"#DejaVuSans-48\"/>\r\n      </g>\r\n     </g>\r\n    </g>\r\n    <g id=\"ytick_10\">\r\n     <g id=\"line2d_16\">\r\n      <g>\r\n       <use style=\"stroke:#000000;stroke-width:0.8;\" x=\"604.611813\" xlink:href=\"#mdb50a0e588\" y=\"282.799219\"/>\r\n      </g>\r\n     </g>\r\n     <g id=\"text_52\">\r\n      <!-- −0.25 -->\r\n      <g transform=\"translate(611.611813 286.598437)scale(0.1 -0.1)\">\r\n       <use xlink:href=\"#DejaVuSans-8722\"/>\r\n       <use x=\"83.789062\" xlink:href=\"#DejaVuSans-48\"/>\r\n       <use x=\"147.412109\" xlink:href=\"#DejaVuSans-46\"/>\r\n       <use x=\"179.199219\" xlink:href=\"#DejaVuSans-50\"/>\r\n       <use x=\"242.822266\" xlink:href=\"#DejaVuSans-53\"/>\r\n      </g>\r\n     </g>\r\n    </g>\r\n    <g id=\"ytick_11\">\r\n     <g id=\"line2d_17\">\r\n      <g>\r\n       <use style=\"stroke:#000000;stroke-width:0.8;\" x=\"604.611813\" xlink:href=\"#mdb50a0e588\" y=\"228.439219\"/>\r\n      </g>\r\n     </g>\r\n     <g id=\"text_53\">\r\n      <!-- 0.00 -->\r\n      <g transform=\"translate(611.611813 232.238437)scale(0.1 -0.1)\">\r\n       <use xlink:href=\"#DejaVuSans-48\"/>\r\n       <use x=\"63.623047\" xlink:href=\"#DejaVuSans-46\"/>\r\n       <use x=\"95.410156\" xlink:href=\"#DejaVuSans-48\"/>\r\n       <use x=\"159.033203\" xlink:href=\"#DejaVuSans-48\"/>\r\n      </g>\r\n     </g>\r\n    </g>\r\n    <g id=\"ytick_12\">\r\n     <g id=\"line2d_18\">\r\n      <g>\r\n       <use style=\"stroke:#000000;stroke-width:0.8;\" x=\"604.611813\" xlink:href=\"#mdb50a0e588\" y=\"174.079219\"/>\r\n      </g>\r\n     </g>\r\n     <g id=\"text_54\">\r\n      <!-- 0.25 -->\r\n      <g transform=\"translate(611.611813 177.878437)scale(0.1 -0.1)\">\r\n       <use xlink:href=\"#DejaVuSans-48\"/>\r\n       <use x=\"63.623047\" xlink:href=\"#DejaVuSans-46\"/>\r\n       <use x=\"95.410156\" xlink:href=\"#DejaVuSans-50\"/>\r\n       <use x=\"159.033203\" xlink:href=\"#DejaVuSans-53\"/>\r\n      </g>\r\n     </g>\r\n    </g>\r\n    <g id=\"ytick_13\">\r\n     <g id=\"line2d_19\">\r\n      <g>\r\n       <use style=\"stroke:#000000;stroke-width:0.8;\" x=\"604.611813\" xlink:href=\"#mdb50a0e588\" y=\"119.719219\"/>\r\n      </g>\r\n     </g>\r\n     <g id=\"text_55\">\r\n      <!-- 0.50 -->\r\n      <g transform=\"translate(611.611813 123.518437)scale(0.1 -0.1)\">\r\n       <use xlink:href=\"#DejaVuSans-48\"/>\r\n       <use x=\"63.623047\" xlink:href=\"#DejaVuSans-46\"/>\r\n       <use x=\"95.410156\" xlink:href=\"#DejaVuSans-53\"/>\r\n       <use x=\"159.033203\" xlink:href=\"#DejaVuSans-48\"/>\r\n      </g>\r\n     </g>\r\n    </g>\r\n    <g id=\"ytick_14\">\r\n     <g id=\"line2d_20\">\r\n      <g>\r\n       <use style=\"stroke:#000000;stroke-width:0.8;\" x=\"604.611813\" xlink:href=\"#mdb50a0e588\" y=\"65.359219\"/>\r\n      </g>\r\n     </g>\r\n     <g id=\"text_56\">\r\n      <!-- 0.75 -->\r\n      <g transform=\"translate(611.611813 69.158437)scale(0.1 -0.1)\">\r\n       <use xlink:href=\"#DejaVuSans-48\"/>\r\n       <use x=\"63.623047\" xlink:href=\"#DejaVuSans-46\"/>\r\n       <use x=\"95.410156\" xlink:href=\"#DejaVuSans-55\"/>\r\n       <use x=\"159.033203\" xlink:href=\"#DejaVuSans-53\"/>\r\n      </g>\r\n     </g>\r\n    </g>\r\n    <g id=\"ytick_15\">\r\n     <g id=\"line2d_21\">\r\n      <g>\r\n       <use style=\"stroke:#000000;stroke-width:0.8;\" x=\"604.611813\" xlink:href=\"#mdb50a0e588\" y=\"10.999219\"/>\r\n      </g>\r\n     </g>\r\n     <g id=\"text_57\">\r\n      <!-- 1.00 -->\r\n      <g transform=\"translate(611.611813 14.798437)scale(0.1 -0.1)\">\r\n       <use xlink:href=\"#DejaVuSans-49\"/>\r\n       <use x=\"63.623047\" xlink:href=\"#DejaVuSans-46\"/>\r\n       <use x=\"95.410156\" xlink:href=\"#DejaVuSans-48\"/>\r\n       <use x=\"159.033203\" xlink:href=\"#DejaVuSans-48\"/>\r\n      </g>\r\n     </g>\r\n    </g>\r\n   </g>\r\n   <g id=\"patch_4\">\r\n    <path d=\"M 582.867813 445.879219 \r\nL 582.867813 444.180469 \r\nL 582.867813 12.697969 \r\nL 582.867813 10.999219 \r\nL 604.611813 10.999219 \r\nL 604.611813 12.697969 \r\nL 604.611813 444.180469 \r\nL 604.611813 445.879219 \r\nz\r\n\" style=\"fill:none;\"/>\r\n   </g>\r\n  </g>\r\n </g>\r\n <defs>\r\n  <clipPath id=\"pd96e35773a\">\r\n   <rect height=\"434.88\" width=\"434.88\" x=\"114.507813\" y=\"10.999219\"/>\r\n  </clipPath>\r\n  <clipPath id=\"pa9a945de2b\">\r\n   <rect height=\"434.88\" width=\"21.744\" x=\"582.867813\" y=\"10.999219\"/>\r\n  </clipPath>\r\n </defs>\r\n</svg>\r\n",
      "image/png": "[encoded data removed]"
     },
     "metadata": {
      "needs_background": "light"
     }
    }
   ],
   "source": [
    "# visual correlation of raw data\n",
    "heatMap = df\n",
    "plt.figure(figsize=(12, 8))\n",
    "corr = heatMap.corr()\n",
    "ax = sns.heatmap(\n",
    "    corr, \n",
    "    vmin=-1, vmax=1, center=0,\n",
    "    cmap=sns.diverging_palette(20, 220, n=200),\n",
    "    square=True,\n",
    "    annot=True)\n",
    "ax.set_xticklabels(\n",
    "    ax.get_xticklabels(),\n",
    "    rotation=90,\n",
    "    horizontalalignment='right')  # ;\n",
    "plt.savefig('heat_map')"
   ]
  },
  {
   "cell_type": "code",
   "execution_count": 153,
   "metadata": {},
   "outputs": [],
   "source": [
    "# drop the index number of the tests\n",
    "df.drop(columns=['Sr._No.', 'MRR(mm3/min)'], inplace=True)"
   ]
  },
  {
   "cell_type": "code",
   "execution_count": 154,
   "metadata": {},
   "outputs": [
    {
     "output_type": "execute_result",
     "data": {
      "text/plain": "array([[ 280.    ,    0.0508,    0.4   ,    0.36  ],\n       [ 280.    ,    0.0508,    0.8   ,    0.47  ],\n       [ 280.    ,    0.0508,    1.2   ,    0.52  ],\n       [ 280.    ,    0.1016,    0.4   ,    0.8   ],\n       [ 280.    ,    0.1016,    0.8   ,    0.9   ],\n       [ 280.    ,    0.1016,    1.2   ,    1.1   ],\n       [ 280.    ,    0.1524,    0.4   ,    1.63  ],\n       [ 280.    ,    0.1524,    0.8   ,    1.76  ],\n       [ 280.    ,    0.1524,    1.2   ,    2.17  ],\n       [ 710.    ,    0.0508,    0.4   ,    0.38  ],\n       [ 710.    ,    0.0508,    0.8   ,    0.48  ],\n       [ 710.    ,    0.0508,    1.2   ,    0.54  ],\n       [ 710.    ,    0.1016,    0.4   ,    0.81  ],\n       [ 710.    ,    0.1016,    0.8   ,    0.82  ],\n       [ 710.    ,    0.1016,    1.2   ,    0.97  ],\n       [ 710.    ,    0.1524,    0.4   ,    1.92  ],\n       [ 710.    ,    0.1524,    0.8   ,    1.91  ],\n       [ 710.    ,    0.1524,    1.2   ,    2.03  ],\n       [1120.    ,    0.0508,    0.4   ,    0.29  ],\n       [1120.    ,    0.0508,    0.8   ,    0.37  ],\n       [1120.    ,    0.0508,    1.2   ,    0.38  ],\n       [1120.    ,    0.1016,    0.4   ,    0.82  ],\n       [1120.    ,    0.1016,    0.8   ,    0.79  ],\n       [1120.    ,    0.1016,    1.2   ,    1.11  ],\n       [1120.    ,    0.1524,    0.4   ,    1.75  ],\n       [1120.    ,    0.1524,    0.8   ,    1.89  ],\n       [1120.    ,    0.1524,    1.2   ,    1.82  ],\n       [1100.    ,    0.05  ,    0.4   ,    0.21  ],\n       [1100.    ,    0.05  ,    0.69  ,    0.31  ],\n       [1095.    ,    0.15  ,    1.2   ,    1.98  ],\n       [1097.    ,    0.13  ,    1.14  ,    1.49  ],\n       [1094.    ,    0.12  ,    1.15  ,    1.4   ]])"
     },
     "metadata": {},
     "execution_count": 154
    }
   ],
   "source": [
    "# load the data from the Pandas dataframe to a NumPy array.\n",
    "# arrays are a simple data structure and are required for \n",
    "# scikit-learn algorithms to process data\n",
    "np_data = df.values\n",
    "np_data"
   ]
  },
  {
   "cell_type": "markdown",
   "metadata": {
    "tags": []
   },
   "source": [
    "## Scale, standardize, or normalize?\n",
    "\n",
    "- Scaling generally means changing the range of values the data represents, but keeping the same distribution. \n",
    "- Standardizing involves changing the values so that the standard deviation from the mean is equal to one. Scaling is implied.\n",
    "- Normalizing can have a range of meanings including standardizing and scaling. It's preferred not to use this term unless explicitly defining it.\n",
    "\n",
    "The reason for scaling and / or standardizing is algorithms perform better when data is on a similar scale or close to normally distrubted, essentially it's more digestable for the algorithms.\n",
    "\n",
    "Here we're going to compare two preprocessing methods: MinMaxScaler & StandardScaler."
   ]
  },
  {
   "cell_type": "markdown",
   "metadata": {},
   "source": [
    "### MinMaxScaler\n",
    "This is the most basic scaling technique. It preserves the original shape of the distrobution and doesn't reduce the important of outliers. It works by subtracting the minimum value in the column and then divides by the difference between the range (original maxiumum and the original minimum)."
   ]
  },
  {
   "cell_type": "code",
   "execution_count": 155,
   "metadata": {},
   "outputs": [
    {
     "output_type": "execute_result",
     "data": {
      "text/plain": "array([[0.        , 0.0078125 , 0.        , 0.07653061],\n       [0.        , 0.0078125 , 0.5       , 0.13265306],\n       [0.        , 0.0078125 , 1.        , 0.15816327],\n       [0.        , 0.50390625, 0.        , 0.30102041],\n       [0.        , 0.50390625, 0.5       , 0.35204082],\n       [0.        , 0.50390625, 1.        , 0.45408163],\n       [0.        , 1.        , 0.        , 0.7244898 ],\n       [0.        , 1.        , 0.5       , 0.79081633],\n       [0.        , 1.        , 1.        , 1.        ],\n       [0.51190476, 0.0078125 , 0.        , 0.08673469],\n       [0.51190476, 0.0078125 , 0.5       , 0.1377551 ],\n       [0.51190476, 0.0078125 , 1.        , 0.16836735],\n       [0.51190476, 0.50390625, 0.        , 0.30612245],\n       [0.51190476, 0.50390625, 0.5       , 0.31122449],\n       [0.51190476, 0.50390625, 1.        , 0.3877551 ],\n       [0.51190476, 1.        , 0.        , 0.87244898],\n       [0.51190476, 1.        , 0.5       , 0.86734694],\n       [0.51190476, 1.        , 1.        , 0.92857143],\n       [1.        , 0.0078125 , 0.        , 0.04081633],\n       [1.        , 0.0078125 , 0.5       , 0.08163265],\n       [1.        , 0.0078125 , 1.        , 0.08673469],\n       [1.        , 0.50390625, 0.        , 0.31122449],\n       [1.        , 0.50390625, 0.5       , 0.29591837],\n       [1.        , 0.50390625, 1.        , 0.45918367],\n       [1.        , 1.        , 0.        , 0.78571429],\n       [1.        , 1.        , 0.5       , 0.85714286],\n       [1.        , 1.        , 1.        , 0.82142857],\n       [0.97619048, 0.        , 0.        , 0.        ],\n       [0.97619048, 0.        , 0.3625    , 0.05102041],\n       [0.9702381 , 0.9765625 , 1.        , 0.90306122],\n       [0.97261905, 0.78125   , 0.925     , 0.65306122],\n       [0.96904762, 0.68359375, 0.9375    , 0.60714286]])"
     },
     "metadata": {},
     "execution_count": 155
    }
   ],
   "source": [
    "minMaxScaler = MinMaxScaler()\n",
    "np_data_minMax = minMaxScaler.fit_transform(np_data)\n",
    "np_data_minMax"
   ]
  },
  {
   "cell_type": "markdown",
   "metadata": {},
   "source": [
    "### StandardScaler\n",
    "Transforms the data so it's close to normally distributed. It standardizes the features by removing the mean and dividing each value by the standard deviation. Results in a standard deviation equal to 1 and scales the data to small intervals."
   ]
  },
  {
   "cell_type": "code",
   "execution_count": 156,
   "metadata": {},
   "outputs": [
    {
     "output_type": "execute_result",
     "data": {
      "text/plain": "array([[-1.4014867 , -1.21641451, -1.27532722, -1.12365908],\n       [-1.4014867 , -1.21641451, -0.05528324, -0.9491101 ],\n       [-1.4014867 , -1.21641451,  1.16476074, -0.86976965],\n       [-1.4014867 ,  0.0060159 , -1.27532722, -0.42546315],\n       [-1.4014867 ,  0.0060159 , -0.05528324, -0.26678225],\n       [-1.4014867 ,  0.0060159 ,  1.16476074,  0.05057953],\n       [-1.4014867 ,  1.22844631, -1.27532722,  0.89158827],\n       [-1.4014867 ,  1.22844631, -0.05528324,  1.09787344],\n       [-1.4014867 ,  1.22844631,  1.16476074,  1.7484651 ],\n       [-0.15861115, -1.21641451, -1.27532722, -1.0919229 ],\n       [-0.15861115, -1.21641451, -0.05528324, -0.93324201],\n       [-0.15861115, -1.21641451,  1.16476074, -0.83803347],\n       [-0.15861115,  0.0060159 , -1.27532722, -0.40959506],\n       [-0.15861115,  0.0060159 , -0.05528324, -0.39372697],\n       [-0.15861115,  0.0060159 ,  1.16476074, -0.15570563],\n       [-0.15861115,  1.22844631, -1.27532722,  1.35176287],\n       [-0.15861115,  1.22844631, -0.05528324,  1.33589478],\n       [-0.15861115,  1.22844631,  1.16476074,  1.52631185],\n       [ 1.02645623, -1.21641451, -1.27532722, -1.23473571],\n       [ 1.02645623, -1.21641451, -0.05528324, -1.10779099],\n       [ 1.02645623, -1.21641451,  1.16476074, -1.0919229 ],\n       [ 1.02645623,  0.0060159 , -1.27532722, -0.39372697],\n       [ 1.02645623,  0.0060159 , -0.05528324, -0.44133124],\n       [ 1.02645623,  0.0060159 ,  1.16476074,  0.06644762],\n       [ 1.02645623,  1.22844631, -1.27532722,  1.08200535],\n       [ 1.02645623,  1.22844631, -0.05528324,  1.3041586 ],\n       [ 1.02645623,  1.22844631,  1.16476074,  1.19308197],\n       [ 0.96864807, -1.23566538, -1.27532722, -1.36168042],\n       [ 0.96864807, -1.23566538, -0.39079534, -1.20299953],\n       [ 0.95419603,  1.17069369,  1.16476074,  1.4469714 ],\n       [ 0.95997684,  0.68942187,  0.98175414,  0.66943502],\n       [ 0.95130562,  0.44878597,  1.01225524,  0.52662222]])"
     },
     "metadata": {},
     "execution_count": 156
    }
   ],
   "source": [
    "# Standardize features by removing the mean and scaling to unit variance\n",
    "StandardScaler = StandardScaler()\n",
    "np_data_Standard = StandardScaler.fit_transform(np_data)\n",
    "np_data_Standard"
   ]
  },
  {
   "cell_type": "code",
   "execution_count": 157,
   "metadata": {},
   "outputs": [],
   "source": [
    "# split the MinMax data into training, validation, and testing sets\n",
    "train_features_minMax = np_data_minMax[0:27 , 3:4]\n",
    "validation_features_minMax = np_data_minMax[28:32, 3:4]\n",
    "test_features_minMax = np_data_minMax[27, 3:4]\n",
    "train_labels_minMax = np_data_minMax[0:27, 0:3]\n",
    "validation_labels_minMax = np_data_minMax[28:32, 0:3]\n",
    "test_labels_minMax = np_data_minMax[27, 0:3]\n",
    "\n",
    "# split the Standard data into training, validation, and testing sets\n",
    "train_features_Standard = np_data_Standard[0:27 , 3:4]\n",
    "validation_features_Standard = np_data_Standard[28:32, 3:4]\n",
    "test_features_Standard = np_data_Standard[27, 3:4]\n",
    "train_labels_Standard = np_data_Standard[0:27, 0:3]\n",
    "validation_labels_Standard = np_data_Standard[28:32, 0:3]\n",
    "test_labels_Standard = np_data_Standard[27, 0:3]\n",
    "\n",
    "# reshape the test data because it's only one row\n",
    "# the data needs to have the shape (rows, columns)\n",
    "# without reshaping the single row of test data is (1,)\n",
    "test_features_Standard = test_features_Standard.reshape(1, -1)\n",
    "test_labels_Standard = test_labels_Standard.reshape(1, -1)\n",
    "test_features_minMax = test_features_minMax.reshape(1, -1)\n",
    "test_labels_minMax = test_labels_minMax.reshape(1, -1)"
   ]
  },
  {
   "cell_type": "code",
   "execution_count": 158,
   "metadata": {
    "tags": []
   },
   "outputs": [
    {
     "output_type": "stream",
     "name": "stdout",
     "text": "(27, 1)\n(27, 3)\n(1, 1)\n(1, 3)\n(4, 1)\n(4, 3)\n"
    }
   ],
   "source": [
    "print(train_features_Standard.shape)\n",
    "print(train_labels_Standard.shape)\n",
    "print(test_features_Standard.shape)\n",
    "print(test_labels_Standard.shape)\n",
    "print(validation_features_Standard.shape)\n",
    "print(validation_labels_Standard.shape)"
   ]
  },
  {
   "cell_type": "markdown",
   "metadata": {
    "tags": [
     "outputPrepend"
    ]
   },
   "source": [
    "# Define the Standard model using the top performing parameters from Talos\n",
    "Standard_model = Sequential()\n",
    "Standard_model.add(Dense(8, input_dim=1, activation='relu'))\n",
    "Standard_model.add(Dense(64, activation='relu'))\n",
    "Standard_model.add(Dense(64, activation='relu'))\n",
    "Standard_model.add(Dense(56, activation='relu'))\n",
    "Standard_model.add(Dense(48, activation='relu'))\n",
    "Standard_model.add(Dense(40, activation='relu'))\n",
    "Standard_model.add(Dense(32, activation='relu'))\n",
    "Standard_model.add(Dense(24, activation='relu'))\n",
    "Standard_model.add(Dense(16, activation='relu'))\n",
    "Standard_model.add(Dense(8, activation='relu'))\n",
    "Standard_model.add(Dense(3, activation='linear'))\n",
    "Standard_model.compile(loss='mean_absolute_error', optimizer='adam', metrics=['accuracy'])\n",
    "\n",
    "history = Standard_model.fit(train_features_Standard,\n",
    "                             train_labels_Standard,\n",
    "                             validation_data=(validation_features_Standard, validation_labels_Standard),\n",
    "                             batch_size=20,\n",
    "                             epochs=1000,)"
   ]
  },
  {
   "cell_type": "code",
   "execution_count": 159,
   "metadata": {},
   "outputs": [],
   "source": [
    "LOG_DIR = os.path.normpath(r\"C:\\Users\\MacalusoC\\Desktop\\\\\" + f\"{int(time.time())}\")\n",
    "\n",
    "def build_model(hp):  # random search passes this hyperparameter() object \n",
    "    Standard_model = Sequential()\n",
    "    Standard_model.add(Dense(8, input_dim=1, activation='relu'))\n",
    "    # adding variation of layers.\n",
    "    for i in range(hp.Int('n_layers', 4, 16)):\n",
    "        Standard_model.add(Dense(units=hp.Int(f'conv_{i}_units',\n",
    "                                    min_value=8,\n",
    "                                    max_value=64,\n",
    "                                    step=8,\n",
    "                                    default=8), activation=hp.Choice('dense_activation',\n",
    "                                                                        values=['relu'],  # values=['relu', 'tanh', 'sigmoid']\n",
    "                                                                        default='relu')))\n",
    "    Standard_model.add(Dense(3, activation='linear'))\n",
    "    Standard_model.compile(loss='mean_absolute_error', optimizer='adam', metrics=['accuracy'])\n",
    "    \n",
    "    return Standard_model"
   ]
  },
  {
   "cell_type": "markdown",
   "metadata": {
    "tags": []
   },
   "source": [
    "HYPERBAND_MAX_EPOCHS = 50\n",
    "MAX_TRIALS = 5\n",
    "EXECUTION_PER_TRIAL = 2\n",
    "\n",
    "tuner = Hyperband(\n",
    "    build_model,\n",
    "    max_epochs=HYPERBAND_MAX_EPOCHS,\n",
    "    objective='val_accuracy',\n",
    "    # seed=SEED,\n",
    "    executions_per_trial=EXECUTION_PER_TRIAL,\n",
    "    directory='hyperband',\n",
    "    project_name='Cutting Parameter Optimization')"
   ]
  },
  {
   "cell_type": "code",
   "execution_count": 160,
   "metadata": {
    "tags": []
   },
   "outputs": [],
   "source": [
    "tuner = RandomSearch(\n",
    "    build_model,\n",
    "    objective='val_accuracy',\n",
    "    # the number of hyperparameter combinations that will be tested by the tuner\n",
    "    max_trials=10,\n",
    "    # the number of models that should be built and fit for each trial for robustness purposes\n",
    "    executions_per_trial=1,\n",
    "    directory=LOG_DIR,\n",
    "    project_name='Cutting Params Optimization')"
   ]
  },
  {
   "cell_type": "code",
   "execution_count": 161,
   "metadata": {},
   "outputs": [
    {
     "output_type": "display_data",
     "data": {
      "text/plain": "<IPython.core.display.HTML object>",
      "text/html": "<span style=\"color:#4527A0\"><h1 style=\"font-size:18px\">Search space summary</h1></span>"
     },
     "metadata": {}
    },
    {
     "output_type": "display_data",
     "data": {
      "text/plain": "<IPython.core.display.HTML object>",
      "text/html": "<span style=\"color:cyan\"> |-Default search space size: 6</span>"
     },
     "metadata": {}
    },
    {
     "output_type": "display_data",
     "data": {
      "text/plain": "<IPython.core.display.HTML object>",
      "text/html": "<span style=\"color:#7E57C2\"><h2 style=\"font-size:16px\">n_layers (Int)</h2></span>"
     },
     "metadata": {}
    },
    {
     "output_type": "display_data",
     "data": {
      "text/plain": "<IPython.core.display.HTML object>",
      "text/html": "<span style=\"color:cyan\"> |-default: None</span>"
     },
     "metadata": {}
    },
    {
     "output_type": "display_data",
     "data": {
      "text/plain": "<IPython.core.display.HTML object>",
      "text/html": "<span style=\"color:blue\"> |-max_value: 16</span>"
     },
     "metadata": {}
    },
    {
     "output_type": "display_data",
     "data": {
      "text/plain": "<IPython.core.display.HTML object>",
      "text/html": "<span style=\"color:cyan\"> |-min_value: 4</span>"
     },
     "metadata": {}
    },
    {
     "output_type": "display_data",
     "data": {
      "text/plain": "<IPython.core.display.HTML object>",
      "text/html": "<span style=\"color:blue\"> |-sampling: None</span>"
     },
     "metadata": {}
    },
    {
     "output_type": "display_data",
     "data": {
      "text/plain": "<IPython.core.display.HTML object>",
      "text/html": "<span style=\"color:cyan\"> |-step: 1</span>"
     },
     "metadata": {}
    },
    {
     "output_type": "display_data",
     "data": {
      "text/plain": "<IPython.core.display.HTML object>",
      "text/html": "<span style=\"color:#7E57C2\"><h2 style=\"font-size:16px\">conv_0_units (Int)</h2></span>"
     },
     "metadata": {}
    },
    {
     "output_type": "display_data",
     "data": {
      "text/plain": "<IPython.core.display.HTML object>",
      "text/html": "<span style=\"color:cyan\"> |-default: 8</span>"
     },
     "metadata": {}
    },
    {
     "output_type": "display_data",
     "data": {
      "text/plain": "<IPython.core.display.HTML object>",
      "text/html": "<span style=\"color:blue\"> |-max_value: 64</span>"
     },
     "metadata": {}
    },
    {
     "output_type": "display_data",
     "data": {
      "text/plain": "<IPython.core.display.HTML object>",
      "text/html": "<span style=\"color:cyan\"> |-min_value: 8</span>"
     },
     "metadata": {}
    },
    {
     "output_type": "display_data",
     "data": {
      "text/plain": "<IPython.core.display.HTML object>",
      "text/html": "<span style=\"color:blue\"> |-sampling: None</span>"
     },
     "metadata": {}
    },
    {
     "output_type": "display_data",
     "data": {
      "text/plain": "<IPython.core.display.HTML object>",
      "text/html": "<span style=\"color:cyan\"> |-step: 8</span>"
     },
     "metadata": {}
    },
    {
     "output_type": "display_data",
     "data": {
      "text/plain": "<IPython.core.display.HTML object>",
      "text/html": "<span style=\"color:#7E57C2\"><h2 style=\"font-size:16px\">dense_activation (Choice)</h2></span>"
     },
     "metadata": {}
    },
    {
     "output_type": "display_data",
     "data": {
      "text/plain": "<IPython.core.display.HTML object>",
      "text/html": "<span style=\"color:cyan\"> |-default: relu</span>"
     },
     "metadata": {}
    },
    {
     "output_type": "display_data",
     "data": {
      "text/plain": "<IPython.core.display.HTML object>",
      "text/html": "<span style=\"color:blue\"> |-ordered: False</span>"
     },
     "metadata": {}
    },
    {
     "output_type": "display_data",
     "data": {
      "text/plain": "<IPython.core.display.HTML object>",
      "text/html": "<span style=\"color:cyan\"> |-values: ['relu']</span>"
     },
     "metadata": {}
    },
    {
     "output_type": "display_data",
     "data": {
      "text/plain": "<IPython.core.display.HTML object>",
      "text/html": "<span style=\"color:#7E57C2\"><h2 style=\"font-size:16px\">conv_1_units (Int)</h2></span>"
     },
     "metadata": {}
    },
    {
     "output_type": "display_data",
     "data": {
      "text/plain": "<IPython.core.display.HTML object>",
      "text/html": "<span style=\"color:cyan\"> |-default: 8</span>"
     },
     "metadata": {}
    },
    {
     "output_type": "display_data",
     "data": {
      "text/plain": "<IPython.core.display.HTML object>",
      "text/html": "<span style=\"color:blue\"> |-max_value: 64</span>"
     },
     "metadata": {}
    },
    {
     "output_type": "display_data",
     "data": {
      "text/plain": "<IPython.core.display.HTML object>",
      "text/html": "<span style=\"color:cyan\"> |-min_value: 8</span>"
     },
     "metadata": {}
    },
    {
     "output_type": "display_data",
     "data": {
      "text/plain": "<IPython.core.display.HTML object>",
      "text/html": "<span style=\"color:blue\"> |-sampling: None</span>"
     },
     "metadata": {}
    },
    {
     "output_type": "display_data",
     "data": {
      "text/plain": "<IPython.core.display.HTML object>",
      "text/html": "<span style=\"color:cyan\"> |-step: 8</span>"
     },
     "metadata": {}
    },
    {
     "output_type": "display_data",
     "data": {
      "text/plain": "<IPython.core.display.HTML object>",
      "text/html": "<span style=\"color:#7E57C2\"><h2 style=\"font-size:16px\">conv_2_units (Int)</h2></span>"
     },
     "metadata": {}
    },
    {
     "output_type": "display_data",
     "data": {
      "text/plain": "<IPython.core.display.HTML object>",
      "text/html": "<span style=\"color:cyan\"> |-default: 8</span>"
     },
     "metadata": {}
    },
    {
     "output_type": "display_data",
     "data": {
      "text/plain": "<IPython.core.display.HTML object>",
      "text/html": "<span style=\"color:blue\"> |-max_value: 64</span>"
     },
     "metadata": {}
    },
    {
     "output_type": "display_data",
     "data": {
      "text/plain": "<IPython.core.display.HTML object>",
      "text/html": "<span style=\"color:cyan\"> |-min_value: 8</span>"
     },
     "metadata": {}
    },
    {
     "output_type": "display_data",
     "data": {
      "text/plain": "<IPython.core.display.HTML object>",
      "text/html": "<span style=\"color:blue\"> |-sampling: None</span>"
     },
     "metadata": {}
    },
    {
     "output_type": "display_data",
     "data": {
      "text/plain": "<IPython.core.display.HTML object>",
      "text/html": "<span style=\"color:cyan\"> |-step: 8</span>"
     },
     "metadata": {}
    },
    {
     "output_type": "display_data",
     "data": {
      "text/plain": "<IPython.core.display.HTML object>",
      "text/html": "<span style=\"color:#7E57C2\"><h2 style=\"font-size:16px\">conv_3_units (Int)</h2></span>"
     },
     "metadata": {}
    },
    {
     "output_type": "display_data",
     "data": {
      "text/plain": "<IPython.core.display.HTML object>",
      "text/html": "<span style=\"color:cyan\"> |-default: 8</span>"
     },
     "metadata": {}
    },
    {
     "output_type": "display_data",
     "data": {
      "text/plain": "<IPython.core.display.HTML object>",
      "text/html": "<span style=\"color:blue\"> |-max_value: 64</span>"
     },
     "metadata": {}
    },
    {
     "output_type": "display_data",
     "data": {
      "text/plain": "<IPython.core.display.HTML object>",
      "text/html": "<span style=\"color:cyan\"> |-min_value: 8</span>"
     },
     "metadata": {}
    },
    {
     "output_type": "display_data",
     "data": {
      "text/plain": "<IPython.core.display.HTML object>",
      "text/html": "<span style=\"color:blue\"> |-sampling: None</span>"
     },
     "metadata": {}
    },
    {
     "output_type": "display_data",
     "data": {
      "text/plain": "<IPython.core.display.HTML object>",
      "text/html": "<span style=\"color:cyan\"> |-step: 8</span>"
     },
     "metadata": {}
    }
   ],
   "source": [
    "tuner.search_space_summary()"
   ]
  },
  {
   "cell_type": "code",
   "execution_count": 162,
   "metadata": {
    "tags": []
   },
   "outputs": [
    {
     "output_type": "display_data",
     "data": {
      "text/plain": "<IPython.core.display.HTML object>",
      "text/html": "<span style=\"color:#4527A0\"><h1 style=\"font-size:18px\">Trial complete</h1></span>"
     },
     "metadata": {}
    },
    {
     "output_type": "display_data",
     "data": {
      "text/plain": "<IPython.core.display.HTML object>",
      "text/html": "<span style=\"color:#4527A0\"><h1 style=\"font-size:18px\">Trial summary</h1></span>"
     },
     "metadata": {}
    },
    {
     "output_type": "display_data",
     "data": {
      "text/plain": "<IPython.core.display.HTML object>",
      "text/html": "<span style=\"color:cyan\"> |-Trial ID: 3d997ac60f525d533ad3f23928612997</span>"
     },
     "metadata": {}
    },
    {
     "output_type": "display_data",
     "data": {
      "text/plain": "<IPython.core.display.HTML object>",
      "text/html": "<span style=\"color:cyan\"> |-Score: 0.25</span>"
     },
     "metadata": {}
    },
    {
     "output_type": "display_data",
     "data": {
      "text/plain": "<IPython.core.display.HTML object>",
      "text/html": "<span style=\"color:cyan\"> |-Best step: 0</span>"
     },
     "metadata": {}
    },
    {
     "output_type": "display_data",
     "data": {
      "text/plain": "<IPython.core.display.HTML object>",
      "text/html": "<span style=\"color:#7E57C2\"><h2 style=\"font-size:16px\">Hyperparameters:</h2></span>"
     },
     "metadata": {}
    },
    {
     "output_type": "display_data",
     "data": {
      "text/plain": "<IPython.core.display.HTML object>",
      "text/html": "<span style=\"color:cyan\"> |-conv_0_units: 8</span>"
     },
     "metadata": {}
    },
    {
     "output_type": "display_data",
     "data": {
      "text/plain": "<IPython.core.display.HTML object>",
      "text/html": "<span style=\"color:blue\"> |-conv_10_units: 8</span>"
     },
     "metadata": {}
    },
    {
     "output_type": "display_data",
     "data": {
      "text/plain": "<IPython.core.display.HTML object>",
      "text/html": "<span style=\"color:cyan\"> |-conv_11_units: 8</span>"
     },
     "metadata": {}
    },
    {
     "output_type": "display_data",
     "data": {
      "text/plain": "<IPython.core.display.HTML object>",
      "text/html": "<span style=\"color:blue\"> |-conv_12_units: 8</span>"
     },
     "metadata": {}
    },
    {
     "output_type": "display_data",
     "data": {
      "text/plain": "<IPython.core.display.HTML object>",
      "text/html": "<span style=\"color:cyan\"> |-conv_13_units: 8</span>"
     },
     "metadata": {}
    },
    {
     "output_type": "display_data",
     "data": {
      "text/plain": "<IPython.core.display.HTML object>",
      "text/html": "<span style=\"color:blue\"> |-conv_14_units: 8</span>"
     },
     "metadata": {}
    },
    {
     "output_type": "display_data",
     "data": {
      "text/plain": "<IPython.core.display.HTML object>",
      "text/html": "<span style=\"color:cyan\"> |-conv_15_units: 8</span>"
     },
     "metadata": {}
    },
    {
     "output_type": "display_data",
     "data": {
      "text/plain": "<IPython.core.display.HTML object>",
      "text/html": "<span style=\"color:blue\"> |-conv_1_units: 40</span>"
     },
     "metadata": {}
    },
    {
     "output_type": "display_data",
     "data": {
      "text/plain": "<IPython.core.display.HTML object>",
      "text/html": "<span style=\"color:cyan\"> |-conv_2_units: 24</span>"
     },
     "metadata": {}
    },
    {
     "output_type": "display_data",
     "data": {
      "text/plain": "<IPython.core.display.HTML object>",
      "text/html": "<span style=\"color:blue\"> |-conv_3_units: 16</span>"
     },
     "metadata": {}
    },
    {
     "output_type": "display_data",
     "data": {
      "text/plain": "<IPython.core.display.HTML object>",
      "text/html": "<span style=\"color:cyan\"> |-conv_4_units: 8</span>"
     },
     "metadata": {}
    },
    {
     "output_type": "display_data",
     "data": {
      "text/plain": "<IPython.core.display.HTML object>",
      "text/html": "<span style=\"color:blue\"> |-conv_5_units: 8</span>"
     },
     "metadata": {}
    },
    {
     "output_type": "display_data",
     "data": {
      "text/plain": "<IPython.core.display.HTML object>",
      "text/html": "<span style=\"color:cyan\"> |-conv_6_units: 8</span>"
     },
     "metadata": {}
    },
    {
     "output_type": "display_data",
     "data": {
      "text/plain": "<IPython.core.display.HTML object>",
      "text/html": "<span style=\"color:blue\"> |-conv_7_units: 8</span>"
     },
     "metadata": {}
    },
    {
     "output_type": "display_data",
     "data": {
      "text/plain": "<IPython.core.display.HTML object>",
      "text/html": "<span style=\"color:cyan\"> |-conv_8_units: 8</span>"
     },
     "metadata": {}
    },
    {
     "output_type": "display_data",
     "data": {
      "text/plain": "<IPython.core.display.HTML object>",
      "text/html": "<span style=\"color:blue\"> |-conv_9_units: 8</span>"
     },
     "metadata": {}
    },
    {
     "output_type": "display_data",
     "data": {
      "text/plain": "<IPython.core.display.HTML object>",
      "text/html": "<span style=\"color:cyan\"> |-dense_activation: relu</span>"
     },
     "metadata": {}
    },
    {
     "output_type": "display_data",
     "data": {
      "text/plain": "<IPython.core.display.HTML object>",
      "text/html": "<span style=\"color:blue\"> |-n_layers: 16</span>"
     },
     "metadata": {}
    },
    {
     "output_type": "display_data",
     "data": {
      "text/plain": "<IPython.core.display.HTML object>",
      "text/html": "<span style=\"color:#4527A0\"><h1 style=\"font-size:18px\">Trial complete</h1></span>"
     },
     "metadata": {}
    },
    {
     "output_type": "display_data",
     "data": {
      "text/plain": "<IPython.core.display.HTML object>",
      "text/html": "<span style=\"color:#4527A0\"><h1 style=\"font-size:18px\">Trial summary</h1></span>"
     },
     "metadata": {}
    },
    {
     "output_type": "display_data",
     "data": {
      "text/plain": "<IPython.core.display.HTML object>",
      "text/html": "<span style=\"color:cyan\"> |-Trial ID: 3a14aa8cd309f984e8b3118aef9e2ad0</span>"
     },
     "metadata": {}
    },
    {
     "output_type": "display_data",
     "data": {
      "text/plain": "<IPython.core.display.HTML object>",
      "text/html": "<span style=\"color:cyan\"> |-Score: 0.5</span>"
     },
     "metadata": {}
    },
    {
     "output_type": "display_data",
     "data": {
      "text/plain": "<IPython.core.display.HTML object>",
      "text/html": "<span style=\"color:cyan\"> |-Best step: 0</span>"
     },
     "metadata": {}
    },
    {
     "output_type": "display_data",
     "data": {
      "text/plain": "<IPython.core.display.HTML object>",
      "text/html": "<span style=\"color:#7E57C2\"><h2 style=\"font-size:16px\">Hyperparameters:</h2></span>"
     },
     "metadata": {}
    },
    {
     "output_type": "display_data",
     "data": {
      "text/plain": "<IPython.core.display.HTML object>",
      "text/html": "<span style=\"color:cyan\"> |-conv_0_units: 8</span>"
     },
     "metadata": {}
    },
    {
     "output_type": "display_data",
     "data": {
      "text/plain": "<IPython.core.display.HTML object>",
      "text/html": "<span style=\"color:blue\"> |-conv_10_units: 48</span>"
     },
     "metadata": {}
    },
    {
     "output_type": "display_data",
     "data": {
      "text/plain": "<IPython.core.display.HTML object>",
      "text/html": "<span style=\"color:cyan\"> |-conv_11_units: 16</span>"
     },
     "metadata": {}
    },
    {
     "output_type": "display_data",
     "data": {
      "text/plain": "<IPython.core.display.HTML object>",
      "text/html": "<span style=\"color:blue\"> |-conv_12_units: 48</span>"
     },
     "metadata": {}
    },
    {
     "output_type": "display_data",
     "data": {
      "text/plain": "<IPython.core.display.HTML object>",
      "text/html": "<span style=\"color:cyan\"> |-conv_13_units: 16</span>"
     },
     "metadata": {}
    },
    {
     "output_type": "display_data",
     "data": {
      "text/plain": "<IPython.core.display.HTML object>",
      "text/html": "<span style=\"color:blue\"> |-conv_14_units: 32</span>"
     },
     "metadata": {}
    },
    {
     "output_type": "display_data",
     "data": {
      "text/plain": "<IPython.core.display.HTML object>",
      "text/html": "<span style=\"color:cyan\"> |-conv_15_units: 24</span>"
     },
     "metadata": {}
    },
    {
     "output_type": "display_data",
     "data": {
      "text/plain": "<IPython.core.display.HTML object>",
      "text/html": "<span style=\"color:blue\"> |-conv_1_units: 24</span>"
     },
     "metadata": {}
    },
    {
     "output_type": "display_data",
     "data": {
      "text/plain": "<IPython.core.display.HTML object>",
      "text/html": "<span style=\"color:cyan\"> |-conv_2_units: 40</span>"
     },
     "metadata": {}
    },
    {
     "output_type": "display_data",
     "data": {
      "text/plain": "<IPython.core.display.HTML object>",
      "text/html": "<span style=\"color:blue\"> |-conv_3_units: 40</span>"
     },
     "metadata": {}
    },
    {
     "output_type": "display_data",
     "data": {
      "text/plain": "<IPython.core.display.HTML object>",
      "text/html": "<span style=\"color:cyan\"> |-conv_4_units: 56</span>"
     },
     "metadata": {}
    },
    {
     "output_type": "display_data",
     "data": {
      "text/plain": "<IPython.core.display.HTML object>",
      "text/html": "<span style=\"color:blue\"> |-conv_5_units: 24</span>"
     },
     "metadata": {}
    },
    {
     "output_type": "display_data",
     "data": {
      "text/plain": "<IPython.core.display.HTML object>",
      "text/html": "<span style=\"color:cyan\"> |-conv_6_units: 40</span>"
     },
     "metadata": {}
    },
    {
     "output_type": "display_data",
     "data": {
      "text/plain": "<IPython.core.display.HTML object>",
      "text/html": "<span style=\"color:blue\"> |-conv_7_units: 16</span>"
     },
     "metadata": {}
    },
    {
     "output_type": "display_data",
     "data": {
      "text/plain": "<IPython.core.display.HTML object>",
      "text/html": "<span style=\"color:cyan\"> |-conv_8_units: 8</span>"
     },
     "metadata": {}
    },
    {
     "output_type": "display_data",
     "data": {
      "text/plain": "<IPython.core.display.HTML object>",
      "text/html": "<span style=\"color:blue\"> |-conv_9_units: 48</span>"
     },
     "metadata": {}
    },
    {
     "output_type": "display_data",
     "data": {
      "text/plain": "<IPython.core.display.HTML object>",
      "text/html": "<span style=\"color:cyan\"> |-dense_activation: relu</span>"
     },
     "metadata": {}
    },
    {
     "output_type": "display_data",
     "data": {
      "text/plain": "<IPython.core.display.HTML object>",
      "text/html": "<span style=\"color:blue\"> |-n_layers: 5</span>"
     },
     "metadata": {}
    },
    {
     "output_type": "display_data",
     "data": {
      "text/plain": "<IPython.core.display.HTML object>",
      "text/html": "<span style=\"color:#4527A0\"><h1 style=\"font-size:18px\">Trial complete</h1></span>"
     },
     "metadata": {}
    },
    {
     "output_type": "display_data",
     "data": {
      "text/plain": "<IPython.core.display.HTML object>",
      "text/html": "<span style=\"color:#4527A0\"><h1 style=\"font-size:18px\">Trial summary</h1></span>"
     },
     "metadata": {}
    },
    {
     "output_type": "display_data",
     "data": {
      "text/plain": "<IPython.core.display.HTML object>",
      "text/html": "<span style=\"color:cyan\"> |-Trial ID: 5075f0add8384adf62162c239cf42751</span>"
     },
     "metadata": {}
    },
    {
     "output_type": "display_data",
     "data": {
      "text/plain": "<IPython.core.display.HTML object>",
      "text/html": "<span style=\"color:cyan\"> |-Score: 0.75</span>"
     },
     "metadata": {}
    },
    {
     "output_type": "display_data",
     "data": {
      "text/plain": "<IPython.core.display.HTML object>",
      "text/html": "<span style=\"color:cyan\"> |-Best step: 0</span>"
     },
     "metadata": {}
    },
    {
     "output_type": "display_data",
     "data": {
      "text/plain": "<IPython.core.display.HTML object>",
      "text/html": "<span style=\"color:#7E57C2\"><h2 style=\"font-size:16px\">Hyperparameters:</h2></span>"
     },
     "metadata": {}
    },
    {
     "output_type": "display_data",
     "data": {
      "text/plain": "<IPython.core.display.HTML object>",
      "text/html": "<span style=\"color:cyan\"> |-conv_0_units: 56</span>"
     },
     "metadata": {}
    },
    {
     "output_type": "display_data",
     "data": {
      "text/plain": "<IPython.core.display.HTML object>",
      "text/html": "<span style=\"color:blue\"> |-conv_10_units: 40</span>"
     },
     "metadata": {}
    },
    {
     "output_type": "display_data",
     "data": {
      "text/plain": "<IPython.core.display.HTML object>",
      "text/html": "<span style=\"color:cyan\"> |-conv_11_units: 40</span>"
     },
     "metadata": {}
    },
    {
     "output_type": "display_data",
     "data": {
      "text/plain": "<IPython.core.display.HTML object>",
      "text/html": "<span style=\"color:blue\"> |-conv_12_units: 24</span>"
     },
     "metadata": {}
    },
    {
     "output_type": "display_data",
     "data": {
      "text/plain": "<IPython.core.display.HTML object>",
      "text/html": "<span style=\"color:cyan\"> |-conv_13_units: 32</span>"
     },
     "metadata": {}
    },
    {
     "output_type": "display_data",
     "data": {
      "text/plain": "<IPython.core.display.HTML object>",
      "text/html": "<span style=\"color:blue\"> |-conv_14_units: 48</span>"
     },
     "metadata": {}
    },
    {
     "output_type": "display_data",
     "data": {
      "text/plain": "<IPython.core.display.HTML object>",
      "text/html": "<span style=\"color:cyan\"> |-conv_15_units: 8</span>"
     },
     "metadata": {}
    },
    {
     "output_type": "display_data",
     "data": {
      "text/plain": "<IPython.core.display.HTML object>",
      "text/html": "<span style=\"color:blue\"> |-conv_1_units: 24</span>"
     },
     "metadata": {}
    },
    {
     "output_type": "display_data",
     "data": {
      "text/plain": "<IPython.core.display.HTML object>",
      "text/html": "<span style=\"color:cyan\"> |-conv_2_units: 16</span>"
     },
     "metadata": {}
    },
    {
     "output_type": "display_data",
     "data": {
      "text/plain": "<IPython.core.display.HTML object>",
      "text/html": "<span style=\"color:blue\"> |-conv_3_units: 56</span>"
     },
     "metadata": {}
    },
    {
     "output_type": "display_data",
     "data": {
      "text/plain": "<IPython.core.display.HTML object>",
      "text/html": "<span style=\"color:cyan\"> |-conv_4_units: 40</span>"
     },
     "metadata": {}
    },
    {
     "output_type": "display_data",
     "data": {
      "text/plain": "<IPython.core.display.HTML object>",
      "text/html": "<span style=\"color:blue\"> |-conv_5_units: 56</span>"
     },
     "metadata": {}
    },
    {
     "output_type": "display_data",
     "data": {
      "text/plain": "<IPython.core.display.HTML object>",
      "text/html": "<span style=\"color:cyan\"> |-conv_6_units: 56</span>"
     },
     "metadata": {}
    },
    {
     "output_type": "display_data",
     "data": {
      "text/plain": "<IPython.core.display.HTML object>",
      "text/html": "<span style=\"color:blue\"> |-conv_7_units: 40</span>"
     },
     "metadata": {}
    },
    {
     "output_type": "display_data",
     "data": {
      "text/plain": "<IPython.core.display.HTML object>",
      "text/html": "<span style=\"color:cyan\"> |-conv_8_units: 24</span>"
     },
     "metadata": {}
    },
    {
     "output_type": "display_data",
     "data": {
      "text/plain": "<IPython.core.display.HTML object>",
      "text/html": "<span style=\"color:blue\"> |-conv_9_units: 24</span>"
     },
     "metadata": {}
    },
    {
     "output_type": "display_data",
     "data": {
      "text/plain": "<IPython.core.display.HTML object>",
      "text/html": "<span style=\"color:cyan\"> |-dense_activation: relu</span>"
     },
     "metadata": {}
    },
    {
     "output_type": "display_data",
     "data": {
      "text/plain": "<IPython.core.display.HTML object>",
      "text/html": "<span style=\"color:blue\"> |-n_layers: 12</span>"
     },
     "metadata": {}
    },
    {
     "output_type": "display_data",
     "data": {
      "text/plain": "<IPython.core.display.HTML object>",
      "text/html": "<span style=\"color:#4527A0\"><h1 style=\"font-size:18px\">Trial complete</h1></span>"
     },
     "metadata": {}
    },
    {
     "output_type": "display_data",
     "data": {
      "text/plain": "<IPython.core.display.HTML object>",
      "text/html": "<span style=\"color:#4527A0\"><h1 style=\"font-size:18px\">Trial summary</h1></span>"
     },
     "metadata": {}
    },
    {
     "output_type": "display_data",
     "data": {
      "text/plain": "<IPython.core.display.HTML object>",
      "text/html": "<span style=\"color:cyan\"> |-Trial ID: 4ffb7987a502b4f249519e837ee2ff72</span>"
     },
     "metadata": {}
    },
    {
     "output_type": "display_data",
     "data": {
      "text/plain": "<IPython.core.display.HTML object>",
      "text/html": "<span style=\"color:cyan\"> |-Score: 0.5</span>"
     },
     "metadata": {}
    },
    {
     "output_type": "display_data",
     "data": {
      "text/plain": "<IPython.core.display.HTML object>",
      "text/html": "<span style=\"color:cyan\"> |-Best step: 0</span>"
     },
     "metadata": {}
    },
    {
     "output_type": "display_data",
     "data": {
      "text/plain": "<IPython.core.display.HTML object>",
      "text/html": "<span style=\"color:#7E57C2\"><h2 style=\"font-size:16px\">Hyperparameters:</h2></span>"
     },
     "metadata": {}
    },
    {
     "output_type": "display_data",
     "data": {
      "text/plain": "<IPython.core.display.HTML object>",
      "text/html": "<span style=\"color:cyan\"> |-conv_0_units: 24</span>"
     },
     "metadata": {}
    },
    {
     "output_type": "display_data",
     "data": {
      "text/plain": "<IPython.core.display.HTML object>",
      "text/html": "<span style=\"color:blue\"> |-conv_10_units: 56</span>"
     },
     "metadata": {}
    },
    {
     "output_type": "display_data",
     "data": {
      "text/plain": "<IPython.core.display.HTML object>",
      "text/html": "<span style=\"color:cyan\"> |-conv_11_units: 16</span>"
     },
     "metadata": {}
    },
    {
     "output_type": "display_data",
     "data": {
      "text/plain": "<IPython.core.display.HTML object>",
      "text/html": "<span style=\"color:blue\"> |-conv_12_units: 32</span>"
     },
     "metadata": {}
    },
    {
     "output_type": "display_data",
     "data": {
      "text/plain": "<IPython.core.display.HTML object>",
      "text/html": "<span style=\"color:cyan\"> |-conv_13_units: 16</span>"
     },
     "metadata": {}
    },
    {
     "output_type": "display_data",
     "data": {
      "text/plain": "<IPython.core.display.HTML object>",
      "text/html": "<span style=\"color:blue\"> |-conv_14_units: 24</span>"
     },
     "metadata": {}
    },
    {
     "output_type": "display_data",
     "data": {
      "text/plain": "<IPython.core.display.HTML object>",
      "text/html": "<span style=\"color:cyan\"> |-conv_15_units: 64</span>"
     },
     "metadata": {}
    },
    {
     "output_type": "display_data",
     "data": {
      "text/plain": "<IPython.core.display.HTML object>",
      "text/html": "<span style=\"color:blue\"> |-conv_1_units: 8</span>"
     },
     "metadata": {}
    },
    {
     "output_type": "display_data",
     "data": {
      "text/plain": "<IPython.core.display.HTML object>",
      "text/html": "<span style=\"color:cyan\"> |-conv_2_units: 40</span>"
     },
     "metadata": {}
    },
    {
     "output_type": "display_data",
     "data": {
      "text/plain": "<IPython.core.display.HTML object>",
      "text/html": "<span style=\"color:blue\"> |-conv_3_units: 16</span>"
     },
     "metadata": {}
    },
    {
     "output_type": "display_data",
     "data": {
      "text/plain": "<IPython.core.display.HTML object>",
      "text/html": "<span style=\"color:cyan\"> |-conv_4_units: 48</span>"
     },
     "metadata": {}
    },
    {
     "output_type": "display_data",
     "data": {
      "text/plain": "<IPython.core.display.HTML object>",
      "text/html": "<span style=\"color:blue\"> |-conv_5_units: 8</span>"
     },
     "metadata": {}
    },
    {
     "output_type": "display_data",
     "data": {
      "text/plain": "<IPython.core.display.HTML object>",
      "text/html": "<span style=\"color:cyan\"> |-conv_6_units: 40</span>"
     },
     "metadata": {}
    },
    {
     "output_type": "display_data",
     "data": {
      "text/plain": "<IPython.core.display.HTML object>",
      "text/html": "<span style=\"color:blue\"> |-conv_7_units: 32</span>"
     },
     "metadata": {}
    },
    {
     "output_type": "display_data",
     "data": {
      "text/plain": "<IPython.core.display.HTML object>",
      "text/html": "<span style=\"color:cyan\"> |-conv_8_units: 40</span>"
     },
     "metadata": {}
    },
    {
     "output_type": "display_data",
     "data": {
      "text/plain": "<IPython.core.display.HTML object>",
      "text/html": "<span style=\"color:blue\"> |-conv_9_units: 48</span>"
     },
     "metadata": {}
    },
    {
     "output_type": "display_data",
     "data": {
      "text/plain": "<IPython.core.display.HTML object>",
      "text/html": "<span style=\"color:cyan\"> |-dense_activation: relu</span>"
     },
     "metadata": {}
    },
    {
     "output_type": "display_data",
     "data": {
      "text/plain": "<IPython.core.display.HTML object>",
      "text/html": "<span style=\"color:blue\"> |-n_layers: 6</span>"
     },
     "metadata": {}
    },
    {
     "output_type": "display_data",
     "data": {
      "text/plain": "<IPython.core.display.HTML object>",
      "text/html": "<span style=\"color:#4527A0\"><h1 style=\"font-size:18px\">Trial complete</h1></span>"
     },
     "metadata": {}
    },
    {
     "output_type": "display_data",
     "data": {
      "text/plain": "<IPython.core.display.HTML object>",
      "text/html": "<span style=\"color:#4527A0\"><h1 style=\"font-size:18px\">Trial summary</h1></span>"
     },
     "metadata": {}
    },
    {
     "output_type": "display_data",
     "data": {
      "text/plain": "<IPython.core.display.HTML object>",
      "text/html": "<span style=\"color:cyan\"> |-Trial ID: 8ae9a8cb5542321ee4bcb99aba1657b6</span>"
     },
     "metadata": {}
    },
    {
     "output_type": "display_data",
     "data": {
      "text/plain": "<IPython.core.display.HTML object>",
      "text/html": "<span style=\"color:cyan\"> |-Score: 0.5</span>"
     },
     "metadata": {}
    },
    {
     "output_type": "display_data",
     "data": {
      "text/plain": "<IPython.core.display.HTML object>",
      "text/html": "<span style=\"color:cyan\"> |-Best step: 0</span>"
     },
     "metadata": {}
    },
    {
     "output_type": "display_data",
     "data": {
      "text/plain": "<IPython.core.display.HTML object>",
      "text/html": "<span style=\"color:#7E57C2\"><h2 style=\"font-size:16px\">Hyperparameters:</h2></span>"
     },
     "metadata": {}
    },
    {
     "output_type": "display_data",
     "data": {
      "text/plain": "<IPython.core.display.HTML object>",
      "text/html": "<span style=\"color:cyan\"> |-conv_0_units: 40</span>"
     },
     "metadata": {}
    },
    {
     "output_type": "display_data",
     "data": {
      "text/plain": "<IPython.core.display.HTML object>",
      "text/html": "<span style=\"color:blue\"> |-conv_10_units: 32</span>"
     },
     "metadata": {}
    },
    {
     "output_type": "display_data",
     "data": {
      "text/plain": "<IPython.core.display.HTML object>",
      "text/html": "<span style=\"color:cyan\"> |-conv_11_units: 32</span>"
     },
     "metadata": {}
    },
    {
     "output_type": "display_data",
     "data": {
      "text/plain": "<IPython.core.display.HTML object>",
      "text/html": "<span style=\"color:blue\"> |-conv_12_units: 16</span>"
     },
     "metadata": {}
    },
    {
     "output_type": "display_data",
     "data": {
      "text/plain": "<IPython.core.display.HTML object>",
      "text/html": "<span style=\"color:cyan\"> |-conv_13_units: 56</span>"
     },
     "metadata": {}
    },
    {
     "output_type": "display_data",
     "data": {
      "text/plain": "<IPython.core.display.HTML object>",
      "text/html": "<span style=\"color:blue\"> |-conv_14_units: 16</span>"
     },
     "metadata": {}
    },
    {
     "output_type": "display_data",
     "data": {
      "text/plain": "<IPython.core.display.HTML object>",
      "text/html": "<span style=\"color:cyan\"> |-conv_15_units: 32</span>"
     },
     "metadata": {}
    },
    {
     "output_type": "display_data",
     "data": {
      "text/plain": "<IPython.core.display.HTML object>",
      "text/html": "<span style=\"color:blue\"> |-conv_1_units: 16</span>"
     },
     "metadata": {}
    },
    {
     "output_type": "display_data",
     "data": {
      "text/plain": "<IPython.core.display.HTML object>",
      "text/html": "<span style=\"color:cyan\"> |-conv_2_units: 56</span>"
     },
     "metadata": {}
    },
    {
     "output_type": "display_data",
     "data": {
      "text/plain": "<IPython.core.display.HTML object>",
      "text/html": "<span style=\"color:blue\"> |-conv_3_units: 40</span>"
     },
     "metadata": {}
    },
    {
     "output_type": "display_data",
     "data": {
      "text/plain": "<IPython.core.display.HTML object>",
      "text/html": "<span style=\"color:cyan\"> |-conv_4_units: 48</span>"
     },
     "metadata": {}
    },
    {
     "output_type": "display_data",
     "data": {
      "text/plain": "<IPython.core.display.HTML object>",
      "text/html": "<span style=\"color:blue\"> |-conv_5_units: 8</span>"
     },
     "metadata": {}
    },
    {
     "output_type": "display_data",
     "data": {
      "text/plain": "<IPython.core.display.HTML object>",
      "text/html": "<span style=\"color:cyan\"> |-conv_6_units: 32</span>"
     },
     "metadata": {}
    },
    {
     "output_type": "display_data",
     "data": {
      "text/plain": "<IPython.core.display.HTML object>",
      "text/html": "<span style=\"color:blue\"> |-conv_7_units: 40</span>"
     },
     "metadata": {}
    },
    {
     "output_type": "display_data",
     "data": {
      "text/plain": "<IPython.core.display.HTML object>",
      "text/html": "<span style=\"color:cyan\"> |-conv_8_units: 8</span>"
     },
     "metadata": {}
    },
    {
     "output_type": "display_data",
     "data": {
      "text/plain": "<IPython.core.display.HTML object>",
      "text/html": "<span style=\"color:blue\"> |-conv_9_units: 32</span>"
     },
     "metadata": {}
    },
    {
     "output_type": "display_data",
     "data": {
      "text/plain": "<IPython.core.display.HTML object>",
      "text/html": "<span style=\"color:cyan\"> |-dense_activation: relu</span>"
     },
     "metadata": {}
    },
    {
     "output_type": "display_data",
     "data": {
      "text/plain": "<IPython.core.display.HTML object>",
      "text/html": "<span style=\"color:blue\"> |-n_layers: 16</span>"
     },
     "metadata": {}
    },
    {
     "output_type": "display_data",
     "data": {
      "text/plain": "<IPython.core.display.HTML object>",
      "text/html": "<span style=\"color:#4527A0\"><h1 style=\"font-size:18px\">Trial complete</h1></span>"
     },
     "metadata": {}
    },
    {
     "output_type": "display_data",
     "data": {
      "text/plain": "<IPython.core.display.HTML object>",
      "text/html": "<span style=\"color:#4527A0\"><h1 style=\"font-size:18px\">Trial summary</h1></span>"
     },
     "metadata": {}
    },
    {
     "output_type": "display_data",
     "data": {
      "text/plain": "<IPython.core.display.HTML object>",
      "text/html": "<span style=\"color:cyan\"> |-Trial ID: ab1088d4a2a05cdaf4a3172ea832ff37</span>"
     },
     "metadata": {}
    },
    {
     "output_type": "display_data",
     "data": {
      "text/plain": "<IPython.core.display.HTML object>",
      "text/html": "<span style=\"color:cyan\"> |-Score: 0.5</span>"
     },
     "metadata": {}
    },
    {
     "output_type": "display_data",
     "data": {
      "text/plain": "<IPython.core.display.HTML object>",
      "text/html": "<span style=\"color:cyan\"> |-Best step: 0</span>"
     },
     "metadata": {}
    },
    {
     "output_type": "display_data",
     "data": {
      "text/plain": "<IPython.core.display.HTML object>",
      "text/html": "<span style=\"color:#7E57C2\"><h2 style=\"font-size:16px\">Hyperparameters:</h2></span>"
     },
     "metadata": {}
    },
    {
     "output_type": "display_data",
     "data": {
      "text/plain": "<IPython.core.display.HTML object>",
      "text/html": "<span style=\"color:cyan\"> |-conv_0_units: 40</span>"
     },
     "metadata": {}
    },
    {
     "output_type": "display_data",
     "data": {
      "text/plain": "<IPython.core.display.HTML object>",
      "text/html": "<span style=\"color:blue\"> |-conv_10_units: 32</span>"
     },
     "metadata": {}
    },
    {
     "output_type": "display_data",
     "data": {
      "text/plain": "<IPython.core.display.HTML object>",
      "text/html": "<span style=\"color:cyan\"> |-conv_11_units: 16</span>"
     },
     "metadata": {}
    },
    {
     "output_type": "display_data",
     "data": {
      "text/plain": "<IPython.core.display.HTML object>",
      "text/html": "<span style=\"color:blue\"> |-conv_12_units: 24</span>"
     },
     "metadata": {}
    },
    {
     "output_type": "display_data",
     "data": {
      "text/plain": "<IPython.core.display.HTML object>",
      "text/html": "<span style=\"color:cyan\"> |-conv_13_units: 48</span>"
     },
     "metadata": {}
    },
    {
     "output_type": "display_data",
     "data": {
      "text/plain": "<IPython.core.display.HTML object>",
      "text/html": "<span style=\"color:blue\"> |-conv_14_units: 48</span>"
     },
     "metadata": {}
    },
    {
     "output_type": "display_data",
     "data": {
      "text/plain": "<IPython.core.display.HTML object>",
      "text/html": "<span style=\"color:cyan\"> |-conv_15_units: 40</span>"
     },
     "metadata": {}
    },
    {
     "output_type": "display_data",
     "data": {
      "text/plain": "<IPython.core.display.HTML object>",
      "text/html": "<span style=\"color:blue\"> |-conv_1_units: 56</span>"
     },
     "metadata": {}
    },
    {
     "output_type": "display_data",
     "data": {
      "text/plain": "<IPython.core.display.HTML object>",
      "text/html": "<span style=\"color:cyan\"> |-conv_2_units: 24</span>"
     },
     "metadata": {}
    },
    {
     "output_type": "display_data",
     "data": {
      "text/plain": "<IPython.core.display.HTML object>",
      "text/html": "<span style=\"color:blue\"> |-conv_3_units: 8</span>"
     },
     "metadata": {}
    },
    {
     "output_type": "display_data",
     "data": {
      "text/plain": "<IPython.core.display.HTML object>",
      "text/html": "<span style=\"color:cyan\"> |-conv_4_units: 40</span>"
     },
     "metadata": {}
    },
    {
     "output_type": "display_data",
     "data": {
      "text/plain": "<IPython.core.display.HTML object>",
      "text/html": "<span style=\"color:blue\"> |-conv_5_units: 56</span>"
     },
     "metadata": {}
    },
    {
     "output_type": "display_data",
     "data": {
      "text/plain": "<IPython.core.display.HTML object>",
      "text/html": "<span style=\"color:cyan\"> |-conv_6_units: 64</span>"
     },
     "metadata": {}
    },
    {
     "output_type": "display_data",
     "data": {
      "text/plain": "<IPython.core.display.HTML object>",
      "text/html": "<span style=\"color:blue\"> |-conv_7_units: 8</span>"
     },
     "metadata": {}
    },
    {
     "output_type": "display_data",
     "data": {
      "text/plain": "<IPython.core.display.HTML object>",
      "text/html": "<span style=\"color:cyan\"> |-conv_8_units: 64</span>"
     },
     "metadata": {}
    },
    {
     "output_type": "display_data",
     "data": {
      "text/plain": "<IPython.core.display.HTML object>",
      "text/html": "<span style=\"color:blue\"> |-conv_9_units: 16</span>"
     },
     "metadata": {}
    },
    {
     "output_type": "display_data",
     "data": {
      "text/plain": "<IPython.core.display.HTML object>",
      "text/html": "<span style=\"color:cyan\"> |-dense_activation: relu</span>"
     },
     "metadata": {}
    },
    {
     "output_type": "display_data",
     "data": {
      "text/plain": "<IPython.core.display.HTML object>",
      "text/html": "<span style=\"color:blue\"> |-n_layers: 10</span>"
     },
     "metadata": {}
    },
    {
     "output_type": "display_data",
     "data": {
      "text/plain": "<IPython.core.display.HTML object>",
      "text/html": "<span style=\"color:#4527A0\"><h1 style=\"font-size:18px\">Trial complete</h1></span>"
     },
     "metadata": {}
    },
    {
     "output_type": "display_data",
     "data": {
      "text/plain": "<IPython.core.display.HTML object>",
      "text/html": "<span style=\"color:#4527A0\"><h1 style=\"font-size:18px\">Trial summary</h1></span>"
     },
     "metadata": {}
    },
    {
     "output_type": "display_data",
     "data": {
      "text/plain": "<IPython.core.display.HTML object>",
      "text/html": "<span style=\"color:cyan\"> |-Trial ID: e0196f6b8a1b89bd0124406c3b310694</span>"
     },
     "metadata": {}
    },
    {
     "output_type": "display_data",
     "data": {
      "text/plain": "<IPython.core.display.HTML object>",
      "text/html": "<span style=\"color:cyan\"> |-Score: 0.5</span>"
     },
     "metadata": {}
    },
    {
     "output_type": "display_data",
     "data": {
      "text/plain": "<IPython.core.display.HTML object>",
      "text/html": "<span style=\"color:cyan\"> |-Best step: 0</span>"
     },
     "metadata": {}
    },
    {
     "output_type": "display_data",
     "data": {
      "text/plain": "<IPython.core.display.HTML object>",
      "text/html": "<span style=\"color:#7E57C2\"><h2 style=\"font-size:16px\">Hyperparameters:</h2></span>"
     },
     "metadata": {}
    },
    {
     "output_type": "display_data",
     "data": {
      "text/plain": "<IPython.core.display.HTML object>",
      "text/html": "<span style=\"color:cyan\"> |-conv_0_units: 48</span>"
     },
     "metadata": {}
    },
    {
     "output_type": "display_data",
     "data": {
      "text/plain": "<IPython.core.display.HTML object>",
      "text/html": "<span style=\"color:blue\"> |-conv_10_units: 48</span>"
     },
     "metadata": {}
    },
    {
     "output_type": "display_data",
     "data": {
      "text/plain": "<IPython.core.display.HTML object>",
      "text/html": "<span style=\"color:cyan\"> |-conv_11_units: 56</span>"
     },
     "metadata": {}
    },
    {
     "output_type": "display_data",
     "data": {
      "text/plain": "<IPython.core.display.HTML object>",
      "text/html": "<span style=\"color:blue\"> |-conv_12_units: 64</span>"
     },
     "metadata": {}
    },
    {
     "output_type": "display_data",
     "data": {
      "text/plain": "<IPython.core.display.HTML object>",
      "text/html": "<span style=\"color:cyan\"> |-conv_13_units: 56</span>"
     },
     "metadata": {}
    },
    {
     "output_type": "display_data",
     "data": {
      "text/plain": "<IPython.core.display.HTML object>",
      "text/html": "<span style=\"color:blue\"> |-conv_14_units: 32</span>"
     },
     "metadata": {}
    },
    {
     "output_type": "display_data",
     "data": {
      "text/plain": "<IPython.core.display.HTML object>",
      "text/html": "<span style=\"color:cyan\"> |-conv_15_units: 56</span>"
     },
     "metadata": {}
    },
    {
     "output_type": "display_data",
     "data": {
      "text/plain": "<IPython.core.display.HTML object>",
      "text/html": "<span style=\"color:blue\"> |-conv_1_units: 40</span>"
     },
     "metadata": {}
    },
    {
     "output_type": "display_data",
     "data": {
      "text/plain": "<IPython.core.display.HTML object>",
      "text/html": "<span style=\"color:cyan\"> |-conv_2_units: 48</span>"
     },
     "metadata": {}
    },
    {
     "output_type": "display_data",
     "data": {
      "text/plain": "<IPython.core.display.HTML object>",
      "text/html": "<span style=\"color:blue\"> |-conv_3_units: 8</span>"
     },
     "metadata": {}
    },
    {
     "output_type": "display_data",
     "data": {
      "text/plain": "<IPython.core.display.HTML object>",
      "text/html": "<span style=\"color:cyan\"> |-conv_4_units: 32</span>"
     },
     "metadata": {}
    },
    {
     "output_type": "display_data",
     "data": {
      "text/plain": "<IPython.core.display.HTML object>",
      "text/html": "<span style=\"color:blue\"> |-conv_5_units: 16</span>"
     },
     "metadata": {}
    },
    {
     "output_type": "display_data",
     "data": {
      "text/plain": "<IPython.core.display.HTML object>",
      "text/html": "<span style=\"color:cyan\"> |-conv_6_units: 48</span>"
     },
     "metadata": {}
    },
    {
     "output_type": "display_data",
     "data": {
      "text/plain": "<IPython.core.display.HTML object>",
      "text/html": "<span style=\"color:blue\"> |-conv_7_units: 40</span>"
     },
     "metadata": {}
    },
    {
     "output_type": "display_data",
     "data": {
      "text/plain": "<IPython.core.display.HTML object>",
      "text/html": "<span style=\"color:cyan\"> |-conv_8_units: 40</span>"
     },
     "metadata": {}
    },
    {
     "output_type": "display_data",
     "data": {
      "text/plain": "<IPython.core.display.HTML object>",
      "text/html": "<span style=\"color:blue\"> |-conv_9_units: 56</span>"
     },
     "metadata": {}
    },
    {
     "output_type": "display_data",
     "data": {
      "text/plain": "<IPython.core.display.HTML object>",
      "text/html": "<span style=\"color:cyan\"> |-dense_activation: relu</span>"
     },
     "metadata": {}
    },
    {
     "output_type": "display_data",
     "data": {
      "text/plain": "<IPython.core.display.HTML object>",
      "text/html": "<span style=\"color:blue\"> |-n_layers: 13</span>"
     },
     "metadata": {}
    },
    {
     "output_type": "display_data",
     "data": {
      "text/plain": "<IPython.core.display.HTML object>",
      "text/html": "<span style=\"color:#4527A0\"><h1 style=\"font-size:18px\">Trial complete</h1></span>"
     },
     "metadata": {}
    },
    {
     "output_type": "display_data",
     "data": {
      "text/plain": "<IPython.core.display.HTML object>",
      "text/html": "<span style=\"color:#4527A0\"><h1 style=\"font-size:18px\">Trial summary</h1></span>"
     },
     "metadata": {}
    },
    {
     "output_type": "display_data",
     "data": {
      "text/plain": "<IPython.core.display.HTML object>",
      "text/html": "<span style=\"color:cyan\"> |-Trial ID: c067ff2561c7e47ec4fa965838970345</span>"
     },
     "metadata": {}
    },
    {
     "output_type": "display_data",
     "data": {
      "text/plain": "<IPython.core.display.HTML object>",
      "text/html": "<span style=\"color:cyan\"> |-Score: 0.5</span>"
     },
     "metadata": {}
    },
    {
     "output_type": "display_data",
     "data": {
      "text/plain": "<IPython.core.display.HTML object>",
      "text/html": "<span style=\"color:cyan\"> |-Best step: 0</span>"
     },
     "metadata": {}
    },
    {
     "output_type": "display_data",
     "data": {
      "text/plain": "<IPython.core.display.HTML object>",
      "text/html": "<span style=\"color:#7E57C2\"><h2 style=\"font-size:16px\">Hyperparameters:</h2></span>"
     },
     "metadata": {}
    },
    {
     "output_type": "display_data",
     "data": {
      "text/plain": "<IPython.core.display.HTML object>",
      "text/html": "<span style=\"color:cyan\"> |-conv_0_units: 16</span>"
     },
     "metadata": {}
    },
    {
     "output_type": "display_data",
     "data": {
      "text/plain": "<IPython.core.display.HTML object>",
      "text/html": "<span style=\"color:blue\"> |-conv_10_units: 8</span>"
     },
     "metadata": {}
    },
    {
     "output_type": "display_data",
     "data": {
      "text/plain": "<IPython.core.display.HTML object>",
      "text/html": "<span style=\"color:cyan\"> |-conv_11_units: 56</span>"
     },
     "metadata": {}
    },
    {
     "output_type": "display_data",
     "data": {
      "text/plain": "<IPython.core.display.HTML object>",
      "text/html": "<span style=\"color:blue\"> |-conv_12_units: 48</span>"
     },
     "metadata": {}
    },
    {
     "output_type": "display_data",
     "data": {
      "text/plain": "<IPython.core.display.HTML object>",
      "text/html": "<span style=\"color:cyan\"> |-conv_13_units: 32</span>"
     },
     "metadata": {}
    },
    {
     "output_type": "display_data",
     "data": {
      "text/plain": "<IPython.core.display.HTML object>",
      "text/html": "<span style=\"color:blue\"> |-conv_14_units: 56</span>"
     },
     "metadata": {}
    },
    {
     "output_type": "display_data",
     "data": {
      "text/plain": "<IPython.core.display.HTML object>",
      "text/html": "<span style=\"color:cyan\"> |-conv_15_units: 56</span>"
     },
     "metadata": {}
    },
    {
     "output_type": "display_data",
     "data": {
      "text/plain": "<IPython.core.display.HTML object>",
      "text/html": "<span style=\"color:blue\"> |-conv_1_units: 16</span>"
     },
     "metadata": {}
    },
    {
     "output_type": "display_data",
     "data": {
      "text/plain": "<IPython.core.display.HTML object>",
      "text/html": "<span style=\"color:cyan\"> |-conv_2_units: 40</span>"
     },
     "metadata": {}
    },
    {
     "output_type": "display_data",
     "data": {
      "text/plain": "<IPython.core.display.HTML object>",
      "text/html": "<span style=\"color:blue\"> |-conv_3_units: 32</span>"
     },
     "metadata": {}
    },
    {
     "output_type": "display_data",
     "data": {
      "text/plain": "<IPython.core.display.HTML object>",
      "text/html": "<span style=\"color:cyan\"> |-conv_4_units: 64</span>"
     },
     "metadata": {}
    },
    {
     "output_type": "display_data",
     "data": {
      "text/plain": "<IPython.core.display.HTML object>",
      "text/html": "<span style=\"color:blue\"> |-conv_5_units: 40</span>"
     },
     "metadata": {}
    },
    {
     "output_type": "display_data",
     "data": {
      "text/plain": "<IPython.core.display.HTML object>",
      "text/html": "<span style=\"color:cyan\"> |-conv_6_units: 16</span>"
     },
     "metadata": {}
    },
    {
     "output_type": "display_data",
     "data": {
      "text/plain": "<IPython.core.display.HTML object>",
      "text/html": "<span style=\"color:blue\"> |-conv_7_units: 40</span>"
     },
     "metadata": {}
    },
    {
     "output_type": "display_data",
     "data": {
      "text/plain": "<IPython.core.display.HTML object>",
      "text/html": "<span style=\"color:cyan\"> |-conv_8_units: 16</span>"
     },
     "metadata": {}
    },
    {
     "output_type": "display_data",
     "data": {
      "text/plain": "<IPython.core.display.HTML object>",
      "text/html": "<span style=\"color:blue\"> |-conv_9_units: 32</span>"
     },
     "metadata": {}
    },
    {
     "output_type": "display_data",
     "data": {
      "text/plain": "<IPython.core.display.HTML object>",
      "text/html": "<span style=\"color:cyan\"> |-dense_activation: relu</span>"
     },
     "metadata": {}
    },
    {
     "output_type": "display_data",
     "data": {
      "text/plain": "<IPython.core.display.HTML object>",
      "text/html": "<span style=\"color:blue\"> |-n_layers: 9</span>"
     },
     "metadata": {}
    },
    {
     "output_type": "display_data",
     "data": {
      "text/plain": "<IPython.core.display.HTML object>",
      "text/html": "<span style=\"color:#4527A0\"><h1 style=\"font-size:18px\">Trial complete</h1></span>"
     },
     "metadata": {}
    },
    {
     "output_type": "display_data",
     "data": {
      "text/plain": "<IPython.core.display.HTML object>",
      "text/html": "<span style=\"color:#4527A0\"><h1 style=\"font-size:18px\">Trial summary</h1></span>"
     },
     "metadata": {}
    },
    {
     "output_type": "display_data",
     "data": {
      "text/plain": "<IPython.core.display.HTML object>",
      "text/html": "<span style=\"color:cyan\"> |-Trial ID: af46e714ebc2d80daef31bb434b73157</span>"
     },
     "metadata": {}
    },
    {
     "output_type": "display_data",
     "data": {
      "text/plain": "<IPython.core.display.HTML object>",
      "text/html": "<span style=\"color:cyan\"> |-Score: 0.5</span>"
     },
     "metadata": {}
    },
    {
     "output_type": "display_data",
     "data": {
      "text/plain": "<IPython.core.display.HTML object>",
      "text/html": "<span style=\"color:cyan\"> |-Best step: 0</span>"
     },
     "metadata": {}
    },
    {
     "output_type": "display_data",
     "data": {
      "text/plain": "<IPython.core.display.HTML object>",
      "text/html": "<span style=\"color:#7E57C2\"><h2 style=\"font-size:16px\">Hyperparameters:</h2></span>"
     },
     "metadata": {}
    },
    {
     "output_type": "display_data",
     "data": {
      "text/plain": "<IPython.core.display.HTML object>",
      "text/html": "<span style=\"color:cyan\"> |-conv_0_units: 16</span>"
     },
     "metadata": {}
    },
    {
     "output_type": "display_data",
     "data": {
      "text/plain": "<IPython.core.display.HTML object>",
      "text/html": "<span style=\"color:blue\"> |-conv_10_units: 16</span>"
     },
     "metadata": {}
    },
    {
     "output_type": "display_data",
     "data": {
      "text/plain": "<IPython.core.display.HTML object>",
      "text/html": "<span style=\"color:cyan\"> |-conv_11_units: 24</span>"
     },
     "metadata": {}
    },
    {
     "output_type": "display_data",
     "data": {
      "text/plain": "<IPython.core.display.HTML object>",
      "text/html": "<span style=\"color:blue\"> |-conv_12_units: 8</span>"
     },
     "metadata": {}
    },
    {
     "output_type": "display_data",
     "data": {
      "text/plain": "<IPython.core.display.HTML object>",
      "text/html": "<span style=\"color:cyan\"> |-conv_13_units: 48</span>"
     },
     "metadata": {}
    },
    {
     "output_type": "display_data",
     "data": {
      "text/plain": "<IPython.core.display.HTML object>",
      "text/html": "<span style=\"color:blue\"> |-conv_14_units: 48</span>"
     },
     "metadata": {}
    },
    {
     "output_type": "display_data",
     "data": {
      "text/plain": "<IPython.core.display.HTML object>",
      "text/html": "<span style=\"color:cyan\"> |-conv_15_units: 16</span>"
     },
     "metadata": {}
    },
    {
     "output_type": "display_data",
     "data": {
      "text/plain": "<IPython.core.display.HTML object>",
      "text/html": "<span style=\"color:blue\"> |-conv_1_units: 48</span>"
     },
     "metadata": {}
    },
    {
     "output_type": "display_data",
     "data": {
      "text/plain": "<IPython.core.display.HTML object>",
      "text/html": "<span style=\"color:cyan\"> |-conv_2_units: 32</span>"
     },
     "metadata": {}
    },
    {
     "output_type": "display_data",
     "data": {
      "text/plain": "<IPython.core.display.HTML object>",
      "text/html": "<span style=\"color:blue\"> |-conv_3_units: 16</span>"
     },
     "metadata": {}
    },
    {
     "output_type": "display_data",
     "data": {
      "text/plain": "<IPython.core.display.HTML object>",
      "text/html": "<span style=\"color:cyan\"> |-conv_4_units: 56</span>"
     },
     "metadata": {}
    },
    {
     "output_type": "display_data",
     "data": {
      "text/plain": "<IPython.core.display.HTML object>",
      "text/html": "<span style=\"color:blue\"> |-conv_5_units: 24</span>"
     },
     "metadata": {}
    },
    {
     "output_type": "display_data",
     "data": {
      "text/plain": "<IPython.core.display.HTML object>",
      "text/html": "<span style=\"color:cyan\"> |-conv_6_units: 48</span>"
     },
     "metadata": {}
    },
    {
     "output_type": "display_data",
     "data": {
      "text/plain": "<IPython.core.display.HTML object>",
      "text/html": "<span style=\"color:blue\"> |-conv_7_units: 8</span>"
     },
     "metadata": {}
    },
    {
     "output_type": "display_data",
     "data": {
      "text/plain": "<IPython.core.display.HTML object>",
      "text/html": "<span style=\"color:cyan\"> |-conv_8_units: 64</span>"
     },
     "metadata": {}
    },
    {
     "output_type": "display_data",
     "data": {
      "text/plain": "<IPython.core.display.HTML object>",
      "text/html": "<span style=\"color:blue\"> |-conv_9_units: 8</span>"
     },
     "metadata": {}
    },
    {
     "output_type": "display_data",
     "data": {
      "text/plain": "<IPython.core.display.HTML object>",
      "text/html": "<span style=\"color:cyan\"> |-dense_activation: relu</span>"
     },
     "metadata": {}
    },
    {
     "output_type": "display_data",
     "data": {
      "text/plain": "<IPython.core.display.HTML object>",
      "text/html": "<span style=\"color:blue\"> |-n_layers: 5</span>"
     },
     "metadata": {}
    },
    {
     "output_type": "display_data",
     "data": {
      "text/plain": "<IPython.core.display.HTML object>",
      "text/html": "<span style=\"color:#4527A0\"><h1 style=\"font-size:18px\">Trial complete</h1></span>"
     },
     "metadata": {}
    },
    {
     "output_type": "display_data",
     "data": {
      "text/plain": "<IPython.core.display.HTML object>",
      "text/html": "<span style=\"color:#4527A0\"><h1 style=\"font-size:18px\">Trial summary</h1></span>"
     },
     "metadata": {}
    },
    {
     "output_type": "display_data",
     "data": {
      "text/plain": "<IPython.core.display.HTML object>",
      "text/html": "<span style=\"color:cyan\"> |-Trial ID: 1e5b3327dca5488eb78501181a565b8a</span>"
     },
     "metadata": {}
    },
    {
     "output_type": "display_data",
     "data": {
      "text/plain": "<IPython.core.display.HTML object>",
      "text/html": "<span style=\"color:cyan\"> |-Score: 0.5</span>"
     },
     "metadata": {}
    },
    {
     "output_type": "display_data",
     "data": {
      "text/plain": "<IPython.core.display.HTML object>",
      "text/html": "<span style=\"color:cyan\"> |-Best step: 0</span>"
     },
     "metadata": {}
    },
    {
     "output_type": "display_data",
     "data": {
      "text/plain": "<IPython.core.display.HTML object>",
      "text/html": "<span style=\"color:#7E57C2\"><h2 style=\"font-size:16px\">Hyperparameters:</h2></span>"
     },
     "metadata": {}
    },
    {
     "output_type": "display_data",
     "data": {
      "text/plain": "<IPython.core.display.HTML object>",
      "text/html": "<span style=\"color:cyan\"> |-conv_0_units: 24</span>"
     },
     "metadata": {}
    },
    {
     "output_type": "display_data",
     "data": {
      "text/plain": "<IPython.core.display.HTML object>",
      "text/html": "<span style=\"color:blue\"> |-conv_10_units: 40</span>"
     },
     "metadata": {}
    },
    {
     "output_type": "display_data",
     "data": {
      "text/plain": "<IPython.core.display.HTML object>",
      "text/html": "<span style=\"color:cyan\"> |-conv_11_units: 24</span>"
     },
     "metadata": {}
    },
    {
     "output_type": "display_data",
     "data": {
      "text/plain": "<IPython.core.display.HTML object>",
      "text/html": "<span style=\"color:blue\"> |-conv_12_units: 32</span>"
     },
     "metadata": {}
    },
    {
     "output_type": "display_data",
     "data": {
      "text/plain": "<IPython.core.display.HTML object>",
      "text/html": "<span style=\"color:cyan\"> |-conv_13_units: 56</span>"
     },
     "metadata": {}
    },
    {
     "output_type": "display_data",
     "data": {
      "text/plain": "<IPython.core.display.HTML object>",
      "text/html": "<span style=\"color:blue\"> |-conv_14_units: 16</span>"
     },
     "metadata": {}
    },
    {
     "output_type": "display_data",
     "data": {
      "text/plain": "<IPython.core.display.HTML object>",
      "text/html": "<span style=\"color:cyan\"> |-conv_15_units: 16</span>"
     },
     "metadata": {}
    },
    {
     "output_type": "display_data",
     "data": {
      "text/plain": "<IPython.core.display.HTML object>",
      "text/html": "<span style=\"color:blue\"> |-conv_1_units: 32</span>"
     },
     "metadata": {}
    },
    {
     "output_type": "display_data",
     "data": {
      "text/plain": "<IPython.core.display.HTML object>",
      "text/html": "<span style=\"color:cyan\"> |-conv_2_units: 32</span>"
     },
     "metadata": {}
    },
    {
     "output_type": "display_data",
     "data": {
      "text/plain": "<IPython.core.display.HTML object>",
      "text/html": "<span style=\"color:blue\"> |-conv_3_units: 56</span>"
     },
     "metadata": {}
    },
    {
     "output_type": "display_data",
     "data": {
      "text/plain": "<IPython.core.display.HTML object>",
      "text/html": "<span style=\"color:cyan\"> |-conv_4_units: 24</span>"
     },
     "metadata": {}
    },
    {
     "output_type": "display_data",
     "data": {
      "text/plain": "<IPython.core.display.HTML object>",
      "text/html": "<span style=\"color:blue\"> |-conv_5_units: 16</span>"
     },
     "metadata": {}
    },
    {
     "output_type": "display_data",
     "data": {
      "text/plain": "<IPython.core.display.HTML object>",
      "text/html": "<span style=\"color:cyan\"> |-conv_6_units: 16</span>"
     },
     "metadata": {}
    },
    {
     "output_type": "display_data",
     "data": {
      "text/plain": "<IPython.core.display.HTML object>",
      "text/html": "<span style=\"color:blue\"> |-conv_7_units: 16</span>"
     },
     "metadata": {}
    },
    {
     "output_type": "display_data",
     "data": {
      "text/plain": "<IPython.core.display.HTML object>",
      "text/html": "<span style=\"color:cyan\"> |-conv_8_units: 56</span>"
     },
     "metadata": {}
    },
    {
     "output_type": "display_data",
     "data": {
      "text/plain": "<IPython.core.display.HTML object>",
      "text/html": "<span style=\"color:blue\"> |-conv_9_units: 16</span>"
     },
     "metadata": {}
    },
    {
     "output_type": "display_data",
     "data": {
      "text/plain": "<IPython.core.display.HTML object>",
      "text/html": "<span style=\"color:cyan\"> |-dense_activation: relu</span>"
     },
     "metadata": {}
    },
    {
     "output_type": "display_data",
     "data": {
      "text/plain": "<IPython.core.display.HTML object>",
      "text/html": "<span style=\"color:blue\"> |-n_layers: 6</span>"
     },
     "metadata": {}
    },
    {
     "output_type": "stream",
     "name": "stdout",
     "text": "INFO:tensorflow:Oracle triggered exit\n"
    }
   ],
   "source": [
    "tuner.search(train_features_Standard, train_labels_Standard,\n",
    "             epochs=1000,\n",
    "             validation_data=(validation_features_Standard, validation_labels_Standard),\n",
    "             verbose=0)"
   ]
  },
  {
   "cell_type": "code",
   "execution_count": 163,
   "metadata": {},
   "outputs": [
    {
     "output_type": "display_data",
     "data": {
      "text/plain": "<IPython.core.display.HTML object>",
      "text/html": "<span style=\"color:#4527A0\"><h1 style=\"font-size:18px\">Results summary</h1></span>"
     },
     "metadata": {}
    },
    {
     "output_type": "display_data",
     "data": {
      "text/plain": "<IPython.core.display.HTML object>",
      "text/html": "<span style=\"color:cyan\"> |-Results in C:\\Users\\MacalusoC\\Desktop\\1598901935\\Cutting Params Optimization</span>"
     },
     "metadata": {}
    },
    {
     "output_type": "display_data",
     "data": {
      "text/plain": "<IPython.core.display.HTML object>",
      "text/html": "<span style=\"color:cyan\"> |-Showing 10 best trials</span>"
     },
     "metadata": {}
    },
    {
     "output_type": "display_data",
     "data": {
      "text/plain": "<IPython.core.display.HTML object>",
      "text/html": "<span style=\"color:cyan\"> |-Objective(name='val_accuracy', direction='max')</span>"
     },
     "metadata": {}
    },
    {
     "output_type": "display_data",
     "data": {
      "text/plain": "<IPython.core.display.HTML object>",
      "text/html": "<span style=\"color:#4527A0\"><h1 style=\"font-size:18px\">Trial summary</h1></span>"
     },
     "metadata": {}
    },
    {
     "output_type": "display_data",
     "data": {
      "text/plain": "<IPython.core.display.HTML object>",
      "text/html": "<span style=\"color:cyan\"> |-Trial ID: 5075f0add8384adf62162c239cf42751</span>"
     },
     "metadata": {}
    },
    {
     "output_type": "display_data",
     "data": {
      "text/plain": "<IPython.core.display.HTML object>",
      "text/html": "<span style=\"color:cyan\"> |-Score: 0.75</span>"
     },
     "metadata": {}
    },
    {
     "output_type": "display_data",
     "data": {
      "text/plain": "<IPython.core.display.HTML object>",
      "text/html": "<span style=\"color:cyan\"> |-Best step: 0</span>"
     },
     "metadata": {}
    },
    {
     "output_type": "display_data",
     "data": {
      "text/plain": "<IPython.core.display.HTML object>",
      "text/html": "<span style=\"color:#7E57C2\"><h2 style=\"font-size:16px\">Hyperparameters:</h2></span>"
     },
     "metadata": {}
    },
    {
     "output_type": "display_data",
     "data": {
      "text/plain": "<IPython.core.display.HTML object>",
      "text/html": "<span style=\"color:cyan\"> |-conv_0_units: 56</span>"
     },
     "metadata": {}
    },
    {
     "output_type": "display_data",
     "data": {
      "text/plain": "<IPython.core.display.HTML object>",
      "text/html": "<span style=\"color:blue\"> |-conv_10_units: 40</span>"
     },
     "metadata": {}
    },
    {
     "output_type": "display_data",
     "data": {
      "text/plain": "<IPython.core.display.HTML object>",
      "text/html": "<span style=\"color:cyan\"> |-conv_11_units: 40</span>"
     },
     "metadata": {}
    },
    {
     "output_type": "display_data",
     "data": {
      "text/plain": "<IPython.core.display.HTML object>",
      "text/html": "<span style=\"color:blue\"> |-conv_12_units: 24</span>"
     },
     "metadata": {}
    },
    {
     "output_type": "display_data",
     "data": {
      "text/plain": "<IPython.core.display.HTML object>",
      "text/html": "<span style=\"color:cyan\"> |-conv_13_units: 32</span>"
     },
     "metadata": {}
    },
    {
     "output_type": "display_data",
     "data": {
      "text/plain": "<IPython.core.display.HTML object>",
      "text/html": "<span style=\"color:blue\"> |-conv_14_units: 48</span>"
     },
     "metadata": {}
    },
    {
     "output_type": "display_data",
     "data": {
      "text/plain": "<IPython.core.display.HTML object>",
      "text/html": "<span style=\"color:cyan\"> |-conv_15_units: 8</span>"
     },
     "metadata": {}
    },
    {
     "output_type": "display_data",
     "data": {
      "text/plain": "<IPython.core.display.HTML object>",
      "text/html": "<span style=\"color:blue\"> |-conv_1_units: 24</span>"
     },
     "metadata": {}
    },
    {
     "output_type": "display_data",
     "data": {
      "text/plain": "<IPython.core.display.HTML object>",
      "text/html": "<span style=\"color:cyan\"> |-conv_2_units: 16</span>"
     },
     "metadata": {}
    },
    {
     "output_type": "display_data",
     "data": {
      "text/plain": "<IPython.core.display.HTML object>",
      "text/html": "<span style=\"color:blue\"> |-conv_3_units: 56</span>"
     },
     "metadata": {}
    },
    {
     "output_type": "display_data",
     "data": {
      "text/plain": "<IPython.core.display.HTML object>",
      "text/html": "<span style=\"color:cyan\"> |-conv_4_units: 40</span>"
     },
     "metadata": {}
    },
    {
     "output_type": "display_data",
     "data": {
      "text/plain": "<IPython.core.display.HTML object>",
      "text/html": "<span style=\"color:blue\"> |-conv_5_units: 56</span>"
     },
     "metadata": {}
    },
    {
     "output_type": "display_data",
     "data": {
      "text/plain": "<IPython.core.display.HTML object>",
      "text/html": "<span style=\"color:cyan\"> |-conv_6_units: 56</span>"
     },
     "metadata": {}
    },
    {
     "output_type": "display_data",
     "data": {
      "text/plain": "<IPython.core.display.HTML object>",
      "text/html": "<span style=\"color:blue\"> |-conv_7_units: 40</span>"
     },
     "metadata": {}
    },
    {
     "output_type": "display_data",
     "data": {
      "text/plain": "<IPython.core.display.HTML object>",
      "text/html": "<span style=\"color:cyan\"> |-conv_8_units: 24</span>"
     },
     "metadata": {}
    },
    {
     "output_type": "display_data",
     "data": {
      "text/plain": "<IPython.core.display.HTML object>",
      "text/html": "<span style=\"color:blue\"> |-conv_9_units: 24</span>"
     },
     "metadata": {}
    },
    {
     "output_type": "display_data",
     "data": {
      "text/plain": "<IPython.core.display.HTML object>",
      "text/html": "<span style=\"color:cyan\"> |-dense_activation: relu</span>"
     },
     "metadata": {}
    },
    {
     "output_type": "display_data",
     "data": {
      "text/plain": "<IPython.core.display.HTML object>",
      "text/html": "<span style=\"color:blue\"> |-n_layers: 12</span>"
     },
     "metadata": {}
    },
    {
     "output_type": "display_data",
     "data": {
      "text/plain": "<IPython.core.display.HTML object>",
      "text/html": "<span style=\"color:#4527A0\"><h1 style=\"font-size:18px\">Trial summary</h1></span>"
     },
     "metadata": {}
    },
    {
     "output_type": "display_data",
     "data": {
      "text/plain": "<IPython.core.display.HTML object>",
      "text/html": "<span style=\"color:cyan\"> |-Trial ID: 3a14aa8cd309f984e8b3118aef9e2ad0</span>"
     },
     "metadata": {}
    },
    {
     "output_type": "display_data",
     "data": {
      "text/plain": "<IPython.core.display.HTML object>",
      "text/html": "<span style=\"color:cyan\"> |-Score: 0.5</span>"
     },
     "metadata": {}
    },
    {
     "output_type": "display_data",
     "data": {
      "text/plain": "<IPython.core.display.HTML object>",
      "text/html": "<span style=\"color:cyan\"> |-Best step: 0</span>"
     },
     "metadata": {}
    },
    {
     "output_type": "display_data",
     "data": {
      "text/plain": "<IPython.core.display.HTML object>",
      "text/html": "<span style=\"color:#7E57C2\"><h2 style=\"font-size:16px\">Hyperparameters:</h2></span>"
     },
     "metadata": {}
    },
    {
     "output_type": "display_data",
     "data": {
      "text/plain": "<IPython.core.display.HTML object>",
      "text/html": "<span style=\"color:cyan\"> |-conv_0_units: 8</span>"
     },
     "metadata": {}
    },
    {
     "output_type": "display_data",
     "data": {
      "text/plain": "<IPython.core.display.HTML object>",
      "text/html": "<span style=\"color:blue\"> |-conv_10_units: 48</span>"
     },
     "metadata": {}
    },
    {
     "output_type": "display_data",
     "data": {
      "text/plain": "<IPython.core.display.HTML object>",
      "text/html": "<span style=\"color:cyan\"> |-conv_11_units: 16</span>"
     },
     "metadata": {}
    },
    {
     "output_type": "display_data",
     "data": {
      "text/plain": "<IPython.core.display.HTML object>",
      "text/html": "<span style=\"color:blue\"> |-conv_12_units: 48</span>"
     },
     "metadata": {}
    },
    {
     "output_type": "display_data",
     "data": {
      "text/plain": "<IPython.core.display.HTML object>",
      "text/html": "<span style=\"color:cyan\"> |-conv_13_units: 16</span>"
     },
     "metadata": {}
    },
    {
     "output_type": "display_data",
     "data": {
      "text/plain": "<IPython.core.display.HTML object>",
      "text/html": "<span style=\"color:blue\"> |-conv_14_units: 32</span>"
     },
     "metadata": {}
    },
    {
     "output_type": "display_data",
     "data": {
      "text/plain": "<IPython.core.display.HTML object>",
      "text/html": "<span style=\"color:cyan\"> |-conv_15_units: 24</span>"
     },
     "metadata": {}
    },
    {
     "output_type": "display_data",
     "data": {
      "text/plain": "<IPython.core.display.HTML object>",
      "text/html": "<span style=\"color:blue\"> |-conv_1_units: 24</span>"
     },
     "metadata": {}
    },
    {
     "output_type": "display_data",
     "data": {
      "text/plain": "<IPython.core.display.HTML object>",
      "text/html": "<span style=\"color:cyan\"> |-conv_2_units: 40</span>"
     },
     "metadata": {}
    },
    {
     "output_type": "display_data",
     "data": {
      "text/plain": "<IPython.core.display.HTML object>",
      "text/html": "<span style=\"color:blue\"> |-conv_3_units: 40</span>"
     },
     "metadata": {}
    },
    {
     "output_type": "display_data",
     "data": {
      "text/plain": "<IPython.core.display.HTML object>",
      "text/html": "<span style=\"color:cyan\"> |-conv_4_units: 56</span>"
     },
     "metadata": {}
    },
    {
     "output_type": "display_data",
     "data": {
      "text/plain": "<IPython.core.display.HTML object>",
      "text/html": "<span style=\"color:blue\"> |-conv_5_units: 24</span>"
     },
     "metadata": {}
    },
    {
     "output_type": "display_data",
     "data": {
      "text/plain": "<IPython.core.display.HTML object>",
      "text/html": "<span style=\"color:cyan\"> |-conv_6_units: 40</span>"
     },
     "metadata": {}
    },
    {
     "output_type": "display_data",
     "data": {
      "text/plain": "<IPython.core.display.HTML object>",
      "text/html": "<span style=\"color:blue\"> |-conv_7_units: 16</span>"
     },
     "metadata": {}
    },
    {
     "output_type": "display_data",
     "data": {
      "text/plain": "<IPython.core.display.HTML object>",
      "text/html": "<span style=\"color:cyan\"> |-conv_8_units: 8</span>"
     },
     "metadata": {}
    },
    {
     "output_type": "display_data",
     "data": {
      "text/plain": "<IPython.core.display.HTML object>",
      "text/html": "<span style=\"color:blue\"> |-conv_9_units: 48</span>"
     },
     "metadata": {}
    },
    {
     "output_type": "display_data",
     "data": {
      "text/plain": "<IPython.core.display.HTML object>",
      "text/html": "<span style=\"color:cyan\"> |-dense_activation: relu</span>"
     },
     "metadata": {}
    },
    {
     "output_type": "display_data",
     "data": {
      "text/plain": "<IPython.core.display.HTML object>",
      "text/html": "<span style=\"color:blue\"> |-n_layers: 5</span>"
     },
     "metadata": {}
    },
    {
     "output_type": "display_data",
     "data": {
      "text/plain": "<IPython.core.display.HTML object>",
      "text/html": "<span style=\"color:#4527A0\"><h1 style=\"font-size:18px\">Trial summary</h1></span>"
     },
     "metadata": {}
    },
    {
     "output_type": "display_data",
     "data": {
      "text/plain": "<IPython.core.display.HTML object>",
      "text/html": "<span style=\"color:cyan\"> |-Trial ID: 4ffb7987a502b4f249519e837ee2ff72</span>"
     },
     "metadata": {}
    },
    {
     "output_type": "display_data",
     "data": {
      "text/plain": "<IPython.core.display.HTML object>",
      "text/html": "<span style=\"color:cyan\"> |-Score: 0.5</span>"
     },
     "metadata": {}
    },
    {
     "output_type": "display_data",
     "data": {
      "text/plain": "<IPython.core.display.HTML object>",
      "text/html": "<span style=\"color:cyan\"> |-Best step: 0</span>"
     },
     "metadata": {}
    },
    {
     "output_type": "display_data",
     "data": {
      "text/plain": "<IPython.core.display.HTML object>",
      "text/html": "<span style=\"color:#7E57C2\"><h2 style=\"font-size:16px\">Hyperparameters:</h2></span>"
     },
     "metadata": {}
    },
    {
     "output_type": "display_data",
     "data": {
      "text/plain": "<IPython.core.display.HTML object>",
      "text/html": "<span style=\"color:cyan\"> |-conv_0_units: 24</span>"
     },
     "metadata": {}
    },
    {
     "output_type": "display_data",
     "data": {
      "text/plain": "<IPython.core.display.HTML object>",
      "text/html": "<span style=\"color:blue\"> |-conv_10_units: 56</span>"
     },
     "metadata": {}
    },
    {
     "output_type": "display_data",
     "data": {
      "text/plain": "<IPython.core.display.HTML object>",
      "text/html": "<span style=\"color:cyan\"> |-conv_11_units: 16</span>"
     },
     "metadata": {}
    },
    {
     "output_type": "display_data",
     "data": {
      "text/plain": "<IPython.core.display.HTML object>",
      "text/html": "<span style=\"color:blue\"> |-conv_12_units: 32</span>"
     },
     "metadata": {}
    },
    {
     "output_type": "display_data",
     "data": {
      "text/plain": "<IPython.core.display.HTML object>",
      "text/html": "<span style=\"color:cyan\"> |-conv_13_units: 16</span>"
     },
     "metadata": {}
    },
    {
     "output_type": "display_data",
     "data": {
      "text/plain": "<IPython.core.display.HTML object>",
      "text/html": "<span style=\"color:blue\"> |-conv_14_units: 24</span>"
     },
     "metadata": {}
    },
    {
     "output_type": "display_data",
     "data": {
      "text/plain": "<IPython.core.display.HTML object>",
      "text/html": "<span style=\"color:cyan\"> |-conv_15_units: 64</span>"
     },
     "metadata": {}
    },
    {
     "output_type": "display_data",
     "data": {
      "text/plain": "<IPython.core.display.HTML object>",
      "text/html": "<span style=\"color:blue\"> |-conv_1_units: 8</span>"
     },
     "metadata": {}
    },
    {
     "output_type": "display_data",
     "data": {
      "text/plain": "<IPython.core.display.HTML object>",
      "text/html": "<span style=\"color:cyan\"> |-conv_2_units: 40</span>"
     },
     "metadata": {}
    },
    {
     "output_type": "display_data",
     "data": {
      "text/plain": "<IPython.core.display.HTML object>",
      "text/html": "<span style=\"color:blue\"> |-conv_3_units: 16</span>"
     },
     "metadata": {}
    },
    {
     "output_type": "display_data",
     "data": {
      "text/plain": "<IPython.core.display.HTML object>",
      "text/html": "<span style=\"color:cyan\"> |-conv_4_units: 48</span>"
     },
     "metadata": {}
    },
    {
     "output_type": "display_data",
     "data": {
      "text/plain": "<IPython.core.display.HTML object>",
      "text/html": "<span style=\"color:blue\"> |-conv_5_units: 8</span>"
     },
     "metadata": {}
    },
    {
     "output_type": "display_data",
     "data": {
      "text/plain": "<IPython.core.display.HTML object>",
      "text/html": "<span style=\"color:cyan\"> |-conv_6_units: 40</span>"
     },
     "metadata": {}
    },
    {
     "output_type": "display_data",
     "data": {
      "text/plain": "<IPython.core.display.HTML object>",
      "text/html": "<span style=\"color:blue\"> |-conv_7_units: 32</span>"
     },
     "metadata": {}
    },
    {
     "output_type": "display_data",
     "data": {
      "text/plain": "<IPython.core.display.HTML object>",
      "text/html": "<span style=\"color:cyan\"> |-conv_8_units: 40</span>"
     },
     "metadata": {}
    },
    {
     "output_type": "display_data",
     "data": {
      "text/plain": "<IPython.core.display.HTML object>",
      "text/html": "<span style=\"color:blue\"> |-conv_9_units: 48</span>"
     },
     "metadata": {}
    },
    {
     "output_type": "display_data",
     "data": {
      "text/plain": "<IPython.core.display.HTML object>",
      "text/html": "<span style=\"color:cyan\"> |-dense_activation: relu</span>"
     },
     "metadata": {}
    },
    {
     "output_type": "display_data",
     "data": {
      "text/plain": "<IPython.core.display.HTML object>",
      "text/html": "<span style=\"color:blue\"> |-n_layers: 6</span>"
     },
     "metadata": {}
    },
    {
     "output_type": "display_data",
     "data": {
      "text/plain": "<IPython.core.display.HTML object>",
      "text/html": "<span style=\"color:#4527A0\"><h1 style=\"font-size:18px\">Trial summary</h1></span>"
     },
     "metadata": {}
    },
    {
     "output_type": "display_data",
     "data": {
      "text/plain": "<IPython.core.display.HTML object>",
      "text/html": "<span style=\"color:cyan\"> |-Trial ID: 8ae9a8cb5542321ee4bcb99aba1657b6</span>"
     },
     "metadata": {}
    },
    {
     "output_type": "display_data",
     "data": {
      "text/plain": "<IPython.core.display.HTML object>",
      "text/html": "<span style=\"color:cyan\"> |-Score: 0.5</span>"
     },
     "metadata": {}
    },
    {
     "output_type": "display_data",
     "data": {
      "text/plain": "<IPython.core.display.HTML object>",
      "text/html": "<span style=\"color:cyan\"> |-Best step: 0</span>"
     },
     "metadata": {}
    },
    {
     "output_type": "display_data",
     "data": {
      "text/plain": "<IPython.core.display.HTML object>",
      "text/html": "<span style=\"color:#7E57C2\"><h2 style=\"font-size:16px\">Hyperparameters:</h2></span>"
     },
     "metadata": {}
    },
    {
     "output_type": "display_data",
     "data": {
      "text/plain": "<IPython.core.display.HTML object>",
      "text/html": "<span style=\"color:cyan\"> |-conv_0_units: 40</span>"
     },
     "metadata": {}
    },
    {
     "output_type": "display_data",
     "data": {
      "text/plain": "<IPython.core.display.HTML object>",
      "text/html": "<span style=\"color:blue\"> |-conv_10_units: 32</span>"
     },
     "metadata": {}
    },
    {
     "output_type": "display_data",
     "data": {
      "text/plain": "<IPython.core.display.HTML object>",
      "text/html": "<span style=\"color:cyan\"> |-conv_11_units: 32</span>"
     },
     "metadata": {}
    },
    {
     "output_type": "display_data",
     "data": {
      "text/plain": "<IPython.core.display.HTML object>",
      "text/html": "<span style=\"color:blue\"> |-conv_12_units: 16</span>"
     },
     "metadata": {}
    },
    {
     "output_type": "display_data",
     "data": {
      "text/plain": "<IPython.core.display.HTML object>",
      "text/html": "<span style=\"color:cyan\"> |-conv_13_units: 56</span>"
     },
     "metadata": {}
    },
    {
     "output_type": "display_data",
     "data": {
      "text/plain": "<IPython.core.display.HTML object>",
      "text/html": "<span style=\"color:blue\"> |-conv_14_units: 16</span>"
     },
     "metadata": {}
    },
    {
     "output_type": "display_data",
     "data": {
      "text/plain": "<IPython.core.display.HTML object>",
      "text/html": "<span style=\"color:cyan\"> |-conv_15_units: 32</span>"
     },
     "metadata": {}
    },
    {
     "output_type": "display_data",
     "data": {
      "text/plain": "<IPython.core.display.HTML object>",
      "text/html": "<span style=\"color:blue\"> |-conv_1_units: 16</span>"
     },
     "metadata": {}
    },
    {
     "output_type": "display_data",
     "data": {
      "text/plain": "<IPython.core.display.HTML object>",
      "text/html": "<span style=\"color:cyan\"> |-conv_2_units: 56</span>"
     },
     "metadata": {}
    },
    {
     "output_type": "display_data",
     "data": {
      "text/plain": "<IPython.core.display.HTML object>",
      "text/html": "<span style=\"color:blue\"> |-conv_3_units: 40</span>"
     },
     "metadata": {}
    },
    {
     "output_type": "display_data",
     "data": {
      "text/plain": "<IPython.core.display.HTML object>",
      "text/html": "<span style=\"color:cyan\"> |-conv_4_units: 48</span>"
     },
     "metadata": {}
    },
    {
     "output_type": "display_data",
     "data": {
      "text/plain": "<IPython.core.display.HTML object>",
      "text/html": "<span style=\"color:blue\"> |-conv_5_units: 8</span>"
     },
     "metadata": {}
    },
    {
     "output_type": "display_data",
     "data": {
      "text/plain": "<IPython.core.display.HTML object>",
      "text/html": "<span style=\"color:cyan\"> |-conv_6_units: 32</span>"
     },
     "metadata": {}
    },
    {
     "output_type": "display_data",
     "data": {
      "text/plain": "<IPython.core.display.HTML object>",
      "text/html": "<span style=\"color:blue\"> |-conv_7_units: 40</span>"
     },
     "metadata": {}
    },
    {
     "output_type": "display_data",
     "data": {
      "text/plain": "<IPython.core.display.HTML object>",
      "text/html": "<span style=\"color:cyan\"> |-conv_8_units: 8</span>"
     },
     "metadata": {}
    },
    {
     "output_type": "display_data",
     "data": {
      "text/plain": "<IPython.core.display.HTML object>",
      "text/html": "<span style=\"color:blue\"> |-conv_9_units: 32</span>"
     },
     "metadata": {}
    },
    {
     "output_type": "display_data",
     "data": {
      "text/plain": "<IPython.core.display.HTML object>",
      "text/html": "<span style=\"color:cyan\"> |-dense_activation: relu</span>"
     },
     "metadata": {}
    },
    {
     "output_type": "display_data",
     "data": {
      "text/plain": "<IPython.core.display.HTML object>",
      "text/html": "<span style=\"color:blue\"> |-n_layers: 16</span>"
     },
     "metadata": {}
    },
    {
     "output_type": "display_data",
     "data": {
      "text/plain": "<IPython.core.display.HTML object>",
      "text/html": "<span style=\"color:#4527A0\"><h1 style=\"font-size:18px\">Trial summary</h1></span>"
     },
     "metadata": {}
    },
    {
     "output_type": "display_data",
     "data": {
      "text/plain": "<IPython.core.display.HTML object>",
      "text/html": "<span style=\"color:cyan\"> |-Trial ID: ab1088d4a2a05cdaf4a3172ea832ff37</span>"
     },
     "metadata": {}
    },
    {
     "output_type": "display_data",
     "data": {
      "text/plain": "<IPython.core.display.HTML object>",
      "text/html": "<span style=\"color:cyan\"> |-Score: 0.5</span>"
     },
     "metadata": {}
    },
    {
     "output_type": "display_data",
     "data": {
      "text/plain": "<IPython.core.display.HTML object>",
      "text/html": "<span style=\"color:cyan\"> |-Best step: 0</span>"
     },
     "metadata": {}
    },
    {
     "output_type": "display_data",
     "data": {
      "text/plain": "<IPython.core.display.HTML object>",
      "text/html": "<span style=\"color:#7E57C2\"><h2 style=\"font-size:16px\">Hyperparameters:</h2></span>"
     },
     "metadata": {}
    },
    {
     "output_type": "display_data",
     "data": {
      "text/plain": "<IPython.core.display.HTML object>",
      "text/html": "<span style=\"color:cyan\"> |-conv_0_units: 40</span>"
     },
     "metadata": {}
    },
    {
     "output_type": "display_data",
     "data": {
      "text/plain": "<IPython.core.display.HTML object>",
      "text/html": "<span style=\"color:blue\"> |-conv_10_units: 32</span>"
     },
     "metadata": {}
    },
    {
     "output_type": "display_data",
     "data": {
      "text/plain": "<IPython.core.display.HTML object>",
      "text/html": "<span style=\"color:cyan\"> |-conv_11_units: 16</span>"
     },
     "metadata": {}
    },
    {
     "output_type": "display_data",
     "data": {
      "text/plain": "<IPython.core.display.HTML object>",
      "text/html": "<span style=\"color:blue\"> |-conv_12_units: 24</span>"
     },
     "metadata": {}
    },
    {
     "output_type": "display_data",
     "data": {
      "text/plain": "<IPython.core.display.HTML object>",
      "text/html": "<span style=\"color:cyan\"> |-conv_13_units: 48</span>"
     },
     "metadata": {}
    },
    {
     "output_type": "display_data",
     "data": {
      "text/plain": "<IPython.core.display.HTML object>",
      "text/html": "<span style=\"color:blue\"> |-conv_14_units: 48</span>"
     },
     "metadata": {}
    },
    {
     "output_type": "display_data",
     "data": {
      "text/plain": "<IPython.core.display.HTML object>",
      "text/html": "<span style=\"color:cyan\"> |-conv_15_units: 40</span>"
     },
     "metadata": {}
    },
    {
     "output_type": "display_data",
     "data": {
      "text/plain": "<IPython.core.display.HTML object>",
      "text/html": "<span style=\"color:blue\"> |-conv_1_units: 56</span>"
     },
     "metadata": {}
    },
    {
     "output_type": "display_data",
     "data": {
      "text/plain": "<IPython.core.display.HTML object>",
      "text/html": "<span style=\"color:cyan\"> |-conv_2_units: 24</span>"
     },
     "metadata": {}
    },
    {
     "output_type": "display_data",
     "data": {
      "text/plain": "<IPython.core.display.HTML object>",
      "text/html": "<span style=\"color:blue\"> |-conv_3_units: 8</span>"
     },
     "metadata": {}
    },
    {
     "output_type": "display_data",
     "data": {
      "text/plain": "<IPython.core.display.HTML object>",
      "text/html": "<span style=\"color:cyan\"> |-conv_4_units: 40</span>"
     },
     "metadata": {}
    },
    {
     "output_type": "display_data",
     "data": {
      "text/plain": "<IPython.core.display.HTML object>",
      "text/html": "<span style=\"color:blue\"> |-conv_5_units: 56</span>"
     },
     "metadata": {}
    },
    {
     "output_type": "display_data",
     "data": {
      "text/plain": "<IPython.core.display.HTML object>",
      "text/html": "<span style=\"color:cyan\"> |-conv_6_units: 64</span>"
     },
     "metadata": {}
    },
    {
     "output_type": "display_data",
     "data": {
      "text/plain": "<IPython.core.display.HTML object>",
      "text/html": "<span style=\"color:blue\"> |-conv_7_units: 8</span>"
     },
     "metadata": {}
    },
    {
     "output_type": "display_data",
     "data": {
      "text/plain": "<IPython.core.display.HTML object>",
      "text/html": "<span style=\"color:cyan\"> |-conv_8_units: 64</span>"
     },
     "metadata": {}
    },
    {
     "output_type": "display_data",
     "data": {
      "text/plain": "<IPython.core.display.HTML object>",
      "text/html": "<span style=\"color:blue\"> |-conv_9_units: 16</span>"
     },
     "metadata": {}
    },
    {
     "output_type": "display_data",
     "data": {
      "text/plain": "<IPython.core.display.HTML object>",
      "text/html": "<span style=\"color:cyan\"> |-dense_activation: relu</span>"
     },
     "metadata": {}
    },
    {
     "output_type": "display_data",
     "data": {
      "text/plain": "<IPython.core.display.HTML object>",
      "text/html": "<span style=\"color:blue\"> |-n_layers: 10</span>"
     },
     "metadata": {}
    },
    {
     "output_type": "display_data",
     "data": {
      "text/plain": "<IPython.core.display.HTML object>",
      "text/html": "<span style=\"color:#4527A0\"><h1 style=\"font-size:18px\">Trial summary</h1></span>"
     },
     "metadata": {}
    },
    {
     "output_type": "display_data",
     "data": {
      "text/plain": "<IPython.core.display.HTML object>",
      "text/html": "<span style=\"color:cyan\"> |-Trial ID: e0196f6b8a1b89bd0124406c3b310694</span>"
     },
     "metadata": {}
    },
    {
     "output_type": "display_data",
     "data": {
      "text/plain": "<IPython.core.display.HTML object>",
      "text/html": "<span style=\"color:cyan\"> |-Score: 0.5</span>"
     },
     "metadata": {}
    },
    {
     "output_type": "display_data",
     "data": {
      "text/plain": "<IPython.core.display.HTML object>",
      "text/html": "<span style=\"color:cyan\"> |-Best step: 0</span>"
     },
     "metadata": {}
    },
    {
     "output_type": "display_data",
     "data": {
      "text/plain": "<IPython.core.display.HTML object>",
      "text/html": "<span style=\"color:#7E57C2\"><h2 style=\"font-size:16px\">Hyperparameters:</h2></span>"
     },
     "metadata": {}
    },
    {
     "output_type": "display_data",
     "data": {
      "text/plain": "<IPython.core.display.HTML object>",
      "text/html": "<span style=\"color:cyan\"> |-conv_0_units: 48</span>"
     },
     "metadata": {}
    },
    {
     "output_type": "display_data",
     "data": {
      "text/plain": "<IPython.core.display.HTML object>",
      "text/html": "<span style=\"color:blue\"> |-conv_10_units: 48</span>"
     },
     "metadata": {}
    },
    {
     "output_type": "display_data",
     "data": {
      "text/plain": "<IPython.core.display.HTML object>",
      "text/html": "<span style=\"color:cyan\"> |-conv_11_units: 56</span>"
     },
     "metadata": {}
    },
    {
     "output_type": "display_data",
     "data": {
      "text/plain": "<IPython.core.display.HTML object>",
      "text/html": "<span style=\"color:blue\"> |-conv_12_units: 64</span>"
     },
     "metadata": {}
    },
    {
     "output_type": "display_data",
     "data": {
      "text/plain": "<IPython.core.display.HTML object>",
      "text/html": "<span style=\"color:cyan\"> |-conv_13_units: 56</span>"
     },
     "metadata": {}
    },
    {
     "output_type": "display_data",
     "data": {
      "text/plain": "<IPython.core.display.HTML object>",
      "text/html": "<span style=\"color:blue\"> |-conv_14_units: 32</span>"
     },
     "metadata": {}
    },
    {
     "output_type": "display_data",
     "data": {
      "text/plain": "<IPython.core.display.HTML object>",
      "text/html": "<span style=\"color:cyan\"> |-conv_15_units: 56</span>"
     },
     "metadata": {}
    },
    {
     "output_type": "display_data",
     "data": {
      "text/plain": "<IPython.core.display.HTML object>",
      "text/html": "<span style=\"color:blue\"> |-conv_1_units: 40</span>"
     },
     "metadata": {}
    },
    {
     "output_type": "display_data",
     "data": {
      "text/plain": "<IPython.core.display.HTML object>",
      "text/html": "<span style=\"color:cyan\"> |-conv_2_units: 48</span>"
     },
     "metadata": {}
    },
    {
     "output_type": "display_data",
     "data": {
      "text/plain": "<IPython.core.display.HTML object>",
      "text/html": "<span style=\"color:blue\"> |-conv_3_units: 8</span>"
     },
     "metadata": {}
    },
    {
     "output_type": "display_data",
     "data": {
      "text/plain": "<IPython.core.display.HTML object>",
      "text/html": "<span style=\"color:cyan\"> |-conv_4_units: 32</span>"
     },
     "metadata": {}
    },
    {
     "output_type": "display_data",
     "data": {
      "text/plain": "<IPython.core.display.HTML object>",
      "text/html": "<span style=\"color:blue\"> |-conv_5_units: 16</span>"
     },
     "metadata": {}
    },
    {
     "output_type": "display_data",
     "data": {
      "text/plain": "<IPython.core.display.HTML object>",
      "text/html": "<span style=\"color:cyan\"> |-conv_6_units: 48</span>"
     },
     "metadata": {}
    },
    {
     "output_type": "display_data",
     "data": {
      "text/plain": "<IPython.core.display.HTML object>",
      "text/html": "<span style=\"color:blue\"> |-conv_7_units: 40</span>"
     },
     "metadata": {}
    },
    {
     "output_type": "display_data",
     "data": {
      "text/plain": "<IPython.core.display.HTML object>",
      "text/html": "<span style=\"color:cyan\"> |-conv_8_units: 40</span>"
     },
     "metadata": {}
    },
    {
     "output_type": "display_data",
     "data": {
      "text/plain": "<IPython.core.display.HTML object>",
      "text/html": "<span style=\"color:blue\"> |-conv_9_units: 56</span>"
     },
     "metadata": {}
    },
    {
     "output_type": "display_data",
     "data": {
      "text/plain": "<IPython.core.display.HTML object>",
      "text/html": "<span style=\"color:cyan\"> |-dense_activation: relu</span>"
     },
     "metadata": {}
    },
    {
     "output_type": "display_data",
     "data": {
      "text/plain": "<IPython.core.display.HTML object>",
      "text/html": "<span style=\"color:blue\"> |-n_layers: 13</span>"
     },
     "metadata": {}
    },
    {
     "output_type": "display_data",
     "data": {
      "text/plain": "<IPython.core.display.HTML object>",
      "text/html": "<span style=\"color:#4527A0\"><h1 style=\"font-size:18px\">Trial summary</h1></span>"
     },
     "metadata": {}
    },
    {
     "output_type": "display_data",
     "data": {
      "text/plain": "<IPython.core.display.HTML object>",
      "text/html": "<span style=\"color:cyan\"> |-Trial ID: c067ff2561c7e47ec4fa965838970345</span>"
     },
     "metadata": {}
    },
    {
     "output_type": "display_data",
     "data": {
      "text/plain": "<IPython.core.display.HTML object>",
      "text/html": "<span style=\"color:cyan\"> |-Score: 0.5</span>"
     },
     "metadata": {}
    },
    {
     "output_type": "display_data",
     "data": {
      "text/plain": "<IPython.core.display.HTML object>",
      "text/html": "<span style=\"color:cyan\"> |-Best step: 0</span>"
     },
     "metadata": {}
    },
    {
     "output_type": "display_data",
     "data": {
      "text/plain": "<IPython.core.display.HTML object>",
      "text/html": "<span style=\"color:#7E57C2\"><h2 style=\"font-size:16px\">Hyperparameters:</h2></span>"
     },
     "metadata": {}
    },
    {
     "output_type": "display_data",
     "data": {
      "text/plain": "<IPython.core.display.HTML object>",
      "text/html": "<span style=\"color:cyan\"> |-conv_0_units: 16</span>"
     },
     "metadata": {}
    },
    {
     "output_type": "display_data",
     "data": {
      "text/plain": "<IPython.core.display.HTML object>",
      "text/html": "<span style=\"color:blue\"> |-conv_10_units: 8</span>"
     },
     "metadata": {}
    },
    {
     "output_type": "display_data",
     "data": {
      "text/plain": "<IPython.core.display.HTML object>",
      "text/html": "<span style=\"color:cyan\"> |-conv_11_units: 56</span>"
     },
     "metadata": {}
    },
    {
     "output_type": "display_data",
     "data": {
      "text/plain": "<IPython.core.display.HTML object>",
      "text/html": "<span style=\"color:blue\"> |-conv_12_units: 48</span>"
     },
     "metadata": {}
    },
    {
     "output_type": "display_data",
     "data": {
      "text/plain": "<IPython.core.display.HTML object>",
      "text/html": "<span style=\"color:cyan\"> |-conv_13_units: 32</span>"
     },
     "metadata": {}
    },
    {
     "output_type": "display_data",
     "data": {
      "text/plain": "<IPython.core.display.HTML object>",
      "text/html": "<span style=\"color:blue\"> |-conv_14_units: 56</span>"
     },
     "metadata": {}
    },
    {
     "output_type": "display_data",
     "data": {
      "text/plain": "<IPython.core.display.HTML object>",
      "text/html": "<span style=\"color:cyan\"> |-conv_15_units: 56</span>"
     },
     "metadata": {}
    },
    {
     "output_type": "display_data",
     "data": {
      "text/plain": "<IPython.core.display.HTML object>",
      "text/html": "<span style=\"color:blue\"> |-conv_1_units: 16</span>"
     },
     "metadata": {}
    },
    {
     "output_type": "display_data",
     "data": {
      "text/plain": "<IPython.core.display.HTML object>",
      "text/html": "<span style=\"color:cyan\"> |-conv_2_units: 40</span>"
     },
     "metadata": {}
    },
    {
     "output_type": "display_data",
     "data": {
      "text/plain": "<IPython.core.display.HTML object>",
      "text/html": "<span style=\"color:blue\"> |-conv_3_units: 32</span>"
     },
     "metadata": {}
    },
    {
     "output_type": "display_data",
     "data": {
      "text/plain": "<IPython.core.display.HTML object>",
      "text/html": "<span style=\"color:cyan\"> |-conv_4_units: 64</span>"
     },
     "metadata": {}
    },
    {
     "output_type": "display_data",
     "data": {
      "text/plain": "<IPython.core.display.HTML object>",
      "text/html": "<span style=\"color:blue\"> |-conv_5_units: 40</span>"
     },
     "metadata": {}
    },
    {
     "output_type": "display_data",
     "data": {
      "text/plain": "<IPython.core.display.HTML object>",
      "text/html": "<span style=\"color:cyan\"> |-conv_6_units: 16</span>"
     },
     "metadata": {}
    },
    {
     "output_type": "display_data",
     "data": {
      "text/plain": "<IPython.core.display.HTML object>",
      "text/html": "<span style=\"color:blue\"> |-conv_7_units: 40</span>"
     },
     "metadata": {}
    },
    {
     "output_type": "display_data",
     "data": {
      "text/plain": "<IPython.core.display.HTML object>",
      "text/html": "<span style=\"color:cyan\"> |-conv_8_units: 16</span>"
     },
     "metadata": {}
    },
    {
     "output_type": "display_data",
     "data": {
      "text/plain": "<IPython.core.display.HTML object>",
      "text/html": "<span style=\"color:blue\"> |-conv_9_units: 32</span>"
     },
     "metadata": {}
    },
    {
     "output_type": "display_data",
     "data": {
      "text/plain": "<IPython.core.display.HTML object>",
      "text/html": "<span style=\"color:cyan\"> |-dense_activation: relu</span>"
     },
     "metadata": {}
    },
    {
     "output_type": "display_data",
     "data": {
      "text/plain": "<IPython.core.display.HTML object>",
      "text/html": "<span style=\"color:blue\"> |-n_layers: 9</span>"
     },
     "metadata": {}
    },
    {
     "output_type": "display_data",
     "data": {
      "text/plain": "<IPython.core.display.HTML object>",
      "text/html": "<span style=\"color:#4527A0\"><h1 style=\"font-size:18px\">Trial summary</h1></span>"
     },
     "metadata": {}
    },
    {
     "output_type": "display_data",
     "data": {
      "text/plain": "<IPython.core.display.HTML object>",
      "text/html": "<span style=\"color:cyan\"> |-Trial ID: af46e714ebc2d80daef31bb434b73157</span>"
     },
     "metadata": {}
    },
    {
     "output_type": "display_data",
     "data": {
      "text/plain": "<IPython.core.display.HTML object>",
      "text/html": "<span style=\"color:cyan\"> |-Score: 0.5</span>"
     },
     "metadata": {}
    },
    {
     "output_type": "display_data",
     "data": {
      "text/plain": "<IPython.core.display.HTML object>",
      "text/html": "<span style=\"color:cyan\"> |-Best step: 0</span>"
     },
     "metadata": {}
    },
    {
     "output_type": "display_data",
     "data": {
      "text/plain": "<IPython.core.display.HTML object>",
      "text/html": "<span style=\"color:#7E57C2\"><h2 style=\"font-size:16px\">Hyperparameters:</h2></span>"
     },
     "metadata": {}
    },
    {
     "output_type": "display_data",
     "data": {
      "text/plain": "<IPython.core.display.HTML object>",
      "text/html": "<span style=\"color:cyan\"> |-conv_0_units: 16</span>"
     },
     "metadata": {}
    },
    {
     "output_type": "display_data",
     "data": {
      "text/plain": "<IPython.core.display.HTML object>",
      "text/html": "<span style=\"color:blue\"> |-conv_10_units: 16</span>"
     },
     "metadata": {}
    },
    {
     "output_type": "display_data",
     "data": {
      "text/plain": "<IPython.core.display.HTML object>",
      "text/html": "<span style=\"color:cyan\"> |-conv_11_units: 24</span>"
     },
     "metadata": {}
    },
    {
     "output_type": "display_data",
     "data": {
      "text/plain": "<IPython.core.display.HTML object>",
      "text/html": "<span style=\"color:blue\"> |-conv_12_units: 8</span>"
     },
     "metadata": {}
    },
    {
     "output_type": "display_data",
     "data": {
      "text/plain": "<IPython.core.display.HTML object>",
      "text/html": "<span style=\"color:cyan\"> |-conv_13_units: 48</span>"
     },
     "metadata": {}
    },
    {
     "output_type": "display_data",
     "data": {
      "text/plain": "<IPython.core.display.HTML object>",
      "text/html": "<span style=\"color:blue\"> |-conv_14_units: 48</span>"
     },
     "metadata": {}
    },
    {
     "output_type": "display_data",
     "data": {
      "text/plain": "<IPython.core.display.HTML object>",
      "text/html": "<span style=\"color:cyan\"> |-conv_15_units: 16</span>"
     },
     "metadata": {}
    },
    {
     "output_type": "display_data",
     "data": {
      "text/plain": "<IPython.core.display.HTML object>",
      "text/html": "<span style=\"color:blue\"> |-conv_1_units: 48</span>"
     },
     "metadata": {}
    },
    {
     "output_type": "display_data",
     "data": {
      "text/plain": "<IPython.core.display.HTML object>",
      "text/html": "<span style=\"color:cyan\"> |-conv_2_units: 32</span>"
     },
     "metadata": {}
    },
    {
     "output_type": "display_data",
     "data": {
      "text/plain": "<IPython.core.display.HTML object>",
      "text/html": "<span style=\"color:blue\"> |-conv_3_units: 16</span>"
     },
     "metadata": {}
    },
    {
     "output_type": "display_data",
     "data": {
      "text/plain": "<IPython.core.display.HTML object>",
      "text/html": "<span style=\"color:cyan\"> |-conv_4_units: 56</span>"
     },
     "metadata": {}
    },
    {
     "output_type": "display_data",
     "data": {
      "text/plain": "<IPython.core.display.HTML object>",
      "text/html": "<span style=\"color:blue\"> |-conv_5_units: 24</span>"
     },
     "metadata": {}
    },
    {
     "output_type": "display_data",
     "data": {
      "text/plain": "<IPython.core.display.HTML object>",
      "text/html": "<span style=\"color:cyan\"> |-conv_6_units: 48</span>"
     },
     "metadata": {}
    },
    {
     "output_type": "display_data",
     "data": {
      "text/plain": "<IPython.core.display.HTML object>",
      "text/html": "<span style=\"color:blue\"> |-conv_7_units: 8</span>"
     },
     "metadata": {}
    },
    {
     "output_type": "display_data",
     "data": {
      "text/plain": "<IPython.core.display.HTML object>",
      "text/html": "<span style=\"color:cyan\"> |-conv_8_units: 64</span>"
     },
     "metadata": {}
    },
    {
     "output_type": "display_data",
     "data": {
      "text/plain": "<IPython.core.display.HTML object>",
      "text/html": "<span style=\"color:blue\"> |-conv_9_units: 8</span>"
     },
     "metadata": {}
    },
    {
     "output_type": "display_data",
     "data": {
      "text/plain": "<IPython.core.display.HTML object>",
      "text/html": "<span style=\"color:cyan\"> |-dense_activation: relu</span>"
     },
     "metadata": {}
    },
    {
     "output_type": "display_data",
     "data": {
      "text/plain": "<IPython.core.display.HTML object>",
      "text/html": "<span style=\"color:blue\"> |-n_layers: 5</span>"
     },
     "metadata": {}
    },
    {
     "output_type": "display_data",
     "data": {
      "text/plain": "<IPython.core.display.HTML object>",
      "text/html": "<span style=\"color:#4527A0\"><h1 style=\"font-size:18px\">Trial summary</h1></span>"
     },
     "metadata": {}
    },
    {
     "output_type": "display_data",
     "data": {
      "text/plain": "<IPython.core.display.HTML object>",
      "text/html": "<span style=\"color:cyan\"> |-Trial ID: 1e5b3327dca5488eb78501181a565b8a</span>"
     },
     "metadata": {}
    },
    {
     "output_type": "display_data",
     "data": {
      "text/plain": "<IPython.core.display.HTML object>",
      "text/html": "<span style=\"color:cyan\"> |-Score: 0.5</span>"
     },
     "metadata": {}
    },
    {
     "output_type": "display_data",
     "data": {
      "text/plain": "<IPython.core.display.HTML object>",
      "text/html": "<span style=\"color:cyan\"> |-Best step: 0</span>"
     },
     "metadata": {}
    },
    {
     "output_type": "display_data",
     "data": {
      "text/plain": "<IPython.core.display.HTML object>",
      "text/html": "<span style=\"color:#7E57C2\"><h2 style=\"font-size:16px\">Hyperparameters:</h2></span>"
     },
     "metadata": {}
    },
    {
     "output_type": "display_data",
     "data": {
      "text/plain": "<IPython.core.display.HTML object>",
      "text/html": "<span style=\"color:cyan\"> |-conv_0_units: 24</span>"
     },
     "metadata": {}
    },
    {
     "output_type": "display_data",
     "data": {
      "text/plain": "<IPython.core.display.HTML object>",
      "text/html": "<span style=\"color:blue\"> |-conv_10_units: 40</span>"
     },
     "metadata": {}
    },
    {
     "output_type": "display_data",
     "data": {
      "text/plain": "<IPython.core.display.HTML object>",
      "text/html": "<span style=\"color:cyan\"> |-conv_11_units: 24</span>"
     },
     "metadata": {}
    },
    {
     "output_type": "display_data",
     "data": {
      "text/plain": "<IPython.core.display.HTML object>",
      "text/html": "<span style=\"color:blue\"> |-conv_12_units: 32</span>"
     },
     "metadata": {}
    },
    {
     "output_type": "display_data",
     "data": {
      "text/plain": "<IPython.core.display.HTML object>",
      "text/html": "<span style=\"color:cyan\"> |-conv_13_units: 56</span>"
     },
     "metadata": {}
    },
    {
     "output_type": "display_data",
     "data": {
      "text/plain": "<IPython.core.display.HTML object>",
      "text/html": "<span style=\"color:blue\"> |-conv_14_units: 16</span>"
     },
     "metadata": {}
    },
    {
     "output_type": "display_data",
     "data": {
      "text/plain": "<IPython.core.display.HTML object>",
      "text/html": "<span style=\"color:cyan\"> |-conv_15_units: 16</span>"
     },
     "metadata": {}
    },
    {
     "output_type": "display_data",
     "data": {
      "text/plain": "<IPython.core.display.HTML object>",
      "text/html": "<span style=\"color:blue\"> |-conv_1_units: 32</span>"
     },
     "metadata": {}
    },
    {
     "output_type": "display_data",
     "data": {
      "text/plain": "<IPython.core.display.HTML object>",
      "text/html": "<span style=\"color:cyan\"> |-conv_2_units: 32</span>"
     },
     "metadata": {}
    },
    {
     "output_type": "display_data",
     "data": {
      "text/plain": "<IPython.core.display.HTML object>",
      "text/html": "<span style=\"color:blue\"> |-conv_3_units: 56</span>"
     },
     "metadata": {}
    },
    {
     "output_type": "display_data",
     "data": {
      "text/plain": "<IPython.core.display.HTML object>",
      "text/html": "<span style=\"color:cyan\"> |-conv_4_units: 24</span>"
     },
     "metadata": {}
    },
    {
     "output_type": "display_data",
     "data": {
      "text/plain": "<IPython.core.display.HTML object>",
      "text/html": "<span style=\"color:blue\"> |-conv_5_units: 16</span>"
     },
     "metadata": {}
    },
    {
     "output_type": "display_data",
     "data": {
      "text/plain": "<IPython.core.display.HTML object>",
      "text/html": "<span style=\"color:cyan\"> |-conv_6_units: 16</span>"
     },
     "metadata": {}
    },
    {
     "output_type": "display_data",
     "data": {
      "text/plain": "<IPython.core.display.HTML object>",
      "text/html": "<span style=\"color:blue\"> |-conv_7_units: 16</span>"
     },
     "metadata": {}
    },
    {
     "output_type": "display_data",
     "data": {
      "text/plain": "<IPython.core.display.HTML object>",
      "text/html": "<span style=\"color:cyan\"> |-conv_8_units: 56</span>"
     },
     "metadata": {}
    },
    {
     "output_type": "display_data",
     "data": {
      "text/plain": "<IPython.core.display.HTML object>",
      "text/html": "<span style=\"color:blue\"> |-conv_9_units: 16</span>"
     },
     "metadata": {}
    },
    {
     "output_type": "display_data",
     "data": {
      "text/plain": "<IPython.core.display.HTML object>",
      "text/html": "<span style=\"color:cyan\"> |-dense_activation: relu</span>"
     },
     "metadata": {}
    },
    {
     "output_type": "display_data",
     "data": {
      "text/plain": "<IPython.core.display.HTML object>",
      "text/html": "<span style=\"color:blue\"> |-n_layers: 6</span>"
     },
     "metadata": {}
    },
    {
     "output_type": "display_data",
     "data": {
      "text/plain": "<IPython.core.display.HTML object>",
      "text/html": "<span style=\"color:#4527A0\"><h1 style=\"font-size:18px\">Trial summary</h1></span>"
     },
     "metadata": {}
    },
    {
     "output_type": "display_data",
     "data": {
      "text/plain": "<IPython.core.display.HTML object>",
      "text/html": "<span style=\"color:cyan\"> |-Trial ID: 3d997ac60f525d533ad3f23928612997</span>"
     },
     "metadata": {}
    },
    {
     "output_type": "display_data",
     "data": {
      "text/plain": "<IPython.core.display.HTML object>",
      "text/html": "<span style=\"color:cyan\"> |-Score: 0.25</span>"
     },
     "metadata": {}
    },
    {
     "output_type": "display_data",
     "data": {
      "text/plain": "<IPython.core.display.HTML object>",
      "text/html": "<span style=\"color:cyan\"> |-Best step: 0</span>"
     },
     "metadata": {}
    },
    {
     "output_type": "display_data",
     "data": {
      "text/plain": "<IPython.core.display.HTML object>",
      "text/html": "<span style=\"color:#7E57C2\"><h2 style=\"font-size:16px\">Hyperparameters:</h2></span>"
     },
     "metadata": {}
    },
    {
     "output_type": "display_data",
     "data": {
      "text/plain": "<IPython.core.display.HTML object>",
      "text/html": "<span style=\"color:cyan\"> |-conv_0_units: 8</span>"
     },
     "metadata": {}
    },
    {
     "output_type": "display_data",
     "data": {
      "text/plain": "<IPython.core.display.HTML object>",
      "text/html": "<span style=\"color:blue\"> |-conv_10_units: 8</span>"
     },
     "metadata": {}
    },
    {
     "output_type": "display_data",
     "data": {
      "text/plain": "<IPython.core.display.HTML object>",
      "text/html": "<span style=\"color:cyan\"> |-conv_11_units: 8</span>"
     },
     "metadata": {}
    },
    {
     "output_type": "display_data",
     "data": {
      "text/plain": "<IPython.core.display.HTML object>",
      "text/html": "<span style=\"color:blue\"> |-conv_12_units: 8</span>"
     },
     "metadata": {}
    },
    {
     "output_type": "display_data",
     "data": {
      "text/plain": "<IPython.core.display.HTML object>",
      "text/html": "<span style=\"color:cyan\"> |-conv_13_units: 8</span>"
     },
     "metadata": {}
    },
    {
     "output_type": "display_data",
     "data": {
      "text/plain": "<IPython.core.display.HTML object>",
      "text/html": "<span style=\"color:blue\"> |-conv_14_units: 8</span>"
     },
     "metadata": {}
    },
    {
     "output_type": "display_data",
     "data": {
      "text/plain": "<IPython.core.display.HTML object>",
      "text/html": "<span style=\"color:cyan\"> |-conv_15_units: 8</span>"
     },
     "metadata": {}
    },
    {
     "output_type": "display_data",
     "data": {
      "text/plain": "<IPython.core.display.HTML object>",
      "text/html": "<span style=\"color:blue\"> |-conv_1_units: 40</span>"
     },
     "metadata": {}
    },
    {
     "output_type": "display_data",
     "data": {
      "text/plain": "<IPython.core.display.HTML object>",
      "text/html": "<span style=\"color:cyan\"> |-conv_2_units: 24</span>"
     },
     "metadata": {}
    },
    {
     "output_type": "display_data",
     "data": {
      "text/plain": "<IPython.core.display.HTML object>",
      "text/html": "<span style=\"color:blue\"> |-conv_3_units: 16</span>"
     },
     "metadata": {}
    },
    {
     "output_type": "display_data",
     "data": {
      "text/plain": "<IPython.core.display.HTML object>",
      "text/html": "<span style=\"color:cyan\"> |-conv_4_units: 8</span>"
     },
     "metadata": {}
    },
    {
     "output_type": "display_data",
     "data": {
      "text/plain": "<IPython.core.display.HTML object>",
      "text/html": "<span style=\"color:blue\"> |-conv_5_units: 8</span>"
     },
     "metadata": {}
    },
    {
     "output_type": "display_data",
     "data": {
      "text/plain": "<IPython.core.display.HTML object>",
      "text/html": "<span style=\"color:cyan\"> |-conv_6_units: 8</span>"
     },
     "metadata": {}
    },
    {
     "output_type": "display_data",
     "data": {
      "text/plain": "<IPython.core.display.HTML object>",
      "text/html": "<span style=\"color:blue\"> |-conv_7_units: 8</span>"
     },
     "metadata": {}
    },
    {
     "output_type": "display_data",
     "data": {
      "text/plain": "<IPython.core.display.HTML object>",
      "text/html": "<span style=\"color:cyan\"> |-conv_8_units: 8</span>"
     },
     "metadata": {}
    },
    {
     "output_type": "display_data",
     "data": {
      "text/plain": "<IPython.core.display.HTML object>",
      "text/html": "<span style=\"color:blue\"> |-conv_9_units: 8</span>"
     },
     "metadata": {}
    },
    {
     "output_type": "display_data",
     "data": {
      "text/plain": "<IPython.core.display.HTML object>",
      "text/html": "<span style=\"color:cyan\"> |-dense_activation: relu</span>"
     },
     "metadata": {}
    },
    {
     "output_type": "display_data",
     "data": {
      "text/plain": "<IPython.core.display.HTML object>",
      "text/html": "<span style=\"color:blue\"> |-n_layers: 16</span>"
     },
     "metadata": {}
    }
   ],
   "source": [
    "tuner.results_summary()"
   ]
  },
  {
   "cell_type": "code",
   "execution_count": 164,
   "metadata": {
    "tags": [
     "outputPrepend"
    ]
   },
   "outputs": [
    {
     "output_type": "stream",
     "name": "stdout",
     "text": "och 76/20000\n2/2 - 0s - loss: 0.4331 - accuracy: 0.7407 - val_loss: 0.6578 - val_accuracy: 0.7500\nEpoch 77/20000\n2/2 - 0s - loss: 0.4238 - accuracy: 0.8148 - val_loss: 0.6905 - val_accuracy: 0.7500\nEpoch 78/20000\n2/2 - 0s - loss: 0.4129 - accuracy: 0.8519 - val_loss: 0.6681 - val_accuracy: 0.7500\nEpoch 79/20000\n2/2 - 0s - loss: 0.4176 - accuracy: 0.8148 - val_loss: 0.6427 - val_accuracy: 0.7500\nEpoch 80/20000\n2/2 - 0s - loss: 0.4037 - accuracy: 0.8148 - val_loss: 0.6475 - val_accuracy: 0.7500\nEpoch 81/20000\n2/2 - 0s - loss: 0.4176 - accuracy: 0.8148 - val_loss: 0.6596 - val_accuracy: 0.7500\nEpoch 82/20000\n2/2 - 0s - loss: 0.4073 - accuracy: 0.8519 - val_loss: 0.6810 - val_accuracy: 0.7500\nEpoch 83/20000\n2/2 - 0s - loss: 0.4112 - accuracy: 0.8519 - val_loss: 0.6833 - val_accuracy: 0.7500\nEpoch 84/20000\n2/2 - 0s - loss: 0.4009 - accuracy: 0.8519 - val_loss: 0.6458 - val_accuracy: 0.7500\nEpoch 85/20000\n2/2 - 0s - loss: 0.4090 - accuracy: 0.7778 - val_loss: 0.6427 - val_accuracy: 0.7500\nEpoch 86/20000\n2/2 - 0s - loss: 0.4011 - accuracy: 0.8148 - val_loss: 0.6811 - val_accuracy: 0.7500\nEpoch 87/20000\n2/2 - 0s - loss: 0.4194 - accuracy: 0.8148 - val_loss: 0.6708 - val_accuracy: 0.7500\nEpoch 88/20000\n2/2 - 0s - loss: 0.4059 - accuracy: 0.8148 - val_loss: 0.6578 - val_accuracy: 0.7500\nEpoch 89/20000\n2/2 - 0s - loss: 0.4147 - accuracy: 0.7407 - val_loss: 0.6758 - val_accuracy: 0.7500\nEpoch 90/20000\n2/2 - 0s - loss: 0.4043 - accuracy: 0.7778 - val_loss: 0.6975 - val_accuracy: 0.7500\nEpoch 91/20000\n2/2 - 0s - loss: 0.4111 - accuracy: 0.8519 - val_loss: 0.6804 - val_accuracy: 0.7500\nEpoch 92/20000\n2/2 - 0s - loss: 0.3998 - accuracy: 0.8148 - val_loss: 0.6442 - val_accuracy: 0.7500\nEpoch 93/20000\n2/2 - 0s - loss: 0.4246 - accuracy: 0.7407 - val_loss: 0.6389 - val_accuracy: 0.7500\nEpoch 94/20000\n2/2 - 0s - loss: 0.4092 - accuracy: 0.7407 - val_loss: 0.6977 - val_accuracy: 0.7500\nEpoch 95/20000\n2/2 - 0s - loss: 0.3992 - accuracy: 0.8519 - val_loss: 0.7290 - val_accuracy: 0.7500\nEpoch 96/20000\n2/2 - 0s - loss: 0.4126 - accuracy: 0.8148 - val_loss: 0.7190 - val_accuracy: 0.7500\nEpoch 97/20000\n2/2 - 0s - loss: 0.3999 - accuracy: 0.8519 - val_loss: 0.6424 - val_accuracy: 0.7500\nEpoch 98/20000\n2/2 - 0s - loss: 0.4175 - accuracy: 0.7778 - val_loss: 0.6334 - val_accuracy: 0.7500\nEpoch 99/20000\n2/2 - 0s - loss: 0.4146 - accuracy: 0.7778 - val_loss: 0.6922 - val_accuracy: 0.7500\nEpoch 100/20000\n2/2 - 0s - loss: 0.4076 - accuracy: 0.7778 - val_loss: 0.7208 - val_accuracy: 0.7500\nEpoch 101/20000\n2/2 - 0s - loss: 0.4165 - accuracy: 0.7778 - val_loss: 0.6951 - val_accuracy: 0.7500\nEpoch 102/20000\n2/2 - 0s - loss: 0.4023 - accuracy: 0.8148 - val_loss: 0.6653 - val_accuracy: 0.7500\nEpoch 103/20000\n2/2 - 0s - loss: 0.4273 - accuracy: 0.8148 - val_loss: 0.6585 - val_accuracy: 0.7500\nEpoch 104/20000\n2/2 - 0s - loss: 0.4303 - accuracy: 0.8148 - val_loss: 0.6871 - val_accuracy: 0.7500\nEpoch 105/20000\n2/2 - 0s - loss: 0.4191 - accuracy: 0.8148 - val_loss: 0.6926 - val_accuracy: 0.7500\nEpoch 106/20000\n2/2 - 0s - loss: 0.4036 - accuracy: 0.8148 - val_loss: 0.6855 - val_accuracy: 0.7500\nEpoch 107/20000\n2/2 - 0s - loss: 0.4345 - accuracy: 0.7778 - val_loss: 0.6649 - val_accuracy: 0.7500\nEpoch 108/20000\n2/2 - 0s - loss: 0.4485 - accuracy: 0.7407 - val_loss: 0.6416 - val_accuracy: 0.7500\nEpoch 109/20000\n2/2 - 0s - loss: 0.4144 - accuracy: 0.7778 - val_loss: 0.6757 - val_accuracy: 0.7500\nEpoch 110/20000\n2/2 - 0s - loss: 0.4078 - accuracy: 0.8148 - val_loss: 0.6824 - val_accuracy: 0.7500\nEpoch 111/20000\n2/2 - 0s - loss: 0.4251 - accuracy: 0.8148 - val_loss: 0.6809 - val_accuracy: 0.7500\nEpoch 112/20000\n2/2 - 0s - loss: 0.4220 - accuracy: 0.8148 - val_loss: 0.6957 - val_accuracy: 0.7500\nEpoch 113/20000\n2/2 - 0s - loss: 0.4060 - accuracy: 0.8148 - val_loss: 0.6856 - val_accuracy: 0.7500\nEpoch 114/20000\n2/2 - 0s - loss: 0.4128 - accuracy: 0.7778 - val_loss: 0.6840 - val_accuracy: 0.7500\nEpoch 115/20000\n2/2 - 0s - loss: 0.4139 - accuracy: 0.7778 - val_loss: 0.6909 - val_accuracy: 0.7500\nEpoch 116/20000\n2/2 - 0s - loss: 0.4001 - accuracy: 0.8519 - val_loss: 0.6771 - val_accuracy: 0.7500\nEpoch 117/20000\n2/2 - 0s - loss: 0.4134 - accuracy: 0.8148 - val_loss: 0.6551 - val_accuracy: 0.7500\nEpoch 118/20000\n2/2 - 0s - loss: 0.4253 - accuracy: 0.7778 - val_loss: 0.6601 - val_accuracy: 0.7500\nEpoch 119/20000\n2/2 - 0s - loss: 0.4158 - accuracy: 0.7778 - val_loss: 0.6956 - val_accuracy: 0.5000\nEpoch 120/20000\n2/2 - 0s - loss: 0.4089 - accuracy: 0.8148 - val_loss: 0.7125 - val_accuracy: 0.7500\nEpoch 121/20000\n2/2 - 0s - loss: 0.4036 - accuracy: 0.7407 - val_loss: 0.6881 - val_accuracy: 0.7500\nEpoch 122/20000\n2/2 - 0s - loss: 0.4067 - accuracy: 0.7037 - val_loss: 0.6830 - val_accuracy: 0.7500\nEpoch 123/20000\n2/2 - 0s - loss: 0.3973 - accuracy: 0.8148 - val_loss: 0.7116 - val_accuracy: 0.5000\nEpoch 124/20000\n2/2 - 0s - loss: 0.4139 - accuracy: 0.8148 - val_loss: 0.6692 - val_accuracy: 0.5000\nEpoch 125/20000\n2/2 - 0s - loss: 0.4159 - accuracy: 0.8148 - val_loss: 0.6638 - val_accuracy: 0.7500\nEpoch 126/20000\n2/2 - 0s - loss: 0.4213 - accuracy: 0.8148 - val_loss: 0.7090 - val_accuracy: 0.7500\nEpoch 127/20000\n2/2 - 0s - loss: 0.4003 - accuracy: 0.8519 - val_loss: 0.7017 - val_accuracy: 0.7500\nEpoch 128/20000\n2/2 - 0s - loss: 0.4153 - accuracy: 0.8519 - val_loss: 0.6614 - val_accuracy: 0.7500\nEpoch 129/20000\n2/2 - 0s - loss: 0.4133 - accuracy: 0.8148 - val_loss: 0.6505 - val_accuracy: 0.7500\nEpoch 130/20000\n2/2 - 0s - loss: 0.4047 - accuracy: 0.7778 - val_loss: 0.6735 - val_accuracy: 0.7500\nEpoch 131/20000\n2/2 - 0s - loss: 0.4213 - accuracy: 0.7778 - val_loss: 0.7089 - val_accuracy: 0.7500\nEpoch 132/20000\n2/2 - 0s - loss: 0.4182 - accuracy: 0.7778 - val_loss: 0.6871 - val_accuracy: 0.7500\nEpoch 133/20000\n2/2 - 0s - loss: 0.4004 - accuracy: 0.8519 - val_loss: 0.6660 - val_accuracy: 0.7500\nEpoch 134/20000\n2/2 - 0s - loss: 0.4099 - accuracy: 0.8148 - val_loss: 0.6849 - val_accuracy: 0.7500\nEpoch 135/20000\n2/2 - 0s - loss: 0.4197 - accuracy: 0.8148 - val_loss: 0.6864 - val_accuracy: 0.7500\nEpoch 136/20000\n2/2 - 0s - loss: 0.4065 - accuracy: 0.8519 - val_loss: 0.7000 - val_accuracy: 0.5000\nEpoch 137/20000\n2/2 - 0s - loss: 0.4045 - accuracy: 0.8519 - val_loss: 0.7364 - val_accuracy: 0.5000\nEpoch 138/20000\n2/2 - 0s - loss: 0.4064 - accuracy: 0.8148 - val_loss: 0.7119 - val_accuracy: 0.7500\nEpoch 139/20000\n2/2 - 0s - loss: 0.4084 - accuracy: 0.7778 - val_loss: 0.6440 - val_accuracy: 0.7500\nEpoch 140/20000\n2/2 - 0s - loss: 0.4159 - accuracy: 0.8148 - val_loss: 0.6367 - val_accuracy: 0.7500\nEpoch 141/20000\n2/2 - 0s - loss: 0.4126 - accuracy: 0.8148 - val_loss: 0.6980 - val_accuracy: 0.7500\nEpoch 142/20000\n2/2 - 0s - loss: 0.4055 - accuracy: 0.8148 - val_loss: 0.6887 - val_accuracy: 0.7500\nEpoch 143/20000\n2/2 - 0s - loss: 0.3990 - accuracy: 0.8519 - val_loss: 0.6994 - val_accuracy: 0.5000\nEpoch 144/20000\n2/2 - 0s - loss: 0.4110 - accuracy: 0.8148 - val_loss: 0.6931 - val_accuracy: 0.5000\nEpoch 145/20000\n2/2 - 0s - loss: 0.4039 - accuracy: 0.8519 - val_loss: 0.6908 - val_accuracy: 0.7500\nEpoch 146/20000\n2/2 - 0s - loss: 0.4123 - accuracy: 0.8148 - val_loss: 0.6562 - val_accuracy: 0.7500\nEpoch 147/20000\n2/2 - 0s - loss: 0.4239 - accuracy: 0.7778 - val_loss: 0.6060 - val_accuracy: 0.7500\nEpoch 148/20000\n2/2 - 0s - loss: 0.4368 - accuracy: 0.7037 - val_loss: 0.6120 - val_accuracy: 0.7500\nEpoch 149/20000\n2/2 - 0s - loss: 0.4294 - accuracy: 0.7778 - val_loss: 0.6495 - val_accuracy: 0.7500\nEpoch 150/20000\n2/2 - 0s - loss: 0.4060 - accuracy: 0.8148 - val_loss: 0.6751 - val_accuracy: 0.7500\nEpoch 151/20000\n2/2 - 0s - loss: 0.4182 - accuracy: 0.8519 - val_loss: 0.6993 - val_accuracy: 0.7500\nEpoch 152/20000\n2/2 - 0s - loss: 0.4013 - accuracy: 0.8519 - val_loss: 0.6827 - val_accuracy: 0.5000\nEpoch 153/20000\n2/2 - 0s - loss: 0.4244 - accuracy: 0.8148 - val_loss: 0.6727 - val_accuracy: 0.5000\nEpoch 154/20000\n2/2 - 0s - loss: 0.4082 - accuracy: 0.8148 - val_loss: 0.6861 - val_accuracy: 0.7500\nEpoch 155/20000\n2/2 - 0s - loss: 0.4127 - accuracy: 0.8148 - val_loss: 0.6865 - val_accuracy: 0.7500\nEpoch 156/20000\n2/2 - 0s - loss: 0.4198 - accuracy: 0.8148 - val_loss: 0.7078 - val_accuracy: 0.7500\nEpoch 157/20000\n2/2 - 0s - loss: 0.4002 - accuracy: 0.8148 - val_loss: 0.6776 - val_accuracy: 0.7500\nEpoch 158/20000\n2/2 - 0s - loss: 0.4055 - accuracy: 0.8148 - val_loss: 0.6489 - val_accuracy: 0.7500\nEpoch 159/20000\n2/2 - 0s - loss: 0.3993 - accuracy: 0.8519 - val_loss: 0.6752 - val_accuracy: 0.7500\nEpoch 160/20000\n2/2 - 0s - loss: 0.4100 - accuracy: 0.8148 - val_loss: 0.7116 - val_accuracy: 0.7500\nEpoch 161/20000\n2/2 - 0s - loss: 0.4004 - accuracy: 0.8519 - val_loss: 0.7208 - val_accuracy: 0.5000\nEpoch 162/20000\n2/2 - 0s - loss: 0.3995 - accuracy: 0.8519 - val_loss: 0.6853 - val_accuracy: 0.7500\nEpoch 163/20000\n2/2 - 0s - loss: 0.3949 - accuracy: 0.7778 - val_loss: 0.6951 - val_accuracy: 0.7500\nEpoch 164/20000\n2/2 - 0s - loss: 0.3867 - accuracy: 0.8148 - val_loss: 0.7384 - val_accuracy: 0.7500\nEpoch 165/20000\n2/2 - 0s - loss: 0.4062 - accuracy: 0.8519 - val_loss: 0.7197 - val_accuracy: 0.7500\nEpoch 166/20000\n2/2 - 0s - loss: 0.3934 - accuracy: 0.8519 - val_loss: 0.6890 - val_accuracy: 0.5000\nEpoch 167/20000\n2/2 - 0s - loss: 0.4177 - accuracy: 0.8148 - val_loss: 0.7012 - val_accuracy: 0.5000\nEpoch 168/20000\n2/2 - 0s - loss: 0.3920 - accuracy: 0.8148 - val_loss: 0.7467 - val_accuracy: 0.7500\nEpoch 169/20000\n2/2 - 0s - loss: 0.4307 - accuracy: 0.8519 - val_loss: 0.7041 - val_accuracy: 0.7500\nEpoch 170/20000\n2/2 - 0s - loss: 0.4444 - accuracy: 0.7778 - val_loss: 0.6807 - val_accuracy: 0.7500\nEpoch 171/20000\n2/2 - 0s - loss: 0.4462 - accuracy: 0.7778 - val_loss: 0.6599 - val_accuracy: 0.7500\nEpoch 172/20000\n2/2 - 0s - loss: 0.4150 - accuracy: 0.8148 - val_loss: 0.6561 - val_accuracy: 0.7500\nEpoch 173/20000\n2/2 - 0s - loss: 0.4178 - accuracy: 0.8519 - val_loss: 0.7434 - val_accuracy: 0.5000\nEpoch 174/20000\n2/2 - 0s - loss: 0.4570 - accuracy: 0.8519 - val_loss: 0.7121 - val_accuracy: 0.5000\nEpoch 175/20000\n2/2 - 0s - loss: 0.4441 - accuracy: 0.8519 - val_loss: 0.6761 - val_accuracy: 0.7500\nEpoch 176/20000\n2/2 - 0s - loss: 0.4211 - accuracy: 0.8519 - val_loss: 0.6451 - val_accuracy: 0.7500\nEpoch 177/20000\n2/2 - 0s - loss: 0.4431 - accuracy: 0.8519 - val_loss: 0.6324 - val_accuracy: 0.7500\nEpoch 178/20000\n2/2 - 0s - loss: 0.4322 - accuracy: 0.8148 - val_loss: 0.6208 - val_accuracy: 0.7500\nEpoch 179/20000\n2/2 - 0s - loss: 0.4574 - accuracy: 0.7407 - val_loss: 0.6137 - val_accuracy: 0.7500\nEpoch 180/20000\n2/2 - 0s - loss: 0.4458 - accuracy: 0.7778 - val_loss: 0.6009 - val_accuracy: 0.7500\nEpoch 181/20000\n2/2 - 0s - loss: 0.4058 - accuracy: 0.8519 - val_loss: 0.5925 - val_accuracy: 0.7500\nEpoch 182/20000\n2/2 - 0s - loss: 0.4253 - accuracy: 0.8148 - val_loss: 0.6043 - val_accuracy: 0.7500\nEpoch 183/20000\n2/2 - 0s - loss: 0.4248 - accuracy: 0.8148 - val_loss: 0.6338 - val_accuracy: 0.7500\nEpoch 184/20000\n2/2 - 0s - loss: 0.4091 - accuracy: 0.8519 - val_loss: 0.6633 - val_accuracy: 0.7500\nEpoch 185/20000\n2/2 - 0s - loss: 0.4050 - accuracy: 0.8519 - val_loss: 0.6772 - val_accuracy: 0.7500\nEpoch 186/20000\n2/2 - 0s - loss: 0.3978 - accuracy: 0.7778 - val_loss: 0.6809 - val_accuracy: 0.7500\nEpoch 187/20000\n2/2 - 0s - loss: 0.3895 - accuracy: 0.8148 - val_loss: 0.6945 - val_accuracy: 0.7500\nEpoch 188/20000\n2/2 - 0s - loss: 0.4071 - accuracy: 0.8519 - val_loss: 0.6953 - val_accuracy: 0.7500\nEpoch 189/20000\n2/2 - 0s - loss: 0.4135 - accuracy: 0.8148 - val_loss: 0.7005 - val_accuracy: 0.7500\nEpoch 190/20000\n2/2 - 0s - loss: 0.4082 - accuracy: 0.8519 - val_loss: 0.6902 - val_accuracy: 0.7500\nEpoch 191/20000\n2/2 - 0s - loss: 0.3963 - accuracy: 0.8148 - val_loss: 0.7116 - val_accuracy: 0.7500\nEpoch 192/20000\n2/2 - 0s - loss: 0.4154 - accuracy: 0.7778 - val_loss: 0.7580 - val_accuracy: 0.5000\nEpoch 193/20000\n2/2 - 0s - loss: 0.4016 - accuracy: 0.8148 - val_loss: 0.7586 - val_accuracy: 0.7500\nEpoch 194/20000\n2/2 - 0s - loss: 0.3987 - accuracy: 0.8519 - val_loss: 0.7100 - val_accuracy: 0.7500\nEpoch 195/20000\n2/2 - 0s - loss: 0.3959 - accuracy: 0.8148 - val_loss: 0.6656 - val_accuracy: 0.7500\nEpoch 196/20000\n2/2 - 0s - loss: 0.4042 - accuracy: 0.7778 - val_loss: 0.6660 - val_accuracy: 0.7500\nEpoch 197/20000\n2/2 - 0s - loss: 0.4031 - accuracy: 0.8148 - val_loss: 0.7069 - val_accuracy: 0.7500\nEpoch 198/20000\n2/2 - 0s - loss: 0.3939 - accuracy: 0.8148 - val_loss: 0.7257 - val_accuracy: 0.7500\nEpoch 199/20000\n2/2 - 0s - loss: 0.4070 - accuracy: 0.8148 - val_loss: 0.7124 - val_accuracy: 0.7500\nEpoch 200/20000\n2/2 - 0s - loss: 0.3879 - accuracy: 0.8519 - val_loss: 0.6939 - val_accuracy: 0.5000\nEpoch 201/20000\n2/2 - 0s - loss: 0.4253 - accuracy: 0.7407 - val_loss: 0.6930 - val_accuracy: 0.5000\nEpoch 202/20000\n2/2 - 0s - loss: 0.4006 - accuracy: 0.8148 - val_loss: 0.7012 - val_accuracy: 0.7500\nEpoch 203/20000\n2/2 - 0s - loss: 0.4053 - accuracy: 0.8519 - val_loss: 0.7019 - val_accuracy: 0.7500\nEpoch 204/20000\n2/2 - 0s - loss: 0.4002 - accuracy: 0.8148 - val_loss: 0.6508 - val_accuracy: 0.7500\nEpoch 205/20000\n2/2 - 0s - loss: 0.3916 - accuracy: 0.7407 - val_loss: 0.6533 - val_accuracy: 0.7500\nEpoch 206/20000\n2/2 - 0s - loss: 0.4022 - accuracy: 0.7407 - val_loss: 0.6754 - val_accuracy: 0.7500\nEpoch 207/20000\n2/2 - 0s - loss: 0.3910 - accuracy: 0.8519 - val_loss: 0.6958 - val_accuracy: 0.7500\nEpoch 208/20000\n2/2 - 0s - loss: 0.3904 - accuracy: 0.8519 - val_loss: 0.6741 - val_accuracy: 0.7500\nEpoch 209/20000\n2/2 - 0s - loss: 0.3851 - accuracy: 0.8148 - val_loss: 0.6500 - val_accuracy: 0.7500\nEpoch 210/20000\n2/2 - 0s - loss: 0.3901 - accuracy: 0.8519 - val_loss: 0.6611 - val_accuracy: 0.7500\nEpoch 211/20000\n2/2 - 0s - loss: 0.3947 - accuracy: 0.8519 - val_loss: 0.6850 - val_accuracy: 0.7500\nEpoch 212/20000\n2/2 - 0s - loss: 0.3904 - accuracy: 0.8148 - val_loss: 0.6769 - val_accuracy: 0.7500\nEpoch 213/20000\n2/2 - 0s - loss: 0.3854 - accuracy: 0.8519 - val_loss: 0.6502 - val_accuracy: 0.7500\nEpoch 214/20000\n2/2 - 0s - loss: 0.3895 - accuracy: 0.8148 - val_loss: 0.6502 - val_accuracy: 0.7500\nEpoch 215/20000\n2/2 - 0s - loss: 0.3847 - accuracy: 0.8148 - val_loss: 0.6398 - val_accuracy: 0.7500\nEpoch 216/20000\n2/2 - 0s - loss: 0.3828 - accuracy: 0.8148 - val_loss: 0.6632 - val_accuracy: 0.7500\nEpoch 217/20000\n2/2 - 0s - loss: 0.3827 - accuracy: 0.8148 - val_loss: 0.6613 - val_accuracy: 0.7500\nEpoch 218/20000\n2/2 - 0s - loss: 0.3815 - accuracy: 0.7778 - val_loss: 0.6460 - val_accuracy: 0.7500\nEpoch 219/20000\n2/2 - 0s - loss: 0.3879 - accuracy: 0.8519 - val_loss: 0.6479 - val_accuracy: 0.7500\nEpoch 220/20000\n2/2 - 0s - loss: 0.3894 - accuracy: 0.8519 - val_loss: 0.6797 - val_accuracy: 0.7500\nEpoch 221/20000\n2/2 - 0s - loss: 0.3850 - accuracy: 0.8148 - val_loss: 0.7089 - val_accuracy: 0.7500\nEpoch 222/20000\n2/2 - 0s - loss: 0.3890 - accuracy: 0.8519 - val_loss: 0.6841 - val_accuracy: 0.7500\nEpoch 223/20000\n2/2 - 0s - loss: 0.3796 - accuracy: 0.8148 - val_loss: 0.6714 - val_accuracy: 0.7500\nEpoch 224/20000\n2/2 - 0s - loss: 0.3820 - accuracy: 0.7778 - val_loss: 0.7167 - val_accuracy: 0.7500\nEpoch 225/20000\n2/2 - 0s - loss: 0.3899 - accuracy: 0.8519 - val_loss: 0.7081 - val_accuracy: 0.7500\nEpoch 226/20000\n2/2 - 0s - loss: 0.3962 - accuracy: 0.8519 - val_loss: 0.6499 - val_accuracy: 0.7500\nEpoch 227/20000\n2/2 - 0s - loss: 0.3956 - accuracy: 0.8148 - val_loss: 0.6446 - val_accuracy: 0.7500\nEpoch 228/20000\n2/2 - 0s - loss: 0.3913 - accuracy: 0.8148 - val_loss: 0.6938 - val_accuracy: 0.7500\nEpoch 229/20000\n2/2 - 0s - loss: 0.3893 - accuracy: 0.7778 - val_loss: 0.7046 - val_accuracy: 0.7500\nEpoch 230/20000\n2/2 - 0s - loss: 0.3944 - accuracy: 0.8519 - val_loss: 0.6822 - val_accuracy: 0.7500\nEpoch 231/20000\n2/2 - 0s - loss: 0.3816 - accuracy: 0.8519 - val_loss: 0.6380 - val_accuracy: 0.7500\nEpoch 232/20000\n2/2 - 0s - loss: 0.3945 - accuracy: 0.8148 - val_loss: 0.6585 - val_accuracy: 0.7500\nEpoch 233/20000\n2/2 - 0s - loss: 0.3798 - accuracy: 0.8519 - val_loss: 0.6962 - val_accuracy: 0.7500\nEpoch 234/20000\n2/2 - 0s - loss: 0.3779 - accuracy: 0.8519 - val_loss: 0.6751 - val_accuracy: 0.7500\nEpoch 235/20000\n2/2 - 0s - loss: 0.3784 - accuracy: 0.8148 - val_loss: 0.6539 - val_accuracy: 0.7500\nEpoch 236/20000\n2/2 - 0s - loss: 0.3809 - accuracy: 0.8148 - val_loss: 0.6689 - val_accuracy: 0.7500\nEpoch 237/20000\n2/2 - 0s - loss: 0.3771 - accuracy: 0.8519 - val_loss: 0.6389 - val_accuracy: 0.7500\nEpoch 238/20000\n2/2 - 0s - loss: 0.3866 - accuracy: 0.7778 - val_loss: 0.6457 - val_accuracy: 0.7500\nEpoch 239/20000\n2/2 - 0s - loss: 0.3814 - accuracy: 0.7778 - val_loss: 0.6686 - val_accuracy: 0.7500\nEpoch 240/20000\n2/2 - 0s - loss: 0.3893 - accuracy: 0.8148 - val_loss: 0.6586 - val_accuracy: 0.7500\nEpoch 241/20000\n2/2 - 0s - loss: 0.3939 - accuracy: 0.8148 - val_loss: 0.6369 - val_accuracy: 0.7500\nEpoch 242/20000\n2/2 - 0s - loss: 0.3867 - accuracy: 0.8148 - val_loss: 0.6860 - val_accuracy: 0.7500\nEpoch 243/20000\n2/2 - 0s - loss: 0.3798 - accuracy: 0.8519 - val_loss: 0.7225 - val_accuracy: 0.7500\nEpoch 244/20000\n2/2 - 0s - loss: 0.3896 - accuracy: 0.8148 - val_loss: 0.7093 - val_accuracy: 0.7500\nEpoch 245/20000\n2/2 - 0s - loss: 0.3832 - accuracy: 0.8519 - val_loss: 0.6447 - val_accuracy: 0.7500\nEpoch 246/20000\n2/2 - 0s - loss: 0.3872 - accuracy: 0.7778 - val_loss: 0.6214 - val_accuracy: 0.7500\nEpoch 247/20000\n2/2 - 0s - loss: 0.3946 - accuracy: 0.8148 - val_loss: 0.6617 - val_accuracy: 0.7500\nEpoch 248/20000\n2/2 - 0s - loss: 0.3784 - accuracy: 0.8148 - val_loss: 0.7175 - val_accuracy: 0.7500\nEpoch 249/20000\n2/2 - 0s - loss: 0.3986 - accuracy: 0.7778 - val_loss: 0.7202 - val_accuracy: 0.7500\nEpoch 250/20000\n2/2 - 0s - loss: 0.3957 - accuracy: 0.8148 - val_loss: 0.6874 - val_accuracy: 0.7500\nEpoch 251/20000\n2/2 - 0s - loss: 0.4024 - accuracy: 0.7778 - val_loss: 0.6695 - val_accuracy: 0.7500\nEpoch 252/20000\n2/2 - 0s - loss: 0.4070 - accuracy: 0.8148 - val_loss: 0.6662 - val_accuracy: 0.7500\nEpoch 253/20000\n2/2 - 0s - loss: 0.3963 - accuracy: 0.8148 - val_loss: 0.6560 - val_accuracy: 0.7500\nEpoch 254/20000\n2/2 - 0s - loss: 0.3873 - accuracy: 0.8148 - val_loss: 0.6977 - val_accuracy: 0.7500\nEpoch 255/20000\n2/2 - 0s - loss: 0.3902 - accuracy: 0.8148 - val_loss: 0.7124 - val_accuracy: 0.7500\nEpoch 256/20000\n2/2 - 0s - loss: 0.3797 - accuracy: 0.8148 - val_loss: 0.6707 - val_accuracy: 0.7500\nEpoch 257/20000\n2/2 - 0s - loss: 0.3798 - accuracy: 0.8519 - val_loss: 0.6439 - val_accuracy: 0.7500\nEpoch 258/20000\n2/2 - 0s - loss: 0.3871 - accuracy: 0.8148 - val_loss: 0.6637 - val_accuracy: 0.7500\nEpoch 259/20000\n2/2 - 0s - loss: 0.3720 - accuracy: 0.8148 - val_loss: 0.7188 - val_accuracy: 0.7500\nEpoch 260/20000\n2/2 - 0s - loss: 0.3809 - accuracy: 0.8148 - val_loss: 0.6965 - val_accuracy: 0.7500\nEpoch 261/20000\n2/2 - 0s - loss: 0.3852 - accuracy: 0.8519 - val_loss: 0.6713 - val_accuracy: 0.7500\nEpoch 262/20000\n2/2 - 0s - loss: 0.3919 - accuracy: 0.8519 - val_loss: 0.6869 - val_accuracy: 0.7500\nEpoch 263/20000\n2/2 - 0s - loss: 0.3889 - accuracy: 0.8519 - val_loss: 0.7186 - val_accuracy: 0.7500\nEpoch 264/20000\n2/2 - 0s - loss: 0.3920 - accuracy: 0.8148 - val_loss: 0.6991 - val_accuracy: 0.7500\nEpoch 265/20000\n2/2 - 0s - loss: 0.3874 - accuracy: 0.7778 - val_loss: 0.6788 - val_accuracy: 0.7500\nEpoch 266/20000\n2/2 - 0s - loss: 0.3841 - accuracy: 0.8148 - val_loss: 0.6798 - val_accuracy: 0.7500\nEpoch 267/20000\n2/2 - 0s - loss: 0.3880 - accuracy: 0.8148 - val_loss: 0.6935 - val_accuracy: 0.7500\nEpoch 268/20000\n2/2 - 0s - loss: 0.3771 - accuracy: 0.8148 - val_loss: 0.6889 - val_accuracy: 0.7500\nEpoch 269/20000\n2/2 - 0s - loss: 0.3764 - accuracy: 0.8148 - val_loss: 0.7057 - val_accuracy: 0.7500\nEpoch 270/20000\n2/2 - 0s - loss: 0.3761 - accuracy: 0.8519 - val_loss: 0.7231 - val_accuracy: 0.7500\nEpoch 271/20000\n2/2 - 0s - loss: 0.3757 - accuracy: 0.8519 - val_loss: 0.6975 - val_accuracy: 0.7500\nEpoch 272/20000\n2/2 - 0s - loss: 0.3810 - accuracy: 0.8148 - val_loss: 0.7121 - val_accuracy: 0.7500\nEpoch 273/20000\n2/2 - 0s - loss: 0.3878 - accuracy: 0.8148 - val_loss: 0.7233 - val_accuracy: 0.7500\nEpoch 00273: early stopping\n"
    }
   ],
   "source": [
    "# Get best model\n",
    "models = tuner.get_best_models(num_models=1)\n",
    "best_model = models[0]\n",
    "\n",
    "es = EarlyStopping(monitor='val_loss', mode='min', verbose=1, patience=250)\n",
    "\n",
    "# Fit data to model\n",
    "history = best_model.fit(train_features_Standard, train_labels_Standard,\n",
    "            verbose=2,\n",
    "            validation_data=(validation_features_Standard, validation_labels_Standard),\n",
    "            batch_size=20,\n",
    "            epochs=20000,\n",
    "            callbacks=[es])"
   ]
  },
  {
   "cell_type": "code",
   "execution_count": 165,
   "metadata": {},
   "outputs": [
    {
     "output_type": "display_data",
     "data": {
      "text/plain": "<Figure size 432x288 with 1 Axes>",
      "image/svg+xml": "<?xml version=\"1.0\" encoding=\"utf-8\" standalone=\"no\"?>\r\n<!DOCTYPE svg PUBLIC \"-//W3C//DTD SVG 1.1//EN\"\r\n  \"http://www.w3.org/Graphics/SVG/1.1/DTD/svg11.dtd\">\r\n<!-- Created with matplotlib (https://matplotlib.org/) -->\r\n<svg height=\"277.314375pt\" version=\"1.1\" viewBox=\"0 0 385.78125 277.314375\" width=\"385.78125pt\" xmlns=\"http://www.w3.org/2000/svg\" xmlns:xlink=\"http://www.w3.org/1999/xlink\">\r\n <metadata>\r\n  <rdf:RDF xmlns:cc=\"http://creativecommons.org/ns#\" xmlns:dc=\"http://purl.org/dc/elements/1.1/\" xmlns:rdf=\"http://www.w3.org/1999/02/22-rdf-syntax-ns#\">\r\n   <cc:Work>\r\n    <dc:type rdf:resource=\"http://purl.org/dc/dcmitype/StillImage\"/>\r\n    <dc:date>2020-08-31T15:28:27.234535</dc:date>\r\n    <dc:format>image/svg+xml</dc:format>\r\n    <dc:creator>\r\n     <cc:Agent>\r\n      <dc:title>Matplotlib v3.3.1, https://matplotlib.org/</dc:title>\r\n     </cc:Agent>\r\n    </dc:creator>\r\n   </cc:Work>\r\n  </rdf:RDF>\r\n </metadata>\r\n <defs>\r\n  <style type=\"text/css\">*{stroke-linecap:butt;stroke-linejoin:round;}</style>\r\n </defs>\r\n <g id=\"figure_1\">\r\n  <g id=\"patch_1\">\r\n   <path d=\"M 0 277.314375 \r\nL 385.78125 277.314375 \r\nL 385.78125 0 \r\nL 0 0 \r\nz\r\n\" style=\"fill:none;\"/>\r\n  </g>\r\n  <g id=\"axes_1\">\r\n   <g id=\"patch_2\">\r\n    <path d=\"M 43.78125 239.758125 \r\nL 378.58125 239.758125 \r\nL 378.58125 22.318125 \r\nL 43.78125 22.318125 \r\nz\r\n\" style=\"fill:#ffffff;\"/>\r\n   </g>\r\n   <g id=\"matplotlib.axis_1\">\r\n    <g id=\"xtick_1\">\r\n     <g id=\"line2d_1\">\r\n      <defs>\r\n       <path d=\"M 0 0 \r\nL 0 3.5 \r\n\" id=\"mff0eaa0065\" style=\"stroke:#000000;stroke-width:0.8;\"/>\r\n      </defs>\r\n      <g>\r\n       <use style=\"stroke:#000000;stroke-width:0.8;\" x=\"58.999432\" xlink:href=\"#mff0eaa0065\" y=\"239.758125\"/>\r\n      </g>\r\n     </g>\r\n     <g id=\"text_1\">\r\n      <!-- 0 -->\r\n      <g transform=\"translate(55.818182 254.356562)scale(0.1 -0.1)\">\r\n       <defs>\r\n        <path d=\"M 31.78125 66.40625 \r\nQ 24.171875 66.40625 20.328125 58.90625 \r\nQ 16.5 51.421875 16.5 36.375 \r\nQ 16.5 21.390625 20.328125 13.890625 \r\nQ 24.171875 6.390625 31.78125 6.390625 \r\nQ 39.453125 6.390625 43.28125 13.890625 \r\nQ 47.125 21.390625 47.125 36.375 \r\nQ 47.125 51.421875 43.28125 58.90625 \r\nQ 39.453125 66.40625 31.78125 66.40625 \r\nz\r\nM 31.78125 74.21875 \r\nQ 44.046875 74.21875 50.515625 64.515625 \r\nQ 56.984375 54.828125 56.984375 36.375 \r\nQ 56.984375 17.96875 50.515625 8.265625 \r\nQ 44.046875 -1.421875 31.78125 -1.421875 \r\nQ 19.53125 -1.421875 13.0625 8.265625 \r\nQ 6.59375 17.96875 6.59375 36.375 \r\nQ 6.59375 54.828125 13.0625 64.515625 \r\nQ 19.53125 74.21875 31.78125 74.21875 \r\nz\r\n\" id=\"DejaVuSans-48\"/>\r\n       </defs>\r\n       <use xlink:href=\"#DejaVuSans-48\"/>\r\n      </g>\r\n     </g>\r\n    </g>\r\n    <g id=\"xtick_2\">\r\n     <g id=\"line2d_2\">\r\n      <g>\r\n       <use style=\"stroke:#000000;stroke-width:0.8;\" x=\"114.94863\" xlink:href=\"#mff0eaa0065\" y=\"239.758125\"/>\r\n      </g>\r\n     </g>\r\n     <g id=\"text_2\">\r\n      <!-- 50 -->\r\n      <g transform=\"translate(108.58613 254.356562)scale(0.1 -0.1)\">\r\n       <defs>\r\n        <path d=\"M 10.796875 72.90625 \r\nL 49.515625 72.90625 \r\nL 49.515625 64.59375 \r\nL 19.828125 64.59375 \r\nL 19.828125 46.734375 \r\nQ 21.96875 47.46875 24.109375 47.828125 \r\nQ 26.265625 48.1875 28.421875 48.1875 \r\nQ 40.625 48.1875 47.75 41.5 \r\nQ 54.890625 34.8125 54.890625 23.390625 \r\nQ 54.890625 11.625 47.5625 5.09375 \r\nQ 40.234375 -1.421875 26.90625 -1.421875 \r\nQ 22.3125 -1.421875 17.546875 -0.640625 \r\nQ 12.796875 0.140625 7.71875 1.703125 \r\nL 7.71875 11.625 \r\nQ 12.109375 9.234375 16.796875 8.0625 \r\nQ 21.484375 6.890625 26.703125 6.890625 \r\nQ 35.15625 6.890625 40.078125 11.328125 \r\nQ 45.015625 15.765625 45.015625 23.390625 \r\nQ 45.015625 31 40.078125 35.4375 \r\nQ 35.15625 39.890625 26.703125 39.890625 \r\nQ 22.75 39.890625 18.8125 39.015625 \r\nQ 14.890625 38.140625 10.796875 36.28125 \r\nz\r\n\" id=\"DejaVuSans-53\"/>\r\n       </defs>\r\n       <use xlink:href=\"#DejaVuSans-53\"/>\r\n       <use x=\"63.623047\" xlink:href=\"#DejaVuSans-48\"/>\r\n      </g>\r\n     </g>\r\n    </g>\r\n    <g id=\"xtick_3\">\r\n     <g id=\"line2d_3\">\r\n      <g>\r\n       <use style=\"stroke:#000000;stroke-width:0.8;\" x=\"170.897828\" xlink:href=\"#mff0eaa0065\" y=\"239.758125\"/>\r\n      </g>\r\n     </g>\r\n     <g id=\"text_3\">\r\n      <!-- 100 -->\r\n      <g transform=\"translate(161.354078 254.356562)scale(0.1 -0.1)\">\r\n       <defs>\r\n        <path d=\"M 12.40625 8.296875 \r\nL 28.515625 8.296875 \r\nL 28.515625 63.921875 \r\nL 10.984375 60.40625 \r\nL 10.984375 69.390625 \r\nL 28.421875 72.90625 \r\nL 38.28125 72.90625 \r\nL 38.28125 8.296875 \r\nL 54.390625 8.296875 \r\nL 54.390625 0 \r\nL 12.40625 0 \r\nz\r\n\" id=\"DejaVuSans-49\"/>\r\n       </defs>\r\n       <use xlink:href=\"#DejaVuSans-49\"/>\r\n       <use x=\"63.623047\" xlink:href=\"#DejaVuSans-48\"/>\r\n       <use x=\"127.246094\" xlink:href=\"#DejaVuSans-48\"/>\r\n      </g>\r\n     </g>\r\n    </g>\r\n    <g id=\"xtick_4\">\r\n     <g id=\"line2d_4\">\r\n      <g>\r\n       <use style=\"stroke:#000000;stroke-width:0.8;\" x=\"226.847025\" xlink:href=\"#mff0eaa0065\" y=\"239.758125\"/>\r\n      </g>\r\n     </g>\r\n     <g id=\"text_4\">\r\n      <!-- 150 -->\r\n      <g transform=\"translate(217.303275 254.356562)scale(0.1 -0.1)\">\r\n       <use xlink:href=\"#DejaVuSans-49\"/>\r\n       <use x=\"63.623047\" xlink:href=\"#DejaVuSans-53\"/>\r\n       <use x=\"127.246094\" xlink:href=\"#DejaVuSans-48\"/>\r\n      </g>\r\n     </g>\r\n    </g>\r\n    <g id=\"xtick_5\">\r\n     <g id=\"line2d_5\">\r\n      <g>\r\n       <use style=\"stroke:#000000;stroke-width:0.8;\" x=\"282.796223\" xlink:href=\"#mff0eaa0065\" y=\"239.758125\"/>\r\n      </g>\r\n     </g>\r\n     <g id=\"text_5\">\r\n      <!-- 200 -->\r\n      <g transform=\"translate(273.252473 254.356562)scale(0.1 -0.1)\">\r\n       <defs>\r\n        <path d=\"M 19.1875 8.296875 \r\nL 53.609375 8.296875 \r\nL 53.609375 0 \r\nL 7.328125 0 \r\nL 7.328125 8.296875 \r\nQ 12.9375 14.109375 22.625 23.890625 \r\nQ 32.328125 33.6875 34.8125 36.53125 \r\nQ 39.546875 41.84375 41.421875 45.53125 \r\nQ 43.3125 49.21875 43.3125 52.78125 \r\nQ 43.3125 58.59375 39.234375 62.25 \r\nQ 35.15625 65.921875 28.609375 65.921875 \r\nQ 23.96875 65.921875 18.8125 64.3125 \r\nQ 13.671875 62.703125 7.8125 59.421875 \r\nL 7.8125 69.390625 \r\nQ 13.765625 71.78125 18.9375 73 \r\nQ 24.125 74.21875 28.421875 74.21875 \r\nQ 39.75 74.21875 46.484375 68.546875 \r\nQ 53.21875 62.890625 53.21875 53.421875 \r\nQ 53.21875 48.921875 51.53125 44.890625 \r\nQ 49.859375 40.875 45.40625 35.40625 \r\nQ 44.1875 33.984375 37.640625 27.21875 \r\nQ 31.109375 20.453125 19.1875 8.296875 \r\nz\r\n\" id=\"DejaVuSans-50\"/>\r\n       </defs>\r\n       <use xlink:href=\"#DejaVuSans-50\"/>\r\n       <use x=\"63.623047\" xlink:href=\"#DejaVuSans-48\"/>\r\n       <use x=\"127.246094\" xlink:href=\"#DejaVuSans-48\"/>\r\n      </g>\r\n     </g>\r\n    </g>\r\n    <g id=\"xtick_6\">\r\n     <g id=\"line2d_6\">\r\n      <g>\r\n       <use style=\"stroke:#000000;stroke-width:0.8;\" x=\"338.745421\" xlink:href=\"#mff0eaa0065\" y=\"239.758125\"/>\r\n      </g>\r\n     </g>\r\n     <g id=\"text_6\">\r\n      <!-- 250 -->\r\n      <g transform=\"translate(329.201671 254.356562)scale(0.1 -0.1)\">\r\n       <use xlink:href=\"#DejaVuSans-50\"/>\r\n       <use x=\"63.623047\" xlink:href=\"#DejaVuSans-53\"/>\r\n       <use x=\"127.246094\" xlink:href=\"#DejaVuSans-48\"/>\r\n      </g>\r\n     </g>\r\n    </g>\r\n    <g id=\"text_7\">\r\n     <!-- Epoch -->\r\n     <g transform=\"translate(195.870313 268.034687)scale(0.1 -0.1)\">\r\n      <defs>\r\n       <path d=\"M 9.8125 72.90625 \r\nL 55.90625 72.90625 \r\nL 55.90625 64.59375 \r\nL 19.671875 64.59375 \r\nL 19.671875 43.015625 \r\nL 54.390625 43.015625 \r\nL 54.390625 34.71875 \r\nL 19.671875 34.71875 \r\nL 19.671875 8.296875 \r\nL 56.78125 8.296875 \r\nL 56.78125 0 \r\nL 9.8125 0 \r\nz\r\n\" id=\"DejaVuSans-69\"/>\r\n       <path d=\"M 18.109375 8.203125 \r\nL 18.109375 -20.796875 \r\nL 9.078125 -20.796875 \r\nL 9.078125 54.6875 \r\nL 18.109375 54.6875 \r\nL 18.109375 46.390625 \r\nQ 20.953125 51.265625 25.265625 53.625 \r\nQ 29.59375 56 35.59375 56 \r\nQ 45.5625 56 51.78125 48.09375 \r\nQ 58.015625 40.1875 58.015625 27.296875 \r\nQ 58.015625 14.40625 51.78125 6.484375 \r\nQ 45.5625 -1.421875 35.59375 -1.421875 \r\nQ 29.59375 -1.421875 25.265625 0.953125 \r\nQ 20.953125 3.328125 18.109375 8.203125 \r\nz\r\nM 48.6875 27.296875 \r\nQ 48.6875 37.203125 44.609375 42.84375 \r\nQ 40.53125 48.484375 33.40625 48.484375 \r\nQ 26.265625 48.484375 22.1875 42.84375 \r\nQ 18.109375 37.203125 18.109375 27.296875 \r\nQ 18.109375 17.390625 22.1875 11.75 \r\nQ 26.265625 6.109375 33.40625 6.109375 \r\nQ 40.53125 6.109375 44.609375 11.75 \r\nQ 48.6875 17.390625 48.6875 27.296875 \r\nz\r\n\" id=\"DejaVuSans-112\"/>\r\n       <path d=\"M 30.609375 48.390625 \r\nQ 23.390625 48.390625 19.1875 42.75 \r\nQ 14.984375 37.109375 14.984375 27.296875 \r\nQ 14.984375 17.484375 19.15625 11.84375 \r\nQ 23.34375 6.203125 30.609375 6.203125 \r\nQ 37.796875 6.203125 41.984375 11.859375 \r\nQ 46.1875 17.53125 46.1875 27.296875 \r\nQ 46.1875 37.015625 41.984375 42.703125 \r\nQ 37.796875 48.390625 30.609375 48.390625 \r\nz\r\nM 30.609375 56 \r\nQ 42.328125 56 49.015625 48.375 \r\nQ 55.71875 40.765625 55.71875 27.296875 \r\nQ 55.71875 13.875 49.015625 6.21875 \r\nQ 42.328125 -1.421875 30.609375 -1.421875 \r\nQ 18.84375 -1.421875 12.171875 6.21875 \r\nQ 5.515625 13.875 5.515625 27.296875 \r\nQ 5.515625 40.765625 12.171875 48.375 \r\nQ 18.84375 56 30.609375 56 \r\nz\r\n\" id=\"DejaVuSans-111\"/>\r\n       <path d=\"M 48.78125 52.59375 \r\nL 48.78125 44.1875 \r\nQ 44.96875 46.296875 41.140625 47.34375 \r\nQ 37.3125 48.390625 33.40625 48.390625 \r\nQ 24.65625 48.390625 19.8125 42.84375 \r\nQ 14.984375 37.3125 14.984375 27.296875 \r\nQ 14.984375 17.28125 19.8125 11.734375 \r\nQ 24.65625 6.203125 33.40625 6.203125 \r\nQ 37.3125 6.203125 41.140625 7.25 \r\nQ 44.96875 8.296875 48.78125 10.40625 \r\nL 48.78125 2.09375 \r\nQ 45.015625 0.34375 40.984375 -0.53125 \r\nQ 36.96875 -1.421875 32.421875 -1.421875 \r\nQ 20.0625 -1.421875 12.78125 6.34375 \r\nQ 5.515625 14.109375 5.515625 27.296875 \r\nQ 5.515625 40.671875 12.859375 48.328125 \r\nQ 20.21875 56 33.015625 56 \r\nQ 37.15625 56 41.109375 55.140625 \r\nQ 45.0625 54.296875 48.78125 52.59375 \r\nz\r\n\" id=\"DejaVuSans-99\"/>\r\n       <path d=\"M 54.890625 33.015625 \r\nL 54.890625 0 \r\nL 45.90625 0 \r\nL 45.90625 32.71875 \r\nQ 45.90625 40.484375 42.875 44.328125 \r\nQ 39.84375 48.1875 33.796875 48.1875 \r\nQ 26.515625 48.1875 22.3125 43.546875 \r\nQ 18.109375 38.921875 18.109375 30.90625 \r\nL 18.109375 0 \r\nL 9.078125 0 \r\nL 9.078125 75.984375 \r\nL 18.109375 75.984375 \r\nL 18.109375 46.1875 \r\nQ 21.34375 51.125 25.703125 53.5625 \r\nQ 30.078125 56 35.796875 56 \r\nQ 45.21875 56 50.046875 50.171875 \r\nQ 54.890625 44.34375 54.890625 33.015625 \r\nz\r\n\" id=\"DejaVuSans-104\"/>\r\n      </defs>\r\n      <use xlink:href=\"#DejaVuSans-69\"/>\r\n      <use x=\"63.183594\" xlink:href=\"#DejaVuSans-112\"/>\r\n      <use x=\"126.660156\" xlink:href=\"#DejaVuSans-111\"/>\r\n      <use x=\"187.841797\" xlink:href=\"#DejaVuSans-99\"/>\r\n      <use x=\"242.822266\" xlink:href=\"#DejaVuSans-104\"/>\r\n     </g>\r\n    </g>\r\n   </g>\r\n   <g id=\"matplotlib.axis_2\">\r\n    <g id=\"ytick_1\">\r\n     <g id=\"line2d_7\">\r\n      <defs>\r\n       <path d=\"M 0 0 \r\nL -3.5 0 \r\n\" id=\"m82215041d3\" style=\"stroke:#000000;stroke-width:0.8;\"/>\r\n      </defs>\r\n      <g>\r\n       <use style=\"stroke:#000000;stroke-width:0.8;\" x=\"43.78125\" xlink:href=\"#m82215041d3\" y=\"213.452447\"/>\r\n      </g>\r\n     </g>\r\n     <g id=\"text_8\">\r\n      <!-- 0.3 -->\r\n      <g transform=\"translate(20.878125 217.251666)scale(0.1 -0.1)\">\r\n       <defs>\r\n        <path d=\"M 10.6875 12.40625 \r\nL 21 12.40625 \r\nL 21 0 \r\nL 10.6875 0 \r\nz\r\n\" id=\"DejaVuSans-46\"/>\r\n        <path d=\"M 40.578125 39.3125 \r\nQ 47.65625 37.796875 51.625 33 \r\nQ 55.609375 28.21875 55.609375 21.1875 \r\nQ 55.609375 10.40625 48.1875 4.484375 \r\nQ 40.765625 -1.421875 27.09375 -1.421875 \r\nQ 22.515625 -1.421875 17.65625 -0.515625 \r\nQ 12.796875 0.390625 7.625 2.203125 \r\nL 7.625 11.71875 \r\nQ 11.71875 9.328125 16.59375 8.109375 \r\nQ 21.484375 6.890625 26.8125 6.890625 \r\nQ 36.078125 6.890625 40.9375 10.546875 \r\nQ 45.796875 14.203125 45.796875 21.1875 \r\nQ 45.796875 27.640625 41.28125 31.265625 \r\nQ 36.765625 34.90625 28.71875 34.90625 \r\nL 20.21875 34.90625 \r\nL 20.21875 43.015625 \r\nL 29.109375 43.015625 \r\nQ 36.375 43.015625 40.234375 45.921875 \r\nQ 44.09375 48.828125 44.09375 54.296875 \r\nQ 44.09375 59.90625 40.109375 62.90625 \r\nQ 36.140625 65.921875 28.71875 65.921875 \r\nQ 24.65625 65.921875 20.015625 65.03125 \r\nQ 15.375 64.15625 9.8125 62.3125 \r\nL 9.8125 71.09375 \r\nQ 15.4375 72.65625 20.34375 73.4375 \r\nQ 25.25 74.21875 29.59375 74.21875 \r\nQ 40.828125 74.21875 47.359375 69.109375 \r\nQ 53.90625 64.015625 53.90625 55.328125 \r\nQ 53.90625 49.265625 50.4375 45.09375 \r\nQ 46.96875 40.921875 40.578125 39.3125 \r\nz\r\n\" id=\"DejaVuSans-51\"/>\r\n       </defs>\r\n       <use xlink:href=\"#DejaVuSans-48\"/>\r\n       <use x=\"63.623047\" xlink:href=\"#DejaVuSans-46\"/>\r\n       <use x=\"95.410156\" xlink:href=\"#DejaVuSans-51\"/>\r\n      </g>\r\n     </g>\r\n    </g>\r\n    <g id=\"ytick_2\">\r\n     <g id=\"line2d_8\">\r\n      <g>\r\n       <use style=\"stroke:#000000;stroke-width:0.8;\" x=\"43.78125\" xlink:href=\"#m82215041d3\" y=\"180.608365\"/>\r\n      </g>\r\n     </g>\r\n     <g id=\"text_9\">\r\n      <!-- 0.4 -->\r\n      <g transform=\"translate(20.878125 184.407584)scale(0.1 -0.1)\">\r\n       <defs>\r\n        <path d=\"M 37.796875 64.3125 \r\nL 12.890625 25.390625 \r\nL 37.796875 25.390625 \r\nz\r\nM 35.203125 72.90625 \r\nL 47.609375 72.90625 \r\nL 47.609375 25.390625 \r\nL 58.015625 25.390625 \r\nL 58.015625 17.1875 \r\nL 47.609375 17.1875 \r\nL 47.609375 0 \r\nL 37.796875 0 \r\nL 37.796875 17.1875 \r\nL 4.890625 17.1875 \r\nL 4.890625 26.703125 \r\nz\r\n\" id=\"DejaVuSans-52\"/>\r\n       </defs>\r\n       <use xlink:href=\"#DejaVuSans-48\"/>\r\n       <use x=\"63.623047\" xlink:href=\"#DejaVuSans-46\"/>\r\n       <use x=\"95.410156\" xlink:href=\"#DejaVuSans-52\"/>\r\n      </g>\r\n     </g>\r\n    </g>\r\n    <g id=\"ytick_3\">\r\n     <g id=\"line2d_9\">\r\n      <g>\r\n       <use style=\"stroke:#000000;stroke-width:0.8;\" x=\"43.78125\" xlink:href=\"#m82215041d3\" y=\"147.764283\"/>\r\n      </g>\r\n     </g>\r\n     <g id=\"text_10\">\r\n      <!-- 0.5 -->\r\n      <g transform=\"translate(20.878125 151.563502)scale(0.1 -0.1)\">\r\n       <use xlink:href=\"#DejaVuSans-48\"/>\r\n       <use x=\"63.623047\" xlink:href=\"#DejaVuSans-46\"/>\r\n       <use x=\"95.410156\" xlink:href=\"#DejaVuSans-53\"/>\r\n      </g>\r\n     </g>\r\n    </g>\r\n    <g id=\"ytick_4\">\r\n     <g id=\"line2d_10\">\r\n      <g>\r\n       <use style=\"stroke:#000000;stroke-width:0.8;\" x=\"43.78125\" xlink:href=\"#m82215041d3\" y=\"114.9202\"/>\r\n      </g>\r\n     </g>\r\n     <g id=\"text_11\">\r\n      <!-- 0.6 -->\r\n      <g transform=\"translate(20.878125 118.719419)scale(0.1 -0.1)\">\r\n       <defs>\r\n        <path d=\"M 33.015625 40.375 \r\nQ 26.375 40.375 22.484375 35.828125 \r\nQ 18.609375 31.296875 18.609375 23.390625 \r\nQ 18.609375 15.53125 22.484375 10.953125 \r\nQ 26.375 6.390625 33.015625 6.390625 \r\nQ 39.65625 6.390625 43.53125 10.953125 \r\nQ 47.40625 15.53125 47.40625 23.390625 \r\nQ 47.40625 31.296875 43.53125 35.828125 \r\nQ 39.65625 40.375 33.015625 40.375 \r\nz\r\nM 52.59375 71.296875 \r\nL 52.59375 62.3125 \r\nQ 48.875 64.0625 45.09375 64.984375 \r\nQ 41.3125 65.921875 37.59375 65.921875 \r\nQ 27.828125 65.921875 22.671875 59.328125 \r\nQ 17.53125 52.734375 16.796875 39.40625 \r\nQ 19.671875 43.65625 24.015625 45.921875 \r\nQ 28.375 48.1875 33.59375 48.1875 \r\nQ 44.578125 48.1875 50.953125 41.515625 \r\nQ 57.328125 34.859375 57.328125 23.390625 \r\nQ 57.328125 12.15625 50.6875 5.359375 \r\nQ 44.046875 -1.421875 33.015625 -1.421875 \r\nQ 20.359375 -1.421875 13.671875 8.265625 \r\nQ 6.984375 17.96875 6.984375 36.375 \r\nQ 6.984375 53.65625 15.1875 63.9375 \r\nQ 23.390625 74.21875 37.203125 74.21875 \r\nQ 40.921875 74.21875 44.703125 73.484375 \r\nQ 48.484375 72.75 52.59375 71.296875 \r\nz\r\n\" id=\"DejaVuSans-54\"/>\r\n       </defs>\r\n       <use xlink:href=\"#DejaVuSans-48\"/>\r\n       <use x=\"63.623047\" xlink:href=\"#DejaVuSans-46\"/>\r\n       <use x=\"95.410156\" xlink:href=\"#DejaVuSans-54\"/>\r\n      </g>\r\n     </g>\r\n    </g>\r\n    <g id=\"ytick_5\">\r\n     <g id=\"line2d_11\">\r\n      <g>\r\n       <use style=\"stroke:#000000;stroke-width:0.8;\" x=\"43.78125\" xlink:href=\"#m82215041d3\" y=\"82.076118\"/>\r\n      </g>\r\n     </g>\r\n     <g id=\"text_12\">\r\n      <!-- 0.7 -->\r\n      <g transform=\"translate(20.878125 85.875337)scale(0.1 -0.1)\">\r\n       <defs>\r\n        <path d=\"M 8.203125 72.90625 \r\nL 55.078125 72.90625 \r\nL 55.078125 68.703125 \r\nL 28.609375 0 \r\nL 18.3125 0 \r\nL 43.21875 64.59375 \r\nL 8.203125 64.59375 \r\nz\r\n\" id=\"DejaVuSans-55\"/>\r\n       </defs>\r\n       <use xlink:href=\"#DejaVuSans-48\"/>\r\n       <use x=\"63.623047\" xlink:href=\"#DejaVuSans-46\"/>\r\n       <use x=\"95.410156\" xlink:href=\"#DejaVuSans-55\"/>\r\n      </g>\r\n     </g>\r\n    </g>\r\n    <g id=\"ytick_6\">\r\n     <g id=\"line2d_12\">\r\n      <g>\r\n       <use style=\"stroke:#000000;stroke-width:0.8;\" x=\"43.78125\" xlink:href=\"#m82215041d3\" y=\"49.232036\"/>\r\n      </g>\r\n     </g>\r\n     <g id=\"text_13\">\r\n      <!-- 0.8 -->\r\n      <g transform=\"translate(20.878125 53.031254)scale(0.1 -0.1)\">\r\n       <defs>\r\n        <path d=\"M 31.78125 34.625 \r\nQ 24.75 34.625 20.71875 30.859375 \r\nQ 16.703125 27.09375 16.703125 20.515625 \r\nQ 16.703125 13.921875 20.71875 10.15625 \r\nQ 24.75 6.390625 31.78125 6.390625 \r\nQ 38.8125 6.390625 42.859375 10.171875 \r\nQ 46.921875 13.96875 46.921875 20.515625 \r\nQ 46.921875 27.09375 42.890625 30.859375 \r\nQ 38.875 34.625 31.78125 34.625 \r\nz\r\nM 21.921875 38.8125 \r\nQ 15.578125 40.375 12.03125 44.71875 \r\nQ 8.5 49.078125 8.5 55.328125 \r\nQ 8.5 64.0625 14.71875 69.140625 \r\nQ 20.953125 74.21875 31.78125 74.21875 \r\nQ 42.671875 74.21875 48.875 69.140625 \r\nQ 55.078125 64.0625 55.078125 55.328125 \r\nQ 55.078125 49.078125 51.53125 44.71875 \r\nQ 48 40.375 41.703125 38.8125 \r\nQ 48.828125 37.15625 52.796875 32.3125 \r\nQ 56.78125 27.484375 56.78125 20.515625 \r\nQ 56.78125 9.90625 50.3125 4.234375 \r\nQ 43.84375 -1.421875 31.78125 -1.421875 \r\nQ 19.734375 -1.421875 13.25 4.234375 \r\nQ 6.78125 9.90625 6.78125 20.515625 \r\nQ 6.78125 27.484375 10.78125 32.3125 \r\nQ 14.796875 37.15625 21.921875 38.8125 \r\nz\r\nM 18.3125 54.390625 \r\nQ 18.3125 48.734375 21.84375 45.5625 \r\nQ 25.390625 42.390625 31.78125 42.390625 \r\nQ 38.140625 42.390625 41.71875 45.5625 \r\nQ 45.3125 48.734375 45.3125 54.390625 \r\nQ 45.3125 60.0625 41.71875 63.234375 \r\nQ 38.140625 66.40625 31.78125 66.40625 \r\nQ 25.390625 66.40625 21.84375 63.234375 \r\nQ 18.3125 60.0625 18.3125 54.390625 \r\nz\r\n\" id=\"DejaVuSans-56\"/>\r\n       </defs>\r\n       <use xlink:href=\"#DejaVuSans-48\"/>\r\n       <use x=\"63.623047\" xlink:href=\"#DejaVuSans-46\"/>\r\n       <use x=\"95.410156\" xlink:href=\"#DejaVuSans-56\"/>\r\n      </g>\r\n     </g>\r\n    </g>\r\n    <g id=\"text_14\">\r\n     <!-- Accuracy -->\r\n     <g transform=\"translate(14.798438 153.86625)rotate(-90)scale(0.1 -0.1)\">\r\n      <defs>\r\n       <path d=\"M 34.1875 63.1875 \r\nL 20.796875 26.90625 \r\nL 47.609375 26.90625 \r\nz\r\nM 28.609375 72.90625 \r\nL 39.796875 72.90625 \r\nL 67.578125 0 \r\nL 57.328125 0 \r\nL 50.6875 18.703125 \r\nL 17.828125 18.703125 \r\nL 11.1875 0 \r\nL 0.78125 0 \r\nz\r\n\" id=\"DejaVuSans-65\"/>\r\n       <path d=\"M 8.5 21.578125 \r\nL 8.5 54.6875 \r\nL 17.484375 54.6875 \r\nL 17.484375 21.921875 \r\nQ 17.484375 14.15625 20.5 10.265625 \r\nQ 23.53125 6.390625 29.59375 6.390625 \r\nQ 36.859375 6.390625 41.078125 11.03125 \r\nQ 45.3125 15.671875 45.3125 23.6875 \r\nL 45.3125 54.6875 \r\nL 54.296875 54.6875 \r\nL 54.296875 0 \r\nL 45.3125 0 \r\nL 45.3125 8.40625 \r\nQ 42.046875 3.421875 37.71875 1 \r\nQ 33.40625 -1.421875 27.6875 -1.421875 \r\nQ 18.265625 -1.421875 13.375 4.4375 \r\nQ 8.5 10.296875 8.5 21.578125 \r\nz\r\nM 31.109375 56 \r\nz\r\n\" id=\"DejaVuSans-117\"/>\r\n       <path d=\"M 41.109375 46.296875 \r\nQ 39.59375 47.171875 37.8125 47.578125 \r\nQ 36.03125 48 33.890625 48 \r\nQ 26.265625 48 22.1875 43.046875 \r\nQ 18.109375 38.09375 18.109375 28.8125 \r\nL 18.109375 0 \r\nL 9.078125 0 \r\nL 9.078125 54.6875 \r\nL 18.109375 54.6875 \r\nL 18.109375 46.1875 \r\nQ 20.953125 51.171875 25.484375 53.578125 \r\nQ 30.03125 56 36.53125 56 \r\nQ 37.453125 56 38.578125 55.875 \r\nQ 39.703125 55.765625 41.0625 55.515625 \r\nz\r\n\" id=\"DejaVuSans-114\"/>\r\n       <path d=\"M 34.28125 27.484375 \r\nQ 23.390625 27.484375 19.1875 25 \r\nQ 14.984375 22.515625 14.984375 16.5 \r\nQ 14.984375 11.71875 18.140625 8.90625 \r\nQ 21.296875 6.109375 26.703125 6.109375 \r\nQ 34.1875 6.109375 38.703125 11.40625 \r\nQ 43.21875 16.703125 43.21875 25.484375 \r\nL 43.21875 27.484375 \r\nz\r\nM 52.203125 31.203125 \r\nL 52.203125 0 \r\nL 43.21875 0 \r\nL 43.21875 8.296875 \r\nQ 40.140625 3.328125 35.546875 0.953125 \r\nQ 30.953125 -1.421875 24.3125 -1.421875 \r\nQ 15.921875 -1.421875 10.953125 3.296875 \r\nQ 6 8.015625 6 15.921875 \r\nQ 6 25.140625 12.171875 29.828125 \r\nQ 18.359375 34.515625 30.609375 34.515625 \r\nL 43.21875 34.515625 \r\nL 43.21875 35.40625 \r\nQ 43.21875 41.609375 39.140625 45 \r\nQ 35.0625 48.390625 27.6875 48.390625 \r\nQ 23 48.390625 18.546875 47.265625 \r\nQ 14.109375 46.140625 10.015625 43.890625 \r\nL 10.015625 52.203125 \r\nQ 14.9375 54.109375 19.578125 55.046875 \r\nQ 24.21875 56 28.609375 56 \r\nQ 40.484375 56 46.34375 49.84375 \r\nQ 52.203125 43.703125 52.203125 31.203125 \r\nz\r\n\" id=\"DejaVuSans-97\"/>\r\n       <path d=\"M 32.171875 -5.078125 \r\nQ 28.375 -14.84375 24.75 -17.8125 \r\nQ 21.140625 -20.796875 15.09375 -20.796875 \r\nL 7.90625 -20.796875 \r\nL 7.90625 -13.28125 \r\nL 13.1875 -13.28125 \r\nQ 16.890625 -13.28125 18.9375 -11.515625 \r\nQ 21 -9.765625 23.484375 -3.21875 \r\nL 25.09375 0.875 \r\nL 2.984375 54.6875 \r\nL 12.5 54.6875 \r\nL 29.59375 11.921875 \r\nL 46.6875 54.6875 \r\nL 56.203125 54.6875 \r\nz\r\n\" id=\"DejaVuSans-121\"/>\r\n      </defs>\r\n      <use xlink:href=\"#DejaVuSans-65\"/>\r\n      <use x=\"66.658203\" xlink:href=\"#DejaVuSans-99\"/>\r\n      <use x=\"121.638672\" xlink:href=\"#DejaVuSans-99\"/>\r\n      <use x=\"176.619141\" xlink:href=\"#DejaVuSans-117\"/>\r\n      <use x=\"239.998047\" xlink:href=\"#DejaVuSans-114\"/>\r\n      <use x=\"281.111328\" xlink:href=\"#DejaVuSans-97\"/>\r\n      <use x=\"342.390625\" xlink:href=\"#DejaVuSans-99\"/>\r\n      <use x=\"397.371094\" xlink:href=\"#DejaVuSans-121\"/>\r\n     </g>\r\n    </g>\r\n   </g>\r\n   <g id=\"line2d_13\">\r\n    <path clip-path=\"url(#pecfa318cbe)\" d=\"M 58.999432 56.530716 \r\nL 60.118416 56.530716 \r\nL 61.2374 80.859671 \r\nL 62.356384 32.201761 \r\nL 63.475368 56.530716 \r\nL 64.594352 56.530716 \r\nL 65.713336 44.366249 \r\nL 66.83232 44.366249 \r\nL 69.070287 68.695204 \r\nL 70.189271 44.366249 \r\nL 71.308255 68.695204 \r\nL 72.427239 68.695204 \r\nL 73.546223 44.366249 \r\nL 75.784191 44.366249 \r\nL 76.903175 32.201761 \r\nL 78.022159 56.530716 \r\nL 80.260127 32.201761 \r\nL 81.379111 32.201761 \r\nL 82.498095 44.366249 \r\nL 83.617079 93.024139 \r\nL 84.736063 80.859671 \r\nL 85.855047 80.859671 \r\nL 86.974031 56.530716 \r\nL 88.093015 44.366249 \r\nL 89.211999 93.024139 \r\nL 90.330983 68.695204 \r\nL 91.449967 80.859671 \r\nL 92.568951 44.366249 \r\nL 99.282854 44.366249 \r\nL 100.401838 32.201761 \r\nL 101.520822 44.366249 \r\nL 104.877774 44.366249 \r\nL 105.996758 56.530716 \r\nL 107.115742 32.201761 \r\nL 109.35371 32.201761 \r\nL 110.472694 56.530716 \r\nL 112.710662 32.201761 \r\nL 113.829646 32.201761 \r\nL 114.94863 56.530716 \r\nL 116.067614 32.201761 \r\nL 117.186598 32.201761 \r\nL 118.305582 44.366249 \r\nL 120.543549 44.366249 \r\nL 121.662533 56.530716 \r\nL 122.781517 32.201761 \r\nL 123.900501 44.366249 \r\nL 125.019485 44.366249 \r\nL 126.138469 56.530716 \r\nL 127.257453 32.201761 \r\nL 128.376437 56.530716 \r\nL 129.495421 56.530716 \r\nL 131.733389 32.201761 \r\nL 132.852373 68.695204 \r\nL 135.090341 44.366249 \r\nL 138.447293 44.366249 \r\nL 139.566277 32.201761 \r\nL 140.685261 32.201761 \r\nL 141.804245 44.366249 \r\nL 142.923229 68.695204 \r\nL 144.042213 44.366249 \r\nL 145.161197 32.201761 \r\nL 146.28018 44.366249 \r\nL 148.518148 44.366249 \r\nL 149.637132 32.201761 \r\nL 151.8751 32.201761 \r\nL 152.994084 56.530716 \r\nL 154.113068 44.366249 \r\nL 156.351036 44.366249 \r\nL 157.47002 68.695204 \r\nL 158.589004 56.530716 \r\nL 159.707988 32.201761 \r\nL 160.826972 44.366249 \r\nL 161.945956 68.695204 \r\nL 163.06494 68.695204 \r\nL 164.183924 32.201761 \r\nL 165.302908 44.366249 \r\nL 166.421892 32.201761 \r\nL 167.540876 56.530716 \r\nL 170.897828 56.530716 \r\nL 172.016811 44.366249 \r\nL 176.492747 44.366249 \r\nL 178.730715 68.695204 \r\nL 180.968683 44.366249 \r\nL 184.325635 44.366249 \r\nL 185.444619 56.530716 \r\nL 186.563603 56.530716 \r\nL 187.682587 32.201761 \r\nL 189.920555 56.530716 \r\nL 191.039539 56.530716 \r\nL 192.158523 44.366249 \r\nL 193.277507 68.695204 \r\nL 194.396491 80.859671 \r\nL 195.515475 44.366249 \r\nL 198.872426 44.366249 \r\nL 199.99141 32.201761 \r\nL 201.110394 32.201761 \r\nL 203.348362 56.530716 \r\nL 205.58633 56.530716 \r\nL 206.705314 32.201761 \r\nL 207.824298 44.366249 \r\nL 208.943282 44.366249 \r\nL 210.062266 32.201761 \r\nL 211.18125 32.201761 \r\nL 213.419218 56.530716 \r\nL 214.538202 44.366249 \r\nL 216.77617 44.366249 \r\nL 217.895154 32.201761 \r\nL 219.014138 44.366249 \r\nL 220.133122 32.201761 \r\nL 222.37109 56.530716 \r\nL 223.490074 80.859671 \r\nL 224.609057 56.530716 \r\nL 226.847025 32.201761 \r\nL 227.966009 32.201761 \r\nL 229.084993 44.366249 \r\nL 234.679913 44.366249 \r\nL 235.798897 32.201761 \r\nL 236.917881 44.366249 \r\nL 238.036865 32.201761 \r\nL 239.155849 32.201761 \r\nL 240.274833 56.530716 \r\nL 242.512801 32.201761 \r\nL 243.631785 32.201761 \r\nL 244.750769 44.366249 \r\nL 245.869753 44.366249 \r\nL 246.988737 32.201761 \r\nL 248.107721 56.530716 \r\nL 249.226705 56.530716 \r\nL 251.464672 32.201761 \r\nL 255.940608 32.201761 \r\nL 257.059592 44.366249 \r\nL 258.178576 68.695204 \r\nL 259.29756 56.530716 \r\nL 260.416544 32.201761 \r\nL 261.535528 44.366249 \r\nL 262.654512 44.366249 \r\nL 263.773496 32.201761 \r\nL 264.89248 32.201761 \r\nL 266.011464 56.530716 \r\nL 268.249432 32.201761 \r\nL 269.368416 44.366249 \r\nL 270.4874 32.201761 \r\nL 272.725368 56.530716 \r\nL 274.963336 32.201761 \r\nL 277.201303 56.530716 \r\nL 278.320287 44.366249 \r\nL 280.558255 44.366249 \r\nL 281.677239 32.201761 \r\nL 282.796223 68.695204 \r\nL 283.915207 44.366249 \r\nL 285.034191 32.201761 \r\nL 286.153175 44.366249 \r\nL 287.272159 68.695204 \r\nL 288.391143 68.695204 \r\nL 289.510127 32.201761 \r\nL 290.629111 32.201761 \r\nL 291.748095 44.366249 \r\nL 292.867079 32.201761 \r\nL 293.986063 32.201761 \r\nL 295.105047 44.366249 \r\nL 296.224031 32.201761 \r\nL 297.343015 44.366249 \r\nL 300.699967 44.366249 \r\nL 301.818951 56.530716 \r\nL 302.937934 32.201761 \r\nL 304.056918 32.201761 \r\nL 305.175902 44.366249 \r\nL 306.294886 32.201761 \r\nL 308.532854 56.530716 \r\nL 309.651838 32.201761 \r\nL 310.770822 32.201761 \r\nL 311.889806 44.366249 \r\nL 313.00879 44.366249 \r\nL 314.127774 56.530716 \r\nL 315.246758 32.201761 \r\nL 316.365742 32.201761 \r\nL 317.484726 44.366249 \r\nL 318.60371 32.201761 \r\nL 319.722694 32.201761 \r\nL 320.841678 44.366249 \r\nL 321.960662 44.366249 \r\nL 323.079646 32.201761 \r\nL 324.19863 56.530716 \r\nL 325.317614 56.530716 \r\nL 326.436598 44.366249 \r\nL 328.674566 44.366249 \r\nL 329.793549 32.201761 \r\nL 330.912533 44.366249 \r\nL 332.031517 32.201761 \r\nL 333.150501 56.530716 \r\nL 334.269485 44.366249 \r\nL 335.388469 44.366249 \r\nL 336.507453 56.530716 \r\nL 337.626437 44.366249 \r\nL 338.745421 56.530716 \r\nL 339.864405 44.366249 \r\nL 344.340341 44.366249 \r\nL 345.459325 32.201761 \r\nL 346.578309 44.366249 \r\nL 348.816277 44.366249 \r\nL 349.935261 32.201761 \r\nL 352.173229 32.201761 \r\nL 354.411197 56.530716 \r\nL 355.53018 44.366249 \r\nL 358.887132 44.366249 \r\nL 360.006116 32.201761 \r\nL 361.1251 32.201761 \r\nL 362.244084 44.366249 \r\nL 363.363068 44.366249 \r\nL 363.363068 44.366249 \r\n\" style=\"fill:none;stroke:#1f77b4;stroke-linecap:square;stroke-width:1.5;\"/>\r\n   </g>\r\n   <g id=\"line2d_14\">\r\n    <path clip-path=\"url(#pecfa318cbe)\" d=\"M 58.999432 147.764283 \r\nL 60.118416 147.764283 \r\nL 61.2374 65.654077 \r\nL 64.594352 65.654077 \r\nL 66.83232 229.874489 \r\nL 69.070287 65.654077 \r\nL 103.75879 65.654077 \r\nL 104.877774 147.764283 \r\nL 107.115742 147.764283 \r\nL 108.234726 65.654077 \r\nL 111.591678 65.654077 \r\nL 112.710662 147.764283 \r\nL 113.829646 65.654077 \r\nL 137.328309 65.654077 \r\nL 138.447293 147.764283 \r\nL 139.566277 65.654077 \r\nL 189.920555 65.654077 \r\nL 191.039539 147.764283 \r\nL 192.158523 65.654077 \r\nL 194.396491 65.654077 \r\nL 195.515475 147.764283 \r\nL 196.634459 147.764283 \r\nL 197.753443 65.654077 \r\nL 208.943282 65.654077 \r\nL 210.062266 147.764283 \r\nL 211.18125 147.764283 \r\nL 212.300234 65.654077 \r\nL 216.77617 65.654077 \r\nL 217.895154 147.764283 \r\nL 219.014138 147.764283 \r\nL 220.133122 65.654077 \r\nL 226.847025 65.654077 \r\nL 227.966009 147.764283 \r\nL 229.084993 147.764283 \r\nL 230.203977 65.654077 \r\nL 236.917881 65.654077 \r\nL 238.036865 147.764283 \r\nL 239.155849 65.654077 \r\nL 242.512801 65.654077 \r\nL 243.631785 147.764283 \r\nL 244.750769 147.764283 \r\nL 245.869753 65.654077 \r\nL 250.345689 65.654077 \r\nL 251.464672 147.764283 \r\nL 252.583656 147.764283 \r\nL 253.70264 65.654077 \r\nL 271.606384 65.654077 \r\nL 272.725368 147.764283 \r\nL 273.844352 65.654077 \r\nL 280.558255 65.654077 \r\nL 281.677239 147.764283 \r\nL 282.796223 147.764283 \r\nL 283.915207 65.654077 \r\nL 363.363068 65.654077 \r\nL 363.363068 65.654077 \r\n\" style=\"fill:none;stroke:#ff7f0e;stroke-linecap:square;stroke-width:1.5;\"/>\r\n   </g>\r\n   <g id=\"patch_3\">\r\n    <path d=\"M 43.78125 239.758125 \r\nL 43.78125 22.318125 \r\n\" style=\"fill:none;stroke:#000000;stroke-linecap:square;stroke-linejoin:miter;stroke-width:0.8;\"/>\r\n   </g>\r\n   <g id=\"patch_4\">\r\n    <path d=\"M 378.58125 239.758125 \r\nL 378.58125 22.318125 \r\n\" style=\"fill:none;stroke:#000000;stroke-linecap:square;stroke-linejoin:miter;stroke-width:0.8;\"/>\r\n   </g>\r\n   <g id=\"patch_5\">\r\n    <path d=\"M 43.78125 239.758125 \r\nL 378.58125 239.758125 \r\n\" style=\"fill:none;stroke:#000000;stroke-linecap:square;stroke-linejoin:miter;stroke-width:0.8;\"/>\r\n   </g>\r\n   <g id=\"patch_6\">\r\n    <path d=\"M 43.78125 22.318125 \r\nL 378.58125 22.318125 \r\n\" style=\"fill:none;stroke:#000000;stroke-linecap:square;stroke-linejoin:miter;stroke-width:0.8;\"/>\r\n   </g>\r\n   <g id=\"text_15\">\r\n    <!-- Model accuracy -->\r\n    <g transform=\"translate(164.187187 16.318125)scale(0.12 -0.12)\">\r\n     <defs>\r\n      <path d=\"M 9.8125 72.90625 \r\nL 24.515625 72.90625 \r\nL 43.109375 23.296875 \r\nL 61.8125 72.90625 \r\nL 76.515625 72.90625 \r\nL 76.515625 0 \r\nL 66.890625 0 \r\nL 66.890625 64.015625 \r\nL 48.09375 14.015625 \r\nL 38.1875 14.015625 \r\nL 19.390625 64.015625 \r\nL 19.390625 0 \r\nL 9.8125 0 \r\nz\r\n\" id=\"DejaVuSans-77\"/>\r\n      <path d=\"M 45.40625 46.390625 \r\nL 45.40625 75.984375 \r\nL 54.390625 75.984375 \r\nL 54.390625 0 \r\nL 45.40625 0 \r\nL 45.40625 8.203125 \r\nQ 42.578125 3.328125 38.25 0.953125 \r\nQ 33.9375 -1.421875 27.875 -1.421875 \r\nQ 17.96875 -1.421875 11.734375 6.484375 \r\nQ 5.515625 14.40625 5.515625 27.296875 \r\nQ 5.515625 40.1875 11.734375 48.09375 \r\nQ 17.96875 56 27.875 56 \r\nQ 33.9375 56 38.25 53.625 \r\nQ 42.578125 51.265625 45.40625 46.390625 \r\nz\r\nM 14.796875 27.296875 \r\nQ 14.796875 17.390625 18.875 11.75 \r\nQ 22.953125 6.109375 30.078125 6.109375 \r\nQ 37.203125 6.109375 41.296875 11.75 \r\nQ 45.40625 17.390625 45.40625 27.296875 \r\nQ 45.40625 37.203125 41.296875 42.84375 \r\nQ 37.203125 48.484375 30.078125 48.484375 \r\nQ 22.953125 48.484375 18.875 42.84375 \r\nQ 14.796875 37.203125 14.796875 27.296875 \r\nz\r\n\" id=\"DejaVuSans-100\"/>\r\n      <path d=\"M 56.203125 29.59375 \r\nL 56.203125 25.203125 \r\nL 14.890625 25.203125 \r\nQ 15.484375 15.921875 20.484375 11.0625 \r\nQ 25.484375 6.203125 34.421875 6.203125 \r\nQ 39.59375 6.203125 44.453125 7.46875 \r\nQ 49.3125 8.734375 54.109375 11.28125 \r\nL 54.109375 2.78125 \r\nQ 49.265625 0.734375 44.1875 -0.34375 \r\nQ 39.109375 -1.421875 33.890625 -1.421875 \r\nQ 20.796875 -1.421875 13.15625 6.1875 \r\nQ 5.515625 13.8125 5.515625 26.8125 \r\nQ 5.515625 40.234375 12.765625 48.109375 \r\nQ 20.015625 56 32.328125 56 \r\nQ 43.359375 56 49.78125 48.890625 \r\nQ 56.203125 41.796875 56.203125 29.59375 \r\nz\r\nM 47.21875 32.234375 \r\nQ 47.125 39.59375 43.09375 43.984375 \r\nQ 39.0625 48.390625 32.421875 48.390625 \r\nQ 24.90625 48.390625 20.390625 44.140625 \r\nQ 15.875 39.890625 15.1875 32.171875 \r\nz\r\n\" id=\"DejaVuSans-101\"/>\r\n      <path d=\"M 9.421875 75.984375 \r\nL 18.40625 75.984375 \r\nL 18.40625 0 \r\nL 9.421875 0 \r\nz\r\n\" id=\"DejaVuSans-108\"/>\r\n      <path id=\"DejaVuSans-32\"/>\r\n     </defs>\r\n     <use xlink:href=\"#DejaVuSans-77\"/>\r\n     <use x=\"86.279297\" xlink:href=\"#DejaVuSans-111\"/>\r\n     <use x=\"147.460938\" xlink:href=\"#DejaVuSans-100\"/>\r\n     <use x=\"210.9375\" xlink:href=\"#DejaVuSans-101\"/>\r\n     <use x=\"272.460938\" xlink:href=\"#DejaVuSans-108\"/>\r\n     <use x=\"300.244141\" xlink:href=\"#DejaVuSans-32\"/>\r\n     <use x=\"332.03125\" xlink:href=\"#DejaVuSans-97\"/>\r\n     <use x=\"393.310547\" xlink:href=\"#DejaVuSans-99\"/>\r\n     <use x=\"448.291016\" xlink:href=\"#DejaVuSans-99\"/>\r\n     <use x=\"503.271484\" xlink:href=\"#DejaVuSans-117\"/>\r\n     <use x=\"566.650391\" xlink:href=\"#DejaVuSans-114\"/>\r\n     <use x=\"607.763672\" xlink:href=\"#DejaVuSans-97\"/>\r\n     <use x=\"669.042969\" xlink:href=\"#DejaVuSans-99\"/>\r\n     <use x=\"724.023438\" xlink:href=\"#DejaVuSans-121\"/>\r\n    </g>\r\n   </g>\r\n   <g id=\"legend_1\">\r\n    <g id=\"patch_7\">\r\n     <path d=\"M 50.78125 59.674375 \r\nL 132.1625 59.674375 \r\nQ 134.1625 59.674375 134.1625 57.674375 \r\nL 134.1625 29.318125 \r\nQ 134.1625 27.318125 132.1625 27.318125 \r\nL 50.78125 27.318125 \r\nQ 48.78125 27.318125 48.78125 29.318125 \r\nL 48.78125 57.674375 \r\nQ 48.78125 59.674375 50.78125 59.674375 \r\nz\r\n\" style=\"fill:#ffffff;opacity:0.8;stroke:#cccccc;stroke-linejoin:miter;\"/>\r\n    </g>\r\n    <g id=\"line2d_15\">\r\n     <path d=\"M 52.78125 35.416562 \r\nL 72.78125 35.416562 \r\n\" style=\"fill:none;stroke:#1f77b4;stroke-linecap:square;stroke-width:1.5;\"/>\r\n    </g>\r\n    <g id=\"line2d_16\"/>\r\n    <g id=\"text_16\">\r\n     <!-- Train -->\r\n     <g transform=\"translate(80.78125 38.916562)scale(0.1 -0.1)\">\r\n      <defs>\r\n       <path d=\"M -0.296875 72.90625 \r\nL 61.375 72.90625 \r\nL 61.375 64.59375 \r\nL 35.5 64.59375 \r\nL 35.5 0 \r\nL 25.59375 0 \r\nL 25.59375 64.59375 \r\nL -0.296875 64.59375 \r\nz\r\n\" id=\"DejaVuSans-84\"/>\r\n       <path d=\"M 9.421875 54.6875 \r\nL 18.40625 54.6875 \r\nL 18.40625 0 \r\nL 9.421875 0 \r\nz\r\nM 9.421875 75.984375 \r\nL 18.40625 75.984375 \r\nL 18.40625 64.59375 \r\nL 9.421875 64.59375 \r\nz\r\n\" id=\"DejaVuSans-105\"/>\r\n       <path d=\"M 54.890625 33.015625 \r\nL 54.890625 0 \r\nL 45.90625 0 \r\nL 45.90625 32.71875 \r\nQ 45.90625 40.484375 42.875 44.328125 \r\nQ 39.84375 48.1875 33.796875 48.1875 \r\nQ 26.515625 48.1875 22.3125 43.546875 \r\nQ 18.109375 38.921875 18.109375 30.90625 \r\nL 18.109375 0 \r\nL 9.078125 0 \r\nL 9.078125 54.6875 \r\nL 18.109375 54.6875 \r\nL 18.109375 46.1875 \r\nQ 21.34375 51.125 25.703125 53.5625 \r\nQ 30.078125 56 35.796875 56 \r\nQ 45.21875 56 50.046875 50.171875 \r\nQ 54.890625 44.34375 54.890625 33.015625 \r\nz\r\n\" id=\"DejaVuSans-110\"/>\r\n      </defs>\r\n      <use xlink:href=\"#DejaVuSans-84\"/>\r\n      <use x=\"46.333984\" xlink:href=\"#DejaVuSans-114\"/>\r\n      <use x=\"87.447266\" xlink:href=\"#DejaVuSans-97\"/>\r\n      <use x=\"148.726562\" xlink:href=\"#DejaVuSans-105\"/>\r\n      <use x=\"176.509766\" xlink:href=\"#DejaVuSans-110\"/>\r\n     </g>\r\n    </g>\r\n    <g id=\"line2d_17\">\r\n     <path d=\"M 52.78125 50.094687 \r\nL 72.78125 50.094687 \r\n\" style=\"fill:none;stroke:#ff7f0e;stroke-linecap:square;stroke-width:1.5;\"/>\r\n    </g>\r\n    <g id=\"line2d_18\"/>\r\n    <g id=\"text_17\">\r\n     <!-- Validation -->\r\n     <g transform=\"translate(80.78125 53.594687)scale(0.1 -0.1)\">\r\n      <defs>\r\n       <path d=\"M 28.609375 0 \r\nL 0.78125 72.90625 \r\nL 11.078125 72.90625 \r\nL 34.1875 11.53125 \r\nL 57.328125 72.90625 \r\nL 67.578125 72.90625 \r\nL 39.796875 0 \r\nz\r\n\" id=\"DejaVuSans-86\"/>\r\n       <path d=\"M 18.3125 70.21875 \r\nL 18.3125 54.6875 \r\nL 36.8125 54.6875 \r\nL 36.8125 47.703125 \r\nL 18.3125 47.703125 \r\nL 18.3125 18.015625 \r\nQ 18.3125 11.328125 20.140625 9.421875 \r\nQ 21.96875 7.515625 27.59375 7.515625 \r\nL 36.8125 7.515625 \r\nL 36.8125 0 \r\nL 27.59375 0 \r\nQ 17.1875 0 13.234375 3.875 \r\nQ 9.28125 7.765625 9.28125 18.015625 \r\nL 9.28125 47.703125 \r\nL 2.6875 47.703125 \r\nL 2.6875 54.6875 \r\nL 9.28125 54.6875 \r\nL 9.28125 70.21875 \r\nz\r\n\" id=\"DejaVuSans-116\"/>\r\n      </defs>\r\n      <use xlink:href=\"#DejaVuSans-86\"/>\r\n      <use x=\"60.658203\" xlink:href=\"#DejaVuSans-97\"/>\r\n      <use x=\"121.9375\" xlink:href=\"#DejaVuSans-108\"/>\r\n      <use x=\"149.720703\" xlink:href=\"#DejaVuSans-105\"/>\r\n      <use x=\"177.503906\" xlink:href=\"#DejaVuSans-100\"/>\r\n      <use x=\"240.980469\" xlink:href=\"#DejaVuSans-97\"/>\r\n      <use x=\"302.259766\" xlink:href=\"#DejaVuSans-116\"/>\r\n      <use x=\"341.46875\" xlink:href=\"#DejaVuSans-105\"/>\r\n      <use x=\"369.251953\" xlink:href=\"#DejaVuSans-111\"/>\r\n      <use x=\"430.433594\" xlink:href=\"#DejaVuSans-110\"/>\r\n     </g>\r\n    </g>\r\n   </g>\r\n  </g>\r\n </g>\r\n <defs>\r\n  <clipPath id=\"pecfa318cbe\">\r\n   <rect height=\"217.44\" width=\"334.8\" x=\"43.78125\" y=\"22.318125\"/>\r\n  </clipPath>\r\n </defs>\r\n</svg>\r\n",
      "image/png": "[encoded data removed]"
     },
     "metadata": {
      "needs_background": "light"
     }
    },
    {
     "output_type": "display_data",
     "data": {
      "text/plain": "<Figure size 432x288 with 1 Axes>",
      "image/svg+xml": "<?xml version=\"1.0\" encoding=\"utf-8\" standalone=\"no\"?>\r\n<!DOCTYPE svg PUBLIC \"-//W3C//DTD SVG 1.1//EN\"\r\n  \"http://www.w3.org/Graphics/SVG/1.1/DTD/svg11.dtd\">\r\n<!-- Created with matplotlib (https://matplotlib.org/) -->\r\n<svg height=\"277.314375pt\" version=\"1.1\" viewBox=\"0 0 392.14375 277.314375\" width=\"392.14375pt\" xmlns=\"http://www.w3.org/2000/svg\" xmlns:xlink=\"http://www.w3.org/1999/xlink\">\r\n <metadata>\r\n  <rdf:RDF xmlns:cc=\"http://creativecommons.org/ns#\" xmlns:dc=\"http://purl.org/dc/elements/1.1/\" xmlns:rdf=\"http://www.w3.org/1999/02/22-rdf-syntax-ns#\">\r\n   <cc:Work>\r\n    <dc:type rdf:resource=\"http://purl.org/dc/dcmitype/StillImage\"/>\r\n    <dc:date>2020-08-31T15:28:27.582682</dc:date>\r\n    <dc:format>image/svg+xml</dc:format>\r\n    <dc:creator>\r\n     <cc:Agent>\r\n      <dc:title>Matplotlib v3.3.1, https://matplotlib.org/</dc:title>\r\n     </cc:Agent>\r\n    </dc:creator>\r\n   </cc:Work>\r\n  </rdf:RDF>\r\n </metadata>\r\n <defs>\r\n  <style type=\"text/css\">*{stroke-linecap:butt;stroke-linejoin:round;}</style>\r\n </defs>\r\n <g id=\"figure_1\">\r\n  <g id=\"patch_1\">\r\n   <path d=\"M 0 277.314375 \r\nL 392.14375 277.314375 \r\nL 392.14375 0 \r\nL 0 0 \r\nz\r\n\" style=\"fill:none;\"/>\r\n  </g>\r\n  <g id=\"axes_1\">\r\n   <g id=\"patch_2\">\r\n    <path d=\"M 50.14375 239.758125 \r\nL 384.94375 239.758125 \r\nL 384.94375 22.318125 \r\nL 50.14375 22.318125 \r\nz\r\n\" style=\"fill:#ffffff;\"/>\r\n   </g>\r\n   <g id=\"matplotlib.axis_1\">\r\n    <g id=\"xtick_1\">\r\n     <g id=\"line2d_1\">\r\n      <defs>\r\n       <path d=\"M 0 0 \r\nL 0 3.5 \r\n\" id=\"m6f2db4ca15\" style=\"stroke:#000000;stroke-width:0.8;\"/>\r\n      </defs>\r\n      <g>\r\n       <use style=\"stroke:#000000;stroke-width:0.8;\" x=\"65.361932\" xlink:href=\"#m6f2db4ca15\" y=\"239.758125\"/>\r\n      </g>\r\n     </g>\r\n     <g id=\"text_1\">\r\n      <!-- 0 -->\r\n      <g transform=\"translate(62.180682 254.356562)scale(0.1 -0.1)\">\r\n       <defs>\r\n        <path d=\"M 31.78125 66.40625 \r\nQ 24.171875 66.40625 20.328125 58.90625 \r\nQ 16.5 51.421875 16.5 36.375 \r\nQ 16.5 21.390625 20.328125 13.890625 \r\nQ 24.171875 6.390625 31.78125 6.390625 \r\nQ 39.453125 6.390625 43.28125 13.890625 \r\nQ 47.125 21.390625 47.125 36.375 \r\nQ 47.125 51.421875 43.28125 58.90625 \r\nQ 39.453125 66.40625 31.78125 66.40625 \r\nz\r\nM 31.78125 74.21875 \r\nQ 44.046875 74.21875 50.515625 64.515625 \r\nQ 56.984375 54.828125 56.984375 36.375 \r\nQ 56.984375 17.96875 50.515625 8.265625 \r\nQ 44.046875 -1.421875 31.78125 -1.421875 \r\nQ 19.53125 -1.421875 13.0625 8.265625 \r\nQ 6.59375 17.96875 6.59375 36.375 \r\nQ 6.59375 54.828125 13.0625 64.515625 \r\nQ 19.53125 74.21875 31.78125 74.21875 \r\nz\r\n\" id=\"DejaVuSans-48\"/>\r\n       </defs>\r\n       <use xlink:href=\"#DejaVuSans-48\"/>\r\n      </g>\r\n     </g>\r\n    </g>\r\n    <g id=\"xtick_2\">\r\n     <g id=\"line2d_2\">\r\n      <g>\r\n       <use style=\"stroke:#000000;stroke-width:0.8;\" x=\"121.31113\" xlink:href=\"#m6f2db4ca15\" y=\"239.758125\"/>\r\n      </g>\r\n     </g>\r\n     <g id=\"text_2\">\r\n      <!-- 50 -->\r\n      <g transform=\"translate(114.94863 254.356562)scale(0.1 -0.1)\">\r\n       <defs>\r\n        <path d=\"M 10.796875 72.90625 \r\nL 49.515625 72.90625 \r\nL 49.515625 64.59375 \r\nL 19.828125 64.59375 \r\nL 19.828125 46.734375 \r\nQ 21.96875 47.46875 24.109375 47.828125 \r\nQ 26.265625 48.1875 28.421875 48.1875 \r\nQ 40.625 48.1875 47.75 41.5 \r\nQ 54.890625 34.8125 54.890625 23.390625 \r\nQ 54.890625 11.625 47.5625 5.09375 \r\nQ 40.234375 -1.421875 26.90625 -1.421875 \r\nQ 22.3125 -1.421875 17.546875 -0.640625 \r\nQ 12.796875 0.140625 7.71875 1.703125 \r\nL 7.71875 11.625 \r\nQ 12.109375 9.234375 16.796875 8.0625 \r\nQ 21.484375 6.890625 26.703125 6.890625 \r\nQ 35.15625 6.890625 40.078125 11.328125 \r\nQ 45.015625 15.765625 45.015625 23.390625 \r\nQ 45.015625 31 40.078125 35.4375 \r\nQ 35.15625 39.890625 26.703125 39.890625 \r\nQ 22.75 39.890625 18.8125 39.015625 \r\nQ 14.890625 38.140625 10.796875 36.28125 \r\nz\r\n\" id=\"DejaVuSans-53\"/>\r\n       </defs>\r\n       <use xlink:href=\"#DejaVuSans-53\"/>\r\n       <use x=\"63.623047\" xlink:href=\"#DejaVuSans-48\"/>\r\n      </g>\r\n     </g>\r\n    </g>\r\n    <g id=\"xtick_3\">\r\n     <g id=\"line2d_3\">\r\n      <g>\r\n       <use style=\"stroke:#000000;stroke-width:0.8;\" x=\"177.260328\" xlink:href=\"#m6f2db4ca15\" y=\"239.758125\"/>\r\n      </g>\r\n     </g>\r\n     <g id=\"text_3\">\r\n      <!-- 100 -->\r\n      <g transform=\"translate(167.716578 254.356562)scale(0.1 -0.1)\">\r\n       <defs>\r\n        <path d=\"M 12.40625 8.296875 \r\nL 28.515625 8.296875 \r\nL 28.515625 63.921875 \r\nL 10.984375 60.40625 \r\nL 10.984375 69.390625 \r\nL 28.421875 72.90625 \r\nL 38.28125 72.90625 \r\nL 38.28125 8.296875 \r\nL 54.390625 8.296875 \r\nL 54.390625 0 \r\nL 12.40625 0 \r\nz\r\n\" id=\"DejaVuSans-49\"/>\r\n       </defs>\r\n       <use xlink:href=\"#DejaVuSans-49\"/>\r\n       <use x=\"63.623047\" xlink:href=\"#DejaVuSans-48\"/>\r\n       <use x=\"127.246094\" xlink:href=\"#DejaVuSans-48\"/>\r\n      </g>\r\n     </g>\r\n    </g>\r\n    <g id=\"xtick_4\">\r\n     <g id=\"line2d_4\">\r\n      <g>\r\n       <use style=\"stroke:#000000;stroke-width:0.8;\" x=\"233.209525\" xlink:href=\"#m6f2db4ca15\" y=\"239.758125\"/>\r\n      </g>\r\n     </g>\r\n     <g id=\"text_4\">\r\n      <!-- 150 -->\r\n      <g transform=\"translate(223.665775 254.356562)scale(0.1 -0.1)\">\r\n       <use xlink:href=\"#DejaVuSans-49\"/>\r\n       <use x=\"63.623047\" xlink:href=\"#DejaVuSans-53\"/>\r\n       <use x=\"127.246094\" xlink:href=\"#DejaVuSans-48\"/>\r\n      </g>\r\n     </g>\r\n    </g>\r\n    <g id=\"xtick_5\">\r\n     <g id=\"line2d_5\">\r\n      <g>\r\n       <use style=\"stroke:#000000;stroke-width:0.8;\" x=\"289.158723\" xlink:href=\"#m6f2db4ca15\" y=\"239.758125\"/>\r\n      </g>\r\n     </g>\r\n     <g id=\"text_5\">\r\n      <!-- 200 -->\r\n      <g transform=\"translate(279.614973 254.356562)scale(0.1 -0.1)\">\r\n       <defs>\r\n        <path d=\"M 19.1875 8.296875 \r\nL 53.609375 8.296875 \r\nL 53.609375 0 \r\nL 7.328125 0 \r\nL 7.328125 8.296875 \r\nQ 12.9375 14.109375 22.625 23.890625 \r\nQ 32.328125 33.6875 34.8125 36.53125 \r\nQ 39.546875 41.84375 41.421875 45.53125 \r\nQ 43.3125 49.21875 43.3125 52.78125 \r\nQ 43.3125 58.59375 39.234375 62.25 \r\nQ 35.15625 65.921875 28.609375 65.921875 \r\nQ 23.96875 65.921875 18.8125 64.3125 \r\nQ 13.671875 62.703125 7.8125 59.421875 \r\nL 7.8125 69.390625 \r\nQ 13.765625 71.78125 18.9375 73 \r\nQ 24.125 74.21875 28.421875 74.21875 \r\nQ 39.75 74.21875 46.484375 68.546875 \r\nQ 53.21875 62.890625 53.21875 53.421875 \r\nQ 53.21875 48.921875 51.53125 44.890625 \r\nQ 49.859375 40.875 45.40625 35.40625 \r\nQ 44.1875 33.984375 37.640625 27.21875 \r\nQ 31.109375 20.453125 19.1875 8.296875 \r\nz\r\n\" id=\"DejaVuSans-50\"/>\r\n       </defs>\r\n       <use xlink:href=\"#DejaVuSans-50\"/>\r\n       <use x=\"63.623047\" xlink:href=\"#DejaVuSans-48\"/>\r\n       <use x=\"127.246094\" xlink:href=\"#DejaVuSans-48\"/>\r\n      </g>\r\n     </g>\r\n    </g>\r\n    <g id=\"xtick_6\">\r\n     <g id=\"line2d_6\">\r\n      <g>\r\n       <use style=\"stroke:#000000;stroke-width:0.8;\" x=\"345.107921\" xlink:href=\"#m6f2db4ca15\" y=\"239.758125\"/>\r\n      </g>\r\n     </g>\r\n     <g id=\"text_6\">\r\n      <!-- 250 -->\r\n      <g transform=\"translate(335.564171 254.356562)scale(0.1 -0.1)\">\r\n       <use xlink:href=\"#DejaVuSans-50\"/>\r\n       <use x=\"63.623047\" xlink:href=\"#DejaVuSans-53\"/>\r\n       <use x=\"127.246094\" xlink:href=\"#DejaVuSans-48\"/>\r\n      </g>\r\n     </g>\r\n    </g>\r\n    <g id=\"text_7\">\r\n     <!-- Epoch -->\r\n     <g transform=\"translate(202.232813 268.034687)scale(0.1 -0.1)\">\r\n      <defs>\r\n       <path d=\"M 9.8125 72.90625 \r\nL 55.90625 72.90625 \r\nL 55.90625 64.59375 \r\nL 19.671875 64.59375 \r\nL 19.671875 43.015625 \r\nL 54.390625 43.015625 \r\nL 54.390625 34.71875 \r\nL 19.671875 34.71875 \r\nL 19.671875 8.296875 \r\nL 56.78125 8.296875 \r\nL 56.78125 0 \r\nL 9.8125 0 \r\nz\r\n\" id=\"DejaVuSans-69\"/>\r\n       <path d=\"M 18.109375 8.203125 \r\nL 18.109375 -20.796875 \r\nL 9.078125 -20.796875 \r\nL 9.078125 54.6875 \r\nL 18.109375 54.6875 \r\nL 18.109375 46.390625 \r\nQ 20.953125 51.265625 25.265625 53.625 \r\nQ 29.59375 56 35.59375 56 \r\nQ 45.5625 56 51.78125 48.09375 \r\nQ 58.015625 40.1875 58.015625 27.296875 \r\nQ 58.015625 14.40625 51.78125 6.484375 \r\nQ 45.5625 -1.421875 35.59375 -1.421875 \r\nQ 29.59375 -1.421875 25.265625 0.953125 \r\nQ 20.953125 3.328125 18.109375 8.203125 \r\nz\r\nM 48.6875 27.296875 \r\nQ 48.6875 37.203125 44.609375 42.84375 \r\nQ 40.53125 48.484375 33.40625 48.484375 \r\nQ 26.265625 48.484375 22.1875 42.84375 \r\nQ 18.109375 37.203125 18.109375 27.296875 \r\nQ 18.109375 17.390625 22.1875 11.75 \r\nQ 26.265625 6.109375 33.40625 6.109375 \r\nQ 40.53125 6.109375 44.609375 11.75 \r\nQ 48.6875 17.390625 48.6875 27.296875 \r\nz\r\n\" id=\"DejaVuSans-112\"/>\r\n       <path d=\"M 30.609375 48.390625 \r\nQ 23.390625 48.390625 19.1875 42.75 \r\nQ 14.984375 37.109375 14.984375 27.296875 \r\nQ 14.984375 17.484375 19.15625 11.84375 \r\nQ 23.34375 6.203125 30.609375 6.203125 \r\nQ 37.796875 6.203125 41.984375 11.859375 \r\nQ 46.1875 17.53125 46.1875 27.296875 \r\nQ 46.1875 37.015625 41.984375 42.703125 \r\nQ 37.796875 48.390625 30.609375 48.390625 \r\nz\r\nM 30.609375 56 \r\nQ 42.328125 56 49.015625 48.375 \r\nQ 55.71875 40.765625 55.71875 27.296875 \r\nQ 55.71875 13.875 49.015625 6.21875 \r\nQ 42.328125 -1.421875 30.609375 -1.421875 \r\nQ 18.84375 -1.421875 12.171875 6.21875 \r\nQ 5.515625 13.875 5.515625 27.296875 \r\nQ 5.515625 40.765625 12.171875 48.375 \r\nQ 18.84375 56 30.609375 56 \r\nz\r\n\" id=\"DejaVuSans-111\"/>\r\n       <path d=\"M 48.78125 52.59375 \r\nL 48.78125 44.1875 \r\nQ 44.96875 46.296875 41.140625 47.34375 \r\nQ 37.3125 48.390625 33.40625 48.390625 \r\nQ 24.65625 48.390625 19.8125 42.84375 \r\nQ 14.984375 37.3125 14.984375 27.296875 \r\nQ 14.984375 17.28125 19.8125 11.734375 \r\nQ 24.65625 6.203125 33.40625 6.203125 \r\nQ 37.3125 6.203125 41.140625 7.25 \r\nQ 44.96875 8.296875 48.78125 10.40625 \r\nL 48.78125 2.09375 \r\nQ 45.015625 0.34375 40.984375 -0.53125 \r\nQ 36.96875 -1.421875 32.421875 -1.421875 \r\nQ 20.0625 -1.421875 12.78125 6.34375 \r\nQ 5.515625 14.109375 5.515625 27.296875 \r\nQ 5.515625 40.671875 12.859375 48.328125 \r\nQ 20.21875 56 33.015625 56 \r\nQ 37.15625 56 41.109375 55.140625 \r\nQ 45.0625 54.296875 48.78125 52.59375 \r\nz\r\n\" id=\"DejaVuSans-99\"/>\r\n       <path d=\"M 54.890625 33.015625 \r\nL 54.890625 0 \r\nL 45.90625 0 \r\nL 45.90625 32.71875 \r\nQ 45.90625 40.484375 42.875 44.328125 \r\nQ 39.84375 48.1875 33.796875 48.1875 \r\nQ 26.515625 48.1875 22.3125 43.546875 \r\nQ 18.109375 38.921875 18.109375 30.90625 \r\nL 18.109375 0 \r\nL 9.078125 0 \r\nL 9.078125 75.984375 \r\nL 18.109375 75.984375 \r\nL 18.109375 46.1875 \r\nQ 21.34375 51.125 25.703125 53.5625 \r\nQ 30.078125 56 35.796875 56 \r\nQ 45.21875 56 50.046875 50.171875 \r\nQ 54.890625 44.34375 54.890625 33.015625 \r\nz\r\n\" id=\"DejaVuSans-104\"/>\r\n      </defs>\r\n      <use xlink:href=\"#DejaVuSans-69\"/>\r\n      <use x=\"63.183594\" xlink:href=\"#DejaVuSans-112\"/>\r\n      <use x=\"126.660156\" xlink:href=\"#DejaVuSans-111\"/>\r\n      <use x=\"187.841797\" xlink:href=\"#DejaVuSans-99\"/>\r\n      <use x=\"242.822266\" xlink:href=\"#DejaVuSans-104\"/>\r\n     </g>\r\n    </g>\r\n   </g>\r\n   <g id=\"matplotlib.axis_2\">\r\n    <g id=\"ytick_1\">\r\n     <g id=\"line2d_7\">\r\n      <defs>\r\n       <path d=\"M 0 0 \r\nL -3.5 0 \r\n\" id=\"m9b30c20164\" style=\"stroke:#000000;stroke-width:0.8;\"/>\r\n      </defs>\r\n      <g>\r\n       <use style=\"stroke:#000000;stroke-width:0.8;\" x=\"50.14375\" xlink:href=\"#m9b30c20164\" y=\"215.573384\"/>\r\n      </g>\r\n     </g>\r\n     <g id=\"text_8\">\r\n      <!-- 0.40 -->\r\n      <g transform=\"translate(20.878125 219.372603)scale(0.1 -0.1)\">\r\n       <defs>\r\n        <path d=\"M 10.6875 12.40625 \r\nL 21 12.40625 \r\nL 21 0 \r\nL 10.6875 0 \r\nz\r\n\" id=\"DejaVuSans-46\"/>\r\n        <path d=\"M 37.796875 64.3125 \r\nL 12.890625 25.390625 \r\nL 37.796875 25.390625 \r\nz\r\nM 35.203125 72.90625 \r\nL 47.609375 72.90625 \r\nL 47.609375 25.390625 \r\nL 58.015625 25.390625 \r\nL 58.015625 17.1875 \r\nL 47.609375 17.1875 \r\nL 47.609375 0 \r\nL 37.796875 0 \r\nL 37.796875 17.1875 \r\nL 4.890625 17.1875 \r\nL 4.890625 26.703125 \r\nz\r\n\" id=\"DejaVuSans-52\"/>\r\n       </defs>\r\n       <use xlink:href=\"#DejaVuSans-48\"/>\r\n       <use x=\"63.623047\" xlink:href=\"#DejaVuSans-46\"/>\r\n       <use x=\"95.410156\" xlink:href=\"#DejaVuSans-52\"/>\r\n       <use x=\"159.033203\" xlink:href=\"#DejaVuSans-48\"/>\r\n      </g>\r\n     </g>\r\n    </g>\r\n    <g id=\"ytick_2\">\r\n     <g id=\"line2d_8\">\r\n      <g>\r\n       <use style=\"stroke:#000000;stroke-width:0.8;\" x=\"50.14375\" xlink:href=\"#m9b30c20164\" y=\"190.060563\"/>\r\n      </g>\r\n     </g>\r\n     <g id=\"text_9\">\r\n      <!-- 0.45 -->\r\n      <g transform=\"translate(20.878125 193.859782)scale(0.1 -0.1)\">\r\n       <use xlink:href=\"#DejaVuSans-48\"/>\r\n       <use x=\"63.623047\" xlink:href=\"#DejaVuSans-46\"/>\r\n       <use x=\"95.410156\" xlink:href=\"#DejaVuSans-52\"/>\r\n       <use x=\"159.033203\" xlink:href=\"#DejaVuSans-53\"/>\r\n      </g>\r\n     </g>\r\n    </g>\r\n    <g id=\"ytick_3\">\r\n     <g id=\"line2d_9\">\r\n      <g>\r\n       <use style=\"stroke:#000000;stroke-width:0.8;\" x=\"50.14375\" xlink:href=\"#m9b30c20164\" y=\"164.547743\"/>\r\n      </g>\r\n     </g>\r\n     <g id=\"text_10\">\r\n      <!-- 0.50 -->\r\n      <g transform=\"translate(20.878125 168.346961)scale(0.1 -0.1)\">\r\n       <use xlink:href=\"#DejaVuSans-48\"/>\r\n       <use x=\"63.623047\" xlink:href=\"#DejaVuSans-46\"/>\r\n       <use x=\"95.410156\" xlink:href=\"#DejaVuSans-53\"/>\r\n       <use x=\"159.033203\" xlink:href=\"#DejaVuSans-48\"/>\r\n      </g>\r\n     </g>\r\n    </g>\r\n    <g id=\"ytick_4\">\r\n     <g id=\"line2d_10\">\r\n      <g>\r\n       <use style=\"stroke:#000000;stroke-width:0.8;\" x=\"50.14375\" xlink:href=\"#m9b30c20164\" y=\"139.034922\"/>\r\n      </g>\r\n     </g>\r\n     <g id=\"text_11\">\r\n      <!-- 0.55 -->\r\n      <g transform=\"translate(20.878125 142.834141)scale(0.1 -0.1)\">\r\n       <use xlink:href=\"#DejaVuSans-48\"/>\r\n       <use x=\"63.623047\" xlink:href=\"#DejaVuSans-46\"/>\r\n       <use x=\"95.410156\" xlink:href=\"#DejaVuSans-53\"/>\r\n       <use x=\"159.033203\" xlink:href=\"#DejaVuSans-53\"/>\r\n      </g>\r\n     </g>\r\n    </g>\r\n    <g id=\"ytick_5\">\r\n     <g id=\"line2d_11\">\r\n      <g>\r\n       <use style=\"stroke:#000000;stroke-width:0.8;\" x=\"50.14375\" xlink:href=\"#m9b30c20164\" y=\"113.522101\"/>\r\n      </g>\r\n     </g>\r\n     <g id=\"text_12\">\r\n      <!-- 0.60 -->\r\n      <g transform=\"translate(20.878125 117.32132)scale(0.1 -0.1)\">\r\n       <defs>\r\n        <path d=\"M 33.015625 40.375 \r\nQ 26.375 40.375 22.484375 35.828125 \r\nQ 18.609375 31.296875 18.609375 23.390625 \r\nQ 18.609375 15.53125 22.484375 10.953125 \r\nQ 26.375 6.390625 33.015625 6.390625 \r\nQ 39.65625 6.390625 43.53125 10.953125 \r\nQ 47.40625 15.53125 47.40625 23.390625 \r\nQ 47.40625 31.296875 43.53125 35.828125 \r\nQ 39.65625 40.375 33.015625 40.375 \r\nz\r\nM 52.59375 71.296875 \r\nL 52.59375 62.3125 \r\nQ 48.875 64.0625 45.09375 64.984375 \r\nQ 41.3125 65.921875 37.59375 65.921875 \r\nQ 27.828125 65.921875 22.671875 59.328125 \r\nQ 17.53125 52.734375 16.796875 39.40625 \r\nQ 19.671875 43.65625 24.015625 45.921875 \r\nQ 28.375 48.1875 33.59375 48.1875 \r\nQ 44.578125 48.1875 50.953125 41.515625 \r\nQ 57.328125 34.859375 57.328125 23.390625 \r\nQ 57.328125 12.15625 50.6875 5.359375 \r\nQ 44.046875 -1.421875 33.015625 -1.421875 \r\nQ 20.359375 -1.421875 13.671875 8.265625 \r\nQ 6.984375 17.96875 6.984375 36.375 \r\nQ 6.984375 53.65625 15.1875 63.9375 \r\nQ 23.390625 74.21875 37.203125 74.21875 \r\nQ 40.921875 74.21875 44.703125 73.484375 \r\nQ 48.484375 72.75 52.59375 71.296875 \r\nz\r\n\" id=\"DejaVuSans-54\"/>\r\n       </defs>\r\n       <use xlink:href=\"#DejaVuSans-48\"/>\r\n       <use x=\"63.623047\" xlink:href=\"#DejaVuSans-46\"/>\r\n       <use x=\"95.410156\" xlink:href=\"#DejaVuSans-54\"/>\r\n       <use x=\"159.033203\" xlink:href=\"#DejaVuSans-48\"/>\r\n      </g>\r\n     </g>\r\n    </g>\r\n    <g id=\"ytick_6\">\r\n     <g id=\"line2d_12\">\r\n      <g>\r\n       <use style=\"stroke:#000000;stroke-width:0.8;\" x=\"50.14375\" xlink:href=\"#m9b30c20164\" y=\"88.009281\"/>\r\n      </g>\r\n     </g>\r\n     <g id=\"text_13\">\r\n      <!-- 0.65 -->\r\n      <g transform=\"translate(20.878125 91.808499)scale(0.1 -0.1)\">\r\n       <use xlink:href=\"#DejaVuSans-48\"/>\r\n       <use x=\"63.623047\" xlink:href=\"#DejaVuSans-46\"/>\r\n       <use x=\"95.410156\" xlink:href=\"#DejaVuSans-54\"/>\r\n       <use x=\"159.033203\" xlink:href=\"#DejaVuSans-53\"/>\r\n      </g>\r\n     </g>\r\n    </g>\r\n    <g id=\"ytick_7\">\r\n     <g id=\"line2d_13\">\r\n      <g>\r\n       <use style=\"stroke:#000000;stroke-width:0.8;\" x=\"50.14375\" xlink:href=\"#m9b30c20164\" y=\"62.49646\"/>\r\n      </g>\r\n     </g>\r\n     <g id=\"text_14\">\r\n      <!-- 0.70 -->\r\n      <g transform=\"translate(20.878125 66.295679)scale(0.1 -0.1)\">\r\n       <defs>\r\n        <path d=\"M 8.203125 72.90625 \r\nL 55.078125 72.90625 \r\nL 55.078125 68.703125 \r\nL 28.609375 0 \r\nL 18.3125 0 \r\nL 43.21875 64.59375 \r\nL 8.203125 64.59375 \r\nz\r\n\" id=\"DejaVuSans-55\"/>\r\n       </defs>\r\n       <use xlink:href=\"#DejaVuSans-48\"/>\r\n       <use x=\"63.623047\" xlink:href=\"#DejaVuSans-46\"/>\r\n       <use x=\"95.410156\" xlink:href=\"#DejaVuSans-55\"/>\r\n       <use x=\"159.033203\" xlink:href=\"#DejaVuSans-48\"/>\r\n      </g>\r\n     </g>\r\n    </g>\r\n    <g id=\"ytick_8\">\r\n     <g id=\"line2d_14\">\r\n      <g>\r\n       <use style=\"stroke:#000000;stroke-width:0.8;\" x=\"50.14375\" xlink:href=\"#m9b30c20164\" y=\"36.983639\"/>\r\n      </g>\r\n     </g>\r\n     <g id=\"text_15\">\r\n      <!-- 0.75 -->\r\n      <g transform=\"translate(20.878125 40.782858)scale(0.1 -0.1)\">\r\n       <use xlink:href=\"#DejaVuSans-48\"/>\r\n       <use x=\"63.623047\" xlink:href=\"#DejaVuSans-46\"/>\r\n       <use x=\"95.410156\" xlink:href=\"#DejaVuSans-55\"/>\r\n       <use x=\"159.033203\" xlink:href=\"#DejaVuSans-53\"/>\r\n      </g>\r\n     </g>\r\n    </g>\r\n    <g id=\"text_16\">\r\n     <!-- Loss -->\r\n     <g transform=\"translate(14.798438 142.005312)rotate(-90)scale(0.1 -0.1)\">\r\n      <defs>\r\n       <path d=\"M 9.8125 72.90625 \r\nL 19.671875 72.90625 \r\nL 19.671875 8.296875 \r\nL 55.171875 8.296875 \r\nL 55.171875 0 \r\nL 9.8125 0 \r\nz\r\n\" id=\"DejaVuSans-76\"/>\r\n       <path d=\"M 44.28125 53.078125 \r\nL 44.28125 44.578125 \r\nQ 40.484375 46.53125 36.375 47.5 \r\nQ 32.28125 48.484375 27.875 48.484375 \r\nQ 21.1875 48.484375 17.84375 46.4375 \r\nQ 14.5 44.390625 14.5 40.28125 \r\nQ 14.5 37.15625 16.890625 35.375 \r\nQ 19.28125 33.59375 26.515625 31.984375 \r\nL 29.59375 31.296875 \r\nQ 39.15625 29.25 43.1875 25.515625 \r\nQ 47.21875 21.78125 47.21875 15.09375 \r\nQ 47.21875 7.46875 41.1875 3.015625 \r\nQ 35.15625 -1.421875 24.609375 -1.421875 \r\nQ 20.21875 -1.421875 15.453125 -0.5625 \r\nQ 10.6875 0.296875 5.421875 2 \r\nL 5.421875 11.28125 \r\nQ 10.40625 8.6875 15.234375 7.390625 \r\nQ 20.0625 6.109375 24.8125 6.109375 \r\nQ 31.15625 6.109375 34.5625 8.28125 \r\nQ 37.984375 10.453125 37.984375 14.40625 \r\nQ 37.984375 18.0625 35.515625 20.015625 \r\nQ 33.0625 21.96875 24.703125 23.78125 \r\nL 21.578125 24.515625 \r\nQ 13.234375 26.265625 9.515625 29.90625 \r\nQ 5.8125 33.546875 5.8125 39.890625 \r\nQ 5.8125 47.609375 11.28125 51.796875 \r\nQ 16.75 56 26.8125 56 \r\nQ 31.78125 56 36.171875 55.265625 \r\nQ 40.578125 54.546875 44.28125 53.078125 \r\nz\r\n\" id=\"DejaVuSans-115\"/>\r\n      </defs>\r\n      <use xlink:href=\"#DejaVuSans-76\"/>\r\n      <use x=\"53.962891\" xlink:href=\"#DejaVuSans-111\"/>\r\n      <use x=\"115.144531\" xlink:href=\"#DejaVuSans-115\"/>\r\n      <use x=\"167.244141\" xlink:href=\"#DejaVuSans-115\"/>\r\n     </g>\r\n    </g>\r\n   </g>\r\n   <g id=\"line2d_15\">\r\n    <path clip-path=\"url(#pcfdcddefab)\" d=\"M 65.361932 196.529553 \r\nL 66.480916 196.639423 \r\nL 67.5999 165.129571 \r\nL 68.718884 184.970008 \r\nL 69.837868 155.849225 \r\nL 70.956852 172.98154 \r\nL 72.075836 183.028401 \r\nL 73.19482 194.772389 \r\nL 74.313803 173.718371 \r\nL 75.432787 186.173659 \r\nL 76.551771 181.951271 \r\nL 77.670755 183.441008 \r\nL 78.789739 177.44228 \r\nL 79.908723 182.681487 \r\nL 81.027707 162.953398 \r\nL 82.146691 149.542498 \r\nL 83.265675 157.545577 \r\nL 84.384659 150.317712 \r\nL 85.503643 162.635849 \r\nL 86.622627 162.344274 \r\nL 87.741611 174.401112 \r\nL 88.860595 184.429238 \r\nL 89.979579 147.763543 \r\nL 91.098563 167.339016 \r\nL 92.217547 123.009658 \r\nL 93.336531 152.069386 \r\nL 94.455515 169.944235 \r\nL 95.574499 138.260645 \r\nL 96.693483 140.80128 \r\nL 97.812467 149.325862 \r\nL 98.931451 168.34878 \r\nL 100.050434 174.051005 \r\nL 101.169418 172.502616 \r\nL 102.288402 174.955599 \r\nL 103.407386 175.931983 \r\nL 104.52637 179.558979 \r\nL 105.645354 187.230686 \r\nL 106.764338 186.508027 \r\nL 107.883322 184.656368 \r\nL 109.002306 190.618949 \r\nL 110.12129 188.657086 \r\nL 111.240274 194.684494 \r\nL 112.359258 193.456345 \r\nL 113.478242 194.452483 \r\nL 114.597226 197.768119 \r\nL 115.71621 202.890173 \r\nL 116.835194 197.689211 \r\nL 117.954178 198.727761 \r\nL 119.073162 201.555349 \r\nL 120.192146 201.517043 \r\nL 121.31113 199.840992 \r\nL 122.430114 209.391502 \r\nL 123.549098 194.926191 \r\nL 124.668082 191.737061 \r\nL 125.787066 203.255715 \r\nL 126.906049 203.216451 \r\nL 128.025033 203.831902 \r\nL 129.144017 204.836282 \r\nL 130.263001 204.211525 \r\nL 131.381985 209.470882 \r\nL 132.500969 197.828353 \r\nL 133.619953 203.125134 \r\nL 134.738937 206.688124 \r\nL 135.857921 208.118447 \r\nL 136.976905 209.079914 \r\nL 138.095889 208.723831 \r\nL 139.214873 206.335751 \r\nL 140.333857 208.066486 \r\nL 141.452841 208.354503 \r\nL 142.571825 204.846927 \r\nL 143.690809 209.170669 \r\nL 144.809793 206.270195 \r\nL 145.928777 208.473071 \r\nL 147.047761 202.600301 \r\nL 148.166745 209.825551 \r\nL 149.285729 198.706198 \r\nL 150.404713 203.433103 \r\nL 151.523697 208.998892 \r\nL 152.64268 206.587744 \r\nL 153.761664 213.681409 \r\nL 154.880648 206.568248 \r\nL 155.999632 211.840744 \r\nL 157.118616 209.841305 \r\nL 158.2376 215.126544 \r\nL 159.356584 210.98019 \r\nL 160.475568 215.027562 \r\nL 161.594552 205.656036 \r\nL 162.713536 212.558886 \r\nL 163.83252 208.085509 \r\nL 164.951504 213.355648 \r\nL 166.070488 209.91077 \r\nL 167.189472 215.664272 \r\nL 168.308456 203.012923 \r\nL 169.42744 210.877361 \r\nL 170.546424 215.971344 \r\nL 171.665408 209.150002 \r\nL 172.784392 215.626894 \r\nL 173.903376 206.668477 \r\nL 175.02236 208.106556 \r\nL 176.141344 211.71071 \r\nL 177.260328 207.145728 \r\nL 178.379311 214.407337 \r\nL 179.498295 201.62086 \r\nL 180.617279 200.103948 \r\nL 181.736263 205.85149 \r\nL 182.855247 213.75098 \r\nL 183.974231 197.953885 \r\nL 185.093215 190.850518 \r\nL 186.212199 208.23992 \r\nL 187.331183 211.611562 \r\nL 188.450167 202.761524 \r\nL 189.569151 204.370269 \r\nL 190.688135 212.528153 \r\nL 191.807119 209.03107 \r\nL 192.926103 208.495455 \r\nL 194.045087 215.538162 \r\nL 195.164071 208.730583 \r\nL 196.283055 202.645131 \r\nL 197.402039 207.529426 \r\nL 198.521023 211.039831 \r\nL 199.640007 213.756241 \r\nL 200.758991 212.131027 \r\nL 201.877975 216.95851 \r\nL 202.996959 208.494239 \r\nL 204.115943 207.474393 \r\nL 205.234926 204.706933 \r\nL 206.35391 215.395294 \r\nL 207.472894 207.791075 \r\nL 208.591878 208.777937 \r\nL 209.710862 213.18042 \r\nL 210.829846 204.696607 \r\nL 211.94883 206.308713 \r\nL 213.067814 215.354707 \r\nL 215.305782 205.51326 \r\nL 216.424766 212.258263 \r\nL 217.54375 213.284982 \r\nL 219.781718 211.285026 \r\nL 220.900702 207.484505 \r\nL 222.019686 209.126538 \r\nL 224.257654 216.086368 \r\nL 225.376638 209.978227 \r\nL 226.495622 213.575311 \r\nL 227.614606 209.279458 \r\nL 228.73359 203.394842 \r\nL 229.852574 196.786442 \r\nL 230.971557 200.564867 \r\nL 232.090541 212.536502 \r\nL 233.209525 206.277038 \r\nL 234.328509 214.931699 \r\nL 235.447493 203.135216 \r\nL 236.566477 211.372434 \r\nL 237.685461 209.072174 \r\nL 238.804445 205.485325 \r\nL 239.923429 215.458083 \r\nL 241.042413 212.746265 \r\nL 242.161397 215.915367 \r\nL 243.280381 210.454231 \r\nL 244.399365 215.362797 \r\nL 245.518349 215.845294 \r\nL 246.637333 218.1897 \r\nL 247.756317 222.345239 \r\nL 248.875301 212.423971 \r\nL 249.994285 218.916465 \r\nL 251.113269 206.548571 \r\nL 252.232253 219.649464 \r\nL 253.351237 199.909164 \r\nL 254.470221 192.92879 \r\nL 255.589205 191.976842 \r\nL 256.708189 207.903301 \r\nL 257.827172 206.512531 \r\nL 258.946156 186.472428 \r\nL 260.06514 193.084143 \r\nL 261.184124 204.816179 \r\nL 262.303108 193.575855 \r\nL 263.422092 199.14239 \r\nL 264.541076 186.262132 \r\nL 265.66006 192.189251 \r\nL 266.779044 212.620094 \r\nL 267.898028 202.659045 \r\nL 269.017012 202.941314 \r\nL 270.135996 210.925825 \r\nL 271.25498 213.012916 \r\nL 272.373964 216.682308 \r\nL 273.492948 220.929803 \r\nL 274.611932 211.968481 \r\nL 275.730916 208.683913 \r\nL 276.8499 211.405768 \r\nL 277.968884 217.468 \r\nL 279.087868 207.714904 \r\nL 280.206852 214.756379 \r\nL 282.44482 217.654937 \r\nL 283.563803 213.453367 \r\nL 284.682787 213.9664 \r\nL 285.801771 218.702277 \r\nL 286.920755 212.018725 \r\nL 288.039739 221.734457 \r\nL 289.158723 202.65281 \r\nL 290.277707 215.282353 \r\nL 291.396691 212.888388 \r\nL 292.515675 215.474856 \r\nL 293.634659 219.884455 \r\nL 294.753643 214.425767 \r\nL 295.872627 220.143428 \r\nL 296.991611 220.452902 \r\nL 298.110595 223.165632 \r\nL 300.348563 218.258374 \r\nL 301.467547 220.487178 \r\nL 302.586531 222.999148 \r\nL 303.705515 220.947975 \r\nL 304.824499 223.36288 \r\nL 305.943483 224.373115 \r\nL 307.062467 224.390056 \r\nL 308.181451 224.991607 \r\nL 309.300434 221.752751 \r\nL 310.419418 220.969462 \r\nL 311.538402 223.244206 \r\nL 312.657386 221.19644 \r\nL 313.77637 225.968935 \r\nL 314.895354 224.773982 \r\nL 316.014338 220.718778 \r\nL 317.133322 217.523428 \r\nL 318.252306 217.798125 \r\nL 319.37129 219.990249 \r\nL 320.490274 221.010947 \r\nL 321.609258 218.448262 \r\nL 322.728242 224.964326 \r\nL 323.847226 218.38415 \r\nL 324.96621 225.857195 \r\nL 326.085194 226.829717 \r\nL 327.204178 226.608549 \r\nL 328.323162 225.317444 \r\nL 329.442146 227.26413 \r\nL 330.56113 222.401824 \r\nL 331.680114 225.086483 \r\nL 332.799098 221.024785 \r\nL 333.918082 218.703296 \r\nL 336.156049 225.894938 \r\nL 337.275033 220.880016 \r\nL 338.394017 224.152738 \r\nL 339.513001 222.119251 \r\nL 340.631985 218.343806 \r\nL 341.750969 226.578135 \r\nL 342.869953 216.312554 \r\nL 343.988937 217.759195 \r\nL 345.107921 214.353794 \r\nL 346.226905 212.023043 \r\nL 347.345889 217.473793 \r\nL 348.464873 222.049953 \r\nL 349.583857 220.594614 \r\nL 350.702841 225.921991 \r\nL 351.821825 225.871231 \r\nL 352.940809 222.181051 \r\nL 354.059793 229.874489 \r\nL 355.178777 225.316288 \r\nL 356.297761 223.102509 \r\nL 357.416745 219.712755 \r\nL 358.535729 221.229712 \r\nL 359.654713 219.658041 \r\nL 360.773697 222.017988 \r\nL 361.89268 223.689538 \r\nL 363.011664 221.676185 \r\nL 364.130648 227.279064 \r\nL 365.249632 227.605098 \r\nL 367.4876 227.993511 \r\nL 368.606584 225.253697 \r\nL 369.725568 221.79644 \r\nL 369.725568 221.79644 \r\n\" style=\"fill:none;stroke:#1f77b4;stroke-linecap:square;stroke-width:1.5;\"/>\r\n   </g>\r\n   <g id=\"line2d_16\">\r\n    <path clip-path=\"url(#pcfdcddefab)\" d=\"M 65.361932 93.546402 \r\nL 66.480916 60.329858 \r\nL 67.5999 72.766183 \r\nL 68.718884 104.69629 \r\nL 69.837868 111.99797 \r\nL 70.956852 80.864183 \r\nL 72.075836 81.455941 \r\nL 73.19482 59.74403 \r\nL 74.313803 85.750167 \r\nL 75.432787 76.313388 \r\nL 76.551771 98.312404 \r\nL 77.670755 91.880403 \r\nL 78.789739 73.692127 \r\nL 79.908723 51.224528 \r\nL 81.027707 36.698724 \r\nL 82.146691 32.201761 \r\nL 83.265675 35.533638 \r\nL 84.384659 55.36191 \r\nL 86.622627 108.108976 \r\nL 87.741611 124.464556 \r\nL 88.860595 124.363157 \r\nL 89.979579 146.124004 \r\nL 91.098563 131.606442 \r\nL 92.217547 128.02487 \r\nL 93.336531 135.288532 \r\nL 94.455515 117.019963 \r\nL 95.574499 103.87132 \r\nL 96.693483 93.985302 \r\nL 97.812467 86.051505 \r\nL 98.931451 86.135994 \r\nL 100.050434 98.405987 \r\nL 101.169418 108.757699 \r\nL 102.288402 117.122944 \r\nL 103.407386 106.412533 \r\nL 104.52637 86.468598 \r\nL 105.645354 71.194071 \r\nL 106.764338 69.704045 \r\nL 107.883322 80.295569 \r\nL 109.002306 92.671614 \r\nL 110.12129 95.067784 \r\nL 111.240274 73.475429 \r\nL 112.359258 48.132737 \r\nL 113.478242 47.714214 \r\nL 115.71621 89.346642 \r\nL 116.835194 93.146706 \r\nL 117.954178 87.004395 \r\nL 119.073162 87.404943 \r\nL 120.192146 78.806365 \r\nL 122.430114 58.166079 \r\nL 123.549098 62.131563 \r\nL 124.668082 71.150975 \r\nL 125.787066 78.996602 \r\nL 126.906049 69.576855 \r\nL 128.025033 53.409749 \r\nL 130.263001 69.288382 \r\nL 131.381985 72.513202 \r\nL 132.500969 62.891752 \r\nL 133.619953 71.084643 \r\nL 134.738937 76.188723 \r\nL 135.857921 67.135704 \r\nL 136.976905 65.221438 \r\nL 138.095889 78.695446 \r\nL 139.214873 84.733195 \r\nL 140.333857 73.907334 \r\nL 141.452841 67.093368 \r\nL 142.571825 75.433886 \r\nL 143.690809 76.910043 \r\nL 144.809793 50.816164 \r\nL 145.928777 37.367794 \r\nL 147.047761 65.502125 \r\nL 148.166745 86.787637 \r\nL 149.285729 84.024131 \r\nL 150.404713 67.347383 \r\nL 151.523697 78.798275 \r\nL 152.64268 91.709783 \r\nL 153.761664 89.2693 \r\nL 154.880648 83.106156 \r\nL 155.999632 72.211073 \r\nL 157.118616 71.005354 \r\nL 158.2376 90.174623 \r\nL 159.356584 91.715957 \r\nL 160.475568 72.154747 \r\nL 161.594552 77.379326 \r\nL 162.713536 84.048188 \r\nL 163.83252 74.831209 \r\nL 164.951504 63.768304 \r\nL 166.070488 72.49903 \r\nL 167.189472 90.962793 \r\nL 168.308456 93.696372 \r\nL 169.42744 63.677154 \r\nL 170.546424 47.706854 \r\nL 171.665408 52.817625 \r\nL 172.784392 91.907228 \r\nL 173.903376 96.464592 \r\nL 175.02236 66.488501 \r\nL 176.141344 51.875106 \r\nL 177.260328 64.992758 \r\nL 178.379311 80.21105 \r\nL 179.498295 83.668352 \r\nL 180.617279 69.068187 \r\nL 181.736263 66.270374 \r\nL 182.855247 69.90219 \r\nL 183.974231 80.427139 \r\nL 185.093215 92.308749 \r\nL 186.212199 74.887657 \r\nL 187.331183 71.469953 \r\nL 188.450167 72.249273 \r\nL 189.569151 64.706596 \r\nL 190.688135 69.857786 \r\nL 191.807119 70.66165 \r\nL 192.926103 67.157693 \r\nL 194.045087 74.185619 \r\nL 195.164071 85.423737 \r\nL 196.283055 82.838303 \r\nL 197.402039 64.724236 \r\nL 198.521023 56.099258 \r\nL 199.640007 68.550455 \r\nL 200.758991 71.18446 \r\nL 201.877975 56.590104 \r\nL 202.996959 78.194837 \r\nL 204.115943 80.963331 \r\nL 205.234926 57.917508 \r\nL 206.35391 61.633996 \r\nL 207.472894 82.192773 \r\nL 208.591878 87.758137 \r\nL 209.710862 76.008157 \r\nL 210.829846 57.973043 \r\nL 213.067814 79.820356 \r\nL 214.186798 70.178529 \r\nL 215.305782 69.447658 \r\nL 216.424766 62.514836 \r\nL 217.54375 43.942131 \r\nL 218.662734 56.419605 \r\nL 219.781718 91.055889 \r\nL 220.900702 94.798776 \r\nL 222.019686 63.497136 \r\nL 223.13867 68.287408 \r\nL 224.257654 62.790262 \r\nL 225.376638 66.019735 \r\nL 226.495622 67.190083 \r\nL 227.614606 84.822672 \r\nL 228.73359 110.477135 \r\nL 229.852574 107.374851 \r\nL 230.971557 88.275078 \r\nL 233.209525 62.849203 \r\nL 234.328509 71.347629 \r\nL 235.447493 76.418437 \r\nL 236.566477 69.608881 \r\nL 237.685461 69.398723 \r\nL 238.804445 58.520945 \r\nL 241.042413 88.592627 \r\nL 242.161397 75.158126 \r\nL 243.280381 56.590712 \r\nL 244.399365 51.885477 \r\nL 245.518349 69.986406 \r\nL 246.637333 64.991419 \r\nL 247.756317 42.91129 \r\nL 248.875301 52.435569 \r\nL 249.994285 68.106812 \r\nL 251.113269 61.860729 \r\nL 252.232253 38.645563 \r\nL 253.351237 60.383964 \r\nL 254.470221 72.344619 \r\nL 255.589205 82.982646 \r\nL 256.708189 84.903146 \r\nL 257.827172 40.346385 \r\nL 258.946156 56.344027 \r\nL 260.06514 74.688721 \r\nL 261.184124 90.487519 \r\nL 263.422092 102.904653 \r\nL 264.541076 106.513172 \r\nL 265.66006 113.060957 \r\nL 266.779044 117.369386 \r\nL 267.898028 111.341826 \r\nL 270.135996 81.218076 \r\nL 271.25498 74.122845 \r\nL 272.373964 72.236681 \r\nL 273.492948 65.299479 \r\nL 274.611932 64.874996 \r\nL 275.730916 62.229434 \r\nL 276.8499 67.494463 \r\nL 277.968884 56.590895 \r\nL 279.087868 32.918368 \r\nL 280.206852 32.598568 \r\nL 282.44482 80.028172 \r\nL 283.563803 79.865611 \r\nL 284.682787 58.984571 \r\nL 285.801771 49.384198 \r\nL 286.920755 56.170031 \r\nL 288.039739 65.591481 \r\nL 289.158723 66.052704 \r\nL 290.277707 61.89242 \r\nL 291.396691 61.509756 \r\nL 292.515675 87.614341 \r\nL 293.634659 86.342807 \r\nL 295.872627 64.625817 \r\nL 296.991611 75.734951 \r\nL 298.110595 88.006738 \r\nL 299.229579 82.369993 \r\nL 300.348563 70.152069 \r\nL 301.467547 74.286622 \r\nL 302.586531 87.932711 \r\nL 303.705515 87.926568 \r\nL 304.824499 93.237704 \r\nL 305.943483 81.297882 \r\nL 307.062467 82.243959 \r\nL 308.181451 90.056314 \r\nL 309.300434 89.068022 \r\nL 311.538402 57.970793 \r\nL 312.657386 70.588778 \r\nL 313.77637 77.107732 \r\nL 314.895354 53.997797 \r\nL 316.014338 58.380586 \r\nL 317.133322 88.081829 \r\nL 318.252306 90.766899 \r\nL 319.37129 65.673963 \r\nL 320.490274 60.133447 \r\nL 321.609258 71.575428 \r\nL 322.728242 94.133751 \r\nL 323.847226 83.676625 \r\nL 324.96621 64.454771 \r\nL 327.204178 86.029668 \r\nL 328.323162 78.390671 \r\nL 329.442146 93.657108 \r\nL 330.56113 90.212549 \r\nL 331.680114 78.497484 \r\nL 332.799098 83.627324 \r\nL 333.918082 94.709329 \r\nL 335.037066 69.634063 \r\nL 336.156049 51.031827 \r\nL 337.275033 57.754977 \r\nL 338.394017 90.736667 \r\nL 339.513001 102.627219 \r\nL 340.631985 82.022 \r\nL 341.750969 53.546032 \r\nL 342.869953 52.194328 \r\nL 343.988937 68.914324 \r\nL 345.107921 78.04359 \r\nL 346.226905 79.76549 \r\nL 347.345889 84.944874 \r\nL 348.464873 63.645494 \r\nL 349.583857 56.183899 \r\nL 350.702841 77.45831 \r\nL 351.821825 91.096978 \r\nL 352.940809 81.035442 \r\nL 354.059793 52.897339 \r\nL 355.178777 64.270616 \r\nL 356.297761 77.163511 \r\nL 357.416745 69.196229 \r\nL 358.535729 52.999438 \r\nL 360.773697 73.317339 \r\nL 361.89268 72.799395 \r\nL 363.011664 65.818397 \r\nL 364.130648 68.142335 \r\nL 366.368616 50.712514 \r\nL 367.4876 63.751364 \r\nL 368.606584 56.31112 \r\nL 369.725568 50.590494 \r\nL 369.725568 50.590494 \r\n\" style=\"fill:none;stroke:#ff7f0e;stroke-linecap:square;stroke-width:1.5;\"/>\r\n   </g>\r\n   <g id=\"patch_3\">\r\n    <path d=\"M 50.14375 239.758125 \r\nL 50.14375 22.318125 \r\n\" style=\"fill:none;stroke:#000000;stroke-linecap:square;stroke-linejoin:miter;stroke-width:0.8;\"/>\r\n   </g>\r\n   <g id=\"patch_4\">\r\n    <path d=\"M 384.94375 239.758125 \r\nL 384.94375 22.318125 \r\n\" style=\"fill:none;stroke:#000000;stroke-linecap:square;stroke-linejoin:miter;stroke-width:0.8;\"/>\r\n   </g>\r\n   <g id=\"patch_5\">\r\n    <path d=\"M 50.14375 239.758125 \r\nL 384.94375 239.758125 \r\n\" style=\"fill:none;stroke:#000000;stroke-linecap:square;stroke-linejoin:miter;stroke-width:0.8;\"/>\r\n   </g>\r\n   <g id=\"patch_6\">\r\n    <path d=\"M 50.14375 22.318125 \r\nL 384.94375 22.318125 \r\n\" style=\"fill:none;stroke:#000000;stroke-linecap:square;stroke-linejoin:miter;stroke-width:0.8;\"/>\r\n   </g>\r\n   <g id=\"text_17\">\r\n    <!-- Model loss -->\r\n    <g transform=\"translate(186.031563 16.318125)scale(0.12 -0.12)\">\r\n     <defs>\r\n      <path d=\"M 9.8125 72.90625 \r\nL 24.515625 72.90625 \r\nL 43.109375 23.296875 \r\nL 61.8125 72.90625 \r\nL 76.515625 72.90625 \r\nL 76.515625 0 \r\nL 66.890625 0 \r\nL 66.890625 64.015625 \r\nL 48.09375 14.015625 \r\nL 38.1875 14.015625 \r\nL 19.390625 64.015625 \r\nL 19.390625 0 \r\nL 9.8125 0 \r\nz\r\n\" id=\"DejaVuSans-77\"/>\r\n      <path d=\"M 45.40625 46.390625 \r\nL 45.40625 75.984375 \r\nL 54.390625 75.984375 \r\nL 54.390625 0 \r\nL 45.40625 0 \r\nL 45.40625 8.203125 \r\nQ 42.578125 3.328125 38.25 0.953125 \r\nQ 33.9375 -1.421875 27.875 -1.421875 \r\nQ 17.96875 -1.421875 11.734375 6.484375 \r\nQ 5.515625 14.40625 5.515625 27.296875 \r\nQ 5.515625 40.1875 11.734375 48.09375 \r\nQ 17.96875 56 27.875 56 \r\nQ 33.9375 56 38.25 53.625 \r\nQ 42.578125 51.265625 45.40625 46.390625 \r\nz\r\nM 14.796875 27.296875 \r\nQ 14.796875 17.390625 18.875 11.75 \r\nQ 22.953125 6.109375 30.078125 6.109375 \r\nQ 37.203125 6.109375 41.296875 11.75 \r\nQ 45.40625 17.390625 45.40625 27.296875 \r\nQ 45.40625 37.203125 41.296875 42.84375 \r\nQ 37.203125 48.484375 30.078125 48.484375 \r\nQ 22.953125 48.484375 18.875 42.84375 \r\nQ 14.796875 37.203125 14.796875 27.296875 \r\nz\r\n\" id=\"DejaVuSans-100\"/>\r\n      <path d=\"M 56.203125 29.59375 \r\nL 56.203125 25.203125 \r\nL 14.890625 25.203125 \r\nQ 15.484375 15.921875 20.484375 11.0625 \r\nQ 25.484375 6.203125 34.421875 6.203125 \r\nQ 39.59375 6.203125 44.453125 7.46875 \r\nQ 49.3125 8.734375 54.109375 11.28125 \r\nL 54.109375 2.78125 \r\nQ 49.265625 0.734375 44.1875 -0.34375 \r\nQ 39.109375 -1.421875 33.890625 -1.421875 \r\nQ 20.796875 -1.421875 13.15625 6.1875 \r\nQ 5.515625 13.8125 5.515625 26.8125 \r\nQ 5.515625 40.234375 12.765625 48.109375 \r\nQ 20.015625 56 32.328125 56 \r\nQ 43.359375 56 49.78125 48.890625 \r\nQ 56.203125 41.796875 56.203125 29.59375 \r\nz\r\nM 47.21875 32.234375 \r\nQ 47.125 39.59375 43.09375 43.984375 \r\nQ 39.0625 48.390625 32.421875 48.390625 \r\nQ 24.90625 48.390625 20.390625 44.140625 \r\nQ 15.875 39.890625 15.1875 32.171875 \r\nz\r\n\" id=\"DejaVuSans-101\"/>\r\n      <path d=\"M 9.421875 75.984375 \r\nL 18.40625 75.984375 \r\nL 18.40625 0 \r\nL 9.421875 0 \r\nz\r\n\" id=\"DejaVuSans-108\"/>\r\n      <path id=\"DejaVuSans-32\"/>\r\n     </defs>\r\n     <use xlink:href=\"#DejaVuSans-77\"/>\r\n     <use x=\"86.279297\" xlink:href=\"#DejaVuSans-111\"/>\r\n     <use x=\"147.460938\" xlink:href=\"#DejaVuSans-100\"/>\r\n     <use x=\"210.9375\" xlink:href=\"#DejaVuSans-101\"/>\r\n     <use x=\"272.460938\" xlink:href=\"#DejaVuSans-108\"/>\r\n     <use x=\"300.244141\" xlink:href=\"#DejaVuSans-32\"/>\r\n     <use x=\"332.03125\" xlink:href=\"#DejaVuSans-108\"/>\r\n     <use x=\"359.814453\" xlink:href=\"#DejaVuSans-111\"/>\r\n     <use x=\"420.996094\" xlink:href=\"#DejaVuSans-115\"/>\r\n     <use x=\"473.095703\" xlink:href=\"#DejaVuSans-115\"/>\r\n    </g>\r\n   </g>\r\n   <g id=\"legend_1\">\r\n    <g id=\"patch_7\">\r\n     <path d=\"M 57.14375 59.674375 \r\nL 138.525 59.674375 \r\nQ 140.525 59.674375 140.525 57.674375 \r\nL 140.525 29.318125 \r\nQ 140.525 27.318125 138.525 27.318125 \r\nL 57.14375 27.318125 \r\nQ 55.14375 27.318125 55.14375 29.318125 \r\nL 55.14375 57.674375 \r\nQ 55.14375 59.674375 57.14375 59.674375 \r\nz\r\n\" style=\"fill:#ffffff;opacity:0.8;stroke:#cccccc;stroke-linejoin:miter;\"/>\r\n    </g>\r\n    <g id=\"line2d_17\">\r\n     <path d=\"M 59.14375 35.416562 \r\nL 79.14375 35.416562 \r\n\" style=\"fill:none;stroke:#1f77b4;stroke-linecap:square;stroke-width:1.5;\"/>\r\n    </g>\r\n    <g id=\"line2d_18\"/>\r\n    <g id=\"text_18\">\r\n     <!-- Train -->\r\n     <g transform=\"translate(87.14375 38.916562)scale(0.1 -0.1)\">\r\n      <defs>\r\n       <path d=\"M -0.296875 72.90625 \r\nL 61.375 72.90625 \r\nL 61.375 64.59375 \r\nL 35.5 64.59375 \r\nL 35.5 0 \r\nL 25.59375 0 \r\nL 25.59375 64.59375 \r\nL -0.296875 64.59375 \r\nz\r\n\" id=\"DejaVuSans-84\"/>\r\n       <path d=\"M 41.109375 46.296875 \r\nQ 39.59375 47.171875 37.8125 47.578125 \r\nQ 36.03125 48 33.890625 48 \r\nQ 26.265625 48 22.1875 43.046875 \r\nQ 18.109375 38.09375 18.109375 28.8125 \r\nL 18.109375 0 \r\nL 9.078125 0 \r\nL 9.078125 54.6875 \r\nL 18.109375 54.6875 \r\nL 18.109375 46.1875 \r\nQ 20.953125 51.171875 25.484375 53.578125 \r\nQ 30.03125 56 36.53125 56 \r\nQ 37.453125 56 38.578125 55.875 \r\nQ 39.703125 55.765625 41.0625 55.515625 \r\nz\r\n\" id=\"DejaVuSans-114\"/>\r\n       <path d=\"M 34.28125 27.484375 \r\nQ 23.390625 27.484375 19.1875 25 \r\nQ 14.984375 22.515625 14.984375 16.5 \r\nQ 14.984375 11.71875 18.140625 8.90625 \r\nQ 21.296875 6.109375 26.703125 6.109375 \r\nQ 34.1875 6.109375 38.703125 11.40625 \r\nQ 43.21875 16.703125 43.21875 25.484375 \r\nL 43.21875 27.484375 \r\nz\r\nM 52.203125 31.203125 \r\nL 52.203125 0 \r\nL 43.21875 0 \r\nL 43.21875 8.296875 \r\nQ 40.140625 3.328125 35.546875 0.953125 \r\nQ 30.953125 -1.421875 24.3125 -1.421875 \r\nQ 15.921875 -1.421875 10.953125 3.296875 \r\nQ 6 8.015625 6 15.921875 \r\nQ 6 25.140625 12.171875 29.828125 \r\nQ 18.359375 34.515625 30.609375 34.515625 \r\nL 43.21875 34.515625 \r\nL 43.21875 35.40625 \r\nQ 43.21875 41.609375 39.140625 45 \r\nQ 35.0625 48.390625 27.6875 48.390625 \r\nQ 23 48.390625 18.546875 47.265625 \r\nQ 14.109375 46.140625 10.015625 43.890625 \r\nL 10.015625 52.203125 \r\nQ 14.9375 54.109375 19.578125 55.046875 \r\nQ 24.21875 56 28.609375 56 \r\nQ 40.484375 56 46.34375 49.84375 \r\nQ 52.203125 43.703125 52.203125 31.203125 \r\nz\r\n\" id=\"DejaVuSans-97\"/>\r\n       <path d=\"M 9.421875 54.6875 \r\nL 18.40625 54.6875 \r\nL 18.40625 0 \r\nL 9.421875 0 \r\nz\r\nM 9.421875 75.984375 \r\nL 18.40625 75.984375 \r\nL 18.40625 64.59375 \r\nL 9.421875 64.59375 \r\nz\r\n\" id=\"DejaVuSans-105\"/>\r\n       <path d=\"M 54.890625 33.015625 \r\nL 54.890625 0 \r\nL 45.90625 0 \r\nL 45.90625 32.71875 \r\nQ 45.90625 40.484375 42.875 44.328125 \r\nQ 39.84375 48.1875 33.796875 48.1875 \r\nQ 26.515625 48.1875 22.3125 43.546875 \r\nQ 18.109375 38.921875 18.109375 30.90625 \r\nL 18.109375 0 \r\nL 9.078125 0 \r\nL 9.078125 54.6875 \r\nL 18.109375 54.6875 \r\nL 18.109375 46.1875 \r\nQ 21.34375 51.125 25.703125 53.5625 \r\nQ 30.078125 56 35.796875 56 \r\nQ 45.21875 56 50.046875 50.171875 \r\nQ 54.890625 44.34375 54.890625 33.015625 \r\nz\r\n\" id=\"DejaVuSans-110\"/>\r\n      </defs>\r\n      <use xlink:href=\"#DejaVuSans-84\"/>\r\n      <use x=\"46.333984\" xlink:href=\"#DejaVuSans-114\"/>\r\n      <use x=\"87.447266\" xlink:href=\"#DejaVuSans-97\"/>\r\n      <use x=\"148.726562\" xlink:href=\"#DejaVuSans-105\"/>\r\n      <use x=\"176.509766\" xlink:href=\"#DejaVuSans-110\"/>\r\n     </g>\r\n    </g>\r\n    <g id=\"line2d_19\">\r\n     <path d=\"M 59.14375 50.094687 \r\nL 79.14375 50.094687 \r\n\" style=\"fill:none;stroke:#ff7f0e;stroke-linecap:square;stroke-width:1.5;\"/>\r\n    </g>\r\n    <g id=\"line2d_20\"/>\r\n    <g id=\"text_19\">\r\n     <!-- Validation -->\r\n     <g transform=\"translate(87.14375 53.594687)scale(0.1 -0.1)\">\r\n      <defs>\r\n       <path d=\"M 28.609375 0 \r\nL 0.78125 72.90625 \r\nL 11.078125 72.90625 \r\nL 34.1875 11.53125 \r\nL 57.328125 72.90625 \r\nL 67.578125 72.90625 \r\nL 39.796875 0 \r\nz\r\n\" id=\"DejaVuSans-86\"/>\r\n       <path d=\"M 18.3125 70.21875 \r\nL 18.3125 54.6875 \r\nL 36.8125 54.6875 \r\nL 36.8125 47.703125 \r\nL 18.3125 47.703125 \r\nL 18.3125 18.015625 \r\nQ 18.3125 11.328125 20.140625 9.421875 \r\nQ 21.96875 7.515625 27.59375 7.515625 \r\nL 36.8125 7.515625 \r\nL 36.8125 0 \r\nL 27.59375 0 \r\nQ 17.1875 0 13.234375 3.875 \r\nQ 9.28125 7.765625 9.28125 18.015625 \r\nL 9.28125 47.703125 \r\nL 2.6875 47.703125 \r\nL 2.6875 54.6875 \r\nL 9.28125 54.6875 \r\nL 9.28125 70.21875 \r\nz\r\n\" id=\"DejaVuSans-116\"/>\r\n      </defs>\r\n      <use xlink:href=\"#DejaVuSans-86\"/>\r\n      <use x=\"60.658203\" xlink:href=\"#DejaVuSans-97\"/>\r\n      <use x=\"121.9375\" xlink:href=\"#DejaVuSans-108\"/>\r\n      <use x=\"149.720703\" xlink:href=\"#DejaVuSans-105\"/>\r\n      <use x=\"177.503906\" xlink:href=\"#DejaVuSans-100\"/>\r\n      <use x=\"240.980469\" xlink:href=\"#DejaVuSans-97\"/>\r\n      <use x=\"302.259766\" xlink:href=\"#DejaVuSans-116\"/>\r\n      <use x=\"341.46875\" xlink:href=\"#DejaVuSans-105\"/>\r\n      <use x=\"369.251953\" xlink:href=\"#DejaVuSans-111\"/>\r\n      <use x=\"430.433594\" xlink:href=\"#DejaVuSans-110\"/>\r\n     </g>\r\n    </g>\r\n   </g>\r\n  </g>\r\n </g>\r\n <defs>\r\n  <clipPath id=\"pcfdcddefab\">\r\n   <rect height=\"217.44\" width=\"334.8\" x=\"50.14375\" y=\"22.318125\"/>\r\n  </clipPath>\r\n </defs>\r\n</svg>\r\n",
      "image/png": "[encoded data removed]"
     },
     "metadata": {
      "needs_background": "light"
     }
    }
   ],
   "source": [
    "# Plot training & validation accuracy values\n",
    "plt.plot(history.history['accuracy'])\n",
    "plt.plot(history.history['val_accuracy'])\n",
    "plt.title('Model accuracy')\n",
    "plt.ylabel('Accuracy')\n",
    "plt.xlabel('Epoch')\n",
    "plt.legend(['Train', 'Validation'], loc='upper left')\n",
    "plt.show()\n",
    "\n",
    "# Plot training & validation loss values\n",
    "plt.plot(history.history['loss'])\n",
    "plt.plot(history.history['val_loss'])\n",
    "plt.title('Model loss')\n",
    "plt.ylabel('Loss')\n",
    "plt.xlabel('Epoch')\n",
    "plt.legend(['Train', 'Validation'], loc='upper left')\n",
    "plt.show()"
   ]
  },
  {
   "cell_type": "code",
   "execution_count": 181,
   "metadata": {
    "tags": []
   },
   "outputs": [
    {
     "output_type": "stream",
     "name": "stdout",
     "text": "\nTest input data (desired Ra):\n\n[0.21]\n\nTrue test output data (RPM, Feed, DOC):\n\n[1100.      0.05    0.4 ]\n\nPredicted output data (RPM, Feed, DOC):\n\n[[1154.65547504    0.04879373    0.34499913]]\n"
    }
   ],
   "source": [
    "# Standard prediction on validation\n",
    "prediction = best_model.predict(test_features_Standard)\n",
    "test_prediction = np.concatenate([prediction, test_features_Standard], axis=1)\n",
    "test = StandardScaler.inverse_transform(test_prediction)\n",
    "# compare\n",
    "print('\\nTest input data (desired Ra):\\n\\n', test[:, 3])\n",
    "print('\\nTrue test output data (RPM, Feed, DOC):\\n\\n', np_data[27, 0:3])\n",
    "print('\\nPredicted output data (RPM, Feed, DOC):\\n\\n', test[:, 0:3])"
   ]
  },
  {
   "cell_type": "code",
   "execution_count": 167,
   "metadata": {
    "tags": []
   },
   "outputs": [
    {
     "output_type": "stream",
     "name": "stdout",
     "text": "\nPercent Errors:\n\nRPM :4.968679548691337\nFeed rate :2.412537801928169\nDepth of cut :13.750216271323849\nAverage :7.043811207314452\n"
    }
   ],
   "source": [
    "\n",
    "\n",
    "Standard_rpm_error = ((np_data[27, 0:3][0] - test[0][0])/np_data[27, 0:3][0])*100\n",
    "Standard_feed_error = ((np_data[27, 0:3][1] - test[0][1])/np_data[27, 0:3][1])*100\n",
    "Standard_doc_error = ((np_data[27, 0:3][2] - test[0][2])/np_data[27, 0:3][2])*100\n",
    "Standard_average_error = (np.absolute(Standard_rpm_error) + np.absolute(Standard_feed_error) + np.absolute(Standard_doc_error)) / 3\n",
    "\n",
    "print('\\nPercent Errors:\\n')\n",
    "print('RPM : ', np.absolute(Standard_rpm_error))\n",
    "print('Feed rate : ', np.absolute(Standard_feed_error))\n",
    "print('Depth of cut : ', np.absolute(Standard_doc_error))\n",
    "print('Average : ', Standard_average_error)\n",
    "\n"
   ]
  }
 ],
 "metadata": {
  "kernelspec": {
   "display_name": "Python 3",
   "language": "python",
   "name": "python3"
  },
  "language_info": {
   "codemirror_mode": {
    "name": "ipython",
    "version": 3
   },
   "file_extension": ".py",
   "mimetype": "text/x-python",
   "name": "python",
   "nbconvert_exporter": "python",
   "pygments_lexer": "ipython3",
   "version": "3.8.5-final"
  }
 },
 "nbformat": 4,
 "nbformat_minor": 2
}