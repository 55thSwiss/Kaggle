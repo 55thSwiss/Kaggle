{
 "cells": [
  {
   "cell_type": "code",
   "execution_count": 91,
   "metadata": {
    "tags": []
   },
   "outputs": [
    {
     "output_type": "execute_result",
     "data": {
      "text/plain": "<contextlib._GeneratorContextManager at 0x12c53d8ea90>"
     },
     "metadata": {},
     "execution_count": 91
    }
   ],
   "source": [
    "import numpy as np\n",
    "import pandas as pd\n",
    "import sklearn\n",
    "\n",
    "from sklearn.preprocessing import MinMaxScaler\n",
    "from sklearn.preprocessing import StandardScaler\n",
    "from sklearn.linear_model import LinearRegression\n",
    "from sklearn.neighbors import KNeighborsRegressor\n",
    "from sklearn.tree import DecisionTreeRegressor\n",
    "from sklearn.ensemble import RandomForestRegressor\n",
    "from sklearn.model_selection import train_test_split\n",
    "from sklearn.metrics import r2_score\n",
    "from sklearn.model_selection import GridSearchCV\n",
    "from sklearn.pipeline import Pipeline\n",
    "\n",
    "# # suppress NumPy arrays scientific notation and round decimals to three places\n",
    "np.set_printoptions(suppress=True)\n",
    "np.printoptions(precision=3, suppress=True)"
   ]
  },
  {
   "cell_type": "code",
   "execution_count": 92,
   "metadata": {},
   "outputs": [],
   "source": [
    "df = pd.read_csv('data.txt', delim_whitespace=True, encoding='ISO-8859-1')\n",
    "x = df[['MRR(mm3/min)', 'Ra(µm)']]\n",
    "y = df.drop(['Sr._No.', 'MRR(mm3/min)', 'Ra(µm)'], axis=1)"
   ]
  },
  {
   "cell_type": "code",
   "execution_count": 93,
   "metadata": {},
   "outputs": [],
   "source": [
    "dtr_steps = [('standard_scaler', StandardScaler()), ('dtr', DecisionTreeRegressor())]\n",
    "dtr_pipeline = Pipeline(dtr_steps)"
   ]
  },
  {
   "cell_type": "code",
   "execution_count": 94,
   "metadata": {},
   "outputs": [],
   "source": [
    "x_train, x_test, y_train, y_test = train_test_split(x, y, test_size=0.2, random_state=0, stratify=None)"
   ]
  },
  {
   "cell_type": "code",
   "execution_count": 95,
   "metadata": {},
   "outputs": [
    {
     "output_type": "execute_result",
     "data": {
      "text/plain": "    MRR(mm3/min)  Ra(µm)\n26       7518.86    1.82\n20       2582.46    0.38\n13       3092.37    0.82\n24       2549.20    1.75\n5        1727.36    1.10\n17       6508.93    2.03\n8        2797.84    2.17\n30       5247.47    1.49\n25       5055.49    1.89\n23       5149.90    1.11\n1         609.76    0.47\n31       4908.30    1.40\n6         943.34    1.63\n4        1158.73    0.90\n18        875.13    0.29\n29       6324.21    1.98\n19       1735.95    0.37\n9         793.04    0.38\n7        1875.96    1.76\n27       1106.51    0.21\n3         582.94    0.80\n0         306.67    0.36\n21       1745.24    0.82\n15       2196.85    1.92\n12       1555.25    0.81",
      "text/html": "<div>\n<style scoped>\n    .dataframe tbody tr th:only-of-type {\n        vertical-align: middle;\n    }\n\n    .dataframe tbody tr th {\n        vertical-align: top;\n    }\n\n    .dataframe thead th {\n        text-align: right;\n    }\n</style>\n<table border=\"1\" class=\"dataframe\">\n  <thead>\n    <tr style=\"text-align: right;\">\n      <th></th>\n      <th>MRR(mm3/min)</th>\n      <th>Ra(µm)</th>\n    </tr>\n  </thead>\n  <tbody>\n    <tr>\n      <th>26</th>\n      <td>7518.86</td>\n      <td>1.82</td>\n    </tr>\n    <tr>\n      <th>20</th>\n      <td>2582.46</td>\n      <td>0.38</td>\n    </tr>\n    <tr>\n      <th>13</th>\n      <td>3092.37</td>\n      <td>0.82</td>\n    </tr>\n    <tr>\n      <th>24</th>\n      <td>2549.20</td>\n      <td>1.75</td>\n    </tr>\n    <tr>\n      <th>5</th>\n      <td>1727.36</td>\n      <td>1.10</td>\n    </tr>\n    <tr>\n      <th>17</th>\n      <td>6508.93</td>\n      <td>2.03</td>\n    </tr>\n    <tr>\n      <th>8</th>\n      <td>2797.84</td>\n      <td>2.17</td>\n    </tr>\n    <tr>\n      <th>30</th>\n      <td>5247.47</td>\n      <td>1.49</td>\n    </tr>\n    <tr>\n      <th>25</th>\n      <td>5055.49</td>\n      <td>1.89</td>\n    </tr>\n    <tr>\n      <th>23</th>\n      <td>5149.90</td>\n      <td>1.11</td>\n    </tr>\n    <tr>\n      <th>1</th>\n      <td>609.76</td>\n      <td>0.47</td>\n    </tr>\n    <tr>\n      <th>31</th>\n      <td>4908.30</td>\n      <td>1.40</td>\n    </tr>\n    <tr>\n      <th>6</th>\n      <td>943.34</td>\n      <td>1.63</td>\n    </tr>\n    <tr>\n      <th>4</th>\n      <td>1158.73</td>\n      <td>0.90</td>\n    </tr>\n    <tr>\n      <th>18</th>\n      <td>875.13</td>\n      <td>0.29</td>\n    </tr>\n    <tr>\n      <th>29</th>\n      <td>6324.21</td>\n      <td>1.98</td>\n    </tr>\n    <tr>\n      <th>19</th>\n      <td>1735.95</td>\n      <td>0.37</td>\n    </tr>\n    <tr>\n      <th>9</th>\n      <td>793.04</td>\n      <td>0.38</td>\n    </tr>\n    <tr>\n      <th>7</th>\n      <td>1875.96</td>\n      <td>1.76</td>\n    </tr>\n    <tr>\n      <th>27</th>\n      <td>1106.51</td>\n      <td>0.21</td>\n    </tr>\n    <tr>\n      <th>3</th>\n      <td>582.94</td>\n      <td>0.80</td>\n    </tr>\n    <tr>\n      <th>0</th>\n      <td>306.67</td>\n      <td>0.36</td>\n    </tr>\n    <tr>\n      <th>21</th>\n      <td>1745.24</td>\n      <td>0.82</td>\n    </tr>\n    <tr>\n      <th>15</th>\n      <td>2196.85</td>\n      <td>1.92</td>\n    </tr>\n    <tr>\n      <th>12</th>\n      <td>1555.25</td>\n      <td>0.81</td>\n    </tr>\n  </tbody>\n</table>\n</div>"
     },
     "metadata": {},
     "execution_count": 95
    }
   ],
   "source": [
    "x_train"
   ]
  },
  {
   "cell_type": "code",
   "execution_count": 96,
   "metadata": {},
   "outputs": [],
   "source": [
    "dtr_parameteres = {'dtr__criterion': ['mse','friedman_mse'],\n",
    "               'dtr__splitter': ['best', 'random'],\n",
    "               'dtr__min_weight_fraction_leaf': [0.0, 0.1, 0.5, 1.0, 2.0],\n",
    "               'dtr__max_features': ['auto', 'sqrt', 'log2']}"
   ]
  },
  {
   "cell_type": "code",
   "execution_count": 97,
   "metadata": {},
   "outputs": [],
   "source": [
    "grid = GridSearchCV(dtr_pipeline, param_grid=dtr_parameteres, cv=None)"
   ]
  },
  {
   "cell_type": "code",
   "execution_count": 98,
   "metadata": {
    "tags": []
   },
   "outputs": [
    {
     "output_type": "stream",
     "name": "stdout",
     "text": "score = -0.38\n{'dtr__criterion': 'friedman_mse', 'dtr__max_features': 'log2', 'dtr__min_weight_fraction_leaf': 0.0, 'dtr__splitter': 'random'}\n"
    }
   ],
   "source": [
    "grid.fit(x_train, y_train)\n",
    "y_pred = grid.predict(x_test)\n",
    "print(\"score = %3.2f\" % (grid.score(x_test, y_test)))\n",
    "print(grid.best_params_)"
   ]
  },
  {
   "cell_type": "code",
   "execution_count": 99,
   "metadata": {
    "tags": []
   },
   "outputs": [
    {
     "output_type": "stream",
     "name": "stdout",
     "text": "MRR(mm3/min)  Ra(µm)\n11       2351.92    0.54\n22       3461.88    0.79\n10       1577.02    0.48\n2         909.28    0.52\n16       4366.50    1.91\n14       4611.35    0.97\n28       2130.54    0.31\n    Spindle_speed(rpm)  Feed_rate(mm/rev)  Depth_of_cut(mm)\n11                 710             0.0508              1.20\n22                1120             0.1016              0.80\n10                 710             0.0508              0.80\n2                  280             0.0508              1.20\n16                 710             0.1524              0.80\n14                 710             0.1016              1.20\n28                1100             0.0500              0.69\n[[1120.        0.0508    1.2   ]\n [ 710.        0.1016    0.8   ]\n [ 710.        0.1016    0.4   ]\n [ 280.        0.0508    0.8   ]\n [ 280.        0.1524    1.2   ]\n [ 710.        0.1016    0.8   ]\n [1120.        0.0508    1.2   ]]\n"
    }
   ],
   "source": [
    "print(x_test)\n",
    "print(y_test)\n",
    "print(y_pred)"
   ]
  },
  {
   "cell_type": "markdown",
   "metadata": {},
   "source": [
    "google \"decisiontreeregressor pipeline example\""
   ]
  },
  {
   "cell_type": "code",
   "execution_count": 100,
   "metadata": {
    "tags": []
   },
   "outputs": [
    {
     "output_type": "execute_result",
     "data": {
      "text/plain": "-0.33598138814937756"
     },
     "metadata": {},
     "execution_count": 100
    }
   ],
   "source": [
    "from sklearn.metrics import explained_variance_score\n",
    "explained_variance_score(y_test, y_pred)"
   ]
  },
  {
   "cell_type": "code",
   "execution_count": 101,
   "metadata": {},
   "outputs": [
    {
     "output_type": "execute_result",
     "data": {
      "text/plain": "60.5791238095238"
     },
     "metadata": {},
     "execution_count": 101
    }
   ],
   "source": [
    "from sklearn.metrics import mean_absolute_error\n",
    "mean_absolute_error(y_test, y_pred)"
   ]
  },
  {
   "cell_type": "code",
   "execution_count": 102,
   "metadata": {},
   "outputs": [
    {
     "output_type": "execute_result",
     "data": {
      "text/plain": "24833.37631815619"
     },
     "metadata": {},
     "execution_count": 102
    }
   ],
   "source": [
    "from sklearn.metrics import mean_squared_error\n",
    "mean_squared_error(y_test, y_pred) "
   ]
  },
  {
   "cell_type": "code",
   "execution_count": 103,
   "metadata": {},
   "outputs": [
    {
     "output_type": "execute_result",
     "data": {
      "text/plain": "-0.37805337090279284"
     },
     "metadata": {},
     "execution_count": 103
    }
   ],
   "source": [
    "from sklearn.metrics import r2_score\n",
    "r2_score(y_test, y_pred)"
   ]
  }
 ],
 "metadata": {
  "kernelspec": {
   "display_name": "Python 3",
   "language": "python",
   "name": "python3"
  },
  "language_info": {
   "codemirror_mode": {
    "name": "ipython",
    "version": 3
   },
   "file_extension": ".py",
   "mimetype": "text/x-python",
   "name": "python",
   "nbconvert_exporter": "python",
   "pygments_lexer": "ipython3",
   "version": "3.8.5-final"
  }
 },
 "nbformat": 4,
 "nbformat_minor": 2
}