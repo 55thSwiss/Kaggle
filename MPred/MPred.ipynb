{
 "cells": [
  {
   "cell_type": "markdown",
   "metadata": {},
   "source": [
    "# Kaggle - Mpred\n",
    "## Predicitive Maintenance Challenge\n",
    "### https://www.kaggle.com/c/mpred-datascience-challenge\n",
    "#### By: 55thSwiss\n"
   ]
  },
  {
   "cell_type": "markdown",
   "metadata": {},
   "source": [
    "## Introduction\n",
    "\n",
    "A major problem faced by businesses in asset-heavy industries such as manufacturing is the significant \n",
    "costs that are associated with delays in the production process due to mechanical problems. Most of these \n",
    "businesses are interested in predicting these problems in advance so that they can proactively prevent the \n",
    "problems before they occur which will reduce the costly impact caused by downtime.\n",
    "\n",
    "The business problem for this example is about predicting problems caused by component failures such that \n",
    "the question “What is the probability that a machine will fail in the near future due to a failure of a \n",
    "certain component” can be answered. The problem is formatted as a multi-class classification problem and \n",
    "a machine learning algorithm is used to create the predictive model that learns from historical data collected \n",
    "from machines.\n",
    "\n",
    "The goal is to predict when a given machine will fail within 24 hours due to a failure of a given component ."
   ]
  },
  {
   "cell_type": "markdown",
   "metadata": {},
   "source": [
    "## Sources\n",
    "\n",
    "Please refer to the playbook [1] for predictive maintenance for a detailed explanation of common use cases \n",
    "in predictive maintenance and modelling approaches.\n",
    "\n",
    "Original data set can be found at [2]\n",
    "\n",
    "[1] https://docs.microsoft.com/fr-fr/azure/machine-learning/team-data-science-process/cortana-analytics-playbook-predictive-maintenance\n",
    "\n",
    "[2] https://www.kaggle.com/yuansaijie0604/xinjiang-pm/data"
   ]
  },
  {
   "cell_type": "markdown",
   "metadata": {},
   "source": [
    "## Data Description\n",
    "\n",
    "In this competition, you are asked to estimate the probability that a machine will fail in the near future due to a \n",
    "failure of a certain component. More specifically, the goal is to compute the probability that a machine will fail in \n",
    "the next 24 hours due to a certain component failure (component 1,2,3 or 4) hence you are asked to classify the \n",
    "observations into 5 categories : comp1, comp2,comp3,comp4 and none (e.g : The machine will fail due to \n",
    "component 1... 4 or will not fail in the next 24h)."
   ]
  },
  {
   "cell_type": "markdown",
   "metadata": {},
   "source": [
    "## TRAIN/SPLIT\n",
    "\n",
    "The data is made of 5 different data set : Errors, Failures, Machines features, Maintenance history and Telemetry which contains the historical data collected from 100 different machines\n",
    "\n",
    "The training set contains the data of 70 machines while the test set contains the data of the 30 remaining machines\n",
    "\n",
    "The data is collected every hour for a year. For simplicity, you are asked to group the data into 3 hours windows."
   ]
  },
  {
   "cell_type": "markdown",
   "metadata": {},
   "source": [
    "## File descriptions\n",
    "\n",
    "__telemetry.csv__ The first data source is the telemetry time-series data which consists of voltage, rotation, pressure and vibration measurements collected from 70 machines in real time averaged over every hour collected during the year 2015\n",
    "\n",
    "__errors.csv__ The errors logs are non-breaking errors thrown while the machine is still operational and do not constitute as failures. The error date and times are rounded to the closest hour since the telemetry data is collected at an hourly rate.\n",
    "\n",
    "__maint.csv__ This file contains the scheduled and unscheduled maintenance records which correspond to both regular inspection of components as well as failures. A record is generated if a component is replaced during the scheduled inspection or replaced due to a break down. The records that are created due to break downs will be called failures which is explained in the later sections. Maintenance data has both 2014 and 2015 records.\n",
    "\n",
    "__machines.csv__ This data set includes some information about the machines which are model type and years in service.\n",
    "\n",
    "__failures.csv__ These are the records of component replacements due to failures. Each record has a date and time, machine ID and failed component type."
   ]
  },
  {
   "cell_type": "markdown",
   "metadata": {},
   "source": [
    "## Data fields\n",
    "\n",
    "__volt, rotate, pressure, vibration__ Voltage, rotation, pressure and vibration measurements collected from the machines\n",
    "\n",
    "__machineID__ The ID of a machine\n",
    "\n",
    "__datetime__ The date\n",
    "\n",
    "__errorID__ The ID of an error\n",
    "\n",
    "__comp__ The component replaced during the scheduled maintenance\n",
    "\n",
    "__model__ Model of the machine\n",
    "\n",
    "__age__ Years in service\n",
    "\n",
    "__errorID__ The ID of an error\n",
    "\n",
    "__failure__ Failed component type"
   ]
  },
  {
   "cell_type": "markdown",
   "metadata": {},
   "source": [
    "### First assessment\n",
    "There has been a problem defined that forms the objective of the project and we've also been given the data to work with. Typically this would be steps one __(1)__ and two __(2)__ respectively, gaining an understanding of the business and defining the problem (an absolute precursor to deciding requirements and method of solution) as well as collecting the data, in this case from the manufacturing floor."
   ]
  },
  {
   "cell_type": "markdown",
   "metadata": {},
   "source": [
    "### Wrangling or preparing the data for consumption\n",
    "There are a few requirements from the introduction on the formatting of the data and how it should be proceesed. In this step the data will be formatted as well as examined for it's architecture in regards to storage and processing, and an initial cleaning for aberrant, missing, duplicate, or outlier data points within each dataset. This is a good point to determine possible independent and dependent variables.  If a key feature has been identified, the dataframes will be easily concatenated, otherwise it will be done \"manually\". Lastly, the cumulative dataframe can be split into training, test, and validation tables. "
   ]
  },
  {
   "cell_type": "code",
   "execution_count": 1671,
   "metadata": {},
   "outputs": [],
   "source": [
    "#libraries\n",
    "import sys\n",
    "import os\n",
    "import pandas as pd \n",
    "import numpy as np\n",
    "import matplotlib as mpl\n",
    "import matplotlib.pyplot as plt\n",
    "import matplotlib.pylab as pylab\n",
    "import matplotlib.ticker as ticker\n",
    "import seaborn as sns\n",
    "import sklearn\n",
    "from sklearn.preprocessing import minmax_scale\n",
    "import datetime\n",
    "import warnings\n",
    "warnings.filterwarnings('ignore')\n",
    "\n",
    "#vizualization defaults\n",
    "%matplotlib inline\n",
    "mpl.style.use('ggplot')\n",
    "sns.set_style('white')\n",
    "pylab.rcParams['figure.figsize'] = 12,8"
   ]
  },
  {
   "cell_type": "markdown",
   "metadata": {},
   "source": [
    "The first dataset I tried looking at was telemetry.csv, but an error kicked up when loading the CSV:\n",
    "\n",
    "```ParserError: Error tokenizing data. C error: Expected 6 fields in line 92490, saw 9```\n",
    "\n",
    "This likely kicked up from missing information, meaning cells that were void of any value. Opening in a spreadsheet editor like Excel often fixes this by replacing the empty cells with a NaN status. "
   ]
  },
  {
   "cell_type": "code",
   "execution_count": 1672,
   "metadata": {},
   "outputs": [],
   "source": [
    "#import data\n",
    "sensorData = pd.read_csv('PdM_telemetry.csv')\n",
    "maintenanceData = pd.read_csv('PdM_maint.csv')\n",
    "originsData = pd.read_csv('PdM_machines.csv')\n",
    "failureData = pd.read_csv('PdM_failures.csv')\n",
    "errorData = pd.read_csv('PdM_errors.csv')"
   ]
  },
  {
   "cell_type": "markdown",
   "metadata": {},
   "source": [
    "We'll do a first run through starting with 'telemetry.csv' since this is the largest dataset, then finish up the rest quickly. After opening the csv in Excel we're able to import it into the notebook but it has three columns of entirely null values. I've confirmed this is just an anomaly and the csv is infact empty in those columns (seems to be a formatting error, one row contained a shifted column heading in the data cells), they will be dropped. "
   ]
  },
  {
   "cell_type": "markdown",
   "metadata": {},
   "source": [
    "### Telemetry Data:\n",
    "\n",
    "This is is going to be the most valuable dataset inidivudally, as it contains a vast amount of sensor readings from one hundred different machines. This will probably be the foundation dataset for merging."
   ]
  },
  {
   "cell_type": "code",
   "execution_count": 1673,
   "metadata": {},
   "outputs": [
    {
     "name": "stdout",
     "output_type": "stream",
     "text": [
      "<class 'pandas.core.frame.DataFrame'>\n",
      "RangeIndex: 968589 entries, 0 to 968588\n",
      "Data columns (total 9 columns):\n",
      "datetime      968589 non-null object\n",
      "machineID     968589 non-null int64\n",
      "volt          968589 non-null float64\n",
      "rotate        968589 non-null object\n",
      "pressure      968589 non-null object\n",
      "vibration     968589 non-null object\n",
      "Unnamed: 6    1 non-null object\n",
      "Unnamed: 7    1 non-null object\n",
      "Unnamed: 8    1 non-null object\n",
      "dtypes: float64(1), int64(1), object(7)\n",
      "memory usage: 66.5+ MB\n"
     ]
    }
   ],
   "source": [
    "#first look\n",
    "sensorData.info()"
   ]
  },
  {
   "cell_type": "code",
   "execution_count": 1674,
   "metadata": {},
   "outputs": [
    {
     "data": {
      "text/html": [
       "<div>\n",
       "<style scoped>\n",
       "    .dataframe tbody tr th:only-of-type {\n",
       "        vertical-align: middle;\n",
       "    }\n",
       "\n",
       "    .dataframe tbody tr th {\n",
       "        vertical-align: top;\n",
       "    }\n",
       "\n",
       "    .dataframe thead th {\n",
       "        text-align: right;\n",
       "    }\n",
       "</style>\n",
       "<table border=\"1\" class=\"dataframe\">\n",
       "  <thead>\n",
       "    <tr style=\"text-align: right;\">\n",
       "      <th></th>\n",
       "      <th>datetime</th>\n",
       "      <th>machineID</th>\n",
       "      <th>volt</th>\n",
       "      <th>rotate</th>\n",
       "      <th>pressure</th>\n",
       "      <th>vibration</th>\n",
       "      <th>Unnamed: 6</th>\n",
       "      <th>Unnamed: 7</th>\n",
       "      <th>Unnamed: 8</th>\n",
       "    </tr>\n",
       "  </thead>\n",
       "  <tbody>\n",
       "    <tr>\n",
       "      <th>111786</th>\n",
       "      <td>3/16/2015 5:00</td>\n",
       "      <td>3</td>\n",
       "      <td>158.368928</td>\n",
       "      <td>485.9563136</td>\n",
       "      <td>94.16405562</td>\n",
       "      <td>38.95860116</td>\n",
       "      <td>NaN</td>\n",
       "      <td>NaN</td>\n",
       "      <td>NaN</td>\n",
       "    </tr>\n",
       "    <tr>\n",
       "      <th>611</th>\n",
       "      <td>1/26/2015 17:00</td>\n",
       "      <td>1</td>\n",
       "      <td>211.744561</td>\n",
       "      <td>485.747</td>\n",
       "      <td>105.334</td>\n",
       "      <td>27.0481</td>\n",
       "      <td>NaN</td>\n",
       "      <td>NaN</td>\n",
       "      <td>NaN</td>\n",
       "    </tr>\n",
       "    <tr>\n",
       "      <th>445181</th>\n",
       "      <td>4/5/2015 2:00</td>\n",
       "      <td>41</td>\n",
       "      <td>181.503815</td>\n",
       "      <td>420.823</td>\n",
       "      <td>105.26</td>\n",
       "      <td>39.3768</td>\n",
       "      <td>NaN</td>\n",
       "      <td>NaN</td>\n",
       "      <td>NaN</td>\n",
       "    </tr>\n",
       "  </tbody>\n",
       "</table>\n",
       "</div>"
      ],
      "text/plain": [
       "               datetime  machineID        volt       rotate     pressure  \\\n",
       "111786   3/16/2015 5:00          3  158.368928  485.9563136  94.16405562   \n",
       "611     1/26/2015 17:00          1  211.744561      485.747      105.334   \n",
       "445181    4/5/2015 2:00         41  181.503815      420.823       105.26   \n",
       "\n",
       "          vibration Unnamed: 6 Unnamed: 7 Unnamed: 8  \n",
       "111786  38.95860116        NaN        NaN        NaN  \n",
       "611         27.0481        NaN        NaN        NaN  \n",
       "445181      39.3768        NaN        NaN        NaN  "
      ]
     },
     "execution_count": 1674,
     "metadata": {},
     "output_type": "execute_result"
    }
   ],
   "source": [
    "sensorData.sample(3)"
   ]
  },
  {
   "cell_type": "code",
   "execution_count": 1675,
   "metadata": {},
   "outputs": [
    {
     "name": "stdout",
     "output_type": "stream",
     "text": [
      "<class 'pandas.core.frame.DataFrame'>\n",
      "Int64Index: 968588 entries, 0 to 968588\n",
      "Data columns (total 6 columns):\n",
      "datetime     968588 non-null datetime64[ns]\n",
      "machineID    968588 non-null int64\n",
      "volt         968588 non-null float64\n",
      "rotate       968588 non-null float64\n",
      "pressure     968588 non-null float64\n",
      "vibration    968588 non-null float64\n",
      "dtypes: datetime64[ns](1), float64(4), int64(1)\n",
      "memory usage: 51.7 MB\n"
     ]
    }
   ],
   "source": [
    "# row index 92488 was the problem data from above, drop the row and clean up columns\n",
    "sensorData.drop(92488, inplace = True)\n",
    "sensorData.drop(['Unnamed: 6', 'Unnamed: 7', 'Unnamed: 8'], axis=1, inplace=True)\n",
    "sensorData['datetime'] = pd.to_datetime(sensorData['datetime'], infer_datetime_format = True)\n",
    "#the line below was working when 'sensorData' was 'telemetry', but after it started dropping 'datatime' and 'machineID'?\n",
    "#sensorData = sensorData.loc[:, ('rotate', 'pressure', 'vibration')] = sensorData.loc[:, ('rotate', 'pressure', 'vibration')].astype(dtype=float)\n",
    "sensorData['rotate'] = sensorData['rotate'].astype(float)\n",
    "sensorData['pressure'] = sensorData['pressure'].astype(float)\n",
    "sensorData['vibration'] = sensorData['vibration'].astype(float)\n",
    "sensorData.info()"
   ]
  },
  {
   "cell_type": "code",
   "execution_count": 1676,
   "metadata": {},
   "outputs": [
    {
     "data": {
      "text/html": [
       "<div>\n",
       "<style scoped>\n",
       "    .dataframe tbody tr th:only-of-type {\n",
       "        vertical-align: middle;\n",
       "    }\n",
       "\n",
       "    .dataframe tbody tr th {\n",
       "        vertical-align: top;\n",
       "    }\n",
       "\n",
       "    .dataframe thead th {\n",
       "        text-align: right;\n",
       "    }\n",
       "</style>\n",
       "<table border=\"1\" class=\"dataframe\">\n",
       "  <thead>\n",
       "    <tr style=\"text-align: right;\">\n",
       "      <th></th>\n",
       "      <th>machineID</th>\n",
       "      <th>volt</th>\n",
       "      <th>rotate</th>\n",
       "      <th>pressure</th>\n",
       "      <th>vibration</th>\n",
       "    </tr>\n",
       "  </thead>\n",
       "  <tbody>\n",
       "    <tr>\n",
       "      <th>count</th>\n",
       "      <td>968588.000000</td>\n",
       "      <td>968588.000000</td>\n",
       "      <td>968588.000000</td>\n",
       "      <td>968588.000000</td>\n",
       "      <td>968588.000000</td>\n",
       "    </tr>\n",
       "    <tr>\n",
       "      <th>mean</th>\n",
       "      <td>46.230764</td>\n",
       "      <td>170.774119</td>\n",
       "      <td>446.591205</td>\n",
       "      <td>100.841515</td>\n",
       "      <td>40.383648</td>\n",
       "    </tr>\n",
       "    <tr>\n",
       "      <th>std</th>\n",
       "      <td>30.450409</td>\n",
       "      <td>15.507488</td>\n",
       "      <td>52.701718</td>\n",
       "      <td>11.028763</td>\n",
       "      <td>5.366198</td>\n",
       "    </tr>\n",
       "    <tr>\n",
       "      <th>min</th>\n",
       "      <td>1.000000</td>\n",
       "      <td>97.333604</td>\n",
       "      <td>138.432075</td>\n",
       "      <td>51.237106</td>\n",
       "      <td>14.877054</td>\n",
       "    </tr>\n",
       "    <tr>\n",
       "      <th>25%</th>\n",
       "      <td>18.000000</td>\n",
       "      <td>160.298184</td>\n",
       "      <td>412.278255</td>\n",
       "      <td>93.492369</td>\n",
       "      <td>36.778303</td>\n",
       "    </tr>\n",
       "    <tr>\n",
       "      <th>50%</th>\n",
       "      <td>45.000000</td>\n",
       "      <td>170.597611</td>\n",
       "      <td>447.555368</td>\n",
       "      <td>100.414332</td>\n",
       "      <td>40.237433</td>\n",
       "    </tr>\n",
       "    <tr>\n",
       "      <th>75%</th>\n",
       "      <td>73.000000</td>\n",
       "      <td>181.006196</td>\n",
       "      <td>482.154486</td>\n",
       "      <td>107.535244</td>\n",
       "      <td>43.781329</td>\n",
       "    </tr>\n",
       "    <tr>\n",
       "      <th>max</th>\n",
       "      <td>100.000000</td>\n",
       "      <td>255.124717</td>\n",
       "      <td>695.020984</td>\n",
       "      <td>185.951998</td>\n",
       "      <td>76.791072</td>\n",
       "    </tr>\n",
       "  </tbody>\n",
       "</table>\n",
       "</div>"
      ],
      "text/plain": [
       "           machineID           volt         rotate       pressure  \\\n",
       "count  968588.000000  968588.000000  968588.000000  968588.000000   \n",
       "mean       46.230764     170.774119     446.591205     100.841515   \n",
       "std        30.450409      15.507488      52.701718      11.028763   \n",
       "min         1.000000      97.333604     138.432075      51.237106   \n",
       "25%        18.000000     160.298184     412.278255      93.492369   \n",
       "50%        45.000000     170.597611     447.555368     100.414332   \n",
       "75%        73.000000     181.006196     482.154486     107.535244   \n",
       "max       100.000000     255.124717     695.020984     185.951998   \n",
       "\n",
       "           vibration  \n",
       "count  968588.000000  \n",
       "mean       40.383648  \n",
       "std         5.366198  \n",
       "min        14.877054  \n",
       "25%        36.778303  \n",
       "50%        40.237433  \n",
       "75%        43.781329  \n",
       "max        76.791072  "
      ]
     },
     "execution_count": 1676,
     "metadata": {},
     "output_type": "execute_result"
    }
   ],
   "source": [
    "# check out some statistics on the dataset\n",
    "sensorData.describe()"
   ]
  },
  {
   "cell_type": "markdown",
   "metadata": {},
   "source": [
    "It looks like every feature has data points that are well outside three standard deviations of their respective mean. The outliers need to be looked at and dealt with if they're determined to be noise in the dataset, although these could be triggers corresponding to the failure mode in so they won't be removed just yet."
   ]
  },
  {
   "cell_type": "code",
   "execution_count": 1677,
   "metadata": {},
   "outputs": [
    {
     "data": {
      "text/plain": [
       "(968588, 6)"
      ]
     },
     "execution_count": 1677,
     "metadata": {},
     "output_type": "execute_result"
    }
   ],
   "source": [
    "sensorData.shape"
   ]
  },
  {
   "cell_type": "code",
   "execution_count": 1678,
   "metadata": {},
   "outputs": [],
   "source": [
    "# due to this dataset being so large, we're going to start organzing by date to \n",
    "# reduce the dataset into the three hour window as requested.\n",
    "sensorData.sort_values(by=['datetime'], inplace = True)"
   ]
  },
  {
   "cell_type": "code",
   "execution_count": 1679,
   "metadata": {
    "scrolled": true
   },
   "outputs": [
    {
     "data": {
      "text/html": [
       "<div>\n",
       "<style scoped>\n",
       "    .dataframe tbody tr th:only-of-type {\n",
       "        vertical-align: middle;\n",
       "    }\n",
       "\n",
       "    .dataframe tbody tr th {\n",
       "        vertical-align: top;\n",
       "    }\n",
       "\n",
       "    .dataframe thead th {\n",
       "        text-align: right;\n",
       "    }\n",
       "</style>\n",
       "<table border=\"1\" class=\"dataframe\">\n",
       "  <thead>\n",
       "    <tr style=\"text-align: right;\">\n",
       "      <th></th>\n",
       "      <th>datetime</th>\n",
       "      <th>machineID</th>\n",
       "      <th>volt</th>\n",
       "      <th>rotate</th>\n",
       "      <th>pressure</th>\n",
       "      <th>vibration</th>\n",
       "    </tr>\n",
       "  </thead>\n",
       "  <tbody>\n",
       "    <tr>\n",
       "      <th>0</th>\n",
       "      <td>2015-01-01 06:00:00</td>\n",
       "      <td>1</td>\n",
       "      <td>176.217853</td>\n",
       "      <td>418.504078</td>\n",
       "      <td>113.077935</td>\n",
       "      <td>45.087686</td>\n",
       "    </tr>\n",
       "    <tr>\n",
       "      <th>92489</th>\n",
       "      <td>2015-01-01 06:00:00</td>\n",
       "      <td>1</td>\n",
       "      <td>176.217853</td>\n",
       "      <td>418.504078</td>\n",
       "      <td>113.077935</td>\n",
       "      <td>45.087686</td>\n",
       "    </tr>\n",
       "    <tr>\n",
       "      <th>92490</th>\n",
       "      <td>2015-01-01 07:00:00</td>\n",
       "      <td>1</td>\n",
       "      <td>162.879223</td>\n",
       "      <td>402.747490</td>\n",
       "      <td>95.460525</td>\n",
       "      <td>43.413973</td>\n",
       "    </tr>\n",
       "    <tr>\n",
       "      <th>1</th>\n",
       "      <td>2015-01-01 07:00:00</td>\n",
       "      <td>1</td>\n",
       "      <td>162.879223</td>\n",
       "      <td>402.747490</td>\n",
       "      <td>95.460525</td>\n",
       "      <td>43.413973</td>\n",
       "    </tr>\n",
       "    <tr>\n",
       "      <th>2</th>\n",
       "      <td>2015-01-01 08:00:00</td>\n",
       "      <td>1</td>\n",
       "      <td>170.989902</td>\n",
       "      <td>527.349825</td>\n",
       "      <td>75.237905</td>\n",
       "      <td>34.178847</td>\n",
       "    </tr>\n",
       "    <tr>\n",
       "      <th>92491</th>\n",
       "      <td>2015-01-01 08:00:00</td>\n",
       "      <td>1</td>\n",
       "      <td>170.989902</td>\n",
       "      <td>527.349825</td>\n",
       "      <td>75.237905</td>\n",
       "      <td>34.178847</td>\n",
       "    </tr>\n",
       "    <tr>\n",
       "      <th>92492</th>\n",
       "      <td>2015-01-01 09:00:00</td>\n",
       "      <td>1</td>\n",
       "      <td>162.462833</td>\n",
       "      <td>346.149335</td>\n",
       "      <td>109.248561</td>\n",
       "      <td>41.122144</td>\n",
       "    </tr>\n",
       "    <tr>\n",
       "      <th>3</th>\n",
       "      <td>2015-01-01 09:00:00</td>\n",
       "      <td>1</td>\n",
       "      <td>162.462833</td>\n",
       "      <td>346.149335</td>\n",
       "      <td>109.248561</td>\n",
       "      <td>41.122144</td>\n",
       "    </tr>\n",
       "    <tr>\n",
       "      <th>92493</th>\n",
       "      <td>2015-01-01 10:00:00</td>\n",
       "      <td>1</td>\n",
       "      <td>157.610021</td>\n",
       "      <td>435.376873</td>\n",
       "      <td>111.886648</td>\n",
       "      <td>25.990511</td>\n",
       "    </tr>\n",
       "    <tr>\n",
       "      <th>4</th>\n",
       "      <td>2015-01-01 10:00:00</td>\n",
       "      <td>1</td>\n",
       "      <td>157.610021</td>\n",
       "      <td>435.376873</td>\n",
       "      <td>111.886648</td>\n",
       "      <td>25.990511</td>\n",
       "    </tr>\n",
       "    <tr>\n",
       "      <th>92494</th>\n",
       "      <td>2015-01-01 11:00:00</td>\n",
       "      <td>1</td>\n",
       "      <td>172.504839</td>\n",
       "      <td>430.323362</td>\n",
       "      <td>95.927042</td>\n",
       "      <td>35.655017</td>\n",
       "    </tr>\n",
       "    <tr>\n",
       "      <th>5</th>\n",
       "      <td>2015-01-01 11:00:00</td>\n",
       "      <td>1</td>\n",
       "      <td>172.504839</td>\n",
       "      <td>430.323362</td>\n",
       "      <td>95.927042</td>\n",
       "      <td>35.655017</td>\n",
       "    </tr>\n",
       "    <tr>\n",
       "      <th>92495</th>\n",
       "      <td>2015-01-01 12:00:00</td>\n",
       "      <td>1</td>\n",
       "      <td>156.556031</td>\n",
       "      <td>499.071623</td>\n",
       "      <td>111.755684</td>\n",
       "      <td>42.753920</td>\n",
       "    </tr>\n",
       "    <tr>\n",
       "      <th>6</th>\n",
       "      <td>2015-01-01 12:00:00</td>\n",
       "      <td>1</td>\n",
       "      <td>156.556031</td>\n",
       "      <td>499.071623</td>\n",
       "      <td>111.755684</td>\n",
       "      <td>42.753920</td>\n",
       "    </tr>\n",
       "    <tr>\n",
       "      <th>7</th>\n",
       "      <td>2015-01-01 13:00:00</td>\n",
       "      <td>1</td>\n",
       "      <td>172.522781</td>\n",
       "      <td>409.624717</td>\n",
       "      <td>101.001083</td>\n",
       "      <td>35.482009</td>\n",
       "    </tr>\n",
       "    <tr>\n",
       "      <th>92496</th>\n",
       "      <td>2015-01-01 13:00:00</td>\n",
       "      <td>1</td>\n",
       "      <td>172.522781</td>\n",
       "      <td>409.624717</td>\n",
       "      <td>101.001083</td>\n",
       "      <td>35.482009</td>\n",
       "    </tr>\n",
       "    <tr>\n",
       "      <th>8</th>\n",
       "      <td>2015-01-01 14:00:00</td>\n",
       "      <td>1</td>\n",
       "      <td>175.324524</td>\n",
       "      <td>398.648781</td>\n",
       "      <td>110.624360</td>\n",
       "      <td>45.482287</td>\n",
       "    </tr>\n",
       "    <tr>\n",
       "      <th>92497</th>\n",
       "      <td>2015-01-01 14:00:00</td>\n",
       "      <td>1</td>\n",
       "      <td>175.324524</td>\n",
       "      <td>398.648781</td>\n",
       "      <td>110.624360</td>\n",
       "      <td>45.482287</td>\n",
       "    </tr>\n",
       "    <tr>\n",
       "      <th>92498</th>\n",
       "      <td>2015-01-01 15:00:00</td>\n",
       "      <td>1</td>\n",
       "      <td>169.218423</td>\n",
       "      <td>460.850670</td>\n",
       "      <td>104.848230</td>\n",
       "      <td>39.901735</td>\n",
       "    </tr>\n",
       "    <tr>\n",
       "      <th>9</th>\n",
       "      <td>2015-01-01 15:00:00</td>\n",
       "      <td>1</td>\n",
       "      <td>169.218423</td>\n",
       "      <td>460.850670</td>\n",
       "      <td>104.848230</td>\n",
       "      <td>39.901735</td>\n",
       "    </tr>\n",
       "    <tr>\n",
       "      <th>92499</th>\n",
       "      <td>2015-01-01 16:00:00</td>\n",
       "      <td>1</td>\n",
       "      <td>167.060981</td>\n",
       "      <td>382.483543</td>\n",
       "      <td>103.780663</td>\n",
       "      <td>42.675800</td>\n",
       "    </tr>\n",
       "    <tr>\n",
       "      <th>10</th>\n",
       "      <td>2015-01-01 16:00:00</td>\n",
       "      <td>1</td>\n",
       "      <td>167.060981</td>\n",
       "      <td>382.483543</td>\n",
       "      <td>103.780663</td>\n",
       "      <td>42.675800</td>\n",
       "    </tr>\n",
       "    <tr>\n",
       "      <th>11</th>\n",
       "      <td>2015-01-01 17:00:00</td>\n",
       "      <td>1</td>\n",
       "      <td>160.263954</td>\n",
       "      <td>448.084256</td>\n",
       "      <td>96.480976</td>\n",
       "      <td>38.543681</td>\n",
       "    </tr>\n",
       "    <tr>\n",
       "      <th>92500</th>\n",
       "      <td>2015-01-01 17:00:00</td>\n",
       "      <td>1</td>\n",
       "      <td>160.263954</td>\n",
       "      <td>448.084256</td>\n",
       "      <td>96.480976</td>\n",
       "      <td>38.543681</td>\n",
       "    </tr>\n",
       "    <tr>\n",
       "      <th>12</th>\n",
       "      <td>2015-01-01 18:00:00</td>\n",
       "      <td>1</td>\n",
       "      <td>153.353491</td>\n",
       "      <td>490.672921</td>\n",
       "      <td>86.012440</td>\n",
       "      <td>44.108554</td>\n",
       "    </tr>\n",
       "    <tr>\n",
       "      <th>92501</th>\n",
       "      <td>2015-01-01 18:00:00</td>\n",
       "      <td>1</td>\n",
       "      <td>153.353491</td>\n",
       "      <td>490.672921</td>\n",
       "      <td>86.012440</td>\n",
       "      <td>44.108554</td>\n",
       "    </tr>\n",
       "    <tr>\n",
       "      <th>13</th>\n",
       "      <td>2015-01-01 19:00:00</td>\n",
       "      <td>1</td>\n",
       "      <td>182.739113</td>\n",
       "      <td>418.199252</td>\n",
       "      <td>93.484954</td>\n",
       "      <td>41.367190</td>\n",
       "    </tr>\n",
       "    <tr>\n",
       "      <th>92502</th>\n",
       "      <td>2015-01-01 19:00:00</td>\n",
       "      <td>1</td>\n",
       "      <td>182.739113</td>\n",
       "      <td>418.199252</td>\n",
       "      <td>93.484954</td>\n",
       "      <td>41.367190</td>\n",
       "    </tr>\n",
       "    <tr>\n",
       "      <th>14</th>\n",
       "      <td>2015-01-01 20:00:00</td>\n",
       "      <td>1</td>\n",
       "      <td>170.335438</td>\n",
       "      <td>402.461187</td>\n",
       "      <td>93.235787</td>\n",
       "      <td>39.739883</td>\n",
       "    </tr>\n",
       "    <tr>\n",
       "      <th>92503</th>\n",
       "      <td>2015-01-01 20:00:00</td>\n",
       "      <td>1</td>\n",
       "      <td>170.335438</td>\n",
       "      <td>402.461187</td>\n",
       "      <td>93.235787</td>\n",
       "      <td>39.739883</td>\n",
       "    </tr>\n",
       "    <tr>\n",
       "      <th>...</th>\n",
       "      <td>...</td>\n",
       "      <td>...</td>\n",
       "      <td>...</td>\n",
       "      <td>...</td>\n",
       "      <td>...</td>\n",
       "      <td>...</td>\n",
       "    </tr>\n",
       "    <tr>\n",
       "      <th>8746</th>\n",
       "      <td>2015-12-31 16:00:00</td>\n",
       "      <td>1</td>\n",
       "      <td>153.171438</td>\n",
       "      <td>398.571138</td>\n",
       "      <td>109.718281</td>\n",
       "      <td>38.465664</td>\n",
       "    </tr>\n",
       "    <tr>\n",
       "      <th>101235</th>\n",
       "      <td>2015-12-31 16:00:00</td>\n",
       "      <td>1</td>\n",
       "      <td>153.171438</td>\n",
       "      <td>398.571138</td>\n",
       "      <td>109.718281</td>\n",
       "      <td>38.465664</td>\n",
       "    </tr>\n",
       "    <tr>\n",
       "      <th>8747</th>\n",
       "      <td>2015-12-31 17:00:00</td>\n",
       "      <td>1</td>\n",
       "      <td>170.981675</td>\n",
       "      <td>415.026089</td>\n",
       "      <td>91.532672</td>\n",
       "      <td>38.072462</td>\n",
       "    </tr>\n",
       "    <tr>\n",
       "      <th>101236</th>\n",
       "      <td>2015-12-31 17:00:00</td>\n",
       "      <td>1</td>\n",
       "      <td>170.981675</td>\n",
       "      <td>415.026089</td>\n",
       "      <td>91.532672</td>\n",
       "      <td>38.072462</td>\n",
       "    </tr>\n",
       "    <tr>\n",
       "      <th>101237</th>\n",
       "      <td>2015-12-31 18:00:00</td>\n",
       "      <td>1</td>\n",
       "      <td>185.361327</td>\n",
       "      <td>451.891502</td>\n",
       "      <td>105.303628</td>\n",
       "      <td>42.742790</td>\n",
       "    </tr>\n",
       "    <tr>\n",
       "      <th>8748</th>\n",
       "      <td>2015-12-31 18:00:00</td>\n",
       "      <td>1</td>\n",
       "      <td>185.361327</td>\n",
       "      <td>451.891502</td>\n",
       "      <td>105.303628</td>\n",
       "      <td>42.742790</td>\n",
       "    </tr>\n",
       "    <tr>\n",
       "      <th>101238</th>\n",
       "      <td>2015-12-31 19:00:00</td>\n",
       "      <td>1</td>\n",
       "      <td>177.407045</td>\n",
       "      <td>412.740775</td>\n",
       "      <td>94.926895</td>\n",
       "      <td>27.336705</td>\n",
       "    </tr>\n",
       "    <tr>\n",
       "      <th>8749</th>\n",
       "      <td>2015-12-31 19:00:00</td>\n",
       "      <td>1</td>\n",
       "      <td>177.407045</td>\n",
       "      <td>412.740775</td>\n",
       "      <td>94.926895</td>\n",
       "      <td>27.336705</td>\n",
       "    </tr>\n",
       "    <tr>\n",
       "      <th>101239</th>\n",
       "      <td>2015-12-31 20:00:00</td>\n",
       "      <td>1</td>\n",
       "      <td>158.703392</td>\n",
       "      <td>370.040520</td>\n",
       "      <td>120.070899</td>\n",
       "      <td>44.349361</td>\n",
       "    </tr>\n",
       "    <tr>\n",
       "      <th>8750</th>\n",
       "      <td>2015-12-31 20:00:00</td>\n",
       "      <td>1</td>\n",
       "      <td>158.703392</td>\n",
       "      <td>370.040520</td>\n",
       "      <td>120.070899</td>\n",
       "      <td>44.349361</td>\n",
       "    </tr>\n",
       "    <tr>\n",
       "      <th>101240</th>\n",
       "      <td>2015-12-31 21:00:00</td>\n",
       "      <td>1</td>\n",
       "      <td>172.129795</td>\n",
       "      <td>450.240478</td>\n",
       "      <td>87.635187</td>\n",
       "      <td>35.239969</td>\n",
       "    </tr>\n",
       "    <tr>\n",
       "      <th>8751</th>\n",
       "      <td>2015-12-31 21:00:00</td>\n",
       "      <td>1</td>\n",
       "      <td>172.129795</td>\n",
       "      <td>450.240478</td>\n",
       "      <td>87.635187</td>\n",
       "      <td>35.239969</td>\n",
       "    </tr>\n",
       "    <tr>\n",
       "      <th>8752</th>\n",
       "      <td>2015-12-31 22:00:00</td>\n",
       "      <td>1</td>\n",
       "      <td>147.942692</td>\n",
       "      <td>525.424436</td>\n",
       "      <td>79.136504</td>\n",
       "      <td>44.295439</td>\n",
       "    </tr>\n",
       "    <tr>\n",
       "      <th>101241</th>\n",
       "      <td>2015-12-31 22:00:00</td>\n",
       "      <td>1</td>\n",
       "      <td>147.942692</td>\n",
       "      <td>525.424436</td>\n",
       "      <td>79.136504</td>\n",
       "      <td>44.295439</td>\n",
       "    </tr>\n",
       "    <tr>\n",
       "      <th>101242</th>\n",
       "      <td>2015-12-31 23:00:00</td>\n",
       "      <td>1</td>\n",
       "      <td>156.962788</td>\n",
       "      <td>509.087759</td>\n",
       "      <td>105.320924</td>\n",
       "      <td>38.939371</td>\n",
       "    </tr>\n",
       "    <tr>\n",
       "      <th>8753</th>\n",
       "      <td>2015-12-31 23:00:00</td>\n",
       "      <td>1</td>\n",
       "      <td>156.962788</td>\n",
       "      <td>509.087759</td>\n",
       "      <td>105.320924</td>\n",
       "      <td>38.939371</td>\n",
       "    </tr>\n",
       "    <tr>\n",
       "      <th>8754</th>\n",
       "      <td>2016-01-01 00:00:00</td>\n",
       "      <td>1</td>\n",
       "      <td>172.504015</td>\n",
       "      <td>367.999424</td>\n",
       "      <td>90.771600</td>\n",
       "      <td>44.923775</td>\n",
       "    </tr>\n",
       "    <tr>\n",
       "      <th>101243</th>\n",
       "      <td>2016-01-01 00:00:00</td>\n",
       "      <td>1</td>\n",
       "      <td>172.504015</td>\n",
       "      <td>367.999424</td>\n",
       "      <td>90.771600</td>\n",
       "      <td>44.923775</td>\n",
       "    </tr>\n",
       "    <tr>\n",
       "      <th>101244</th>\n",
       "      <td>2016-01-01 01:00:00</td>\n",
       "      <td>1</td>\n",
       "      <td>159.181462</td>\n",
       "      <td>482.061545</td>\n",
       "      <td>95.618457</td>\n",
       "      <td>44.764128</td>\n",
       "    </tr>\n",
       "    <tr>\n",
       "      <th>8755</th>\n",
       "      <td>2016-01-01 01:00:00</td>\n",
       "      <td>1</td>\n",
       "      <td>159.181462</td>\n",
       "      <td>482.061545</td>\n",
       "      <td>95.618457</td>\n",
       "      <td>44.764128</td>\n",
       "    </tr>\n",
       "    <tr>\n",
       "      <th>101245</th>\n",
       "      <td>2016-01-01 02:00:00</td>\n",
       "      <td>1</td>\n",
       "      <td>153.724780</td>\n",
       "      <td>450.254337</td>\n",
       "      <td>85.197443</td>\n",
       "      <td>43.698137</td>\n",
       "    </tr>\n",
       "    <tr>\n",
       "      <th>8756</th>\n",
       "      <td>2016-01-01 02:00:00</td>\n",
       "      <td>1</td>\n",
       "      <td>153.724780</td>\n",
       "      <td>450.254337</td>\n",
       "      <td>85.197443</td>\n",
       "      <td>43.698137</td>\n",
       "    </tr>\n",
       "    <tr>\n",
       "      <th>8757</th>\n",
       "      <td>2016-01-01 03:00:00</td>\n",
       "      <td>1</td>\n",
       "      <td>172.418099</td>\n",
       "      <td>375.701907</td>\n",
       "      <td>95.568265</td>\n",
       "      <td>42.111661</td>\n",
       "    </tr>\n",
       "    <tr>\n",
       "      <th>101246</th>\n",
       "      <td>2016-01-01 03:00:00</td>\n",
       "      <td>1</td>\n",
       "      <td>172.418099</td>\n",
       "      <td>375.701907</td>\n",
       "      <td>95.568265</td>\n",
       "      <td>42.111661</td>\n",
       "    </tr>\n",
       "    <tr>\n",
       "      <th>8758</th>\n",
       "      <td>2016-01-01 04:00:00</td>\n",
       "      <td>1</td>\n",
       "      <td>174.588145</td>\n",
       "      <td>460.505353</td>\n",
       "      <td>95.483913</td>\n",
       "      <td>33.293572</td>\n",
       "    </tr>\n",
       "    <tr>\n",
       "      <th>101247</th>\n",
       "      <td>2016-01-01 04:00:00</td>\n",
       "      <td>1</td>\n",
       "      <td>174.588145</td>\n",
       "      <td>460.505353</td>\n",
       "      <td>95.483913</td>\n",
       "      <td>33.293572</td>\n",
       "    </tr>\n",
       "    <tr>\n",
       "      <th>8759</th>\n",
       "      <td>2016-01-01 05:00:00</td>\n",
       "      <td>1</td>\n",
       "      <td>184.224228</td>\n",
       "      <td>438.823314</td>\n",
       "      <td>102.694358</td>\n",
       "      <td>46.609515</td>\n",
       "    </tr>\n",
       "    <tr>\n",
       "      <th>101248</th>\n",
       "      <td>2016-01-01 05:00:00</td>\n",
       "      <td>1</td>\n",
       "      <td>184.224228</td>\n",
       "      <td>438.823314</td>\n",
       "      <td>102.694358</td>\n",
       "      <td>46.609515</td>\n",
       "    </tr>\n",
       "    <tr>\n",
       "      <th>8760</th>\n",
       "      <td>2016-01-01 06:00:00</td>\n",
       "      <td>1</td>\n",
       "      <td>191.873171</td>\n",
       "      <td>382.736626</td>\n",
       "      <td>100.893691</td>\n",
       "      <td>37.940220</td>\n",
       "    </tr>\n",
       "    <tr>\n",
       "      <th>101249</th>\n",
       "      <td>2016-01-01 06:00:00</td>\n",
       "      <td>1</td>\n",
       "      <td>191.873171</td>\n",
       "      <td>382.736626</td>\n",
       "      <td>100.893691</td>\n",
       "      <td>37.940220</td>\n",
       "    </tr>\n",
       "  </tbody>\n",
       "</table>\n",
       "<p>17522 rows × 6 columns</p>\n",
       "</div>"
      ],
      "text/plain": [
       "                  datetime  machineID        volt      rotate    pressure  \\\n",
       "0      2015-01-01 06:00:00          1  176.217853  418.504078  113.077935   \n",
       "92489  2015-01-01 06:00:00          1  176.217853  418.504078  113.077935   \n",
       "92490  2015-01-01 07:00:00          1  162.879223  402.747490   95.460525   \n",
       "1      2015-01-01 07:00:00          1  162.879223  402.747490   95.460525   \n",
       "2      2015-01-01 08:00:00          1  170.989902  527.349825   75.237905   \n",
       "92491  2015-01-01 08:00:00          1  170.989902  527.349825   75.237905   \n",
       "92492  2015-01-01 09:00:00          1  162.462833  346.149335  109.248561   \n",
       "3      2015-01-01 09:00:00          1  162.462833  346.149335  109.248561   \n",
       "92493  2015-01-01 10:00:00          1  157.610021  435.376873  111.886648   \n",
       "4      2015-01-01 10:00:00          1  157.610021  435.376873  111.886648   \n",
       "92494  2015-01-01 11:00:00          1  172.504839  430.323362   95.927042   \n",
       "5      2015-01-01 11:00:00          1  172.504839  430.323362   95.927042   \n",
       "92495  2015-01-01 12:00:00          1  156.556031  499.071623  111.755684   \n",
       "6      2015-01-01 12:00:00          1  156.556031  499.071623  111.755684   \n",
       "7      2015-01-01 13:00:00          1  172.522781  409.624717  101.001083   \n",
       "92496  2015-01-01 13:00:00          1  172.522781  409.624717  101.001083   \n",
       "8      2015-01-01 14:00:00          1  175.324524  398.648781  110.624360   \n",
       "92497  2015-01-01 14:00:00          1  175.324524  398.648781  110.624360   \n",
       "92498  2015-01-01 15:00:00          1  169.218423  460.850670  104.848230   \n",
       "9      2015-01-01 15:00:00          1  169.218423  460.850670  104.848230   \n",
       "92499  2015-01-01 16:00:00          1  167.060981  382.483543  103.780663   \n",
       "10     2015-01-01 16:00:00          1  167.060981  382.483543  103.780663   \n",
       "11     2015-01-01 17:00:00          1  160.263954  448.084256   96.480976   \n",
       "92500  2015-01-01 17:00:00          1  160.263954  448.084256   96.480976   \n",
       "12     2015-01-01 18:00:00          1  153.353491  490.672921   86.012440   \n",
       "92501  2015-01-01 18:00:00          1  153.353491  490.672921   86.012440   \n",
       "13     2015-01-01 19:00:00          1  182.739113  418.199252   93.484954   \n",
       "92502  2015-01-01 19:00:00          1  182.739113  418.199252   93.484954   \n",
       "14     2015-01-01 20:00:00          1  170.335438  402.461187   93.235787   \n",
       "92503  2015-01-01 20:00:00          1  170.335438  402.461187   93.235787   \n",
       "...                    ...        ...         ...         ...         ...   \n",
       "8746   2015-12-31 16:00:00          1  153.171438  398.571138  109.718281   \n",
       "101235 2015-12-31 16:00:00          1  153.171438  398.571138  109.718281   \n",
       "8747   2015-12-31 17:00:00          1  170.981675  415.026089   91.532672   \n",
       "101236 2015-12-31 17:00:00          1  170.981675  415.026089   91.532672   \n",
       "101237 2015-12-31 18:00:00          1  185.361327  451.891502  105.303628   \n",
       "8748   2015-12-31 18:00:00          1  185.361327  451.891502  105.303628   \n",
       "101238 2015-12-31 19:00:00          1  177.407045  412.740775   94.926895   \n",
       "8749   2015-12-31 19:00:00          1  177.407045  412.740775   94.926895   \n",
       "101239 2015-12-31 20:00:00          1  158.703392  370.040520  120.070899   \n",
       "8750   2015-12-31 20:00:00          1  158.703392  370.040520  120.070899   \n",
       "101240 2015-12-31 21:00:00          1  172.129795  450.240478   87.635187   \n",
       "8751   2015-12-31 21:00:00          1  172.129795  450.240478   87.635187   \n",
       "8752   2015-12-31 22:00:00          1  147.942692  525.424436   79.136504   \n",
       "101241 2015-12-31 22:00:00          1  147.942692  525.424436   79.136504   \n",
       "101242 2015-12-31 23:00:00          1  156.962788  509.087759  105.320924   \n",
       "8753   2015-12-31 23:00:00          1  156.962788  509.087759  105.320924   \n",
       "8754   2016-01-01 00:00:00          1  172.504015  367.999424   90.771600   \n",
       "101243 2016-01-01 00:00:00          1  172.504015  367.999424   90.771600   \n",
       "101244 2016-01-01 01:00:00          1  159.181462  482.061545   95.618457   \n",
       "8755   2016-01-01 01:00:00          1  159.181462  482.061545   95.618457   \n",
       "101245 2016-01-01 02:00:00          1  153.724780  450.254337   85.197443   \n",
       "8756   2016-01-01 02:00:00          1  153.724780  450.254337   85.197443   \n",
       "8757   2016-01-01 03:00:00          1  172.418099  375.701907   95.568265   \n",
       "101246 2016-01-01 03:00:00          1  172.418099  375.701907   95.568265   \n",
       "8758   2016-01-01 04:00:00          1  174.588145  460.505353   95.483913   \n",
       "101247 2016-01-01 04:00:00          1  174.588145  460.505353   95.483913   \n",
       "8759   2016-01-01 05:00:00          1  184.224228  438.823314  102.694358   \n",
       "101248 2016-01-01 05:00:00          1  184.224228  438.823314  102.694358   \n",
       "8760   2016-01-01 06:00:00          1  191.873171  382.736626  100.893691   \n",
       "101249 2016-01-01 06:00:00          1  191.873171  382.736626  100.893691   \n",
       "\n",
       "        vibration  \n",
       "0       45.087686  \n",
       "92489   45.087686  \n",
       "92490   43.413973  \n",
       "1       43.413973  \n",
       "2       34.178847  \n",
       "92491   34.178847  \n",
       "92492   41.122144  \n",
       "3       41.122144  \n",
       "92493   25.990511  \n",
       "4       25.990511  \n",
       "92494   35.655017  \n",
       "5       35.655017  \n",
       "92495   42.753920  \n",
       "6       42.753920  \n",
       "7       35.482009  \n",
       "92496   35.482009  \n",
       "8       45.482287  \n",
       "92497   45.482287  \n",
       "92498   39.901735  \n",
       "9       39.901735  \n",
       "92499   42.675800  \n",
       "10      42.675800  \n",
       "11      38.543681  \n",
       "92500   38.543681  \n",
       "12      44.108554  \n",
       "92501   44.108554  \n",
       "13      41.367190  \n",
       "92502   41.367190  \n",
       "14      39.739883  \n",
       "92503   39.739883  \n",
       "...           ...  \n",
       "8746    38.465664  \n",
       "101235  38.465664  \n",
       "8747    38.072462  \n",
       "101236  38.072462  \n",
       "101237  42.742790  \n",
       "8748    42.742790  \n",
       "101238  27.336705  \n",
       "8749    27.336705  \n",
       "101239  44.349361  \n",
       "8750    44.349361  \n",
       "101240  35.239969  \n",
       "8751    35.239969  \n",
       "8752    44.295439  \n",
       "101241  44.295439  \n",
       "101242  38.939371  \n",
       "8753    38.939371  \n",
       "8754    44.923775  \n",
       "101243  44.923775  \n",
       "101244  44.764128  \n",
       "8755    44.764128  \n",
       "101245  43.698137  \n",
       "8756    43.698137  \n",
       "8757    42.111661  \n",
       "101246  42.111661  \n",
       "8758    33.293572  \n",
       "101247  33.293572  \n",
       "8759    46.609515  \n",
       "101248  46.609515  \n",
       "8760    37.940220  \n",
       "101249  37.940220  \n",
       "\n",
       "[17522 rows x 6 columns]"
      ]
     },
     "execution_count": 1679,
     "metadata": {},
     "output_type": "execute_result"
    }
   ],
   "source": [
    "mask = sensorData['machineID'] == 1\n",
    "sensorData[mask]"
   ]
  },
  {
   "cell_type": "code",
   "execution_count": 1680,
   "metadata": {},
   "outputs": [
    {
     "data": {
      "text/plain": [
       "8761"
      ]
     },
     "execution_count": 1680,
     "metadata": {},
     "output_type": "execute_result"
    }
   ],
   "source": [
    "# looking at the results above, their appears to be duplicated data, investigate a litte here:\n",
    "sum(sensorData[mask].duplicated('datetime'))"
   ]
  },
  {
   "cell_type": "code",
   "execution_count": 1681,
   "metadata": {
    "scrolled": true
   },
   "outputs": [
    {
     "data": {
      "text/plain": [
       "0"
      ]
     },
     "execution_count": 1681,
     "metadata": {},
     "output_type": "execute_result"
    }
   ],
   "source": [
    "# cleaning the duplicate data and check\n",
    "sensorData.drop_duplicates(subset=['datetime', 'machineID', 'volt'], inplace = True)\n",
    "sum(sensorData[mask].duplicated('datetime'))"
   ]
  },
  {
   "cell_type": "code",
   "execution_count": 1682,
   "metadata": {
    "scrolled": true
   },
   "outputs": [
    {
     "data": {
      "text/html": [
       "<div>\n",
       "<style scoped>\n",
       "    .dataframe tbody tr th:only-of-type {\n",
       "        vertical-align: middle;\n",
       "    }\n",
       "\n",
       "    .dataframe tbody tr th {\n",
       "        vertical-align: top;\n",
       "    }\n",
       "\n",
       "    .dataframe thead th {\n",
       "        text-align: right;\n",
       "    }\n",
       "</style>\n",
       "<table border=\"1\" class=\"dataframe\">\n",
       "  <thead>\n",
       "    <tr style=\"text-align: right;\">\n",
       "      <th></th>\n",
       "      <th>datetime</th>\n",
       "      <th>machineID</th>\n",
       "      <th>volt</th>\n",
       "      <th>rotate</th>\n",
       "      <th>pressure</th>\n",
       "      <th>vibration</th>\n",
       "    </tr>\n",
       "  </thead>\n",
       "  <tbody>\n",
       "    <tr>\n",
       "      <th>8761</th>\n",
       "      <td>2015-01-01 06:00:00</td>\n",
       "      <td>2</td>\n",
       "      <td>176.558913</td>\n",
       "      <td>424.624162</td>\n",
       "      <td>76.005332</td>\n",
       "      <td>43.767049</td>\n",
       "    </tr>\n",
       "    <tr>\n",
       "      <th>8762</th>\n",
       "      <td>2015-01-01 07:00:00</td>\n",
       "      <td>2</td>\n",
       "      <td>158.282044</td>\n",
       "      <td>432.372960</td>\n",
       "      <td>110.907806</td>\n",
       "      <td>37.267114</td>\n",
       "    </tr>\n",
       "    <tr>\n",
       "      <th>101252</th>\n",
       "      <td>2015-01-01 08:00:00</td>\n",
       "      <td>2</td>\n",
       "      <td>168.242028</td>\n",
       "      <td>454.629639</td>\n",
       "      <td>97.877007</td>\n",
       "      <td>39.709461</td>\n",
       "    </tr>\n",
       "    <tr>\n",
       "      <th>101253</th>\n",
       "      <td>2015-01-01 09:00:00</td>\n",
       "      <td>2</td>\n",
       "      <td>180.280316</td>\n",
       "      <td>438.391022</td>\n",
       "      <td>84.440430</td>\n",
       "      <td>40.490443</td>\n",
       "    </tr>\n",
       "    <tr>\n",
       "      <th>101254</th>\n",
       "      <td>2015-01-01 10:00:00</td>\n",
       "      <td>2</td>\n",
       "      <td>169.719531</td>\n",
       "      <td>473.055664</td>\n",
       "      <td>110.395683</td>\n",
       "      <td>41.229578</td>\n",
       "    </tr>\n",
       "    <tr>\n",
       "      <th>101255</th>\n",
       "      <td>2015-01-01 11:00:00</td>\n",
       "      <td>2</td>\n",
       "      <td>191.257247</td>\n",
       "      <td>369.738792</td>\n",
       "      <td>101.223451</td>\n",
       "      <td>45.616543</td>\n",
       "    </tr>\n",
       "    <tr>\n",
       "      <th>8767</th>\n",
       "      <td>2015-01-01 12:00:00</td>\n",
       "      <td>2</td>\n",
       "      <td>186.282977</td>\n",
       "      <td>483.698416</td>\n",
       "      <td>115.061863</td>\n",
       "      <td>50.690561</td>\n",
       "    </tr>\n",
       "    <tr>\n",
       "      <th>101257</th>\n",
       "      <td>2015-01-01 13:00:00</td>\n",
       "      <td>2</td>\n",
       "      <td>179.367188</td>\n",
       "      <td>450.943961</td>\n",
       "      <td>94.378019</td>\n",
       "      <td>38.684815</td>\n",
       "    </tr>\n",
       "    <tr>\n",
       "      <th>101258</th>\n",
       "      <td>2015-01-01 14:00:00</td>\n",
       "      <td>2</td>\n",
       "      <td>168.893782</td>\n",
       "      <td>494.876313</td>\n",
       "      <td>101.910022</td>\n",
       "      <td>34.566681</td>\n",
       "    </tr>\n",
       "    <tr>\n",
       "      <th>101259</th>\n",
       "      <td>2015-01-01 15:00:00</td>\n",
       "      <td>2</td>\n",
       "      <td>158.595797</td>\n",
       "      <td>427.282619</td>\n",
       "      <td>92.470163</td>\n",
       "      <td>32.160232</td>\n",
       "    </tr>\n",
       "    <tr>\n",
       "      <th>8771</th>\n",
       "      <td>2015-01-01 16:00:00</td>\n",
       "      <td>2</td>\n",
       "      <td>165.754394</td>\n",
       "      <td>457.282676</td>\n",
       "      <td>108.007373</td>\n",
       "      <td>46.980527</td>\n",
       "    </tr>\n",
       "    <tr>\n",
       "      <th>8772</th>\n",
       "      <td>2015-01-01 17:00:00</td>\n",
       "      <td>2</td>\n",
       "      <td>194.108213</td>\n",
       "      <td>400.101296</td>\n",
       "      <td>108.837258</td>\n",
       "      <td>43.563299</td>\n",
       "    </tr>\n",
       "    <tr>\n",
       "      <th>8773</th>\n",
       "      <td>2015-01-01 18:00:00</td>\n",
       "      <td>2</td>\n",
       "      <td>153.540806</td>\n",
       "      <td>422.978361</td>\n",
       "      <td>99.854820</td>\n",
       "      <td>38.077059</td>\n",
       "    </tr>\n",
       "    <tr>\n",
       "      <th>101263</th>\n",
       "      <td>2015-01-01 19:00:00</td>\n",
       "      <td>2</td>\n",
       "      <td>193.139223</td>\n",
       "      <td>404.558708</td>\n",
       "      <td>107.895507</td>\n",
       "      <td>40.089805</td>\n",
       "    </tr>\n",
       "    <tr>\n",
       "      <th>101264</th>\n",
       "      <td>2015-01-01 20:00:00</td>\n",
       "      <td>2</td>\n",
       "      <td>168.086228</td>\n",
       "      <td>543.802539</td>\n",
       "      <td>91.512681</td>\n",
       "      <td>39.400235</td>\n",
       "    </tr>\n",
       "    <tr>\n",
       "      <th>8776</th>\n",
       "      <td>2015-01-01 21:00:00</td>\n",
       "      <td>2</td>\n",
       "      <td>169.370359</td>\n",
       "      <td>392.525890</td>\n",
       "      <td>100.752167</td>\n",
       "      <td>47.020597</td>\n",
       "    </tr>\n",
       "    <tr>\n",
       "      <th>101266</th>\n",
       "      <td>2015-01-01 22:00:00</td>\n",
       "      <td>2</td>\n",
       "      <td>179.050449</td>\n",
       "      <td>465.511692</td>\n",
       "      <td>113.391190</td>\n",
       "      <td>45.082957</td>\n",
       "    </tr>\n",
       "    <tr>\n",
       "      <th>8778</th>\n",
       "      <td>2015-01-01 23:00:00</td>\n",
       "      <td>2</td>\n",
       "      <td>166.769102</td>\n",
       "      <td>477.226985</td>\n",
       "      <td>98.193479</td>\n",
       "      <td>41.516010</td>\n",
       "    </tr>\n",
       "    <tr>\n",
       "      <th>101268</th>\n",
       "      <td>2015-01-02 00:00:00</td>\n",
       "      <td>2</td>\n",
       "      <td>173.118037</td>\n",
       "      <td>469.713999</td>\n",
       "      <td>93.724533</td>\n",
       "      <td>48.273130</td>\n",
       "    </tr>\n",
       "    <tr>\n",
       "      <th>8780</th>\n",
       "      <td>2015-01-02 01:00:00</td>\n",
       "      <td>2</td>\n",
       "      <td>176.251586</td>\n",
       "      <td>447.756449</td>\n",
       "      <td>86.800353</td>\n",
       "      <td>43.268340</td>\n",
       "    </tr>\n",
       "    <tr>\n",
       "      <th>101270</th>\n",
       "      <td>2015-01-02 02:00:00</td>\n",
       "      <td>2</td>\n",
       "      <td>168.476946</td>\n",
       "      <td>480.866522</td>\n",
       "      <td>84.192712</td>\n",
       "      <td>47.356836</td>\n",
       "    </tr>\n",
       "    <tr>\n",
       "      <th>101271</th>\n",
       "      <td>2015-01-02 03:00:00</td>\n",
       "      <td>2</td>\n",
       "      <td>163.198451</td>\n",
       "      <td>388.511217</td>\n",
       "      <td>83.257619</td>\n",
       "      <td>41.601255</td>\n",
       "    </tr>\n",
       "    <tr>\n",
       "      <th>101272</th>\n",
       "      <td>2015-01-02 04:00:00</td>\n",
       "      <td>2</td>\n",
       "      <td>154.433801</td>\n",
       "      <td>381.774915</td>\n",
       "      <td>94.367118</td>\n",
       "      <td>44.460371</td>\n",
       "    </tr>\n",
       "    <tr>\n",
       "      <th>8784</th>\n",
       "      <td>2015-01-02 05:00:00</td>\n",
       "      <td>2</td>\n",
       "      <td>167.528716</td>\n",
       "      <td>445.072301</td>\n",
       "      <td>81.406120</td>\n",
       "      <td>36.416044</td>\n",
       "    </tr>\n",
       "  </tbody>\n",
       "</table>\n",
       "</div>"
      ],
      "text/plain": [
       "                  datetime  machineID        volt      rotate    pressure  \\\n",
       "8761   2015-01-01 06:00:00          2  176.558913  424.624162   76.005332   \n",
       "8762   2015-01-01 07:00:00          2  158.282044  432.372960  110.907806   \n",
       "101252 2015-01-01 08:00:00          2  168.242028  454.629639   97.877007   \n",
       "101253 2015-01-01 09:00:00          2  180.280316  438.391022   84.440430   \n",
       "101254 2015-01-01 10:00:00          2  169.719531  473.055664  110.395683   \n",
       "101255 2015-01-01 11:00:00          2  191.257247  369.738792  101.223451   \n",
       "8767   2015-01-01 12:00:00          2  186.282977  483.698416  115.061863   \n",
       "101257 2015-01-01 13:00:00          2  179.367188  450.943961   94.378019   \n",
       "101258 2015-01-01 14:00:00          2  168.893782  494.876313  101.910022   \n",
       "101259 2015-01-01 15:00:00          2  158.595797  427.282619   92.470163   \n",
       "8771   2015-01-01 16:00:00          2  165.754394  457.282676  108.007373   \n",
       "8772   2015-01-01 17:00:00          2  194.108213  400.101296  108.837258   \n",
       "8773   2015-01-01 18:00:00          2  153.540806  422.978361   99.854820   \n",
       "101263 2015-01-01 19:00:00          2  193.139223  404.558708  107.895507   \n",
       "101264 2015-01-01 20:00:00          2  168.086228  543.802539   91.512681   \n",
       "8776   2015-01-01 21:00:00          2  169.370359  392.525890  100.752167   \n",
       "101266 2015-01-01 22:00:00          2  179.050449  465.511692  113.391190   \n",
       "8778   2015-01-01 23:00:00          2  166.769102  477.226985   98.193479   \n",
       "101268 2015-01-02 00:00:00          2  173.118037  469.713999   93.724533   \n",
       "8780   2015-01-02 01:00:00          2  176.251586  447.756449   86.800353   \n",
       "101270 2015-01-02 02:00:00          2  168.476946  480.866522   84.192712   \n",
       "101271 2015-01-02 03:00:00          2  163.198451  388.511217   83.257619   \n",
       "101272 2015-01-02 04:00:00          2  154.433801  381.774915   94.367118   \n",
       "8784   2015-01-02 05:00:00          2  167.528716  445.072301   81.406120   \n",
       "\n",
       "        vibration  \n",
       "8761    43.767049  \n",
       "8762    37.267114  \n",
       "101252  39.709461  \n",
       "101253  40.490443  \n",
       "101254  41.229578  \n",
       "101255  45.616543  \n",
       "8767    50.690561  \n",
       "101257  38.684815  \n",
       "101258  34.566681  \n",
       "101259  32.160232  \n",
       "8771    46.980527  \n",
       "8772    43.563299  \n",
       "8773    38.077059  \n",
       "101263  40.089805  \n",
       "101264  39.400235  \n",
       "8776    47.020597  \n",
       "101266  45.082957  \n",
       "8778    41.516010  \n",
       "101268  48.273130  \n",
       "8780    43.268340  \n",
       "101270  47.356836  \n",
       "101271  41.601255  \n",
       "101272  44.460371  \n",
       "8784    36.416044  "
      ]
     },
     "execution_count": 1682,
     "metadata": {},
     "output_type": "execute_result"
    }
   ],
   "source": [
    "# looks better, check a 24 hour period of another machine for consistancy\n",
    "mask = sensorData['machineID'] == 2\n",
    "sensorData[mask].head(24)"
   ]
  },
  {
   "cell_type": "code",
   "execution_count": 1683,
   "metadata": {},
   "outputs": [],
   "source": [
    "# organize the dataframe by 'machineID' first, then 'datetime'\n",
    "sensorData.sort_values(['machineID', 'datetime'], inplace = True)"
   ]
  },
  {
   "cell_type": "code",
   "execution_count": 1684,
   "metadata": {},
   "outputs": [
    {
     "data": {
      "text/html": [
       "<div>\n",
       "<style scoped>\n",
       "    .dataframe tbody tr th:only-of-type {\n",
       "        vertical-align: middle;\n",
       "    }\n",
       "\n",
       "    .dataframe tbody tr th {\n",
       "        vertical-align: top;\n",
       "    }\n",
       "\n",
       "    .dataframe thead th {\n",
       "        text-align: right;\n",
       "    }\n",
       "</style>\n",
       "<table border=\"1\" class=\"dataframe\">\n",
       "  <thead>\n",
       "    <tr style=\"text-align: right;\">\n",
       "      <th></th>\n",
       "      <th>datetime</th>\n",
       "      <th>machineID</th>\n",
       "      <th>volt</th>\n",
       "      <th>rotate</th>\n",
       "      <th>pressure</th>\n",
       "      <th>vibration</th>\n",
       "    </tr>\n",
       "  </thead>\n",
       "  <tbody>\n",
       "    <tr>\n",
       "      <th>8761</th>\n",
       "      <td>2015-01-01 06:00:00</td>\n",
       "      <td>2</td>\n",
       "      <td>176.558913</td>\n",
       "      <td>424.624162</td>\n",
       "      <td>76.005332</td>\n",
       "      <td>43.767049</td>\n",
       "    </tr>\n",
       "    <tr>\n",
       "      <th>8762</th>\n",
       "      <td>2015-01-01 07:00:00</td>\n",
       "      <td>2</td>\n",
       "      <td>158.282044</td>\n",
       "      <td>432.372960</td>\n",
       "      <td>110.907806</td>\n",
       "      <td>37.267114</td>\n",
       "    </tr>\n",
       "    <tr>\n",
       "      <th>101252</th>\n",
       "      <td>2015-01-01 08:00:00</td>\n",
       "      <td>2</td>\n",
       "      <td>168.242028</td>\n",
       "      <td>454.629639</td>\n",
       "      <td>97.877007</td>\n",
       "      <td>39.709461</td>\n",
       "    </tr>\n",
       "  </tbody>\n",
       "</table>\n",
       "</div>"
      ],
      "text/plain": [
       "                  datetime  machineID        volt      rotate    pressure  \\\n",
       "8761   2015-01-01 06:00:00          2  176.558913  424.624162   76.005332   \n",
       "8762   2015-01-01 07:00:00          2  158.282044  432.372960  110.907806   \n",
       "101252 2015-01-01 08:00:00          2  168.242028  454.629639   97.877007   \n",
       "\n",
       "        vibration  \n",
       "8761    43.767049  \n",
       "8762    37.267114  \n",
       "101252  39.709461  "
      ]
     },
     "execution_count": 1684,
     "metadata": {},
     "output_type": "execute_result"
    }
   ],
   "source": [
    "# remove after\n",
    "mask = sensorData['machineID'] == 2\n",
    "sensorData[mask].head(3)"
   ]
  },
  {
   "cell_type": "code",
   "execution_count": 1685,
   "metadata": {},
   "outputs": [],
   "source": [
    "# aggregate a moving average every three hours of the sensor data and populate new features 'key_ma'\n",
    "# fill the NaN cells created in the first two rows from '.rolling()' with the mean to 'key_ma'\n",
    "for key in ['volt', 'rotate', 'pressure', 'vibration']:\n",
    "    movingAv = (key + '_ma')\n",
    "    sensorData[movingAv] = sensorData[key].rolling(3).mean()\n",
    "    colMean = sensorData[movingAv].mean()\n",
    "    sensorData[movingAv].fillna((colMean), inplace = True)\n",
    "    \n",
    "# select every third row per train/split requirements\n",
    "# semi working...\n",
    "#i = 1\n",
    "#sensorData['machineID'] = sensorData['machineID'].astype(str)\n",
    "#for it, mach in enumerate(sensorData['machineID']):\n",
    "    #i = (i + 1)\n",
    "#    if int(mach) == i:\n",
    "#        print(mach, i)\n",
    "#        i = (i + 1)             \n",
    "        \n",
    "        \n",
    "#kind working?\n",
    "#sensorData = sensorData.iloc[::3, :].loc[sensorData['machineID'] == mach]\n",
    "\n",
    "#sensorData.loc[sensorData['machineID'] == mach]\n",
    "#sensorData = sensorData.iloc[::3, :]"
   ]
  },
  {
   "cell_type": "code",
   "execution_count": 1686,
   "metadata": {},
   "outputs": [
    {
     "data": {
      "text/plain": [
       "(13, 5)"
      ]
     },
     "execution_count": 1686,
     "metadata": {},
     "output_type": "execute_result"
    }
   ],
   "source": [
    "#  JUST FOOLING AROUND\n",
    "sensorGraphData = sensorData\n",
    "sensorGraphData[['volt_ma', 'rotate_ma', 'pressure_ma', 'vibration_ma']] = minmax_scale(sensorGraphData[['volt_ma', 'rotate_ma', 'pressure_ma', 'vibration_ma']])\n",
    "mask = sensorGraphData['machineID'] == 55\n",
    "sensorGraphData = sensorGraphData[mask]\n",
    "sensorGraphData.drop(['volt', 'rotate', 'pressure', 'vibration', 'machineID'], axis = 1, inplace = True)\n",
    "sensorGraphData = sensorGraphData.iloc[::730, :]\n",
    "sensorGraphData.shape"
   ]
  },
  {
   "cell_type": "code",
   "execution_count": 1687,
   "metadata": {
    "scrolled": false
   },
   "outputs": [
    {
     "data": {
      "image/png": "[encoded data removed]",
      "text/plain": [
       "<Figure size 864x576 with 1 Axes>"
      ]
     },
     "metadata": {},
     "output_type": "display_data"
    }
   ],
   "source": [
    "#  JUST FOOLING AROUND\n",
    "plot = sensorGraphData.plot.line(x = 'datetime', sharey = ['volt_ma', 'rotate_ma', 'pressure_ma', 'vibration_ma'], \n",
    "                                 title = 'Mach 55 Twelve Month Normalized Averages', legend = True)\n",
    "plt.xlabel('Year')\n",
    "plt.ylabel(\"Sensor Average\")\n",
    "L = plt.legend()\n",
    "L.get_texts()[0].set_text('Voltage')\n",
    "L.get_texts()[1].set_text('Rotation')\n",
    "L.get_texts()[2].set_text('Pressure')\n",
    "L.get_texts()[3].set_text('Vibration')"
   ]
  },
  {
   "cell_type": "markdown",
   "metadata": {},
   "source": [
    "Telemetry sensor data looks clean enough for the first pass, there are no missing values, the features have been converted to appropriate data types, and the dataframe has been reduced into three hour incremenets with averaged sensor data."
   ]
  },
  {
   "cell_type": "markdown",
   "metadata": {},
   "source": [
    "### Maintenance Data\n",
    "\n",
    "I'm not sure how usefule the maintenanceData is going to be, from the description this csv contains components that were changed due to scheduled maintenance and failures. At the same time, the failures are logged in a separate dataset, which will likely be more pertinent to our model. After cleaning all the datasets we can compare the scheduled changes and failures to the failureData csv and check for duplication, completeness, etc."
   ]
  },
  {
   "cell_type": "code",
   "execution_count": 1688,
   "metadata": {},
   "outputs": [
    {
     "name": "stdout",
     "output_type": "stream",
     "text": [
      "<class 'pandas.core.frame.DataFrame'>\n",
      "RangeIndex: 3286 entries, 0 to 3285\n",
      "Data columns (total 3 columns):\n",
      "datetime     3286 non-null object\n",
      "machineID    3286 non-null int64\n",
      "comp         3286 non-null object\n",
      "dtypes: int64(1), object(2)\n",
      "memory usage: 77.1+ KB\n"
     ]
    }
   ],
   "source": [
    "maintenanceData.info()"
   ]
  },
  {
   "cell_type": "code",
   "execution_count": 1689,
   "metadata": {},
   "outputs": [
    {
     "data": {
      "text/plain": [
       "(3286, 3)"
      ]
     },
     "execution_count": 1689,
     "metadata": {},
     "output_type": "execute_result"
    }
   ],
   "source": [
    "maintenanceData.shape"
   ]
  },
  {
   "cell_type": "code",
   "execution_count": 1690,
   "metadata": {},
   "outputs": [
    {
     "data": {
      "text/html": [
       "<div>\n",
       "<style scoped>\n",
       "    .dataframe tbody tr th:only-of-type {\n",
       "        vertical-align: middle;\n",
       "    }\n",
       "\n",
       "    .dataframe tbody tr th {\n",
       "        vertical-align: top;\n",
       "    }\n",
       "\n",
       "    .dataframe thead th {\n",
       "        text-align: right;\n",
       "    }\n",
       "</style>\n",
       "<table border=\"1\" class=\"dataframe\">\n",
       "  <thead>\n",
       "    <tr style=\"text-align: right;\">\n",
       "      <th></th>\n",
       "      <th>machineID</th>\n",
       "    </tr>\n",
       "  </thead>\n",
       "  <tbody>\n",
       "    <tr>\n",
       "      <th>count</th>\n",
       "      <td>3286.000000</td>\n",
       "    </tr>\n",
       "    <tr>\n",
       "      <th>mean</th>\n",
       "      <td>50.284236</td>\n",
       "    </tr>\n",
       "    <tr>\n",
       "      <th>std</th>\n",
       "      <td>28.914478</td>\n",
       "    </tr>\n",
       "    <tr>\n",
       "      <th>min</th>\n",
       "      <td>1.000000</td>\n",
       "    </tr>\n",
       "    <tr>\n",
       "      <th>25%</th>\n",
       "      <td>25.250000</td>\n",
       "    </tr>\n",
       "    <tr>\n",
       "      <th>50%</th>\n",
       "      <td>50.000000</td>\n",
       "    </tr>\n",
       "    <tr>\n",
       "      <th>75%</th>\n",
       "      <td>75.000000</td>\n",
       "    </tr>\n",
       "    <tr>\n",
       "      <th>max</th>\n",
       "      <td>100.000000</td>\n",
       "    </tr>\n",
       "  </tbody>\n",
       "</table>\n",
       "</div>"
      ],
      "text/plain": [
       "         machineID\n",
       "count  3286.000000\n",
       "mean     50.284236\n",
       "std      28.914478\n",
       "min       1.000000\n",
       "25%      25.250000\n",
       "50%      50.000000\n",
       "75%      75.000000\n",
       "max     100.000000"
      ]
     },
     "execution_count": 1690,
     "metadata": {},
     "output_type": "execute_result"
    }
   ],
   "source": [
    "maintenanceData.describe()"
   ]
  },
  {
   "cell_type": "code",
   "execution_count": 1691,
   "metadata": {},
   "outputs": [
    {
     "data": {
      "text/html": [
       "<div>\n",
       "<style scoped>\n",
       "    .dataframe tbody tr th:only-of-type {\n",
       "        vertical-align: middle;\n",
       "    }\n",
       "\n",
       "    .dataframe tbody tr th {\n",
       "        vertical-align: top;\n",
       "    }\n",
       "\n",
       "    .dataframe thead th {\n",
       "        text-align: right;\n",
       "    }\n",
       "</style>\n",
       "<table border=\"1\" class=\"dataframe\">\n",
       "  <thead>\n",
       "    <tr style=\"text-align: right;\">\n",
       "      <th></th>\n",
       "      <th>datetime</th>\n",
       "      <th>machineID</th>\n",
       "      <th>comp</th>\n",
       "    </tr>\n",
       "  </thead>\n",
       "  <tbody>\n",
       "    <tr>\n",
       "      <th>1059</th>\n",
       "      <td>2015-12-06 06:00:00</td>\n",
       "      <td>32</td>\n",
       "      <td>comp3</td>\n",
       "    </tr>\n",
       "    <tr>\n",
       "      <th>2698</th>\n",
       "      <td>2015-10-10 06:00:00</td>\n",
       "      <td>82</td>\n",
       "      <td>comp1</td>\n",
       "    </tr>\n",
       "    <tr>\n",
       "      <th>2337</th>\n",
       "      <td>2015-07-10 06:00:00</td>\n",
       "      <td>71</td>\n",
       "      <td>comp1</td>\n",
       "    </tr>\n",
       "  </tbody>\n",
       "</table>\n",
       "</div>"
      ],
      "text/plain": [
       "                 datetime  machineID   comp\n",
       "1059  2015-12-06 06:00:00         32  comp3\n",
       "2698  2015-10-10 06:00:00         82  comp1\n",
       "2337  2015-07-10 06:00:00         71  comp1"
      ]
     },
     "execution_count": 1691,
     "metadata": {},
     "output_type": "execute_result"
    }
   ],
   "source": [
    "maintenanceData.sample(3)"
   ]
  },
  {
   "cell_type": "code",
   "execution_count": 1692,
   "metadata": {
    "scrolled": true
   },
   "outputs": [
    {
     "name": "stdout",
     "output_type": "stream",
     "text": [
      "<class 'pandas.core.frame.DataFrame'>\n",
      "RangeIndex: 3286 entries, 0 to 3285\n",
      "Data columns (total 3 columns):\n",
      "datetime     3286 non-null datetime64[ns]\n",
      "machineID    3286 non-null int64\n",
      "comp         3286 non-null int32\n",
      "dtypes: datetime64[ns](1), int32(1), int64(1)\n",
      "memory usage: 64.3 KB\n"
     ]
    }
   ],
   "source": [
    "# change 'datetime' to_datetime :)\n",
    "maintenanceData['datetime'] = pd.to_datetime(maintenanceData['datetime'], infer_datetime_format = True)\n",
    "# remove the begnning characters from 'comp' column and # change 'comp' to an integer\n",
    "maintenanceData['comp'] = maintenanceData['comp'].str[4:].astype(int)\n",
    "# change 'comp' to an integer\n",
    "#maintenanceData['comp'] = maintenanceData['comp'].astype(int)\n",
    "\n",
    "maintenanceData.info()"
   ]
  },
  {
   "cell_type": "code",
   "execution_count": 1693,
   "metadata": {},
   "outputs": [
    {
     "data": {
      "text/html": [
       "<div>\n",
       "<style scoped>\n",
       "    .dataframe tbody tr th:only-of-type {\n",
       "        vertical-align: middle;\n",
       "    }\n",
       "\n",
       "    .dataframe tbody tr th {\n",
       "        vertical-align: top;\n",
       "    }\n",
       "\n",
       "    .dataframe thead th {\n",
       "        text-align: right;\n",
       "    }\n",
       "</style>\n",
       "<table border=\"1\" class=\"dataframe\">\n",
       "  <thead>\n",
       "    <tr style=\"text-align: right;\">\n",
       "      <th></th>\n",
       "      <th>datetime</th>\n",
       "      <th>machineID</th>\n",
       "      <th>comp</th>\n",
       "    </tr>\n",
       "  </thead>\n",
       "  <tbody>\n",
       "    <tr>\n",
       "      <th>18</th>\n",
       "      <td>2015-06-04 06:00:00</td>\n",
       "      <td>1</td>\n",
       "      <td>3</td>\n",
       "    </tr>\n",
       "  </tbody>\n",
       "</table>\n",
       "</div>"
      ],
      "text/plain": [
       "              datetime  machineID  comp\n",
       "18 2015-06-04 06:00:00          1     3"
      ]
     },
     "execution_count": 1693,
     "metadata": {},
     "output_type": "execute_result"
    }
   ],
   "source": [
    "maintenanceData.sample(1)"
   ]
  },
  {
   "cell_type": "code",
   "execution_count": 1694,
   "metadata": {},
   "outputs": [
    {
     "data": {
      "text/plain": [
       "1    804\n",
       "2    863\n",
       "3    808\n",
       "4    811\n",
       "Name: comp, dtype: int64"
      ]
     },
     "execution_count": 1694,
     "metadata": {},
     "output_type": "execute_result"
    }
   ],
   "source": [
    "# quantity each component changed during scheduled service or failure\n",
    "maintenanceData.comp.value_counts().sort_index()"
   ]
  },
  {
   "cell_type": "code",
   "execution_count": 1695,
   "metadata": {},
   "outputs": [
    {
     "data": {
      "text/plain": [
       "(0.25, 4.75)"
      ]
     },
     "execution_count": 1695,
     "metadata": {},
     "output_type": "execute_result"
    },
    {
     "data": {
      "image/png": "[encoded data removed]",
      "text/plain": [
       "<Figure size 504x360 with 1 Axes>"
      ]
     },
     "metadata": {},
     "output_type": "display_data"
    }
   ],
   "source": [
    "# look at the component usage graphically\n",
    "plot = maintenanceData.plot.hist(alpha = .75, bins = 4, x = 'machineID', y = ['comp'],\n",
    "                                 edgecolor='black', linewidth=1.2, xticks = [1,2,3,4],\n",
    "                                 fontsize = 14, legend = True, figsize = (7, 5), color = 'b')\n",
    "plt.title('Component Maintenance Distrobution', size = 18)\n",
    "plt.xlabel('Component', size = 16)\n",
    "plt.ylabel(\"Quantity\", size = 16)\n",
    "plt.legend(prop={'size': 12})\n",
    "plt.xticks(range(1, 5))\n",
    "plt.xlim([.25,4.75])\n",
    "# not working to align the x ticks:\n",
    "#plt.xlabel.set_horizontalalignment('center')\n",
    "#ticker.set_horizontalalignment('center')\n",
    "#plot.set_horizontalalignment('center')\n",
    "#plot.set_xticks([0.5,1.5,2.5,3.5,4.5],      minor=True)\n",
    "#plot.set_xticklabels(['1','2','3','4'], minor=True)"
   ]
  },
  {
   "cell_type": "markdown",
   "metadata": {},
   "source": [
    "### Origins Data\n",
    "\n",
    "The vintage of each machine should add valuable correlation to the frequency of scheduled and failure component repairs."
   ]
  },
  {
   "cell_type": "code",
   "execution_count": 1696,
   "metadata": {},
   "outputs": [
    {
     "name": "stdout",
     "output_type": "stream",
     "text": [
      "<class 'pandas.core.frame.DataFrame'>\n",
      "RangeIndex: 100 entries, 0 to 99\n",
      "Data columns (total 3 columns):\n",
      "machineID    100 non-null int64\n",
      "model        100 non-null object\n",
      "age          100 non-null int64\n",
      "dtypes: int64(2), object(1)\n",
      "memory usage: 2.4+ KB\n"
     ]
    }
   ],
   "source": [
    "originsData.info()"
   ]
  },
  {
   "cell_type": "code",
   "execution_count": 1697,
   "metadata": {},
   "outputs": [],
   "source": [
    "# remove the begnning characters from 'model' column and change to integer data type\n",
    "originsData['model'] = originsData['model'].str[5:].astype(int)"
   ]
  },
  {
   "cell_type": "code",
   "execution_count": 1698,
   "metadata": {},
   "outputs": [
    {
     "data": {
      "text/plain": [
       "(100, 3)"
      ]
     },
     "execution_count": 1698,
     "metadata": {},
     "output_type": "execute_result"
    }
   ],
   "source": [
    "originsData.shape"
   ]
  },
  {
   "cell_type": "code",
   "execution_count": 1699,
   "metadata": {},
   "outputs": [
    {
     "data": {
      "text/plain": [
       "count    100.000000\n",
       "mean      11.330000\n",
       "std        5.856974\n",
       "min        0.000000\n",
       "25%        6.750000\n",
       "50%       12.000000\n",
       "75%       16.000000\n",
       "max       20.000000\n",
       "Name: age, dtype: float64"
      ]
     },
     "execution_count": 1699,
     "metadata": {},
     "output_type": "execute_result"
    }
   ],
   "source": [
    "originsData['age'].describe()"
   ]
  },
  {
   "cell_type": "code",
   "execution_count": 1700,
   "metadata": {},
   "outputs": [
    {
     "data": {
      "text/html": [
       "<div>\n",
       "<style scoped>\n",
       "    .dataframe tbody tr th:only-of-type {\n",
       "        vertical-align: middle;\n",
       "    }\n",
       "\n",
       "    .dataframe tbody tr th {\n",
       "        vertical-align: top;\n",
       "    }\n",
       "\n",
       "    .dataframe thead th {\n",
       "        text-align: right;\n",
       "    }\n",
       "</style>\n",
       "<table border=\"1\" class=\"dataframe\">\n",
       "  <thead>\n",
       "    <tr style=\"text-align: right;\">\n",
       "      <th></th>\n",
       "      <th>machineID</th>\n",
       "      <th>model</th>\n",
       "      <th>age</th>\n",
       "    </tr>\n",
       "  </thead>\n",
       "  <tbody>\n",
       "    <tr>\n",
       "      <th>81</th>\n",
       "      <td>82</td>\n",
       "      <td>3</td>\n",
       "      <td>11</td>\n",
       "    </tr>\n",
       "    <tr>\n",
       "      <th>29</th>\n",
       "      <td>30</td>\n",
       "      <td>3</td>\n",
       "      <td>20</td>\n",
       "    </tr>\n",
       "    <tr>\n",
       "      <th>3</th>\n",
       "      <td>4</td>\n",
       "      <td>3</td>\n",
       "      <td>7</td>\n",
       "    </tr>\n",
       "    <tr>\n",
       "      <th>32</th>\n",
       "      <td>33</td>\n",
       "      <td>3</td>\n",
       "      <td>14</td>\n",
       "    </tr>\n",
       "    <tr>\n",
       "      <th>67</th>\n",
       "      <td>68</td>\n",
       "      <td>3</td>\n",
       "      <td>10</td>\n",
       "    </tr>\n",
       "  </tbody>\n",
       "</table>\n",
       "</div>"
      ],
      "text/plain": [
       "    machineID  model  age\n",
       "81         82      3   11\n",
       "29         30      3   20\n",
       "3           4      3    7\n",
       "32         33      3   14\n",
       "67         68      3   10"
      ]
     },
     "execution_count": 1700,
     "metadata": {},
     "output_type": "execute_result"
    }
   ],
   "source": [
    "originsData.sample(5)"
   ]
  },
  {
   "cell_type": "code",
   "execution_count": 1701,
   "metadata": {},
   "outputs": [
    {
     "data": {
      "text/plain": [
       "1    16\n",
       "2    17\n",
       "3    35\n",
       "4    32\n",
       "Name: model, dtype: int64"
      ]
     },
     "execution_count": 1701,
     "metadata": {},
     "output_type": "execute_result"
    }
   ],
   "source": [
    "# quantity of each machine by model\n",
    "originsData.model.value_counts().sort_index()"
   ]
  },
  {
   "cell_type": "code",
   "execution_count": 1702,
   "metadata": {},
   "outputs": [
    {
     "data": {
      "text/plain": [
       "0      1\n",
       "1      3\n",
       "2      6\n",
       "3      4\n",
       "4      3\n",
       "5      4\n",
       "6      4\n",
       "7      6\n",
       "8      1\n",
       "9      5\n",
       "10    10\n",
       "11     2\n",
       "12     2\n",
       "14    14\n",
       "15     6\n",
       "16     5\n",
       "17     7\n",
       "18     6\n",
       "19     4\n",
       "20     7\n",
       "Name: age, dtype: int64"
      ]
     },
     "execution_count": 1702,
     "metadata": {},
     "output_type": "execute_result"
    }
   ],
   "source": [
    "# quantity of each machine by age\n",
    "originsData.age.value_counts().sort_index()"
   ]
  },
  {
   "cell_type": "code",
   "execution_count": 1703,
   "metadata": {},
   "outputs": [
    {
     "data": {
      "text/plain": [
       "<seaborn.axisgrid.PairGrid at 0x24a22f28>"
      ]
     },
     "execution_count": 1703,
     "metadata": {},
     "output_type": "execute_result"
    },
    {
     "data": {
      "image/png": "[encoded data removed]",
      "text/plain": [
       "<Figure size 540x540 with 12 Axes>"
      ]
     },
     "metadata": {},
     "output_type": "display_data"
    }
   ],
   "source": [
    "# a look at indivual machines vs model vs age\n",
    "\n",
    "#sns.pairplot(data = originsData, vars=[\"model\", \"age\", 'machineID']);\n",
    "sns.set(style=\"ticks\", color_codes=True)\n",
    "sns.pairplot(data = originsData)#(data = originsData);"
   ]
  },
  {
   "cell_type": "code",
   "execution_count": 1704,
   "metadata": {},
   "outputs": [],
   "source": [
    "#plt.figure(figsize=(7,5))\n",
    "#plt.scatter('age', 'machineID', data = originsData)\n",
    "#plt.ylabel('Machine ID')\n",
    "#plt.xlabel('Age')"
   ]
  },
  {
   "cell_type": "markdown",
   "metadata": {},
   "source": [
    "### Failure Data\n",
    "\n",
    "This will obviously contain critical features to predicting future failures."
   ]
  },
  {
   "cell_type": "code",
   "execution_count": 1705,
   "metadata": {},
   "outputs": [
    {
     "name": "stdout",
     "output_type": "stream",
     "text": [
      "<class 'pandas.core.frame.DataFrame'>\n",
      "RangeIndex: 761 entries, 0 to 760\n",
      "Data columns (total 3 columns):\n",
      "datetime     761 non-null object\n",
      "machineID    761 non-null int64\n",
      "failure      761 non-null object\n",
      "dtypes: int64(1), object(2)\n",
      "memory usage: 17.9+ KB\n"
     ]
    }
   ],
   "source": [
    "failureData.info()"
   ]
  },
  {
   "cell_type": "code",
   "execution_count": 1706,
   "metadata": {},
   "outputs": [
    {
     "data": {
      "text/html": [
       "<div>\n",
       "<style scoped>\n",
       "    .dataframe tbody tr th:only-of-type {\n",
       "        vertical-align: middle;\n",
       "    }\n",
       "\n",
       "    .dataframe tbody tr th {\n",
       "        vertical-align: top;\n",
       "    }\n",
       "\n",
       "    .dataframe thead th {\n",
       "        text-align: right;\n",
       "    }\n",
       "</style>\n",
       "<table border=\"1\" class=\"dataframe\">\n",
       "  <thead>\n",
       "    <tr style=\"text-align: right;\">\n",
       "      <th></th>\n",
       "      <th>datetime</th>\n",
       "      <th>machineID</th>\n",
       "      <th>failure</th>\n",
       "    </tr>\n",
       "  </thead>\n",
       "  <tbody>\n",
       "    <tr>\n",
       "      <th>184</th>\n",
       "      <td>2015-10-02 06:00:00</td>\n",
       "      <td>23</td>\n",
       "      <td>comp3</td>\n",
       "    </tr>\n",
       "    <tr>\n",
       "      <th>516</th>\n",
       "      <td>2015-06-10 06:00:00</td>\n",
       "      <td>71</td>\n",
       "      <td>comp4</td>\n",
       "    </tr>\n",
       "    <tr>\n",
       "      <th>55</th>\n",
       "      <td>2015-05-19 06:00:00</td>\n",
       "      <td>10</td>\n",
       "      <td>comp2</td>\n",
       "    </tr>\n",
       "  </tbody>\n",
       "</table>\n",
       "</div>"
      ],
      "text/plain": [
       "                datetime  machineID failure\n",
       "184  2015-10-02 06:00:00         23   comp3\n",
       "516  2015-06-10 06:00:00         71   comp4\n",
       "55   2015-05-19 06:00:00         10   comp2"
      ]
     },
     "execution_count": 1706,
     "metadata": {},
     "output_type": "execute_result"
    }
   ],
   "source": [
    "failureData.sample(3)"
   ]
  },
  {
   "cell_type": "code",
   "execution_count": 1707,
   "metadata": {},
   "outputs": [],
   "source": [
    "failureData['failure'] = failureData['failure'].str[4:].astype(int)\n",
    "failureData['datetime'] = pd.to_datetime(failureData['datetime'], infer_datetime_format = True)"
   ]
  },
  {
   "cell_type": "code",
   "execution_count": 1708,
   "metadata": {},
   "outputs": [
    {
     "data": {
      "text/html": [
       "<div>\n",
       "<style scoped>\n",
       "    .dataframe tbody tr th:only-of-type {\n",
       "        vertical-align: middle;\n",
       "    }\n",
       "\n",
       "    .dataframe tbody tr th {\n",
       "        vertical-align: top;\n",
       "    }\n",
       "\n",
       "    .dataframe thead th {\n",
       "        text-align: right;\n",
       "    }\n",
       "</style>\n",
       "<table border=\"1\" class=\"dataframe\">\n",
       "  <thead>\n",
       "    <tr style=\"text-align: right;\">\n",
       "      <th></th>\n",
       "      <th>datetime</th>\n",
       "      <th>machineID</th>\n",
       "      <th>failure</th>\n",
       "    </tr>\n",
       "  </thead>\n",
       "  <tbody>\n",
       "    <tr>\n",
       "      <th>0</th>\n",
       "      <td>2015-01-05 06:00:00</td>\n",
       "      <td>1</td>\n",
       "      <td>4</td>\n",
       "    </tr>\n",
       "    <tr>\n",
       "      <th>1</th>\n",
       "      <td>2015-03-06 06:00:00</td>\n",
       "      <td>1</td>\n",
       "      <td>1</td>\n",
       "    </tr>\n",
       "    <tr>\n",
       "      <th>2</th>\n",
       "      <td>2015-04-20 06:00:00</td>\n",
       "      <td>1</td>\n",
       "      <td>2</td>\n",
       "    </tr>\n",
       "  </tbody>\n",
       "</table>\n",
       "</div>"
      ],
      "text/plain": [
       "             datetime  machineID  failure\n",
       "0 2015-01-05 06:00:00          1        4\n",
       "1 2015-03-06 06:00:00          1        1\n",
       "2 2015-04-20 06:00:00          1        2"
      ]
     },
     "execution_count": 1708,
     "metadata": {},
     "output_type": "execute_result"
    }
   ],
   "source": [
    "failureData.head(3)"
   ]
  },
  {
   "cell_type": "code",
   "execution_count": 1709,
   "metadata": {},
   "outputs": [
    {
     "data": {
      "text/plain": [
       "count    761.000000\n",
       "mean       2.390276\n",
       "std        1.102084\n",
       "min        1.000000\n",
       "25%        1.000000\n",
       "50%        2.000000\n",
       "75%        3.000000\n",
       "max        4.000000\n",
       "Name: failure, dtype: float64"
      ]
     },
     "execution_count": 1709,
     "metadata": {},
     "output_type": "execute_result"
    }
   ],
   "source": [
    "failureData['failure'].describe()"
   ]
  },
  {
   "cell_type": "code",
   "execution_count": 1710,
   "metadata": {},
   "outputs": [
    {
     "data": {
      "text/plain": [
       "1    192\n",
       "2    259\n",
       "3    131\n",
       "4    179\n",
       "Name: failure, dtype: int64"
      ]
     },
     "execution_count": 1710,
     "metadata": {},
     "output_type": "execute_result"
    }
   ],
   "source": [
    "# quantity of each component failure\n",
    "failureData.failure.value_counts().sort_index()"
   ]
  },
  {
   "cell_type": "code",
   "execution_count": 1711,
   "metadata": {},
   "outputs": [
    {
     "data": {
      "text/plain": [
       "(0.25, 4.75)"
      ]
     },
     "execution_count": 1711,
     "metadata": {},
     "output_type": "execute_result"
    },
    {
     "data": {
      "image/png": "[encoded data removed]",
      "text/plain": [
       "<Figure size 504x360 with 1 Axes>"
      ]
     },
     "metadata": {},
     "output_type": "display_data"
    }
   ],
   "source": [
    "# look at the component usage graphically\n",
    "plot = failureData.plot.hist(alpha = .75, bins = 4, x = 'machineID', y = ['failure'],\n",
    "                                 edgecolor='black', linewidth=1.2, xticks = [1,2,3,4],\n",
    "                                 fontsize = 14, legend = True, figsize = (7, 5), color = 'b')\n",
    "plt.title('Component Failure Distrobution', size = 18)\n",
    "plt.xlabel('Component', size = 16)\n",
    "plt.ylabel(\"Quantity\", size = 16)\n",
    "plt.legend(prop={'size': 12})\n",
    "plt.xticks(range(1, 5))\n",
    "plt.xlim([.25,4.75])"
   ]
  },
  {
   "cell_type": "markdown",
   "metadata": {},
   "source": [
    "### Error Data\n",
    "\n",
    "We're going to see if there is a correlation between the errors generated on the machines, and eventual component maintenance / failure."
   ]
  },
  {
   "cell_type": "code",
   "execution_count": 1712,
   "metadata": {},
   "outputs": [
    {
     "name": "stdout",
     "output_type": "stream",
     "text": [
      "<class 'pandas.core.frame.DataFrame'>\n",
      "RangeIndex: 3919 entries, 0 to 3918\n",
      "Data columns (total 3 columns):\n",
      "datetime     3919 non-null object\n",
      "machineID    3919 non-null int64\n",
      "errorID      3919 non-null object\n",
      "dtypes: int64(1), object(2)\n",
      "memory usage: 91.9+ KB\n"
     ]
    }
   ],
   "source": [
    "errorData.info()"
   ]
  },
  {
   "cell_type": "code",
   "execution_count": 1713,
   "metadata": {},
   "outputs": [
    {
     "data": {
      "text/html": [
       "<div>\n",
       "<style scoped>\n",
       "    .dataframe tbody tr th:only-of-type {\n",
       "        vertical-align: middle;\n",
       "    }\n",
       "\n",
       "    .dataframe tbody tr th {\n",
       "        vertical-align: top;\n",
       "    }\n",
       "\n",
       "    .dataframe thead th {\n",
       "        text-align: right;\n",
       "    }\n",
       "</style>\n",
       "<table border=\"1\" class=\"dataframe\">\n",
       "  <thead>\n",
       "    <tr style=\"text-align: right;\">\n",
       "      <th></th>\n",
       "      <th>datetime</th>\n",
       "      <th>machineID</th>\n",
       "      <th>errorID</th>\n",
       "    </tr>\n",
       "  </thead>\n",
       "  <tbody>\n",
       "    <tr>\n",
       "      <th>2249</th>\n",
       "      <td>2015-02-03 00:00:00</td>\n",
       "      <td>59</td>\n",
       "      <td>error1</td>\n",
       "    </tr>\n",
       "    <tr>\n",
       "      <th>3061</th>\n",
       "      <td>2015-12-25 16:00:00</td>\n",
       "      <td>79</td>\n",
       "      <td>error4</td>\n",
       "    </tr>\n",
       "    <tr>\n",
       "      <th>2041</th>\n",
       "      <td>2015-11-04 09:00:00</td>\n",
       "      <td>53</td>\n",
       "      <td>error3</td>\n",
       "    </tr>\n",
       "  </tbody>\n",
       "</table>\n",
       "</div>"
      ],
      "text/plain": [
       "                 datetime  machineID errorID\n",
       "2249  2015-02-03 00:00:00         59  error1\n",
       "3061  2015-12-25 16:00:00         79  error4\n",
       "2041  2015-11-04 09:00:00         53  error3"
      ]
     },
     "execution_count": 1713,
     "metadata": {},
     "output_type": "execute_result"
    }
   ],
   "source": [
    "errorData.sample(3)"
   ]
  },
  {
   "cell_type": "code",
   "execution_count": 1714,
   "metadata": {},
   "outputs": [],
   "source": [
    "errorData['errorID'] = errorData['errorID'].str[5:].astype(int)\n",
    "errorData['datetime'] = pd.to_datetime(errorData['datetime'], infer_datetime_format = True)"
   ]
  },
  {
   "cell_type": "code",
   "execution_count": 1715,
   "metadata": {},
   "outputs": [
    {
     "data": {
      "text/html": [
       "<div>\n",
       "<style scoped>\n",
       "    .dataframe tbody tr th:only-of-type {\n",
       "        vertical-align: middle;\n",
       "    }\n",
       "\n",
       "    .dataframe tbody tr th {\n",
       "        vertical-align: top;\n",
       "    }\n",
       "\n",
       "    .dataframe thead th {\n",
       "        text-align: right;\n",
       "    }\n",
       "</style>\n",
       "<table border=\"1\" class=\"dataframe\">\n",
       "  <thead>\n",
       "    <tr style=\"text-align: right;\">\n",
       "      <th></th>\n",
       "      <th>datetime</th>\n",
       "      <th>machineID</th>\n",
       "      <th>errorID</th>\n",
       "    </tr>\n",
       "  </thead>\n",
       "  <tbody>\n",
       "    <tr>\n",
       "      <th>0</th>\n",
       "      <td>2015-01-03 07:00:00</td>\n",
       "      <td>1</td>\n",
       "      <td>1</td>\n",
       "    </tr>\n",
       "    <tr>\n",
       "      <th>1</th>\n",
       "      <td>2015-01-03 20:00:00</td>\n",
       "      <td>1</td>\n",
       "      <td>3</td>\n",
       "    </tr>\n",
       "    <tr>\n",
       "      <th>2</th>\n",
       "      <td>2015-01-04 06:00:00</td>\n",
       "      <td>1</td>\n",
       "      <td>5</td>\n",
       "    </tr>\n",
       "  </tbody>\n",
       "</table>\n",
       "</div>"
      ],
      "text/plain": [
       "             datetime  machineID  errorID\n",
       "0 2015-01-03 07:00:00          1        1\n",
       "1 2015-01-03 20:00:00          1        3\n",
       "2 2015-01-04 06:00:00          1        5"
      ]
     },
     "execution_count": 1715,
     "metadata": {},
     "output_type": "execute_result"
    }
   ],
   "source": [
    "errorData.head(3)"
   ]
  },
  {
   "cell_type": "code",
   "execution_count": 1716,
   "metadata": {},
   "outputs": [
    {
     "data": {
      "text/plain": [
       "1    1010\n",
       "2     988\n",
       "3     838\n",
       "4     727\n",
       "5     356\n",
       "Name: errorID, dtype: int64"
      ]
     },
     "execution_count": 1716,
     "metadata": {},
     "output_type": "execute_result"
    }
   ],
   "source": [
    "# quantity of each error\n",
    "errorData.errorID.value_counts().sort_index()"
   ]
  },
  {
   "cell_type": "code",
   "execution_count": 1717,
   "metadata": {},
   "outputs": [
    {
     "data": {
      "text/plain": [
       "(0.25, 5.75)"
      ]
     },
     "execution_count": 1717,
     "metadata": {},
     "output_type": "execute_result"
    },
    {
     "data": {
      "image/png": "[encoded data removed]",
      "text/plain": [
       "<Figure size 504x360 with 1 Axes>"
      ]
     },
     "metadata": {},
     "output_type": "display_data"
    }
   ],
   "source": [
    "# look at the component usage graphically\n",
    "plot = errorData.plot.hist(alpha = .75, bins = 5, x = 'machineID', y = ['errorID'],\n",
    "                                 edgecolor='black', linewidth=1.2, xticks = [1,2,3,4,5],\n",
    "                                 fontsize = 14, legend = True, figsize = (7, 5), color = 'b')\n",
    "plt.title('Component Error Message Distrobution', size = 18)\n",
    "plt.xlabel('Component', size = 16)\n",
    "plt.ylabel(\"Quantity\", size = 16)\n",
    "plt.legend(prop={'size': 12})\n",
    "plt.xticks(range(1, 6))\n",
    "plt.xlim([.25,5.75])"
   ]
  },
  {
   "cell_type": "markdown",
   "metadata": {},
   "source": [
    "When I first saw a data set for performed maintenance, failures, and errors I assumed they should go together pretty simply. After looking at this last data set though, there are five different error messages, but we only have four unqiue components. Going back to look at the information provided at the beginning of this notebook, there is no useful information to define what these errors are or how they correlate at the maintenance level. After merging the data sets we're going to change all the error codes to 1, and do a simply binary categorization to see and correlation between the errors and maintenance/failures."
   ]
  },
  {
   "cell_type": "markdown",
   "metadata": {},
   "source": [
    "### Merging, Futher Cleaning, and Feature Engineering"
   ]
  },
  {
   "cell_type": "code",
   "execution_count": 1718,
   "metadata": {},
   "outputs": [],
   "source": [
    "singleDF = pd.merge(sensorData, maintenanceData, how = 'left', on = ['datetime', 'machineID'])\n",
    "singleDF = pd.merge(singleDF, errorData, how = 'left', on = ['datetime', 'machineID'])\n",
    "singleDF = pd.merge(singleDF, failureData, how = 'left', on = ['datetime', 'machineID'])\n",
    "singleDF = pd.merge(singleDF, originsData, how = 'left', on = ['machineID'])\n",
    "singleDF.drop(['volt_ma', 'rotate_ma', 'pressure_ma', 'vibration_ma'], axis=1, inplace=True)\n",
    "singleDF.fillna(0, inplace=True)\n",
    "for f in ['comp', 'errorID', 'failure']:\n",
    "    singleDF[f] = singleDF[f].astype(int)"
   ]
  },
  {
   "cell_type": "code",
   "execution_count": 1719,
   "metadata": {},
   "outputs": [
    {
     "data": {
      "text/html": [
       "<div>\n",
       "<style scoped>\n",
       "    .dataframe tbody tr th:only-of-type {\n",
       "        vertical-align: middle;\n",
       "    }\n",
       "\n",
       "    .dataframe tbody tr th {\n",
       "        vertical-align: top;\n",
       "    }\n",
       "\n",
       "    .dataframe thead th {\n",
       "        text-align: right;\n",
       "    }\n",
       "</style>\n",
       "<table border=\"1\" class=\"dataframe\">\n",
       "  <thead>\n",
       "    <tr style=\"text-align: right;\">\n",
       "      <th></th>\n",
       "      <th>datetime</th>\n",
       "      <th>machineID</th>\n",
       "      <th>volt</th>\n",
       "      <th>rotate</th>\n",
       "      <th>pressure</th>\n",
       "      <th>vibration</th>\n",
       "      <th>comp</th>\n",
       "      <th>errorID</th>\n",
       "      <th>failure</th>\n",
       "      <th>model</th>\n",
       "      <th>age</th>\n",
       "    </tr>\n",
       "  </thead>\n",
       "  <tbody>\n",
       "    <tr>\n",
       "      <th>386474</th>\n",
       "      <td>2015-01-20 19:00:00</td>\n",
       "      <td>45</td>\n",
       "      <td>176.599525</td>\n",
       "      <td>354.848046</td>\n",
       "      <td>111.516157</td>\n",
       "      <td>37.111664</td>\n",
       "      <td>0</td>\n",
       "      <td>0</td>\n",
       "      <td>0</td>\n",
       "      <td>3</td>\n",
       "      <td>14</td>\n",
       "    </tr>\n",
       "    <tr>\n",
       "      <th>210778</th>\n",
       "      <td>2015-01-10 15:00:00</td>\n",
       "      <td>25</td>\n",
       "      <td>176.902784</td>\n",
       "      <td>400.945882</td>\n",
       "      <td>94.278447</td>\n",
       "      <td>35.900996</td>\n",
       "      <td>0</td>\n",
       "      <td>0</td>\n",
       "      <td>0</td>\n",
       "      <td>4</td>\n",
       "      <td>16</td>\n",
       "    </tr>\n",
       "    <tr>\n",
       "      <th>831145</th>\n",
       "      <td>2015-10-01 16:00:00</td>\n",
       "      <td>95</td>\n",
       "      <td>156.342070</td>\n",
       "      <td>463.229129</td>\n",
       "      <td>81.978980</td>\n",
       "      <td>47.840859</td>\n",
       "      <td>0</td>\n",
       "      <td>0</td>\n",
       "      <td>0</td>\n",
       "      <td>2</td>\n",
       "      <td>18</td>\n",
       "    </tr>\n",
       "    <tr>\n",
       "      <th>461762</th>\n",
       "      <td>2015-08-21 20:00:00</td>\n",
       "      <td>53</td>\n",
       "      <td>163.401397</td>\n",
       "      <td>471.009239</td>\n",
       "      <td>91.103747</td>\n",
       "      <td>36.464282</td>\n",
       "      <td>0</td>\n",
       "      <td>0</td>\n",
       "      <td>0</td>\n",
       "      <td>3</td>\n",
       "      <td>5</td>\n",
       "    </tr>\n",
       "    <tr>\n",
       "      <th>704674</th>\n",
       "      <td>2015-05-02 11:00:00</td>\n",
       "      <td>81</td>\n",
       "      <td>203.650609</td>\n",
       "      <td>446.165508</td>\n",
       "      <td>109.549765</td>\n",
       "      <td>41.128039</td>\n",
       "      <td>0</td>\n",
       "      <td>0</td>\n",
       "      <td>0</td>\n",
       "      <td>4</td>\n",
       "      <td>1</td>\n",
       "    </tr>\n",
       "  </tbody>\n",
       "</table>\n",
       "</div>"
      ],
      "text/plain": [
       "                  datetime  machineID        volt      rotate    pressure  \\\n",
       "386474 2015-01-20 19:00:00         45  176.599525  354.848046  111.516157   \n",
       "210778 2015-01-10 15:00:00         25  176.902784  400.945882   94.278447   \n",
       "831145 2015-10-01 16:00:00         95  156.342070  463.229129   81.978980   \n",
       "461762 2015-08-21 20:00:00         53  163.401397  471.009239   91.103747   \n",
       "704674 2015-05-02 11:00:00         81  203.650609  446.165508  109.549765   \n",
       "\n",
       "        vibration  comp  errorID  failure  model  age  \n",
       "386474  37.111664     0        0        0      3   14  \n",
       "210778  35.900996     0        0        0      4   16  \n",
       "831145  47.840859     0        0        0      2   18  \n",
       "461762  36.464282     0        0        0      3    5  \n",
       "704674  41.128039     0        0        0      4    1  "
      ]
     },
     "execution_count": 1719,
     "metadata": {},
     "output_type": "execute_result"
    }
   ],
   "source": [
    "singleDF.sample(5)"
   ]
  },
  {
   "cell_type": "code",
   "execution_count": 1720,
   "metadata": {},
   "outputs": [
    {
     "data": {
      "text/plain": [
       "(877209, 11)"
      ]
     },
     "execution_count": 1720,
     "metadata": {},
     "output_type": "execute_result"
    }
   ],
   "source": [
    "singleDF.shape"
   ]
  },
  {
   "cell_type": "code",
   "execution_count": 1722,
   "metadata": {},
   "outputs": [
    {
     "name": "stdout",
     "output_type": "stream",
     "text": [
      "<class 'pandas.core.frame.DataFrame'>\n",
      "Int64Index: 877209 entries, 0 to 877208\n",
      "Data columns (total 11 columns):\n",
      "datetime     877209 non-null datetime64[ns]\n",
      "machineID    877209 non-null int64\n",
      "volt         877209 non-null float64\n",
      "rotate       877209 non-null float64\n",
      "pressure     877209 non-null float64\n",
      "vibration    877209 non-null float64\n",
      "comp         877209 non-null int32\n",
      "errorID      877209 non-null int32\n",
      "failure      877209 non-null int32\n",
      "model        877209 non-null int32\n",
      "age          877209 non-null int64\n",
      "dtypes: datetime64[ns](1), float64(4), int32(4), int64(2)\n",
      "memory usage: 66.9 MB\n"
     ]
    }
   ],
   "source": [
    "singleDF.info()"
   ]
  },
  {
   "cell_type": "markdown",
   "metadata": {},
   "source": [
    "## the feature 'comp' from maintenance data lost some rows in the merger,  'failures' gained rows!? 'errorID' gained 5?? maybe it has to do with a single machine having more than one entry at the same time? no...same time and more than one machine entry? yes maybe"
   ]
  }
 ],
 "metadata": {
  "kernelspec": {
   "display_name": "Python 3",
   "language": "python",
   "name": "python3"
  },
  "language_info": {
   "codemirror_mode": {
    "name": "ipython",
    "version": 3
   },
   "file_extension": ".py",
   "mimetype": "text/x-python",
   "name": "python",
   "nbconvert_exporter": "python",
   "pygments_lexer": "ipython3",
   "version": "3.6.6"
  }
 },
 "nbformat": 4,
 "nbformat_minor": 2
}
