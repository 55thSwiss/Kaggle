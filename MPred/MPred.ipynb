{
 "cells": [
  {
   "cell_type": "markdown",
   "metadata": {},
   "source": [
    "# Kaggle - Mpred\n",
    "## Predicitive Maintenance Challenge\n",
    "### https://www.kaggle.com/c/mpred-datascience-challenge\n",
    "#### By: 55thSwiss\n"
   ]
  },
  {
   "cell_type": "markdown",
   "metadata": {},
   "source": [
    "## Introduction\n",
    "\n",
    "A major problem faced by businesses in asset-heavy industries such as manufacturing is the significant \n",
    "costs that are associated with delays in the production process due to mechanical problems. Most of these \n",
    "businesses are interested in predicting these problems in advance so that they can proactively prevent the \n",
    "problems before they occur which will reduce the costly impact caused by downtime.\n",
    "\n",
    "The business problem for this example is about predicting problems caused by component failures such that \n",
    "the question “What is the probability that a machine will fail in the near future due to a failure of a \n",
    "certain component” can be answered. The problem is formatted as a multi-class classification problem and \n",
    "a machine learning algorithm is used to create the predictive model that learns from historical data collected \n",
    "from machines.\n",
    "\n",
    "The goal is to predict when a given machine will fail within 24 hours due to a failure of a given component ."
   ]
  },
  {
   "cell_type": "markdown",
   "metadata": {},
   "source": [
    "## Sources\n",
    "\n",
    "Please refer to the playbook [1] for predictive maintenance for a detailed explanation of common use cases \n",
    "in predictive maintenance and modelling approaches.\n",
    "\n",
    "Original data set can be found at [2]\n",
    "\n",
    "[1] https://docs.microsoft.com/fr-fr/azure/machine-learning/team-data-science-process/cortana-analytics-playbook-predictive-maintenance\n",
    "\n",
    "[2] https://www.kaggle.com/yuansaijie0604/xinjiang-pm/data"
   ]
  },
  {
   "cell_type": "markdown",
   "metadata": {},
   "source": [
    "## Data Description\n",
    "\n",
    "In this competition, you are asked to estimate the probability that a machine will fail in the near future due to a \n",
    "failure of a certain component. More specifically, the goal is to compute the probability that a machine will fail in \n",
    "the next 24 hours due to a certain component failure (component 1,2,3 or 4) hence you are asked to classify the \n",
    "observations into 5 categories : comp1, comp2,comp3,comp4 and none (e.g : The machine will fail due to \n",
    "component 1... 4 or will not fail in the next 24h)."
   ]
  },
  {
   "cell_type": "markdown",
   "metadata": {},
   "source": [
    "## TRAIN/SPLIT\n",
    "\n",
    "The data is made of 5 different data set : Errors, Failures, Machines features, Maintenance history and Telemetry which contains the historical data collected from 100 different machines\n",
    "\n",
    "The training set contains the data of 70 machines while the test set contains the data of the 30 remaining machines\n",
    "\n",
    "The data is collected every hour for a year. For simplicity, you are asked to group the data into 3 hours windows."
   ]
  },
  {
   "cell_type": "markdown",
   "metadata": {},
   "source": [
    "## File descriptions\n",
    "\n",
    "__telemetry.csv__ The first data source is the telemetry time-series data which consists of voltage, rotation, pressure and vibration measurements collected from 70 machines in real time averaged over every hour collected during the year 2015\n",
    "\n",
    "__errors.csv__ The errors logs are non-breaking errors thrown while the machine is still operational and do not constitute as failures. The error date and times are rounded to the closest hour since the telemetry data is collected at an hourly rate.\n",
    "\n",
    "__maint.csv__ This file contains the scheduled and unscheduled maintenance records which correspond to both regular inspection of components as well as failures. A record is generated if a component is replaced during the scheduled inspection or replaced due to a break down. The records that are created due to break downs will be called failures which is explained in the later sections. Maintenance data has both 2014 and 2015 records.\n",
    "\n",
    "__machines.csv__ This data set includes some information about the machines which are model type and years in service.\n",
    "\n",
    "__failures.csv__ These are the records of component replacements due to failures. Each record has a date and time, machine ID and failed component type."
   ]
  },
  {
   "cell_type": "markdown",
   "metadata": {},
   "source": [
    "## Data fields\n",
    "\n",
    "__volt, rotate, pressure, vibration__ Voltage, rotation, pressure and vibration measurements collected from the machines\n",
    "\n",
    "__machineID__ The ID of a machine\n",
    "\n",
    "__datetime__ The date\n",
    "\n",
    "__errorID__ The ID of an error\n",
    "\n",
    "__comp__ The component replaced during the scheduled maintenance\n",
    "\n",
    "__model__ Model of the machine\n",
    "\n",
    "__age__ Years in service\n",
    "\n",
    "__errorID__ The ID of an error\n",
    "\n",
    "__failure__ Failed component type"
   ]
  },
  {
   "cell_type": "markdown",
   "metadata": {},
   "source": [
    "### First assessment\n",
    "There has been a problem defined that forms the objective of the project and we've also been given the data to work with. Typically this would be steps one __(1)__ and two __(2)__ respectively, gaining an understanding of the business and defining the problem (an absolute precursor to deciding requirements and method of solution) as well as collecting the data, in this case from the manufacturing floor."
   ]
  },
  {
   "cell_type": "markdown",
   "metadata": {},
   "source": [
    "### Wrangling or preparing the data for consumption\n",
    "There are a few requirements from the introduction on the formatting of the data and how it should be proceesed. In this step the data will be formatted as well as examined for it's architecture in regards to storage and processing, and an initial cleaning for aberrant, missing, duplicate, or outlier data points within each dataset. This is a good point to determine possible independent and dependent variables.  If a key feature has been identified, the dataframes will be easily concatenated, otherwise it will be done \"manually\". Lastly, the cumulative dataframe can be split into training, test, and validation tables. "
   ]
  },
  {
   "cell_type": "code",
   "execution_count": 165,
   "metadata": {},
   "outputs": [],
   "source": [
    "#libraries\n",
    "import sys\n",
    "import os\n",
    "import pandas as pd \n",
    "import numpy as np\n",
    "import matplotlib as mpl\n",
    "import matplotlib.pyplot as plt\n",
    "import matplotlib.pylab as pylab\n",
    "import matplotlib.ticker as ticker\n",
    "import seaborn as sns\n",
    "import sklearn\n",
    "from sklearn.preprocessing import minmax_scale\n",
    "import datetime\n",
    "import warnings\n",
    "warnings.filterwarnings('ignore')\n",
    "\n",
    "#vizualization defaults\n",
    "%matplotlib inline\n",
    "mpl.style.use('ggplot')\n",
    "sns.set_style('white')\n",
    "pylab.rcParams['figure.figsize'] = 12,8\n",
    "pd.set_option('display.max_columns', None)\n",
    "pd.set_option('display.max_rows', None)"
   ]
  },
  {
   "cell_type": "markdown",
   "metadata": {},
   "source": [
    "The first dataset I tried looking at was telemetry.csv, but an error kicked up when loading the CSV:\n",
    "\n",
    "```ParserError: Error tokenizing data. C error: Expected 6 fields in line 92490, saw 9```\n",
    "\n",
    "This likely kicked up from missing information, meaning cells that were void of any value. Opening in a spreadsheet editor like Excel often fixes this by replacing the empty cells with a NaN status. "
   ]
  },
  {
   "cell_type": "code",
   "execution_count": 166,
   "metadata": {},
   "outputs": [],
   "source": [
    "#import data\n",
    "sensorData = pd.read_csv('PdM_telemetry.csv')\n",
    "maintenanceData = pd.read_csv('PdM_maint.csv')\n",
    "originsData = pd.read_csv('PdM_machines.csv')\n",
    "failureData = pd.read_csv('PdM_failures.csv')\n",
    "errorData = pd.read_csv('PdM_errors.csv')"
   ]
  },
  {
   "cell_type": "markdown",
   "metadata": {},
   "source": [
    "We'll do a first run through starting with 'telemetry.csv' since this is the largest dataset, then finish up the rest quickly. After opening the csv in Excel we're able to import it into the notebook but it has three columns of entirely null values. I've confirmed this is just an anomaly and the csv is infact empty in those columns (seems to be a formatting error, one row contained a shifted column heading in the data cells), they will be dropped. "
   ]
  },
  {
   "cell_type": "markdown",
   "metadata": {},
   "source": [
    "### Telemetry Data:\n",
    "\n",
    "This is is going to be the most valuable dataset inidivudally, as it contains a vast amount of sensor readings from one hundred different machines. This will probably be the foundation dataset for merging."
   ]
  },
  {
   "cell_type": "code",
   "execution_count": 167,
   "metadata": {},
   "outputs": [
    {
     "name": "stdout",
     "output_type": "stream",
     "text": [
      "<class 'pandas.core.frame.DataFrame'>\n",
      "RangeIndex: 968589 entries, 0 to 968588\n",
      "Data columns (total 9 columns):\n",
      "datetime      968589 non-null object\n",
      "machineID     968589 non-null int64\n",
      "volt          968589 non-null float64\n",
      "rotate        968589 non-null object\n",
      "pressure      968589 non-null object\n",
      "vibration     968589 non-null object\n",
      "Unnamed: 6    1 non-null object\n",
      "Unnamed: 7    1 non-null object\n",
      "Unnamed: 8    1 non-null object\n",
      "dtypes: float64(1), int64(1), object(7)\n",
      "memory usage: 66.5+ MB\n"
     ]
    }
   ],
   "source": [
    "#first look\n",
    "sensorData.info()"
   ]
  },
  {
   "cell_type": "code",
   "execution_count": 168,
   "metadata": {},
   "outputs": [
    {
     "data": {
      "text/html": [
       "<div>\n",
       "<style scoped>\n",
       "    .dataframe tbody tr th:only-of-type {\n",
       "        vertical-align: middle;\n",
       "    }\n",
       "\n",
       "    .dataframe tbody tr th {\n",
       "        vertical-align: top;\n",
       "    }\n",
       "\n",
       "    .dataframe thead th {\n",
       "        text-align: right;\n",
       "    }\n",
       "</style>\n",
       "<table border=\"1\" class=\"dataframe\">\n",
       "  <thead>\n",
       "    <tr style=\"text-align: right;\">\n",
       "      <th></th>\n",
       "      <th>datetime</th>\n",
       "      <th>machineID</th>\n",
       "      <th>volt</th>\n",
       "      <th>rotate</th>\n",
       "      <th>pressure</th>\n",
       "      <th>vibration</th>\n",
       "      <th>Unnamed: 6</th>\n",
       "      <th>Unnamed: 7</th>\n",
       "      <th>Unnamed: 8</th>\n",
       "    </tr>\n",
       "  </thead>\n",
       "  <tbody>\n",
       "    <tr>\n",
       "      <th>679148</th>\n",
       "      <td>12/18/2015 15:00</td>\n",
       "      <td>67</td>\n",
       "      <td>183.023081</td>\n",
       "      <td>520.022</td>\n",
       "      <td>122.401</td>\n",
       "      <td>36.0168</td>\n",
       "      <td>NaN</td>\n",
       "      <td>NaN</td>\n",
       "      <td>NaN</td>\n",
       "    </tr>\n",
       "    <tr>\n",
       "      <th>773945</th>\n",
       "      <td>10/14/2015 1:00</td>\n",
       "      <td>78</td>\n",
       "      <td>180.971126</td>\n",
       "      <td>473.997</td>\n",
       "      <td>85.9261</td>\n",
       "      <td>38.5643</td>\n",
       "      <td>NaN</td>\n",
       "      <td>NaN</td>\n",
       "      <td>NaN</td>\n",
       "    </tr>\n",
       "    <tr>\n",
       "      <th>357116</th>\n",
       "      <td>3/17/2015 3:00</td>\n",
       "      <td>31</td>\n",
       "      <td>165.795501</td>\n",
       "      <td>435.993</td>\n",
       "      <td>107.514</td>\n",
       "      <td>39.716</td>\n",
       "      <td>NaN</td>\n",
       "      <td>NaN</td>\n",
       "      <td>NaN</td>\n",
       "    </tr>\n",
       "  </tbody>\n",
       "</table>\n",
       "</div>"
      ],
      "text/plain": [
       "                datetime  machineID        volt   rotate pressure vibration  \\\n",
       "679148  12/18/2015 15:00         67  183.023081  520.022  122.401   36.0168   \n",
       "773945   10/14/2015 1:00         78  180.971126  473.997  85.9261   38.5643   \n",
       "357116    3/17/2015 3:00         31  165.795501  435.993  107.514    39.716   \n",
       "\n",
       "       Unnamed: 6 Unnamed: 7 Unnamed: 8  \n",
       "679148        NaN        NaN        NaN  \n",
       "773945        NaN        NaN        NaN  \n",
       "357116        NaN        NaN        NaN  "
      ]
     },
     "execution_count": 168,
     "metadata": {},
     "output_type": "execute_result"
    }
   ],
   "source": [
    "sensorData.sample(3)"
   ]
  },
  {
   "cell_type": "code",
   "execution_count": 169,
   "metadata": {},
   "outputs": [
    {
     "name": "stdout",
     "output_type": "stream",
     "text": [
      "<class 'pandas.core.frame.DataFrame'>\n",
      "Int64Index: 968588 entries, 0 to 968588\n",
      "Data columns (total 6 columns):\n",
      "datetime     968588 non-null datetime64[ns]\n",
      "machineID    968588 non-null int64\n",
      "volt         968588 non-null float64\n",
      "rotate       968588 non-null float64\n",
      "pressure     968588 non-null float64\n",
      "vibration    968588 non-null float64\n",
      "dtypes: datetime64[ns](1), float64(4), int64(1)\n",
      "memory usage: 51.7 MB\n"
     ]
    }
   ],
   "source": [
    "# row index 92488 was the problem data from above, drop the row and clean up columns\n",
    "sensorData.drop(92488, inplace = True)\n",
    "sensorData.drop(['Unnamed: 6', 'Unnamed: 7', 'Unnamed: 8'], axis=1, inplace=True)\n",
    "sensorData['datetime'] = pd.to_datetime(sensorData['datetime'], infer_datetime_format = True)\n",
    "# change the datatype of 'rotate', 'pressure', and 'vibration'\n",
    "sensorData['rotate'] = sensorData['rotate'].astype(float)\n",
    "sensorData['pressure'] = sensorData['pressure'].astype(float)\n",
    "sensorData['vibration'] = sensorData['vibration'].astype(float)\n",
    "sensorData.info()"
   ]
  },
  {
   "cell_type": "code",
   "execution_count": 170,
   "metadata": {},
   "outputs": [
    {
     "data": {
      "text/html": [
       "<div>\n",
       "<style scoped>\n",
       "    .dataframe tbody tr th:only-of-type {\n",
       "        vertical-align: middle;\n",
       "    }\n",
       "\n",
       "    .dataframe tbody tr th {\n",
       "        vertical-align: top;\n",
       "    }\n",
       "\n",
       "    .dataframe thead th {\n",
       "        text-align: right;\n",
       "    }\n",
       "</style>\n",
       "<table border=\"1\" class=\"dataframe\">\n",
       "  <thead>\n",
       "    <tr style=\"text-align: right;\">\n",
       "      <th></th>\n",
       "      <th>machineID</th>\n",
       "      <th>volt</th>\n",
       "      <th>rotate</th>\n",
       "      <th>pressure</th>\n",
       "      <th>vibration</th>\n",
       "    </tr>\n",
       "  </thead>\n",
       "  <tbody>\n",
       "    <tr>\n",
       "      <th>count</th>\n",
       "      <td>968588.000000</td>\n",
       "      <td>968588.000000</td>\n",
       "      <td>968588.000000</td>\n",
       "      <td>968588.000000</td>\n",
       "      <td>968588.000000</td>\n",
       "    </tr>\n",
       "    <tr>\n",
       "      <th>mean</th>\n",
       "      <td>46.230764</td>\n",
       "      <td>170.774119</td>\n",
       "      <td>446.591205</td>\n",
       "      <td>100.841515</td>\n",
       "      <td>40.383648</td>\n",
       "    </tr>\n",
       "    <tr>\n",
       "      <th>std</th>\n",
       "      <td>30.450409</td>\n",
       "      <td>15.507488</td>\n",
       "      <td>52.701718</td>\n",
       "      <td>11.028763</td>\n",
       "      <td>5.366198</td>\n",
       "    </tr>\n",
       "    <tr>\n",
       "      <th>min</th>\n",
       "      <td>1.000000</td>\n",
       "      <td>97.333604</td>\n",
       "      <td>138.432075</td>\n",
       "      <td>51.237106</td>\n",
       "      <td>14.877054</td>\n",
       "    </tr>\n",
       "    <tr>\n",
       "      <th>25%</th>\n",
       "      <td>18.000000</td>\n",
       "      <td>160.298184</td>\n",
       "      <td>412.278255</td>\n",
       "      <td>93.492369</td>\n",
       "      <td>36.778303</td>\n",
       "    </tr>\n",
       "    <tr>\n",
       "      <th>50%</th>\n",
       "      <td>45.000000</td>\n",
       "      <td>170.597611</td>\n",
       "      <td>447.555368</td>\n",
       "      <td>100.414332</td>\n",
       "      <td>40.237433</td>\n",
       "    </tr>\n",
       "    <tr>\n",
       "      <th>75%</th>\n",
       "      <td>73.000000</td>\n",
       "      <td>181.006196</td>\n",
       "      <td>482.154486</td>\n",
       "      <td>107.535244</td>\n",
       "      <td>43.781329</td>\n",
       "    </tr>\n",
       "    <tr>\n",
       "      <th>max</th>\n",
       "      <td>100.000000</td>\n",
       "      <td>255.124717</td>\n",
       "      <td>695.020984</td>\n",
       "      <td>185.951998</td>\n",
       "      <td>76.791072</td>\n",
       "    </tr>\n",
       "  </tbody>\n",
       "</table>\n",
       "</div>"
      ],
      "text/plain": [
       "           machineID           volt         rotate       pressure  \\\n",
       "count  968588.000000  968588.000000  968588.000000  968588.000000   \n",
       "mean       46.230764     170.774119     446.591205     100.841515   \n",
       "std        30.450409      15.507488      52.701718      11.028763   \n",
       "min         1.000000      97.333604     138.432075      51.237106   \n",
       "25%        18.000000     160.298184     412.278255      93.492369   \n",
       "50%        45.000000     170.597611     447.555368     100.414332   \n",
       "75%        73.000000     181.006196     482.154486     107.535244   \n",
       "max       100.000000     255.124717     695.020984     185.951998   \n",
       "\n",
       "           vibration  \n",
       "count  968588.000000  \n",
       "mean       40.383648  \n",
       "std         5.366198  \n",
       "min        14.877054  \n",
       "25%        36.778303  \n",
       "50%        40.237433  \n",
       "75%        43.781329  \n",
       "max        76.791072  "
      ]
     },
     "execution_count": 170,
     "metadata": {},
     "output_type": "execute_result"
    }
   ],
   "source": [
    "# check out some statistics on the dataset\n",
    "sensorData.describe()"
   ]
  },
  {
   "cell_type": "markdown",
   "metadata": {},
   "source": [
    "It looks like every feature has data points that are well outside three standard deviations of their respective mean. The outliers need to be looked at and dealt with if they're determined to be noise in the dataset, although these could be triggers corresponding to the failure mode in so they won't be removed just yet."
   ]
  },
  {
   "cell_type": "code",
   "execution_count": 171,
   "metadata": {},
   "outputs": [
    {
     "data": {
      "text/plain": [
       "(968588, 6)"
      ]
     },
     "execution_count": 171,
     "metadata": {},
     "output_type": "execute_result"
    }
   ],
   "source": [
    "sensorData.shape"
   ]
  },
  {
   "cell_type": "code",
   "execution_count": 172,
   "metadata": {},
   "outputs": [],
   "source": [
    "# start organizing the data by date to see how it flows\n",
    "sensorData.sort_values(by=['datetime'], inplace = True)"
   ]
  },
  {
   "cell_type": "code",
   "execution_count": 173,
   "metadata": {
    "scrolled": true
   },
   "outputs": [
    {
     "data": {
      "text/html": [
       "<div>\n",
       "<style scoped>\n",
       "    .dataframe tbody tr th:only-of-type {\n",
       "        vertical-align: middle;\n",
       "    }\n",
       "\n",
       "    .dataframe tbody tr th {\n",
       "        vertical-align: top;\n",
       "    }\n",
       "\n",
       "    .dataframe thead th {\n",
       "        text-align: right;\n",
       "    }\n",
       "</style>\n",
       "<table border=\"1\" class=\"dataframe\">\n",
       "  <thead>\n",
       "    <tr style=\"text-align: right;\">\n",
       "      <th></th>\n",
       "      <th>datetime</th>\n",
       "      <th>machineID</th>\n",
       "      <th>volt</th>\n",
       "      <th>rotate</th>\n",
       "      <th>pressure</th>\n",
       "      <th>vibration</th>\n",
       "    </tr>\n",
       "  </thead>\n",
       "  <tbody>\n",
       "    <tr>\n",
       "      <th>0</th>\n",
       "      <td>2015-01-01 06:00:00</td>\n",
       "      <td>1</td>\n",
       "      <td>176.217853</td>\n",
       "      <td>418.504078</td>\n",
       "      <td>113.077935</td>\n",
       "      <td>45.087686</td>\n",
       "    </tr>\n",
       "    <tr>\n",
       "      <th>92489</th>\n",
       "      <td>2015-01-01 06:00:00</td>\n",
       "      <td>1</td>\n",
       "      <td>176.217853</td>\n",
       "      <td>418.504078</td>\n",
       "      <td>113.077935</td>\n",
       "      <td>45.087686</td>\n",
       "    </tr>\n",
       "    <tr>\n",
       "      <th>92490</th>\n",
       "      <td>2015-01-01 07:00:00</td>\n",
       "      <td>1</td>\n",
       "      <td>162.879223</td>\n",
       "      <td>402.747490</td>\n",
       "      <td>95.460525</td>\n",
       "      <td>43.413973</td>\n",
       "    </tr>\n",
       "    <tr>\n",
       "      <th>1</th>\n",
       "      <td>2015-01-01 07:00:00</td>\n",
       "      <td>1</td>\n",
       "      <td>162.879223</td>\n",
       "      <td>402.747490</td>\n",
       "      <td>95.460525</td>\n",
       "      <td>43.413973</td>\n",
       "    </tr>\n",
       "    <tr>\n",
       "      <th>2</th>\n",
       "      <td>2015-01-01 08:00:00</td>\n",
       "      <td>1</td>\n",
       "      <td>170.989902</td>\n",
       "      <td>527.349825</td>\n",
       "      <td>75.237905</td>\n",
       "      <td>34.178847</td>\n",
       "    </tr>\n",
       "  </tbody>\n",
       "</table>\n",
       "</div>"
      ],
      "text/plain": [
       "                 datetime  machineID        volt      rotate    pressure  \\\n",
       "0     2015-01-01 06:00:00          1  176.217853  418.504078  113.077935   \n",
       "92489 2015-01-01 06:00:00          1  176.217853  418.504078  113.077935   \n",
       "92490 2015-01-01 07:00:00          1  162.879223  402.747490   95.460525   \n",
       "1     2015-01-01 07:00:00          1  162.879223  402.747490   95.460525   \n",
       "2     2015-01-01 08:00:00          1  170.989902  527.349825   75.237905   \n",
       "\n",
       "       vibration  \n",
       "0      45.087686  \n",
       "92489  45.087686  \n",
       "92490  43.413973  \n",
       "1      43.413973  \n",
       "2      34.178847  "
      ]
     },
     "execution_count": 173,
     "metadata": {},
     "output_type": "execute_result"
    }
   ],
   "source": [
    "mask = sensorData['machineID'] == 1\n",
    "sensorData[mask].head(5)"
   ]
  },
  {
   "cell_type": "code",
   "execution_count": 174,
   "metadata": {},
   "outputs": [
    {
     "data": {
      "text/plain": [
       "8761"
      ]
     },
     "execution_count": 174,
     "metadata": {},
     "output_type": "execute_result"
    }
   ],
   "source": [
    "# looking at the results above, their appears to be duplicated data based on the 'datetime' feature, investigate a litte here:\n",
    "sum(sensorData[mask].duplicated('datetime'))"
   ]
  },
  {
   "cell_type": "code",
   "execution_count": 175,
   "metadata": {
    "scrolled": true
   },
   "outputs": [
    {
     "data": {
      "text/plain": [
       "0"
      ]
     },
     "execution_count": 175,
     "metadata": {},
     "output_type": "execute_result"
    }
   ],
   "source": [
    "# cleaning the duplicate data and check\n",
    "sensorData.drop_duplicates(subset=['datetime', 'machineID', 'volt'], inplace = True)\n",
    "sum(sensorData[mask].duplicated('datetime'))"
   ]
  },
  {
   "cell_type": "code",
   "execution_count": 176,
   "metadata": {
    "scrolled": true
   },
   "outputs": [
    {
     "data": {
      "text/html": [
       "<div>\n",
       "<style scoped>\n",
       "    .dataframe tbody tr th:only-of-type {\n",
       "        vertical-align: middle;\n",
       "    }\n",
       "\n",
       "    .dataframe tbody tr th {\n",
       "        vertical-align: top;\n",
       "    }\n",
       "\n",
       "    .dataframe thead th {\n",
       "        text-align: right;\n",
       "    }\n",
       "</style>\n",
       "<table border=\"1\" class=\"dataframe\">\n",
       "  <thead>\n",
       "    <tr style=\"text-align: right;\">\n",
       "      <th></th>\n",
       "      <th>datetime</th>\n",
       "      <th>machineID</th>\n",
       "      <th>volt</th>\n",
       "      <th>rotate</th>\n",
       "      <th>pressure</th>\n",
       "      <th>vibration</th>\n",
       "    </tr>\n",
       "  </thead>\n",
       "  <tbody>\n",
       "    <tr>\n",
       "      <th>8761</th>\n",
       "      <td>2015-01-01 06:00:00</td>\n",
       "      <td>2</td>\n",
       "      <td>176.558913</td>\n",
       "      <td>424.624162</td>\n",
       "      <td>76.005332</td>\n",
       "      <td>43.767049</td>\n",
       "    </tr>\n",
       "    <tr>\n",
       "      <th>8762</th>\n",
       "      <td>2015-01-01 07:00:00</td>\n",
       "      <td>2</td>\n",
       "      <td>158.282044</td>\n",
       "      <td>432.372960</td>\n",
       "      <td>110.907806</td>\n",
       "      <td>37.267114</td>\n",
       "    </tr>\n",
       "    <tr>\n",
       "      <th>101252</th>\n",
       "      <td>2015-01-01 08:00:00</td>\n",
       "      <td>2</td>\n",
       "      <td>168.242028</td>\n",
       "      <td>454.629639</td>\n",
       "      <td>97.877007</td>\n",
       "      <td>39.709461</td>\n",
       "    </tr>\n",
       "    <tr>\n",
       "      <th>101253</th>\n",
       "      <td>2015-01-01 09:00:00</td>\n",
       "      <td>2</td>\n",
       "      <td>180.280316</td>\n",
       "      <td>438.391022</td>\n",
       "      <td>84.440430</td>\n",
       "      <td>40.490443</td>\n",
       "    </tr>\n",
       "    <tr>\n",
       "      <th>101254</th>\n",
       "      <td>2015-01-01 10:00:00</td>\n",
       "      <td>2</td>\n",
       "      <td>169.719531</td>\n",
       "      <td>473.055664</td>\n",
       "      <td>110.395683</td>\n",
       "      <td>41.229578</td>\n",
       "    </tr>\n",
       "    <tr>\n",
       "      <th>101255</th>\n",
       "      <td>2015-01-01 11:00:00</td>\n",
       "      <td>2</td>\n",
       "      <td>191.257247</td>\n",
       "      <td>369.738792</td>\n",
       "      <td>101.223451</td>\n",
       "      <td>45.616543</td>\n",
       "    </tr>\n",
       "    <tr>\n",
       "      <th>8767</th>\n",
       "      <td>2015-01-01 12:00:00</td>\n",
       "      <td>2</td>\n",
       "      <td>186.282977</td>\n",
       "      <td>483.698416</td>\n",
       "      <td>115.061863</td>\n",
       "      <td>50.690561</td>\n",
       "    </tr>\n",
       "    <tr>\n",
       "      <th>101257</th>\n",
       "      <td>2015-01-01 13:00:00</td>\n",
       "      <td>2</td>\n",
       "      <td>179.367188</td>\n",
       "      <td>450.943961</td>\n",
       "      <td>94.378019</td>\n",
       "      <td>38.684815</td>\n",
       "    </tr>\n",
       "    <tr>\n",
       "      <th>101258</th>\n",
       "      <td>2015-01-01 14:00:00</td>\n",
       "      <td>2</td>\n",
       "      <td>168.893782</td>\n",
       "      <td>494.876313</td>\n",
       "      <td>101.910022</td>\n",
       "      <td>34.566681</td>\n",
       "    </tr>\n",
       "    <tr>\n",
       "      <th>101259</th>\n",
       "      <td>2015-01-01 15:00:00</td>\n",
       "      <td>2</td>\n",
       "      <td>158.595797</td>\n",
       "      <td>427.282619</td>\n",
       "      <td>92.470163</td>\n",
       "      <td>32.160232</td>\n",
       "    </tr>\n",
       "    <tr>\n",
       "      <th>8771</th>\n",
       "      <td>2015-01-01 16:00:00</td>\n",
       "      <td>2</td>\n",
       "      <td>165.754394</td>\n",
       "      <td>457.282676</td>\n",
       "      <td>108.007373</td>\n",
       "      <td>46.980527</td>\n",
       "    </tr>\n",
       "    <tr>\n",
       "      <th>8772</th>\n",
       "      <td>2015-01-01 17:00:00</td>\n",
       "      <td>2</td>\n",
       "      <td>194.108213</td>\n",
       "      <td>400.101296</td>\n",
       "      <td>108.837258</td>\n",
       "      <td>43.563299</td>\n",
       "    </tr>\n",
       "    <tr>\n",
       "      <th>8773</th>\n",
       "      <td>2015-01-01 18:00:00</td>\n",
       "      <td>2</td>\n",
       "      <td>153.540806</td>\n",
       "      <td>422.978361</td>\n",
       "      <td>99.854820</td>\n",
       "      <td>38.077059</td>\n",
       "    </tr>\n",
       "    <tr>\n",
       "      <th>101263</th>\n",
       "      <td>2015-01-01 19:00:00</td>\n",
       "      <td>2</td>\n",
       "      <td>193.139223</td>\n",
       "      <td>404.558708</td>\n",
       "      <td>107.895507</td>\n",
       "      <td>40.089805</td>\n",
       "    </tr>\n",
       "    <tr>\n",
       "      <th>101264</th>\n",
       "      <td>2015-01-01 20:00:00</td>\n",
       "      <td>2</td>\n",
       "      <td>168.086228</td>\n",
       "      <td>543.802539</td>\n",
       "      <td>91.512681</td>\n",
       "      <td>39.400235</td>\n",
       "    </tr>\n",
       "    <tr>\n",
       "      <th>8776</th>\n",
       "      <td>2015-01-01 21:00:00</td>\n",
       "      <td>2</td>\n",
       "      <td>169.370359</td>\n",
       "      <td>392.525890</td>\n",
       "      <td>100.752167</td>\n",
       "      <td>47.020597</td>\n",
       "    </tr>\n",
       "    <tr>\n",
       "      <th>101266</th>\n",
       "      <td>2015-01-01 22:00:00</td>\n",
       "      <td>2</td>\n",
       "      <td>179.050449</td>\n",
       "      <td>465.511692</td>\n",
       "      <td>113.391190</td>\n",
       "      <td>45.082957</td>\n",
       "    </tr>\n",
       "    <tr>\n",
       "      <th>8778</th>\n",
       "      <td>2015-01-01 23:00:00</td>\n",
       "      <td>2</td>\n",
       "      <td>166.769102</td>\n",
       "      <td>477.226985</td>\n",
       "      <td>98.193479</td>\n",
       "      <td>41.516010</td>\n",
       "    </tr>\n",
       "    <tr>\n",
       "      <th>101268</th>\n",
       "      <td>2015-01-02 00:00:00</td>\n",
       "      <td>2</td>\n",
       "      <td>173.118037</td>\n",
       "      <td>469.713999</td>\n",
       "      <td>93.724533</td>\n",
       "      <td>48.273130</td>\n",
       "    </tr>\n",
       "    <tr>\n",
       "      <th>8780</th>\n",
       "      <td>2015-01-02 01:00:00</td>\n",
       "      <td>2</td>\n",
       "      <td>176.251586</td>\n",
       "      <td>447.756449</td>\n",
       "      <td>86.800353</td>\n",
       "      <td>43.268340</td>\n",
       "    </tr>\n",
       "    <tr>\n",
       "      <th>101270</th>\n",
       "      <td>2015-01-02 02:00:00</td>\n",
       "      <td>2</td>\n",
       "      <td>168.476946</td>\n",
       "      <td>480.866522</td>\n",
       "      <td>84.192712</td>\n",
       "      <td>47.356836</td>\n",
       "    </tr>\n",
       "    <tr>\n",
       "      <th>101271</th>\n",
       "      <td>2015-01-02 03:00:00</td>\n",
       "      <td>2</td>\n",
       "      <td>163.198451</td>\n",
       "      <td>388.511217</td>\n",
       "      <td>83.257619</td>\n",
       "      <td>41.601255</td>\n",
       "    </tr>\n",
       "    <tr>\n",
       "      <th>101272</th>\n",
       "      <td>2015-01-02 04:00:00</td>\n",
       "      <td>2</td>\n",
       "      <td>154.433801</td>\n",
       "      <td>381.774915</td>\n",
       "      <td>94.367118</td>\n",
       "      <td>44.460371</td>\n",
       "    </tr>\n",
       "    <tr>\n",
       "      <th>8784</th>\n",
       "      <td>2015-01-02 05:00:00</td>\n",
       "      <td>2</td>\n",
       "      <td>167.528716</td>\n",
       "      <td>445.072301</td>\n",
       "      <td>81.406120</td>\n",
       "      <td>36.416044</td>\n",
       "    </tr>\n",
       "  </tbody>\n",
       "</table>\n",
       "</div>"
      ],
      "text/plain": [
       "                  datetime  machineID        volt      rotate    pressure  \\\n",
       "8761   2015-01-01 06:00:00          2  176.558913  424.624162   76.005332   \n",
       "8762   2015-01-01 07:00:00          2  158.282044  432.372960  110.907806   \n",
       "101252 2015-01-01 08:00:00          2  168.242028  454.629639   97.877007   \n",
       "101253 2015-01-01 09:00:00          2  180.280316  438.391022   84.440430   \n",
       "101254 2015-01-01 10:00:00          2  169.719531  473.055664  110.395683   \n",
       "101255 2015-01-01 11:00:00          2  191.257247  369.738792  101.223451   \n",
       "8767   2015-01-01 12:00:00          2  186.282977  483.698416  115.061863   \n",
       "101257 2015-01-01 13:00:00          2  179.367188  450.943961   94.378019   \n",
       "101258 2015-01-01 14:00:00          2  168.893782  494.876313  101.910022   \n",
       "101259 2015-01-01 15:00:00          2  158.595797  427.282619   92.470163   \n",
       "8771   2015-01-01 16:00:00          2  165.754394  457.282676  108.007373   \n",
       "8772   2015-01-01 17:00:00          2  194.108213  400.101296  108.837258   \n",
       "8773   2015-01-01 18:00:00          2  153.540806  422.978361   99.854820   \n",
       "101263 2015-01-01 19:00:00          2  193.139223  404.558708  107.895507   \n",
       "101264 2015-01-01 20:00:00          2  168.086228  543.802539   91.512681   \n",
       "8776   2015-01-01 21:00:00          2  169.370359  392.525890  100.752167   \n",
       "101266 2015-01-01 22:00:00          2  179.050449  465.511692  113.391190   \n",
       "8778   2015-01-01 23:00:00          2  166.769102  477.226985   98.193479   \n",
       "101268 2015-01-02 00:00:00          2  173.118037  469.713999   93.724533   \n",
       "8780   2015-01-02 01:00:00          2  176.251586  447.756449   86.800353   \n",
       "101270 2015-01-02 02:00:00          2  168.476946  480.866522   84.192712   \n",
       "101271 2015-01-02 03:00:00          2  163.198451  388.511217   83.257619   \n",
       "101272 2015-01-02 04:00:00          2  154.433801  381.774915   94.367118   \n",
       "8784   2015-01-02 05:00:00          2  167.528716  445.072301   81.406120   \n",
       "\n",
       "        vibration  \n",
       "8761    43.767049  \n",
       "8762    37.267114  \n",
       "101252  39.709461  \n",
       "101253  40.490443  \n",
       "101254  41.229578  \n",
       "101255  45.616543  \n",
       "8767    50.690561  \n",
       "101257  38.684815  \n",
       "101258  34.566681  \n",
       "101259  32.160232  \n",
       "8771    46.980527  \n",
       "8772    43.563299  \n",
       "8773    38.077059  \n",
       "101263  40.089805  \n",
       "101264  39.400235  \n",
       "8776    47.020597  \n",
       "101266  45.082957  \n",
       "8778    41.516010  \n",
       "101268  48.273130  \n",
       "8780    43.268340  \n",
       "101270  47.356836  \n",
       "101271  41.601255  \n",
       "101272  44.460371  \n",
       "8784    36.416044  "
      ]
     },
     "execution_count": 176,
     "metadata": {},
     "output_type": "execute_result"
    }
   ],
   "source": [
    "# looks better, check a 24 hour period of another machine for consistancy\n",
    "mask = sensorData['machineID'] == 2\n",
    "sensorData[mask].head(24)"
   ]
  },
  {
   "cell_type": "code",
   "execution_count": 177,
   "metadata": {},
   "outputs": [],
   "source": [
    "# organize the dataframe by 'machineID' first, then 'datetime'\n",
    "sensorData.sort_values(['machineID', 'datetime'], inplace = True)"
   ]
  },
  {
   "cell_type": "code",
   "execution_count": 178,
   "metadata": {},
   "outputs": [
    {
     "data": {
      "text/html": [
       "<div>\n",
       "<style scoped>\n",
       "    .dataframe tbody tr th:only-of-type {\n",
       "        vertical-align: middle;\n",
       "    }\n",
       "\n",
       "    .dataframe tbody tr th {\n",
       "        vertical-align: top;\n",
       "    }\n",
       "\n",
       "    .dataframe thead th {\n",
       "        text-align: right;\n",
       "    }\n",
       "</style>\n",
       "<table border=\"1\" class=\"dataframe\">\n",
       "  <thead>\n",
       "    <tr style=\"text-align: right;\">\n",
       "      <th></th>\n",
       "      <th>datetime</th>\n",
       "      <th>machineID</th>\n",
       "      <th>volt</th>\n",
       "      <th>rotate</th>\n",
       "      <th>pressure</th>\n",
       "      <th>vibration</th>\n",
       "    </tr>\n",
       "  </thead>\n",
       "  <tbody>\n",
       "    <tr>\n",
       "      <th>8761</th>\n",
       "      <td>2015-01-01 06:00:00</td>\n",
       "      <td>2</td>\n",
       "      <td>176.558913</td>\n",
       "      <td>424.624162</td>\n",
       "      <td>76.005332</td>\n",
       "      <td>43.767049</td>\n",
       "    </tr>\n",
       "    <tr>\n",
       "      <th>8762</th>\n",
       "      <td>2015-01-01 07:00:00</td>\n",
       "      <td>2</td>\n",
       "      <td>158.282044</td>\n",
       "      <td>432.372960</td>\n",
       "      <td>110.907806</td>\n",
       "      <td>37.267114</td>\n",
       "    </tr>\n",
       "    <tr>\n",
       "      <th>101252</th>\n",
       "      <td>2015-01-01 08:00:00</td>\n",
       "      <td>2</td>\n",
       "      <td>168.242028</td>\n",
       "      <td>454.629639</td>\n",
       "      <td>97.877007</td>\n",
       "      <td>39.709461</td>\n",
       "    </tr>\n",
       "  </tbody>\n",
       "</table>\n",
       "</div>"
      ],
      "text/plain": [
       "                  datetime  machineID        volt      rotate    pressure  \\\n",
       "8761   2015-01-01 06:00:00          2  176.558913  424.624162   76.005332   \n",
       "8762   2015-01-01 07:00:00          2  158.282044  432.372960  110.907806   \n",
       "101252 2015-01-01 08:00:00          2  168.242028  454.629639   97.877007   \n",
       "\n",
       "        vibration  \n",
       "8761    43.767049  \n",
       "8762    37.267114  \n",
       "101252  39.709461  "
      ]
     },
     "execution_count": 178,
     "metadata": {},
     "output_type": "execute_result"
    }
   ],
   "source": [
    "# remove after\n",
    "mask = sensorData['machineID'] == 2\n",
    "sensorData[mask].head(3)"
   ]
  },
  {
   "cell_type": "code",
   "execution_count": 179,
   "metadata": {},
   "outputs": [],
   "source": [
    "# aggregate a moving average every three hours of the sensor data and populate new features 'key_ma'\n",
    "# fill the NaN cells created in the first two rows from '.rolling()' with the mean to 'key_ma'\n",
    "#for key in ['volt', 'rotate', 'pressure', 'vibration']:\n",
    "#    movingAv = (key + '_ma')\n",
    "#    sensorData[movingAv] = sensorData[key].rolling(3).mean()\n",
    "#    colMean = sensorData[movingAv].mean()\n",
    "#    sensorData[movingAv].fillna((colMean), inplace = True)\n",
    "    \n",
    "# select every third row per train/split requirements\n",
    "# semi working...\n",
    "#i = 1\n",
    "#sensorData['machineID'] = sensorData['machineID'].astype(str)\n",
    "#for it, mach in enumerate(sensorData['machineID']):\n",
    "    #i = (i + 1)\n",
    "#    if int(mach) == i:\n",
    "#        print(mach, i)\n",
    "#        i = (i + 1)             \n",
    "        \n",
    "        \n",
    "\n",
    "# original code:\n",
    "#sensorData.loc[sensorData['machineID'] == mach]\n",
    "#sensorData = sensorData.iloc[::3, :]"
   ]
  },
  {
   "cell_type": "code",
   "execution_count": 180,
   "metadata": {},
   "outputs": [
    {
     "data": {
      "text/plain": [
       "(876100, 6)"
      ]
     },
     "execution_count": 180,
     "metadata": {},
     "output_type": "execute_result"
    }
   ],
   "source": [
    "sensorData.shape"
   ]
  },
  {
   "cell_type": "markdown",
   "metadata": {},
   "source": [
    "Telemetry sensor data looks clean enough for the first pass, there are no missing values, the features have been converted to appropriate data types, and the dataframe has been reduced into three hour incremenets with averaged sensor data."
   ]
  },
  {
   "cell_type": "markdown",
   "metadata": {},
   "source": [
    "### Maintenance Data\n",
    "\n",
    "I'm not sure how usefule the maintenanceData is going to be, from the description this csv contains components that were changed due to scheduled maintenance and failures. At the same time, the failures are logged in a separate dataset, which will likely be more pertinent to our model. After cleaning all the datasets we can compare the scheduled changes and failures to the failureData csv and check for duplication, completeness, etc."
   ]
  },
  {
   "cell_type": "code",
   "execution_count": 181,
   "metadata": {},
   "outputs": [
    {
     "name": "stdout",
     "output_type": "stream",
     "text": [
      "<class 'pandas.core.frame.DataFrame'>\n",
      "RangeIndex: 3286 entries, 0 to 3285\n",
      "Data columns (total 3 columns):\n",
      "datetime     3286 non-null object\n",
      "machineID    3286 non-null int64\n",
      "comp         3286 non-null object\n",
      "dtypes: int64(1), object(2)\n",
      "memory usage: 77.1+ KB\n"
     ]
    }
   ],
   "source": [
    "maintenanceData.info()"
   ]
  },
  {
   "cell_type": "code",
   "execution_count": 182,
   "metadata": {},
   "outputs": [
    {
     "data": {
      "text/plain": [
       "(3286, 3)"
      ]
     },
     "execution_count": 182,
     "metadata": {},
     "output_type": "execute_result"
    }
   ],
   "source": [
    "maintenanceData.shape"
   ]
  },
  {
   "cell_type": "code",
   "execution_count": 183,
   "metadata": {},
   "outputs": [
    {
     "data": {
      "text/html": [
       "<div>\n",
       "<style scoped>\n",
       "    .dataframe tbody tr th:only-of-type {\n",
       "        vertical-align: middle;\n",
       "    }\n",
       "\n",
       "    .dataframe tbody tr th {\n",
       "        vertical-align: top;\n",
       "    }\n",
       "\n",
       "    .dataframe thead th {\n",
       "        text-align: right;\n",
       "    }\n",
       "</style>\n",
       "<table border=\"1\" class=\"dataframe\">\n",
       "  <thead>\n",
       "    <tr style=\"text-align: right;\">\n",
       "      <th></th>\n",
       "      <th>machineID</th>\n",
       "    </tr>\n",
       "  </thead>\n",
       "  <tbody>\n",
       "    <tr>\n",
       "      <th>count</th>\n",
       "      <td>3286.000000</td>\n",
       "    </tr>\n",
       "    <tr>\n",
       "      <th>mean</th>\n",
       "      <td>50.284236</td>\n",
       "    </tr>\n",
       "    <tr>\n",
       "      <th>std</th>\n",
       "      <td>28.914478</td>\n",
       "    </tr>\n",
       "    <tr>\n",
       "      <th>min</th>\n",
       "      <td>1.000000</td>\n",
       "    </tr>\n",
       "    <tr>\n",
       "      <th>25%</th>\n",
       "      <td>25.250000</td>\n",
       "    </tr>\n",
       "    <tr>\n",
       "      <th>50%</th>\n",
       "      <td>50.000000</td>\n",
       "    </tr>\n",
       "    <tr>\n",
       "      <th>75%</th>\n",
       "      <td>75.000000</td>\n",
       "    </tr>\n",
       "    <tr>\n",
       "      <th>max</th>\n",
       "      <td>100.000000</td>\n",
       "    </tr>\n",
       "  </tbody>\n",
       "</table>\n",
       "</div>"
      ],
      "text/plain": [
       "         machineID\n",
       "count  3286.000000\n",
       "mean     50.284236\n",
       "std      28.914478\n",
       "min       1.000000\n",
       "25%      25.250000\n",
       "50%      50.000000\n",
       "75%      75.000000\n",
       "max     100.000000"
      ]
     },
     "execution_count": 183,
     "metadata": {},
     "output_type": "execute_result"
    }
   ],
   "source": [
    "maintenanceData.describe()"
   ]
  },
  {
   "cell_type": "code",
   "execution_count": 184,
   "metadata": {},
   "outputs": [
    {
     "data": {
      "text/html": [
       "<div>\n",
       "<style scoped>\n",
       "    .dataframe tbody tr th:only-of-type {\n",
       "        vertical-align: middle;\n",
       "    }\n",
       "\n",
       "    .dataframe tbody tr th {\n",
       "        vertical-align: top;\n",
       "    }\n",
       "\n",
       "    .dataframe thead th {\n",
       "        text-align: right;\n",
       "    }\n",
       "</style>\n",
       "<table border=\"1\" class=\"dataframe\">\n",
       "  <thead>\n",
       "    <tr style=\"text-align: right;\">\n",
       "      <th></th>\n",
       "      <th>datetime</th>\n",
       "      <th>machineID</th>\n",
       "      <th>comp</th>\n",
       "    </tr>\n",
       "  </thead>\n",
       "  <tbody>\n",
       "    <tr>\n",
       "      <th>1664</th>\n",
       "      <td>2015-05-31 06:00:00</td>\n",
       "      <td>51</td>\n",
       "      <td>comp2</td>\n",
       "    </tr>\n",
       "    <tr>\n",
       "      <th>1026</th>\n",
       "      <td>2015-11-18 06:00:00</td>\n",
       "      <td>31</td>\n",
       "      <td>comp3</td>\n",
       "    </tr>\n",
       "    <tr>\n",
       "      <th>2809</th>\n",
       "      <td>2014-07-01 06:00:00</td>\n",
       "      <td>86</td>\n",
       "      <td>comp4</td>\n",
       "    </tr>\n",
       "  </tbody>\n",
       "</table>\n",
       "</div>"
      ],
      "text/plain": [
       "                 datetime  machineID   comp\n",
       "1664  2015-05-31 06:00:00         51  comp2\n",
       "1026  2015-11-18 06:00:00         31  comp3\n",
       "2809  2014-07-01 06:00:00         86  comp4"
      ]
     },
     "execution_count": 184,
     "metadata": {},
     "output_type": "execute_result"
    }
   ],
   "source": [
    "maintenanceData.sample(3)"
   ]
  },
  {
   "cell_type": "code",
   "execution_count": 185,
   "metadata": {
    "scrolled": true
   },
   "outputs": [
    {
     "name": "stdout",
     "output_type": "stream",
     "text": [
      "<class 'pandas.core.frame.DataFrame'>\n",
      "RangeIndex: 3286 entries, 0 to 3285\n",
      "Data columns (total 3 columns):\n",
      "datetime     3286 non-null datetime64[ns]\n",
      "machineID    3286 non-null int64\n",
      "comp         3286 non-null int32\n",
      "dtypes: datetime64[ns](1), int32(1), int64(1)\n",
      "memory usage: 64.3 KB\n"
     ]
    }
   ],
   "source": [
    "# change 'datetime' to_datetime :)\n",
    "maintenanceData['datetime'] = pd.to_datetime(maintenanceData['datetime'], infer_datetime_format = True)\n",
    "# remove the begnning characters from 'comp' column and # change 'comp' to an integer\n",
    "maintenanceData['comp'] = maintenanceData['comp'].str[4:].astype(int)\n",
    "# change 'comp' to an integer\n",
    "#maintenanceData['comp'] = maintenanceData['comp'].astype(int)\n",
    "\n",
    "maintenanceData.info()"
   ]
  },
  {
   "cell_type": "code",
   "execution_count": 186,
   "metadata": {},
   "outputs": [
    {
     "data": {
      "text/plain": [
       "758"
      ]
     },
     "execution_count": 186,
     "metadata": {},
     "output_type": "execute_result"
    }
   ],
   "source": [
    "# check for duplicated rows by 'datetime' and 'machineID' to consolidate rows\n",
    "maintenanceData.duplicated(['datetime', 'machineID']).sum()"
   ]
  },
  {
   "cell_type": "code",
   "execution_count": 187,
   "metadata": {},
   "outputs": [],
   "source": [
    "#This first concatenates your dataframe and the output of the get_dummies call, then it \n",
    "#groups the result according to the relevant columns, takes the sum of those columns among \n",
    "#those groups and then resets the index so you don't have to deal with a multi-index data \n",
    "#frame. The result looks like:\n",
    "maintenanceData = pd.concat([maintenanceData, pd.get_dummies(maintenanceData.comp)], 1).groupby(['datetime','machineID']).sum().reset_index()\n",
    "maintenanceData.drop(['comp'], axis=1, inplace=True)"
   ]
  },
  {
   "cell_type": "code",
   "execution_count": 188,
   "metadata": {},
   "outputs": [
    {
     "data": {
      "text/plain": [
       "0"
      ]
     },
     "execution_count": 188,
     "metadata": {},
     "output_type": "execute_result"
    }
   ],
   "source": [
    "maintenanceData.duplicated(['datetime', 'machineID']).sum()"
   ]
  },
  {
   "cell_type": "code",
   "execution_count": 189,
   "metadata": {
    "scrolled": true
   },
   "outputs": [
    {
     "data": {
      "text/html": [
       "<div>\n",
       "<style scoped>\n",
       "    .dataframe tbody tr th:only-of-type {\n",
       "        vertical-align: middle;\n",
       "    }\n",
       "\n",
       "    .dataframe tbody tr th {\n",
       "        vertical-align: top;\n",
       "    }\n",
       "\n",
       "    .dataframe thead th {\n",
       "        text-align: right;\n",
       "    }\n",
       "</style>\n",
       "<table border=\"1\" class=\"dataframe\">\n",
       "  <thead>\n",
       "    <tr style=\"text-align: right;\">\n",
       "      <th></th>\n",
       "      <th>datetime</th>\n",
       "      <th>machineID</th>\n",
       "      <th>mComp_1</th>\n",
       "      <th>mComp_2</th>\n",
       "      <th>mComp_3</th>\n",
       "      <th>mComp_4</th>\n",
       "    </tr>\n",
       "  </thead>\n",
       "  <tbody>\n",
       "    <tr>\n",
       "      <th>1321</th>\n",
       "      <td>2015-06-16 06:00:00</td>\n",
       "      <td>4</td>\n",
       "      <td>0</td>\n",
       "      <td>0</td>\n",
       "      <td>0</td>\n",
       "      <td>1</td>\n",
       "    </tr>\n",
       "  </tbody>\n",
       "</table>\n",
       "</div>"
      ],
      "text/plain": [
       "                datetime  machineID  mComp_1  mComp_2  mComp_3  mComp_4\n",
       "1321 2015-06-16 06:00:00          4        0        0        0        1"
      ]
     },
     "execution_count": 189,
     "metadata": {},
     "output_type": "execute_result"
    }
   ],
   "source": [
    "maintenanceData.columns = ['datetime', 'machineID', 'mComp_1', 'mComp_2', 'mComp_3', 'mComp_4']\n",
    "maintenanceData.sample(1)"
   ]
  },
  {
   "cell_type": "markdown",
   "metadata": {},
   "source": [
    "### Origins Data\n",
    "\n",
    "The vintage of each machine should add valuable correlation to the frequency of scheduled and failure component repairs."
   ]
  },
  {
   "cell_type": "code",
   "execution_count": 190,
   "metadata": {},
   "outputs": [
    {
     "name": "stdout",
     "output_type": "stream",
     "text": [
      "<class 'pandas.core.frame.DataFrame'>\n",
      "RangeIndex: 100 entries, 0 to 99\n",
      "Data columns (total 3 columns):\n",
      "machineID    100 non-null int64\n",
      "model        100 non-null object\n",
      "age          100 non-null int64\n",
      "dtypes: int64(2), object(1)\n",
      "memory usage: 2.4+ KB\n"
     ]
    }
   ],
   "source": [
    "originsData.info()"
   ]
  },
  {
   "cell_type": "code",
   "execution_count": 191,
   "metadata": {},
   "outputs": [],
   "source": [
    "# remove the begnning characters from 'model' column and change to integer data type\n",
    "originsData['model'] = originsData['model'].str[5:].astype(int)"
   ]
  },
  {
   "cell_type": "code",
   "execution_count": 192,
   "metadata": {},
   "outputs": [
    {
     "data": {
      "text/plain": [
       "(100, 3)"
      ]
     },
     "execution_count": 192,
     "metadata": {},
     "output_type": "execute_result"
    }
   ],
   "source": [
    "originsData.shape"
   ]
  },
  {
   "cell_type": "code",
   "execution_count": 193,
   "metadata": {},
   "outputs": [
    {
     "data": {
      "text/plain": [
       "count    100.000000\n",
       "mean      11.330000\n",
       "std        5.856974\n",
       "min        0.000000\n",
       "25%        6.750000\n",
       "50%       12.000000\n",
       "75%       16.000000\n",
       "max       20.000000\n",
       "Name: age, dtype: float64"
      ]
     },
     "execution_count": 193,
     "metadata": {},
     "output_type": "execute_result"
    }
   ],
   "source": [
    "originsData['age'].describe()"
   ]
  },
  {
   "cell_type": "code",
   "execution_count": 194,
   "metadata": {},
   "outputs": [
    {
     "data": {
      "text/html": [
       "<div>\n",
       "<style scoped>\n",
       "    .dataframe tbody tr th:only-of-type {\n",
       "        vertical-align: middle;\n",
       "    }\n",
       "\n",
       "    .dataframe tbody tr th {\n",
       "        vertical-align: top;\n",
       "    }\n",
       "\n",
       "    .dataframe thead th {\n",
       "        text-align: right;\n",
       "    }\n",
       "</style>\n",
       "<table border=\"1\" class=\"dataframe\">\n",
       "  <thead>\n",
       "    <tr style=\"text-align: right;\">\n",
       "      <th></th>\n",
       "      <th>machineID</th>\n",
       "      <th>model</th>\n",
       "      <th>age</th>\n",
       "    </tr>\n",
       "  </thead>\n",
       "  <tbody>\n",
       "    <tr>\n",
       "      <th>5</th>\n",
       "      <td>6</td>\n",
       "      <td>3</td>\n",
       "      <td>7</td>\n",
       "    </tr>\n",
       "    <tr>\n",
       "      <th>20</th>\n",
       "      <td>21</td>\n",
       "      <td>2</td>\n",
       "      <td>14</td>\n",
       "    </tr>\n",
       "    <tr>\n",
       "      <th>99</th>\n",
       "      <td>100</td>\n",
       "      <td>4</td>\n",
       "      <td>5</td>\n",
       "    </tr>\n",
       "    <tr>\n",
       "      <th>68</th>\n",
       "      <td>69</td>\n",
       "      <td>2</td>\n",
       "      <td>19</td>\n",
       "    </tr>\n",
       "    <tr>\n",
       "      <th>18</th>\n",
       "      <td>19</td>\n",
       "      <td>3</td>\n",
       "      <td>17</td>\n",
       "    </tr>\n",
       "  </tbody>\n",
       "</table>\n",
       "</div>"
      ],
      "text/plain": [
       "    machineID  model  age\n",
       "5           6      3    7\n",
       "20         21      2   14\n",
       "99        100      4    5\n",
       "68         69      2   19\n",
       "18         19      3   17"
      ]
     },
     "execution_count": 194,
     "metadata": {},
     "output_type": "execute_result"
    }
   ],
   "source": [
    "originsData.sample(5)"
   ]
  },
  {
   "cell_type": "code",
   "execution_count": 195,
   "metadata": {},
   "outputs": [
    {
     "data": {
      "text/plain": [
       "1    16\n",
       "2    17\n",
       "3    35\n",
       "4    32\n",
       "Name: model, dtype: int64"
      ]
     },
     "execution_count": 195,
     "metadata": {},
     "output_type": "execute_result"
    }
   ],
   "source": [
    "# quantity of each machine by model\n",
    "originsData.model.value_counts().sort_index()"
   ]
  },
  {
   "cell_type": "code",
   "execution_count": 196,
   "metadata": {},
   "outputs": [
    {
     "data": {
      "text/plain": [
       "0      1\n",
       "1      3\n",
       "2      6\n",
       "3      4\n",
       "4      3\n",
       "5      4\n",
       "6      4\n",
       "7      6\n",
       "8      1\n",
       "9      5\n",
       "10    10\n",
       "11     2\n",
       "12     2\n",
       "14    14\n",
       "15     6\n",
       "16     5\n",
       "17     7\n",
       "18     6\n",
       "19     4\n",
       "20     7\n",
       "Name: age, dtype: int64"
      ]
     },
     "execution_count": 196,
     "metadata": {},
     "output_type": "execute_result"
    }
   ],
   "source": [
    "# quantity of each machine by age\n",
    "originsData.age.value_counts().sort_index()"
   ]
  },
  {
   "cell_type": "markdown",
   "metadata": {},
   "source": [
    "### Failure Data\n",
    "\n",
    "This will obviously contain critical features to predicting future failures."
   ]
  },
  {
   "cell_type": "code",
   "execution_count": 197,
   "metadata": {},
   "outputs": [
    {
     "name": "stdout",
     "output_type": "stream",
     "text": [
      "<class 'pandas.core.frame.DataFrame'>\n",
      "RangeIndex: 761 entries, 0 to 760\n",
      "Data columns (total 3 columns):\n",
      "datetime     761 non-null object\n",
      "machineID    761 non-null int64\n",
      "failure      761 non-null object\n",
      "dtypes: int64(1), object(2)\n",
      "memory usage: 17.9+ KB\n"
     ]
    }
   ],
   "source": [
    "failureData.info()"
   ]
  },
  {
   "cell_type": "code",
   "execution_count": 198,
   "metadata": {},
   "outputs": [
    {
     "data": {
      "text/html": [
       "<div>\n",
       "<style scoped>\n",
       "    .dataframe tbody tr th:only-of-type {\n",
       "        vertical-align: middle;\n",
       "    }\n",
       "\n",
       "    .dataframe tbody tr th {\n",
       "        vertical-align: top;\n",
       "    }\n",
       "\n",
       "    .dataframe thead th {\n",
       "        text-align: right;\n",
       "    }\n",
       "</style>\n",
       "<table border=\"1\" class=\"dataframe\">\n",
       "  <thead>\n",
       "    <tr style=\"text-align: right;\">\n",
       "      <th></th>\n",
       "      <th>datetime</th>\n",
       "      <th>machineID</th>\n",
       "      <th>failure</th>\n",
       "    </tr>\n",
       "  </thead>\n",
       "  <tbody>\n",
       "    <tr>\n",
       "      <th>603</th>\n",
       "      <td>2015-08-29 06:00:00</td>\n",
       "      <td>83</td>\n",
       "      <td>comp1</td>\n",
       "    </tr>\n",
       "    <tr>\n",
       "      <th>226</th>\n",
       "      <td>2015-12-05 06:00:00</td>\n",
       "      <td>30</td>\n",
       "      <td>comp4</td>\n",
       "    </tr>\n",
       "    <tr>\n",
       "      <th>695</th>\n",
       "      <td>2015-05-23 06:00:00</td>\n",
       "      <td>94</td>\n",
       "      <td>comp4</td>\n",
       "    </tr>\n",
       "  </tbody>\n",
       "</table>\n",
       "</div>"
      ],
      "text/plain": [
       "                datetime  machineID failure\n",
       "603  2015-08-29 06:00:00         83   comp1\n",
       "226  2015-12-05 06:00:00         30   comp4\n",
       "695  2015-05-23 06:00:00         94   comp4"
      ]
     },
     "execution_count": 198,
     "metadata": {},
     "output_type": "execute_result"
    }
   ],
   "source": [
    "failureData.sample(3)"
   ]
  },
  {
   "cell_type": "code",
   "execution_count": 199,
   "metadata": {},
   "outputs": [],
   "source": [
    "failureData['failure'] = failureData['failure'].str[4:].astype(int)\n",
    "failureData['datetime'] = pd.to_datetime(failureData['datetime'], infer_datetime_format = True)"
   ]
  },
  {
   "cell_type": "code",
   "execution_count": 200,
   "metadata": {},
   "outputs": [
    {
     "data": {
      "text/html": [
       "<div>\n",
       "<style scoped>\n",
       "    .dataframe tbody tr th:only-of-type {\n",
       "        vertical-align: middle;\n",
       "    }\n",
       "\n",
       "    .dataframe tbody tr th {\n",
       "        vertical-align: top;\n",
       "    }\n",
       "\n",
       "    .dataframe thead th {\n",
       "        text-align: right;\n",
       "    }\n",
       "</style>\n",
       "<table border=\"1\" class=\"dataframe\">\n",
       "  <thead>\n",
       "    <tr style=\"text-align: right;\">\n",
       "      <th></th>\n",
       "      <th>datetime</th>\n",
       "      <th>machineID</th>\n",
       "      <th>failure</th>\n",
       "    </tr>\n",
       "  </thead>\n",
       "  <tbody>\n",
       "    <tr>\n",
       "      <th>0</th>\n",
       "      <td>2015-01-05 06:00:00</td>\n",
       "      <td>1</td>\n",
       "      <td>4</td>\n",
       "    </tr>\n",
       "    <tr>\n",
       "      <th>1</th>\n",
       "      <td>2015-03-06 06:00:00</td>\n",
       "      <td>1</td>\n",
       "      <td>1</td>\n",
       "    </tr>\n",
       "    <tr>\n",
       "      <th>2</th>\n",
       "      <td>2015-04-20 06:00:00</td>\n",
       "      <td>1</td>\n",
       "      <td>2</td>\n",
       "    </tr>\n",
       "  </tbody>\n",
       "</table>\n",
       "</div>"
      ],
      "text/plain": [
       "             datetime  machineID  failure\n",
       "0 2015-01-05 06:00:00          1        4\n",
       "1 2015-03-06 06:00:00          1        1\n",
       "2 2015-04-20 06:00:00          1        2"
      ]
     },
     "execution_count": 200,
     "metadata": {},
     "output_type": "execute_result"
    }
   ],
   "source": [
    "failureData.head(3)"
   ]
  },
  {
   "cell_type": "code",
   "execution_count": 201,
   "metadata": {},
   "outputs": [
    {
     "data": {
      "text/plain": [
       "count    761.000000\n",
       "mean       2.390276\n",
       "std        1.102084\n",
       "min        1.000000\n",
       "25%        1.000000\n",
       "50%        2.000000\n",
       "75%        3.000000\n",
       "max        4.000000\n",
       "Name: failure, dtype: float64"
      ]
     },
     "execution_count": 201,
     "metadata": {},
     "output_type": "execute_result"
    }
   ],
   "source": [
    "failureData['failure'].describe()"
   ]
  },
  {
   "cell_type": "code",
   "execution_count": 202,
   "metadata": {},
   "outputs": [
    {
     "data": {
      "text/plain": [
       "42"
      ]
     },
     "execution_count": 202,
     "metadata": {},
     "output_type": "execute_result"
    }
   ],
   "source": [
    "# check for duplicated rows by 'datetime' and 'machineID' to consolidate rows\n",
    "failureData.duplicated(['datetime', 'machineID']).sum()"
   ]
  },
  {
   "cell_type": "code",
   "execution_count": 203,
   "metadata": {},
   "outputs": [],
   "source": [
    "#This first concatenates your dataframe and the output of the get_dummies call, then it \n",
    "#groups the result according to the relevant columns, takes the sum of those columns among \n",
    "#those groups and then resets the index so you don't have to deal with a multi-index data \n",
    "#frame. The result looks like:\n",
    "failureData = pd.concat([failureData, pd.get_dummies(failureData.failure)], 1).groupby(['datetime','machineID']).sum().reset_index()\n",
    "failureData.drop(['failure'], axis=1, inplace=True)"
   ]
  },
  {
   "cell_type": "code",
   "execution_count": 204,
   "metadata": {},
   "outputs": [
    {
     "data": {
      "text/plain": [
       "0"
      ]
     },
     "execution_count": 204,
     "metadata": {},
     "output_type": "execute_result"
    }
   ],
   "source": [
    "# confirm\n",
    "failureData.duplicated(['datetime', 'machineID']).sum()"
   ]
  },
  {
   "cell_type": "code",
   "execution_count": 205,
   "metadata": {},
   "outputs": [
    {
     "data": {
      "text/html": [
       "<div>\n",
       "<style scoped>\n",
       "    .dataframe tbody tr th:only-of-type {\n",
       "        vertical-align: middle;\n",
       "    }\n",
       "\n",
       "    .dataframe tbody tr th {\n",
       "        vertical-align: top;\n",
       "    }\n",
       "\n",
       "    .dataframe thead th {\n",
       "        text-align: right;\n",
       "    }\n",
       "</style>\n",
       "<table border=\"1\" class=\"dataframe\">\n",
       "  <thead>\n",
       "    <tr style=\"text-align: right;\">\n",
       "      <th></th>\n",
       "      <th>datetime</th>\n",
       "      <th>machineID</th>\n",
       "      <th>fComp_1</th>\n",
       "      <th>fComp_2</th>\n",
       "      <th>fComp_3</th>\n",
       "      <th>fComp_4</th>\n",
       "    </tr>\n",
       "  </thead>\n",
       "  <tbody>\n",
       "    <tr>\n",
       "      <th>0</th>\n",
       "      <td>2015-01-02 03:00:00</td>\n",
       "      <td>16</td>\n",
       "      <td>1</td>\n",
       "      <td>0</td>\n",
       "      <td>1</td>\n",
       "      <td>0</td>\n",
       "    </tr>\n",
       "    <tr>\n",
       "      <th>1</th>\n",
       "      <td>2015-01-02 03:00:00</td>\n",
       "      <td>17</td>\n",
       "      <td>0</td>\n",
       "      <td>0</td>\n",
       "      <td>0</td>\n",
       "      <td>1</td>\n",
       "    </tr>\n",
       "    <tr>\n",
       "      <th>2</th>\n",
       "      <td>2015-01-02 03:00:00</td>\n",
       "      <td>22</td>\n",
       "      <td>1</td>\n",
       "      <td>0</td>\n",
       "      <td>0</td>\n",
       "      <td>0</td>\n",
       "    </tr>\n",
       "    <tr>\n",
       "      <th>3</th>\n",
       "      <td>2015-01-02 03:00:00</td>\n",
       "      <td>35</td>\n",
       "      <td>1</td>\n",
       "      <td>0</td>\n",
       "      <td>0</td>\n",
       "      <td>0</td>\n",
       "    </tr>\n",
       "    <tr>\n",
       "      <th>4</th>\n",
       "      <td>2015-01-02 03:00:00</td>\n",
       "      <td>45</td>\n",
       "      <td>1</td>\n",
       "      <td>0</td>\n",
       "      <td>0</td>\n",
       "      <td>0</td>\n",
       "    </tr>\n",
       "  </tbody>\n",
       "</table>\n",
       "</div>"
      ],
      "text/plain": [
       "             datetime  machineID  fComp_1  fComp_2  fComp_3  fComp_4\n",
       "0 2015-01-02 03:00:00         16        1        0        1        0\n",
       "1 2015-01-02 03:00:00         17        0        0        0        1\n",
       "2 2015-01-02 03:00:00         22        1        0        0        0\n",
       "3 2015-01-02 03:00:00         35        1        0        0        0\n",
       "4 2015-01-02 03:00:00         45        1        0        0        0"
      ]
     },
     "execution_count": 205,
     "metadata": {},
     "output_type": "execute_result"
    }
   ],
   "source": [
    "failureData.columns = ['datetime', 'machineID', 'fComp_1', 'fComp_2', 'fComp_3', 'fComp_4']\n",
    "failureData.head()"
   ]
  },
  {
   "cell_type": "markdown",
   "metadata": {},
   "source": [
    "### Error Data\n",
    "\n",
    "We're going to see if there is a correlation between the errors generated on the machines, and eventual component maintenance / failure."
   ]
  },
  {
   "cell_type": "code",
   "execution_count": 206,
   "metadata": {},
   "outputs": [
    {
     "name": "stdout",
     "output_type": "stream",
     "text": [
      "<class 'pandas.core.frame.DataFrame'>\n",
      "RangeIndex: 3919 entries, 0 to 3918\n",
      "Data columns (total 3 columns):\n",
      "datetime     3919 non-null object\n",
      "machineID    3919 non-null int64\n",
      "errorID      3919 non-null object\n",
      "dtypes: int64(1), object(2)\n",
      "memory usage: 91.9+ KB\n"
     ]
    }
   ],
   "source": [
    "errorData.info()"
   ]
  },
  {
   "cell_type": "code",
   "execution_count": 207,
   "metadata": {},
   "outputs": [
    {
     "data": {
      "text/html": [
       "<div>\n",
       "<style scoped>\n",
       "    .dataframe tbody tr th:only-of-type {\n",
       "        vertical-align: middle;\n",
       "    }\n",
       "\n",
       "    .dataframe tbody tr th {\n",
       "        vertical-align: top;\n",
       "    }\n",
       "\n",
       "    .dataframe thead th {\n",
       "        text-align: right;\n",
       "    }\n",
       "</style>\n",
       "<table border=\"1\" class=\"dataframe\">\n",
       "  <thead>\n",
       "    <tr style=\"text-align: right;\">\n",
       "      <th></th>\n",
       "      <th>datetime</th>\n",
       "      <th>machineID</th>\n",
       "      <th>errorID</th>\n",
       "    </tr>\n",
       "  </thead>\n",
       "  <tbody>\n",
       "    <tr>\n",
       "      <th>1947</th>\n",
       "      <td>2015-07-10 12:00:00</td>\n",
       "      <td>51</td>\n",
       "      <td>error1</td>\n",
       "    </tr>\n",
       "    <tr>\n",
       "      <th>1242</th>\n",
       "      <td>2015-10-26 14:00:00</td>\n",
       "      <td>32</td>\n",
       "      <td>error2</td>\n",
       "    </tr>\n",
       "    <tr>\n",
       "      <th>650</th>\n",
       "      <td>2015-09-21 21:00:00</td>\n",
       "      <td>17</td>\n",
       "      <td>error3</td>\n",
       "    </tr>\n",
       "  </tbody>\n",
       "</table>\n",
       "</div>"
      ],
      "text/plain": [
       "                 datetime  machineID errorID\n",
       "1947  2015-07-10 12:00:00         51  error1\n",
       "1242  2015-10-26 14:00:00         32  error2\n",
       "650   2015-09-21 21:00:00         17  error3"
      ]
     },
     "execution_count": 207,
     "metadata": {},
     "output_type": "execute_result"
    }
   ],
   "source": [
    "errorData.sample(3)"
   ]
  },
  {
   "cell_type": "code",
   "execution_count": 208,
   "metadata": {},
   "outputs": [],
   "source": [
    "errorData['errorID'] = errorData['errorID'].str[5:].astype(int)\n",
    "errorData['datetime'] = pd.to_datetime(errorData['datetime'], infer_datetime_format = True)"
   ]
  },
  {
   "cell_type": "code",
   "execution_count": 209,
   "metadata": {},
   "outputs": [
    {
     "data": {
      "text/html": [
       "<div>\n",
       "<style scoped>\n",
       "    .dataframe tbody tr th:only-of-type {\n",
       "        vertical-align: middle;\n",
       "    }\n",
       "\n",
       "    .dataframe tbody tr th {\n",
       "        vertical-align: top;\n",
       "    }\n",
       "\n",
       "    .dataframe thead th {\n",
       "        text-align: right;\n",
       "    }\n",
       "</style>\n",
       "<table border=\"1\" class=\"dataframe\">\n",
       "  <thead>\n",
       "    <tr style=\"text-align: right;\">\n",
       "      <th></th>\n",
       "      <th>datetime</th>\n",
       "      <th>machineID</th>\n",
       "      <th>errorID</th>\n",
       "    </tr>\n",
       "  </thead>\n",
       "  <tbody>\n",
       "    <tr>\n",
       "      <th>2317</th>\n",
       "      <td>2015-10-06 23:00:00</td>\n",
       "      <td>60</td>\n",
       "      <td>2</td>\n",
       "    </tr>\n",
       "    <tr>\n",
       "      <th>1796</th>\n",
       "      <td>2015-11-29 13:00:00</td>\n",
       "      <td>47</td>\n",
       "      <td>1</td>\n",
       "    </tr>\n",
       "    <tr>\n",
       "      <th>1447</th>\n",
       "      <td>2015-04-16 06:00:00</td>\n",
       "      <td>38</td>\n",
       "      <td>5</td>\n",
       "    </tr>\n",
       "  </tbody>\n",
       "</table>\n",
       "</div>"
      ],
      "text/plain": [
       "                datetime  machineID  errorID\n",
       "2317 2015-10-06 23:00:00         60        2\n",
       "1796 2015-11-29 13:00:00         47        1\n",
       "1447 2015-04-16 06:00:00         38        5"
      ]
     },
     "execution_count": 209,
     "metadata": {},
     "output_type": "execute_result"
    }
   ],
   "source": [
    "errorData.sample(3)"
   ]
  },
  {
   "cell_type": "code",
   "execution_count": 210,
   "metadata": {},
   "outputs": [
    {
     "data": {
      "text/plain": [
       "303"
      ]
     },
     "execution_count": 210,
     "metadata": {},
     "output_type": "execute_result"
    }
   ],
   "source": [
    "errorData.duplicated(['datetime', 'machineID']).sum()"
   ]
  },
  {
   "cell_type": "code",
   "execution_count": 211,
   "metadata": {},
   "outputs": [],
   "source": [
    "#This first concatenates your dataframe and the output of the get_dummies call, then it \n",
    "#groups the result according to the relevant columns, takes the sum of those columns among \n",
    "#those groups and then resets the index so you don't have to deal with a multi-index data \n",
    "#frame. The result looks like:\n",
    "errorData = pd.concat([errorData, pd.get_dummies(errorData.errorID)], 1).groupby(['datetime','machineID']).sum().reset_index()\n",
    "errorData.drop(['errorID'], axis=1, inplace=True)"
   ]
  },
  {
   "cell_type": "code",
   "execution_count": 212,
   "metadata": {},
   "outputs": [
    {
     "data": {
      "text/plain": [
       "0"
      ]
     },
     "execution_count": 212,
     "metadata": {},
     "output_type": "execute_result"
    }
   ],
   "source": [
    "# confirm\n",
    "errorData.duplicated(['datetime', 'machineID']).sum()"
   ]
  },
  {
   "cell_type": "code",
   "execution_count": 213,
   "metadata": {},
   "outputs": [
    {
     "data": {
      "text/html": [
       "<div>\n",
       "<style scoped>\n",
       "    .dataframe tbody tr th:only-of-type {\n",
       "        vertical-align: middle;\n",
       "    }\n",
       "\n",
       "    .dataframe tbody tr th {\n",
       "        vertical-align: top;\n",
       "    }\n",
       "\n",
       "    .dataframe thead th {\n",
       "        text-align: right;\n",
       "    }\n",
       "</style>\n",
       "<table border=\"1\" class=\"dataframe\">\n",
       "  <thead>\n",
       "    <tr style=\"text-align: right;\">\n",
       "      <th></th>\n",
       "      <th>datetime</th>\n",
       "      <th>machineID</th>\n",
       "      <th>error_1</th>\n",
       "      <th>error_2</th>\n",
       "      <th>error_3</th>\n",
       "      <th>error_4</th>\n",
       "      <th>error_5</th>\n",
       "    </tr>\n",
       "  </thead>\n",
       "  <tbody>\n",
       "    <tr>\n",
       "      <th>0</th>\n",
       "      <td>2015-01-01 06:00:00</td>\n",
       "      <td>24</td>\n",
       "      <td>1</td>\n",
       "      <td>0</td>\n",
       "      <td>0</td>\n",
       "      <td>0</td>\n",
       "      <td>0</td>\n",
       "    </tr>\n",
       "    <tr>\n",
       "      <th>1</th>\n",
       "      <td>2015-01-01 06:00:00</td>\n",
       "      <td>73</td>\n",
       "      <td>0</td>\n",
       "      <td>0</td>\n",
       "      <td>0</td>\n",
       "      <td>1</td>\n",
       "      <td>0</td>\n",
       "    </tr>\n",
       "    <tr>\n",
       "      <th>2</th>\n",
       "      <td>2015-01-01 06:00:00</td>\n",
       "      <td>81</td>\n",
       "      <td>1</td>\n",
       "      <td>0</td>\n",
       "      <td>0</td>\n",
       "      <td>0</td>\n",
       "      <td>0</td>\n",
       "    </tr>\n",
       "    <tr>\n",
       "      <th>3</th>\n",
       "      <td>2015-01-01 07:00:00</td>\n",
       "      <td>43</td>\n",
       "      <td>0</td>\n",
       "      <td>0</td>\n",
       "      <td>1</td>\n",
       "      <td>0</td>\n",
       "      <td>0</td>\n",
       "    </tr>\n",
       "    <tr>\n",
       "      <th>4</th>\n",
       "      <td>2015-01-01 08:00:00</td>\n",
       "      <td>14</td>\n",
       "      <td>0</td>\n",
       "      <td>0</td>\n",
       "      <td>0</td>\n",
       "      <td>1</td>\n",
       "      <td>0</td>\n",
       "    </tr>\n",
       "  </tbody>\n",
       "</table>\n",
       "</div>"
      ],
      "text/plain": [
       "             datetime  machineID  error_1  error_2  error_3  error_4  error_5\n",
       "0 2015-01-01 06:00:00         24        1        0        0        0        0\n",
       "1 2015-01-01 06:00:00         73        0        0        0        1        0\n",
       "2 2015-01-01 06:00:00         81        1        0        0        0        0\n",
       "3 2015-01-01 07:00:00         43        0        0        1        0        0\n",
       "4 2015-01-01 08:00:00         14        0        0        0        1        0"
      ]
     },
     "execution_count": 213,
     "metadata": {},
     "output_type": "execute_result"
    }
   ],
   "source": [
    "errorData.columns = ['datetime', 'machineID', 'error_1', 'error_2', 'error_3', 'error_4', 'error_5']\n",
    "errorData.head()"
   ]
  },
  {
   "cell_type": "markdown",
   "metadata": {},
   "source": [
    "### Merging, Feature Engineering, and more Cleaning"
   ]
  },
  {
   "cell_type": "code",
   "execution_count": 214,
   "metadata": {},
   "outputs": [],
   "source": [
    "singleDF = pd.merge(sensorData, maintenanceData, how = 'left', copy = False, on = ['datetime', 'machineID'])\n",
    "singleDF = pd.merge(singleDF, errorData, how = 'left', copy = False, on = ['datetime', 'machineID'])\n",
    "singleDF = pd.merge(singleDF, failureData, how = 'left', copy = False, on = ['datetime', 'machineID'])\n",
    "singleDF = pd.merge(singleDF, originsData, how = 'left', copy = False, on = ['machineID'])\n",
    "#singleDF.drop(['volt_ma', 'rotate_ma', 'pressure_ma', 'vibration_ma'], axis=1, inplace=True)\n",
    "singleDF.fillna(0, inplace=True)\n",
    "for f in ['mComp_1', 'mComp_2', 'mComp_3', 'mComp_4', 'fComp_1', 'fComp_2', 'fComp_3', 'fComp_4', 'error_1', 'error_2', 'error_3', 'error_4', 'error_5']:\n",
    "    #\n",
    "    singleDF[f] = singleDF[f].astype(int)"
   ]
  },
  {
   "cell_type": "code",
   "execution_count": 215,
   "metadata": {},
   "outputs": [
    {
     "data": {
      "text/plain": [
       "(876100, 21)"
      ]
     },
     "execution_count": 215,
     "metadata": {},
     "output_type": "execute_result"
    }
   ],
   "source": [
    "# sensorData was our base dataset, this confirms we're ending with the same number of rows we've started with\n",
    "singleDF.shape"
   ]
  },
  {
   "cell_type": "code",
   "execution_count": 216,
   "metadata": {},
   "outputs": [
    {
     "name": "stdout",
     "output_type": "stream",
     "text": [
      "<class 'pandas.core.frame.DataFrame'>\n",
      "Int64Index: 876100 entries, 0 to 876099\n",
      "Data columns (total 21 columns):\n",
      "datetime     876100 non-null datetime64[ns]\n",
      "machineID    876100 non-null int64\n",
      "volt         876100 non-null float64\n",
      "rotate       876100 non-null float64\n",
      "pressure     876100 non-null float64\n",
      "vibration    876100 non-null float64\n",
      "mComp_1      876100 non-null int32\n",
      "mComp_2      876100 non-null int32\n",
      "mComp_3      876100 non-null int32\n",
      "mComp_4      876100 non-null int32\n",
      "error_1      876100 non-null int32\n",
      "error_2      876100 non-null int32\n",
      "error_3      876100 non-null int32\n",
      "error_4      876100 non-null int32\n",
      "error_5      876100 non-null int32\n",
      "fComp_1      876100 non-null int32\n",
      "fComp_2      876100 non-null int32\n",
      "fComp_3      876100 non-null int32\n",
      "fComp_4      876100 non-null int32\n",
      "model        876100 non-null int32\n",
      "age          876100 non-null int64\n",
      "dtypes: datetime64[ns](1), float64(4), int32(14), int64(2)\n",
      "memory usage: 100.3 MB\n"
     ]
    }
   ],
   "source": [
    "singleDF.info()"
   ]
  },
  {
   "cell_type": "code",
   "execution_count": 217,
   "metadata": {},
   "outputs": [
    {
     "name": "stdout",
     "output_type": "stream",
     "text": [
      "0    875908\n",
      "1       192\n",
      "Name: fComp_1, dtype: int64 0    875396\n",
      "1       704\n",
      "Name: mComp_1, dtype: int64 0    875090\n",
      "1      1010\n",
      "Name: error_1, dtype: int64\n"
     ]
    }
   ],
   "source": [
    "# looking at a sample / head / tail the dataframe seemed pretty empty for the components, failures, and errors. I thought\n",
    "# there may have been an issue during the merge but doing a few checks has revealed the indicators are there.\n",
    "a = singleDF['fComp_1'].value_counts()\n",
    "b = singleDF['mComp_1'].value_counts()\n",
    "c = singleDF['error_1'].value_counts()\n",
    "print(a, b, c)"
   ]
  },
  {
   "cell_type": "markdown",
   "metadata": {},
   "source": [
    "When I first saw a data set for performed maintenance, failures, and errors I assumed they should go together pretty simply. After looking at this last data set though, there are five different error messages, but we only have four unqiue components. Going back to look at the information provided at the beginning of this notebook, there is nothing useful to define what these errors are or how they correlate at the maintenance and component level. \n",
    "\n",
    "The errors will be summarized into a quantitative field of 0 = no error, and 1 - 5 = errors occured."
   ]
  },
  {
   "cell_type": "code",
   "execution_count": 218,
   "metadata": {},
   "outputs": [],
   "source": [
    "# creating a general column 'errors' with quantities for that specific 'datetime' and 'machineID'\n",
    "singleDF['errors'] = singleDF['error_1'] + singleDF['error_2'] + singleDF['error_3'] + singleDF['error_4'] + singleDF['error_5']\n",
    "singleDF.drop(['error_1', 'error_2', 'error_3', 'error_4', 'error_5'], axis=1, inplace=True)\n",
    "#mask = singleDF['errors'] > 3\n",
    "#singleDF[mask].head(50)"
   ]
  },
  {
   "cell_type": "markdown",
   "metadata": {},
   "source": [
    "Per the requirements in 'TRAIN/SPLIT' the data needs to be grouped into three hour windows.\n",
    "Just performing a function like '.rolling()' on the entire data set is going to lead to inconsistant\n",
    "datetime entries for each group of machines. I'd like them to be uniform (for instance each machine \n",
    "should start at 2015-01-01 06:00:00, where if we just roll through the entire data set dropped 2/3 rows it won't be uniform). Here we'll break down the dataframe by 'machineID' into a list of dataframes \n",
    "so they can be manipulated separately and loop through to take an average of every three rows of sensor data as \n",
    "well as sum the maintenance and failed components in that three hour window hopefully giving a good summary of the three hour period.\n",
    "\n",
    "\n",
    "I'M UNSURE AVERAGING THE SENSOR VALUES IS THE BEST METHOD"
   ]
  },
  {
   "cell_type": "code",
   "execution_count": 219,
   "metadata": {},
   "outputs": [],
   "source": [
    "singleDF.sort_values(['machineID', 'datetime'], inplace = True)"
   ]
  },
  {
   "cell_type": "code",
   "execution_count": 220,
   "metadata": {},
   "outputs": [
    {
     "name": "stdout",
     "output_type": "stream",
     "text": [
      "<class 'pandas.core.frame.DataFrame'>\n",
      "Int64Index: 876100 entries, 0 to 876099\n",
      "Data columns (total 17 columns):\n",
      "datetime     876100 non-null datetime64[ns]\n",
      "machineID    876100 non-null int64\n",
      "volt         876100 non-null float64\n",
      "rotate       876100 non-null float64\n",
      "pressure     876100 non-null float64\n",
      "vibration    876100 non-null float64\n",
      "mComp_1      876100 non-null int32\n",
      "mComp_2      876100 non-null int32\n",
      "mComp_3      876100 non-null int32\n",
      "mComp_4      876100 non-null int32\n",
      "fComp_1      876100 non-null int32\n",
      "fComp_2      876100 non-null int32\n",
      "fComp_3      876100 non-null int32\n",
      "fComp_4      876100 non-null int32\n",
      "model        876100 non-null int32\n",
      "age          876100 non-null int64\n",
      "errors       876100 non-null int32\n",
      "dtypes: datetime64[ns](1), float64(4), int32(10), int64(2)\n",
      "memory usage: 86.9 MB\n"
     ]
    }
   ],
   "source": [
    "singleDF.info()"
   ]
  },
  {
   "cell_type": "code",
   "execution_count": null,
   "metadata": {},
   "outputs": [],
   "source": [
    "# create an empty list to add DataFrames to\n",
    "#machineDF = []\n",
    "# create a range for the one hundred machine\n",
    "#for key in range(0, 99):\n",
    "    # group rows by 'machineID'\n",
    "#    df = singleDF.loc[singleDF['machineID'] == key]\n",
    "    # append the df of a single machine to the list of df's\n",
    "#    machineDF.append(df)\n",
    "    # iterate through the columns below\n",
    "#    for feature in ['volt', 'rotate', 'pressure', 'vibration']:\n",
    "        # for each machineDF and column above, take the average of every three rows\n",
    "#        machineDF[key][feature] = machineDF[key][feature].rolling(3).mean()\n",
    "#    for feature in ['mComp_1', 'mComp_2', 'mComp_3', 'mComp_4', 'fComp_1', 'fComp_2', 'fComp_3', 'fComp_4', 'errors']:\n",
    "#        machineDF[key][feature + 'Rolling'] = machineDF[key][feature].rolling(3).sum()  \n",
    "    \n",
    "    #for feature in ['mComp_1', 'mComp_2', 'mComp_3', 'mComp_4', 'fComp_1', 'fComp_2', 'fComp_3', 'fComp_4', 'errors']:\n",
    "        #machineDF[key][feature] = machineDF[key][feature].rolling(3).sum()\n",
    "        \n",
    "        # add every three rows for columns above\n",
    "        #machineDF[key][feature] = machineDF[key][feature].groupby(machineDF[key][feature].index // 3 * 3).sum()\n",
    "        \n",
    "    # drop the first two rows of each machineDF, there's empty sensor data from the '.rolling(3)'\n",
    "    #machineDF[key] = machineDF[key].iloc[2:]\n",
    "    #print(machineDF[key].head(1))\n",
    "    #print(machineDF[key].iloc[0,2])\n",
    "    # drop every 2 of 3 rows\n",
    "#    machineDF[key] = machineDF[key].iloc[::3, :]\n",
    "    # drop the original component columns\n",
    "\n",
    "    # rename the rollings component columns\n",
    "    \n",
    "#convert the list back to a single df\n",
    "#df_1 = pd.concat(machineDF).fillna(0).sort_index().reset_index(drop = True)\n",
    "\n",
    "\n",
    "\n",
    "# starts a dictionary\n",
    "#machineDF = {}\n",
    "\n",
    "# naming the columns as you go, add this to for loop. Don't know if it needs to be a dictionary\n",
    "#machineID[str(key) + 'machine']"
   ]
  },
  {
   "cell_type": "code",
   "execution_count": 227,
   "metadata": {},
   "outputs": [],
   "source": [
    "# create an empty list to add DataFrames to\n",
    "machineDF = []\n",
    "# create a range for the one hundred machine\n",
    "for key in range(0, 99):\n",
    "    # group rows by 'machineID'\n",
    "    df = singleDF.loc[singleDF['machineID'] == key]\n",
    "    # append the df of a single machine to the list of df's\n",
    "    machineDF.append(df)\n",
    "    # iterate through the columns below\n",
    "    for feature in ['volt', 'rotate', 'pressure', 'vibration']:\n",
    "        # for each machineDF and column above, take the average of every three rows\n",
    "        machineDF[key][feature] = machineDF[key][feature].rolling(3).mean()\n",
    "    for feature in ['mComp_1', 'mComp_2', 'mComp_3', 'mComp_4', 'fComp_1', 'fComp_2', 'fComp_3', 'fComp_4', 'errors']:\n",
    "        machineDF[key][feature + 'Rolling'] = machineDF[key][feature].rolling(3).sum()  \n",
    "    # drop every 2 of 3 rows\n",
    "    machineDF[key] = machineDF[key].iloc[::3, :]\n",
    "    # drop the original component columns\n",
    "\n",
    "    # rename the rollings component columns\n",
    "    \n",
    "#convert the list back to a single df\n",
    "df_1 = pd.concat(machineDF).fillna(0).sort_index().reset_index(drop = True)"
   ]
  },
  {
   "cell_type": "code",
   "execution_count": 236,
   "metadata": {},
   "outputs": [
    {
     "name": "stdout",
     "output_type": "stream",
     "text": [
      "0    284636\n",
      "1      1357\n",
      "2       236\n",
      "3        29\n",
      "Name: errors, dtype: int64\n",
      "---------------\n",
      "0.0    282735\n",
      "1.0      3246\n",
      "2.0       246\n",
      "3.0        31\n",
      "Name: errorsRolling, dtype: int64\n",
      "---------------\n",
      "0    872484\n",
      "1      3342\n",
      "2       245\n",
      "3        29\n",
      "Name: errors, dtype: int64\n"
     ]
    }
   ],
   "source": [
    "a = df_1.errors.value_counts().sort_index()\n",
    "b = df_1.errorsRolling.value_counts().sort_index()\n",
    "c = singleDF.errors.value_counts().sort_index()\n",
    "print(a)\n",
    "print('-'*15)\n",
    "print(b)\n",
    "print('-'*15)\n",
    "print(c)"
   ]
  },
  {
   "cell_type": "code",
   "execution_count": null,
   "metadata": {},
   "outputs": [],
   "source": [
    "df_1.info()"
   ]
  },
  {
   "cell_type": "code",
   "execution_count": null,
   "metadata": {},
   "outputs": [],
   "source": [
    "mask = df_1['mComp_4Rolling'] > 0\n",
    "df_1[mask].head()"
   ]
  },
  {
   "cell_type": "markdown",
   "metadata": {},
   "source": [
    "### Analysis"
   ]
  },
  {
   "cell_type": "code",
   "execution_count": null,
   "metadata": {},
   "outputs": [],
   "source": [
    "# time for a first look\n",
    "\n",
    "#correlation heatmap\n",
    "def correlation_heatmap(df):\n",
    "    _ , ax = plt.subplots(figsize =(18, 16))\n",
    "    #colormap = sns.cubehelix_palette(start = 0, n_colors = 6, reverse = True)\n",
    "    \n",
    "    _ = sns.heatmap(\n",
    "        df.corr(), \n",
    "        #cmap = colormap,\n",
    "        square=True, \n",
    "        cbar_kws={'shrink':.9 }, \n",
    "        ax=ax,\n",
    "        annot=True, \n",
    "        linewidths=0.1,vmax=1.0, linecolor='white',\n",
    "        annot_kws={'fontsize':10 }\n",
    "    )\n",
    "    \n",
    "    plt.title('Pearson Correlation of Features', y=1.05, size=20)\n",
    "\n",
    "correlation_heatmap(singleDF)"
   ]
  },
  {
   "cell_type": "markdown",
   "metadata": {},
   "source": []
  },
  {
   "cell_type": "code",
   "execution_count": null,
   "metadata": {},
   "outputs": [],
   "source": []
  },
  {
   "cell_type": "code",
   "execution_count": null,
   "metadata": {},
   "outputs": [],
   "source": []
  },
  {
   "cell_type": "code",
   "execution_count": null,
   "metadata": {},
   "outputs": [],
   "source": []
  },
  {
   "cell_type": "code",
   "execution_count": null,
   "metadata": {},
   "outputs": [],
   "source": []
  },
  {
   "cell_type": "code",
   "execution_count": null,
   "metadata": {},
   "outputs": [],
   "source": []
  },
  {
   "cell_type": "markdown",
   "metadata": {},
   "source": [
    "#### a look at indivual machines vs model vs age\n",
    "sns.set(style=\"ticks\", color_codes=True)\n",
    "sns.pairplot(data = originsData)"
   ]
  },
  {
   "cell_type": "markdown",
   "metadata": {},
   "source": [
    "#### look at the component usage graphically\n",
    "plot = maintenanceData.plot.hist(alpha = .75, bins = 4, x = 'machineID', y = ['comp'],\n",
    "                                 edgecolor='black', linewidth=1.2, xticks = [1,2,3,4],\n",
    "                                 fontsize = 14, legend = True, figsize = (7, 5))\n",
    "plt.title('Component Maintenance Distrobution', size = 18)\n",
    "plt.xlabel('Component', size = 16)\n",
    "plt.ylabel(\"Quantity\", size = 16)\n",
    "plt.legend(prop={'size': 12})\n",
    "plt.xticks(range(1, 5))\n",
    "plt.xlim([.25,4.75])"
   ]
  },
  {
   "cell_type": "markdown",
   "metadata": {},
   "source": [
    "####  JUST FOOLING AROUND\n",
    "sensorGraphData = sensorData\n",
    "sensorGraphData[['volt_ma', 'rotate_ma', 'pressure_ma', 'vibration_ma']] = minmax_scale(sensorGraphData[['volt_ma', 'rotate_ma', 'pressure_ma', 'vibration_ma']])\n",
    "mask = sensorGraphData['machineID'] == 55\n",
    "sensorGraphData = sensorGraphData[mask]\n",
    "sensorGraphData.drop(['volt', 'rotate', 'pressure', 'vibration', 'machineID'], axis = 1, inplace = True)\n",
    "sensorGraphData = sensorGraphData.iloc[::730, :]\n",
    "sensorGraphData.shape"
   ]
  },
  {
   "cell_type": "markdown",
   "metadata": {},
   "source": [
    "####  JUST FOOLING AROUND\n",
    "plot = sensorGraphData.plot.line(x = 'datetime', sharey = ['volt_ma', 'rotate_ma', 'pressure_ma', 'vibration_ma'], \n",
    "                                 title = 'Mach 55 Twelve Month Normalized Averages', legend = True)\n",
    "plt.xlabel('Year')\n",
    "plt.ylabel(\"Sensor Average\")\n",
    "L = plt.legend()\n",
    "L.get_texts()[0].set_text('Voltage')\n",
    "L.get_texts()[1].set_text('Rotation')\n",
    "L.get_texts()[2].set_text('Pressure')\n",
    "L.get_texts()[3].set_text('Vibration')"
   ]
  },
  {
   "cell_type": "code",
   "execution_count": null,
   "metadata": {},
   "outputs": [],
   "source": []
  }
 ],
 "metadata": {
  "kernelspec": {
   "display_name": "Python 3",
   "language": "python",
   "name": "python3"
  },
  "language_info": {
   "codemirror_mode": {
    "name": "ipython",
    "version": 3
   },
   "file_extension": ".py",
   "mimetype": "text/x-python",
   "name": "python",
   "nbconvert_exporter": "python",
   "pygments_lexer": "ipython3",
   "version": "3.6.5"
  }
 },
 "nbformat": 4,
 "nbformat_minor": 2
}
