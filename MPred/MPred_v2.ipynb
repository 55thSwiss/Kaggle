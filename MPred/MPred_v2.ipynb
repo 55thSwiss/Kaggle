{
 "cells": [
  {
   "cell_type": "markdown",
   "metadata": {},
   "source": [
    "# Kaggle - Mpred\n",
    "## Predicitive Maintenance Challenge\n",
    "### https://www.kaggle.com/c/mpred-datascience-challenge\n",
    "#### By: 55thSwiss\n"
   ]
  },
  {
   "cell_type": "markdown",
   "metadata": {},
   "source": [
    "## Introduction\n",
    "\n",
    "A major problem faced by businesses in asset-heavy industries such as manufacturing is the significant \n",
    "costs that are associated with delays in the production process due to mechanical problems. Most of these \n",
    "businesses are interested in predicting these problems in advance so that they can proactively prevent the \n",
    "problems before they occur which will reduce the costly impact caused by downtime.\n",
    "\n",
    "The business problem for this example is about predicting problems caused by component failures such that \n",
    "the question “What is the probability that a machine will fail in the near future due to a failure of a \n",
    "certain component” can be answered. The problem is formatted as a multi-class classification problem and \n",
    "a machine learning algorithm is used to create the predictive model that learns from historical data collected \n",
    "from machines.\n",
    "\n",
    "The goal is to predict when a given machine will fail within 24 hours due to a failure of a given component ."
   ]
  },
  {
   "cell_type": "markdown",
   "metadata": {},
   "source": [
    "## Sources\n",
    "\n",
    "Please refer to the playbook [1] for predictive maintenance for a detailed explanation of common use cases \n",
    "in predictive maintenance and modelling approaches.\n",
    "\n",
    "Original data set can be found at [2]\n",
    "\n",
    "Although we're not going to use Azure ML, [3] is a good resouce for decision making and work flow\n",
    "\n",
    "[1] https://docs.microsoft.com/fr-fr/azure/machine-learning/team-data-science-process/cortana-analytics-playbook-predictive-maintenance\n",
    "\n",
    "[2] https://www.kaggle.com/yuansaijie0604/xinjiang-pm/data\n",
    "\n",
    "[3] https://azure.microsoft.com/en-us/documentation/learning-paths/data-science-process/"
   ]
  },
  {
   "cell_type": "markdown",
   "metadata": {},
   "source": [
    "## Data Description\n",
    "\n",
    "In this competition, you are asked to estimate the probability that a machine will fail in the near future due to a \n",
    "failure of a certain component. More specifically, the goal is to compute the probability that a machine will fail in \n",
    "the next 24 hours due to a certain component failure (component 1,2,3 or 4) hence you are asked to classify the \n",
    "observations into 5 categories : comp1, comp2,comp3,comp4 and none (e.g : The machine will fail due to \n",
    "component 1... 4 or will not fail in the next 24h)."
   ]
  },
  {
   "cell_type": "markdown",
   "metadata": {},
   "source": [
    "## TRAIN/SPLIT\n",
    "\n",
    "The data is made of 5 different data set : Errors, Failures, Machines features, Maintenance history and Telemetry which contains the historical data collected from 100 different machines\n",
    "\n",
    "The training set contains the data of 70 machines while the test set contains the data of the 30 remaining machines\n",
    "\n",
    "The data is collected every hour for a year. For simplicity, you are asked to group the data into 3 hours windows."
   ]
  },
  {
   "cell_type": "markdown",
   "metadata": {},
   "source": [
    "## File descriptions\n",
    "\n",
    "__telemetry.csv__ The first data source is the telemetry time-series data which consists of voltage, rotation, pressure and vibration measurements collected from 70 machines in real time averaged over every hour collected during the year 2015\n",
    "\n",
    "__errors.csv__ The errors logs are non-breaking errors thrown while the machine is still operational and do not constitute as failures. The error date and times are rounded to the closest hour since the telemetry data is collected at an hourly rate.\n",
    "\n",
    "__maint.csv__ This file contains the scheduled and unscheduled maintenance records which correspond to both regular inspection of components as well as failures. A record is generated if a component is replaced during the scheduled inspection or replaced due to a break down. The records that are created due to break downs will be called failures which is explained in the later sections. Maintenance data has both 2014 and 2015 records.\n",
    "\n",
    "__machines.csv__ This data set includes some information about the machines which are model type and years in service.\n",
    "\n",
    "__failures.csv__ These are the records of component replacements due to failures. Each record has a date and time, machine ID and failed component type."
   ]
  },
  {
   "cell_type": "markdown",
   "metadata": {},
   "source": [
    "## Data fields\n",
    "\n",
    "__volt, rotate, pressure, vibration__ Voltage, rotation, pressure and vibration measurements collected from the machines\n",
    "\n",
    "__machineID__ The ID of a machine\n",
    "\n",
    "__datetime__ The date\n",
    "\n",
    "__errorID__ The ID of an error\n",
    "\n",
    "__comp__ The component replaced during the scheduled maintenance\n",
    "\n",
    "__model__ Model of the machine\n",
    "\n",
    "__age__ Years in service\n",
    "\n",
    "__errorID__ The ID of an error\n",
    "\n",
    "__failure__ Failed component type"
   ]
  },
  {
   "cell_type": "markdown",
   "metadata": {},
   "source": [
    "### First assessment\n",
    "There has been a problem defined that forms the objective of the project and we've also been given the data to work with. Typically this would be steps one __(1)__ and two __(2)__ respectively, gaining an understanding of the business and defining the problem (an absolute precursor to deciding requirements and method of solution) as well as collecting the data, in this case from the manufacturing floor."
   ]
  },
  {
   "cell_type": "markdown",
   "metadata": {},
   "source": [
    "### Wrangling or preparing the data for consumption\n",
    "There are a few requirements from the introduction on the formatting of the data and how it should be proceesed. In this step the data will be formatted as well as examined for it's architecture in regards to storage and processing, and an initial cleaning for aberrant, missing, duplicate, or outlier data points within each dataset. This is a good point to determine possible independent and dependent variables.  If a key feature has been identified, the dataframes will be easily concatenated, otherwise it will be done \"manually\". Lastly, the cumulative dataframe can be split into training, test, and validation tables. "
   ]
  },
  {
   "cell_type": "code",
   "execution_count": 120,
   "metadata": {},
   "outputs": [],
   "source": [
    "#libraries\n",
    "import sys\n",
    "import os\n",
    "import pandas as pd \n",
    "import numpy as np\n",
    "import matplotlib as mpl\n",
    "import matplotlib.pyplot as plt\n",
    "import matplotlib.pylab as pylab\n",
    "import matplotlib.ticker as ticker\n",
    "import seaborn as sns\n",
    "import sklearn\n",
    "from sklearn.preprocessing import minmax_scale\n",
    "import datetime\n",
    "from datetime import date\n",
    "import warnings\n",
    "warnings.filterwarnings('ignore')\n",
    "\n",
    "\n",
    "#vizualization defaults\n",
    "%matplotlib inline\n",
    "mpl.style.use('ggplot')\n",
    "sns.set_style('white')\n",
    "pylab.rcParams['figure.figsize'] = 12,8\n",
    "pd.set_option('display.max_columns', None)\n",
    "pd.set_option('display.max_rows', None)\n"
   ]
  },
  {
   "cell_type": "markdown",
   "metadata": {},
   "source": [
    "The first dataset I tried looking at was telemetry.csv, but an error kicked up when loading the CSV:\n",
    "\n",
    "```ParserError: Error tokenizing data. C error: Expected 6 fields in line 92490, saw 9```\n",
    "\n",
    "This likely kicked up from missing information, meaning cells that were void of any value. Opening in a spreadsheet editor like Excel often fixes this by replacing the empty cells with a NaN status. "
   ]
  },
  {
   "cell_type": "code",
   "execution_count": 121,
   "metadata": {},
   "outputs": [],
   "source": [
    "#import data\n",
    "sensorData = pd.read_csv('PdM_telemetry.csv')\n",
    "maintenanceData = pd.read_csv('PdM_maint.csv')\n",
    "originsData = pd.read_csv('PdM_machines.csv')\n",
    "failureData = pd.read_csv('PdM_failures.csv')\n",
    "errorData = pd.read_csv('PdM_errors.csv')"
   ]
  },
  {
   "cell_type": "markdown",
   "metadata": {},
   "source": [
    "We'll do a first run through starting with 'telemetry.csv' since this is the largest dataset, then finish up the rest quickly. After opening the csv in Excel we're able to import it into the notebook but it has three columns of entirely null values. I've confirmed this is just an anomaly and the csv is infact empty in those columns (seems to be a formatting error, one row contained a shifted column heading in the data cells), they will be dropped. "
   ]
  },
  {
   "cell_type": "markdown",
   "metadata": {},
   "source": [
    "### Telemetry Data:\n",
    "\n",
    "This is is going to be the most valuable dataset inidivudally, as it contains a vast amount of sensor readings from one hundred different machines. This will probably be the foundation dataset for merging."
   ]
  },
  {
   "cell_type": "code",
   "execution_count": 122,
   "metadata": {},
   "outputs": [
    {
     "name": "stdout",
     "output_type": "stream",
     "text": [
      "<class 'pandas.core.frame.DataFrame'>\n",
      "RangeIndex: 968589 entries, 0 to 968588\n",
      "Data columns (total 9 columns):\n",
      "datetime      968589 non-null object\n",
      "machineID     968589 non-null int64\n",
      "volt          968589 non-null float64\n",
      "rotate        968589 non-null object\n",
      "pressure      968589 non-null object\n",
      "vibration     968589 non-null object\n",
      "Unnamed: 6    1 non-null object\n",
      "Unnamed: 7    1 non-null object\n",
      "Unnamed: 8    1 non-null object\n",
      "dtypes: float64(1), int64(1), object(7)\n",
      "memory usage: 66.5+ MB\n"
     ]
    }
   ],
   "source": [
    "#first look\n",
    "sensorData.info()"
   ]
  },
  {
   "cell_type": "code",
   "execution_count": 123,
   "metadata": {},
   "outputs": [
    {
     "data": {
      "text/html": [
       "<div>\n",
       "<style scoped>\n",
       "    .dataframe tbody tr th:only-of-type {\n",
       "        vertical-align: middle;\n",
       "    }\n",
       "\n",
       "    .dataframe tbody tr th {\n",
       "        vertical-align: top;\n",
       "    }\n",
       "\n",
       "    .dataframe thead th {\n",
       "        text-align: right;\n",
       "    }\n",
       "</style>\n",
       "<table border=\"1\" class=\"dataframe\">\n",
       "  <thead>\n",
       "    <tr style=\"text-align: right;\">\n",
       "      <th></th>\n",
       "      <th>datetime</th>\n",
       "      <th>machineID</th>\n",
       "      <th>volt</th>\n",
       "      <th>rotate</th>\n",
       "      <th>pressure</th>\n",
       "      <th>vibration</th>\n",
       "      <th>Unnamed: 6</th>\n",
       "      <th>Unnamed: 7</th>\n",
       "      <th>Unnamed: 8</th>\n",
       "    </tr>\n",
       "  </thead>\n",
       "  <tbody>\n",
       "    <tr>\n",
       "      <th>35733</th>\n",
       "      <td>1/29/2015 23:00</td>\n",
       "      <td>5</td>\n",
       "      <td>187.966307</td>\n",
       "      <td>405.255</td>\n",
       "      <td>119.073</td>\n",
       "      <td>54.7162</td>\n",
       "      <td>NaN</td>\n",
       "      <td>NaN</td>\n",
       "      <td>NaN</td>\n",
       "    </tr>\n",
       "    <tr>\n",
       "      <th>938399</th>\n",
       "      <td>7/22/2015 12:00</td>\n",
       "      <td>97</td>\n",
       "      <td>184.107354</td>\n",
       "      <td>299.871</td>\n",
       "      <td>108.729</td>\n",
       "      <td>53.4105</td>\n",
       "      <td>NaN</td>\n",
       "      <td>NaN</td>\n",
       "      <td>NaN</td>\n",
       "    </tr>\n",
       "    <tr>\n",
       "      <th>622826</th>\n",
       "      <td>7/15/2015 3:00</td>\n",
       "      <td>61</td>\n",
       "      <td>164.714304</td>\n",
       "      <td>538.31</td>\n",
       "      <td>105.292</td>\n",
       "      <td>43.493</td>\n",
       "      <td>NaN</td>\n",
       "      <td>NaN</td>\n",
       "      <td>NaN</td>\n",
       "    </tr>\n",
       "  </tbody>\n",
       "</table>\n",
       "</div>"
      ],
      "text/plain": [
       "               datetime  machineID        volt   rotate pressure vibration  \\\n",
       "35733   1/29/2015 23:00          5  187.966307  405.255  119.073   54.7162   \n",
       "938399  7/22/2015 12:00         97  184.107354  299.871  108.729   53.4105   \n",
       "622826   7/15/2015 3:00         61  164.714304   538.31  105.292    43.493   \n",
       "\n",
       "       Unnamed: 6 Unnamed: 7 Unnamed: 8  \n",
       "35733         NaN        NaN        NaN  \n",
       "938399        NaN        NaN        NaN  \n",
       "622826        NaN        NaN        NaN  "
      ]
     },
     "execution_count": 123,
     "metadata": {},
     "output_type": "execute_result"
    }
   ],
   "source": [
    "sensorData.sample(3)"
   ]
  },
  {
   "cell_type": "code",
   "execution_count": 124,
   "metadata": {},
   "outputs": [
    {
     "name": "stdout",
     "output_type": "stream",
     "text": [
      "<class 'pandas.core.frame.DataFrame'>\n",
      "Int64Index: 968588 entries, 0 to 968588\n",
      "Data columns (total 6 columns):\n",
      "datetime     968588 non-null datetime64[ns]\n",
      "machineID    968588 non-null int64\n",
      "volt         968588 non-null float64\n",
      "rotate       968588 non-null float64\n",
      "pressure     968588 non-null float64\n",
      "vibration    968588 non-null float64\n",
      "dtypes: datetime64[ns](1), float64(4), int64(1)\n",
      "memory usage: 51.7 MB\n"
     ]
    }
   ],
   "source": [
    "# row index 92488 was the problem data from above, drop the row and clean up columns\n",
    "sensorData.drop(92488, inplace = True)\n",
    "sensorData.drop(['Unnamed: 6', 'Unnamed: 7', 'Unnamed: 8'], axis=1, inplace=True)\n",
    "sensorData['datetime'] = pd.to_datetime(sensorData['datetime'], infer_datetime_format = True)\n",
    "# change the datatype of 'rotate', 'pressure', and 'vibration'\n",
    "sensorData['rotate'] = sensorData['rotate'].astype(float)\n",
    "sensorData['pressure'] = sensorData['pressure'].astype(float)\n",
    "sensorData['vibration'] = sensorData['vibration'].astype(float)\n",
    "sensorData.info()"
   ]
  },
  {
   "cell_type": "code",
   "execution_count": 125,
   "metadata": {},
   "outputs": [
    {
     "data": {
      "text/html": [
       "<div>\n",
       "<style scoped>\n",
       "    .dataframe tbody tr th:only-of-type {\n",
       "        vertical-align: middle;\n",
       "    }\n",
       "\n",
       "    .dataframe tbody tr th {\n",
       "        vertical-align: top;\n",
       "    }\n",
       "\n",
       "    .dataframe thead th {\n",
       "        text-align: right;\n",
       "    }\n",
       "</style>\n",
       "<table border=\"1\" class=\"dataframe\">\n",
       "  <thead>\n",
       "    <tr style=\"text-align: right;\">\n",
       "      <th></th>\n",
       "      <th>machineID</th>\n",
       "      <th>volt</th>\n",
       "      <th>rotate</th>\n",
       "      <th>pressure</th>\n",
       "      <th>vibration</th>\n",
       "    </tr>\n",
       "  </thead>\n",
       "  <tbody>\n",
       "    <tr>\n",
       "      <th>count</th>\n",
       "      <td>968588.000000</td>\n",
       "      <td>968588.000000</td>\n",
       "      <td>968588.000000</td>\n",
       "      <td>968588.000000</td>\n",
       "      <td>968588.000000</td>\n",
       "    </tr>\n",
       "    <tr>\n",
       "      <th>mean</th>\n",
       "      <td>46.230764</td>\n",
       "      <td>170.774119</td>\n",
       "      <td>446.591205</td>\n",
       "      <td>100.841515</td>\n",
       "      <td>40.383648</td>\n",
       "    </tr>\n",
       "    <tr>\n",
       "      <th>std</th>\n",
       "      <td>30.450409</td>\n",
       "      <td>15.507488</td>\n",
       "      <td>52.701718</td>\n",
       "      <td>11.028763</td>\n",
       "      <td>5.366198</td>\n",
       "    </tr>\n",
       "    <tr>\n",
       "      <th>min</th>\n",
       "      <td>1.000000</td>\n",
       "      <td>97.333604</td>\n",
       "      <td>138.432075</td>\n",
       "      <td>51.237106</td>\n",
       "      <td>14.877054</td>\n",
       "    </tr>\n",
       "    <tr>\n",
       "      <th>25%</th>\n",
       "      <td>18.000000</td>\n",
       "      <td>160.298184</td>\n",
       "      <td>412.278255</td>\n",
       "      <td>93.492369</td>\n",
       "      <td>36.778303</td>\n",
       "    </tr>\n",
       "    <tr>\n",
       "      <th>50%</th>\n",
       "      <td>45.000000</td>\n",
       "      <td>170.597611</td>\n",
       "      <td>447.555368</td>\n",
       "      <td>100.414332</td>\n",
       "      <td>40.237433</td>\n",
       "    </tr>\n",
       "    <tr>\n",
       "      <th>75%</th>\n",
       "      <td>73.000000</td>\n",
       "      <td>181.006196</td>\n",
       "      <td>482.154486</td>\n",
       "      <td>107.535244</td>\n",
       "      <td>43.781329</td>\n",
       "    </tr>\n",
       "    <tr>\n",
       "      <th>max</th>\n",
       "      <td>100.000000</td>\n",
       "      <td>255.124717</td>\n",
       "      <td>695.020984</td>\n",
       "      <td>185.951998</td>\n",
       "      <td>76.791072</td>\n",
       "    </tr>\n",
       "  </tbody>\n",
       "</table>\n",
       "</div>"
      ],
      "text/plain": [
       "           machineID           volt         rotate       pressure  \\\n",
       "count  968588.000000  968588.000000  968588.000000  968588.000000   \n",
       "mean       46.230764     170.774119     446.591205     100.841515   \n",
       "std        30.450409      15.507488      52.701718      11.028763   \n",
       "min         1.000000      97.333604     138.432075      51.237106   \n",
       "25%        18.000000     160.298184     412.278255      93.492369   \n",
       "50%        45.000000     170.597611     447.555368     100.414332   \n",
       "75%        73.000000     181.006196     482.154486     107.535244   \n",
       "max       100.000000     255.124717     695.020984     185.951998   \n",
       "\n",
       "           vibration  \n",
       "count  968588.000000  \n",
       "mean       40.383648  \n",
       "std         5.366198  \n",
       "min        14.877054  \n",
       "25%        36.778303  \n",
       "50%        40.237433  \n",
       "75%        43.781329  \n",
       "max        76.791072  "
      ]
     },
     "execution_count": 125,
     "metadata": {},
     "output_type": "execute_result"
    }
   ],
   "source": [
    "# check out some statistics on the dataset\n",
    "sensorData.describe()"
   ]
  },
  {
   "cell_type": "markdown",
   "metadata": {},
   "source": [
    "It looks like every feature has data points that are well outside three standard deviations of their respective mean. The outliers need to be looked at and dealt with if they're determined to be noise in the dataset, although these could be triggers corresponding to the failure mode in so they won't be removed just yet."
   ]
  },
  {
   "cell_type": "code",
   "execution_count": 126,
   "metadata": {},
   "outputs": [
    {
     "data": {
      "text/plain": [
       "(968588, 6)"
      ]
     },
     "execution_count": 126,
     "metadata": {},
     "output_type": "execute_result"
    }
   ],
   "source": [
    "sensorData.shape"
   ]
  },
  {
   "cell_type": "code",
   "execution_count": 127,
   "metadata": {},
   "outputs": [],
   "source": [
    "# start organizing the data by date to see how it flows\n",
    "sensorData.sort_values(by=['datetime'], inplace = True)"
   ]
  },
  {
   "cell_type": "code",
   "execution_count": 128,
   "metadata": {
    "scrolled": true
   },
   "outputs": [
    {
     "data": {
      "text/html": [
       "<div>\n",
       "<style scoped>\n",
       "    .dataframe tbody tr th:only-of-type {\n",
       "        vertical-align: middle;\n",
       "    }\n",
       "\n",
       "    .dataframe tbody tr th {\n",
       "        vertical-align: top;\n",
       "    }\n",
       "\n",
       "    .dataframe thead th {\n",
       "        text-align: right;\n",
       "    }\n",
       "</style>\n",
       "<table border=\"1\" class=\"dataframe\">\n",
       "  <thead>\n",
       "    <tr style=\"text-align: right;\">\n",
       "      <th></th>\n",
       "      <th>datetime</th>\n",
       "      <th>machineID</th>\n",
       "      <th>volt</th>\n",
       "      <th>rotate</th>\n",
       "      <th>pressure</th>\n",
       "      <th>vibration</th>\n",
       "    </tr>\n",
       "  </thead>\n",
       "  <tbody>\n",
       "    <tr>\n",
       "      <th>0</th>\n",
       "      <td>2015-01-01 06:00:00</td>\n",
       "      <td>1</td>\n",
       "      <td>176.217853</td>\n",
       "      <td>418.504078</td>\n",
       "      <td>113.077935</td>\n",
       "      <td>45.087686</td>\n",
       "    </tr>\n",
       "    <tr>\n",
       "      <th>92489</th>\n",
       "      <td>2015-01-01 06:00:00</td>\n",
       "      <td>1</td>\n",
       "      <td>176.217853</td>\n",
       "      <td>418.504078</td>\n",
       "      <td>113.077935</td>\n",
       "      <td>45.087686</td>\n",
       "    </tr>\n",
       "    <tr>\n",
       "      <th>92490</th>\n",
       "      <td>2015-01-01 07:00:00</td>\n",
       "      <td>1</td>\n",
       "      <td>162.879223</td>\n",
       "      <td>402.747490</td>\n",
       "      <td>95.460525</td>\n",
       "      <td>43.413973</td>\n",
       "    </tr>\n",
       "    <tr>\n",
       "      <th>1</th>\n",
       "      <td>2015-01-01 07:00:00</td>\n",
       "      <td>1</td>\n",
       "      <td>162.879223</td>\n",
       "      <td>402.747490</td>\n",
       "      <td>95.460525</td>\n",
       "      <td>43.413973</td>\n",
       "    </tr>\n",
       "    <tr>\n",
       "      <th>2</th>\n",
       "      <td>2015-01-01 08:00:00</td>\n",
       "      <td>1</td>\n",
       "      <td>170.989902</td>\n",
       "      <td>527.349825</td>\n",
       "      <td>75.237905</td>\n",
       "      <td>34.178847</td>\n",
       "    </tr>\n",
       "  </tbody>\n",
       "</table>\n",
       "</div>"
      ],
      "text/plain": [
       "                 datetime  machineID        volt      rotate    pressure  \\\n",
       "0     2015-01-01 06:00:00          1  176.217853  418.504078  113.077935   \n",
       "92489 2015-01-01 06:00:00          1  176.217853  418.504078  113.077935   \n",
       "92490 2015-01-01 07:00:00          1  162.879223  402.747490   95.460525   \n",
       "1     2015-01-01 07:00:00          1  162.879223  402.747490   95.460525   \n",
       "2     2015-01-01 08:00:00          1  170.989902  527.349825   75.237905   \n",
       "\n",
       "       vibration  \n",
       "0      45.087686  \n",
       "92489  45.087686  \n",
       "92490  43.413973  \n",
       "1      43.413973  \n",
       "2      34.178847  "
      ]
     },
     "execution_count": 128,
     "metadata": {},
     "output_type": "execute_result"
    }
   ],
   "source": [
    "mask = sensorData['machineID'] == 1\n",
    "sensorData[mask].head(5)"
   ]
  },
  {
   "cell_type": "code",
   "execution_count": 129,
   "metadata": {},
   "outputs": [
    {
     "data": {
      "text/plain": [
       "8761"
      ]
     },
     "execution_count": 129,
     "metadata": {},
     "output_type": "execute_result"
    }
   ],
   "source": [
    "# looking at the results above, their appears to be duplicated data based on the 'datetime' feature, investigate a litte here:\n",
    "sum(sensorData[mask].duplicated('datetime'))"
   ]
  },
  {
   "cell_type": "code",
   "execution_count": 130,
   "metadata": {
    "scrolled": true
   },
   "outputs": [
    {
     "data": {
      "text/plain": [
       "0"
      ]
     },
     "execution_count": 130,
     "metadata": {},
     "output_type": "execute_result"
    }
   ],
   "source": [
    "# cleaning the duplicate data and check\n",
    "sensorData.drop_duplicates(subset=['datetime', 'machineID', 'volt'], inplace = True)\n",
    "sum(sensorData[mask].duplicated('datetime'))"
   ]
  },
  {
   "cell_type": "code",
   "execution_count": 131,
   "metadata": {
    "scrolled": true
   },
   "outputs": [
    {
     "data": {
      "text/html": [
       "<div>\n",
       "<style scoped>\n",
       "    .dataframe tbody tr th:only-of-type {\n",
       "        vertical-align: middle;\n",
       "    }\n",
       "\n",
       "    .dataframe tbody tr th {\n",
       "        vertical-align: top;\n",
       "    }\n",
       "\n",
       "    .dataframe thead th {\n",
       "        text-align: right;\n",
       "    }\n",
       "</style>\n",
       "<table border=\"1\" class=\"dataframe\">\n",
       "  <thead>\n",
       "    <tr style=\"text-align: right;\">\n",
       "      <th></th>\n",
       "      <th>datetime</th>\n",
       "      <th>machineID</th>\n",
       "      <th>volt</th>\n",
       "      <th>rotate</th>\n",
       "      <th>pressure</th>\n",
       "      <th>vibration</th>\n",
       "    </tr>\n",
       "  </thead>\n",
       "  <tbody>\n",
       "    <tr>\n",
       "      <th>8761</th>\n",
       "      <td>2015-01-01 06:00:00</td>\n",
       "      <td>2</td>\n",
       "      <td>176.558913</td>\n",
       "      <td>424.624162</td>\n",
       "      <td>76.005332</td>\n",
       "      <td>43.767049</td>\n",
       "    </tr>\n",
       "    <tr>\n",
       "      <th>8762</th>\n",
       "      <td>2015-01-01 07:00:00</td>\n",
       "      <td>2</td>\n",
       "      <td>158.282044</td>\n",
       "      <td>432.372960</td>\n",
       "      <td>110.907806</td>\n",
       "      <td>37.267114</td>\n",
       "    </tr>\n",
       "    <tr>\n",
       "      <th>101252</th>\n",
       "      <td>2015-01-01 08:00:00</td>\n",
       "      <td>2</td>\n",
       "      <td>168.242028</td>\n",
       "      <td>454.629639</td>\n",
       "      <td>97.877007</td>\n",
       "      <td>39.709461</td>\n",
       "    </tr>\n",
       "    <tr>\n",
       "      <th>101253</th>\n",
       "      <td>2015-01-01 09:00:00</td>\n",
       "      <td>2</td>\n",
       "      <td>180.280316</td>\n",
       "      <td>438.391022</td>\n",
       "      <td>84.440430</td>\n",
       "      <td>40.490443</td>\n",
       "    </tr>\n",
       "    <tr>\n",
       "      <th>101254</th>\n",
       "      <td>2015-01-01 10:00:00</td>\n",
       "      <td>2</td>\n",
       "      <td>169.719531</td>\n",
       "      <td>473.055664</td>\n",
       "      <td>110.395683</td>\n",
       "      <td>41.229578</td>\n",
       "    </tr>\n",
       "    <tr>\n",
       "      <th>101255</th>\n",
       "      <td>2015-01-01 11:00:00</td>\n",
       "      <td>2</td>\n",
       "      <td>191.257247</td>\n",
       "      <td>369.738792</td>\n",
       "      <td>101.223451</td>\n",
       "      <td>45.616543</td>\n",
       "    </tr>\n",
       "    <tr>\n",
       "      <th>8767</th>\n",
       "      <td>2015-01-01 12:00:00</td>\n",
       "      <td>2</td>\n",
       "      <td>186.282977</td>\n",
       "      <td>483.698416</td>\n",
       "      <td>115.061863</td>\n",
       "      <td>50.690561</td>\n",
       "    </tr>\n",
       "    <tr>\n",
       "      <th>101257</th>\n",
       "      <td>2015-01-01 13:00:00</td>\n",
       "      <td>2</td>\n",
       "      <td>179.367188</td>\n",
       "      <td>450.943961</td>\n",
       "      <td>94.378019</td>\n",
       "      <td>38.684815</td>\n",
       "    </tr>\n",
       "    <tr>\n",
       "      <th>101258</th>\n",
       "      <td>2015-01-01 14:00:00</td>\n",
       "      <td>2</td>\n",
       "      <td>168.893782</td>\n",
       "      <td>494.876313</td>\n",
       "      <td>101.910022</td>\n",
       "      <td>34.566681</td>\n",
       "    </tr>\n",
       "    <tr>\n",
       "      <th>101259</th>\n",
       "      <td>2015-01-01 15:00:00</td>\n",
       "      <td>2</td>\n",
       "      <td>158.595797</td>\n",
       "      <td>427.282619</td>\n",
       "      <td>92.470163</td>\n",
       "      <td>32.160232</td>\n",
       "    </tr>\n",
       "    <tr>\n",
       "      <th>8771</th>\n",
       "      <td>2015-01-01 16:00:00</td>\n",
       "      <td>2</td>\n",
       "      <td>165.754394</td>\n",
       "      <td>457.282676</td>\n",
       "      <td>108.007373</td>\n",
       "      <td>46.980527</td>\n",
       "    </tr>\n",
       "    <tr>\n",
       "      <th>8772</th>\n",
       "      <td>2015-01-01 17:00:00</td>\n",
       "      <td>2</td>\n",
       "      <td>194.108213</td>\n",
       "      <td>400.101296</td>\n",
       "      <td>108.837258</td>\n",
       "      <td>43.563299</td>\n",
       "    </tr>\n",
       "    <tr>\n",
       "      <th>8773</th>\n",
       "      <td>2015-01-01 18:00:00</td>\n",
       "      <td>2</td>\n",
       "      <td>153.540806</td>\n",
       "      <td>422.978361</td>\n",
       "      <td>99.854820</td>\n",
       "      <td>38.077059</td>\n",
       "    </tr>\n",
       "    <tr>\n",
       "      <th>101263</th>\n",
       "      <td>2015-01-01 19:00:00</td>\n",
       "      <td>2</td>\n",
       "      <td>193.139223</td>\n",
       "      <td>404.558708</td>\n",
       "      <td>107.895507</td>\n",
       "      <td>40.089805</td>\n",
       "    </tr>\n",
       "    <tr>\n",
       "      <th>101264</th>\n",
       "      <td>2015-01-01 20:00:00</td>\n",
       "      <td>2</td>\n",
       "      <td>168.086228</td>\n",
       "      <td>543.802539</td>\n",
       "      <td>91.512681</td>\n",
       "      <td>39.400235</td>\n",
       "    </tr>\n",
       "    <tr>\n",
       "      <th>8776</th>\n",
       "      <td>2015-01-01 21:00:00</td>\n",
       "      <td>2</td>\n",
       "      <td>169.370359</td>\n",
       "      <td>392.525890</td>\n",
       "      <td>100.752167</td>\n",
       "      <td>47.020597</td>\n",
       "    </tr>\n",
       "    <tr>\n",
       "      <th>101266</th>\n",
       "      <td>2015-01-01 22:00:00</td>\n",
       "      <td>2</td>\n",
       "      <td>179.050449</td>\n",
       "      <td>465.511692</td>\n",
       "      <td>113.391190</td>\n",
       "      <td>45.082957</td>\n",
       "    </tr>\n",
       "    <tr>\n",
       "      <th>8778</th>\n",
       "      <td>2015-01-01 23:00:00</td>\n",
       "      <td>2</td>\n",
       "      <td>166.769102</td>\n",
       "      <td>477.226985</td>\n",
       "      <td>98.193479</td>\n",
       "      <td>41.516010</td>\n",
       "    </tr>\n",
       "    <tr>\n",
       "      <th>101268</th>\n",
       "      <td>2015-01-02 00:00:00</td>\n",
       "      <td>2</td>\n",
       "      <td>173.118037</td>\n",
       "      <td>469.713999</td>\n",
       "      <td>93.724533</td>\n",
       "      <td>48.273130</td>\n",
       "    </tr>\n",
       "    <tr>\n",
       "      <th>8780</th>\n",
       "      <td>2015-01-02 01:00:00</td>\n",
       "      <td>2</td>\n",
       "      <td>176.251586</td>\n",
       "      <td>447.756449</td>\n",
       "      <td>86.800353</td>\n",
       "      <td>43.268340</td>\n",
       "    </tr>\n",
       "    <tr>\n",
       "      <th>101270</th>\n",
       "      <td>2015-01-02 02:00:00</td>\n",
       "      <td>2</td>\n",
       "      <td>168.476946</td>\n",
       "      <td>480.866522</td>\n",
       "      <td>84.192712</td>\n",
       "      <td>47.356836</td>\n",
       "    </tr>\n",
       "    <tr>\n",
       "      <th>101271</th>\n",
       "      <td>2015-01-02 03:00:00</td>\n",
       "      <td>2</td>\n",
       "      <td>163.198451</td>\n",
       "      <td>388.511217</td>\n",
       "      <td>83.257619</td>\n",
       "      <td>41.601255</td>\n",
       "    </tr>\n",
       "    <tr>\n",
       "      <th>101272</th>\n",
       "      <td>2015-01-02 04:00:00</td>\n",
       "      <td>2</td>\n",
       "      <td>154.433801</td>\n",
       "      <td>381.774915</td>\n",
       "      <td>94.367118</td>\n",
       "      <td>44.460371</td>\n",
       "    </tr>\n",
       "    <tr>\n",
       "      <th>8784</th>\n",
       "      <td>2015-01-02 05:00:00</td>\n",
       "      <td>2</td>\n",
       "      <td>167.528716</td>\n",
       "      <td>445.072301</td>\n",
       "      <td>81.406120</td>\n",
       "      <td>36.416044</td>\n",
       "    </tr>\n",
       "  </tbody>\n",
       "</table>\n",
       "</div>"
      ],
      "text/plain": [
       "                  datetime  machineID        volt      rotate    pressure  \\\n",
       "8761   2015-01-01 06:00:00          2  176.558913  424.624162   76.005332   \n",
       "8762   2015-01-01 07:00:00          2  158.282044  432.372960  110.907806   \n",
       "101252 2015-01-01 08:00:00          2  168.242028  454.629639   97.877007   \n",
       "101253 2015-01-01 09:00:00          2  180.280316  438.391022   84.440430   \n",
       "101254 2015-01-01 10:00:00          2  169.719531  473.055664  110.395683   \n",
       "101255 2015-01-01 11:00:00          2  191.257247  369.738792  101.223451   \n",
       "8767   2015-01-01 12:00:00          2  186.282977  483.698416  115.061863   \n",
       "101257 2015-01-01 13:00:00          2  179.367188  450.943961   94.378019   \n",
       "101258 2015-01-01 14:00:00          2  168.893782  494.876313  101.910022   \n",
       "101259 2015-01-01 15:00:00          2  158.595797  427.282619   92.470163   \n",
       "8771   2015-01-01 16:00:00          2  165.754394  457.282676  108.007373   \n",
       "8772   2015-01-01 17:00:00          2  194.108213  400.101296  108.837258   \n",
       "8773   2015-01-01 18:00:00          2  153.540806  422.978361   99.854820   \n",
       "101263 2015-01-01 19:00:00          2  193.139223  404.558708  107.895507   \n",
       "101264 2015-01-01 20:00:00          2  168.086228  543.802539   91.512681   \n",
       "8776   2015-01-01 21:00:00          2  169.370359  392.525890  100.752167   \n",
       "101266 2015-01-01 22:00:00          2  179.050449  465.511692  113.391190   \n",
       "8778   2015-01-01 23:00:00          2  166.769102  477.226985   98.193479   \n",
       "101268 2015-01-02 00:00:00          2  173.118037  469.713999   93.724533   \n",
       "8780   2015-01-02 01:00:00          2  176.251586  447.756449   86.800353   \n",
       "101270 2015-01-02 02:00:00          2  168.476946  480.866522   84.192712   \n",
       "101271 2015-01-02 03:00:00          2  163.198451  388.511217   83.257619   \n",
       "101272 2015-01-02 04:00:00          2  154.433801  381.774915   94.367118   \n",
       "8784   2015-01-02 05:00:00          2  167.528716  445.072301   81.406120   \n",
       "\n",
       "        vibration  \n",
       "8761    43.767049  \n",
       "8762    37.267114  \n",
       "101252  39.709461  \n",
       "101253  40.490443  \n",
       "101254  41.229578  \n",
       "101255  45.616543  \n",
       "8767    50.690561  \n",
       "101257  38.684815  \n",
       "101258  34.566681  \n",
       "101259  32.160232  \n",
       "8771    46.980527  \n",
       "8772    43.563299  \n",
       "8773    38.077059  \n",
       "101263  40.089805  \n",
       "101264  39.400235  \n",
       "8776    47.020597  \n",
       "101266  45.082957  \n",
       "8778    41.516010  \n",
       "101268  48.273130  \n",
       "8780    43.268340  \n",
       "101270  47.356836  \n",
       "101271  41.601255  \n",
       "101272  44.460371  \n",
       "8784    36.416044  "
      ]
     },
     "execution_count": 131,
     "metadata": {},
     "output_type": "execute_result"
    }
   ],
   "source": [
    "# looks better, check a 24 hour period of another machine for consistancy\n",
    "mask = sensorData['machineID'] == 2\n",
    "sensorData[mask].head(24)"
   ]
  },
  {
   "cell_type": "code",
   "execution_count": 132,
   "metadata": {},
   "outputs": [],
   "source": [
    "# organize the dataframe by 'machineID' first, then 'datetime'\n",
    "sensorData.sort_values(['machineID', 'datetime'], inplace = True)"
   ]
  },
  {
   "cell_type": "code",
   "execution_count": 133,
   "metadata": {},
   "outputs": [
    {
     "data": {
      "image/png": "[encoded data removed]",
      "text/plain": [
       "<Figure size 1152x432 with 1 Axes>"
      ]
     },
     "metadata": {},
     "output_type": "display_data"
    }
   ],
   "source": [
    "# plotting the first month of 'pressure' data\n",
    "plt_df = sensorData.loc[(sensorData['machineID'] == 1) & \n",
    "                         (sensorData['datetime'] > pd.to_datetime('2015-01-01')) & \n",
    "                         (sensorData['datetime'] < pd.to_datetime('2015-02-01')), ['datetime', 'pressure']]\n",
    "sns.set_style(\"darkgrid\")\n",
    "plt.figure(figsize=(16, 6))\n",
    "plt.plot(plt_df['datetime'], plt_df['pressure'], color = 'royalblue')\n",
    "plt.ylabel('Pressure')\n",
    "plt.xlabel('Date')\n",
    "plt.title('Pressure Data January 2015')\n",
    "mpl.rcParams['agg.path.chunksize'] = 10000"
   ]
  },
  {
   "cell_type": "code",
   "execution_count": 134,
   "metadata": {},
   "outputs": [
    {
     "data": {
      "text/plain": [
       "(876100, 6)"
      ]
     },
     "execution_count": 134,
     "metadata": {},
     "output_type": "execute_result"
    }
   ],
   "source": [
    "sensorData.shape"
   ]
  },
  {
   "cell_type": "markdown",
   "metadata": {},
   "source": [
    "Telemetry sensor data looks clean enough for the first pass, there are no missing values, the features have been converted to appropriate data types, and the dataframe has been reduced into three hour incremenets with averaged sensor data."
   ]
  },
  {
   "cell_type": "markdown",
   "metadata": {},
   "source": [
    "### Maintenance Data\n",
    "\n",
    "This csv contains components that were changed due to scheduled maintenance and failures. At the same time, the failures are logged in a separate dataset, which will likely be more pertinent to our model. After cleaning all the datasets we can compare the scheduled changes and failures to the failureData csv and check for duplication, completeness, etc."
   ]
  },
  {
   "cell_type": "code",
   "execution_count": 135,
   "metadata": {},
   "outputs": [
    {
     "name": "stdout",
     "output_type": "stream",
     "text": [
      "<class 'pandas.core.frame.DataFrame'>\n",
      "RangeIndex: 3286 entries, 0 to 3285\n",
      "Data columns (total 3 columns):\n",
      "datetime     3286 non-null datetime64[ns]\n",
      "machineID    3286 non-null int64\n",
      "comp         3286 non-null category\n",
      "dtypes: category(1), datetime64[ns](1), int64(1)\n",
      "memory usage: 54.8 KB\n"
     ]
    }
   ],
   "source": [
    "maintenanceData['datetime'] = pd.to_datetime(maintenanceData['datetime'], infer_datetime_format = True)\n",
    "maintenanceData['comp'] = maintenanceData['comp'].astype('category')\n",
    "maintenanceData.info()"
   ]
  },
  {
   "cell_type": "code",
   "execution_count": 136,
   "metadata": {},
   "outputs": [
    {
     "data": {
      "text/html": [
       "<div>\n",
       "<style scoped>\n",
       "    .dataframe tbody tr th:only-of-type {\n",
       "        vertical-align: middle;\n",
       "    }\n",
       "\n",
       "    .dataframe tbody tr th {\n",
       "        vertical-align: top;\n",
       "    }\n",
       "\n",
       "    .dataframe thead th {\n",
       "        text-align: right;\n",
       "    }\n",
       "</style>\n",
       "<table border=\"1\" class=\"dataframe\">\n",
       "  <thead>\n",
       "    <tr style=\"text-align: right;\">\n",
       "      <th></th>\n",
       "      <th>machineID</th>\n",
       "    </tr>\n",
       "  </thead>\n",
       "  <tbody>\n",
       "    <tr>\n",
       "      <th>count</th>\n",
       "      <td>3286.000000</td>\n",
       "    </tr>\n",
       "    <tr>\n",
       "      <th>mean</th>\n",
       "      <td>50.284236</td>\n",
       "    </tr>\n",
       "    <tr>\n",
       "      <th>std</th>\n",
       "      <td>28.914478</td>\n",
       "    </tr>\n",
       "    <tr>\n",
       "      <th>min</th>\n",
       "      <td>1.000000</td>\n",
       "    </tr>\n",
       "    <tr>\n",
       "      <th>25%</th>\n",
       "      <td>25.250000</td>\n",
       "    </tr>\n",
       "    <tr>\n",
       "      <th>50%</th>\n",
       "      <td>50.000000</td>\n",
       "    </tr>\n",
       "    <tr>\n",
       "      <th>75%</th>\n",
       "      <td>75.000000</td>\n",
       "    </tr>\n",
       "    <tr>\n",
       "      <th>max</th>\n",
       "      <td>100.000000</td>\n",
       "    </tr>\n",
       "  </tbody>\n",
       "</table>\n",
       "</div>"
      ],
      "text/plain": [
       "         machineID\n",
       "count  3286.000000\n",
       "mean     50.284236\n",
       "std      28.914478\n",
       "min       1.000000\n",
       "25%      25.250000\n",
       "50%      50.000000\n",
       "75%      75.000000\n",
       "max     100.000000"
      ]
     },
     "execution_count": 136,
     "metadata": {},
     "output_type": "execute_result"
    }
   ],
   "source": [
    "maintenanceData.describe()"
   ]
  },
  {
   "cell_type": "code",
   "execution_count": 137,
   "metadata": {},
   "outputs": [
    {
     "data": {
      "text/html": [
       "<div>\n",
       "<style scoped>\n",
       "    .dataframe tbody tr th:only-of-type {\n",
       "        vertical-align: middle;\n",
       "    }\n",
       "\n",
       "    .dataframe tbody tr th {\n",
       "        vertical-align: top;\n",
       "    }\n",
       "\n",
       "    .dataframe thead th {\n",
       "        text-align: right;\n",
       "    }\n",
       "</style>\n",
       "<table border=\"1\" class=\"dataframe\">\n",
       "  <thead>\n",
       "    <tr style=\"text-align: right;\">\n",
       "      <th></th>\n",
       "      <th>datetime</th>\n",
       "      <th>machineID</th>\n",
       "      <th>comp</th>\n",
       "    </tr>\n",
       "  </thead>\n",
       "  <tbody>\n",
       "    <tr>\n",
       "      <th>1193</th>\n",
       "      <td>2015-12-18 06:00:00</td>\n",
       "      <td>36</td>\n",
       "      <td>comp4</td>\n",
       "    </tr>\n",
       "    <tr>\n",
       "      <th>2234</th>\n",
       "      <td>2015-09-14 06:00:00</td>\n",
       "      <td>68</td>\n",
       "      <td>comp2</td>\n",
       "    </tr>\n",
       "    <tr>\n",
       "      <th>822</th>\n",
       "      <td>2014-06-01 06:00:00</td>\n",
       "      <td>26</td>\n",
       "      <td>comp2</td>\n",
       "    </tr>\n",
       "  </tbody>\n",
       "</table>\n",
       "</div>"
      ],
      "text/plain": [
       "                datetime  machineID   comp\n",
       "1193 2015-12-18 06:00:00         36  comp4\n",
       "2234 2015-09-14 06:00:00         68  comp2\n",
       "822  2014-06-01 06:00:00         26  comp2"
      ]
     },
     "execution_count": 137,
     "metadata": {},
     "output_type": "execute_result"
    }
   ],
   "source": [
    "maintenanceData.sample(3)"
   ]
  },
  {
   "cell_type": "code",
   "execution_count": 138,
   "metadata": {
    "scrolled": true
   },
   "outputs": [],
   "source": [
    "# change 'datetime' to_datetime :)\n",
    "\n",
    "# remove the begnning characters from 'comp' column and # change 'comp' to an integer\n",
    "#maintenanceData['comp'] = maintenanceData['comp'].str[4:].astype(int)\n",
    "#maintenanceData.info()"
   ]
  },
  {
   "cell_type": "code",
   "execution_count": 139,
   "metadata": {},
   "outputs": [
    {
     "data": {
      "text/plain": [
       "0"
      ]
     },
     "execution_count": 139,
     "metadata": {},
     "output_type": "execute_result"
    }
   ],
   "source": [
    "# check for duplicated rows by 'datetime' and 'machineID' to consolidate rows\n",
    "maintenanceData.duplicated(['datetime', 'machineID', 'comp']).sum()"
   ]
  },
  {
   "cell_type": "code",
   "execution_count": 140,
   "metadata": {},
   "outputs": [
    {
     "data": {
      "text/plain": [
       "2912"
      ]
     },
     "execution_count": 140,
     "metadata": {},
     "output_type": "execute_result"
    }
   ],
   "source": [
    "maintenanceData.drop_duplicates(subset=['datetime', 'machineID', 'comp'], inplace = True)\n",
    "sum(maintenanceData.duplicated('datetime'))"
   ]
  },
  {
   "cell_type": "code",
   "execution_count": 141,
   "metadata": {},
   "outputs": [],
   "source": [
    "#This first concatenates your dataframe and the output of the get_dummies call, then it \n",
    "#groups the result according to the relevant columns, takes the sum of those columns among \n",
    "#those groups and then resets the index so you don't have to deal with a multi-index data frame\n",
    "#maintenanceData = pd.concat([maintenanceData, pd.get_dummies(maintenanceData.comp)], 1).groupby(['datetime','machineID']).sum().reset_index()\n",
    "#maintenanceData.drop(['comp'], axis=1, inplace=True)"
   ]
  },
  {
   "cell_type": "code",
   "execution_count": 142,
   "metadata": {},
   "outputs": [
    {
     "data": {
      "text/plain": [
       "758"
      ]
     },
     "execution_count": 142,
     "metadata": {},
     "output_type": "execute_result"
    }
   ],
   "source": [
    "maintenanceData.duplicated(['datetime', 'machineID']).sum()"
   ]
  },
  {
   "cell_type": "code",
   "execution_count": 143,
   "metadata": {
    "scrolled": true
   },
   "outputs": [],
   "source": [
    "#maintenanceData.columns = ['datetime', 'machineID', 'mComp_1', 'mComp_2', 'mComp_3', 'mComp_4']\n",
    "#maintenanceData.sample(1)"
   ]
  },
  {
   "cell_type": "code",
   "execution_count": 144,
   "metadata": {},
   "outputs": [
    {
     "data": {
      "text/plain": [
       "Text(0,0.5,'Count')"
      ]
     },
     "execution_count": 144,
     "metadata": {},
     "output_type": "execute_result"
    },
    {
     "data": {
      "image/png": "[encoded data removed]",
      "text/plain": [
       "<Figure size 648x360 with 1 Axes>"
      ]
     },
     "metadata": {},
     "output_type": "display_data"
    }
   ],
   "source": [
    "sns.set_style(\"darkgrid\")\n",
    "plt.figure(figsize=(9, 5))\n",
    "maintenanceData['comp'].value_counts().reindex(index = ['comp1', 'comp2', 'comp3', 'comp4'], axis = 1).plot(kind = 'bar', color = 'royalblue').set_title('Component Usage')\n",
    "plt.ylabel('Count')"
   ]
  },
  {
   "cell_type": "markdown",
   "metadata": {},
   "source": [
    "### Origins Data\n",
    "\n",
    "The vintage of each machine should add valuable correlation to the frequency of scheduled and failure component repairs."
   ]
  },
  {
   "cell_type": "code",
   "execution_count": 145,
   "metadata": {},
   "outputs": [
    {
     "name": "stdout",
     "output_type": "stream",
     "text": [
      "<class 'pandas.core.frame.DataFrame'>\n",
      "RangeIndex: 100 entries, 0 to 99\n",
      "Data columns (total 3 columns):\n",
      "machineID    100 non-null int64\n",
      "model        100 non-null category\n",
      "age          100 non-null int64\n",
      "dtypes: category(1), int64(2)\n",
      "memory usage: 1.9 KB\n"
     ]
    }
   ],
   "source": [
    "originsData['model'] = originsData['model'].astype('category')\n",
    "originsData.info()"
   ]
  },
  {
   "cell_type": "code",
   "execution_count": 146,
   "metadata": {},
   "outputs": [],
   "source": [
    "# remove the begnning characters from 'model' column and change to integer data type\n",
    "#originsData['model'] = originsData['model'].str[5:].astype(int)"
   ]
  },
  {
   "cell_type": "code",
   "execution_count": 147,
   "metadata": {},
   "outputs": [
    {
     "data": {
      "text/plain": [
       "(100, 3)"
      ]
     },
     "execution_count": 147,
     "metadata": {},
     "output_type": "execute_result"
    }
   ],
   "source": [
    "originsData.shape"
   ]
  },
  {
   "cell_type": "code",
   "execution_count": 148,
   "metadata": {},
   "outputs": [
    {
     "data": {
      "text/plain": [
       "count    100.000000\n",
       "mean      11.330000\n",
       "std        5.856974\n",
       "min        0.000000\n",
       "25%        6.750000\n",
       "50%       12.000000\n",
       "75%       16.000000\n",
       "max       20.000000\n",
       "Name: age, dtype: float64"
      ]
     },
     "execution_count": 148,
     "metadata": {},
     "output_type": "execute_result"
    }
   ],
   "source": [
    "originsData['age'].describe()"
   ]
  },
  {
   "cell_type": "code",
   "execution_count": 149,
   "metadata": {},
   "outputs": [
    {
     "data": {
      "text/html": [
       "<div>\n",
       "<style scoped>\n",
       "    .dataframe tbody tr th:only-of-type {\n",
       "        vertical-align: middle;\n",
       "    }\n",
       "\n",
       "    .dataframe tbody tr th {\n",
       "        vertical-align: top;\n",
       "    }\n",
       "\n",
       "    .dataframe thead th {\n",
       "        text-align: right;\n",
       "    }\n",
       "</style>\n",
       "<table border=\"1\" class=\"dataframe\">\n",
       "  <thead>\n",
       "    <tr style=\"text-align: right;\">\n",
       "      <th></th>\n",
       "      <th>machineID</th>\n",
       "      <th>model</th>\n",
       "      <th>age</th>\n",
       "    </tr>\n",
       "  </thead>\n",
       "  <tbody>\n",
       "    <tr>\n",
       "      <th>62</th>\n",
       "      <td>63</td>\n",
       "      <td>model4</td>\n",
       "      <td>14</td>\n",
       "    </tr>\n",
       "    <tr>\n",
       "      <th>36</th>\n",
       "      <td>37</td>\n",
       "      <td>model1</td>\n",
       "      <td>16</td>\n",
       "    </tr>\n",
       "    <tr>\n",
       "      <th>7</th>\n",
       "      <td>8</td>\n",
       "      <td>model3</td>\n",
       "      <td>16</td>\n",
       "    </tr>\n",
       "    <tr>\n",
       "      <th>69</th>\n",
       "      <td>70</td>\n",
       "      <td>model3</td>\n",
       "      <td>9</td>\n",
       "    </tr>\n",
       "    <tr>\n",
       "      <th>91</th>\n",
       "      <td>92</td>\n",
       "      <td>model1</td>\n",
       "      <td>2</td>\n",
       "    </tr>\n",
       "  </tbody>\n",
       "</table>\n",
       "</div>"
      ],
      "text/plain": [
       "    machineID   model  age\n",
       "62         63  model4   14\n",
       "36         37  model1   16\n",
       "7           8  model3   16\n",
       "69         70  model3    9\n",
       "91         92  model1    2"
      ]
     },
     "execution_count": 149,
     "metadata": {},
     "output_type": "execute_result"
    }
   ],
   "source": [
    "originsData.sample(5)"
   ]
  },
  {
   "cell_type": "code",
   "execution_count": 150,
   "metadata": {},
   "outputs": [
    {
     "data": {
      "text/plain": [
       "Text(0,0.5,'Count')"
      ]
     },
     "execution_count": 150,
     "metadata": {},
     "output_type": "execute_result"
    },
    {
     "data": {
      "image/png": "[encoded data removed]",
      "text/plain": [
       "<Figure size 648x360 with 1 Axes>"
      ]
     },
     "metadata": {},
     "output_type": "display_data"
    }
   ],
   "source": [
    "# quantity of each model\n",
    "sns.set_style(\"darkgrid\")\n",
    "plt.figure(figsize=(9, 5))\n",
    "originsData.model.value_counts().sort_index().plot(kind = 'bar', color = 'royalblue').set_title('Machine Model Counts')\n",
    "plt.ylabel('Count')"
   ]
  },
  {
   "cell_type": "code",
   "execution_count": 151,
   "metadata": {},
   "outputs": [
    {
     "data": {
      "text/plain": [
       "Text(0,0.5,'Count')"
      ]
     },
     "execution_count": 151,
     "metadata": {},
     "output_type": "execute_result"
    },
    {
     "data": {
      "image/png": "[encoded data removed]",
      "text/plain": [
       "<Figure size 648x360 with 1 Axes>"
      ]
     },
     "metadata": {},
     "output_type": "display_data"
    }
   ],
   "source": [
    "# quantity of each year\n",
    "sns.set_style(\"darkgrid\")\n",
    "plt.figure(figsize=(9, 5))\n",
    "originsData.age.value_counts().sort_index().plot(kind = 'bar', color = 'royalblue').set_title('Machine Counts by Age in Years')\n",
    "plt.ylabel('Count')"
   ]
  },
  {
   "cell_type": "markdown",
   "metadata": {},
   "source": [
    "### Failure Data\n",
    "\n",
    "This will obviously contain critical features to predicting future failures."
   ]
  },
  {
   "cell_type": "code",
   "execution_count": 152,
   "metadata": {},
   "outputs": [
    {
     "name": "stdout",
     "output_type": "stream",
     "text": [
      "<class 'pandas.core.frame.DataFrame'>\n",
      "RangeIndex: 761 entries, 0 to 760\n",
      "Data columns (total 3 columns):\n",
      "datetime     761 non-null datetime64[ns]\n",
      "machineID    761 non-null int64\n",
      "failure      761 non-null category\n",
      "dtypes: category(1), datetime64[ns](1), int64(1)\n",
      "memory usage: 12.9 KB\n"
     ]
    }
   ],
   "source": [
    "failureData['datetime'] = pd.to_datetime(failureData['datetime'], infer_datetime_format = True)\n",
    "failureData['failure'] = failureData['failure'].astype('category')\n",
    "failureData.info()"
   ]
  },
  {
   "cell_type": "code",
   "execution_count": 153,
   "metadata": {},
   "outputs": [
    {
     "data": {
      "text/html": [
       "<div>\n",
       "<style scoped>\n",
       "    .dataframe tbody tr th:only-of-type {\n",
       "        vertical-align: middle;\n",
       "    }\n",
       "\n",
       "    .dataframe tbody tr th {\n",
       "        vertical-align: top;\n",
       "    }\n",
       "\n",
       "    .dataframe thead th {\n",
       "        text-align: right;\n",
       "    }\n",
       "</style>\n",
       "<table border=\"1\" class=\"dataframe\">\n",
       "  <thead>\n",
       "    <tr style=\"text-align: right;\">\n",
       "      <th></th>\n",
       "      <th>datetime</th>\n",
       "      <th>machineID</th>\n",
       "      <th>failure</th>\n",
       "    </tr>\n",
       "  </thead>\n",
       "  <tbody>\n",
       "    <tr>\n",
       "      <th>175</th>\n",
       "      <td>2015-11-18 06:00:00</td>\n",
       "      <td>22</td>\n",
       "      <td>comp4</td>\n",
       "    </tr>\n",
       "    <tr>\n",
       "      <th>184</th>\n",
       "      <td>2015-10-02 06:00:00</td>\n",
       "      <td>23</td>\n",
       "      <td>comp3</td>\n",
       "    </tr>\n",
       "    <tr>\n",
       "      <th>140</th>\n",
       "      <td>2015-03-20 06:00:00</td>\n",
       "      <td>20</td>\n",
       "      <td>comp2</td>\n",
       "    </tr>\n",
       "  </tbody>\n",
       "</table>\n",
       "</div>"
      ],
      "text/plain": [
       "               datetime  machineID failure\n",
       "175 2015-11-18 06:00:00         22   comp4\n",
       "184 2015-10-02 06:00:00         23   comp3\n",
       "140 2015-03-20 06:00:00         20   comp2"
      ]
     },
     "execution_count": 153,
     "metadata": {},
     "output_type": "execute_result"
    }
   ],
   "source": [
    "failureData.sample(3)"
   ]
  },
  {
   "cell_type": "code",
   "execution_count": 154,
   "metadata": {},
   "outputs": [
    {
     "data": {
      "text/plain": [
       "Text(0,0.5,'Count')"
      ]
     },
     "execution_count": 154,
     "metadata": {},
     "output_type": "execute_result"
    },
    {
     "data": {
      "image/png": "[encoded data removed]",
      "text/plain": [
       "<Figure size 648x360 with 1 Axes>"
      ]
     },
     "metadata": {},
     "output_type": "display_data"
    }
   ],
   "source": [
    "sns.set_style(\"darkgrid\")\n",
    "plt.figure(figsize=(9, 5))\n",
    "failureData.failure.value_counts().sort_index().plot(kind = 'bar', color = 'royalblue').set_title('Component Failure Counts')\n",
    "plt.ylabel('Count')"
   ]
  },
  {
   "cell_type": "markdown",
   "metadata": {},
   "source": [
    "### Error Data\n",
    "\n",
    "We're going to see if there is a correlation between the errors generated on the machines, and eventual component maintenance / failure."
   ]
  },
  {
   "cell_type": "code",
   "execution_count": 155,
   "metadata": {},
   "outputs": [
    {
     "name": "stdout",
     "output_type": "stream",
     "text": [
      "<class 'pandas.core.frame.DataFrame'>\n",
      "RangeIndex: 3919 entries, 0 to 3918\n",
      "Data columns (total 3 columns):\n",
      "datetime     3919 non-null datetime64[ns]\n",
      "machineID    3919 non-null int64\n",
      "errorID      3919 non-null category\n",
      "dtypes: category(1), datetime64[ns](1), int64(1)\n",
      "memory usage: 65.3 KB\n"
     ]
    }
   ],
   "source": [
    "errorData['datetime'] = pd.to_datetime(errorData['datetime'], infer_datetime_format = True)\n",
    "errorData['errorID'] = errorData['errorID'].astype('category')\n",
    "errorData.info()"
   ]
  },
  {
   "cell_type": "code",
   "execution_count": 156,
   "metadata": {},
   "outputs": [
    {
     "data": {
      "text/html": [
       "<div>\n",
       "<style scoped>\n",
       "    .dataframe tbody tr th:only-of-type {\n",
       "        vertical-align: middle;\n",
       "    }\n",
       "\n",
       "    .dataframe tbody tr th {\n",
       "        vertical-align: top;\n",
       "    }\n",
       "\n",
       "    .dataframe thead th {\n",
       "        text-align: right;\n",
       "    }\n",
       "</style>\n",
       "<table border=\"1\" class=\"dataframe\">\n",
       "  <thead>\n",
       "    <tr style=\"text-align: right;\">\n",
       "      <th></th>\n",
       "      <th>datetime</th>\n",
       "      <th>machineID</th>\n",
       "      <th>errorID</th>\n",
       "    </tr>\n",
       "  </thead>\n",
       "  <tbody>\n",
       "    <tr>\n",
       "      <th>2305</th>\n",
       "      <td>2015-06-25 23:00:00</td>\n",
       "      <td>60</td>\n",
       "      <td>error2</td>\n",
       "    </tr>\n",
       "    <tr>\n",
       "      <th>786</th>\n",
       "      <td>2015-04-08 08:00:00</td>\n",
       "      <td>21</td>\n",
       "      <td>error1</td>\n",
       "    </tr>\n",
       "    <tr>\n",
       "      <th>3381</th>\n",
       "      <td>2015-10-23 18:00:00</td>\n",
       "      <td>87</td>\n",
       "      <td>error2</td>\n",
       "    </tr>\n",
       "  </tbody>\n",
       "</table>\n",
       "</div>"
      ],
      "text/plain": [
       "                datetime  machineID errorID\n",
       "2305 2015-06-25 23:00:00         60  error2\n",
       "786  2015-04-08 08:00:00         21  error1\n",
       "3381 2015-10-23 18:00:00         87  error2"
      ]
     },
     "execution_count": 156,
     "metadata": {},
     "output_type": "execute_result"
    }
   ],
   "source": [
    "errorData.sample(3)"
   ]
  },
  {
   "cell_type": "code",
   "execution_count": 157,
   "metadata": {},
   "outputs": [
    {
     "data": {
      "text/plain": [
       "Text(0,0.5,'Count')"
      ]
     },
     "execution_count": 157,
     "metadata": {},
     "output_type": "execute_result"
    },
    {
     "data": {
      "image/png": "[encoded data removed]",
      "text/plain": [
       "<Figure size 576x288 with 1 Axes>"
      ]
     },
     "metadata": {},
     "output_type": "display_data"
    }
   ],
   "source": [
    "sns.set_style(\"darkgrid\")\n",
    "plt.figure(figsize=(8, 4))\n",
    "errorData['errorID'].value_counts().plot(kind='bar', color = 'royalblue')\n",
    "plt.ylabel('Count')"
   ]
  },
  {
   "cell_type": "markdown",
   "metadata": {},
   "source": [
    "### Feature Engineering, Merging, and more Cleaning"
   ]
  },
  {
   "cell_type": "markdown",
   "metadata": {},
   "source": [
    "#### Sensor Lag Windows\n",
    "In the following, a rolling lag window is create for the sensor data based on a three hour window per the requirements in 'TRAIN/SLIT'. In order to create a lag window, the data must be supplied with a time stampe. Generally, sensor data is which makes it suitable to create these windows. The lag window create a picture of a short period of time that we can view statistics on like mean, standard deviation, minimums, maximums, etc."
   ]
  },
  {
   "cell_type": "code",
   "execution_count": 158,
   "metadata": {},
   "outputs": [],
   "source": [
    "# means\n",
    "temp = [] \n",
    "features = ['volt', 'rotate', 'pressure', 'vibration']\n",
    "for column in features:\n",
    "    temp.append(pd.pivot_table(sensorData, index = 'datetime', columns = 'machineID', values = column)\n",
    "                .resample('3H', closed = 'left', how = 'mean', label = 'right').unstack())\n",
    "sensorData3H_mean = pd.concat(temp, axis = 1)\n",
    "sensorData3H_mean.columns = [n + '3H_mean' for n in features]\n",
    "sensorData3H_mean.reset_index(inplace = True)\n",
    "\n",
    "# standard deviations\n",
    "temp = [] \n",
    "features = ['volt', 'rotate', 'pressure', 'vibration']\n",
    "for column in features:\n",
    "    temp.append(pd.pivot_table(sensorData, index = 'datetime', columns = 'machineID', values = column)\n",
    "                .resample('3H', how = 'std', closed = 'left', label = 'right').unstack())\n",
    "sensorData3H_std = pd.concat(temp, axis = 1)\n",
    "sensorData3H_std.columns = [n + '3H_std' for n in features]\n",
    "sensorData3H_std.reset_index(inplace = True)"
   ]
  },
  {
   "cell_type": "code",
   "execution_count": 159,
   "metadata": {},
   "outputs": [
    {
     "data": {
      "text/html": [
       "<div>\n",
       "<style scoped>\n",
       "    .dataframe tbody tr th:only-of-type {\n",
       "        vertical-align: middle;\n",
       "    }\n",
       "\n",
       "    .dataframe tbody tr th {\n",
       "        vertical-align: top;\n",
       "    }\n",
       "\n",
       "    .dataframe thead th {\n",
       "        text-align: right;\n",
       "    }\n",
       "</style>\n",
       "<table border=\"1\" class=\"dataframe\">\n",
       "  <thead>\n",
       "    <tr style=\"text-align: right;\">\n",
       "      <th></th>\n",
       "      <th>machineID</th>\n",
       "      <th>datetime</th>\n",
       "      <th>volt3H_mean</th>\n",
       "      <th>rotate3H_mean</th>\n",
       "      <th>pressure3H_mean</th>\n",
       "      <th>vibration3H_mean</th>\n",
       "    </tr>\n",
       "  </thead>\n",
       "  <tbody>\n",
       "    <tr>\n",
       "      <th>0</th>\n",
       "      <td>1</td>\n",
       "      <td>2015-01-01 09:00:00</td>\n",
       "      <td>170.028993</td>\n",
       "      <td>449.533798</td>\n",
       "      <td>94.592122</td>\n",
       "      <td>40.893502</td>\n",
       "    </tr>\n",
       "    <tr>\n",
       "      <th>1</th>\n",
       "      <td>1</td>\n",
       "      <td>2015-01-01 12:00:00</td>\n",
       "      <td>164.192565</td>\n",
       "      <td>403.949857</td>\n",
       "      <td>105.687417</td>\n",
       "      <td>34.255891</td>\n",
       "    </tr>\n",
       "    <tr>\n",
       "      <th>2</th>\n",
       "      <td>1</td>\n",
       "      <td>2015-01-01 15:00:00</td>\n",
       "      <td>168.134445</td>\n",
       "      <td>435.781707</td>\n",
       "      <td>107.793709</td>\n",
       "      <td>41.239405</td>\n",
       "    </tr>\n",
       "  </tbody>\n",
       "</table>\n",
       "</div>"
      ],
      "text/plain": [
       "   machineID            datetime  volt3H_mean  rotate3H_mean  pressure3H_mean  \\\n",
       "0          1 2015-01-01 09:00:00   170.028993     449.533798        94.592122   \n",
       "1          1 2015-01-01 12:00:00   164.192565     403.949857       105.687417   \n",
       "2          1 2015-01-01 15:00:00   168.134445     435.781707       107.793709   \n",
       "\n",
       "   vibration3H_mean  \n",
       "0         40.893502  \n",
       "1         34.255891  \n",
       "2         41.239405  "
      ]
     },
     "execution_count": 159,
     "metadata": {},
     "output_type": "execute_result"
    }
   ],
   "source": [
    "sensorData3H_mean.head(3)"
   ]
  },
  {
   "cell_type": "code",
   "execution_count": 160,
   "metadata": {},
   "outputs": [
    {
     "data": {
      "text/html": [
       "<div>\n",
       "<style scoped>\n",
       "    .dataframe tbody tr th:only-of-type {\n",
       "        vertical-align: middle;\n",
       "    }\n",
       "\n",
       "    .dataframe tbody tr th {\n",
       "        vertical-align: top;\n",
       "    }\n",
       "\n",
       "    .dataframe thead th {\n",
       "        text-align: right;\n",
       "    }\n",
       "</style>\n",
       "<table border=\"1\" class=\"dataframe\">\n",
       "  <thead>\n",
       "    <tr style=\"text-align: right;\">\n",
       "      <th></th>\n",
       "      <th>machineID</th>\n",
       "      <th>datetime</th>\n",
       "      <th>volt3H_std</th>\n",
       "      <th>rotate3H_std</th>\n",
       "      <th>pressure3H_std</th>\n",
       "      <th>vibration3H_std</th>\n",
       "    </tr>\n",
       "  </thead>\n",
       "  <tbody>\n",
       "    <tr>\n",
       "      <th>0</th>\n",
       "      <td>1</td>\n",
       "      <td>2015-01-01 09:00:00</td>\n",
       "      <td>6.721032</td>\n",
       "      <td>67.849599</td>\n",
       "      <td>18.934956</td>\n",
       "      <td>5.874970</td>\n",
       "    </tr>\n",
       "    <tr>\n",
       "      <th>1</th>\n",
       "      <td>1</td>\n",
       "      <td>2015-01-01 12:00:00</td>\n",
       "      <td>7.596570</td>\n",
       "      <td>50.120452</td>\n",
       "      <td>8.555032</td>\n",
       "      <td>7.662229</td>\n",
       "    </tr>\n",
       "    <tr>\n",
       "      <th>2</th>\n",
       "      <td>1</td>\n",
       "      <td>2015-01-01 15:00:00</td>\n",
       "      <td>10.124584</td>\n",
       "      <td>55.084734</td>\n",
       "      <td>5.909721</td>\n",
       "      <td>5.169304</td>\n",
       "    </tr>\n",
       "  </tbody>\n",
       "</table>\n",
       "</div>"
      ],
      "text/plain": [
       "   machineID            datetime  volt3H_std  rotate3H_std  pressure3H_std  \\\n",
       "0          1 2015-01-01 09:00:00    6.721032     67.849599       18.934956   \n",
       "1          1 2015-01-01 12:00:00    7.596570     50.120452        8.555032   \n",
       "2          1 2015-01-01 15:00:00   10.124584     55.084734        5.909721   \n",
       "\n",
       "   vibration3H_std  \n",
       "0         5.874970  \n",
       "1         7.662229  \n",
       "2         5.169304  "
      ]
     },
     "execution_count": 160,
     "metadata": {},
     "output_type": "execute_result"
    }
   ],
   "source": [
    "sensorData3H_std.head(3)"
   ]
  },
  {
   "cell_type": "code",
   "execution_count": 161,
   "metadata": {},
   "outputs": [
    {
     "data": {
      "text/html": [
       "<div>\n",
       "<style scoped>\n",
       "    .dataframe tbody tr th:only-of-type {\n",
       "        vertical-align: middle;\n",
       "    }\n",
       "\n",
       "    .dataframe tbody tr th {\n",
       "        vertical-align: top;\n",
       "    }\n",
       "\n",
       "    .dataframe thead th {\n",
       "        text-align: right;\n",
       "    }\n",
       "</style>\n",
       "<table border=\"1\" class=\"dataframe\">\n",
       "  <thead>\n",
       "    <tr style=\"text-align: right;\">\n",
       "      <th></th>\n",
       "      <th>machineID</th>\n",
       "      <th>volt3H_mean</th>\n",
       "      <th>rotate3H_mean</th>\n",
       "      <th>pressure3H_mean</th>\n",
       "      <th>vibration3H_mean</th>\n",
       "      <th>volt3H_std</th>\n",
       "      <th>rotate3H_std</th>\n",
       "      <th>pressure3H_std</th>\n",
       "      <th>vibration3H_std</th>\n",
       "    </tr>\n",
       "  </thead>\n",
       "  <tbody>\n",
       "    <tr>\n",
       "      <th>count</th>\n",
       "      <td>292000.000000</td>\n",
       "      <td>292000.000000</td>\n",
       "      <td>292000.000000</td>\n",
       "      <td>292000.000000</td>\n",
       "      <td>292000.000000</td>\n",
       "      <td>292000.000000</td>\n",
       "      <td>292000.000000</td>\n",
       "      <td>292000.000000</td>\n",
       "      <td>292000.000000</td>\n",
       "    </tr>\n",
       "    <tr>\n",
       "      <th>mean</th>\n",
       "      <td>50.500000</td>\n",
       "      <td>170.777300</td>\n",
       "      <td>446.605807</td>\n",
       "      <td>100.858510</td>\n",
       "      <td>40.384920</td>\n",
       "      <td>13.299090</td>\n",
       "      <td>44.456338</td>\n",
       "      <td>8.885976</td>\n",
       "      <td>4.441164</td>\n",
       "    </tr>\n",
       "    <tr>\n",
       "      <th>std</th>\n",
       "      <td>28.866119</td>\n",
       "      <td>9.500846</td>\n",
       "      <td>33.130042</td>\n",
       "      <td>7.414517</td>\n",
       "      <td>3.478823</td>\n",
       "      <td>6.965914</td>\n",
       "      <td>23.216712</td>\n",
       "      <td>4.656211</td>\n",
       "      <td>2.320302</td>\n",
       "    </tr>\n",
       "    <tr>\n",
       "      <th>min</th>\n",
       "      <td>1.000000</td>\n",
       "      <td>125.532506</td>\n",
       "      <td>211.811184</td>\n",
       "      <td>72.118639</td>\n",
       "      <td>26.569635</td>\n",
       "      <td>0.025509</td>\n",
       "      <td>0.078991</td>\n",
       "      <td>0.027417</td>\n",
       "      <td>0.015278</td>\n",
       "    </tr>\n",
       "    <tr>\n",
       "      <th>25%</th>\n",
       "      <td>25.750000</td>\n",
       "      <td>164.449510</td>\n",
       "      <td>427.560977</td>\n",
       "      <td>96.238546</td>\n",
       "      <td>38.147765</td>\n",
       "      <td>8.027455</td>\n",
       "      <td>26.903705</td>\n",
       "      <td>5.370581</td>\n",
       "      <td>2.684790</td>\n",
       "    </tr>\n",
       "    <tr>\n",
       "      <th>50%</th>\n",
       "      <td>50.500000</td>\n",
       "      <td>170.434378</td>\n",
       "      <td>448.382261</td>\n",
       "      <td>100.234191</td>\n",
       "      <td>40.145837</td>\n",
       "      <td>12.495658</td>\n",
       "      <td>41.794719</td>\n",
       "      <td>8.346020</td>\n",
       "      <td>4.173955</td>\n",
       "    </tr>\n",
       "    <tr>\n",
       "      <th>75%</th>\n",
       "      <td>75.250000</td>\n",
       "      <td>176.611778</td>\n",
       "      <td>468.448505</td>\n",
       "      <td>104.406557</td>\n",
       "      <td>42.227559</td>\n",
       "      <td>17.688490</td>\n",
       "      <td>59.104130</td>\n",
       "      <td>11.790303</td>\n",
       "      <td>5.900106</td>\n",
       "    </tr>\n",
       "    <tr>\n",
       "      <th>max</th>\n",
       "      <td>100.000000</td>\n",
       "      <td>241.420717</td>\n",
       "      <td>586.682904</td>\n",
       "      <td>162.309656</td>\n",
       "      <td>69.311324</td>\n",
       "      <td>58.444332</td>\n",
       "      <td>179.903039</td>\n",
       "      <td>35.659369</td>\n",
       "      <td>18.305595</td>\n",
       "    </tr>\n",
       "  </tbody>\n",
       "</table>\n",
       "</div>"
      ],
      "text/plain": [
       "           machineID    volt3H_mean  rotate3H_mean  pressure3H_mean  \\\n",
       "count  292000.000000  292000.000000  292000.000000    292000.000000   \n",
       "mean       50.500000     170.777300     446.605807       100.858510   \n",
       "std        28.866119       9.500846      33.130042         7.414517   \n",
       "min         1.000000     125.532506     211.811184        72.118639   \n",
       "25%        25.750000     164.449510     427.560977        96.238546   \n",
       "50%        50.500000     170.434378     448.382261       100.234191   \n",
       "75%        75.250000     176.611778     468.448505       104.406557   \n",
       "max       100.000000     241.420717     586.682904       162.309656   \n",
       "\n",
       "       vibration3H_mean     volt3H_std   rotate3H_std  pressure3H_std  \\\n",
       "count     292000.000000  292000.000000  292000.000000   292000.000000   \n",
       "mean          40.384920      13.299090      44.456338        8.885976   \n",
       "std            3.478823       6.965914      23.216712        4.656211   \n",
       "min           26.569635       0.025509       0.078991        0.027417   \n",
       "25%           38.147765       8.027455      26.903705        5.370581   \n",
       "50%           40.145837      12.495658      41.794719        8.346020   \n",
       "75%           42.227559      17.688490      59.104130       11.790303   \n",
       "max           69.311324      58.444332     179.903039       35.659369   \n",
       "\n",
       "       vibration3H_std  \n",
       "count    292000.000000  \n",
       "mean          4.441164  \n",
       "std           2.320302  \n",
       "min           0.015278  \n",
       "25%           2.684790  \n",
       "50%           4.173955  \n",
       "75%           5.900106  \n",
       "max          18.305595  "
      ]
     },
     "execution_count": 161,
     "metadata": {},
     "output_type": "execute_result"
    }
   ],
   "source": [
    "# merge the new features into one df\n",
    "sensorFeatures = pd.merge(sensorData3H_mean, sensorData3H_std, on = ['datetime', 'machineID']).dropna()\n",
    "sensorFeatures.describe()"
   ]
  },
  {
   "cell_type": "code",
   "execution_count": 162,
   "metadata": {},
   "outputs": [
    {
     "data": {
      "text/html": [
       "<div>\n",
       "<style scoped>\n",
       "    .dataframe tbody tr th:only-of-type {\n",
       "        vertical-align: middle;\n",
       "    }\n",
       "\n",
       "    .dataframe tbody tr th {\n",
       "        vertical-align: top;\n",
       "    }\n",
       "\n",
       "    .dataframe thead th {\n",
       "        text-align: right;\n",
       "    }\n",
       "</style>\n",
       "<table border=\"1\" class=\"dataframe\">\n",
       "  <thead>\n",
       "    <tr style=\"text-align: right;\">\n",
       "      <th></th>\n",
       "      <th>machineID</th>\n",
       "      <th>datetime</th>\n",
       "      <th>volt3H_mean</th>\n",
       "      <th>rotate3H_mean</th>\n",
       "      <th>pressure3H_mean</th>\n",
       "      <th>vibration3H_mean</th>\n",
       "      <th>volt3H_std</th>\n",
       "      <th>rotate3H_std</th>\n",
       "      <th>pressure3H_std</th>\n",
       "      <th>vibration3H_std</th>\n",
       "    </tr>\n",
       "  </thead>\n",
       "  <tbody>\n",
       "    <tr>\n",
       "      <th>0</th>\n",
       "      <td>1</td>\n",
       "      <td>2015-01-01 09:00:00</td>\n",
       "      <td>170.028993</td>\n",
       "      <td>449.533798</td>\n",
       "      <td>94.592122</td>\n",
       "      <td>40.893502</td>\n",
       "      <td>6.721032</td>\n",
       "      <td>67.849599</td>\n",
       "      <td>18.934956</td>\n",
       "      <td>5.874970</td>\n",
       "    </tr>\n",
       "    <tr>\n",
       "      <th>1</th>\n",
       "      <td>1</td>\n",
       "      <td>2015-01-01 12:00:00</td>\n",
       "      <td>164.192565</td>\n",
       "      <td>403.949857</td>\n",
       "      <td>105.687417</td>\n",
       "      <td>34.255891</td>\n",
       "      <td>7.596570</td>\n",
       "      <td>50.120452</td>\n",
       "      <td>8.555032</td>\n",
       "      <td>7.662229</td>\n",
       "    </tr>\n",
       "    <tr>\n",
       "      <th>2</th>\n",
       "      <td>1</td>\n",
       "      <td>2015-01-01 15:00:00</td>\n",
       "      <td>168.134445</td>\n",
       "      <td>435.781707</td>\n",
       "      <td>107.793709</td>\n",
       "      <td>41.239405</td>\n",
       "      <td>10.124584</td>\n",
       "      <td>55.084734</td>\n",
       "      <td>5.909721</td>\n",
       "      <td>5.169304</td>\n",
       "    </tr>\n",
       "    <tr>\n",
       "      <th>3</th>\n",
       "      <td>1</td>\n",
       "      <td>2015-01-01 18:00:00</td>\n",
       "      <td>165.514453</td>\n",
       "      <td>430.472823</td>\n",
       "      <td>101.703289</td>\n",
       "      <td>40.373739</td>\n",
       "      <td>4.673269</td>\n",
       "      <td>42.047278</td>\n",
       "      <td>4.554047</td>\n",
       "      <td>2.106108</td>\n",
       "    </tr>\n",
       "    <tr>\n",
       "      <th>4</th>\n",
       "      <td>1</td>\n",
       "      <td>2015-01-01 21:00:00</td>\n",
       "      <td>168.809347</td>\n",
       "      <td>437.111120</td>\n",
       "      <td>90.911060</td>\n",
       "      <td>41.738542</td>\n",
       "      <td>14.752132</td>\n",
       "      <td>47.048609</td>\n",
       "      <td>4.244158</td>\n",
       "      <td>2.207884</td>\n",
       "    </tr>\n",
       "  </tbody>\n",
       "</table>\n",
       "</div>"
      ],
      "text/plain": [
       "   machineID            datetime  volt3H_mean  rotate3H_mean  pressure3H_mean  \\\n",
       "0          1 2015-01-01 09:00:00   170.028993     449.533798        94.592122   \n",
       "1          1 2015-01-01 12:00:00   164.192565     403.949857       105.687417   \n",
       "2          1 2015-01-01 15:00:00   168.134445     435.781707       107.793709   \n",
       "3          1 2015-01-01 18:00:00   165.514453     430.472823       101.703289   \n",
       "4          1 2015-01-01 21:00:00   168.809347     437.111120        90.911060   \n",
       "\n",
       "   vibration3H_mean  volt3H_std  rotate3H_std  pressure3H_std  vibration3H_std  \n",
       "0         40.893502    6.721032     67.849599       18.934956         5.874970  \n",
       "1         34.255891    7.596570     50.120452        8.555032         7.662229  \n",
       "2         41.239405   10.124584     55.084734        5.909721         5.169304  \n",
       "3         40.373739    4.673269     42.047278        4.554047         2.106108  \n",
       "4         41.738542   14.752132     47.048609        4.244158         2.207884  "
      ]
     },
     "execution_count": 162,
     "metadata": {},
     "output_type": "execute_result"
    }
   ],
   "source": [
    "sensorFeatures.head()"
   ]
  },
  {
   "cell_type": "markdown",
   "metadata": {},
   "source": [
    "#### Error Lag Window\n",
    "The errors data set also contains time stamps, so we can create a similar lag window for the errors. The notable difference is we want to sun the rows for each window as opposed to averaging."
   ]
  },
  {
   "cell_type": "code",
   "execution_count": 163,
   "metadata": {},
   "outputs": [
    {
     "data": {
      "text/html": [
       "<div>\n",
       "<style scoped>\n",
       "    .dataframe tbody tr th:only-of-type {\n",
       "        vertical-align: middle;\n",
       "    }\n",
       "\n",
       "    .dataframe tbody tr th {\n",
       "        vertical-align: top;\n",
       "    }\n",
       "\n",
       "    .dataframe thead th {\n",
       "        text-align: right;\n",
       "    }\n",
       "</style>\n",
       "<table border=\"1\" class=\"dataframe\">\n",
       "  <thead>\n",
       "    <tr style=\"text-align: right;\">\n",
       "      <th></th>\n",
       "      <th>machineID</th>\n",
       "      <th>error_1</th>\n",
       "      <th>error_2</th>\n",
       "      <th>error_3</th>\n",
       "      <th>error_4</th>\n",
       "      <th>error_5</th>\n",
       "    </tr>\n",
       "  </thead>\n",
       "  <tbody>\n",
       "    <tr>\n",
       "      <th>count</th>\n",
       "      <td>876100.000000</td>\n",
       "      <td>876100.000000</td>\n",
       "      <td>876100.000000</td>\n",
       "      <td>876100.000000</td>\n",
       "      <td>876100.000000</td>\n",
       "      <td>876100.000000</td>\n",
       "    </tr>\n",
       "    <tr>\n",
       "      <th>mean</th>\n",
       "      <td>50.500000</td>\n",
       "      <td>0.001153</td>\n",
       "      <td>0.001128</td>\n",
       "      <td>0.000957</td>\n",
       "      <td>0.000830</td>\n",
       "      <td>0.000406</td>\n",
       "    </tr>\n",
       "    <tr>\n",
       "      <th>std</th>\n",
       "      <td>28.866087</td>\n",
       "      <td>0.033934</td>\n",
       "      <td>0.033563</td>\n",
       "      <td>0.030913</td>\n",
       "      <td>0.028795</td>\n",
       "      <td>0.020154</td>\n",
       "    </tr>\n",
       "    <tr>\n",
       "      <th>min</th>\n",
       "      <td>1.000000</td>\n",
       "      <td>0.000000</td>\n",
       "      <td>0.000000</td>\n",
       "      <td>0.000000</td>\n",
       "      <td>0.000000</td>\n",
       "      <td>0.000000</td>\n",
       "    </tr>\n",
       "    <tr>\n",
       "      <th>25%</th>\n",
       "      <td>25.750000</td>\n",
       "      <td>0.000000</td>\n",
       "      <td>0.000000</td>\n",
       "      <td>0.000000</td>\n",
       "      <td>0.000000</td>\n",
       "      <td>0.000000</td>\n",
       "    </tr>\n",
       "    <tr>\n",
       "      <th>50%</th>\n",
       "      <td>50.500000</td>\n",
       "      <td>0.000000</td>\n",
       "      <td>0.000000</td>\n",
       "      <td>0.000000</td>\n",
       "      <td>0.000000</td>\n",
       "      <td>0.000000</td>\n",
       "    </tr>\n",
       "    <tr>\n",
       "      <th>75%</th>\n",
       "      <td>75.250000</td>\n",
       "      <td>0.000000</td>\n",
       "      <td>0.000000</td>\n",
       "      <td>0.000000</td>\n",
       "      <td>0.000000</td>\n",
       "      <td>0.000000</td>\n",
       "    </tr>\n",
       "    <tr>\n",
       "      <th>max</th>\n",
       "      <td>100.000000</td>\n",
       "      <td>1.000000</td>\n",
       "      <td>1.000000</td>\n",
       "      <td>1.000000</td>\n",
       "      <td>1.000000</td>\n",
       "      <td>1.000000</td>\n",
       "    </tr>\n",
       "  </tbody>\n",
       "</table>\n",
       "</div>"
      ],
      "text/plain": [
       "           machineID        error_1        error_2        error_3  \\\n",
       "count  876100.000000  876100.000000  876100.000000  876100.000000   \n",
       "mean       50.500000       0.001153       0.001128       0.000957   \n",
       "std        28.866087       0.033934       0.033563       0.030913   \n",
       "min         1.000000       0.000000       0.000000       0.000000   \n",
       "25%        25.750000       0.000000       0.000000       0.000000   \n",
       "50%        50.500000       0.000000       0.000000       0.000000   \n",
       "75%        75.250000       0.000000       0.000000       0.000000   \n",
       "max       100.000000       1.000000       1.000000       1.000000   \n",
       "\n",
       "             error_4        error_5  \n",
       "count  876100.000000  876100.000000  \n",
       "mean        0.000830       0.000406  \n",
       "std         0.028795       0.020154  \n",
       "min         0.000000       0.000000  \n",
       "25%         0.000000       0.000000  \n",
       "50%         0.000000       0.000000  \n",
       "75%         0.000000       0.000000  \n",
       "max         1.000000       1.000000  "
      ]
     },
     "execution_count": 163,
     "metadata": {},
     "output_type": "execute_result"
    }
   ],
   "source": [
    "#This first concatenates your dataframe and the output of the get_dummies call, then it \n",
    "#groups the result according to the relevant columns, takes the sum of those columns among \n",
    "#those groups and then resets the index so you don't have to deal with a multi-index data frame\n",
    "errorFeatures = pd.concat([errorData, pd.get_dummies(errorData.errorID)], 1).groupby(['machineID', 'datetime']).sum().reset_index()\n",
    "# rename the columns\n",
    "errorFeatures.columns = ['machineID', 'datetime', 'error_1', 'error_2', 'error_3', 'error_4', 'error_5']\n",
    "errorFeatures = errorFeatures.groupby(['machineID', 'datetime']).sum().reset_index()\n",
    "# create time slots matching 'sensorData', which is the most complete, and fill empty cells with 0.\n",
    "errorFeatures = sensorData[['datetime', 'machineID']].merge(errorFeatures, on=['machineID', 'datetime'], how='left').fillna(0.0)\n",
    "errorFeatures.describe()"
   ]
  },
  {
   "cell_type": "code",
   "execution_count": 164,
   "metadata": {
    "scrolled": true
   },
   "outputs": [
    {
     "data": {
      "text/html": [
       "<div>\n",
       "<style scoped>\n",
       "    .dataframe tbody tr th:only-of-type {\n",
       "        vertical-align: middle;\n",
       "    }\n",
       "\n",
       "    .dataframe tbody tr th {\n",
       "        vertical-align: top;\n",
       "    }\n",
       "\n",
       "    .dataframe thead th {\n",
       "        text-align: right;\n",
       "    }\n",
       "</style>\n",
       "<table border=\"1\" class=\"dataframe\">\n",
       "  <thead>\n",
       "    <tr style=\"text-align: right;\">\n",
       "      <th></th>\n",
       "      <th>datetime</th>\n",
       "      <th>machineID</th>\n",
       "      <th>error_1</th>\n",
       "      <th>error_2</th>\n",
       "      <th>error_3</th>\n",
       "      <th>error_4</th>\n",
       "      <th>error_5</th>\n",
       "    </tr>\n",
       "  </thead>\n",
       "  <tbody>\n",
       "    <tr>\n",
       "      <th>0</th>\n",
       "      <td>2015-01-01 06:00:00</td>\n",
       "      <td>1</td>\n",
       "      <td>0.0</td>\n",
       "      <td>0.0</td>\n",
       "      <td>0.0</td>\n",
       "      <td>0.0</td>\n",
       "      <td>0.0</td>\n",
       "    </tr>\n",
       "    <tr>\n",
       "      <th>1</th>\n",
       "      <td>2015-01-01 07:00:00</td>\n",
       "      <td>1</td>\n",
       "      <td>0.0</td>\n",
       "      <td>0.0</td>\n",
       "      <td>0.0</td>\n",
       "      <td>0.0</td>\n",
       "      <td>0.0</td>\n",
       "    </tr>\n",
       "    <tr>\n",
       "      <th>2</th>\n",
       "      <td>2015-01-01 08:00:00</td>\n",
       "      <td>1</td>\n",
       "      <td>0.0</td>\n",
       "      <td>0.0</td>\n",
       "      <td>0.0</td>\n",
       "      <td>0.0</td>\n",
       "      <td>0.0</td>\n",
       "    </tr>\n",
       "    <tr>\n",
       "      <th>3</th>\n",
       "      <td>2015-01-01 09:00:00</td>\n",
       "      <td>1</td>\n",
       "      <td>0.0</td>\n",
       "      <td>0.0</td>\n",
       "      <td>0.0</td>\n",
       "      <td>0.0</td>\n",
       "      <td>0.0</td>\n",
       "    </tr>\n",
       "    <tr>\n",
       "      <th>4</th>\n",
       "      <td>2015-01-01 10:00:00</td>\n",
       "      <td>1</td>\n",
       "      <td>0.0</td>\n",
       "      <td>0.0</td>\n",
       "      <td>0.0</td>\n",
       "      <td>0.0</td>\n",
       "      <td>0.0</td>\n",
       "    </tr>\n",
       "  </tbody>\n",
       "</table>\n",
       "</div>"
      ],
      "text/plain": [
       "             datetime  machineID  error_1  error_2  error_3  error_4  error_5\n",
       "0 2015-01-01 06:00:00          1      0.0      0.0      0.0      0.0      0.0\n",
       "1 2015-01-01 07:00:00          1      0.0      0.0      0.0      0.0      0.0\n",
       "2 2015-01-01 08:00:00          1      0.0      0.0      0.0      0.0      0.0\n",
       "3 2015-01-01 09:00:00          1      0.0      0.0      0.0      0.0      0.0\n",
       "4 2015-01-01 10:00:00          1      0.0      0.0      0.0      0.0      0.0"
      ]
     },
     "execution_count": 164,
     "metadata": {},
     "output_type": "execute_result"
    }
   ],
   "source": [
    "errorFeatures.head()"
   ]
  },
  {
   "cell_type": "code",
   "execution_count": 165,
   "metadata": {},
   "outputs": [
    {
     "data": {
      "text/html": [
       "<div>\n",
       "<style scoped>\n",
       "    .dataframe tbody tr th:only-of-type {\n",
       "        vertical-align: middle;\n",
       "    }\n",
       "\n",
       "    .dataframe tbody tr th {\n",
       "        vertical-align: top;\n",
       "    }\n",
       "\n",
       "    .dataframe thead th {\n",
       "        text-align: right;\n",
       "    }\n",
       "</style>\n",
       "<table border=\"1\" class=\"dataframe\">\n",
       "  <thead>\n",
       "    <tr style=\"text-align: right;\">\n",
       "      <th></th>\n",
       "      <th>machineID</th>\n",
       "      <th>error_1_count</th>\n",
       "      <th>error_2_count</th>\n",
       "      <th>error_3_count</th>\n",
       "      <th>error_4_count</th>\n",
       "      <th>error_5_count</th>\n",
       "    </tr>\n",
       "  </thead>\n",
       "  <tbody>\n",
       "    <tr>\n",
       "      <th>count</th>\n",
       "      <td>291400.00000</td>\n",
       "      <td>291400.000000</td>\n",
       "      <td>291400.000000</td>\n",
       "      <td>291400.000000</td>\n",
       "      <td>291400.000000</td>\n",
       "      <td>291400.000000</td>\n",
       "    </tr>\n",
       "    <tr>\n",
       "      <th>mean</th>\n",
       "      <td>50.50000</td>\n",
       "      <td>0.027649</td>\n",
       "      <td>0.027069</td>\n",
       "      <td>0.022907</td>\n",
       "      <td>0.019904</td>\n",
       "      <td>0.009753</td>\n",
       "    </tr>\n",
       "    <tr>\n",
       "      <th>std</th>\n",
       "      <td>28.86612</td>\n",
       "      <td>0.166273</td>\n",
       "      <td>0.164429</td>\n",
       "      <td>0.151453</td>\n",
       "      <td>0.140820</td>\n",
       "      <td>0.098797</td>\n",
       "    </tr>\n",
       "    <tr>\n",
       "      <th>min</th>\n",
       "      <td>1.00000</td>\n",
       "      <td>0.000000</td>\n",
       "      <td>0.000000</td>\n",
       "      <td>0.000000</td>\n",
       "      <td>0.000000</td>\n",
       "      <td>0.000000</td>\n",
       "    </tr>\n",
       "    <tr>\n",
       "      <th>25%</th>\n",
       "      <td>25.75000</td>\n",
       "      <td>0.000000</td>\n",
       "      <td>0.000000</td>\n",
       "      <td>0.000000</td>\n",
       "      <td>0.000000</td>\n",
       "      <td>0.000000</td>\n",
       "    </tr>\n",
       "    <tr>\n",
       "      <th>50%</th>\n",
       "      <td>50.50000</td>\n",
       "      <td>0.000000</td>\n",
       "      <td>0.000000</td>\n",
       "      <td>0.000000</td>\n",
       "      <td>0.000000</td>\n",
       "      <td>0.000000</td>\n",
       "    </tr>\n",
       "    <tr>\n",
       "      <th>75%</th>\n",
       "      <td>75.25000</td>\n",
       "      <td>0.000000</td>\n",
       "      <td>0.000000</td>\n",
       "      <td>0.000000</td>\n",
       "      <td>0.000000</td>\n",
       "      <td>0.000000</td>\n",
       "    </tr>\n",
       "    <tr>\n",
       "      <th>max</th>\n",
       "      <td>100.00000</td>\n",
       "      <td>2.000000</td>\n",
       "      <td>2.000000</td>\n",
       "      <td>2.000000</td>\n",
       "      <td>2.000000</td>\n",
       "      <td>2.000000</td>\n",
       "    </tr>\n",
       "  </tbody>\n",
       "</table>\n",
       "</div>"
      ],
      "text/plain": [
       "          machineID  error_1_count  error_2_count  error_3_count  \\\n",
       "count  291400.00000  291400.000000  291400.000000  291400.000000   \n",
       "mean       50.50000       0.027649       0.027069       0.022907   \n",
       "std        28.86612       0.166273       0.164429       0.151453   \n",
       "min         1.00000       0.000000       0.000000       0.000000   \n",
       "25%        25.75000       0.000000       0.000000       0.000000   \n",
       "50%        50.50000       0.000000       0.000000       0.000000   \n",
       "75%        75.25000       0.000000       0.000000       0.000000   \n",
       "max       100.00000       2.000000       2.000000       2.000000   \n",
       "\n",
       "       error_4_count  error_5_count  \n",
       "count  291400.000000  291400.000000  \n",
       "mean        0.019904       0.009753  \n",
       "std         0.140820       0.098797  \n",
       "min         0.000000       0.000000  \n",
       "25%         0.000000       0.000000  \n",
       "50%         0.000000       0.000000  \n",
       "75%         0.000000       0.000000  \n",
       "max         2.000000       2.000000  "
      ]
     },
     "execution_count": 165,
     "metadata": {},
     "output_type": "execute_result"
    }
   ],
   "source": [
    "temp = []\n",
    "features = ['error_%d' % i for i in range(1,6)]\n",
    "for column in features:\n",
    "    temp.append(pd.pivot_table(errorFeatures, index='datetime', \n",
    "                               columns='machineID', values=column).rolling(window = 24, \n",
    "                                                                       center = False).sum().resample('3H', \n",
    "                                                                                                      closed='left', \n",
    "                                                                                                      label='right', \n",
    "                                                                                                      how='first').unstack())\n",
    "    # create time slots matching 'sensorData', which is the most complete, and fill empty cells with 0.\n",
    "errorFeatures = sensorData[['datetime', 'machineID']].merge(errorFeatures, on=['machineID', 'datetime'], how='left').fillna(0.0)\n",
    "errorFeatures = pd.concat(temp, axis = 1)\n",
    "errorFeatures.columns = [n + '_count' for n in features]\n",
    "errorFeatures.reset_index(inplace = True)\n",
    "errorFeatures = errorFeatures.dropna()\n",
    "errorFeatures.describe()"
   ]
  },
  {
   "cell_type": "code",
   "execution_count": 166,
   "metadata": {},
   "outputs": [
    {
     "data": {
      "text/html": [
       "<div>\n",
       "<style scoped>\n",
       "    .dataframe tbody tr th:only-of-type {\n",
       "        vertical-align: middle;\n",
       "    }\n",
       "\n",
       "    .dataframe tbody tr th {\n",
       "        vertical-align: top;\n",
       "    }\n",
       "\n",
       "    .dataframe thead th {\n",
       "        text-align: right;\n",
       "    }\n",
       "</style>\n",
       "<table border=\"1\" class=\"dataframe\">\n",
       "  <thead>\n",
       "    <tr style=\"text-align: right;\">\n",
       "      <th></th>\n",
       "      <th>machineID</th>\n",
       "      <th>datetime</th>\n",
       "      <th>error_1_count</th>\n",
       "      <th>error_2_count</th>\n",
       "      <th>error_3_count</th>\n",
       "      <th>error_4_count</th>\n",
       "      <th>error_5_count</th>\n",
       "    </tr>\n",
       "  </thead>\n",
       "  <tbody>\n",
       "    <tr>\n",
       "      <th>7</th>\n",
       "      <td>1</td>\n",
       "      <td>2015-01-02 06:00:00</td>\n",
       "      <td>0.0</td>\n",
       "      <td>0.0</td>\n",
       "      <td>0.0</td>\n",
       "      <td>0.0</td>\n",
       "      <td>0.0</td>\n",
       "    </tr>\n",
       "    <tr>\n",
       "      <th>8</th>\n",
       "      <td>1</td>\n",
       "      <td>2015-01-02 09:00:00</td>\n",
       "      <td>0.0</td>\n",
       "      <td>0.0</td>\n",
       "      <td>0.0</td>\n",
       "      <td>0.0</td>\n",
       "      <td>0.0</td>\n",
       "    </tr>\n",
       "    <tr>\n",
       "      <th>9</th>\n",
       "      <td>1</td>\n",
       "      <td>2015-01-02 12:00:00</td>\n",
       "      <td>0.0</td>\n",
       "      <td>0.0</td>\n",
       "      <td>0.0</td>\n",
       "      <td>0.0</td>\n",
       "      <td>0.0</td>\n",
       "    </tr>\n",
       "    <tr>\n",
       "      <th>10</th>\n",
       "      <td>1</td>\n",
       "      <td>2015-01-02 15:00:00</td>\n",
       "      <td>0.0</td>\n",
       "      <td>0.0</td>\n",
       "      <td>0.0</td>\n",
       "      <td>0.0</td>\n",
       "      <td>0.0</td>\n",
       "    </tr>\n",
       "    <tr>\n",
       "      <th>11</th>\n",
       "      <td>1</td>\n",
       "      <td>2015-01-02 18:00:00</td>\n",
       "      <td>0.0</td>\n",
       "      <td>0.0</td>\n",
       "      <td>0.0</td>\n",
       "      <td>0.0</td>\n",
       "      <td>0.0</td>\n",
       "    </tr>\n",
       "  </tbody>\n",
       "</table>\n",
       "</div>"
      ],
      "text/plain": [
       "    machineID            datetime  error_1_count  error_2_count  \\\n",
       "7           1 2015-01-02 06:00:00            0.0            0.0   \n",
       "8           1 2015-01-02 09:00:00            0.0            0.0   \n",
       "9           1 2015-01-02 12:00:00            0.0            0.0   \n",
       "10          1 2015-01-02 15:00:00            0.0            0.0   \n",
       "11          1 2015-01-02 18:00:00            0.0            0.0   \n",
       "\n",
       "    error_3_count  error_4_count  error_5_count  \n",
       "7             0.0            0.0            0.0  \n",
       "8             0.0            0.0            0.0  \n",
       "9             0.0            0.0            0.0  \n",
       "10            0.0            0.0            0.0  \n",
       "11            0.0            0.0            0.0  "
      ]
     },
     "execution_count": 166,
     "metadata": {},
     "output_type": "execute_result"
    }
   ],
   "source": [
    "errorFeatures.head(5)"
   ]
  },
  {
   "cell_type": "markdown",
   "metadata": {},
   "source": [
    "#### Running 'Days Since Replacement'\n",
    "The maintenance data set in this problem should possess critical informaiton towards predicting component failures. You could dervice a lot of different information from this dataset, such as the quanity of replacements made for any give part over a period of time. Considering we're trying to predict a future failure though, a feature that tracked how long it's been since maintenance was last performed on that component would likely be more valuable."
   ]
  },
  {
   "cell_type": "code",
   "execution_count": 167,
   "metadata": {},
   "outputs": [
    {
     "data": {
      "text/html": [
       "<div>\n",
       "<style scoped>\n",
       "    .dataframe tbody tr th:only-of-type {\n",
       "        vertical-align: middle;\n",
       "    }\n",
       "\n",
       "    .dataframe tbody tr th {\n",
       "        vertical-align: top;\n",
       "    }\n",
       "\n",
       "    .dataframe thead th {\n",
       "        text-align: right;\n",
       "    }\n",
       "</style>\n",
       "<table border=\"1\" class=\"dataframe\">\n",
       "  <thead>\n",
       "    <tr style=\"text-align: right;\">\n",
       "      <th></th>\n",
       "      <th>machineID</th>\n",
       "      <th>comp_1</th>\n",
       "      <th>comp_2</th>\n",
       "      <th>comp_3</th>\n",
       "      <th>comp_4</th>\n",
       "    </tr>\n",
       "  </thead>\n",
       "  <tbody>\n",
       "    <tr>\n",
       "      <th>count</th>\n",
       "      <td>876100.000000</td>\n",
       "      <td>876100.000000</td>\n",
       "      <td>876100.000000</td>\n",
       "      <td>876100.000000</td>\n",
       "      <td>876100.000000</td>\n",
       "    </tr>\n",
       "    <tr>\n",
       "      <th>mean</th>\n",
       "      <td>50.500000</td>\n",
       "      <td>53.525185</td>\n",
       "      <td>51.540806</td>\n",
       "      <td>52.725962</td>\n",
       "      <td>53.834191</td>\n",
       "    </tr>\n",
       "    <tr>\n",
       "      <th>std</th>\n",
       "      <td>28.866087</td>\n",
       "      <td>62.491679</td>\n",
       "      <td>59.269254</td>\n",
       "      <td>58.873114</td>\n",
       "      <td>59.707978</td>\n",
       "    </tr>\n",
       "    <tr>\n",
       "      <th>min</th>\n",
       "      <td>1.000000</td>\n",
       "      <td>0.000000</td>\n",
       "      <td>0.000000</td>\n",
       "      <td>0.000000</td>\n",
       "      <td>0.000000</td>\n",
       "    </tr>\n",
       "    <tr>\n",
       "      <th>25%</th>\n",
       "      <td>25.750000</td>\n",
       "      <td>13.291667</td>\n",
       "      <td>12.125000</td>\n",
       "      <td>13.125000</td>\n",
       "      <td>13.000000</td>\n",
       "    </tr>\n",
       "    <tr>\n",
       "      <th>50%</th>\n",
       "      <td>50.500000</td>\n",
       "      <td>32.791667</td>\n",
       "      <td>29.666667</td>\n",
       "      <td>32.291667</td>\n",
       "      <td>32.500000</td>\n",
       "    </tr>\n",
       "    <tr>\n",
       "      <th>75%</th>\n",
       "      <td>75.250000</td>\n",
       "      <td>68.708333</td>\n",
       "      <td>66.541667</td>\n",
       "      <td>67.333333</td>\n",
       "      <td>70.458333</td>\n",
       "    </tr>\n",
       "    <tr>\n",
       "      <th>max</th>\n",
       "      <td>100.000000</td>\n",
       "      <td>491.958333</td>\n",
       "      <td>348.958333</td>\n",
       "      <td>370.958333</td>\n",
       "      <td>394.958333</td>\n",
       "    </tr>\n",
       "  </tbody>\n",
       "</table>\n",
       "</div>"
      ],
      "text/plain": [
       "           machineID         comp_1         comp_2         comp_3  \\\n",
       "count  876100.000000  876100.000000  876100.000000  876100.000000   \n",
       "mean       50.500000      53.525185      51.540806      52.725962   \n",
       "std        28.866087      62.491679      59.269254      58.873114   \n",
       "min         1.000000       0.000000       0.000000       0.000000   \n",
       "25%        25.750000      13.291667      12.125000      13.125000   \n",
       "50%        50.500000      32.791667      29.666667      32.291667   \n",
       "75%        75.250000      68.708333      66.541667      67.333333   \n",
       "max       100.000000     491.958333     348.958333     370.958333   \n",
       "\n",
       "              comp_4  \n",
       "count  876100.000000  \n",
       "mean       53.834191  \n",
       "std        59.707978  \n",
       "min         0.000000  \n",
       "25%        13.000000  \n",
       "50%        32.500000  \n",
       "75%        70.458333  \n",
       "max       394.958333  "
      ]
     },
     "execution_count": 167,
     "metadata": {},
     "output_type": "execute_result"
    }
   ],
   "source": [
    "# create a column for each error type\n",
    "compFeatures = pd.get_dummies(maintenanceData.set_index('datetime')).reset_index()\n",
    "compFeatures.columns = ['datetime', 'machineID', 'comp_1', 'comp_2', 'comp_3', 'comp_4']\n",
    "\n",
    "# combine repairs for a given machine in a given hour\n",
    "compFeatures = compFeatures.groupby(['machineID', 'datetime']).sum().reset_index()\n",
    "\n",
    "# add timepoints where no components were replaced\n",
    "compFeatures = sensorData[['datetime', 'machineID']].merge(compFeatures,\n",
    "                                                      on=['datetime', 'machineID'],\n",
    "                                                      how='outer').fillna(0).sort_values(by=['machineID', 'datetime'])\n",
    "\n",
    "components = ['comp_1', 'comp_2', 'comp_3', 'comp_4']\n",
    "for comp in components:\n",
    "    # convert indicator to most recent date of component change\n",
    "    compFeatures.loc[compFeatures[comp] < 1, comp] = None\n",
    "    compFeatures.loc[-compFeatures[comp].isnull(), comp] = compFeatures.loc[-compFeatures[comp].isnull(), 'datetime']\n",
    "   \n",
    "    # forward-fill the most-recent date of component change\n",
    "    compFeatures[comp] = compFeatures[comp].fillna(method='ffill')\n",
    "\n",
    "# remove dates in 2014 (may have NaN or future component change dates)    \n",
    "compFeatures = compFeatures.loc[compFeatures['datetime'] > pd.to_datetime('2015-01-01')]\n",
    "# convert 'datetime' column from np to standard? not having this line was a huge problem\n",
    "compFeatures['datetime'] = pd.to_datetime(compFeatures['datetime'], infer_datetime_format = True)\n",
    "# replace dates of most recent component change with days since most recent component change\n",
    "for comp in components:\n",
    "    compFeatures[comp] = pd.to_datetime(compFeatures[comp], infer_datetime_format = True)\n",
    "    compFeatures[comp] = (compFeatures['datetime'] - compFeatures[comp]) / np.timedelta64(1, 'D')\n",
    "\n",
    "\n",
    "compFeatures.describe()\n",
    "#compFeatures = pd.read_csv('compFeatures')"
   ]
  },
  {
   "cell_type": "code",
   "execution_count": 170,
   "metadata": {},
   "outputs": [
    {
     "data": {
      "text/html": [
       "<div>\n",
       "<style scoped>\n",
       "    .dataframe tbody tr th:only-of-type {\n",
       "        vertical-align: middle;\n",
       "    }\n",
       "\n",
       "    .dataframe tbody tr th {\n",
       "        vertical-align: top;\n",
       "    }\n",
       "\n",
       "    .dataframe thead th {\n",
       "        text-align: right;\n",
       "    }\n",
       "</style>\n",
       "<table border=\"1\" class=\"dataframe\">\n",
       "  <thead>\n",
       "    <tr style=\"text-align: right;\">\n",
       "      <th></th>\n",
       "      <th>datetime</th>\n",
       "      <th>machineID</th>\n",
       "      <th>comp_1_daySince</th>\n",
       "      <th>comp_2_daySince</th>\n",
       "      <th>Comp_3_daySince</th>\n",
       "      <th>comp_4_daySince</th>\n",
       "    </tr>\n",
       "  </thead>\n",
       "  <tbody>\n",
       "    <tr>\n",
       "      <th>0</th>\n",
       "      <td>2015-01-01 06:00:00</td>\n",
       "      <td>1</td>\n",
       "      <td>19.000000</td>\n",
       "      <td>214.000000</td>\n",
       "      <td>154.000000</td>\n",
       "      <td>169.000000</td>\n",
       "    </tr>\n",
       "    <tr>\n",
       "      <th>1</th>\n",
       "      <td>2015-01-01 07:00:00</td>\n",
       "      <td>1</td>\n",
       "      <td>19.041667</td>\n",
       "      <td>214.041667</td>\n",
       "      <td>154.041667</td>\n",
       "      <td>169.041667</td>\n",
       "    </tr>\n",
       "    <tr>\n",
       "      <th>2</th>\n",
       "      <td>2015-01-01 08:00:00</td>\n",
       "      <td>1</td>\n",
       "      <td>19.083333</td>\n",
       "      <td>214.083333</td>\n",
       "      <td>154.083333</td>\n",
       "      <td>169.083333</td>\n",
       "    </tr>\n",
       "    <tr>\n",
       "      <th>3</th>\n",
       "      <td>2015-01-01 09:00:00</td>\n",
       "      <td>1</td>\n",
       "      <td>19.125000</td>\n",
       "      <td>214.125000</td>\n",
       "      <td>154.125000</td>\n",
       "      <td>169.125000</td>\n",
       "    </tr>\n",
       "    <tr>\n",
       "      <th>4</th>\n",
       "      <td>2015-01-01 10:00:00</td>\n",
       "      <td>1</td>\n",
       "      <td>19.166667</td>\n",
       "      <td>214.166667</td>\n",
       "      <td>154.166667</td>\n",
       "      <td>169.166667</td>\n",
       "    </tr>\n",
       "  </tbody>\n",
       "</table>\n",
       "</div>"
      ],
      "text/plain": [
       "             datetime  machineID  comp_1_daySince  comp_2_daySince  \\\n",
       "0 2015-01-01 06:00:00          1        19.000000       214.000000   \n",
       "1 2015-01-01 07:00:00          1        19.041667       214.041667   \n",
       "2 2015-01-01 08:00:00          1        19.083333       214.083333   \n",
       "3 2015-01-01 09:00:00          1        19.125000       214.125000   \n",
       "4 2015-01-01 10:00:00          1        19.166667       214.166667   \n",
       "\n",
       "   Comp_3_daySince  comp_4_daySince  \n",
       "0       154.000000       169.000000  \n",
       "1       154.041667       169.041667  \n",
       "2       154.083333       169.083333  \n",
       "3       154.125000       169.125000  \n",
       "4       154.166667       169.166667  "
      ]
     },
     "execution_count": 170,
     "metadata": {},
     "output_type": "execute_result"
    }
   ],
   "source": [
    "# rename the columns\n",
    "compFeatures = compFeatures.rename(columns={'comp_1':'comp_1_daySince', \n",
    "                            'comp_2':'comp_2_daySince', \n",
    "                            'comp_3':'Comp_3_daySince', \n",
    "                            'comp_4':'comp_4_daySince'})\n",
    "# drop the repeated index column\n",
    "#compFeatures.drop(['Unnamed: 0'], axis=1, inplace=True)\n",
    "# format 'datetime'\n",
    "compFeatures['datetime'] = pd.to_datetime(compFeatures['datetime'], infer_datetime_format = True)\n",
    "compFeatures.head()"
   ]
  },
  {
   "cell_type": "markdown",
   "metadata": {},
   "source": [
    "#### Merger"
   ]
  },
  {
   "cell_type": "code",
   "execution_count": 171,
   "metadata": {},
   "outputs": [],
   "source": [
    "# combine all the data sets\n",
    "DataFrames = ['sensorData', 'sensorFeatures', 'errorData', 'errorFeatures', \n",
    "              'maintenanceData', 'compFeatures', 'originsData', 'failureData']\n",
    "\n",
    "#singleDF = sensorData.merge(sensorFeatures, on = ['datetime', 'machineID'], how = 'left')\n",
    "#singleDF = singleDF.merge(errorData, on = ['datetime', 'machineID'], how = 'left')\n",
    "#singleDF = singleDF.merge(errorFeatures, on = ['datetime', 'machineID'], how = 'left')\n",
    "#singleDF = singleDF.merge(maintenanceData, on = ['datetime', 'machineID'], how = 'left')\n",
    "#singleDF = singleDF.merge(compFeatures, on = ['datetime', 'machineID'], how = 'left')\n",
    "singleDF = sensorFeatures.merge(compFeatures, on = ['datetime', 'machineID'], how = 'left')\n",
    "singleDF = singleDF.merge(errorFeatures, on = ['datetime', 'machineID'], how = 'left')\n",
    "singleDF = singleDF.merge(originsData, on = ['machineID'], how = 'left')\n",
    "#singleDF = singleDF.merge(failureData, on = ['datetime', 'machineID'], how = 'left')"
   ]
  },
  {
   "cell_type": "code",
   "execution_count": 172,
   "metadata": {
    "scrolled": true
   },
   "outputs": [
    {
     "data": {
      "text/html": [
       "<div>\n",
       "<style scoped>\n",
       "    .dataframe tbody tr th:only-of-type {\n",
       "        vertical-align: middle;\n",
       "    }\n",
       "\n",
       "    .dataframe tbody tr th {\n",
       "        vertical-align: top;\n",
       "    }\n",
       "\n",
       "    .dataframe thead th {\n",
       "        text-align: right;\n",
       "    }\n",
       "</style>\n",
       "<table border=\"1\" class=\"dataframe\">\n",
       "  <thead>\n",
       "    <tr style=\"text-align: right;\">\n",
       "      <th></th>\n",
       "      <th>machineID</th>\n",
       "      <th>datetime</th>\n",
       "      <th>volt3H_mean</th>\n",
       "      <th>rotate3H_mean</th>\n",
       "      <th>pressure3H_mean</th>\n",
       "      <th>vibration3H_mean</th>\n",
       "      <th>volt3H_std</th>\n",
       "      <th>rotate3H_std</th>\n",
       "      <th>pressure3H_std</th>\n",
       "      <th>vibration3H_std</th>\n",
       "      <th>comp_1_daySince</th>\n",
       "      <th>comp_2_daySince</th>\n",
       "      <th>Comp_3_daySince</th>\n",
       "      <th>comp_4_daySince</th>\n",
       "      <th>error_1_count</th>\n",
       "      <th>error_2_count</th>\n",
       "      <th>error_3_count</th>\n",
       "      <th>error_4_count</th>\n",
       "      <th>error_5_count</th>\n",
       "      <th>model</th>\n",
       "      <th>age</th>\n",
       "    </tr>\n",
       "  </thead>\n",
       "  <tbody>\n",
       "    <tr>\n",
       "      <th>0</th>\n",
       "      <td>1</td>\n",
       "      <td>2015-01-01 09:00:00</td>\n",
       "      <td>170.028993</td>\n",
       "      <td>449.533798</td>\n",
       "      <td>94.592122</td>\n",
       "      <td>40.893502</td>\n",
       "      <td>6.721032</td>\n",
       "      <td>67.849599</td>\n",
       "      <td>18.934956</td>\n",
       "      <td>5.874970</td>\n",
       "      <td>19.125</td>\n",
       "      <td>214.125</td>\n",
       "      <td>154.125</td>\n",
       "      <td>169.125</td>\n",
       "      <td>NaN</td>\n",
       "      <td>NaN</td>\n",
       "      <td>NaN</td>\n",
       "      <td>NaN</td>\n",
       "      <td>NaN</td>\n",
       "      <td>model3</td>\n",
       "      <td>18</td>\n",
       "    </tr>\n",
       "    <tr>\n",
       "      <th>1</th>\n",
       "      <td>1</td>\n",
       "      <td>2015-01-01 12:00:00</td>\n",
       "      <td>164.192565</td>\n",
       "      <td>403.949857</td>\n",
       "      <td>105.687417</td>\n",
       "      <td>34.255891</td>\n",
       "      <td>7.596570</td>\n",
       "      <td>50.120452</td>\n",
       "      <td>8.555032</td>\n",
       "      <td>7.662229</td>\n",
       "      <td>19.250</td>\n",
       "      <td>214.250</td>\n",
       "      <td>154.250</td>\n",
       "      <td>169.250</td>\n",
       "      <td>NaN</td>\n",
       "      <td>NaN</td>\n",
       "      <td>NaN</td>\n",
       "      <td>NaN</td>\n",
       "      <td>NaN</td>\n",
       "      <td>model3</td>\n",
       "      <td>18</td>\n",
       "    </tr>\n",
       "    <tr>\n",
       "      <th>2</th>\n",
       "      <td>1</td>\n",
       "      <td>2015-01-01 15:00:00</td>\n",
       "      <td>168.134445</td>\n",
       "      <td>435.781707</td>\n",
       "      <td>107.793709</td>\n",
       "      <td>41.239405</td>\n",
       "      <td>10.124584</td>\n",
       "      <td>55.084734</td>\n",
       "      <td>5.909721</td>\n",
       "      <td>5.169304</td>\n",
       "      <td>19.375</td>\n",
       "      <td>214.375</td>\n",
       "      <td>154.375</td>\n",
       "      <td>169.375</td>\n",
       "      <td>NaN</td>\n",
       "      <td>NaN</td>\n",
       "      <td>NaN</td>\n",
       "      <td>NaN</td>\n",
       "      <td>NaN</td>\n",
       "      <td>model3</td>\n",
       "      <td>18</td>\n",
       "    </tr>\n",
       "    <tr>\n",
       "      <th>3</th>\n",
       "      <td>1</td>\n",
       "      <td>2015-01-01 18:00:00</td>\n",
       "      <td>165.514453</td>\n",
       "      <td>430.472823</td>\n",
       "      <td>101.703289</td>\n",
       "      <td>40.373739</td>\n",
       "      <td>4.673269</td>\n",
       "      <td>42.047278</td>\n",
       "      <td>4.554047</td>\n",
       "      <td>2.106108</td>\n",
       "      <td>19.500</td>\n",
       "      <td>214.500</td>\n",
       "      <td>154.500</td>\n",
       "      <td>169.500</td>\n",
       "      <td>NaN</td>\n",
       "      <td>NaN</td>\n",
       "      <td>NaN</td>\n",
       "      <td>NaN</td>\n",
       "      <td>NaN</td>\n",
       "      <td>model3</td>\n",
       "      <td>18</td>\n",
       "    </tr>\n",
       "    <tr>\n",
       "      <th>4</th>\n",
       "      <td>1</td>\n",
       "      <td>2015-01-01 21:00:00</td>\n",
       "      <td>168.809347</td>\n",
       "      <td>437.111120</td>\n",
       "      <td>90.911060</td>\n",
       "      <td>41.738542</td>\n",
       "      <td>14.752132</td>\n",
       "      <td>47.048609</td>\n",
       "      <td>4.244158</td>\n",
       "      <td>2.207884</td>\n",
       "      <td>19.625</td>\n",
       "      <td>214.625</td>\n",
       "      <td>154.625</td>\n",
       "      <td>169.625</td>\n",
       "      <td>NaN</td>\n",
       "      <td>NaN</td>\n",
       "      <td>NaN</td>\n",
       "      <td>NaN</td>\n",
       "      <td>NaN</td>\n",
       "      <td>model3</td>\n",
       "      <td>18</td>\n",
       "    </tr>\n",
       "  </tbody>\n",
       "</table>\n",
       "</div>"
      ],
      "text/plain": [
       "   machineID            datetime  volt3H_mean  rotate3H_mean  pressure3H_mean  \\\n",
       "0          1 2015-01-01 09:00:00   170.028993     449.533798        94.592122   \n",
       "1          1 2015-01-01 12:00:00   164.192565     403.949857       105.687417   \n",
       "2          1 2015-01-01 15:00:00   168.134445     435.781707       107.793709   \n",
       "3          1 2015-01-01 18:00:00   165.514453     430.472823       101.703289   \n",
       "4          1 2015-01-01 21:00:00   168.809347     437.111120        90.911060   \n",
       "\n",
       "   vibration3H_mean  volt3H_std  rotate3H_std  pressure3H_std  \\\n",
       "0         40.893502    6.721032     67.849599       18.934956   \n",
       "1         34.255891    7.596570     50.120452        8.555032   \n",
       "2         41.239405   10.124584     55.084734        5.909721   \n",
       "3         40.373739    4.673269     42.047278        4.554047   \n",
       "4         41.738542   14.752132     47.048609        4.244158   \n",
       "\n",
       "   vibration3H_std  comp_1_daySince  comp_2_daySince  Comp_3_daySince  \\\n",
       "0         5.874970           19.125          214.125          154.125   \n",
       "1         7.662229           19.250          214.250          154.250   \n",
       "2         5.169304           19.375          214.375          154.375   \n",
       "3         2.106108           19.500          214.500          154.500   \n",
       "4         2.207884           19.625          214.625          154.625   \n",
       "\n",
       "   comp_4_daySince  error_1_count  error_2_count  error_3_count  \\\n",
       "0          169.125            NaN            NaN            NaN   \n",
       "1          169.250            NaN            NaN            NaN   \n",
       "2          169.375            NaN            NaN            NaN   \n",
       "3          169.500            NaN            NaN            NaN   \n",
       "4          169.625            NaN            NaN            NaN   \n",
       "\n",
       "   error_4_count  error_5_count   model  age  \n",
       "0            NaN            NaN  model3   18  \n",
       "1            NaN            NaN  model3   18  \n",
       "2            NaN            NaN  model3   18  \n",
       "3            NaN            NaN  model3   18  \n",
       "4            NaN            NaN  model3   18  "
      ]
     },
     "execution_count": 172,
     "metadata": {},
     "output_type": "execute_result"
    }
   ],
   "source": [
    "singleDF.head()"
   ]
  },
  {
   "cell_type": "markdown",
   "metadata": {},
   "source": [
    "#### Label Selection"
   ]
  },
  {
   "cell_type": "code",
   "execution_count": 173,
   "metadata": {},
   "outputs": [],
   "source": [
    "singleDF.to_csv('singleDF')"
   ]
  },
  {
   "cell_type": "code",
   "execution_count": null,
   "metadata": {},
   "outputs": [],
   "source": []
  },
  {
   "cell_type": "markdown",
   "metadata": {},
   "source": [
    "singleDF = pd.merge(sensorData, maintenanceData, how = 'left', copy = False, on = ['datetime', 'machineID'])\n",
    "singleDF = pd.merge(singleDF, errorData, how = 'left', copy = False, on = ['datetime', 'machineID'])\n",
    "singleDF = pd.merge(singleDF, failureData, how = 'left', copy = False, on = ['datetime', 'machineID'])\n",
    "singleDF = pd.merge(singleDF, originsData, how = 'left', copy = False, on = ['machineID'])\n",
    "#singleDF.drop(['volt_ma', 'rotate_ma', 'pressure_ma', 'vibration_ma'], axis=1, inplace=True)\n",
    "singleDF.fillna(0, inplace=True)\n",
    "for f in ['mComp_1', 'mComp_2', 'mComp_3', 'mComp_4', \n",
    "          'fComp_1', 'fComp_2', 'fComp_3', 'fComp_4', \n",
    "          'error_1', 'error_2', 'error_3', 'error_4', \n",
    "          'error_5']:\n",
    "    singleDF[f] = singleDF[f].astype(int)"
   ]
  },
  {
   "cell_type": "markdown",
   "metadata": {},
   "source": [
    "# sensorData was our base dataset, this confirms we're ending with the same number of rows we've started with\n",
    "singleDF.shape"
   ]
  },
  {
   "cell_type": "markdown",
   "metadata": {},
   "source": [
    "singleDF.info()"
   ]
  },
  {
   "cell_type": "markdown",
   "metadata": {},
   "source": [
    "# looking at a sample / head / tail the dataframe seemed pretty empty for the components, failures, and errors. I thought\n",
    "# there may have been an issue during the merge but doing a few checks has revealed the indicators are there.\n",
    "a = singleDF['fComp_1'].value_counts()\n",
    "b = singleDF['mComp_1'].value_counts()\n",
    "c = singleDF['error_1'].value_counts()\n",
    "print(a, b, c)"
   ]
  },
  {
   "cell_type": "markdown",
   "metadata": {},
   "source": [
    "When I first saw a data set for performed maintenance, failures, and errors I assumed they should go together pretty simply. After looking at this last data set though, there are five different error messages, but we only have four unqiue components. Going back to look at the information provided at the beginning of this notebook, there is nothing useful to define what these errors are or how they correlate at the maintenance and component level. \n",
    "\n",
    "The errors will be summarized into a quantitative field of 0 = no error, and 1 - 5 = errors occured."
   ]
  },
  {
   "cell_type": "markdown",
   "metadata": {},
   "source": [
    "# creating a general column 'errors' with quantities for that specific 'datetime' and 'machineID'\n",
    "singleDF['errors'] = singleDF['error_1'] + singleDF['error_2'] + singleDF['error_3'] + singleDF['error_4'] + singleDF['error_5']\n",
    "singleDF.drop(['error_1', 'error_2', 'error_3', 'error_4', 'error_5'], axis=1, inplace=True)"
   ]
  },
  {
   "cell_type": "markdown",
   "metadata": {},
   "source": [
    "Per the requirements in 'TRAIN/SPLIT' the data needs to be grouped into three hour windows.\n",
    "Just performing a function like '.rolling()' on the entire data set is going to lead to inconsistant\n",
    "datetime entries for each group of machines. I'd like them to be uniform (for instance each machine \n",
    "should start at 2015-01-01 06:00:00, where if we just roll through the entire data set dropped 2/3 rows it won't be uniform). Here we'll break down the dataframe by 'machineID' into a list of dataframes \n",
    "so they can be manipulated separately and loop through to take an average of every three rows of sensor data as \n",
    "well as sum the maintenance and failed components in that three hour window hopefully giving a good summary of the datetime window."
   ]
  },
  {
   "cell_type": "markdown",
   "metadata": {},
   "source": [
    "singleDF.sort_values(['machineID', 'datetime'], inplace = True)"
   ]
  },
  {
   "cell_type": "markdown",
   "metadata": {},
   "source": [
    "# create an empty list to add DataFrames to\n",
    "machineDF = []\n",
    "# create a range for the one hundred machine\n",
    "for key in range(0, 99):\n",
    "    # group rows by 'machineID'\n",
    "    df = singleDF.loc[singleDF['machineID'] == key]\n",
    "    # append the df of a single machine to the list of df's\n",
    "    machineDF.append(df)\n",
    "    # iterate through the columns below\n",
    "    for feature in ['volt', 'rotate', 'pressure', 'vibration']:\n",
    "        # for each machineDF and column above, take the average of every three rows\n",
    "        machineDF[key][feature] = machineDF[key][feature].rolling(3).mean()\n",
    "    # iterate the columns below\n",
    "    for feature in ['mComp_1', 'mComp_2', 'mComp_3', 'mComp_4', 'fComp_1', 'fComp_2', 'fComp_3', 'fComp_4', 'errors']:\n",
    "        # sum the values of each column for period '.rolling(x)'\n",
    "        machineDF[key][feature + 'Rolling'] = machineDF[key][feature].rolling(3).sum()  \n",
    "    # drop every 2 of 3 rows\n",
    "    machineDF[key] = machineDF[key].iloc[::3, :]\n",
    "#convert the list back to a single df\n",
    "cleanedDF = pd.concat(machineDF).fillna(0).sort_index().reset_index(drop = True)\n",
    "# drop the original component columns\n",
    "cleanedDF.drop(['mComp_1', 'mComp_2', 'mComp_3', 'mComp_4', 'fComp_1', 'fComp_2', 'fComp_3', 'fComp_4', 'errors'], axis=1, inplace=True)\n",
    "# rename the rollings component columns\n",
    "cleanedDF = cleanedDF.rename(columns={'mComp_1Rolling':'mComp_1', \n",
    "                            'mComp_2Rolling':'mComp_2', \n",
    "                            'mComp_3Rolling':'mComp_3', \n",
    "                            'mComp_4Rolling':'mComp_4', \n",
    "                            'fComp_1Rolling':'fComp_1',\n",
    "                            'fComp_2Rolling':'fComp_2',\n",
    "                            'fComp_3Rolling':'fComp_3',\n",
    "                            'fComp_4Rolling':'fComp_4',\n",
    "                            'errorsRolling':'errors'})"
   ]
  },
  {
   "cell_type": "markdown",
   "metadata": {},
   "source": [
    "# double check the features\n",
    "cleanedDF.info()"
   ]
  },
  {
   "cell_type": "markdown",
   "metadata": {
    "scrolled": true
   },
   "source": [
    "# double check 'datetime' is uniform for each machine\n",
    "for x in range(0,4):\n",
    "    mask = cleanedDF['machineID'] == x\n",
    "    print(cleanedDF[mask].head(2))"
   ]
  },
  {
   "cell_type": "markdown",
   "metadata": {},
   "source": [
    "### Data Split\n",
    "Splitting the cleaned Data Frame into 70 - train, 30 - validation, and a cleaned 30 for test"
   ]
  },
  {
   "cell_type": "markdown",
   "metadata": {},
   "source": [
    "### Analysis"
   ]
  },
  {
   "cell_type": "markdown",
   "metadata": {},
   "source": [
    "# first look\n",
    "\n",
    "#correlation heatmap of merging/feature engineering/more cleaning\n",
    "def correlation_heatmap(df):\n",
    "    _ , ax = plt.subplots(figsize =(18, 16))\n",
    "    colormap = sns.color_palette('Blues', n_colors = 6)\n",
    "    #colormap = sns.color_palette('Blues', n_colors = 6) #sns.color_palette(\"Blues\")\n",
    "    _ = sns.heatmap(\n",
    "        df.corr(), \n",
    "        cmap = colormap,\n",
    "        square=True, \n",
    "        cbar_kws={'shrink':.9 }, \n",
    "        ax=ax,\n",
    "        annot=True, \n",
    "        linewidths=0.1,vmax=1.0, linecolor='white',\n",
    "        annot_kws={'fontsize':10 }\n",
    "    )\n",
    "    \n",
    "    plt.title('Pearson Correlation of Features', y=1.05, size=20)\n",
    "\n",
    "correlation_heatmap(cleanedDF)"
   ]
  },
  {
   "cell_type": "markdown",
   "metadata": {},
   "source": [
    "sns.pairplot(palette = 'Blues', data = cleanedDF, vars = ['age', 'machineID', 'errors', 'volt', 'rotate', 'pressure', 'vibration'])"
   ]
  },
  {
   "cell_type": "code",
   "execution_count": 174,
   "metadata": {},
   "outputs": [],
   "source": [
    "#sns.jointplot(data = cleanedDF, x = 'volt', y = 'mComp_1', kind='reg');"
   ]
  },
  {
   "cell_type": "markdown",
   "metadata": {},
   "source": [
    "#### a look at indivual machines vs model vs age\n",
    "sns.set(style=\"ticks\", color_codes=True)\n",
    "sns.pairplot(data = originsData)"
   ]
  },
  {
   "cell_type": "markdown",
   "metadata": {},
   "source": [
    "#### look at the component usage graphically\n",
    "plot = maintenanceData.plot.hist(alpha = .75, bins = 4, x = 'machineID', y = ['comp'],\n",
    "                                 edgecolor='black', linewidth=1.2, xticks = [1,2,3,4],\n",
    "                                 fontsize = 14, legend = True, figsize = (7, 5))\n",
    "plt.title('Component Maintenance Distrobution', size = 18)\n",
    "plt.xlabel('Component', size = 16)\n",
    "plt.ylabel(\"Quantity\", size = 16)\n",
    "plt.legend(prop={'size': 12})\n",
    "plt.xticks(range(1, 5))\n",
    "plt.xlim([.25,4.75])"
   ]
  },
  {
   "cell_type": "markdown",
   "metadata": {},
   "source": [
    "####  JUST FOOLING AROUND\n",
    "sensorGraphData = sensorData\n",
    "sensorGraphData[['volt_ma', 'rotate_ma', 'pressure_ma', 'vibration_ma']] = minmax_scale(sensorGraphData[['volt_ma', 'rotate_ma', 'pressure_ma', 'vibration_ma']])\n",
    "mask = sensorGraphData['machineID'] == 55\n",
    "sensorGraphData = sensorGraphData[mask]\n",
    "sensorGraphData.drop(['volt', 'rotate', 'pressure', 'vibration', 'machineID'], axis = 1, inplace = True)\n",
    "sensorGraphData = sensorGraphData.iloc[::730, :]\n",
    "sensorGraphData.shape"
   ]
  },
  {
   "cell_type": "markdown",
   "metadata": {},
   "source": [
    "####  JUST FOOLING AROUND\n",
    "plot = sensorGraphData.plot.line(x = 'datetime', sharey = ['volt_ma', 'rotate_ma', 'pressure_ma', 'vibration_ma'], \n",
    "                                 title = 'Mach 55 Twelve Month Normalized Averages', legend = True)\n",
    "plt.xlabel('Year')\n",
    "plt.ylabel(\"Sensor Average\")\n",
    "L = plt.legend()\n",
    "L.get_texts()[0].set_text('Voltage')\n",
    "L.get_texts()[1].set_text('Rotation')\n",
    "L.get_texts()[2].set_text('Pressure')\n",
    "L.get_texts()[3].set_text('Vibration')"
   ]
  },
  {
   "cell_type": "code",
   "execution_count": null,
   "metadata": {},
   "outputs": [],
   "source": []
  },
  {
   "cell_type": "code",
   "execution_count": null,
   "metadata": {},
   "outputs": [],
   "source": []
  }
 ],
 "metadata": {
  "kernelspec": {
   "display_name": "Python 3",
   "language": "python",
   "name": "python3"
  },
  "language_info": {
   "codemirror_mode": {
    "name": "ipython",
    "version": 3
   },
   "file_extension": ".py",
   "mimetype": "text/x-python",
   "name": "python",
   "nbconvert_exporter": "python",
   "pygments_lexer": "ipython3",
   "version": "3.6.6"
  }
 },
 "nbformat": 4,
 "nbformat_minor": 2
}
