{
 "cells": [
  {
   "cell_type": "markdown",
   "metadata": {},
   "source": [
    "# Kaggle - Mpred\n",
    "## Predicitive Maintenance Challenge\n",
    "### https://www.kaggle.com/c/mpred-datascience-challenge\n",
    "#### By: 55thSwiss\n"
   ]
  },
  {
   "cell_type": "markdown",
   "metadata": {},
   "source": [
    "## Introduction\n",
    "\n",
    "\"A major problem faced by businesses in asset-heavy industries such as manufacturing is the significant \n",
    "costs that are associated with delays in the production process due to mechanical problems. Most of these \n",
    "businesses are interested in predicting these problems in advance so that they can proactively prevent the \n",
    "problems before they occur which will reduce the costly impact caused by downtime.\n",
    "\n",
    "The business problem for this example is about predicting problems caused by component failures such that \n",
    "the question “What is the probability that a machine will fail in the near future due to a failure of a \n",
    "certain component” can be answered. The problem is formatted as a multi-class classification problem and \n",
    "a machine learning algorithm is used to create the predictive model that learns from historical data collected \n",
    "from machines.\n",
    "\n",
    "The goal is to predict when a given machine will fail within 24 hours due to a failure of a given component.\""
   ]
  },
  {
   "cell_type": "markdown",
   "metadata": {},
   "source": [
    "## Sources\n",
    "\n",
    "Please refer to the predictive maintenance playbook [1] for a detailed explanation of common use cases \n",
    "in predictive maintenance and modelling approaches.\n",
    "\n",
    "Original data set can be found at [2]\n",
    "\n",
    "For methodology, we're going to more of less employ CRISP-DM [3] approach, and use generic decision tree to help pick the model type to try a few out [4].\n",
    "\n",
    "[1] https://docs.microsoft.com/fr-fr/azure/machine-learning/team-data-science-process/cortana-analytics-playbook-predictive-maintenance\n",
    "\n",
    "[2] https://www.kaggle.com/yuansaijie0604/xinjiang-pm/data\n",
    "\n",
    "[3] https://en.wikipedia.org/wiki/Cross-industry_standard_process_for_data_mining\n",
    "\n",
    "[4] https://docs.microsoft.com/en-us/azure/machine-learning/studio/algorithm-cheat-sheet"
   ]
  },
  {
   "cell_type": "markdown",
   "metadata": {},
   "source": [
    "## Problem Description\n",
    "\n",
    "In this competition, the goal is to compute the probability that a machine will fail in \n",
    "the next 24 hours due to a specific component failure (component 1,2,3 or 4) hence you are asked to classify the \n",
    "observations into 5 categories : comp1, comp2,comp3,comp4 and none (e.g : The machine will fail due to \n",
    "component 1... 4 or will not fail in the next 24h). From a machine learning perspective this is called a multi-class classification problem."
   ]
  },
  {
   "cell_type": "markdown",
   "metadata": {},
   "source": [
    "## Data File Descriptions\n",
    "\n",
    "__telemetry.csv__ The first data source is the telemetry time-series data which consists of voltage, rotation, pressure and vibration measurements collected from 100 machines in real time averaged over every hour collected during the year 2015\n",
    "\n",
    "__errors.csv__ The errors logs are non-breaking errors thrown while the machine is still operational and do not constitute as failures. The error date and times are rounded to the closest hour since the telemetry data is collected at an hourly rate.\n",
    "\n",
    "__maint.csv__ This file contains the scheduled and unscheduled maintenance records which correspond to both regular inspection of components as well as failures. A record is generated if a component is replaced either during the scheduled inspection or due to a break down. The records that are created due to break downs will be called failures which is explained in the later sections. Maintenance data has both 2014 and 2015 records.\n",
    "\n",
    "__machines.csv__ This data set includes some information about the machines which are model type and years in service.\n",
    "\n",
    "__failures.csv__ These are the records of component replacements due to failures. Each record has a date and time, machine ID and failed component type."
   ]
  },
  {
   "cell_type": "markdown",
   "metadata": {},
   "source": [
    "## Data fields\n",
    "\n",
    "__volt, rotate, pressure, vibration__ Hourly voltage, rotation, pressure and vibration measurements collected from the machines\n",
    "\n",
    "__machineID__ The ID of a machine\n",
    "\n",
    "__datetime__ Time stamp of the entry\n",
    "\n",
    "__errorID__ The ID of an error\n",
    "\n",
    "__comp__ The component replaced during the scheduled maintenance\n",
    "\n",
    "__model__ Model number of the machine\n",
    "\n",
    "__age__ Years in service\n",
    "\n",
    "__errorID__ The ID of an error\n",
    "\n",
    "__failure__ Failed component type"
   ]
  },
  {
   "cell_type": "markdown",
   "metadata": {},
   "source": [
    "## Train / Split Requirements\n",
    "\n",
    "The training set will contain the data of 70 machines while the test set will contain the data of the 30 remaining machines\n",
    "\n",
    "The data is collected every hour for a year. For simplicity, you are asked to group the data into 3 hours windows."
   ]
  },
  {
   "cell_type": "markdown",
   "metadata": {},
   "source": [
    "## Getting Started:"
   ]
  },
  {
   "cell_type": "markdown",
   "metadata": {},
   "source": [
    "### First Assessment\n",
    "There has been a problem defined that forms the objective of the project and we've also been given the data to work with. Typically this would be steps one __1.__ and two __2.__ respectively in a machine learning / data analysis problem, gaining an understanding of the business and defining the problem to be solved (a precursor to deciding requirements and method of solution) as well as gathering the raw data."
   ]
  },
  {
   "cell_type": "markdown",
   "metadata": {},
   "source": [
    "### 3. Wrangling Overview\n",
    "There are a few requirements from the introduction on the formatting of the data and how it should be proceesed. In this step the data will be examined for it's architecture in regards to storage and processing, and an initial cleaning for aberrant, missing, duplicate, or outlier data points within each dataset. This is a good point to determine possible independent and dependent variables.  If a key feature has been identified, the dataframes will be easily concatenated, otherwise it will be done \"manually\". Lastly, the cumulative dataframe can be split into training, test, and validation tables. "
   ]
  },
  {
   "cell_type": "code",
   "execution_count": 440,
   "metadata": {},
   "outputs": [],
   "source": [
    "#library dependencies\n",
    "import sys\n",
    "import os\n",
    "import pandas as pd \n",
    "import numpy as np\n",
    "import matplotlib as mpl\n",
    "import matplotlib.pyplot as plt\n",
    "import matplotlib.pylab as pylab\n",
    "import matplotlib.ticker as ticker\n",
    "import seaborn as sns\n",
    "import sklearn\n",
    "from sklearn.preprocessing import minmax_scale\n",
    "import datetime\n",
    "from datetime import date\n",
    "import warnings\n",
    "warnings.filterwarnings('ignore')\n",
    "\n",
    "\n",
    "#vizualization defaults\n",
    "%matplotlib inline\n",
    "mpl.style.use('ggplot')\n",
    "sns.set_style('white')\n",
    "pylab.rcParams['figure.figsize'] = 12,8\n",
    "pd.set_option('display.max_columns', None)\n",
    "pd.set_option('display.max_rows', None)\n"
   ]
  },
  {
   "cell_type": "markdown",
   "metadata": {},
   "source": [
    "The first dataset I tried looking at was telemetry.csv, but an error kicked up when loading the CSV:\n",
    "\n",
    "```ParserError: Error tokenizing data. C error: Expected 6 fields in line 92490, saw 9```\n",
    "\n",
    "This likely came from missing information, meaning cells that were void of any value or had a strange format to them. Opening in a spreadsheet editor like Excel often fixes this by replacing the empty cells with a NaN status. "
   ]
  },
  {
   "cell_type": "code",
   "execution_count": 441,
   "metadata": {},
   "outputs": [],
   "source": [
    "#import data\n",
    "sensorData = pd.read_csv('PdM_telemetry.csv')\n",
    "maintenanceData = pd.read_csv('PdM_maint.csv')\n",
    "originsData = pd.read_csv('PdM_machines.csv')\n",
    "failureData = pd.read_csv('PdM_failures.csv')\n",
    "errorData = pd.read_csv('PdM_errors.csv')"
   ]
  },
  {
   "cell_type": "markdown",
   "metadata": {},
   "source": [
    "We'll do a first run through starting with 'telemetry.csv' since this is the largest dataset. After opening the csv in Excel we're able to import it into the notebook but it has three columns of entirely null values. I've confirmed this is just an anomaly and the csv is infact empty in those columns (seems to be a formatting error, one row contained a shifted column heading in the data cells), they will be dropped. "
   ]
  },
  {
   "cell_type": "markdown",
   "metadata": {},
   "source": [
    "#### Telemetry Data:\n",
    "\n",
    "This is is going to be the most valuable dataset inidivudally, as it contains a vast amount of sensor readings from one hundred different machines. This will probably be the foundation dataset for merging."
   ]
  },
  {
   "cell_type": "code",
   "execution_count": 442,
   "metadata": {},
   "outputs": [
    {
     "name": "stdout",
     "output_type": "stream",
     "text": [
      "<class 'pandas.core.frame.DataFrame'>\n",
      "RangeIndex: 968589 entries, 0 to 968588\n",
      "Data columns (total 9 columns):\n",
      "datetime      968589 non-null object\n",
      "machineID     968589 non-null int64\n",
      "volt          968589 non-null float64\n",
      "rotate        968589 non-null object\n",
      "pressure      968589 non-null object\n",
      "vibration     968589 non-null object\n",
      "Unnamed: 6    1 non-null object\n",
      "Unnamed: 7    1 non-null object\n",
      "Unnamed: 8    1 non-null object\n",
      "dtypes: float64(1), int64(1), object(7)\n",
      "memory usage: 66.5+ MB\n"
     ]
    }
   ],
   "source": [
    "#first look\n",
    "sensorData.info()"
   ]
  },
  {
   "cell_type": "code",
   "execution_count": 443,
   "metadata": {},
   "outputs": [
    {
     "data": {
      "text/html": [
       "<div>\n",
       "<style scoped>\n",
       "    .dataframe tbody tr th:only-of-type {\n",
       "        vertical-align: middle;\n",
       "    }\n",
       "\n",
       "    .dataframe tbody tr th {\n",
       "        vertical-align: top;\n",
       "    }\n",
       "\n",
       "    .dataframe thead th {\n",
       "        text-align: right;\n",
       "    }\n",
       "</style>\n",
       "<table border=\"1\" class=\"dataframe\">\n",
       "  <thead>\n",
       "    <tr style=\"text-align: right;\">\n",
       "      <th></th>\n",
       "      <th>datetime</th>\n",
       "      <th>machineID</th>\n",
       "      <th>volt</th>\n",
       "      <th>rotate</th>\n",
       "      <th>pressure</th>\n",
       "      <th>vibration</th>\n",
       "      <th>Unnamed: 6</th>\n",
       "      <th>Unnamed: 7</th>\n",
       "      <th>Unnamed: 8</th>\n",
       "    </tr>\n",
       "  </thead>\n",
       "  <tbody>\n",
       "    <tr>\n",
       "      <th>32996</th>\n",
       "      <td>10/7/2015 23:00</td>\n",
       "      <td>4</td>\n",
       "      <td>167.571796</td>\n",
       "      <td>388.956</td>\n",
       "      <td>110.857</td>\n",
       "      <td>38.9227</td>\n",
       "      <td>NaN</td>\n",
       "      <td>NaN</td>\n",
       "      <td>NaN</td>\n",
       "    </tr>\n",
       "    <tr>\n",
       "      <th>641681</th>\n",
       "      <td>9/8/2015 16:00</td>\n",
       "      <td>63</td>\n",
       "      <td>165.878625</td>\n",
       "      <td>533.972</td>\n",
       "      <td>110.941</td>\n",
       "      <td>30.1756</td>\n",
       "      <td>NaN</td>\n",
       "      <td>NaN</td>\n",
       "      <td>NaN</td>\n",
       "    </tr>\n",
       "    <tr>\n",
       "      <th>428798</th>\n",
       "      <td>5/22/2015 13:00</td>\n",
       "      <td>39</td>\n",
       "      <td>147.375510</td>\n",
       "      <td>425.421</td>\n",
       "      <td>105.577</td>\n",
       "      <td>40.4172</td>\n",
       "      <td>NaN</td>\n",
       "      <td>NaN</td>\n",
       "      <td>NaN</td>\n",
       "    </tr>\n",
       "  </tbody>\n",
       "</table>\n",
       "</div>"
      ],
      "text/plain": [
       "               datetime  machineID        volt   rotate pressure vibration  \\\n",
       "32996   10/7/2015 23:00          4  167.571796  388.956  110.857   38.9227   \n",
       "641681   9/8/2015 16:00         63  165.878625  533.972  110.941   30.1756   \n",
       "428798  5/22/2015 13:00         39  147.375510  425.421  105.577   40.4172   \n",
       "\n",
       "       Unnamed: 6 Unnamed: 7 Unnamed: 8  \n",
       "32996         NaN        NaN        NaN  \n",
       "641681        NaN        NaN        NaN  \n",
       "428798        NaN        NaN        NaN  "
      ]
     },
     "execution_count": 443,
     "metadata": {},
     "output_type": "execute_result"
    }
   ],
   "source": [
    "sensorData.sample(3)"
   ]
  },
  {
   "cell_type": "code",
   "execution_count": 444,
   "metadata": {},
   "outputs": [
    {
     "name": "stdout",
     "output_type": "stream",
     "text": [
      "<class 'pandas.core.frame.DataFrame'>\n",
      "Int64Index: 968588 entries, 0 to 968588\n",
      "Data columns (total 6 columns):\n",
      "datetime     968588 non-null datetime64[ns]\n",
      "machineID    968588 non-null int64\n",
      "volt         968588 non-null float64\n",
      "rotate       968588 non-null float64\n",
      "pressure     968588 non-null float64\n",
      "vibration    968588 non-null float64\n",
      "dtypes: datetime64[ns](1), float64(4), int64(1)\n",
      "memory usage: 51.7 MB\n"
     ]
    }
   ],
   "source": [
    "# row index 92488 was the problem from above, drop the row and clean up columns\n",
    "# drop row 92488\n",
    "sensorData.drop(92488, inplace = True)\n",
    "# drop the empty data columns\n",
    "sensorData.drop(['Unnamed: 6', 'Unnamed: 7', 'Unnamed: 8'], axis=1, inplace=True)\n",
    "# convert the column 'datetime' to pandas datetime datatype using the infer arguement to find the fastest method for parsing\n",
    "sensorData['datetime'] = pd.to_datetime(sensorData['datetime'], infer_datetime_format = True)\n",
    "\n",
    "# Volt was already assigned as a float, change the datatype of 'rotate', 'pressure', and 'vibration' to match\n",
    "sensorData['rotate'] = sensorData['rotate'].astype(float)\n",
    "sensorData['pressure'] = sensorData['pressure'].astype(float)\n",
    "sensorData['vibration'] = sensorData['vibration'].astype(float)\n",
    "\n",
    "# check the adjusted datatypes\n",
    "sensorData.info()"
   ]
  },
  {
   "cell_type": "code",
   "execution_count": 445,
   "metadata": {},
   "outputs": [
    {
     "data": {
      "text/html": [
       "<div>\n",
       "<style scoped>\n",
       "    .dataframe tbody tr th:only-of-type {\n",
       "        vertical-align: middle;\n",
       "    }\n",
       "\n",
       "    .dataframe tbody tr th {\n",
       "        vertical-align: top;\n",
       "    }\n",
       "\n",
       "    .dataframe thead th {\n",
       "        text-align: right;\n",
       "    }\n",
       "</style>\n",
       "<table border=\"1\" class=\"dataframe\">\n",
       "  <thead>\n",
       "    <tr style=\"text-align: right;\">\n",
       "      <th></th>\n",
       "      <th>machineID</th>\n",
       "      <th>volt</th>\n",
       "      <th>rotate</th>\n",
       "      <th>pressure</th>\n",
       "      <th>vibration</th>\n",
       "    </tr>\n",
       "  </thead>\n",
       "  <tbody>\n",
       "    <tr>\n",
       "      <th>count</th>\n",
       "      <td>968588.000000</td>\n",
       "      <td>968588.000000</td>\n",
       "      <td>968588.000000</td>\n",
       "      <td>968588.000000</td>\n",
       "      <td>968588.000000</td>\n",
       "    </tr>\n",
       "    <tr>\n",
       "      <th>mean</th>\n",
       "      <td>46.230764</td>\n",
       "      <td>170.774119</td>\n",
       "      <td>446.591205</td>\n",
       "      <td>100.841515</td>\n",
       "      <td>40.383648</td>\n",
       "    </tr>\n",
       "    <tr>\n",
       "      <th>std</th>\n",
       "      <td>30.450409</td>\n",
       "      <td>15.507488</td>\n",
       "      <td>52.701718</td>\n",
       "      <td>11.028763</td>\n",
       "      <td>5.366198</td>\n",
       "    </tr>\n",
       "    <tr>\n",
       "      <th>min</th>\n",
       "      <td>1.000000</td>\n",
       "      <td>97.333604</td>\n",
       "      <td>138.432075</td>\n",
       "      <td>51.237106</td>\n",
       "      <td>14.877054</td>\n",
       "    </tr>\n",
       "    <tr>\n",
       "      <th>25%</th>\n",
       "      <td>18.000000</td>\n",
       "      <td>160.298184</td>\n",
       "      <td>412.278255</td>\n",
       "      <td>93.492369</td>\n",
       "      <td>36.778303</td>\n",
       "    </tr>\n",
       "    <tr>\n",
       "      <th>50%</th>\n",
       "      <td>45.000000</td>\n",
       "      <td>170.597611</td>\n",
       "      <td>447.555368</td>\n",
       "      <td>100.414332</td>\n",
       "      <td>40.237433</td>\n",
       "    </tr>\n",
       "    <tr>\n",
       "      <th>75%</th>\n",
       "      <td>73.000000</td>\n",
       "      <td>181.006196</td>\n",
       "      <td>482.154486</td>\n",
       "      <td>107.535244</td>\n",
       "      <td>43.781329</td>\n",
       "    </tr>\n",
       "    <tr>\n",
       "      <th>max</th>\n",
       "      <td>100.000000</td>\n",
       "      <td>255.124717</td>\n",
       "      <td>695.020984</td>\n",
       "      <td>185.951998</td>\n",
       "      <td>76.791072</td>\n",
       "    </tr>\n",
       "  </tbody>\n",
       "</table>\n",
       "</div>"
      ],
      "text/plain": [
       "           machineID           volt         rotate       pressure  \\\n",
       "count  968588.000000  968588.000000  968588.000000  968588.000000   \n",
       "mean       46.230764     170.774119     446.591205     100.841515   \n",
       "std        30.450409      15.507488      52.701718      11.028763   \n",
       "min         1.000000      97.333604     138.432075      51.237106   \n",
       "25%        18.000000     160.298184     412.278255      93.492369   \n",
       "50%        45.000000     170.597611     447.555368     100.414332   \n",
       "75%        73.000000     181.006196     482.154486     107.535244   \n",
       "max       100.000000     255.124717     695.020984     185.951998   \n",
       "\n",
       "           vibration  \n",
       "count  968588.000000  \n",
       "mean       40.383648  \n",
       "std         5.366198  \n",
       "min        14.877054  \n",
       "25%        36.778303  \n",
       "50%        40.237433  \n",
       "75%        43.781329  \n",
       "max        76.791072  "
      ]
     },
     "execution_count": 445,
     "metadata": {},
     "output_type": "execute_result"
    }
   ],
   "source": [
    "# check out some statistics on the dataset (size, means, standard deviations, mins, quartiles, and maxes)\n",
    "sensorData.describe()"
   ]
  },
  {
   "cell_type": "markdown",
   "metadata": {},
   "source": [
    "It looks like every feature has data points that are well outside three standard deviations of their respective mean. The outliers need to be looked at and dealt with if they're determined to be noise in the dataset, although these could be triggers corresponding to the failure mode in so they won't be removed just yet."
   ]
  },
  {
   "cell_type": "code",
   "execution_count": 446,
   "metadata": {},
   "outputs": [],
   "source": [
    "# organizing the data by date\n",
    "sensorData.sort_values(by=['datetime'], inplace = True)"
   ]
  },
  {
   "cell_type": "code",
   "execution_count": 447,
   "metadata": {
    "scrolled": true
   },
   "outputs": [
    {
     "data": {
      "text/html": [
       "<div>\n",
       "<style scoped>\n",
       "    .dataframe tbody tr th:only-of-type {\n",
       "        vertical-align: middle;\n",
       "    }\n",
       "\n",
       "    .dataframe tbody tr th {\n",
       "        vertical-align: top;\n",
       "    }\n",
       "\n",
       "    .dataframe thead th {\n",
       "        text-align: right;\n",
       "    }\n",
       "</style>\n",
       "<table border=\"1\" class=\"dataframe\">\n",
       "  <thead>\n",
       "    <tr style=\"text-align: right;\">\n",
       "      <th></th>\n",
       "      <th>datetime</th>\n",
       "      <th>machineID</th>\n",
       "      <th>volt</th>\n",
       "      <th>rotate</th>\n",
       "      <th>pressure</th>\n",
       "      <th>vibration</th>\n",
       "    </tr>\n",
       "  </thead>\n",
       "  <tbody>\n",
       "    <tr>\n",
       "      <th>0</th>\n",
       "      <td>2015-01-01 06:00:00</td>\n",
       "      <td>1</td>\n",
       "      <td>176.217853</td>\n",
       "      <td>418.504078</td>\n",
       "      <td>113.077935</td>\n",
       "      <td>45.087686</td>\n",
       "    </tr>\n",
       "    <tr>\n",
       "      <th>92489</th>\n",
       "      <td>2015-01-01 06:00:00</td>\n",
       "      <td>1</td>\n",
       "      <td>176.217853</td>\n",
       "      <td>418.504078</td>\n",
       "      <td>113.077935</td>\n",
       "      <td>45.087686</td>\n",
       "    </tr>\n",
       "    <tr>\n",
       "      <th>92490</th>\n",
       "      <td>2015-01-01 07:00:00</td>\n",
       "      <td>1</td>\n",
       "      <td>162.879223</td>\n",
       "      <td>402.747490</td>\n",
       "      <td>95.460525</td>\n",
       "      <td>43.413973</td>\n",
       "    </tr>\n",
       "    <tr>\n",
       "      <th>1</th>\n",
       "      <td>2015-01-01 07:00:00</td>\n",
       "      <td>1</td>\n",
       "      <td>162.879223</td>\n",
       "      <td>402.747490</td>\n",
       "      <td>95.460525</td>\n",
       "      <td>43.413973</td>\n",
       "    </tr>\n",
       "    <tr>\n",
       "      <th>2</th>\n",
       "      <td>2015-01-01 08:00:00</td>\n",
       "      <td>1</td>\n",
       "      <td>170.989902</td>\n",
       "      <td>527.349825</td>\n",
       "      <td>75.237905</td>\n",
       "      <td>34.178847</td>\n",
       "    </tr>\n",
       "  </tbody>\n",
       "</table>\n",
       "</div>"
      ],
      "text/plain": [
       "                 datetime  machineID        volt      rotate    pressure  \\\n",
       "0     2015-01-01 06:00:00          1  176.217853  418.504078  113.077935   \n",
       "92489 2015-01-01 06:00:00          1  176.217853  418.504078  113.077935   \n",
       "92490 2015-01-01 07:00:00          1  162.879223  402.747490   95.460525   \n",
       "1     2015-01-01 07:00:00          1  162.879223  402.747490   95.460525   \n",
       "2     2015-01-01 08:00:00          1  170.989902  527.349825   75.237905   \n",
       "\n",
       "       vibration  \n",
       "0      45.087686  \n",
       "92489  45.087686  \n",
       "92490  43.413973  \n",
       "1      43.413973  \n",
       "2      34.178847  "
      ]
     },
     "execution_count": 447,
     "metadata": {},
     "output_type": "execute_result"
    }
   ],
   "source": [
    "# look at an example, machine 1\n",
    "mask = sensorData['machineID'] == 1\n",
    "sensorData[mask].head(5)"
   ]
  },
  {
   "cell_type": "code",
   "execution_count": 448,
   "metadata": {},
   "outputs": [
    {
     "data": {
      "text/plain": [
       "8761"
      ]
     },
     "execution_count": 448,
     "metadata": {},
     "output_type": "execute_result"
    }
   ],
   "source": [
    "# looking at the results above, their appears to be duplicated data based on the 'datetime' feature, checking the sensor\n",
    "    # readings next it looks obvious these are just dublicated rows. Investigate a litte here:\n",
    "sum(sensorData[mask].duplicated('datetime'))"
   ]
  },
  {
   "cell_type": "code",
   "execution_count": 449,
   "metadata": {
    "scrolled": true
   },
   "outputs": [
    {
     "data": {
      "text/plain": [
       "0"
      ]
     },
     "execution_count": 449,
     "metadata": {},
     "output_type": "execute_result"
    }
   ],
   "source": [
    "# cleaning the duplicate data and check\n",
    "\n",
    "# for some reason using all the telemetry feature names resulted in an error. Just using Volt gives the desired result though\n",
    "sensorData.drop_duplicates(subset=['datetime', 'machineID', 'volt'], inplace = True)\n",
    "# check for duplicates\n",
    "sum(sensorData[mask].duplicated('datetime'))"
   ]
  },
  {
   "cell_type": "code",
   "execution_count": 450,
   "metadata": {
    "scrolled": true
   },
   "outputs": [
    {
     "data": {
      "text/html": [
       "<div>\n",
       "<style scoped>\n",
       "    .dataframe tbody tr th:only-of-type {\n",
       "        vertical-align: middle;\n",
       "    }\n",
       "\n",
       "    .dataframe tbody tr th {\n",
       "        vertical-align: top;\n",
       "    }\n",
       "\n",
       "    .dataframe thead th {\n",
       "        text-align: right;\n",
       "    }\n",
       "</style>\n",
       "<table border=\"1\" class=\"dataframe\">\n",
       "  <thead>\n",
       "    <tr style=\"text-align: right;\">\n",
       "      <th></th>\n",
       "      <th>datetime</th>\n",
       "      <th>machineID</th>\n",
       "      <th>volt</th>\n",
       "      <th>rotate</th>\n",
       "      <th>pressure</th>\n",
       "      <th>vibration</th>\n",
       "    </tr>\n",
       "  </thead>\n",
       "  <tbody>\n",
       "    <tr>\n",
       "      <th>8761</th>\n",
       "      <td>2015-01-01 06:00:00</td>\n",
       "      <td>2</td>\n",
       "      <td>176.558913</td>\n",
       "      <td>424.624162</td>\n",
       "      <td>76.005332</td>\n",
       "      <td>43.767049</td>\n",
       "    </tr>\n",
       "    <tr>\n",
       "      <th>8762</th>\n",
       "      <td>2015-01-01 07:00:00</td>\n",
       "      <td>2</td>\n",
       "      <td>158.282044</td>\n",
       "      <td>432.372960</td>\n",
       "      <td>110.907806</td>\n",
       "      <td>37.267114</td>\n",
       "    </tr>\n",
       "    <tr>\n",
       "      <th>101252</th>\n",
       "      <td>2015-01-01 08:00:00</td>\n",
       "      <td>2</td>\n",
       "      <td>168.242028</td>\n",
       "      <td>454.629639</td>\n",
       "      <td>97.877007</td>\n",
       "      <td>39.709461</td>\n",
       "    </tr>\n",
       "    <tr>\n",
       "      <th>101253</th>\n",
       "      <td>2015-01-01 09:00:00</td>\n",
       "      <td>2</td>\n",
       "      <td>180.280316</td>\n",
       "      <td>438.391022</td>\n",
       "      <td>84.440430</td>\n",
       "      <td>40.490443</td>\n",
       "    </tr>\n",
       "    <tr>\n",
       "      <th>101254</th>\n",
       "      <td>2015-01-01 10:00:00</td>\n",
       "      <td>2</td>\n",
       "      <td>169.719531</td>\n",
       "      <td>473.055664</td>\n",
       "      <td>110.395683</td>\n",
       "      <td>41.229578</td>\n",
       "    </tr>\n",
       "    <tr>\n",
       "      <th>101255</th>\n",
       "      <td>2015-01-01 11:00:00</td>\n",
       "      <td>2</td>\n",
       "      <td>191.257247</td>\n",
       "      <td>369.738792</td>\n",
       "      <td>101.223451</td>\n",
       "      <td>45.616543</td>\n",
       "    </tr>\n",
       "    <tr>\n",
       "      <th>8767</th>\n",
       "      <td>2015-01-01 12:00:00</td>\n",
       "      <td>2</td>\n",
       "      <td>186.282977</td>\n",
       "      <td>483.698416</td>\n",
       "      <td>115.061863</td>\n",
       "      <td>50.690561</td>\n",
       "    </tr>\n",
       "    <tr>\n",
       "      <th>101257</th>\n",
       "      <td>2015-01-01 13:00:00</td>\n",
       "      <td>2</td>\n",
       "      <td>179.367188</td>\n",
       "      <td>450.943961</td>\n",
       "      <td>94.378019</td>\n",
       "      <td>38.684815</td>\n",
       "    </tr>\n",
       "    <tr>\n",
       "      <th>101258</th>\n",
       "      <td>2015-01-01 14:00:00</td>\n",
       "      <td>2</td>\n",
       "      <td>168.893782</td>\n",
       "      <td>494.876313</td>\n",
       "      <td>101.910022</td>\n",
       "      <td>34.566681</td>\n",
       "    </tr>\n",
       "    <tr>\n",
       "      <th>101259</th>\n",
       "      <td>2015-01-01 15:00:00</td>\n",
       "      <td>2</td>\n",
       "      <td>158.595797</td>\n",
       "      <td>427.282619</td>\n",
       "      <td>92.470163</td>\n",
       "      <td>32.160232</td>\n",
       "    </tr>\n",
       "    <tr>\n",
       "      <th>8771</th>\n",
       "      <td>2015-01-01 16:00:00</td>\n",
       "      <td>2</td>\n",
       "      <td>165.754394</td>\n",
       "      <td>457.282676</td>\n",
       "      <td>108.007373</td>\n",
       "      <td>46.980527</td>\n",
       "    </tr>\n",
       "    <tr>\n",
       "      <th>8772</th>\n",
       "      <td>2015-01-01 17:00:00</td>\n",
       "      <td>2</td>\n",
       "      <td>194.108213</td>\n",
       "      <td>400.101296</td>\n",
       "      <td>108.837258</td>\n",
       "      <td>43.563299</td>\n",
       "    </tr>\n",
       "    <tr>\n",
       "      <th>8773</th>\n",
       "      <td>2015-01-01 18:00:00</td>\n",
       "      <td>2</td>\n",
       "      <td>153.540806</td>\n",
       "      <td>422.978361</td>\n",
       "      <td>99.854820</td>\n",
       "      <td>38.077059</td>\n",
       "    </tr>\n",
       "    <tr>\n",
       "      <th>101263</th>\n",
       "      <td>2015-01-01 19:00:00</td>\n",
       "      <td>2</td>\n",
       "      <td>193.139223</td>\n",
       "      <td>404.558708</td>\n",
       "      <td>107.895507</td>\n",
       "      <td>40.089805</td>\n",
       "    </tr>\n",
       "    <tr>\n",
       "      <th>101264</th>\n",
       "      <td>2015-01-01 20:00:00</td>\n",
       "      <td>2</td>\n",
       "      <td>168.086228</td>\n",
       "      <td>543.802539</td>\n",
       "      <td>91.512681</td>\n",
       "      <td>39.400235</td>\n",
       "    </tr>\n",
       "    <tr>\n",
       "      <th>8776</th>\n",
       "      <td>2015-01-01 21:00:00</td>\n",
       "      <td>2</td>\n",
       "      <td>169.370359</td>\n",
       "      <td>392.525890</td>\n",
       "      <td>100.752167</td>\n",
       "      <td>47.020597</td>\n",
       "    </tr>\n",
       "    <tr>\n",
       "      <th>101266</th>\n",
       "      <td>2015-01-01 22:00:00</td>\n",
       "      <td>2</td>\n",
       "      <td>179.050449</td>\n",
       "      <td>465.511692</td>\n",
       "      <td>113.391190</td>\n",
       "      <td>45.082957</td>\n",
       "    </tr>\n",
       "    <tr>\n",
       "      <th>8778</th>\n",
       "      <td>2015-01-01 23:00:00</td>\n",
       "      <td>2</td>\n",
       "      <td>166.769102</td>\n",
       "      <td>477.226985</td>\n",
       "      <td>98.193479</td>\n",
       "      <td>41.516010</td>\n",
       "    </tr>\n",
       "    <tr>\n",
       "      <th>101268</th>\n",
       "      <td>2015-01-02 00:00:00</td>\n",
       "      <td>2</td>\n",
       "      <td>173.118037</td>\n",
       "      <td>469.713999</td>\n",
       "      <td>93.724533</td>\n",
       "      <td>48.273130</td>\n",
       "    </tr>\n",
       "    <tr>\n",
       "      <th>8780</th>\n",
       "      <td>2015-01-02 01:00:00</td>\n",
       "      <td>2</td>\n",
       "      <td>176.251586</td>\n",
       "      <td>447.756449</td>\n",
       "      <td>86.800353</td>\n",
       "      <td>43.268340</td>\n",
       "    </tr>\n",
       "    <tr>\n",
       "      <th>101270</th>\n",
       "      <td>2015-01-02 02:00:00</td>\n",
       "      <td>2</td>\n",
       "      <td>168.476946</td>\n",
       "      <td>480.866522</td>\n",
       "      <td>84.192712</td>\n",
       "      <td>47.356836</td>\n",
       "    </tr>\n",
       "    <tr>\n",
       "      <th>101271</th>\n",
       "      <td>2015-01-02 03:00:00</td>\n",
       "      <td>2</td>\n",
       "      <td>163.198451</td>\n",
       "      <td>388.511217</td>\n",
       "      <td>83.257619</td>\n",
       "      <td>41.601255</td>\n",
       "    </tr>\n",
       "    <tr>\n",
       "      <th>101272</th>\n",
       "      <td>2015-01-02 04:00:00</td>\n",
       "      <td>2</td>\n",
       "      <td>154.433801</td>\n",
       "      <td>381.774915</td>\n",
       "      <td>94.367118</td>\n",
       "      <td>44.460371</td>\n",
       "    </tr>\n",
       "    <tr>\n",
       "      <th>8784</th>\n",
       "      <td>2015-01-02 05:00:00</td>\n",
       "      <td>2</td>\n",
       "      <td>167.528716</td>\n",
       "      <td>445.072301</td>\n",
       "      <td>81.406120</td>\n",
       "      <td>36.416044</td>\n",
       "    </tr>\n",
       "  </tbody>\n",
       "</table>\n",
       "</div>"
      ],
      "text/plain": [
       "                  datetime  machineID        volt      rotate    pressure  \\\n",
       "8761   2015-01-01 06:00:00          2  176.558913  424.624162   76.005332   \n",
       "8762   2015-01-01 07:00:00          2  158.282044  432.372960  110.907806   \n",
       "101252 2015-01-01 08:00:00          2  168.242028  454.629639   97.877007   \n",
       "101253 2015-01-01 09:00:00          2  180.280316  438.391022   84.440430   \n",
       "101254 2015-01-01 10:00:00          2  169.719531  473.055664  110.395683   \n",
       "101255 2015-01-01 11:00:00          2  191.257247  369.738792  101.223451   \n",
       "8767   2015-01-01 12:00:00          2  186.282977  483.698416  115.061863   \n",
       "101257 2015-01-01 13:00:00          2  179.367188  450.943961   94.378019   \n",
       "101258 2015-01-01 14:00:00          2  168.893782  494.876313  101.910022   \n",
       "101259 2015-01-01 15:00:00          2  158.595797  427.282619   92.470163   \n",
       "8771   2015-01-01 16:00:00          2  165.754394  457.282676  108.007373   \n",
       "8772   2015-01-01 17:00:00          2  194.108213  400.101296  108.837258   \n",
       "8773   2015-01-01 18:00:00          2  153.540806  422.978361   99.854820   \n",
       "101263 2015-01-01 19:00:00          2  193.139223  404.558708  107.895507   \n",
       "101264 2015-01-01 20:00:00          2  168.086228  543.802539   91.512681   \n",
       "8776   2015-01-01 21:00:00          2  169.370359  392.525890  100.752167   \n",
       "101266 2015-01-01 22:00:00          2  179.050449  465.511692  113.391190   \n",
       "8778   2015-01-01 23:00:00          2  166.769102  477.226985   98.193479   \n",
       "101268 2015-01-02 00:00:00          2  173.118037  469.713999   93.724533   \n",
       "8780   2015-01-02 01:00:00          2  176.251586  447.756449   86.800353   \n",
       "101270 2015-01-02 02:00:00          2  168.476946  480.866522   84.192712   \n",
       "101271 2015-01-02 03:00:00          2  163.198451  388.511217   83.257619   \n",
       "101272 2015-01-02 04:00:00          2  154.433801  381.774915   94.367118   \n",
       "8784   2015-01-02 05:00:00          2  167.528716  445.072301   81.406120   \n",
       "\n",
       "        vibration  \n",
       "8761    43.767049  \n",
       "8762    37.267114  \n",
       "101252  39.709461  \n",
       "101253  40.490443  \n",
       "101254  41.229578  \n",
       "101255  45.616543  \n",
       "8767    50.690561  \n",
       "101257  38.684815  \n",
       "101258  34.566681  \n",
       "101259  32.160232  \n",
       "8771    46.980527  \n",
       "8772    43.563299  \n",
       "8773    38.077059  \n",
       "101263  40.089805  \n",
       "101264  39.400235  \n",
       "8776    47.020597  \n",
       "101266  45.082957  \n",
       "8778    41.516010  \n",
       "101268  48.273130  \n",
       "8780    43.268340  \n",
       "101270  47.356836  \n",
       "101271  41.601255  \n",
       "101272  44.460371  \n",
       "8784    36.416044  "
      ]
     },
     "execution_count": 450,
     "metadata": {},
     "output_type": "execute_result"
    }
   ],
   "source": [
    "# check a 24 hour period of another machine for consistancy, machine 2\n",
    "mask = sensorData['machineID'] == 2\n",
    "sensorData[mask].head(24)"
   ]
  },
  {
   "cell_type": "code",
   "execution_count": 451,
   "metadata": {},
   "outputs": [],
   "source": [
    "# organize the dataframe by 'machineID' first, then 'datetime' for easier reading\n",
    "sensorData.sort_values(['machineID', 'datetime'], inplace = True)"
   ]
  },
  {
   "cell_type": "code",
   "execution_count": 452,
   "metadata": {},
   "outputs": [
    {
     "data": {
      "text/plain": [
       "<matplotlib.legend.Legend at 0x2dd59f60>"
      ]
     },
     "execution_count": 452,
     "metadata": {},
     "output_type": "execute_result"
    },
    {
     "data": {
      "image/png": "[encoded data removed]",
      "text/plain": [
       "<Figure size 1152x432 with 1 Axes>"
      ]
     },
     "metadata": {},
     "output_type": "display_data"
    }
   ],
   "source": [
    "# plotting the first month of 'pressure' data from machine 1 for visualization, it should be noted the sensor values\n",
    "    # have not been normalized to one another hence the scale difference\n",
    "plt_df = sensorData.loc[(sensorData['machineID'] == 1) & \n",
    "                         (sensorData['datetime'] > pd.to_datetime('2014-12-31')) & \n",
    "                         (sensorData['datetime'] < pd.to_datetime('2015-02-01')), ['datetime', 'pressure', 'volt', 'rotate', 'vibration']]\n",
    "sns.set_style(\"darkgrid\")\n",
    "plt.figure(figsize=(16, 6))\n",
    "plt.plot(plt_df['datetime'], plt_df['pressure'], color = 'royalblue', label = 'Pressure')\n",
    "plt.plot(plt_df['datetime'], plt_df['volt'], color = 'purple', label = 'Voltage')\n",
    "plt.plot(plt_df['datetime'], plt_df['rotate'], color = 'teal', label = 'Rotation')\n",
    "plt.plot(plt_df['datetime'], plt_df['vibration'], color = 'tomato', label = 'Vibration')\n",
    "plt.ylabel('Sensor Readings')\n",
    "plt.xlabel('Date')\n",
    "plt.title('Machine 1 Telemetry Data in January 2015')\n",
    "plt.legend(bbox_to_anchor=(.08, .36))\n",
    "#plt.legend()"
   ]
  },
  {
   "cell_type": "markdown",
   "metadata": {},
   "source": [
    "Telemetry sensor data looks clean enough for the first pass, there are no missing values, the features have been converted to appropriate data types, and a quick visualization shows no extreme outliers in the data set."
   ]
  },
  {
   "cell_type": "markdown",
   "metadata": {},
   "source": [
    "#### Maintenance Data\n",
    "\n",
    "This csv contains components that were changed due to scheduled maintenance and failures. At the same time, the failures are logged in a separate dataset, which will likely be more pertinent to our model. After cleaning all the datasets we can compare the scheduled changes and failures to the failure data csv and check for duplication, completeness, etc."
   ]
  },
  {
   "cell_type": "code",
   "execution_count": 453,
   "metadata": {},
   "outputs": [
    {
     "name": "stdout",
     "output_type": "stream",
     "text": [
      "<class 'pandas.core.frame.DataFrame'>\n",
      "RangeIndex: 3286 entries, 0 to 3285\n",
      "Data columns (total 3 columns):\n",
      "datetime     3286 non-null datetime64[ns]\n",
      "machineID    3286 non-null int64\n",
      "comp         3286 non-null category\n",
      "dtypes: category(1), datetime64[ns](1), int64(1)\n",
      "memory usage: 54.8 KB\n"
     ]
    }
   ],
   "source": [
    "# convert the column 'datetime' to pandas datetime datatype using the infer arguement to find the fastest method for parsing\n",
    "maintenanceData['datetime'] = pd.to_datetime(maintenanceData['datetime'], infer_datetime_format = True)\n",
    "# convert the 'component' column to a categorical datatype\n",
    "maintenanceData['comp'] = maintenanceData['comp'].astype('category')\n",
    "# check\n",
    "maintenanceData.info()"
   ]
  },
  {
   "cell_type": "code",
   "execution_count": 454,
   "metadata": {},
   "outputs": [
    {
     "data": {
      "text/html": [
       "<div>\n",
       "<style scoped>\n",
       "    .dataframe tbody tr th:only-of-type {\n",
       "        vertical-align: middle;\n",
       "    }\n",
       "\n",
       "    .dataframe tbody tr th {\n",
       "        vertical-align: top;\n",
       "    }\n",
       "\n",
       "    .dataframe thead th {\n",
       "        text-align: right;\n",
       "    }\n",
       "</style>\n",
       "<table border=\"1\" class=\"dataframe\">\n",
       "  <thead>\n",
       "    <tr style=\"text-align: right;\">\n",
       "      <th></th>\n",
       "      <th>datetime</th>\n",
       "      <th>machineID</th>\n",
       "      <th>comp</th>\n",
       "    </tr>\n",
       "  </thead>\n",
       "  <tbody>\n",
       "    <tr>\n",
       "      <th>1509</th>\n",
       "      <td>2015-05-23 06:00:00</td>\n",
       "      <td>46</td>\n",
       "      <td>comp2</td>\n",
       "    </tr>\n",
       "    <tr>\n",
       "      <th>1120</th>\n",
       "      <td>2015-11-12 06:00:00</td>\n",
       "      <td>34</td>\n",
       "      <td>comp3</td>\n",
       "    </tr>\n",
       "    <tr>\n",
       "      <th>2506</th>\n",
       "      <td>2014-09-29 06:00:00</td>\n",
       "      <td>77</td>\n",
       "      <td>comp4</td>\n",
       "    </tr>\n",
       "    <tr>\n",
       "      <th>1963</th>\n",
       "      <td>2015-09-27 06:00:00</td>\n",
       "      <td>60</td>\n",
       "      <td>comp2</td>\n",
       "    </tr>\n",
       "    <tr>\n",
       "      <th>602</th>\n",
       "      <td>2015-02-27 06:00:00</td>\n",
       "      <td>19</td>\n",
       "      <td>comp4</td>\n",
       "    </tr>\n",
       "  </tbody>\n",
       "</table>\n",
       "</div>"
      ],
      "text/plain": [
       "                datetime  machineID   comp\n",
       "1509 2015-05-23 06:00:00         46  comp2\n",
       "1120 2015-11-12 06:00:00         34  comp3\n",
       "2506 2014-09-29 06:00:00         77  comp4\n",
       "1963 2015-09-27 06:00:00         60  comp2\n",
       "602  2015-02-27 06:00:00         19  comp4"
      ]
     },
     "execution_count": 454,
     "metadata": {},
     "output_type": "execute_result"
    }
   ],
   "source": [
    "# take a look at some data\n",
    "maintenanceData.sample(5)"
   ]
  },
  {
   "cell_type": "code",
   "execution_count": 455,
   "metadata": {
    "scrolled": true
   },
   "outputs": [
    {
     "data": {
      "text/html": [
       "<div>\n",
       "<style scoped>\n",
       "    .dataframe tbody tr th:only-of-type {\n",
       "        vertical-align: middle;\n",
       "    }\n",
       "\n",
       "    .dataframe tbody tr th {\n",
       "        vertical-align: top;\n",
       "    }\n",
       "\n",
       "    .dataframe thead th {\n",
       "        text-align: right;\n",
       "    }\n",
       "</style>\n",
       "<table border=\"1\" class=\"dataframe\">\n",
       "  <thead>\n",
       "    <tr style=\"text-align: right;\">\n",
       "      <th></th>\n",
       "      <th>datetime</th>\n",
       "      <th>machineID</th>\n",
       "      <th>comp</th>\n",
       "    </tr>\n",
       "  </thead>\n",
       "  <tbody>\n",
       "    <tr>\n",
       "      <th>718</th>\n",
       "      <td>2015-11-03 06:00:00</td>\n",
       "      <td>22</td>\n",
       "      <td>3</td>\n",
       "    </tr>\n",
       "    <tr>\n",
       "      <th>2313</th>\n",
       "      <td>2015-11-09 06:00:00</td>\n",
       "      <td>70</td>\n",
       "      <td>1</td>\n",
       "    </tr>\n",
       "    <tr>\n",
       "      <th>2086</th>\n",
       "      <td>2015-05-20 06:00:00</td>\n",
       "      <td>64</td>\n",
       "      <td>4</td>\n",
       "    </tr>\n",
       "  </tbody>\n",
       "</table>\n",
       "</div>"
      ],
      "text/plain": [
       "                datetime  machineID  comp\n",
       "718  2015-11-03 06:00:00         22     3\n",
       "2313 2015-11-09 06:00:00         70     1\n",
       "2086 2015-05-20 06:00:00         64     4"
      ]
     },
     "execution_count": 455,
     "metadata": {},
     "output_type": "execute_result"
    }
   ],
   "source": [
    "# remove the begnning characters from 'comp' column the datatype to an integer\n",
    "maintenanceData['comp'] = maintenanceData['comp'].str[4:].astype(int)\n",
    "maintenanceData.sample(3)"
   ]
  },
  {
   "cell_type": "code",
   "execution_count": 456,
   "metadata": {},
   "outputs": [
    {
     "data": {
      "text/plain": [
       "0"
      ]
     },
     "execution_count": 456,
     "metadata": {},
     "output_type": "execute_result"
    }
   ],
   "source": [
    "# check for duplicated rows by 'datetime', 'machineID', and 'comp' \n",
    "maintenanceData.duplicated(['datetime', 'machineID', 'comp']).sum()"
   ]
  },
  {
   "cell_type": "code",
   "execution_count": 457,
   "metadata": {},
   "outputs": [],
   "source": [
    "# create new columns with a binary identifier for component changes to assess if more than one\n",
    "    # component was changed on the same machine at the same time\n",
    "maintenanceData = pd.concat([maintenanceData, pd.get_dummies(maintenanceData.comp)], 1).groupby(['datetime','machineID']).sum().reset_index()"
   ]
  },
  {
   "cell_type": "code",
   "execution_count": 458,
   "metadata": {
    "scrolled": true
   },
   "outputs": [
    {
     "data": {
      "text/html": [
       "<div>\n",
       "<style scoped>\n",
       "    .dataframe tbody tr th:only-of-type {\n",
       "        vertical-align: middle;\n",
       "    }\n",
       "\n",
       "    .dataframe tbody tr th {\n",
       "        vertical-align: top;\n",
       "    }\n",
       "\n",
       "    .dataframe thead th {\n",
       "        text-align: right;\n",
       "    }\n",
       "</style>\n",
       "<table border=\"1\" class=\"dataframe\">\n",
       "  <thead>\n",
       "    <tr style=\"text-align: right;\">\n",
       "      <th></th>\n",
       "      <th>datetime</th>\n",
       "      <th>machineID</th>\n",
       "      <th>mComp_1</th>\n",
       "      <th>mComp_2</th>\n",
       "      <th>mComp_3</th>\n",
       "      <th>mComp_4</th>\n",
       "    </tr>\n",
       "  </thead>\n",
       "  <tbody>\n",
       "    <tr>\n",
       "      <th>612</th>\n",
       "      <td>2015-02-17 06:00:00</td>\n",
       "      <td>76</td>\n",
       "      <td>0</td>\n",
       "      <td>0</td>\n",
       "      <td>1</td>\n",
       "      <td>0</td>\n",
       "    </tr>\n",
       "    <tr>\n",
       "      <th>2164</th>\n",
       "      <td>2015-11-02 06:00:00</td>\n",
       "      <td>26</td>\n",
       "      <td>1</td>\n",
       "      <td>0</td>\n",
       "      <td>0</td>\n",
       "      <td>1</td>\n",
       "    </tr>\n",
       "    <tr>\n",
       "      <th>1458</th>\n",
       "      <td>2015-07-06 06:00:00</td>\n",
       "      <td>31</td>\n",
       "      <td>1</td>\n",
       "      <td>0</td>\n",
       "      <td>1</td>\n",
       "      <td>0</td>\n",
       "    </tr>\n",
       "  </tbody>\n",
       "</table>\n",
       "</div>"
      ],
      "text/plain": [
       "                datetime  machineID  mComp_1  mComp_2  mComp_3  mComp_4\n",
       "612  2015-02-17 06:00:00         76        0        0        1        0\n",
       "2164 2015-11-02 06:00:00         26        1        0        0        1\n",
       "1458 2015-07-06 06:00:00         31        1        0        1        0"
      ]
     },
     "execution_count": 458,
     "metadata": {},
     "output_type": "execute_result"
    }
   ],
   "source": [
    "# drop the original 'comp' column\n",
    "maintenanceData.drop(['comp'], axis=1, inplace=True)\n",
    "# rename the columns\n",
    "maintenanceData.columns = ['datetime', 'machineID', 'mComp_1', 'mComp_2', 'mComp_3', 'mComp_4']\n",
    "maintenanceData.sample(3)"
   ]
  },
  {
   "cell_type": "code",
   "execution_count": 459,
   "metadata": {},
   "outputs": [
    {
     "name": "stdout",
     "output_type": "stream",
     "text": [
      "True\n",
      "0\n"
     ]
    }
   ],
   "source": [
    "# check that the concatenation worked and get_dummies columns has multiple entries for different components\n",
    "    # under the same 'datetime' and 'machineID'\n",
    "print(((maintenanceData['mComp_1'] == 1) & (maintenanceData['mComp_2'] == 1)).any())\n",
    "# check for duplicates in 'datetime' and 'machineID', there should be none\n",
    "print(maintenanceData.duplicated(['datetime', 'machineID']).sum())"
   ]
  },
  {
   "cell_type": "code",
   "execution_count": 460,
   "metadata": {},
   "outputs": [
    {
     "data": {
      "text/plain": [
       "Text(0.5,0,'Components')"
      ]
     },
     "execution_count": 460,
     "metadata": {},
     "output_type": "execute_result"
    },
    {
     "data": {
      "image/png": "[encoded data removed]",
      "text/plain": [
       "<Figure size 648x360 with 1 Axes>"
      ]
     },
     "metadata": {},
     "output_type": "display_data"
    }
   ],
   "source": [
    "# graph the sums of individual component maintenance\n",
    "sns.set_style(\"darkgrid\")\n",
    "plt.figure(figsize=(9, 5))\n",
    "maintenanceData.sum().reindex(index = ['mComp_1', 'mComp_2', 'mComp_3', 'mComp_4'], axis = 1).plot(kind = 'bar', color = 'royalblue').set_title('Component Maintenance (Scheduled & Unscheduled)')\n",
    "plt.ylabel('Count')\n",
    "plt.xlabel('Components')"
   ]
  },
  {
   "cell_type": "markdown",
   "metadata": {},
   "source": [
    "#### Origins Data\n",
    "\n",
    "The vintage of each machine should add valuable correlation to the frequency of scheduled and failure component repairs."
   ]
  },
  {
   "cell_type": "code",
   "execution_count": 461,
   "metadata": {},
   "outputs": [
    {
     "name": "stdout",
     "output_type": "stream",
     "text": [
      "<class 'pandas.core.frame.DataFrame'>\n",
      "RangeIndex: 100 entries, 0 to 99\n",
      "Data columns (total 3 columns):\n",
      "machineID    100 non-null int64\n",
      "model        100 non-null category\n",
      "age          100 non-null int64\n",
      "dtypes: category(1), int64(2)\n",
      "memory usage: 1.9 KB\n"
     ]
    }
   ],
   "source": [
    "# change the 'model' column to categorical\n",
    "originsData['model'] = originsData['model'].astype('category')\n",
    "# check if the data is uniform\n",
    "originsData.info()"
   ]
  },
  {
   "cell_type": "code",
   "execution_count": 462,
   "metadata": {},
   "outputs": [],
   "source": [
    "# remove the begnning characters from 'model' column\n",
    "originsData['model'] = originsData['model'].str[5:]"
   ]
  },
  {
   "cell_type": "code",
   "execution_count": 463,
   "metadata": {},
   "outputs": [
    {
     "data": {
      "text/plain": [
       "count    100.000000\n",
       "mean      11.330000\n",
       "std        5.856974\n",
       "min        0.000000\n",
       "25%        6.750000\n",
       "50%       12.000000\n",
       "75%       16.000000\n",
       "max       20.000000\n",
       "Name: age, dtype: float64"
      ]
     },
     "execution_count": 463,
     "metadata": {},
     "output_type": "execute_result"
    }
   ],
   "source": [
    "# check some statistics on the age of the machinery\n",
    "originsData['age'].describe()"
   ]
  },
  {
   "cell_type": "code",
   "execution_count": 464,
   "metadata": {},
   "outputs": [
    {
     "data": {
      "text/html": [
       "<div>\n",
       "<style scoped>\n",
       "    .dataframe tbody tr th:only-of-type {\n",
       "        vertical-align: middle;\n",
       "    }\n",
       "\n",
       "    .dataframe tbody tr th {\n",
       "        vertical-align: top;\n",
       "    }\n",
       "\n",
       "    .dataframe thead th {\n",
       "        text-align: right;\n",
       "    }\n",
       "</style>\n",
       "<table border=\"1\" class=\"dataframe\">\n",
       "  <thead>\n",
       "    <tr style=\"text-align: right;\">\n",
       "      <th></th>\n",
       "      <th>machineID</th>\n",
       "      <th>model</th>\n",
       "      <th>age</th>\n",
       "    </tr>\n",
       "  </thead>\n",
       "  <tbody>\n",
       "    <tr>\n",
       "      <th>21</th>\n",
       "      <td>22</td>\n",
       "      <td>1</td>\n",
       "      <td>14</td>\n",
       "    </tr>\n",
       "    <tr>\n",
       "      <th>63</th>\n",
       "      <td>64</td>\n",
       "      <td>3</td>\n",
       "      <td>20</td>\n",
       "    </tr>\n",
       "    <tr>\n",
       "      <th>22</th>\n",
       "      <td>23</td>\n",
       "      <td>1</td>\n",
       "      <td>17</td>\n",
       "    </tr>\n",
       "  </tbody>\n",
       "</table>\n",
       "</div>"
      ],
      "text/plain": [
       "    machineID model  age\n",
       "21         22     1   14\n",
       "63         64     3   20\n",
       "22         23     1   17"
      ]
     },
     "execution_count": 464,
     "metadata": {},
     "output_type": "execute_result"
    }
   ],
   "source": [
    "# view sample data\n",
    "originsData.sample(3)"
   ]
  },
  {
   "cell_type": "code",
   "execution_count": 465,
   "metadata": {},
   "outputs": [
    {
     "data": {
      "text/plain": [
       "Text(0.5,0,'Model')"
      ]
     },
     "execution_count": 465,
     "metadata": {},
     "output_type": "execute_result"
    },
    {
     "data": {
      "image/png": "[encoded data removed]",
      "text/plain": [
       "<Figure size 648x360 with 1 Axes>"
      ]
     },
     "metadata": {},
     "output_type": "display_data"
    }
   ],
   "source": [
    "# quantity of each model\n",
    "sns.set_style(\"darkgrid\")\n",
    "plt.figure(figsize=(9, 5))\n",
    "originsData.model.value_counts().sort_index().plot(kind = 'bar', color = 'royalblue').set_title('Machine Model Sums')\n",
    "plt.ylabel('Count')\n",
    "plt.xlabel('Model')"
   ]
  },
  {
   "cell_type": "code",
   "execution_count": 466,
   "metadata": {},
   "outputs": [
    {
     "data": {
      "text/plain": [
       "Text(0.5,0,'Age')"
      ]
     },
     "execution_count": 466,
     "metadata": {},
     "output_type": "execute_result"
    },
    {
     "data": {
      "image/png": "[encoded data removed]",
      "text/plain": [
       "<Figure size 648x360 with 1 Axes>"
      ]
     },
     "metadata": {},
     "output_type": "display_data"
    }
   ],
   "source": [
    "# quantity of each vintage\n",
    "sns.set_style(\"darkgrid\")\n",
    "plt.figure(figsize=(9, 5))\n",
    "originsData.age.value_counts().sort_index().plot(kind = 'bar', color = 'royalblue').set_title('Machine Counts by Age in Years')\n",
    "plt.ylabel('Count')\n",
    "plt.xlabel('Age')"
   ]
  },
  {
   "cell_type": "markdown",
   "metadata": {},
   "source": [
    "#### Failure Data\n",
    "\n",
    "This dataset contains critical features to predicting future failures."
   ]
  },
  {
   "cell_type": "code",
   "execution_count": 467,
   "metadata": {},
   "outputs": [
    {
     "name": "stdout",
     "output_type": "stream",
     "text": [
      "<class 'pandas.core.frame.DataFrame'>\n",
      "RangeIndex: 761 entries, 0 to 760\n",
      "Data columns (total 3 columns):\n",
      "datetime     761 non-null datetime64[ns]\n",
      "machineID    761 non-null int64\n",
      "failure      761 non-null category\n",
      "dtypes: category(1), datetime64[ns](1), int64(1)\n",
      "memory usage: 12.9 KB\n"
     ]
    }
   ],
   "source": [
    "# convert the column 'datetime' to pandas datetime datatype using the infer arguement to find the fastest method for parsing\n",
    "failureData['datetime'] = pd.to_datetime(failureData['datetime'], infer_datetime_format = True)\n",
    "# change the 'failure' column to categorical\n",
    "failureData['failure'] = failureData['failure'].astype('category')\n",
    "# check for uniformity\n",
    "failureData.info()"
   ]
  },
  {
   "cell_type": "code",
   "execution_count": 468,
   "metadata": {},
   "outputs": [
    {
     "data": {
      "text/html": [
       "<div>\n",
       "<style scoped>\n",
       "    .dataframe tbody tr th:only-of-type {\n",
       "        vertical-align: middle;\n",
       "    }\n",
       "\n",
       "    .dataframe tbody tr th {\n",
       "        vertical-align: top;\n",
       "    }\n",
       "\n",
       "    .dataframe thead th {\n",
       "        text-align: right;\n",
       "    }\n",
       "</style>\n",
       "<table border=\"1\" class=\"dataframe\">\n",
       "  <thead>\n",
       "    <tr style=\"text-align: right;\">\n",
       "      <th></th>\n",
       "      <th>datetime</th>\n",
       "      <th>machineID</th>\n",
       "      <th>failure</th>\n",
       "    </tr>\n",
       "  </thead>\n",
       "  <tbody>\n",
       "    <tr>\n",
       "      <th>629</th>\n",
       "      <td>2015-09-05 06:00:00</td>\n",
       "      <td>86</td>\n",
       "      <td>1</td>\n",
       "    </tr>\n",
       "    <tr>\n",
       "      <th>10</th>\n",
       "      <td>2015-12-29 06:00:00</td>\n",
       "      <td>2</td>\n",
       "      <td>2</td>\n",
       "    </tr>\n",
       "    <tr>\n",
       "      <th>133</th>\n",
       "      <td>2015-06-27 06:00:00</td>\n",
       "      <td>19</td>\n",
       "      <td>4</td>\n",
       "    </tr>\n",
       "  </tbody>\n",
       "</table>\n",
       "</div>"
      ],
      "text/plain": [
       "               datetime  machineID failure\n",
       "629 2015-09-05 06:00:00         86       1\n",
       "10  2015-12-29 06:00:00          2       2\n",
       "133 2015-06-27 06:00:00         19       4"
      ]
     },
     "execution_count": 468,
     "metadata": {},
     "output_type": "execute_result"
    }
   ],
   "source": [
    "# remove the begnning characters from 'failure' column\n",
    "failureData['failure'] = failureData['failure'].str[4:]\n",
    "failureData.sample(3)"
   ]
  },
  {
   "cell_type": "code",
   "execution_count": 469,
   "metadata": {},
   "outputs": [
    {
     "data": {
      "text/plain": [
       "0"
      ]
     },
     "execution_count": 469,
     "metadata": {},
     "output_type": "execute_result"
    }
   ],
   "source": [
    "# check for duplicated rows by 'datetime', 'machineID', and 'failure' \n",
    "failureData.duplicated(['datetime', 'machineID', 'failure']).sum()"
   ]
  },
  {
   "cell_type": "code",
   "execution_count": 470,
   "metadata": {},
   "outputs": [],
   "source": [
    "# create new columns with a binary identifier for component failures to assess if more than one\n",
    "    # component was failed on the same machine at the same time\n",
    "failureData = pd.concat([failureData, pd.get_dummies(failureData.failure)], 1).groupby(['datetime','machineID']).sum().reset_index()"
   ]
  },
  {
   "cell_type": "code",
   "execution_count": 471,
   "metadata": {},
   "outputs": [
    {
     "data": {
      "text/html": [
       "<div>\n",
       "<style scoped>\n",
       "    .dataframe tbody tr th:only-of-type {\n",
       "        vertical-align: middle;\n",
       "    }\n",
       "\n",
       "    .dataframe tbody tr th {\n",
       "        vertical-align: top;\n",
       "    }\n",
       "\n",
       "    .dataframe thead th {\n",
       "        text-align: right;\n",
       "    }\n",
       "</style>\n",
       "<table border=\"1\" class=\"dataframe\">\n",
       "  <thead>\n",
       "    <tr style=\"text-align: right;\">\n",
       "      <th></th>\n",
       "      <th>datetime</th>\n",
       "      <th>machineID</th>\n",
       "      <th>fComp_1</th>\n",
       "      <th>fComp_2</th>\n",
       "      <th>fComp_3</th>\n",
       "      <th>fComp_4</th>\n",
       "    </tr>\n",
       "  </thead>\n",
       "  <tbody>\n",
       "    <tr>\n",
       "      <th>535</th>\n",
       "      <td>2015-09-21 06:00:00</td>\n",
       "      <td>7</td>\n",
       "      <td>0</td>\n",
       "      <td>0</td>\n",
       "      <td>0</td>\n",
       "      <td>1</td>\n",
       "    </tr>\n",
       "    <tr>\n",
       "      <th>480</th>\n",
       "      <td>2015-08-28 06:00:00</td>\n",
       "      <td>44</td>\n",
       "      <td>1</td>\n",
       "      <td>0</td>\n",
       "      <td>0</td>\n",
       "      <td>0</td>\n",
       "    </tr>\n",
       "    <tr>\n",
       "      <th>640</th>\n",
       "      <td>2015-11-20 06:00:00</td>\n",
       "      <td>5</td>\n",
       "      <td>1</td>\n",
       "      <td>0</td>\n",
       "      <td>0</td>\n",
       "      <td>0</td>\n",
       "    </tr>\n",
       "  </tbody>\n",
       "</table>\n",
       "</div>"
      ],
      "text/plain": [
       "               datetime  machineID  fComp_1  fComp_2  fComp_3  fComp_4\n",
       "535 2015-09-21 06:00:00          7        0        0        0        1\n",
       "480 2015-08-28 06:00:00         44        1        0        0        0\n",
       "640 2015-11-20 06:00:00          5        1        0        0        0"
      ]
     },
     "execution_count": 471,
     "metadata": {},
     "output_type": "execute_result"
    }
   ],
   "source": [
    "# rename the columns\n",
    "failureData.columns = ['datetime', 'machineID', 'fComp_1', 'fComp_2', 'fComp_3', 'fComp_4']\n",
    "failureData.sample(3)"
   ]
  },
  {
   "cell_type": "code",
   "execution_count": 472,
   "metadata": {},
   "outputs": [
    {
     "name": "stdout",
     "output_type": "stream",
     "text": [
      "True\n",
      "0\n"
     ]
    }
   ],
   "source": [
    "# check that the concatenation worked and get_dummies columns has multiple entries for different components\n",
    "    # under the same 'datetime' and 'machineID'\n",
    "print(((failureData['fComp_1'] == 1) & (failureData['fComp_2'] == 1)).any())\n",
    "# check for duplicates in 'datetime' and 'machineID', there should be none\n",
    "print(failureData.duplicated(['datetime', 'machineID']).sum())"
   ]
  },
  {
   "cell_type": "code",
   "execution_count": 473,
   "metadata": {},
   "outputs": [
    {
     "data": {
      "text/plain": [
       "Text(0.5,0,'Components')"
      ]
     },
     "execution_count": 473,
     "metadata": {},
     "output_type": "execute_result"
    },
    {
     "data": {
      "image/png": "[encoded data removed]",
      "text/plain": [
       "<Figure size 648x360 with 1 Axes>"
      ]
     },
     "metadata": {},
     "output_type": "display_data"
    }
   ],
   "source": [
    "# graph the sums of individual component failures\n",
    "sns.set_style(\"darkgrid\")\n",
    "plt.figure(figsize=(9, 5))\n",
    "failureData.sum().reindex(index = ['fComp_1', 'fComp_2', 'fComp_3', 'fComp_4'], axis = 1).plot(kind = 'bar', color = 'royalblue').set_title('Component Failures Sums')\n",
    "plt.ylabel('Count')\n",
    "plt.xlabel('Components')"
   ]
  },
  {
   "cell_type": "markdown",
   "metadata": {},
   "source": [
    "#### Error Data\n",
    "\n",
    "We're going to see if there is a correlation between the errors generated on the machines, and eventual component maintenance / failure."
   ]
  },
  {
   "cell_type": "code",
   "execution_count": 474,
   "metadata": {},
   "outputs": [
    {
     "name": "stdout",
     "output_type": "stream",
     "text": [
      "<class 'pandas.core.frame.DataFrame'>\n",
      "RangeIndex: 3919 entries, 0 to 3918\n",
      "Data columns (total 3 columns):\n",
      "datetime     3919 non-null datetime64[ns]\n",
      "machineID    3919 non-null int64\n",
      "errorID      3919 non-null category\n",
      "dtypes: category(1), datetime64[ns](1), int64(1)\n",
      "memory usage: 65.3 KB\n"
     ]
    }
   ],
   "source": [
    "# convert the column 'datetime' to pandas datetime datatype using the infer arguement to find the fastest method for parsing\n",
    "errorData['datetime'] = pd.to_datetime(errorData['datetime'], infer_datetime_format = True)\n",
    "# change the 'errorID' column to categorical\n",
    "errorData['errorID'] = errorData['errorID'].astype('category')\n",
    "errorData.info()"
   ]
  },
  {
   "cell_type": "code",
   "execution_count": 475,
   "metadata": {},
   "outputs": [],
   "source": [
    "# remove the begnning characters from 'errorID' column\n",
    "errorData['errorID'] = errorData['errorID'].str[5:]"
   ]
  },
  {
   "cell_type": "code",
   "execution_count": 476,
   "metadata": {},
   "outputs": [
    {
     "data": {
      "text/html": [
       "<div>\n",
       "<style scoped>\n",
       "    .dataframe tbody tr th:only-of-type {\n",
       "        vertical-align: middle;\n",
       "    }\n",
       "\n",
       "    .dataframe tbody tr th {\n",
       "        vertical-align: top;\n",
       "    }\n",
       "\n",
       "    .dataframe thead th {\n",
       "        text-align: right;\n",
       "    }\n",
       "</style>\n",
       "<table border=\"1\" class=\"dataframe\">\n",
       "  <thead>\n",
       "    <tr style=\"text-align: right;\">\n",
       "      <th></th>\n",
       "      <th>datetime</th>\n",
       "      <th>machineID</th>\n",
       "      <th>errorID</th>\n",
       "    </tr>\n",
       "  </thead>\n",
       "  <tbody>\n",
       "    <tr>\n",
       "      <th>1005</th>\n",
       "      <td>2015-07-01 22:00:00</td>\n",
       "      <td>26</td>\n",
       "      <td>1</td>\n",
       "    </tr>\n",
       "    <tr>\n",
       "      <th>233</th>\n",
       "      <td>2015-01-05 05:00:00</td>\n",
       "      <td>8</td>\n",
       "      <td>2</td>\n",
       "    </tr>\n",
       "    <tr>\n",
       "      <th>3912</th>\n",
       "      <td>2015-11-07 17:00:00</td>\n",
       "      <td>100</td>\n",
       "      <td>1</td>\n",
       "    </tr>\n",
       "  </tbody>\n",
       "</table>\n",
       "</div>"
      ],
      "text/plain": [
       "                datetime  machineID errorID\n",
       "1005 2015-07-01 22:00:00         26       1\n",
       "233  2015-01-05 05:00:00          8       2\n",
       "3912 2015-11-07 17:00:00        100       1"
      ]
     },
     "execution_count": 476,
     "metadata": {},
     "output_type": "execute_result"
    }
   ],
   "source": [
    "errorData.sample(3)"
   ]
  },
  {
   "cell_type": "code",
   "execution_count": 477,
   "metadata": {},
   "outputs": [
    {
     "data": {
      "text/plain": [
       "0"
      ]
     },
     "execution_count": 477,
     "metadata": {},
     "output_type": "execute_result"
    }
   ],
   "source": [
    "# check for duplicated rows by 'datetime', 'machineID', and 'errorID' \n",
    "errorData.duplicated(['datetime', 'machineID', 'errorID']).sum()"
   ]
  },
  {
   "cell_type": "code",
   "execution_count": 478,
   "metadata": {},
   "outputs": [],
   "source": [
    "# create new columns with a binary identifier for machine errors to assess if more than one\n",
    "    # error was generated on the same machine at the same time\n",
    "errorData = pd.concat([errorData, pd.get_dummies(errorData.errorID)], 1).groupby(['datetime','machineID']).sum().reset_index()"
   ]
  },
  {
   "cell_type": "code",
   "execution_count": 479,
   "metadata": {},
   "outputs": [
    {
     "data": {
      "text/html": [
       "<div>\n",
       "<style scoped>\n",
       "    .dataframe tbody tr th:only-of-type {\n",
       "        vertical-align: middle;\n",
       "    }\n",
       "\n",
       "    .dataframe tbody tr th {\n",
       "        vertical-align: top;\n",
       "    }\n",
       "\n",
       "    .dataframe thead th {\n",
       "        text-align: right;\n",
       "    }\n",
       "</style>\n",
       "<table border=\"1\" class=\"dataframe\">\n",
       "  <thead>\n",
       "    <tr style=\"text-align: right;\">\n",
       "      <th></th>\n",
       "      <th>datetime</th>\n",
       "      <th>machineID</th>\n",
       "      <th>error_1</th>\n",
       "      <th>error_2</th>\n",
       "      <th>error_3</th>\n",
       "      <th>error_4</th>\n",
       "      <th>error_5</th>\n",
       "    </tr>\n",
       "  </thead>\n",
       "  <tbody>\n",
       "    <tr>\n",
       "      <th>3350</th>\n",
       "      <td>2015-12-05 21:00:00</td>\n",
       "      <td>66</td>\n",
       "      <td>0</td>\n",
       "      <td>1</td>\n",
       "      <td>0</td>\n",
       "      <td>0</td>\n",
       "      <td>0</td>\n",
       "    </tr>\n",
       "    <tr>\n",
       "      <th>2530</th>\n",
       "      <td>2015-09-12 09:00:00</td>\n",
       "      <td>50</td>\n",
       "      <td>0</td>\n",
       "      <td>1</td>\n",
       "      <td>0</td>\n",
       "      <td>0</td>\n",
       "      <td>0</td>\n",
       "    </tr>\n",
       "    <tr>\n",
       "      <th>2577</th>\n",
       "      <td>2015-09-17 15:00:00</td>\n",
       "      <td>26</td>\n",
       "      <td>0</td>\n",
       "      <td>0</td>\n",
       "      <td>0</td>\n",
       "      <td>0</td>\n",
       "      <td>1</td>\n",
       "    </tr>\n",
       "  </tbody>\n",
       "</table>\n",
       "</div>"
      ],
      "text/plain": [
       "                datetime  machineID  error_1  error_2  error_3  error_4  \\\n",
       "3350 2015-12-05 21:00:00         66        0        1        0        0   \n",
       "2530 2015-09-12 09:00:00         50        0        1        0        0   \n",
       "2577 2015-09-17 15:00:00         26        0        0        0        0   \n",
       "\n",
       "      error_5  \n",
       "3350        0  \n",
       "2530        0  \n",
       "2577        1  "
      ]
     },
     "execution_count": 479,
     "metadata": {},
     "output_type": "execute_result"
    }
   ],
   "source": [
    "# rename the columns\n",
    "errorData.columns = ['datetime', 'machineID', 'error_1', 'error_2', 'error_3', 'error_4', 'error_5']\n",
    "# their are five different error alarms that could be generated, not to be confused with the four possible component failures\n",
    "errorData.sample(3)"
   ]
  },
  {
   "cell_type": "code",
   "execution_count": 480,
   "metadata": {},
   "outputs": [
    {
     "name": "stdout",
     "output_type": "stream",
     "text": [
      "True\n",
      "0\n"
     ]
    }
   ],
   "source": [
    "# check that the concatenation worked and get_dummies columns has multiple entries for different errors\n",
    "    # under the same 'datetime' and 'machineID'\n",
    "print(((errorData['error_1'] == 1) & (errorData['error_2'] == 1)).any())\n",
    "# check for duplicates in 'datetime' and 'machineID', there should be none\n",
    "print(errorData.duplicated(['datetime', 'machineID']).sum())"
   ]
  },
  {
   "cell_type": "code",
   "execution_count": 481,
   "metadata": {},
   "outputs": [
    {
     "data": {
      "text/plain": [
       "Text(0.5,0,'Error')"
      ]
     },
     "execution_count": 481,
     "metadata": {},
     "output_type": "execute_result"
    },
    {
     "data": {
      "image/png": "[encoded data removed]",
      "text/plain": [
       "<Figure size 576x288 with 1 Axes>"
      ]
     },
     "metadata": {},
     "output_type": "display_data"
    }
   ],
   "source": [
    "sns.set_style(\"darkgrid\")\n",
    "plt.figure(figsize=(8, 4))\n",
    "errorData.sum().reindex(index = ['error_1', 'error_2', 'error_3', 'error_4', 'error_5'], axis = 1).plot(kind = 'bar', color = 'royalblue').set_title('Error Alarm Sums')\n",
    "plt.ylabel('Count')\n",
    "plt.xlabel('Error')"
   ]
  },
  {
   "cell_type": "markdown",
   "metadata": {},
   "source": [
    "### 4. Feature Engineering, Label Construction, Merging, and Final Cleaning\n",
    "\n"
   ]
  },
  {
   "cell_type": "markdown",
   "metadata": {},
   "source": [
    "#### Sensor Lag Windows\n",
    "In the following, a rolling lag window is created for the sensor data based on a three hour window per the requirements in 'Train / Split'. In order to create a lag window, the data must be supplied with a time stamp. Generally, sensor data is, which makes it easy to create these windows. The lag windows create a summary that we can view statistics on like mean, standard deviation, minimums, maximums, etc."
   ]
  },
  {
   "cell_type": "code",
   "execution_count": 482,
   "metadata": {},
   "outputs": [],
   "source": [
    "# means lag window\n",
    "\n",
    "# create an empty list 'temp'\n",
    "temp = [] \n",
    "# define the feature columns to be iterated\n",
    "features = ['volt', 'rotate', 'pressure', 'vibration']\n",
    "# loop\n",
    "for column in features:\n",
    "    # append to the list 'temp' a three hour (3H) sample taking the mean for each 'column' from the 'features' list\n",
    "    temp.append(pd.pivot_table(sensorData, index = 'datetime', columns = 'machineID', values = column)\n",
    "                .resample('3H', closed = 'left', how = 'mean', label = 'right').unstack())\n",
    "# create a dataframe to hold the information and concat the 'temp' list\n",
    "sensorData3H_mean = pd.concat(temp, axis = 1)\n",
    "# name the columns using the list 'features' + '3H_mean'\n",
    "sensorData3H_mean.columns = [n + '3H_mean' for n in features]\n",
    "# reset the index values\n",
    "sensorData3H_mean.reset_index(inplace = True)\n",
    "\n",
    "\n",
    "# standard deviation lag window\n",
    "\n",
    "# create an empty list 'temp'\n",
    "temp = [] \n",
    "# define the feature columns to be iterated\n",
    "features = ['volt', 'rotate', 'pressure', 'vibration']\n",
    "# loop\n",
    "for column in features:\n",
    "    # append to the list 'temp' a three hour (3H) sample taking the standard deviation for each 'column' from the 'features' list\n",
    "    temp.append(pd.pivot_table(sensorData, index = 'datetime', columns = 'machineID', values = column)\n",
    "                .resample('3H', how = 'std', closed = 'left', label = 'right').unstack())\n",
    "# create a dataframe to hold the information and concat the 'temp' list\n",
    "sensorData3H_std = pd.concat(temp, axis = 1)\n",
    "# name the columns using the list 'features' + '3H_std'\n",
    "sensorData3H_std.columns = [n + '3H_std' for n in features]\n",
    "# reset the index values\n",
    "sensorData3H_std.reset_index(inplace = True)"
   ]
  },
  {
   "cell_type": "code",
   "execution_count": 483,
   "metadata": {},
   "outputs": [
    {
     "data": {
      "text/html": [
       "<div>\n",
       "<style scoped>\n",
       "    .dataframe tbody tr th:only-of-type {\n",
       "        vertical-align: middle;\n",
       "    }\n",
       "\n",
       "    .dataframe tbody tr th {\n",
       "        vertical-align: top;\n",
       "    }\n",
       "\n",
       "    .dataframe thead th {\n",
       "        text-align: right;\n",
       "    }\n",
       "</style>\n",
       "<table border=\"1\" class=\"dataframe\">\n",
       "  <thead>\n",
       "    <tr style=\"text-align: right;\">\n",
       "      <th></th>\n",
       "      <th>machineID</th>\n",
       "      <th>datetime</th>\n",
       "      <th>volt3H_mean</th>\n",
       "      <th>rotate3H_mean</th>\n",
       "      <th>pressure3H_mean</th>\n",
       "      <th>vibration3H_mean</th>\n",
       "    </tr>\n",
       "  </thead>\n",
       "  <tbody>\n",
       "    <tr>\n",
       "      <th>0</th>\n",
       "      <td>1</td>\n",
       "      <td>2015-01-01 09:00:00</td>\n",
       "      <td>170.028993</td>\n",
       "      <td>449.533798</td>\n",
       "      <td>94.592122</td>\n",
       "      <td>40.893502</td>\n",
       "    </tr>\n",
       "    <tr>\n",
       "      <th>1</th>\n",
       "      <td>1</td>\n",
       "      <td>2015-01-01 12:00:00</td>\n",
       "      <td>164.192565</td>\n",
       "      <td>403.949857</td>\n",
       "      <td>105.687417</td>\n",
       "      <td>34.255891</td>\n",
       "    </tr>\n",
       "    <tr>\n",
       "      <th>2</th>\n",
       "      <td>1</td>\n",
       "      <td>2015-01-01 15:00:00</td>\n",
       "      <td>168.134445</td>\n",
       "      <td>435.781707</td>\n",
       "      <td>107.793709</td>\n",
       "      <td>41.239405</td>\n",
       "    </tr>\n",
       "  </tbody>\n",
       "</table>\n",
       "</div>"
      ],
      "text/plain": [
       "   machineID            datetime  volt3H_mean  rotate3H_mean  pressure3H_mean  \\\n",
       "0          1 2015-01-01 09:00:00   170.028993     449.533798        94.592122   \n",
       "1          1 2015-01-01 12:00:00   164.192565     403.949857       105.687417   \n",
       "2          1 2015-01-01 15:00:00   168.134445     435.781707       107.793709   \n",
       "\n",
       "   vibration3H_mean  \n",
       "0         40.893502  \n",
       "1         34.255891  \n",
       "2         41.239405  "
      ]
     },
     "execution_count": 483,
     "metadata": {},
     "output_type": "execute_result"
    }
   ],
   "source": [
    "# check for three hour increments\n",
    "sensorData3H_mean.head(3)"
   ]
  },
  {
   "cell_type": "code",
   "execution_count": 484,
   "metadata": {},
   "outputs": [
    {
     "data": {
      "text/html": [
       "<div>\n",
       "<style scoped>\n",
       "    .dataframe tbody tr th:only-of-type {\n",
       "        vertical-align: middle;\n",
       "    }\n",
       "\n",
       "    .dataframe tbody tr th {\n",
       "        vertical-align: top;\n",
       "    }\n",
       "\n",
       "    .dataframe thead th {\n",
       "        text-align: right;\n",
       "    }\n",
       "</style>\n",
       "<table border=\"1\" class=\"dataframe\">\n",
       "  <thead>\n",
       "    <tr style=\"text-align: right;\">\n",
       "      <th></th>\n",
       "      <th>machineID</th>\n",
       "      <th>datetime</th>\n",
       "      <th>volt3H_std</th>\n",
       "      <th>rotate3H_std</th>\n",
       "      <th>pressure3H_std</th>\n",
       "      <th>vibration3H_std</th>\n",
       "    </tr>\n",
       "  </thead>\n",
       "  <tbody>\n",
       "    <tr>\n",
       "      <th>0</th>\n",
       "      <td>1</td>\n",
       "      <td>2015-01-01 09:00:00</td>\n",
       "      <td>6.721032</td>\n",
       "      <td>67.849599</td>\n",
       "      <td>18.934956</td>\n",
       "      <td>5.874970</td>\n",
       "    </tr>\n",
       "    <tr>\n",
       "      <th>1</th>\n",
       "      <td>1</td>\n",
       "      <td>2015-01-01 12:00:00</td>\n",
       "      <td>7.596570</td>\n",
       "      <td>50.120452</td>\n",
       "      <td>8.555032</td>\n",
       "      <td>7.662229</td>\n",
       "    </tr>\n",
       "    <tr>\n",
       "      <th>2</th>\n",
       "      <td>1</td>\n",
       "      <td>2015-01-01 15:00:00</td>\n",
       "      <td>10.124584</td>\n",
       "      <td>55.084734</td>\n",
       "      <td>5.909721</td>\n",
       "      <td>5.169304</td>\n",
       "    </tr>\n",
       "  </tbody>\n",
       "</table>\n",
       "</div>"
      ],
      "text/plain": [
       "   machineID            datetime  volt3H_std  rotate3H_std  pressure3H_std  \\\n",
       "0          1 2015-01-01 09:00:00    6.721032     67.849599       18.934956   \n",
       "1          1 2015-01-01 12:00:00    7.596570     50.120452        8.555032   \n",
       "2          1 2015-01-01 15:00:00   10.124584     55.084734        5.909721   \n",
       "\n",
       "   vibration3H_std  \n",
       "0         5.874970  \n",
       "1         7.662229  \n",
       "2         5.169304  "
      ]
     },
     "execution_count": 484,
     "metadata": {},
     "output_type": "execute_result"
    }
   ],
   "source": [
    "# check for three hour increments\n",
    "sensorData3H_std.head(3)"
   ]
  },
  {
   "cell_type": "code",
   "execution_count": 491,
   "metadata": {},
   "outputs": [
    {
     "data": {
      "text/html": [
       "<div>\n",
       "<style scoped>\n",
       "    .dataframe tbody tr th:only-of-type {\n",
       "        vertical-align: middle;\n",
       "    }\n",
       "\n",
       "    .dataframe tbody tr th {\n",
       "        vertical-align: top;\n",
       "    }\n",
       "\n",
       "    .dataframe thead th {\n",
       "        text-align: right;\n",
       "    }\n",
       "</style>\n",
       "<table border=\"1\" class=\"dataframe\">\n",
       "  <thead>\n",
       "    <tr style=\"text-align: right;\">\n",
       "      <th></th>\n",
       "      <th>machineID</th>\n",
       "      <th>datetime</th>\n",
       "      <th>volt3H_mean</th>\n",
       "      <th>rotate3H_mean</th>\n",
       "      <th>pressure3H_mean</th>\n",
       "      <th>vibration3H_mean</th>\n",
       "      <th>volt3H_std</th>\n",
       "      <th>rotate3H_std</th>\n",
       "      <th>pressure3H_std</th>\n",
       "      <th>vibration3H_std</th>\n",
       "    </tr>\n",
       "  </thead>\n",
       "  <tbody>\n",
       "    <tr>\n",
       "      <th>0</th>\n",
       "      <td>1</td>\n",
       "      <td>2015-01-01 09:00:00</td>\n",
       "      <td>170.028993</td>\n",
       "      <td>449.533798</td>\n",
       "      <td>94.592122</td>\n",
       "      <td>40.893502</td>\n",
       "      <td>6.721032</td>\n",
       "      <td>67.849599</td>\n",
       "      <td>18.934956</td>\n",
       "      <td>5.874970</td>\n",
       "    </tr>\n",
       "    <tr>\n",
       "      <th>1</th>\n",
       "      <td>1</td>\n",
       "      <td>2015-01-01 12:00:00</td>\n",
       "      <td>164.192565</td>\n",
       "      <td>403.949857</td>\n",
       "      <td>105.687417</td>\n",
       "      <td>34.255891</td>\n",
       "      <td>7.596570</td>\n",
       "      <td>50.120452</td>\n",
       "      <td>8.555032</td>\n",
       "      <td>7.662229</td>\n",
       "    </tr>\n",
       "    <tr>\n",
       "      <th>2</th>\n",
       "      <td>1</td>\n",
       "      <td>2015-01-01 15:00:00</td>\n",
       "      <td>168.134445</td>\n",
       "      <td>435.781707</td>\n",
       "      <td>107.793709</td>\n",
       "      <td>41.239405</td>\n",
       "      <td>10.124584</td>\n",
       "      <td>55.084734</td>\n",
       "      <td>5.909721</td>\n",
       "      <td>5.169304</td>\n",
       "    </tr>\n",
       "  </tbody>\n",
       "</table>\n",
       "</div>"
      ],
      "text/plain": [
       "   machineID            datetime  volt3H_mean  rotate3H_mean  pressure3H_mean  \\\n",
       "0          1 2015-01-01 09:00:00   170.028993     449.533798        94.592122   \n",
       "1          1 2015-01-01 12:00:00   164.192565     403.949857       105.687417   \n",
       "2          1 2015-01-01 15:00:00   168.134445     435.781707       107.793709   \n",
       "\n",
       "   vibration3H_mean  volt3H_std  rotate3H_std  pressure3H_std  vibration3H_std  \n",
       "0         40.893502    6.721032     67.849599       18.934956         5.874970  \n",
       "1         34.255891    7.596570     50.120452        8.555032         7.662229  \n",
       "2         41.239405   10.124584     55.084734        5.909721         5.169304  "
      ]
     },
     "execution_count": 491,
     "metadata": {},
     "output_type": "execute_result"
    }
   ],
   "source": [
    "# merge the new features into one df\n",
    "sensorLagWindow = pd.merge(sensorData3H_mean, sensorData3H_std, on = ['datetime', 'machineID']).dropna()\n",
    "# index according to 'datetime' and 'machineID'\n",
    "sensorLagWindow.groupby(['datetime','machineID']).sum().reset_index()\n",
    "# check\n",
    "sensorLagWindow.head(3)"
   ]
  },
  {
   "cell_type": "markdown",
   "metadata": {},
   "source": [
    "#### Error Lag Window\n",
    "The errors data set also contains time stamps, so we can create a similar lag window for the errors. The notable difference is we want to sum the rows for each window as opposed to averaging."
   ]
  },
  {
   "cell_type": "code",
   "execution_count": null,
   "metadata": {},
   "outputs": [],
   "source": [
    "#This first concatenates your dataframe and the output of the get_dummies call, then it \n",
    "#groups the result according to the relevant columns, takes the sum of those columns among \n",
    "#those groups and then resets the index so you don't have to deal with a multi-index data frame\n",
    "errorFeatures = pd.concat([errorData, pd.get_dummies(errorData.errorID)], 1).groupby(['machineID', 'datetime']).sum().reset_index()\n",
    "# rename the columns\n",
    "errorFeatures.columns = ['machineID', 'datetime', 'error_1', 'error_2', 'error_3', 'error_4', 'error_5']\n",
    "errorFeatures = errorFeatures.groupby(['machineID', 'datetime']).sum().reset_index()\n",
    "# create time slots matching 'sensorData', which is the most complete, and fill empty cells with 0.\n",
    "errorFeatures = sensorData[['datetime', 'machineID']].merge(errorFeatures, on=['machineID', 'datetime'], how='left').fillna(0.0)\n",
    "errorFeatures.describe()"
   ]
  },
  {
   "cell_type": "code",
   "execution_count": 492,
   "metadata": {
    "scrolled": true
   },
   "outputs": [
    {
     "data": {
      "text/html": [
       "<div>\n",
       "<style scoped>\n",
       "    .dataframe tbody tr th:only-of-type {\n",
       "        vertical-align: middle;\n",
       "    }\n",
       "\n",
       "    .dataframe tbody tr th {\n",
       "        vertical-align: top;\n",
       "    }\n",
       "\n",
       "    .dataframe thead th {\n",
       "        text-align: right;\n",
       "    }\n",
       "</style>\n",
       "<table border=\"1\" class=\"dataframe\">\n",
       "  <thead>\n",
       "    <tr style=\"text-align: right;\">\n",
       "      <th></th>\n",
       "      <th>machineID</th>\n",
       "      <th>datetime</th>\n",
       "      <th>error_1_count</th>\n",
       "      <th>error_2_count</th>\n",
       "      <th>error_3_count</th>\n",
       "      <th>error_4_count</th>\n",
       "      <th>error_5_count</th>\n",
       "    </tr>\n",
       "  </thead>\n",
       "  <tbody>\n",
       "    <tr>\n",
       "      <th>7</th>\n",
       "      <td>1</td>\n",
       "      <td>2015-01-02 06:00:00</td>\n",
       "      <td>0.0</td>\n",
       "      <td>0.0</td>\n",
       "      <td>0.0</td>\n",
       "      <td>0.0</td>\n",
       "      <td>0.0</td>\n",
       "    </tr>\n",
       "    <tr>\n",
       "      <th>8</th>\n",
       "      <td>1</td>\n",
       "      <td>2015-01-02 09:00:00</td>\n",
       "      <td>0.0</td>\n",
       "      <td>0.0</td>\n",
       "      <td>0.0</td>\n",
       "      <td>0.0</td>\n",
       "      <td>0.0</td>\n",
       "    </tr>\n",
       "    <tr>\n",
       "      <th>9</th>\n",
       "      <td>1</td>\n",
       "      <td>2015-01-02 12:00:00</td>\n",
       "      <td>0.0</td>\n",
       "      <td>0.0</td>\n",
       "      <td>0.0</td>\n",
       "      <td>0.0</td>\n",
       "      <td>0.0</td>\n",
       "    </tr>\n",
       "    <tr>\n",
       "      <th>10</th>\n",
       "      <td>1</td>\n",
       "      <td>2015-01-02 15:00:00</td>\n",
       "      <td>0.0</td>\n",
       "      <td>0.0</td>\n",
       "      <td>0.0</td>\n",
       "      <td>0.0</td>\n",
       "      <td>0.0</td>\n",
       "    </tr>\n",
       "    <tr>\n",
       "      <th>11</th>\n",
       "      <td>1</td>\n",
       "      <td>2015-01-02 18:00:00</td>\n",
       "      <td>0.0</td>\n",
       "      <td>0.0</td>\n",
       "      <td>0.0</td>\n",
       "      <td>0.0</td>\n",
       "      <td>0.0</td>\n",
       "    </tr>\n",
       "  </tbody>\n",
       "</table>\n",
       "</div>"
      ],
      "text/plain": [
       "    machineID            datetime  error_1_count  error_2_count  \\\n",
       "7           1 2015-01-02 06:00:00            0.0            0.0   \n",
       "8           1 2015-01-02 09:00:00            0.0            0.0   \n",
       "9           1 2015-01-02 12:00:00            0.0            0.0   \n",
       "10          1 2015-01-02 15:00:00            0.0            0.0   \n",
       "11          1 2015-01-02 18:00:00            0.0            0.0   \n",
       "\n",
       "    error_3_count  error_4_count  error_5_count  \n",
       "7             0.0            0.0            0.0  \n",
       "8             0.0            0.0            0.0  \n",
       "9             0.0            0.0            0.0  \n",
       "10            0.0            0.0            0.0  \n",
       "11            0.0            0.0            0.0  "
      ]
     },
     "execution_count": 492,
     "metadata": {},
     "output_type": "execute_result"
    }
   ],
   "source": [
    "errorFeatures.head()"
   ]
  },
  {
   "cell_type": "code",
   "execution_count": null,
   "metadata": {},
   "outputs": [],
   "source": [
    "temp = []\n",
    "features = ['error_%d' % i for i in range(1,6)]\n",
    "for column in features:\n",
    "    temp.append(pd.pivot_table(errorFeatures, index='datetime', \n",
    "                               columns='machineID', values=column).rolling(window = 24, \n",
    "                                                                       center = False).sum().resample('3H', \n",
    "                                                                                                      closed='left', \n",
    "                                                                                                      label='right', \n",
    "                                                                                                      how='first').unstack())\n",
    "# create time slots matching 'sensorData', which is the most complete, and fill empty cells with 0.\n",
    "errorFeatures = sensorData[['datetime', 'machineID']].merge(errorFeatures, on=['machineID', 'datetime'], how='left').fillna(0.0)\n",
    "errorFeatures = pd.concat(temp, axis = 1)\n",
    "errorFeatures.columns = [n + '_count' for n in features]\n",
    "errorFeatures.reset_index(inplace = True)\n",
    "errorFeatures = errorFeatures.dropna()\n",
    "errorFeatures.describe()"
   ]
  },
  {
   "cell_type": "code",
   "execution_count": null,
   "metadata": {},
   "outputs": [],
   "source": [
    "errorFeatures.head(5)"
   ]
  },
  {
   "cell_type": "markdown",
   "metadata": {},
   "source": [
    "#### Running 'Days Since Replacement'\n",
    "The maintenance data set in this problem should possess critical informaiton towards predicting component failures. Considering we're trying to predict a future failure, a feature that tracked how long it's been since maintenance was last performed on that component would likely be valuable."
   ]
  },
  {
   "cell_type": "code",
   "execution_count": null,
   "metadata": {},
   "outputs": [],
   "source": [
    "# create a column for each error type\n",
    "compFeatures = pd.get_dummies(maintenanceData.set_index('datetime')).reset_index()\n",
    "compFeatures.columns = ['datetime', 'machineID', 'comp_1', 'comp_2', 'comp_3', 'comp_4']\n",
    "\n",
    "# combine repairs for a given machine in a given hour\n",
    "compFeatures = compFeatures.groupby(['machineID', 'datetime']).sum().reset_index()\n",
    "\n",
    "# add timepoints where no components were replaced\n",
    "compFeatures = sensorData[['datetime', 'machineID']].merge(compFeatures,\n",
    "                                                      on=['datetime', 'machineID'],\n",
    "                                                      how='outer').fillna(0).sort_values(by=['machineID', 'datetime'])\n",
    "\n",
    "components = ['comp_1', 'comp_2', 'comp_3', 'comp_4']\n",
    "for comp in components:\n",
    "    # convert indicator to most recent date of component change\n",
    "    compFeatures.loc[compFeatures[comp] < 1, comp] = None\n",
    "    compFeatures.loc[-compFeatures[comp].isnull(), comp] = compFeatures.loc[-compFeatures[comp].isnull(), 'datetime']\n",
    "   \n",
    "    # forward-fill the most-recent date of component change\n",
    "    compFeatures[comp] = compFeatures[comp].fillna(method='ffill')\n",
    "\n",
    "# remove dates in 2014 (may have NaN or future component change dates)    \n",
    "compFeatures = compFeatures.loc[compFeatures['datetime'] > pd.to_datetime('2015-01-01')]\n",
    "# convert 'datetime' column from np to standard? not having this line was a huge problem\n",
    "compFeatures['datetime'] = pd.to_datetime(compFeatures['datetime'], infer_datetime_format = True)\n",
    "# replace dates of most recent component change with days since most recent component change\n",
    "for comp in components:\n",
    "    compFeatures[comp] = pd.to_datetime(compFeatures[comp], infer_datetime_format = True)\n",
    "    compFeatures[comp] = (compFeatures['datetime'] - compFeatures[comp]) / np.timedelta64(1, 'D')\n",
    "\n",
    "\n",
    "compFeatures.describe()\n",
    "#compFeatures = pd.read_csv('compFeatures')"
   ]
  },
  {
   "cell_type": "code",
   "execution_count": null,
   "metadata": {},
   "outputs": [],
   "source": [
    "# rename the columns\n",
    "compFeatures = compFeatures.rename(columns={'comp_1':'comp_1_daySince', \n",
    "                            'comp_2':'comp_2_daySince', \n",
    "                            'comp_3':'Comp_3_daySince', \n",
    "                            'comp_4':'comp_4_daySince'})\n",
    "# drop the repeated index column\n",
    "#compFeatures.drop(['Unnamed: 0'], axis=1, inplace=True)\n",
    "# format 'datetime'\n",
    "compFeatures['datetime'] = pd.to_datetime(compFeatures['datetime'], infer_datetime_format = True)\n",
    "compFeatures.head()"
   ]
  },
  {
   "cell_type": "markdown",
   "metadata": {},
   "source": [
    "#### Merger"
   ]
  },
  {
   "cell_type": "code",
   "execution_count": null,
   "metadata": {},
   "outputs": [],
   "source": [
    "# combine all the data sets\n",
    "DataFrames = ['sensorData', 'sensorFeatures', 'errorData', 'errorFeatures', \n",
    "              'maintenanceData', 'compFeatures', 'originsData', 'failureData']\n",
    "\n",
    "#singleDF = sensorData.merge(sensorFeatures, on = ['datetime', 'machineID'], how = 'left')\n",
    "#singleDF = singleDF.merge(errorData, on = ['datetime', 'machineID'], how = 'left')\n",
    "#singleDF = singleDF.merge(errorFeatures, on = ['datetime', 'machineID'], how = 'left')\n",
    "#singleDF = singleDF.merge(maintenanceData, on = ['datetime', 'machineID'], how = 'left')\n",
    "#singleDF = singleDF.merge(compFeatures, on = ['datetime', 'machineID'], how = 'left')\n",
    "singleDF = sensorFeatures.merge(compFeatures, on = ['datetime', 'machineID'], how = 'left')\n",
    "singleDF = singleDF.merge(errorFeatures, on = ['datetime', 'machineID'], how = 'left')\n",
    "singleDF = singleDF.merge(originsData, on = ['machineID'], how = 'left')\n",
    "#singleDF = singleDF.merge(failureData, on = ['datetime', 'machineID'], how = 'left')"
   ]
  },
  {
   "cell_type": "code",
   "execution_count": null,
   "metadata": {
    "scrolled": true
   },
   "outputs": [],
   "source": [
    "singleDF.head()"
   ]
  },
  {
   "cell_type": "markdown",
   "metadata": {},
   "source": [
    "#### Label Selection"
   ]
  },
  {
   "cell_type": "code",
   "execution_count": null,
   "metadata": {},
   "outputs": [],
   "source": [
    "singleDF.to_csv('singleDF')"
   ]
  },
  {
   "cell_type": "code",
   "execution_count": null,
   "metadata": {},
   "outputs": [],
   "source": []
  }
 ],
 "metadata": {
  "kernelspec": {
   "display_name": "Python 3",
   "language": "python",
   "name": "python3"
  },
  "language_info": {
   "codemirror_mode": {
    "name": "ipython",
    "version": 3
   },
   "file_extension": ".py",
   "mimetype": "text/x-python",
   "name": "python",
   "nbconvert_exporter": "python",
   "pygments_lexer": "ipython3",
   "version": "3.6.6"
  }
 },
 "nbformat": 4,
 "nbformat_minor": 2
}
